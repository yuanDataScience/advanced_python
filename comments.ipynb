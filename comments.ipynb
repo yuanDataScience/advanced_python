{
 "cells": [
  {
   "cell_type": "code",
   "execution_count": 21,
   "metadata": {
    "collapsed": true
   },
   "outputs": [],
   "source": [
    "from card import card, Card, Suit\n",
    "from typing import List, Optional, Union, cast, overload\n",
    "import abc\n",
    "from abc import abstractmethod\n",
    "import random"
   ]
  },
  {
   "cell_type": "markdown",
   "source": [
    "\n",
    "Comparing class_init.py and card.py, class_init.py uses\n",
    "complex __init__ in subclasses to simplify the factory\n",
    "function. However, complex __init__() methods results in\n",
    "a relatively minor improvement in the simplicity\n",
    " of a factory function. This is a common trade-off.\n",
    "\n",
    "There's a trade-off that occurs between sophisticated\n",
    " __init__() methods and factory functions. It's often\n",
    " better to push complex constructors into factory functions.\n",
    " A factory function helps separate construction and initial\n",
    " state-from-state change or other processing concerns."
   ],
   "metadata": {
    "collapsed": false
   }
  },
  {
   "cell_type": "markdown",
   "source": [
    "### using a list to create a collection of objs rather than a custom class\n",
    "In this example, a list can be used to provide the container\n",
    "for all the common function of a deck without creating a Deck class\n",
    "\n",
    "Defining a class has the advantage of creating a simplified, implementation-free interface\n",
    "to the object. In the case of the list example shown in the preceding code,\n",
    "it's not clear how much simpler a Deck class would be."
   ],
   "metadata": {
    "collapsed": false
   }
  },
  {
   "cell_type": "code",
   "execution_count": 6,
   "outputs": [
    {
     "data": {
      "text/plain": "[<card.Card at 0x7f9428b0aa50>, <card.Card at 0x7f9428b0afd0>]"
     },
     "execution_count": 6,
     "metadata": {},
     "output_type": "execute_result"
    }
   ],
   "source": [
    "d = [card(r + 1, s) for r in range(13) for s in iter(Suit)]\n",
    "random.shuffle(d)\n",
    "hand = [d.pop(), d.pop()]\n",
    "hand"
   ],
   "metadata": {
    "collapsed": false,
    "pycharm": {
     "name": "#%%\n"
    }
   }
  },
  {
   "cell_type": "markdown",
   "source": [
    "### Three designs to create and initialize collections in __init__\n",
    "* Wrap: This design pattern surrounds an existing collection definition with a simplified interface. This is an example of the more general Facade design pattern.\n",
    "* Extend: This design pattern starts with an existing collection class and extends it to add features.\n",
    "* Invent: This is designed from scratch\n",
    "\n",
    "### Wrapping a collection class\n",
    "in the following code, we define Deck class to wrap the internal collection as a list object.\n",
    "The pop() method of Deck simply delegates to the wrapped list object."
   ],
   "metadata": {
    "collapsed": false
   }
  },
  {
   "cell_type": "code",
   "execution_count": 10,
   "outputs": [
    {
     "data": {
      "text/plain": "[<card.Card at 0x7f942883b490>, <card.Card at 0x7f942883bf90>]"
     },
     "execution_count": 10,
     "metadata": {},
     "output_type": "execute_result"
    }
   ],
   "source": [
    "class Deck:\n",
    "    def __init__(self) -> None:\n",
    "        self._cards = [card(r + 1, s)\n",
    "                       for r in range(13) for s in iter(Suit)]\n",
    "        random.shuffle(self._cards)\n",
    "\n",
    "    def pop(self) -> Card:\n",
    "        return self._cards.pop()\n",
    "\n",
    "d = Deck()\n",
    "hand = [d.pop(), d.pop()]\n",
    "hand"
   ],
   "metadata": {
    "collapsed": false,
    "pycharm": {
     "name": "#%%\n"
    }
   }
  },
  {
   "cell_type": "markdown",
   "source": [
    "Generally, a Facade design pattern or wrapper class contains methods that delegate the work to the underlying implementation class. This delegation can become wordy when a lot of features are provided. For a sophisticated collection, we may wind up delegating a large number of methods to the wrapped object.\n"
   ],
   "metadata": {
    "collapsed": false,
    "pycharm": {
     "name": "#%% md\n"
    }
   }
  },
  {
   "cell_type": "markdown",
   "source": [
    "### Extending a collection class\n",
    "The following code extends list to create a collection.\n",
    "An alternative to wrapping is to extend a built-in class. By doing this, we have the advantage of not having to reimplement the pop() method; we can simply inherit it.\n",
    "The pop() method has an advantage in that it creates a class without writing too much code. In this example, extending the list class has the disadvantage that this provides many more functions than we truly need.\n"
   ],
   "metadata": {
    "collapsed": false
   }
  },
  {
   "cell_type": "code",
   "execution_count": 11,
   "outputs": [
    {
     "data": {
      "text/plain": "[<card.Card at 0x7f942883c790>, <card.FaceCard at 0x7f9428843710>]"
     },
     "execution_count": 11,
     "metadata": {},
     "output_type": "execute_result"
    }
   ],
   "source": [
    "class Deck2(list):\n",
    "    def __init__(self) -> None:\n",
    "        super().__init__(\n",
    "            card(r + 1, s) for r in range(13) for s in iter(Suit))\n",
    "        random.shuffle(self)\n",
    "\n",
    "d = Deck()\n",
    "hand = [d.pop(), d.pop()]\n",
    "hand"
   ],
   "metadata": {
    "collapsed": false,
    "pycharm": {
     "name": "#%%\n"
    }
   }
  },
  {
   "cell_type": "markdown",
   "source": [
    "\n",
    "In this case, we've initialized the list with Card instances. super().__init__() reaches up to the superclass initialization to populate our list object with an initial single deck of cards. After seeding the list, the initializer then shuffles the cards. The pop() method is directly inherited from list and works perfectly. Other methods inherited from the list class will also work.\n",
    "\n",
    "While simpler, this exposes methods such as delete() and remove(). If these additional features are undesirable, a wrapped object might be a better idea."
   ],
   "metadata": {
    "collapsed": false
   }
  },
  {
   "cell_type": "markdown",
   "source": [
    "### More requirements and design\n",
    "In a casino, cards are often dealt from a shoe that has half a dozen decks of cards all mingled together. This additional complexity suggests that we need to build our own implementation of Deck and not simply use the list class directly. Additionally, a casino shoe is not dealt fully. Instead, a marker card is inserted. Because of the marker, some cards are effectively set aside and not used for play. These cards are said to be burned."
   ],
   "metadata": {
    "collapsed": false
   }
  },
  {
   "cell_type": "code",
   "execution_count": 12,
   "outputs": [
    {
     "data": {
      "text/plain": "[<card.FaceCard at 0x7f9428afbf50>,\n <card.FaceCard at 0x7f9428afb8d0>,\n <card.Card at 0x7f942883b4d0>,\n <card.Card at 0x7f942883b2d0>,\n <card.Card at 0x7f9488724550>,\n <card.Card at 0x7f9428aed5d0>,\n <card.Card at 0x7f9448953350>,\n <card.Card at 0x7f94887241d0>,\n <card.Card at 0x7f9428aed950>]"
     },
     "execution_count": 12,
     "metadata": {},
     "output_type": "execute_result"
    }
   ],
   "source": [
    "class Deck3(list):\n",
    "    def __init__(self, decks: int = 1) -> None:\n",
    "        super().__init__()\n",
    "        for i in range(decks):\n",
    "            self.extend( card(r + 1, s)\n",
    "                    for r in range(13) for s in iter(Suit)\n",
    "                            )\n",
    "        random.shuffle(self)\n",
    "        burn = random.randint(1, 52)\n",
    "        for i in range(burn):\n",
    "            self.pop()\n",
    "deck = Deck3()\n",
    "deck"
   ],
   "metadata": {
    "collapsed": false,
    "pycharm": {
     "name": "#%%\n"
    }
   }
  },
  {
   "cell_type": "markdown",
   "source": [
    "Here, we used the __init__() method of the superclass to build an empty collection. Then, we used self.extend() to extend this collection with multiple 52- card decks. This populates the shoe. We could also use super().extend(), since we did not provide an overriding implementation in this class.\n",
    "We could also carry out the entire task via super().__init__() using a more deeply nested generator expression, as shown in the following code snippet:"
   ],
   "metadata": {
    "collapsed": false
   }
  },
  {
   "cell_type": "markdown",
   "source": [
    "`\n",
    "super().__init__(\n",
    "     card(r + 1, s)\n",
    "         for r in range(13)\n",
    "             for s in iter(Suit)\n",
    "                 for d in range(decks)\n",
    "     )\n",
    "`\n",
    "\n"
   ],
   "metadata": {
    "collapsed": false
   }
  },
  {
   "cell_type": "markdown",
   "source": [
    "### Complex composite objects\n",
    "In this example, we have a self.dealer_card instance variable based on a parameter of the __init__() method. The self.cards instance variable, however, is not based on any parameter. This kind of initialization creates an empty collection. Note that the assignment to the self.cards variable requires a type hint to inform mypy of the expected contents of the self.cards collection."
   ],
   "metadata": {
    "collapsed": false
   }
  },
  {
   "cell_type": "code",
   "execution_count": 13,
   "outputs": [],
   "source": [
    "\n",
    "class Hand:\n",
    "    def __init__(self, dealer_card: Card) -> None:\n",
    "        self.dealer_card: Card = dealer_card\n",
    "        self.cards: List[Card] = []\n",
    "\n",
    "    def hard_total(self) -> int:\n",
    "        return sum(c.hard for c in self.cards)\n",
    "\n",
    "    def soft_total(self) -> int:\n",
    "        return sum(c.soft for c in self.cards)\n",
    "\n",
    "    def __repr__(self) -> str:\n",
    "        return f\"{self.__class__.__name__} {self.dealer_card} {self.cards}\"\n",
    "\n",
    "d = Deck()\n",
    "h = Hand(d.pop())\n",
    "h.cards.append(d.pop())\n",
    "h.cards.append(d.pop())"
   ],
   "metadata": {
    "collapsed": false,
    "pycharm": {
     "name": "#%%\n"
    }
   }
  },
  {
   "cell_type": "markdown",
   "source": [
    "This has the disadvantage of consisting of a long-winded sequence of statements to build an instance of a Hand object. It can become difficult to serialize the Hand object and rebuild it with an initialization as complex as this. Even if we were to create an explicit append() method in this class, it would still take multiple steps to initialize the collection.\n",
    "The definition of the __repr__() method illustrates this problem. We can't provide a simple string representation that would rebuild the object. The typical use of __repr__() is to create a Pythonic view of the object's state, but, with such a complex initialization, there's no simple expression to represent it.\n",
    "We could try to create a fluent interface, but that wouldn't really simplify things; it would merely mean a change in the syntax of the way that a Hand object is built. A fluent interface still leads to multiple method evaluations. When we take a look at the serialization of objects in part 2, Persistence and Serialization, we'd like an interface that's a single class-level function; ideally the class constructor.\n",
    "\n",
    "The following code build composite class obj in one step in __init__()\n",
    "The first positional argument value is assigned to the dealer_card parameter. The use of * with the cards parameter means that all of the remaining positional argument values are collected into a tuple and assigned to the cards parameter."
   ],
   "metadata": {
    "collapsed": false
   }
  },
  {
   "cell_type": "code",
   "execution_count": 16,
   "outputs": [
    {
     "data": {
      "text/plain": "Hand2(<card.Card object at 0x7f94288652d0>,*[<card.Card object at 0x7f942884de50>, <card.Card object at 0x7f942884d290>])"
     },
     "execution_count": 16,
     "metadata": {},
     "output_type": "execute_result"
    }
   ],
   "source": [
    "class Hand2:\n",
    "    def __init__(self, dealer_card: Card, *cards: Card) -> None:\n",
    "        self.dealer_card = dealer_card\n",
    "        self.cards = list(cards)\n",
    "\n",
    "    def card_append(self, card: Card) -> None:\n",
    "        self.cards.append(card)\n",
    "\n",
    "    def hard_total(self) -> int:\n",
    "        return sum(c.hard for c in self.cards)\n",
    "\n",
    "    def soft_total(self) -> int:\n",
    "        return sum(c.soft for c in self.cards)\n",
    "\n",
    "    def __repr__(self) -> str:\n",
    "        return f\"{self.__class__.__name__}({self.dealer_card!r},*{self.cards})\"\n",
    "\n",
    "d = Deck()\n",
    "p = Hand2(d.pop())\n",
    "p.cards.append(d.pop())\n",
    "p.cards.append(d.pop())\n",
    "p\n"
   ],
   "metadata": {
    "collapsed": false,
    "pycharm": {
     "name": "#%%\n"
    }
   }
  },
  {
   "cell_type": "markdown",
   "source": [
    "This second example uses the *cards parameter to load a sequence of the Cards class in a single step:"
   ],
   "metadata": {
    "collapsed": false
   }
  },
  {
   "cell_type": "code",
   "execution_count": 18,
   "outputs": [
    {
     "data": {
      "text/plain": "Hand2(<card.Card object at 0x7f942884dc50>,*[<card.Card object at 0x7f942884d210>, <card.Card object at 0x7f9428b0a490>])"
     },
     "execution_count": 18,
     "metadata": {},
     "output_type": "execute_result"
    }
   ],
   "source": [
    "d = Deck()\n",
    "h = Hand2(d.pop(), d.pop(), d.pop())\n",
    "h"
   ],
   "metadata": {
    "collapsed": false,
    "pycharm": {
     "name": "#%%\n"
    }
   }
  },
  {
   "cell_type": "markdown",
   "source": [
    "stateless objects without __init__()\n",
    "The following is an example of a degenerate class that doesn't need an __init__() method. It's a common design pattern for Strategy objects. A Strategy object is plugged into some kind of master or owner object to implement an algorithm or decision. The Strategy object often depends on data in the master object; the Strategy object may not have any data of its own. We often design strategy classes to follow the Flyweight design pattern so we can avoid internal storage in the strategy instance. All values can be provided to a Strategy object as method argument values. In some cases, a strategy object can be stateless; in this instance, it is more a collection of method functions than anything else.\n",
    "In the following examples, we'll show both stateless and stateful strategy class definitions. We'll start with the strategy for making some of the player decisions based on the state of the Hand object.\n",
    "In this case, we're providing the gameplay decisions for a Player instance. The following is an example of a (dumb) strategy to pick cards and decline other bets:\n",
    "\n",
    "Each method requires the current Hand object as an argument value. The decisions are based on the available information; that is, on the dealer's cards and the player's cards. The result of each decision is shown in the type hints as a Boolean value. Each method returns True if the player elects to perform the action."
   ],
   "metadata": {
    "collapsed": false
   }
  },
  {
   "cell_type": "code",
   "execution_count": null,
   "outputs": [],
   "source": [
    "class GameStrategy:\n",
    "    def insurance(self, hand: Hand) -> bool:\n",
    "        return False\n",
    "\n",
    "    def split(self, hand: Hand) -> bool:\n",
    "        return False\n",
    "    def double(self, hand: Hand) -> bool:\n",
    "        return False\n",
    "    def hit(self, hand: Hand) -> bool:\n",
    "        return sum(c.hard for c in hand.cards) <= 17"
   ],
   "metadata": {
    "collapsed": false,
    "pycharm": {
     "name": "#%%\n"
    }
   }
  },
  {
   "cell_type": "markdown",
   "source": [
    "We can build a single instance of this strategy for use by various Player instances, as shown in the following code snippet:\n",
    "dumb = GameStrategy()\n",
    "We can imagine creating a family of related strategy classes, each one using different rules for the various decisions a player is offered in Blackjack."
   ],
   "metadata": {
    "collapsed": false
   }
  },
  {
   "cell_type": "markdown",
   "source": [
    "## other classes of the project:\n",
    "a player has two strategies: one for betting and one for playing their hand. Each Player instance has a sequence of interactions with a larger simulation engine. We'll call the larger engine the Table class.\n",
    "The Table class requires the following sequence of events by the Player instances:\n",
    "1. The player must place an initial, or ante, bet based on the betting strategy.\n",
    "2. The player will then receive a hand of cards.\n",
    "3. If the hand is splittable, the player must decide whether to split it or not based on their game strategy. This can create additional Hand instances. In some casinos, the additional hands are also splittable.\n",
    "4. For each Hand instance, the player must decide to hit, double, or stand based on their game strategy.\n",
    "5. The player will then receive payouts, and they must update their betting strategy based on their wins and losses.\n",
    "From this, we can see that the Table class has a number of API methods to receive a bet, create a Hand object, offer a split, resolve each hand, and pay off the bets. This is a large object that tracks the state of play with a collection of Players.\n",
    "The following is the beginning of a Table class, which handles the bets and cards:"
   ],
   "metadata": {
    "collapsed": false
   }
  },
  {
   "cell_type": "code",
   "execution_count": null,
   "outputs": [],
   "source": [
    "class Table:\n",
    "    def __init__(self) -> None:\n",
    "        self.deck = Deck()\n",
    "\n",
    "    def place_bet(self, amount: int) -> None:\n",
    "        print(\"Bet\", amount)\n",
    "\n",
    "def get_hand(self) -> Hand2:\n",
    "    try:\n",
    "        self.hand = Hand2(self.deck.pop(), self.deck.pop(), self.deck.pop())\n",
    "        self.hole_card = self.deck.pop()\n",
    "    except IndexError:\n",
    "      # Out of cards: need to shuffle and try again.\n",
    "        self.deck = Deck()\n",
    "        return self.get_hand()\n",
    "    print(\"Deal\", self.hand)\n",
    "    return self.hand\n",
    "\n",
    "def can_insure(self, hand: Hand) -> bool:\n",
    "    return hand.dealer_card.insure"
   ],
   "metadata": {
    "collapsed": false,
    "pycharm": {
     "name": "#%%\n"
    }
   }
  },
  {
   "cell_type": "markdown",
   "source": [
    "In order to interact properly and simulate realistic play, the Player class needs a betting strategy. The betting strategy is a stateful object that determines the level of the initial bet. Various betting strategies generally change a bet based on whether a game was a win or a loss.\n",
    "Ideally, we'd like to have a family of BettingStrategy objects. Python has a module with decorators that allows us to create an abstract superclass"
   ],
   "metadata": {
    "collapsed": false
   }
  },
  {
   "cell_type": "code",
   "execution_count": 22,
   "outputs": [
    {
     "ename": "NameError",
     "evalue": "name 'abc' is not defined",
     "output_type": "error",
     "traceback": [
      "\u001B[0;31m---------------------------------------------------------------------------\u001B[0m",
      "\u001B[0;31mNameError\u001B[0m                                 Traceback (most recent call last)",
      "\u001B[0;32m/var/folders/9m/9nk23bnn5hn0rqlgkksh7_z00001j1/T/ipykernel_48541/1607893835.py\u001B[0m in \u001B[0;36m<module>\u001B[0;34m\u001B[0m\n\u001B[0;32m----> 1\u001B[0;31m \u001B[0;32mclass\u001B[0m \u001B[0mBettingStrategy2\u001B[0m\u001B[0;34m(\u001B[0m\u001B[0mmetaclass\u001B[0m\u001B[0;34m=\u001B[0m\u001B[0mabc\u001B[0m\u001B[0;34m.\u001B[0m\u001B[0mABCMeta\u001B[0m\u001B[0;34m)\u001B[0m\u001B[0;34m:\u001B[0m\u001B[0;34m\u001B[0m\u001B[0;34m\u001B[0m\u001B[0m\n\u001B[0m\u001B[1;32m      2\u001B[0m     \u001B[0;34m@\u001B[0m\u001B[0mabstractmethod\u001B[0m\u001B[0;34m\u001B[0m\u001B[0;34m\u001B[0m\u001B[0m\n\u001B[1;32m      3\u001B[0m     \u001B[0;32mdef\u001B[0m \u001B[0mbet\u001B[0m\u001B[0;34m(\u001B[0m\u001B[0mself\u001B[0m\u001B[0;34m)\u001B[0m \u001B[0;34m->\u001B[0m \u001B[0mint\u001B[0m\u001B[0;34m:\u001B[0m\u001B[0;34m\u001B[0m\u001B[0;34m\u001B[0m\u001B[0m\n\u001B[1;32m      4\u001B[0m         \u001B[0;32mreturn\u001B[0m \u001B[0;36m1\u001B[0m\u001B[0;34m\u001B[0m\u001B[0;34m\u001B[0m\u001B[0m\n\u001B[1;32m      5\u001B[0m \u001B[0;34m\u001B[0m\u001B[0m\n",
      "\u001B[0;31mNameError\u001B[0m: name 'abc' is not defined"
     ]
    }
   ],
   "source": [
    "\n",
    "class BettingStrategy2(metaclass=abc.ABCMeta):\n",
    "    @abstractmethod\n",
    "    def bet(self) -> int:\n",
    "        return 1\n",
    "\n",
    "    def record_win(self):\n",
    "        pass\n",
    "\n",
    "    def record_loss(self):\n",
    "        pass"
   ],
   "metadata": {
    "collapsed": false,
    "pycharm": {
     "name": "#%%\n"
    }
   }
  },
  {
   "cell_type": "markdown",
   "source": [
    "This has the advantage that it makes the creation of an instance of BettingStrategy2, or any subclass that failed to implement bet(), impossible. If we try to create an instance of this class with an unimplemented abstract method, it will raise an exception instead of creating an object.\n",
    "And, yes, the abstract method has an implementation. It can be accessed via super().bet(). This allows a subclass to use the superclass implementation, if necessary."
   ],
   "metadata": {
    "collapsed": false
   }
  },
  {
   "cell_type": "markdown",
   "source": [
    "\n",
    "### Multi-strategy __init__()\n",
    "We may have objects that are created from a variety of sources. For example, we might need to clone an object as part of creating a memento, or freeze an object so that it can be used as the key of a dictionary or placed into a set; this is the idea behind the set and frozenset built-in classes.\n",
    "We'll look at two design patterns that offer multiple ways to build an object. One design pattern uses a complex __init__() method with multiple strategies for initialization. This leads to designing the __init__() method with a number of optional parameters. The other common design pattern involves creating multiple static or class-level methods, each with a distinct definition.\n",
    "Defining an overloaded __init__() method can be confusing to mypy, because the parameters may have distinct value types. This is solved by using the @overload decorator to describe the different assignments of types to the __init__() parameters. The approach is to define each of the alternative versions of\n",
    "__init__() and decorate with @overload. A final version – without any decoration – defines the parameters actually used for the implementation.\n",
    "The following is an example of a Hand3 object that can be built in either of the two ways:"
   ],
   "metadata": {
    "collapsed": false
   }
  },
  {
   "cell_type": "code",
   "execution_count": 23,
   "outputs": [],
   "source": [
    "class Hand3:\n",
    "    @overload\n",
    "    def __init__(self, arg1: \"Hand3\") -> None:\n",
    "        ...\n",
    "\n",
    "    @overload\n",
    "    def __init__(self, arg1: Card, arg2: Card, arg3: Card) -> None:\n",
    "        ...\n",
    "    def __init__(self, arg1: Union[Card, \"Hand3\"],\n",
    "                 arg2: Optional[Card] = None, arg3: Optional[Card] = None) -> None:\n",
    "        self.dealer_card: Card\n",
    "        self.cards: List[Card]\n",
    "        if isinstance(arg1, Hand3) and not arg2 and not arg3: # Clone an existing hand\n",
    "            self.dealer_card = arg1.dealer_card\n",
    "            self.cards = arg1.cards\n",
    "        elif (isinstance(arg1, Card)\n",
    "                            and isinstance(arg2, Card)\n",
    "                            and isinstance(arg3, Card)\n",
    "                        ):\n",
    "                           # Build a fresh, new hand.\n",
    "            self.dealer_card = cast(Card, arg1)\n",
    "            self.cards = [arg2, arg3]\n",
    "    def __repr__(self) -> str:\n",
    "        return f\"{self.__class__.__name__}({self.dealer_card!r},*{self.cards})\"\n",
    "\n",
    "h = Hand3(deck.pop(), deck.pop(), deck.pop())\n",
    "memento = Hand3(h)"
   ],
   "metadata": {
    "collapsed": false,
    "pycharm": {
     "name": "#%%\n"
    }
   }
  },
  {
   "cell_type": "markdown",
   "source": [
    "\n",
    "In the first overloaded case, a Hand3 instance has been built from an existing Hand3 object. In the second case, a Hand3 object has been built from individual Card instances. The @overload decorator provides two alternative versions of the __init__() method. These are used by mypy to ensure this constructor is used properly. The undecorated version is used at runtime. It is a kind of union of the two overloaded definitions.\n",
    "The @overload definitions are purely for mypy type-checking purposes. The non- overloaded definition of __init__() provides a hint for arg1 as union of either a Card object or a Hand3 object. The code uses the isinstance() function to decide which of the two types of argument values were provided. To be more robust, the if-elif statements should have an else: clause. This should raise a ValueError exception.\n",
    "This design parallels the way a frozenset object can be built from individual items or an existing set object. We will look at creating immutable objects more in the next chapter. Creating a new Hand3 object from an existing Hand3 object allows us to create a memento of a Hand3 object using a construct such as the following code snippet:"
   ],
   "metadata": {
    "collapsed": false
   }
  },
  {
   "cell_type": "code",
   "execution_count": 26,
   "outputs": [
    {
     "ename": "IndexError",
     "evalue": "pop from empty list",
     "output_type": "error",
     "traceback": [
      "\u001B[0;31m---------------------------------------------------------------------------\u001B[0m",
      "\u001B[0;31mIndexError\u001B[0m                                Traceback (most recent call last)",
      "\u001B[0;32m/var/folders/9m/9nk23bnn5hn0rqlgkksh7_z00001j1/T/ipykernel_48541/1600198677.py\u001B[0m in \u001B[0;36m<module>\u001B[0;34m\u001B[0m\n\u001B[0;32m----> 1\u001B[0;31m \u001B[0mh\u001B[0m \u001B[0;34m=\u001B[0m \u001B[0mHand3\u001B[0m\u001B[0;34m(\u001B[0m\u001B[0mdeck\u001B[0m\u001B[0;34m.\u001B[0m\u001B[0mpop\u001B[0m\u001B[0;34m(\u001B[0m\u001B[0;34m)\u001B[0m\u001B[0;34m,\u001B[0m \u001B[0mdeck\u001B[0m\u001B[0;34m.\u001B[0m\u001B[0mpop\u001B[0m\u001B[0;34m(\u001B[0m\u001B[0;34m)\u001B[0m\u001B[0;34m,\u001B[0m \u001B[0mdeck\u001B[0m\u001B[0;34m.\u001B[0m\u001B[0mpop\u001B[0m\u001B[0;34m(\u001B[0m\u001B[0;34m)\u001B[0m\u001B[0;34m)\u001B[0m\u001B[0;34m\u001B[0m\u001B[0;34m\u001B[0m\u001B[0m\n\u001B[0m\u001B[1;32m      2\u001B[0m \u001B[0mmemento\u001B[0m \u001B[0;34m=\u001B[0m \u001B[0mHand3\u001B[0m\u001B[0;34m(\u001B[0m\u001B[0mh\u001B[0m\u001B[0;34m)\u001B[0m\u001B[0;34m\u001B[0m\u001B[0;34m\u001B[0m\u001B[0m\n\u001B[1;32m      3\u001B[0m \u001B[0mprint\u001B[0m\u001B[0;34m(\u001B[0m\u001B[0mmemento\u001B[0m\u001B[0;34m)\u001B[0m\u001B[0;34m\u001B[0m\u001B[0;34m\u001B[0m\u001B[0m\n",
      "\u001B[0;31mIndexError\u001B[0m: pop from empty list"
     ]
    }
   ],
   "source": [
    "h = Hand3(deck.pop(), deck.pop(), deck.pop())\n",
    "memento = Hand3(h)\n",
    "print(memento)"
   ],
   "metadata": {
    "collapsed": false,
    "pycharm": {
     "name": "#%%\n"
    }
   }
  }
 ],
 "metadata": {
  "kernelspec": {
   "display_name": "Python 3",
   "language": "python",
   "name": "python3"
  },
  "language_info": {
   "codemirror_mode": {
    "name": "ipython",
    "version": 2
   },
   "file_extension": ".py",
   "mimetype": "text/x-python",
   "name": "python",
   "nbconvert_exporter": "python",
   "pygments_lexer": "ipython2",
   "version": "2.7.6"
  }
 },
 "nbformat": 4,
 "nbformat_minor": 0
}