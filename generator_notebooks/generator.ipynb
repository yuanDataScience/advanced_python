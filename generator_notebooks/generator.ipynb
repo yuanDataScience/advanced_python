{
 "cells": [
  {
   "cell_type": "markdown",
   "id": "e0536ffc",
   "metadata": {},
   "source": [
    "### Python Generator\n",
    "Iterator is used for \n",
    "* read large data sets\n",
    "* memory-intensive operations\n",
    "* by a lazy item by item fashion\n",
    "\n",
    "What an iterator is:\n",
    "* maintain state. It doesn't know how many values to print, but knows what the next value is\n",
    "* use lazy evaluation. Don't know the value until is triggered to do so\n",
    "* doesn't store sequence in memory (space efficient)\n",
    "* support Next() method which yields (grabs) the next value one at a time\n",
    "* most iterables such as list or tuple has the iter() method that returns a generator\n",
    "\n",
    "When you have a large dataset, it make sense to use lazy evaluation and only evalue one value at a time because store the dataset in memory is inefficient and often impossbile\n",
    "\n",
    "A generator function returns a generator object\n",
    "A generator object uses lazy evaluation to yield sequences\n",
    "A generator refers to a generator object\n",
    "A generator is an iterator, but not all iterators are generator objects"
   ]
  },
  {
   "cell_type": "markdown",
   "id": "a69cdb4c",
   "metadata": {},
   "source": [
    "## Generator function\n",
    "generator function returns generator objects using yield, and without using an list/containers"
   ]
  },
  {
   "cell_type": "code",
   "execution_count": 81,
   "id": "59fd210f",
   "metadata": {},
   "outputs": [
    {
     "data": {
      "text/plain": [
       "[0, 2, 4, 6, 8]"
      ]
     },
     "execution_count": 81,
     "metadata": {},
     "output_type": "execute_result"
    }
   ],
   "source": [
    "# a \"normal\" list/container function to generate a list\n",
    "def even_integers_function(n):\n",
    "    result = []\n",
    "    for i in range(n):\n",
    "        if i % 2 == 0:\n",
    "            result.append(i)\n",
    "    return result\n",
    "\n",
    "even_integers_function(10)"
   ]
  },
  {
   "cell_type": "code",
   "execution_count": 82,
   "id": "006b139f",
   "metadata": {},
   "outputs": [],
   "source": [
    "# a generator function\n",
    "def even_integers_generator(n):\n",
    "    for i in range(n):\n",
    "        if i % 2 == 0:\n",
    "            yield i"
   ]
  },
  {
   "cell_type": "code",
   "execution_count": 83,
   "id": "129cc952",
   "metadata": {},
   "outputs": [
    {
     "data": {
      "text/plain": [
       "<generator object even_integers_generator at 0x7fbc44213ac0>"
      ]
     },
     "execution_count": 83,
     "metadata": {},
     "output_type": "execute_result"
    }
   ],
   "source": [
    "even_integers_generator(10)"
   ]
  },
  {
   "cell_type": "markdown",
   "id": "27ffe540",
   "metadata": {},
   "source": [
    "### How to consume a generator in python 3"
   ]
  },
  {
   "cell_type": "code",
   "execution_count": 84,
   "id": "c3f977f8",
   "metadata": {},
   "outputs": [],
   "source": [
    "# generate a generator object\n",
    "even_generator = even_integers_generator(10)"
   ]
  },
  {
   "cell_type": "markdown",
   "id": "326e23d9",
   "metadata": {},
   "source": [
    "#### Consume a generator by next() method"
   ]
  },
  {
   "cell_type": "code",
   "execution_count": 85,
   "id": "8a212055",
   "metadata": {},
   "outputs": [
    {
     "data": {
      "text/plain": [
       "0"
      ]
     },
     "execution_count": 85,
     "metadata": {},
     "output_type": "execute_result"
    }
   ],
   "source": [
    "# next() method is no longer available for pyhton 3, use next(generator) instead\n",
    "next(even_generator)"
   ]
  },
  {
   "cell_type": "markdown",
   "id": "a872c5ce",
   "metadata": {},
   "source": [
    "#### Consume a generator using for loop"
   ]
  },
  {
   "cell_type": "code",
   "execution_count": 86,
   "id": "ee5f6ac2",
   "metadata": {},
   "outputs": [
    {
     "name": "stdout",
     "output_type": "stream",
     "text": [
      "2\n",
      "4\n",
      "6\n",
      "8\n"
     ]
    }
   ],
   "source": [
    "for n in even_generator:\n",
    "    print(n)"
   ]
  },
  {
   "cell_type": "markdown",
   "id": "5aa7b724",
   "metadata": {},
   "source": [
    "#### When a generator is consumed completely, it will stop iteration\n",
    "if you use next(), it will generate an exception, but if you use a for loop, for loop has the mechanism to take care of it"
   ]
  },
  {
   "cell_type": "code",
   "execution_count": 87,
   "id": "0521062d",
   "metadata": {},
   "outputs": [
    {
     "ename": "StopIteration",
     "evalue": "",
     "output_type": "error",
     "traceback": [
      "\u001b[0;31m---------------------------------------------------------------------------\u001b[0m",
      "\u001b[0;31mStopIteration\u001b[0m                             Traceback (most recent call last)",
      "\u001b[0;32m/tmp/ipykernel_261733/1678264747.py\u001b[0m in \u001b[0;36m<module>\u001b[0;34m\u001b[0m\n\u001b[1;32m      1\u001b[0m \u001b[0;31m# exception thrown\u001b[0m\u001b[0;34m\u001b[0m\u001b[0;34m\u001b[0m\u001b[0;34m\u001b[0m\u001b[0m\n\u001b[0;32m----> 2\u001b[0;31m \u001b[0mnext\u001b[0m\u001b[0;34m(\u001b[0m\u001b[0meven_generator\u001b[0m\u001b[0;34m)\u001b[0m\u001b[0;34m\u001b[0m\u001b[0;34m\u001b[0m\u001b[0m\n\u001b[0m",
      "\u001b[0;31mStopIteration\u001b[0m: "
     ]
    }
   ],
   "source": [
    "# exception thrown\n",
    "next(even_generator)"
   ]
  },
  {
   "cell_type": "code",
   "execution_count": 88,
   "id": "0015c344",
   "metadata": {},
   "outputs": [],
   "source": [
    "# no exception thrown\n",
    "for n in even_generator:\n",
    "    print(n)"
   ]
  },
  {
   "cell_type": "code",
   "execution_count": 89,
   "id": "20fbb4ad",
   "metadata": {},
   "outputs": [
    {
     "data": {
      "text/plain": [
       "<generator object <genexpr> at 0x7fbc4427e7b0>"
      ]
     },
     "execution_count": 89,
     "metadata": {},
     "output_type": "execute_result"
    }
   ],
   "source": [
    "# this is a list\n",
    "[item.upper() for item in 'GeeksforGeeks']\n",
    "\n",
    "# this is a generator using generator expression, which is more concise than generator function\n",
    "(item.upper() for item in 'GeeksforGeeks')\n",
    "\n",
    "# this is the generator expression for even numbers\n",
    "(n for n in range(10) if n%2 == 0)\n"
   ]
  },
  {
   "cell_type": "markdown",
   "id": "b15c2a12",
   "metadata": {},
   "source": [
    "#### We can also directly consume the generator object generated by generator expression of function"
   ]
  },
  {
   "cell_type": "code",
   "execution_count": 90,
   "id": "be5c5b19",
   "metadata": {},
   "outputs": [
    {
     "name": "stdout",
     "output_type": "stream",
     "text": [
      "0\n",
      "2\n",
      "4\n",
      "6\n",
      "8\n"
     ]
    }
   ],
   "source": [
    "for n in (i for i in range(10) if i %2 ==0):\n",
    "    print(n)"
   ]
  },
  {
   "cell_type": "code",
   "execution_count": 91,
   "id": "cd81d1b7",
   "metadata": {},
   "outputs": [
    {
     "name": "stdout",
     "output_type": "stream",
     "text": [
      "0\n",
      "2\n",
      "4\n",
      "6\n",
      "8\n"
     ]
    }
   ],
   "source": [
    "for n in even_integers_generator(10):\n",
    "    print(n)"
   ]
  },
  {
   "cell_type": "markdown",
   "id": "f29115ae",
   "metadata": {},
   "source": [
    "### We can use generator expression to convert/process elements in a list\n",
    "generator expression takes whatever the logic you can put between the parentheses to generate the generator"
   ]
  },
  {
   "cell_type": "code",
   "execution_count": 92,
   "id": "44549fb4",
   "metadata": {},
   "outputs": [],
   "source": [
    "# Example 1\n",
    "#list of mixed format numbers\n",
    "numbers = [7, 22, 4.5, 99.7, '3', '5']\n",
    "\n",
    "#convert numbers to integers using expression\n",
    "integers = (int(n) for n in numbers)"
   ]
  },
  {
   "cell_type": "code",
   "execution_count": 93,
   "id": "d17ef17c",
   "metadata": {},
   "outputs": [
    {
     "data": {
      "text/plain": [
       "<generator object <genexpr> at 0x7fbc44220270>"
      ]
     },
     "execution_count": 93,
     "metadata": {},
     "output_type": "execute_result"
    }
   ],
   "source": [
    "integers"
   ]
  },
  {
   "cell_type": "code",
   "execution_count": 94,
   "id": "7011c2ea",
   "metadata": {},
   "outputs": [],
   "source": [
    "# Example 2\n",
    "# list of strings of names\n",
    "names_list = ['Adam','Anne','Barry','Brianne','Charlie','Cassandra','David','Dana']\n",
    "\n",
    "#Converts names to uppercase\n",
    "uppercase_names = (name.upper() for name in names_list)"
   ]
  },
  {
   "cell_type": "code",
   "execution_count": 95,
   "id": "da5ae017",
   "metadata": {},
   "outputs": [
    {
     "data": {
      "text/plain": [
       "['ADAM', 'ANNE', 'BARRY', 'BRIANNE', 'CHARLIE', 'CASSANDRA', 'DAVID', 'DANA']"
      ]
     },
     "execution_count": 95,
     "metadata": {},
     "output_type": "execute_result"
    }
   ],
   "source": [
    "list(uppercase_names)"
   ]
  },
  {
   "cell_type": "code",
   "execution_count": 96,
   "id": "b18492f3",
   "metadata": {},
   "outputs": [
    {
     "data": {
      "text/plain": [
       "['MADA', 'ENNA', 'YRRAB', 'ENNAIRB', 'EILRAHC', 'ARDNASSAC', 'DIVAD', 'ANAD']"
      ]
     },
     "execution_count": 96,
     "metadata": {},
     "output_type": "execute_result"
    }
   ],
   "source": [
    "# generator expressions can be chained together\n",
    "upper_case = (name.upper() for name in names_list)\n",
    "reverse_uppercase = (name[::-1] for name in upper_case)\n",
    "list(reverse_uppercase)"
   ]
  },
  {
   "cell_type": "code",
   "execution_count": 97,
   "id": "b7c78018",
   "metadata": {},
   "outputs": [
    {
     "data": {
      "text/plain": [
       "8"
      ]
     },
     "execution_count": 97,
     "metadata": {},
     "output_type": "execute_result"
    }
   ],
   "source": [
    "# a generator can be directly passed to a function without extra ()\n",
    "max(i for i in range(10) if i %2 ==0)"
   ]
  },
  {
   "cell_type": "markdown",
   "id": "3df11372",
   "metadata": {},
   "source": [
    "### To summarize:\n",
    "* generator objects cannot be reused\n",
    "* calling next() on an exhausted generator raises StopIteration\n",
    "* for loop handles StopIteration\n",
    "* you can directly pass the generator to a function without the extra ()"
   ]
  },
  {
   "cell_type": "markdown",
   "id": "7f7edee4",
   "metadata": {},
   "source": [
    "### Creating a generator object for fibonacci sequence"
   ]
  },
  {
   "cell_type": "code",
   "execution_count": 98,
   "id": "6ac219a2",
   "metadata": {},
   "outputs": [],
   "source": [
    "# using the generator function\n",
    "def fibonacci_gen():\n",
    "    i = 1\n",
    "    j = 1\n",
    "    while True:\n",
    "        yield j\n",
    "        i, j = j, i+j\n",
    "    "
   ]
  },
  {
   "cell_type": "code",
   "execution_count": 99,
   "id": "a3baf7d2",
   "metadata": {},
   "outputs": [],
   "source": [
    "f = fibonacci_gen()"
   ]
  },
  {
   "cell_type": "code",
   "execution_count": 100,
   "id": "82090dcf",
   "metadata": {},
   "outputs": [
    {
     "name": "stdout",
     "output_type": "stream",
     "text": [
      "1\n",
      "2\n",
      "3\n",
      "5\n",
      "8\n",
      "13\n",
      "21\n",
      "34\n",
      "55\n",
      "89\n"
     ]
    }
   ],
   "source": [
    "for i in range(10):\n",
    "    print(next(f))"
   ]
  },
  {
   "cell_type": "markdown",
   "id": "2b473622",
   "metadata": {},
   "source": [
    "### build generator pipelines\n",
    "* generators can be put together to build pipelines by linking several pipes\n",
    "* items flow one by one through the entire pipeline\n",
    "* pipeline functionality can be packaged into callable functions"
   ]
  },
  {
   "cell_type": "code",
   "execution_count": 101,
   "id": "1e7b90d3",
   "metadata": {},
   "outputs": [
    {
     "name": "stdout",
     "output_type": "stream",
     "text": [
      "('Humbertson', 10)\n"
     ]
    }
   ],
   "source": [
    "def separate_names(names):\n",
    "    for full_name in names:\n",
    "        for name in full_name.split(' '):\n",
    "            yield name\n",
    "\n",
    "full_names = (name.strip() for name in open('names.txt'))\n",
    "names = separate_names(full_names)\n",
    "lengths = ((name, len(name)) for name in names)\n",
    "longest = max(lengths, key=lambda x:x[1])\n",
    "print(longest)"
   ]
  },
  {
   "cell_type": "markdown",
   "id": "6b8c82f6",
   "metadata": {},
   "source": [
    "This pipeline starts from the last step, and each time, one item is evaluated through the pipeline bottom up."
   ]
  },
  {
   "cell_type": "markdown",
   "id": "75c6f35c",
   "metadata": {},
   "source": [
    "### Context Manager\n",
    "Context manager is a python object that is able to act as a control structure when used after \"with\" statment. It manages the context for caller, including:\n",
    "* set up for caller (try)\n",
    "* yield control back to the caller (hand off) (yield)\n",
    "* wrap-up when caller is done (finally)\n",
    "\n",
    "Example: `With open('filename.txt'):\n",
    "             #do something`\n",
    "\n",
    "For a python object to be acted as a context manager, it must implement the methods \"enter\" and \"exit\""
   ]
  },
  {
   "cell_type": "markdown",
   "id": "4038ee8e",
   "metadata": {},
   "source": [
    "### Generator for context manager\n",
    "generator provides a short-hand way to produce a context manager. This is a try-yield-finally pattern."
   ]
  },
  {
   "cell_type": "markdown",
   "id": "46305e03",
   "metadata": {},
   "source": [
    "`\n",
    "@contextmanager\n",
    "def simple_context_manager(n):\n",
    "    try:\n",
    "        # setup code\n",
    "        yield # context manager is suspended, and control goes to the caller\n",
    "    finally:\n",
    "        # wrap up code`"
   ]
  },
  {
   "cell_type": "code",
   "execution_count": 108,
   "id": "9662b405",
   "metadata": {},
   "outputs": [],
   "source": [
    "# increments some_property by 1\n",
    "\n",
    "from contextlib import contextmanager\n",
    "\n",
    "@contextmanager\n",
    "def simple_context_manager(obj):\n",
    "    try:\n",
    "        obj.some_property += 1\n",
    "        yield\n",
    "    finally:\n",
    "        obj.some_property -= 1\n"
   ]
  },
  {
   "cell_type": "markdown",
   "id": "d3bbc799",
   "metadata": {},
   "source": [
    "For the above generator function, we have the following:\n",
    "* this function has a yield statement, and therefore will return a generator object\n",
    "* it has a contextmanager decorator, python enables it as a context manager by filling in __enter__ and __exit__ mehtods\n",
    "* the context manager accepts an object. When called, the first thing is to increment some_property of that object by one\n",
    "* after that, yield will pause the context manager, and pass the control back to the caller for it to do actions\n",
    "* when caller is finished, the context manager will go ahead and wrap up by executing the commands in finally block. In this case, it will decrement some_property\n",
    "\n",
    "Context manager makes easy execution of setup code and wrap up code with the help of python generators and context manager decorator"
   ]
  },
  {
   "cell_type": "markdown",
   "id": "4ff8d83a",
   "metadata": {},
   "source": [
    "### An example of context manager using generator"
   ]
  },
  {
   "cell_type": "code",
   "execution_count": 109,
   "id": "9b3e16f4",
   "metadata": {},
   "outputs": [],
   "source": [
    "@contextmanager\n",
    "def simple_context_manager(obj):\n",
    "    try:\n",
    "        obj.some_property += 1\n",
    "        yield\n",
    "    finally:\n",
    "        obj.some_property -= 1\n",
    "        \n",
    "        \n",
    "class Simple_obj(object):\n",
    "    def __init__(self, arg):\n",
    "        self.some_property = arg"
   ]
  },
  {
   "cell_type": "code",
   "execution_count": 110,
   "id": "a2081af0",
   "metadata": {},
   "outputs": [
    {
     "name": "stdout",
     "output_type": "stream",
     "text": [
      "5\n",
      "6\n",
      "5\n"
     ]
    }
   ],
   "source": [
    "# step 1\n",
    "obj = Simple_obj(5)\n",
    "print(obj.some_property)\n",
    "\n",
    "# step 2\n",
    "with simple_context_manager(obj):\n",
    "    print(obj.some_property)\n",
    "    \n",
    "# step 3\n",
    "print(obj.some_property)"
   ]
  },
  {
   "cell_type": "markdown",
   "id": "494e509e",
   "metadata": {},
   "source": [
    "* step 1: create a Simple_obj instance with arg = 5, and print the some_property value, which is 5\n",
    "* step 2: use context manager for Simple_obj. Once the context manager starts, it increment the some_property by 1 and returns the control back to the caller, which executes the print statement, and print 6\n",
    "* step 3: after context manager closes, print the some_property again, it returns to value of 5"
   ]
  },
  {
   "cell_type": "markdown",
   "id": "313a0415",
   "metadata": {},
   "source": [
    "#### Summary:\n",
    "* the @contextmanager is important, otherwise `AttributeError: __enter__` will be raised\n",
    "* the contextmanager() function (here is obj.some_property +=1) is called after a with statement\n",
    "* the indented \"with\" block (here is `print(obj.some_property)`)executes at yield statement"
   ]
  },
  {
   "cell_type": "markdown",
   "id": "f5655301",
   "metadata": {},
   "source": [
    "### function of yield in context manager using generator\n",
    "* yield pass the control back to caller\n",
    "* if we put a value/object to the right of yield, it will make that value/object available inside the with block of the caller"
   ]
  },
  {
   "cell_type": "code",
   "execution_count": 105,
   "id": "881e1144",
   "metadata": {},
   "outputs": [],
   "source": [
    "from time import time\n",
    "from contextlib import contextmanager\n",
    "\n",
    "HEADER = \"this is the header \\n\"\n",
    "FOOTER = \"\\nthis is the footer \\n\"\n",
    "\n",
    "\n",
    "@contextmanager\n",
    "def new_log_file(name):    \n",
    "    try:\n",
    "        logname = name\n",
    "        f = open(logname, 'w')\n",
    "        f.write(HEADER)\n",
    "        yield f\n",
    "    finally:\n",
    "        f.write(FOOTER)\n",
    "        print(\"logfile created\")\n",
    "        f.close()"
   ]
  },
  {
   "cell_type": "code",
   "execution_count": 106,
   "id": "5851018a",
   "metadata": {},
   "outputs": [
    {
     "name": "stdout",
     "output_type": "stream",
     "text": [
      "logfile created\n"
     ]
    }
   ],
   "source": [
    "with new_log_file('logfile') as file:\n",
    "    file.write(\"this is the body\")"
   ]
  },
  {
   "cell_type": "code",
   "execution_count": 107,
   "id": "9dd7672b",
   "metadata": {},
   "outputs": [
    {
     "name": "stdout",
     "output_type": "stream",
     "text": [
      "this is the header \r\n",
      "this is the body\r\n",
      "this is the footer \r\n"
     ]
    }
   ],
   "source": [
    "!cat logfile"
   ]
  },
  {
   "cell_type": "markdown",
   "id": "1d172e53",
   "metadata": {},
   "source": [
    "#### Another way to create a contextmanager is to define a class"
   ]
  },
  {
   "cell_type": "code",
   "execution_count": 12,
   "id": "4a4d1504",
   "metadata": {},
   "outputs": [],
   "source": [
    "class cm:\n",
    "    def __init__(self, name):\n",
    "        self._file_name = name\n",
    "        self.HEADER = \"this is the header \\n\"\n",
    "        self.FOOTER = \"\\nthis is the footer \\n\"\n",
    "    \n",
    "    def __enter__(self):\n",
    "        self.f = open(self._file_name, 'w')\n",
    "        self.f.write(self.HEADER)\n",
    "        return self.f\n",
    "        \n",
    "    def __exit__(self, exc_type, exc_value, exc_traceback):\n",
    "        self.f.write(self.FOOTER)\n",
    "        print(\"logfile created\")\n",
    "        self.f.close()\n",
    "    "
   ]
  },
  {
   "cell_type": "code",
   "execution_count": 13,
   "id": "9fb2040b",
   "metadata": {},
   "outputs": [
    {
     "name": "stdout",
     "output_type": "stream",
     "text": [
      "logfile created\n"
     ]
    }
   ],
   "source": [
    "with cm('cm.txt') as m:\n",
    "    m.write(\"this is body\")"
   ]
  },
  {
   "cell_type": "markdown",
   "id": "39ea7433",
   "metadata": {},
   "source": [
    "#### execution of the above code example:\n",
    "* new_log_file context manager creates the file using the input string as file name, and write HEADER\n",
    "* yield statement pass the control back to caller, together with the created file inside \"with\" statement\n",
    "* caller inside \"with\" statement write \"this is body\" to the file\n",
    "* context manager write the FOOTER and close the file"
   ]
  },
  {
   "cell_type": "markdown",
   "id": "98041930",
   "metadata": {},
   "source": [
    "### Coroutines\n",
    "* A generator produces values one at each time. A coroutine consumes values. It may or may not return values. Coroutine is not for iterate sequences\n",
    "* A coroutine is built from a generator, but it is conceptually different. A coroutine is designed to \n",
    "    + repeatedly recieves input\n",
    "    + processes input\n",
    "    + stops at yield statement\n",
    "    + send() is the method added to generators exclusively for coroutines\n",
    "    + in coroutine, the yield statement is used to capture the value passed to send() method, and pauses flow\n",
    "    + A coroutine must support send() method, and maintain internal state as a powerful tool in data process\n",
    "* A coroutine is also different from a function\n",
    "    + the same function is called each time \n",
    "    + coroutine has persistent properties that can be changed and altered. It can change the state of its own properties, the state of something else, or both"
   ]
  },
  {
   "cell_type": "code",
   "execution_count": 111,
   "id": "a82096ef",
   "metadata": {},
   "outputs": [],
   "source": [
    "def coroutine_example():\n",
    "    while True:\n",
    "        x = yield\n",
    "        #do something\n",
    "        print(x)"
   ]
  },
  {
   "cell_type": "code",
   "execution_count": 112,
   "id": "a4ef3333",
   "metadata": {},
   "outputs": [],
   "source": [
    "# create a coroutine object\n",
    "c = coroutine_example()"
   ]
  },
  {
   "cell_type": "code",
   "execution_count": 113,
   "id": "3633fa79",
   "metadata": {},
   "outputs": [
    {
     "ename": "TypeError",
     "evalue": "can't send non-None value to a just-started generator",
     "output_type": "error",
     "traceback": [
      "\u001b[0;31m---------------------------------------------------------------------------\u001b[0m",
      "\u001b[0;31mTypeError\u001b[0m                                 Traceback (most recent call last)",
      "\u001b[0;32m/tmp/ipykernel_261733/3118862062.py\u001b[0m in \u001b[0;36m<module>\u001b[0;34m\u001b[0m\n\u001b[1;32m      1\u001b[0m \u001b[0;31m# if we directly consume:\u001b[0m\u001b[0;34m\u001b[0m\u001b[0;34m\u001b[0m\u001b[0;34m\u001b[0m\u001b[0m\n\u001b[0;32m----> 2\u001b[0;31m \u001b[0mc\u001b[0m\u001b[0;34m.\u001b[0m\u001b[0msend\u001b[0m\u001b[0;34m(\u001b[0m\u001b[0;36m10\u001b[0m\u001b[0;34m)\u001b[0m\u001b[0;34m\u001b[0m\u001b[0;34m\u001b[0m\u001b[0m\n\u001b[0m",
      "\u001b[0;31mTypeError\u001b[0m: can't send non-None value to a just-started generator"
     ]
    }
   ],
   "source": [
    "# if we directly consume, we get error messsage.\n",
    "c.send(10)"
   ]
  },
  {
   "cell_type": "code",
   "execution_count": 114,
   "id": "a2eb57ba",
   "metadata": {},
   "outputs": [],
   "source": [
    "# we need to prime the coroutine by calling next()\n",
    "# here the value send to coroutine is what the yield statement becomes\n",
    "# since x is set to yield, we can use x \n",
    "next(c)"
   ]
  },
  {
   "cell_type": "code",
   "execution_count": 115,
   "id": "c19d66a9",
   "metadata": {},
   "outputs": [
    {
     "name": "stdout",
     "output_type": "stream",
     "text": [
      "10\n"
     ]
    }
   ],
   "source": [
    "c.send(10)"
   ]
  },
  {
   "cell_type": "code",
   "execution_count": 117,
   "id": "b93e94e3",
   "metadata": {},
   "outputs": [],
   "source": [
    "def counter(string):\n",
    "    count = 0\n",
    "    try:\n",
    "        while True:\n",
    "            item = yield\n",
    "            if isinstance(item, str):\n",
    "                if item in string:\n",
    "                    count += 1\n",
    "                    print(item)\n",
    "                else:\n",
    "                    print('No Match')\n",
    "            else:\n",
    "                print('Not a string')\n",
    "    except GeneratorExit:\n",
    "        print(count)"
   ]
  },
  {
   "cell_type": "code",
   "execution_count": 121,
   "id": "3ca00ae5",
   "metadata": {},
   "outputs": [
    {
     "name": "stdout",
     "output_type": "stream",
     "text": [
      "2\n",
      "Cali\n",
      "nia\n",
      "No Match\n",
      "Not a string\n",
      "2\n"
     ]
    }
   ],
   "source": [
    "# create a coroutine\n",
    "c = counter('California')\n",
    "\n",
    "# prime it\n",
    "next(c)\n",
    "\n",
    "# send value, which will be sent by yield to item, and check the match\n",
    "c.send('Cali')\n",
    "c.send('nia')\n",
    "c.send('Hawaii')\n",
    "c.send(1234)\n",
    "c.close()"
   ]
  },
  {
   "cell_type": "markdown",
   "id": "40182ff9",
   "metadata": {},
   "source": [
    "#### Using a coroutine decorator to do the prime automatically\n",
    "* the decorator accepts a generator function, and returns a wrap function that does prime using next(cr)"
   ]
  },
  {
   "cell_type": "code",
   "execution_count": 123,
   "id": "5ef89011",
   "metadata": {},
   "outputs": [],
   "source": [
    "def coroutine_decorator(func):\n",
    "    def wrap(*args, **kwargs):\n",
    "        cr = func(*args, **kwargs)\n",
    "        next(cr)\n",
    "        return cr\n",
    "    return wrap\n",
    "\n",
    "\n",
    "@coroutine_decorator\n",
    "def coroutine_example():\n",
    "    while True:\n",
    "        x = yield\n",
    "        #do something with x\n",
    "        print(x)"
   ]
  },
  {
   "cell_type": "code",
   "execution_count": 124,
   "id": "e5d3cb39",
   "metadata": {},
   "outputs": [
    {
     "name": "stdout",
     "output_type": "stream",
     "text": [
      "10\n"
     ]
    }
   ],
   "source": [
    "c = coroutine_example()\n",
    "c.send(10)"
   ]
  },
  {
   "cell_type": "markdown",
   "id": "496fd3d3",
   "metadata": {},
   "source": [
    "#### Different coroutines can be used to handle different data processes\n",
    "* the same sender function can apply different coroutines to the same/different files\n",
    "* separate the logic of open and close files from filtering and counting it"
   ]
  },
  {
   "cell_type": "code",
   "execution_count": 125,
   "id": "93ff3dee",
   "metadata": {},
   "outputs": [],
   "source": [
    "def sender(filename, target):\n",
    "    for line in open(filename):\n",
    "        target.send(line)\n",
    "    target.close()\n",
    "        \n",
    "\n",
    "@coroutine_decorator\n",
    "def match_counter(string):\n",
    "    count = 0\n",
    "    try:\n",
    "        while True:\n",
    "            line = yield\n",
    "            if string in line:\n",
    "                count += 1\n",
    "    except GeneratorExit:\n",
    "        print('{}: {}'.format(string, count))\n",
    "\n",
    "\n",
    "\n",
    "@coroutine_decorator\n",
    "def longer_than(n):\n",
    "    count = 0\n",
    "    try:\n",
    "        while True:\n",
    "            line = yield\n",
    "            if len(line)>n:\n",
    "                print(line)\n",
    "                count += 1\n",
    "    except GeneratorExit:\n",
    "        print('longer than {}: {}'.format(n, count))\n"
   ]
  },
  {
   "cell_type": "code",
   "execution_count": 127,
   "id": "fb05fe59",
   "metadata": {},
   "outputs": [
    {
     "name": "stdout",
     "output_type": "stream",
     "text": [
      "Da: 5\n"
     ]
    }
   ],
   "source": [
    "m = match_counter('Da')\n",
    "sender(\"names.txt\", m)"
   ]
  },
  {
   "cell_type": "code",
   "execution_count": 128,
   "id": "7d2438ea",
   "metadata": {},
   "outputs": [
    {
     "name": "stdout",
     "output_type": "stream",
     "text": [
      "Armanda Pilling\n",
      "\n",
      "Lahoma Mondragon\n",
      "\n",
      "Karina Vandyne\n",
      "\n",
      "Calista Overbay\n",
      "\n",
      "Cherise Retana\n",
      "\n",
      "Lashanda Demoura\n",
      "\n",
      "Bong Humbertson\n",
      "\n",
      "Vasiliki Stonge\n",
      "\n",
      "Danita Vallance\n",
      "\n",
      "Salena Dulmage\n",
      "\n",
      "Sergio Cockrill\n",
      "\n",
      "Delaine Creamer\n",
      "\n",
      "Clarita Jetter\n",
      "\n",
      "Tanesha Finkbeiner\n",
      "\n",
      "Leonore Cushman\n",
      "\n",
      "Dwain Mccotter\n",
      "\n",
      "Alphonse Bellomy\n",
      "\n",
      "Deadra Bisceglia\n",
      "\n",
      "Josefine Montijo\n",
      "\n",
      "Brittanie Talamantes\n",
      "\n",
      "Carolina Powel\n",
      "\n",
      "Octavio Trumbull\n",
      "\n",
      "longer than 14: 22\n"
     ]
    }
   ],
   "source": [
    "l = longer_than(14)\n",
    "sender(\"names.txt\", l)"
   ]
  },
  {
   "cell_type": "markdown",
   "id": "e2538085",
   "metadata": {},
   "source": [
    "### Coroutine pipeline\n",
    "* The whole process is driven from the begining, and not pulled from the end process as in generator pipeline\n",
    "* Data is pushed to the pipeline\n",
    "* a coroutine can send data in different directions (both receive and send data)\n",
    "* doesn't rely on multiple end targets to pull data through"
   ]
  },
  {
   "cell_type": "code",
   "execution_count": 130,
   "id": "522df263",
   "metadata": {},
   "outputs": [
    {
     "name": "stdout",
     "output_type": "stream",
     "text": [
      "one file created\n",
      "one file created\n"
     ]
    }
   ],
   "source": [
    "@coroutine_decorator\n",
    "def router():\n",
    "    try:\n",
    "        while True:\n",
    "            line = yield\n",
    "            (first, last) = line.split(' ')\n",
    "            fnames.send(first)\n",
    "            lnames.send(last.strip())\n",
    "    except GeneratorExit:\n",
    "        fnames.close()\n",
    "        lnames.close()\n",
    "        \n",
    "        \n",
    "\n",
    "@coroutine_decorator\n",
    "def file_write(filename):\n",
    "    try:\n",
    "        with open(filename,'a') as file:\n",
    "            while True:\n",
    "                line = yield\n",
    "                file.write(line+'\\n')\n",
    "    except GeneratorExit:\n",
    "        file.close()\n",
    "        print('one file created')\n",
    "\n",
    "if __name__ == \"__main__\":\n",
    "    fnames = file_write('first_names.txt')\n",
    "    lnames = file_write('last_names.txt')\n",
    "    router = router()\n",
    "    for name in open('names.txt'):\n",
    "        router.send(name)\n",
    "    router.close()\n",
    "        "
   ]
  },
  {
   "cell_type": "markdown",
   "id": "a279fb44",
   "metadata": {},
   "source": [
    "#### The process is the following:\n",
    "* fnames and lnames are two coroutines that create the files, and write the received data (using send()) to the file\n",
    "* router is a coroutine that split the received string names and send to fnames and lnames\n",
    "* the pipeline is driven from router down to fnames and lnames"
   ]
  },
  {
   "cell_type": "code",
   "execution_count": null,
   "id": "35940fc7",
   "metadata": {},
   "outputs": [],
   "source": []
  }
 ],
 "metadata": {
  "kernelspec": {
   "display_name": "Python 3 (ipykernel)",
   "language": "python",
   "name": "python3"
  },
  "language_info": {
   "codemirror_mode": {
    "name": "ipython",
    "version": 3
   },
   "file_extension": ".py",
   "mimetype": "text/x-python",
   "name": "python",
   "nbconvert_exporter": "python",
   "pygments_lexer": "ipython3",
   "version": "3.8.10"
  }
 },
 "nbformat": 4,
 "nbformat_minor": 5
}
