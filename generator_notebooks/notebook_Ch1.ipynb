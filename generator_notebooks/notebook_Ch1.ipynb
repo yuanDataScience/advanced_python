{
 "cells": [
  {
   "cell_type": "markdown",
   "id": "435b96cf",
   "metadata": {},
   "source": [
    "### Python Generator\n",
    "Iterator is used for \n",
    "* read large data sets\n",
    "* memory-intensive operations\n",
    "* by a lazy item by item fashion\n",
    "\n",
    "What an iterator is:\n",
    "* maintain state. It doesn't know how many values to print, but knows what the next value is\n",
    "* use lazy evaluation. Don't know the value until is triggered to do so\n",
    "* doesn't store sequence in memory (space efficient)\n",
    "* support Next() method which yields (grabs) the next value one at a time\n",
    "* most iterables such as list or tuple has the iter() method that returns a generator\n",
    "\n",
    "When you have a large dataset, it make sense to use lazy evaluation and only evalue one value at a time because store the dataset in memory is inefficient and often impossbile\n",
    "\n",
    "A generator function returns a generator object\n",
    "A generator object uses lazy evaluation to yield sequences\n",
    "A generator refers to a generator object\n",
    "A generator is an iterator, but not all iterators are generator objects"
   ]
  },
  {
   "cell_type": "markdown",
   "id": "03d243e3",
   "metadata": {},
   "source": [
    "## Generator function\n",
    "generator function returns generator objects using yield, and without using an list/containers"
   ]
  },
  {
   "cell_type": "code",
   "execution_count": 81,
   "id": "0bd8031a",
   "metadata": {},
   "outputs": [
    {
     "data": {
      "text/plain": [
       "[0, 2, 4, 6, 8]"
      ]
     },
     "execution_count": 81,
     "metadata": {},
     "output_type": "execute_result"
    }
   ],
   "source": [
    "# a \"normal\" list/container function to generate a list\n",
    "def even_integers_function(n):\n",
    "    result = []\n",
    "    for i in range(n):\n",
    "        if i % 2 == 0:\n",
    "            result.append(i)\n",
    "    return result\n",
    "\n",
    "even_integers_function(10)"
   ]
  },
  {
   "cell_type": "code",
   "execution_count": 82,
   "id": "d05c2709",
   "metadata": {},
   "outputs": [],
   "source": [
    "# a generator function\n",
    "def even_integers_generator(n):\n",
    "    for i in range(n):\n",
    "        if i % 2 == 0:\n",
    "            yield i"
   ]
  },
  {
   "cell_type": "code",
   "execution_count": 83,
   "id": "3fad364c",
   "metadata": {},
   "outputs": [
    {
     "data": {
      "text/plain": [
       "<generator object even_integers_generator at 0x7fbc44213ac0>"
      ]
     },
     "execution_count": 83,
     "metadata": {},
     "output_type": "execute_result"
    }
   ],
   "source": [
    "even_integers_generator(10)"
   ]
  },
  {
   "cell_type": "markdown",
   "id": "db7f45fd",
   "metadata": {},
   "source": [
    "### How to consume a generator in python 3"
   ]
  },
  {
   "cell_type": "code",
   "execution_count": 84,
   "id": "64b0de53",
   "metadata": {},
   "outputs": [],
   "source": [
    "# generate a generator object\n",
    "even_generator = even_integers_generator(10)"
   ]
  },
  {
   "cell_type": "markdown",
   "id": "a904513a",
   "metadata": {},
   "source": [
    "#### Consume a generator by next() method"
   ]
  },
  {
   "cell_type": "code",
   "execution_count": 85,
   "id": "2fcb1b2b",
   "metadata": {},
   "outputs": [
    {
     "data": {
      "text/plain": [
       "0"
      ]
     },
     "execution_count": 85,
     "metadata": {},
     "output_type": "execute_result"
    }
   ],
   "source": [
    "# next() method is no longer available for pyhton 3, use next(generator) instead\n",
    "next(even_generator)"
   ]
  },
  {
   "cell_type": "markdown",
   "id": "ab604aef",
   "metadata": {},
   "source": [
    "#### Consume a generator using for loop"
   ]
  },
  {
   "cell_type": "code",
   "execution_count": 86,
   "id": "0256d6b6",
   "metadata": {},
   "outputs": [
    {
     "name": "stdout",
     "output_type": "stream",
     "text": [
      "2\n",
      "4\n",
      "6\n",
      "8\n"
     ]
    }
   ],
   "source": [
    "for n in even_generator:\n",
    "    print(n)"
   ]
  },
  {
   "cell_type": "markdown",
   "id": "7aac6d5f",
   "metadata": {},
   "source": [
    "#### When a generator is consumed completely, it will stop iteration\n",
    "if you use next(), it will generate an exception, but if you use a for loop, for loop has the mechanism to take care of it"
   ]
  },
  {
   "cell_type": "code",
   "execution_count": 87,
   "id": "3f7b4769",
   "metadata": {},
   "outputs": [
    {
     "ename": "StopIteration",
     "evalue": "",
     "output_type": "error",
     "traceback": [
      "\u001b[0;31m---------------------------------------------------------------------------\u001b[0m",
      "\u001b[0;31mStopIteration\u001b[0m                             Traceback (most recent call last)",
      "\u001b[0;32m/tmp/ipykernel_261733/1678264747.py\u001b[0m in \u001b[0;36m<module>\u001b[0;34m\u001b[0m\n\u001b[1;32m      1\u001b[0m \u001b[0;31m# exception thrown\u001b[0m\u001b[0;34m\u001b[0m\u001b[0;34m\u001b[0m\u001b[0;34m\u001b[0m\u001b[0m\n\u001b[0;32m----> 2\u001b[0;31m \u001b[0mnext\u001b[0m\u001b[0;34m(\u001b[0m\u001b[0meven_generator\u001b[0m\u001b[0;34m)\u001b[0m\u001b[0;34m\u001b[0m\u001b[0;34m\u001b[0m\u001b[0m\n\u001b[0m",
      "\u001b[0;31mStopIteration\u001b[0m: "
     ]
    }
   ],
   "source": [
    "# exception thrown\n",
    "next(even_generator)"
   ]
  },
  {
   "cell_type": "code",
   "execution_count": 88,
   "id": "bdc67349",
   "metadata": {},
   "outputs": [],
   "source": [
    "# no exception thrown\n",
    "for n in even_generator:\n",
    "    print(n)"
   ]
  },
  {
   "cell_type": "code",
   "execution_count": 89,
   "id": "5f82bf2d",
   "metadata": {},
   "outputs": [
    {
     "data": {
      "text/plain": [
       "<generator object <genexpr> at 0x7fbc4427e7b0>"
      ]
     },
     "execution_count": 89,
     "metadata": {},
     "output_type": "execute_result"
    }
   ],
   "source": [
    "# this is a list\n",
    "[item.upper() for item in 'GeeksforGeeks']\n",
    "\n",
    "# this is a generator using generator expression, which is more concise than generator function\n",
    "(item.upper() for item in 'GeeksforGeeks')\n",
    "\n",
    "# this is the generator expression for even numbers\n",
    "(n for n in range(10) if n%2 == 0)\n"
   ]
  },
  {
   "cell_type": "markdown",
   "id": "8f0fe40b",
   "metadata": {},
   "source": [
    "#### We can also directly consume the generator object generated by generator expression of function"
   ]
  },
  {
   "cell_type": "code",
   "execution_count": 90,
   "id": "f7569903",
   "metadata": {},
   "outputs": [
    {
     "name": "stdout",
     "output_type": "stream",
     "text": [
      "0\n",
      "2\n",
      "4\n",
      "6\n",
      "8\n"
     ]
    }
   ],
   "source": [
    "for n in (i for i in range(10) if i %2 ==0):\n",
    "    print(n)"
   ]
  },
  {
   "cell_type": "code",
   "execution_count": 91,
   "id": "65447d8d",
   "metadata": {},
   "outputs": [
    {
     "name": "stdout",
     "output_type": "stream",
     "text": [
      "0\n",
      "2\n",
      "4\n",
      "6\n",
      "8\n"
     ]
    }
   ],
   "source": [
    "for n in even_integers_generator(10):\n",
    "    print(n)"
   ]
  },
  {
   "cell_type": "markdown",
   "id": "d73e0b23",
   "metadata": {},
   "source": [
    "### We can use generator expression to convert/process elements in a list\n",
    "generator expression takes whatever the logic you can put between the parentheses to generate the generator"
   ]
  },
  {
   "cell_type": "code",
   "execution_count": 92,
   "id": "ea3dbd65",
   "metadata": {},
   "outputs": [],
   "source": [
    "# Example 1\n",
    "#list of mixed format numbers\n",
    "numbers = [7, 22, 4.5, 99.7, '3', '5']\n",
    "\n",
    "#convert numbers to integers using expression\n",
    "integers = (int(n) for n in numbers)"
   ]
  },
  {
   "cell_type": "code",
   "execution_count": 93,
   "id": "78b2294f",
   "metadata": {},
   "outputs": [
    {
     "data": {
      "text/plain": [
       "<generator object <genexpr> at 0x7fbc44220270>"
      ]
     },
     "execution_count": 93,
     "metadata": {},
     "output_type": "execute_result"
    }
   ],
   "source": [
    "integers"
   ]
  },
  {
   "cell_type": "code",
   "execution_count": 94,
   "id": "b6c35db9",
   "metadata": {},
   "outputs": [],
   "source": [
    "# Example 2\n",
    "# list of strings of names\n",
    "names_list = ['Adam','Anne','Barry','Brianne','Charlie','Cassandra','David','Dana']\n",
    "\n",
    "#Converts names to uppercase\n",
    "uppercase_names = (name.upper() for name in names_list)"
   ]
  },
  {
   "cell_type": "code",
   "execution_count": 95,
   "id": "e56f9533",
   "metadata": {},
   "outputs": [
    {
     "data": {
      "text/plain": [
       "['ADAM', 'ANNE', 'BARRY', 'BRIANNE', 'CHARLIE', 'CASSANDRA', 'DAVID', 'DANA']"
      ]
     },
     "execution_count": 95,
     "metadata": {},
     "output_type": "execute_result"
    }
   ],
   "source": [
    "list(uppercase_names)"
   ]
  },
  {
   "cell_type": "code",
   "execution_count": 96,
   "id": "6f70be8b",
   "metadata": {},
   "outputs": [
    {
     "data": {
      "text/plain": [
       "['MADA', 'ENNA', 'YRRAB', 'ENNAIRB', 'EILRAHC', 'ARDNASSAC', 'DIVAD', 'ANAD']"
      ]
     },
     "execution_count": 96,
     "metadata": {},
     "output_type": "execute_result"
    }
   ],
   "source": [
    "# generator expressions can be chained together\n",
    "upper_case = (name.upper() for name in names_list)\n",
    "reverse_uppercase = (name[::-1] for name in upper_case)\n",
    "list(reverse_uppercase)"
   ]
  },
  {
   "cell_type": "code",
   "execution_count": 97,
   "id": "eb2269cd",
   "metadata": {},
   "outputs": [
    {
     "data": {
      "text/plain": [
       "8"
      ]
     },
     "execution_count": 97,
     "metadata": {},
     "output_type": "execute_result"
    }
   ],
   "source": [
    "# a generator can be directly passed to a function without extra ()\n",
    "max(i for i in range(10) if i %2 ==0)"
   ]
  },
  {
   "cell_type": "markdown",
   "id": "8fe137a7",
   "metadata": {},
   "source": [
    "### To summarize:\n",
    "* generator objects cannot be reused\n",
    "* calling next() on an exhausted generator raises StopIteration\n",
    "* for loop handles StopIteration\n",
    "* you can directly pass the generator to a function without the extra ()"
   ]
  },
  {
   "cell_type": "markdown",
   "id": "0f029455",
   "metadata": {},
   "source": [
    "### Creating a generator object for fibonacci sequence"
   ]
  },
  {
   "cell_type": "code",
   "execution_count": 98,
   "id": "ad8f5db0",
   "metadata": {},
   "outputs": [],
   "source": [
    "# using the generator function\n",
    "def fibonacci_gen():\n",
    "    i = 1\n",
    "    j = 1\n",
    "    while True:\n",
    "        yield j\n",
    "        i, j = j, i+j\n",
    "    "
   ]
  },
  {
   "cell_type": "code",
   "execution_count": 99,
   "id": "7b4c85d4",
   "metadata": {},
   "outputs": [],
   "source": [
    "f = fibonacci_gen()"
   ]
  },
  {
   "cell_type": "code",
   "execution_count": 100,
   "id": "d5829691",
   "metadata": {},
   "outputs": [
    {
     "name": "stdout",
     "output_type": "stream",
     "text": [
      "1\n",
      "2\n",
      "3\n",
      "5\n",
      "8\n",
      "13\n",
      "21\n",
      "34\n",
      "55\n",
      "89\n"
     ]
    }
   ],
   "source": [
    "for i in range(10):\n",
    "    print(next(f))"
   ]
  },
  {
   "cell_type": "markdown",
   "id": "fc23dfc4",
   "metadata": {},
   "source": [
    "### build generator pipelines\n",
    "* generators can be put together to build pipelines by linking several pipes\n",
    "* items flow one by one through the entire pipeline\n",
    "* pipeline functionality can be packaged into callable functions"
   ]
  },
  {
   "cell_type": "code",
   "execution_count": 101,
   "id": "eb8a9342",
   "metadata": {},
   "outputs": [
    {
     "name": "stdout",
     "output_type": "stream",
     "text": [
      "('Humbertson', 10)\n"
     ]
    }
   ],
   "source": [
    "def separate_names(names):\n",
    "    for full_name in names:\n",
    "        for name in full_name.split(' '):\n",
    "            yield name\n",
    "\n",
    "full_names = (name.strip() for name in open('names.txt'))\n",
    "names = separate_names(full_names)\n",
    "lengths = ((name, len(name)) for name in names)\n",
    "longest = max(lengths, key=lambda x:x[1])\n",
    "print(longest)"
   ]
  },
  {
   "cell_type": "markdown",
   "id": "3dec2639",
   "metadata": {},
   "source": [
    "This pipeline starts from the last step, and each time, one item is evaluated through the pipeline bottom up."
   ]
  },
  {
   "cell_type": "markdown",
   "id": "8943f660",
   "metadata": {},
   "source": [
    "### Context Manager\n",
    "Context manager is a python object that is able to act as a control structure when used after \"with\" statment. It manages the context for caller, including:\n",
    "* set up for caller (try)\n",
    "* yield control back to the caller (hand off) (yield)\n",
    "* wrap-up when caller is done (finally)\n",
    "\n",
    "Example: `With open('filename.txt'):\n",
    "             #do something`\n",
    "\n",
    "For a python object to be acted as a context manager, it must implement the methods \"enter\" and \"exit\""
   ]
  },
  {
   "cell_type": "markdown",
   "id": "76519130",
   "metadata": {},
   "source": [
    "### Generator for context manager\n",
    "generator provides a short-hand way to produce a context manager"
   ]
  },
  {
   "cell_type": "markdown",
   "id": "24f44629",
   "metadata": {},
   "source": [
    "`\n",
    "@contextmanager\n",
    "def simple_context_manager(n):\n",
    "    try:\n",
    "        # setup code\n",
    "        yield # context manager is suspended, and control goes to the caller\n",
    "    finally:\n",
    "        # wrap up code`"
   ]
  },
  {
   "cell_type": "code",
   "execution_count": 102,
   "id": "5f0be6c6",
   "metadata": {},
   "outputs": [],
   "source": [
    "# increments some_property by 1\n",
    "\n",
    "from contextlib import contextmanager\n",
    "\n",
    "@contextmanager\n",
    "def simple_context_manager(obj):\n",
    "    try:\n",
    "        obj.some_property += 1\n",
    "        yield\n",
    "    finally:\n",
    "        obj.some_property -= 1\n"
   ]
  },
  {
   "cell_type": "markdown",
   "id": "59b33ae8",
   "metadata": {},
   "source": [
    "For the above generator function, we have the following:\n",
    "* this function has a yield statement, and therefore will return a generator object\n",
    "* it has a contextmanager decorator, python enables it as a context manager by filling in __enter__ and __exit__ mehtods\n",
    "* the context manager accepts an object. When called, the first thing is to increment some_property of that object by one\n",
    "* after that, yield will pause the context manager, and pass the control back to the caller for it to do actions\n",
    "* when caller is finished, the context manager will go ahead and wrap up by executing the commands in finally block. In this case, it will decrement some_property\n",
    "\n",
    "Context manager makes easy execution of setup code and wrap up code with the help of python generators and context manager decorator"
   ]
  },
  {
   "cell_type": "markdown",
   "id": "cce4e4d4",
   "metadata": {},
   "source": [
    "### An example of context manager using generator"
   ]
  },
  {
   "cell_type": "code",
   "execution_count": 103,
   "id": "834e8684",
   "metadata": {},
   "outputs": [],
   "source": [
    "@contextmanager\n",
    "def simple_context_manager(obj):\n",
    "    try:\n",
    "        obj.some_property += 1\n",
    "        yield\n",
    "    finally:\n",
    "        obj.some_property -= 1\n",
    "        \n",
    "        \n",
    "class Simple_obj(object):\n",
    "    def __init__(self, arg):\n",
    "        self.some_property = arg"
   ]
  },
  {
   "cell_type": "code",
   "execution_count": 104,
   "id": "1d34737a",
   "metadata": {},
   "outputs": [
    {
     "name": "stdout",
     "output_type": "stream",
     "text": [
      "5\n",
      "6\n",
      "5\n"
     ]
    }
   ],
   "source": [
    "# step 1\n",
    "obj = Simple_obj(5)\n",
    "print(obj.some_property)\n",
    "\n",
    "# step 2\n",
    "with simple_context_manager(obj):\n",
    "    print(obj.some_property)\n",
    "    \n",
    "# step 3\n",
    "print(obj.some_property)"
   ]
  },
  {
   "cell_type": "markdown",
   "id": "e8dad3ab",
   "metadata": {},
   "source": [
    "* step 1: create a Simple_obj instance with arg = 5, and print the some_property value, which is 5\n",
    "* step 2: use context manager for Simple_obj. Once the context manager starts, it increment the some_property by 1 and returns the control back to the caller, which executes the print statement, and print 6\n",
    "* step 3: after context manager closes, print the some_property again, it returns to value of 5"
   ]
  },
  {
   "cell_type": "markdown",
   "id": "e5f926c7",
   "metadata": {},
   "source": [
    "#### Summary:\n",
    "* the @contextmanager is important, otherwise `AttributeError: __enter__` will be raised\n",
    "* the contextmanager() function (here is obj.some_property +=1) is called after a with statement\n",
    "* the indented \"with\" block (here is `print(obj.some_property)`)executes at yield statement"
   ]
  },
  {
   "cell_type": "markdown",
   "id": "db47dd46",
   "metadata": {},
   "source": [
    "### function of yield in context manager using generator\n",
    "* yield pass the control back to caller\n",
    "* if we put a value/object to the right of yield, it will make that value/object available inside the with block of the caller"
   ]
  },
  {
   "cell_type": "code",
   "execution_count": 105,
   "id": "0146894b",
   "metadata": {},
   "outputs": [],
   "source": [
    "from time import time\n",
    "from contextlib import contextmanager\n",
    "\n",
    "HEADER = \"this is the header \\n\"\n",
    "FOOTER = \"\\nthis is the footer \\n\"\n",
    "\n",
    "\n",
    "@contextmanager\n",
    "def new_log_file(name):    \n",
    "    try:\n",
    "        logname = name\n",
    "        f = open(logname, 'w')\n",
    "        f.write(HEADER)\n",
    "        yield f\n",
    "    finally:\n",
    "        f.write(FOOTER)\n",
    "        print(\"logfile created\")\n",
    "        f.close()"
   ]
  },
  {
   "cell_type": "code",
   "execution_count": 106,
   "id": "037d0b74",
   "metadata": {},
   "outputs": [
    {
     "name": "stdout",
     "output_type": "stream",
     "text": [
      "logfile created\n"
     ]
    }
   ],
   "source": [
    "with new_log_file('logfile') as file:\n",
    "    file.write(\"this is the body\")"
   ]
  },
  {
   "cell_type": "code",
   "execution_count": 107,
   "id": "68c023d8",
   "metadata": {},
   "outputs": [
    {
     "name": "stdout",
     "output_type": "stream",
     "text": [
      "this is the header \r\n",
      "this is the body\r\n",
      "this is the footer \r\n"
     ]
    }
   ],
   "source": [
    "!cat logfile"
   ]
  },
  {
   "cell_type": "markdown",
   "id": "5bd3a222",
   "metadata": {},
   "source": [
    "#### execution of the above code example:\n",
    "* new_log_file context manager creates the file using the input string as file name, and write HEADER\n",
    "* yield statement pass the control back to caller, together with the created file inside \"with\" statement\n",
    "* caller inside \"with\" statement write \"this is body\" to the file\n",
    "* context manager write the FOOTER and close the file"
   ]
  },
  {
   "cell_type": "code",
   "execution_count": null,
   "id": "fa10c12a",
   "metadata": {},
   "outputs": [],
   "source": []
  }
 ],
 "metadata": {
  "kernelspec": {
   "display_name": "Python 3 (ipykernel)",
   "language": "python",
   "name": "python3"
  },
  "language_info": {
   "codemirror_mode": {
    "name": "ipython",
    "version": 3
   },
   "file_extension": ".py",
   "mimetype": "text/x-python",
   "name": "python",
   "nbconvert_exporter": "python",
   "pygments_lexer": "ipython3",
   "version": "3.8.10"
  }
 },
 "nbformat": 4,
 "nbformat_minor": 5
}
