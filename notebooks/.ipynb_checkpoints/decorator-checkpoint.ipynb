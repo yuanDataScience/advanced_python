{
 "cells": [
  {
   "cell_type": "markdown",
   "id": "865592a8",
   "metadata": {},
   "source": [
    "### Python decorator\n",
    "#### python function is a python object"
   ]
  },
  {
   "cell_type": "code",
   "execution_count": 1,
   "id": "5516d9b6",
   "metadata": {},
   "outputs": [],
   "source": [
    "def fibonacci():\n",
    "    print(\"faibonacci\")"
   ]
  },
  {
   "cell_type": "code",
   "execution_count": 2,
   "id": "fa7b9426",
   "metadata": {},
   "outputs": [
    {
     "data": {
      "text/plain": [
       "function"
      ]
     },
     "execution_count": 2,
     "metadata": {},
     "output_type": "execute_result"
    }
   ],
   "source": [
    "type(fibonacci)"
   ]
  },
  {
   "cell_type": "code",
   "execution_count": 3,
   "id": "dec0a148",
   "metadata": {},
   "outputs": [
    {
     "data": {
      "text/plain": [
       "<function __main__.fibonacci()>"
      ]
     },
     "execution_count": 3,
     "metadata": {},
     "output_type": "execute_result"
    }
   ],
   "source": [
    "fibonacci"
   ]
  },
  {
   "cell_type": "code",
   "execution_count": 4,
   "id": "6573685b",
   "metadata": {},
   "outputs": [],
   "source": [
    "def fib(n):\n",
    "    \"\"\" return the nth number of fibonacci sequence\"\"\"\n",
    "    if n < 2:\n",
    "        return n\n",
    "    else:\n",
    "        return fib(n-1) + fib(n-2)"
   ]
  },
  {
   "cell_type": "markdown",
   "id": "85e06044",
   "metadata": {},
   "source": [
    "#### function as an object can be passed to other functions as arguments"
   ]
  },
  {
   "cell_type": "code",
   "execution_count": 5,
   "id": "c2149f90",
   "metadata": {},
   "outputs": [
    {
     "name": "stdout",
     "output_type": "stream",
     "text": [
      "Help on function fib in module __main__:\n",
      "\n",
      "fib(n)\n",
      "    return the nth number of fibonacci sequence\n",
      "\n"
     ]
    }
   ],
   "source": [
    "help(fib)"
   ]
  },
  {
   "cell_type": "markdown",
   "id": "d3d7d512",
   "metadata": {},
   "source": [
    "#### function within functions"
   ]
  },
  {
   "cell_type": "code",
   "execution_count": 6,
   "id": "3244cc19",
   "metadata": {},
   "outputs": [],
   "source": [
    "def fib_three(a, b, c):\n",
    "    \"\"\"accepts as input 3 Fibonacci numbers\"\"\"\n",
    "    def get_three():\n",
    "        return a, b, c\n",
    "    return get_three"
   ]
  },
  {
   "cell_type": "code",
   "execution_count": 7,
   "id": "553622f3",
   "metadata": {},
   "outputs": [
    {
     "data": {
      "text/plain": [
       "<function __main__.fib_three.<locals>.get_three()>"
      ]
     },
     "execution_count": 7,
     "metadata": {},
     "output_type": "execute_result"
    }
   ],
   "source": [
    "fib_three(1, 1, 2)"
   ]
  },
  {
   "cell_type": "code",
   "execution_count": 8,
   "id": "1278aca3",
   "metadata": {},
   "outputs": [],
   "source": [
    "f = fib_three(1, 1, 2)"
   ]
  },
  {
   "cell_type": "code",
   "execution_count": 9,
   "id": "cafd59a8",
   "metadata": {},
   "outputs": [
    {
     "data": {
      "text/plain": [
       "(1, 1, 2)"
      ]
     },
     "execution_count": 9,
     "metadata": {},
     "output_type": "execute_result"
    }
   ],
   "source": [
    "f()"
   ]
  },
  {
   "cell_type": "markdown",
   "id": "1ec41093",
   "metadata": {},
   "source": [
    "Observations:\n",
    "* fib_three(1, 1, 2) returns get_three() function\n",
    "* although get_three() function doesn't have any arguments, it can access the surrounding environment and returns a, b, and c using closures\n",
    "* Nested functions are able to access variables of the enclosing scope"
   ]
  },
  {
   "cell_type": "markdown",
   "id": "f80d0bee",
   "metadata": {},
   "source": [
    "A Closure is a function object that remembers values in enclosing scopes even if they are not present in memory. \n",
    " \n",
    "\n",
    "    It is a record that stores a function together with an environment: a mapping associating each free variable of the function (variables that are used locally but defined in an enclosing scope) with the value or reference to which the name was bound when the closure was created.\n",
    "    A closure—unlike a plain function—allows the function to access those captured variables through the closure’s copies of their values or references, even when the function is invoked outside their scope."
   ]
  },
  {
   "cell_type": "markdown",
   "id": "98429e9b",
   "metadata": {},
   "source": [
    "### Decorator\n",
    "A decorator is a callable that takes another function as an argument, extending the behavior of that function without explicitly modifying that function\n",
    "Why use decorators?\n",
    "* it modifies functions' behavior without modifying the function code itself. We can easily add or remove the decorators \n",
    "* it can add the common functions/modifications to many functions without having to modify the functions's code"
   ]
  },
  {
   "cell_type": "markdown",
   "id": "5e546827",
   "metadata": {},
   "source": [
    "#### A simplest decorator"
   ]
  },
  {
   "cell_type": "code",
   "execution_count": 15,
   "id": "db86b35c",
   "metadata": {},
   "outputs": [],
   "source": [
    "def my_decorator(func):\n",
    "    \"\"\"Decorator function\"\"\"\n",
    "    def wrapper():\n",
    "        \"\"\"return string F-I-B-N-A-C-C-I\"\"\"\n",
    "        return \"F-I-B-N-A-C-C-I\"\n",
    "    return wrapper\n",
    "\n",
    "def pfib():\n",
    "    \"\"\"return fibonacci\"\"\"\n",
    "    return \"Fibonacci\""
   ]
  },
  {
   "cell_type": "code",
   "execution_count": 16,
   "id": "353e7f19",
   "metadata": {},
   "outputs": [
    {
     "data": {
      "text/plain": [
       "'Fibonacci'"
      ]
     },
     "execution_count": 16,
     "metadata": {},
     "output_type": "execute_result"
    }
   ],
   "source": [
    "pfib()"
   ]
  },
  {
   "cell_type": "code",
   "execution_count": 17,
   "id": "95774697",
   "metadata": {},
   "outputs": [
    {
     "data": {
      "text/plain": [
       "'F-I-B-N-A-C-C-I'"
      ]
     },
     "execution_count": 17,
     "metadata": {},
     "output_type": "execute_result"
    }
   ],
   "source": [
    "pfib = my_decorator(pfib)\n",
    "pfib()"
   ]
  },
  {
   "cell_type": "markdown",
   "id": "59e185e8",
   "metadata": {},
   "source": [
    "`my_decorator(pfib)` =\n",
    "\n",
    "`@my_decorator\n",
    "def pfib():\n",
    "    \"\"\"return Fibonacci\"\"\"\n",
    "    return \"Fibonacci\"\n",
    "`    "
   ]
  },
  {
   "cell_type": "code",
   "execution_count": 18,
   "id": "f5a866be",
   "metadata": {},
   "outputs": [],
   "source": [
    "@my_decorator\n",
    "def pfib():\n",
    "    \"\"\"return fibonacci\"\"\"\n",
    "    return \"Fibonacci\""
   ]
  },
  {
   "cell_type": "code",
   "execution_count": 20,
   "id": "6a88be8a",
   "metadata": {},
   "outputs": [
    {
     "name": "stdout",
     "output_type": "stream",
     "text": [
      "<function my_decorator.<locals>.wrapper at 0x7fad041f23a0>\n",
      "F-I-B-N-A-C-C-I\n"
     ]
    }
   ],
   "source": [
    "print(pfib)\n",
    "print(pfib())"
   ]
  },
  {
   "cell_type": "markdown",
   "id": "19f66b23",
   "metadata": {},
   "source": [
    "#### Decorator template"
   ]
  },
  {
   "cell_type": "code",
   "execution_count": 23,
   "id": "62caa797",
   "metadata": {},
   "outputs": [],
   "source": [
    "def my_decorator(func):\n",
    "    def wrapper():\n",
    "        #do something before\n",
    "        result = func()\n",
    "        #do something after\n",
    "        return result\n",
    "    return wrapper\n",
    "\n",
    "@my_decorator\n",
    "def func():\n",
    "    return 5"
   ]
  },
  {
   "cell_type": "code",
   "execution_count": 24,
   "id": "561173c7",
   "metadata": {},
   "outputs": [
    {
     "data": {
      "text/plain": [
       "5"
      ]
     },
     "execution_count": 24,
     "metadata": {},
     "output_type": "execute_result"
    }
   ],
   "source": [
    "func()"
   ]
  },
  {
   "cell_type": "code",
   "execution_count": null,
   "id": "dc0f9d62",
   "metadata": {},
   "outputs": [],
   "source": []
  }
 ],
 "metadata": {
  "kernelspec": {
   "display_name": "Python 3 (ipykernel)",
   "language": "python",
   "name": "python3"
  },
  "language_info": {
   "codemirror_mode": {
    "name": "ipython",
    "version": 3
   },
   "file_extension": ".py",
   "mimetype": "text/x-python",
   "name": "python",
   "nbconvert_exporter": "python",
   "pygments_lexer": "ipython3",
   "version": "3.8.10"
  }
 },
 "nbformat": 4,
 "nbformat_minor": 5
}
