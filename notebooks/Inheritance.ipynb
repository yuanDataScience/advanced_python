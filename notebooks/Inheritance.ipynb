{
 "cells": [
  {
   "cell_type": "markdown",
   "id": "b1c59a13",
   "metadata": {},
   "source": [
    "### Inheritance\n",
    "This notebook is based on [RealPython pages](https://realpython.com/python-super/)"
   ]
  },
  {
   "cell_type": "code",
   "execution_count": 1,
   "id": "eb344bf7",
   "metadata": {},
   "outputs": [
    {
     "name": "stdout",
     "output_type": "stream",
     "text": [
      "initialize square\n",
      "length is 2\n",
      "kwargs in Square is {'base': 2, 'height': 4, 'test_base': 4, 'test_length': 2}\n",
      "initialize triangle\n",
      "kwargs in Triangle is {'test_base': 4, 'test_length': 2}\n",
      "TestClass args in TestClass is {'test_base': 4, 'test_length': 2}\n"
     ]
    }
   ],
   "source": [
    "class Rectangle:\n",
    "    def __init__(self, length, width, **kwargs):\n",
    "        self.length = length\n",
    "        self.width = width\n",
    "        super().__init__(**kwargs)\n",
    "\n",
    "    def area(self):\n",
    "        return self.length * self.width\n",
    "\n",
    "    def perimeter(self):\n",
    "        return 2 * self.length + 2 * self.width\n",
    "\n",
    "# Here we declare that the Square class inherits from\n",
    "# the Rectangle class\n",
    "class Square(Rectangle):\n",
    "    def __init__(self, length, **kwargs):\n",
    "        print(\"initialize square\")\n",
    "        print(f\"length is {length}\")\n",
    "        print(f\"kwargs in Square is {kwargs}\")\n",
    "        super().__init__(length=length, width=length, **kwargs)\n",
    "\n",
    "class Cube(Square):\n",
    "    def surface_area(self):\n",
    "        face_area = super().area()\n",
    "        return face_area * 6\n",
    "\n",
    "    def volume(self):\n",
    "        face_area = super().area()\n",
    "        return face_area * self.length\n",
    "\n",
    "class Triangle:\n",
    "    def __init__(self, base, height, **kwargs):\n",
    "        self.base = base\n",
    "        self.height = height\n",
    "        print(\"initialize triangle\")\n",
    "        print(f\"kwargs in Triangle is {kwargs}\")\n",
    "\n",
    "        super().__init__(**kwargs)\n",
    "\n",
    "    def tri_area(self):\n",
    "        return 0.5 * self.base * self.height\n",
    "\n",
    "class TestClass:\n",
    "    def __init__(self, **kwargs):\n",
    "       print(f\"TestClass args in TestClass is {kwargs}\")\n",
    "\n",
    "\n",
    "class RightPyramid(Square, Triangle, TestClass):\n",
    "    def __init__(self, base, slant_height, **kwargs):\n",
    "        self.base = base\n",
    "        self.slant_height = slant_height\n",
    "        kwargs[\"height\"] = slant_height\n",
    "        kwargs[\"length\"] = base\n",
    "        kwargs[\"test_base\"] = slant_height\n",
    "        kwargs[\"test_length\"] = base\n",
    "        super().__init__(base=base, **kwargs)\n",
    "\n",
    "    def area(self):\n",
    "        base_area = super().area()\n",
    "        perimeter = super().perimeter()\n",
    "        return 0.5 * perimeter * self.slant_height + base_area\n",
    "\n",
    "    def area_2(self):\n",
    "        base_area = super().area()\n",
    "        triangle_area = super().tri_area()\n",
    "        return triangle_area * 4 + base_area\n",
    "\n",
    "if __name__ == \"__main__\":\n",
    "    pyramid = RightPyramid(base=2, slant_height=4)\n",
    "    dir(RightPyramid)"
   ]
  },
  {
   "cell_type": "markdown",
   "id": "ae14e881",
   "metadata": {},
   "source": [
    "#### Conclusions:\n",
    "* multiple inherit\n",
    "  + the super() method will be invoked for each of the parent class\n",
    "  + when using kwargs in __init__() method, the kwargs dictionary will be consumed\n",
    "    + design your super class __init__() method to share the dictionary arguments\n",
    "  + MRO is from the first super class argument to the last one (left to right in arg list)\n",
    "  + make sure the method signature (name and arg list) in partent classes don't overlap\n",
    "  + first initialize its own instance varaibles, then call super.__init__()"
   ]
  },
  {
   "cell_type": "code",
   "execution_count": 2,
   "id": "a87b6e5d",
   "metadata": {},
   "outputs": [],
   "source": [
    "class Rectangle:\n",
    "    def __init__(self, length, width):\n",
    "        self.length = length\n",
    "        self.width = width\n",
    "\n",
    "    def area(self):\n",
    "        return self.length * self.width\n",
    "\n",
    "class Square(Rectangle):\n",
    "    def __init__(self, length):\n",
    "        super().__init__(length, length)\n",
    "\n",
    "class VolumeMixin:\n",
    "    def volume(self):\n",
    "        return self.area() * self.height\n",
    "\n",
    "class Cube(VolumeMixin, Square):\n",
    "    def __init__(self, length):\n",
    "        super().__init__(length)\n",
    "        self.height = length\n",
    "\n",
    "    def face_area(self):\n",
    "        return super().area()\n",
    "\n",
    "    def surface_area(self):\n",
    "        return super().area() * 6"
   ]
  },
  {
   "cell_type": "markdown",
   "id": "92d13406",
   "metadata": {},
   "source": [
    "#### Conclusion\n",
    "* using mixin \n",
    "  + mixin class don't have __init__() and instance member variables, just methods\n",
    "  + similar to interfaces\n",
    "  + mixin class method directly use instance variables in the child class"
   ]
  },
  {
   "cell_type": "code",
   "execution_count": null,
   "id": "903b7e50",
   "metadata": {},
   "outputs": [],
   "source": []
  }
 ],
 "metadata": {
  "kernelspec": {
   "display_name": "Python 3 (ipykernel)",
   "language": "python",
   "name": "python3"
  },
  "language_info": {
   "codemirror_mode": {
    "name": "ipython",
    "version": 3
   },
   "file_extension": ".py",
   "mimetype": "text/x-python",
   "name": "python",
   "nbconvert_exporter": "python",
   "pygments_lexer": "ipython3",
   "version": "3.10.4"
  }
 },
 "nbformat": 4,
 "nbformat_minor": 5
}
