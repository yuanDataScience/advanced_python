{
 "cells": [
  {
   "cell_type": "markdown",
   "id": "c6d9ab78",
   "metadata": {},
   "source": [
    "### Serialization\n",
    "Serialization is the process to take python objects and convert them to a sequence of bytes. Deserialization is to take a sequence of bytes and convert them to python objects. Why do we need these processes?\n",
    "* we divde bites in to group of eights, and call them bytes. \n",
    "* interpretor constructs this for you and you focus on high-level objects such as list, dictionary etc. \n",
    "* when you need to transfer or store data, it must be converted to a sequence of bytes.\n",
    "\n",
    "How can we do the convertion?\n",
    "* JSON, YAML, PICKLE, XML and more (all are serialization formats)\n",
    "* serialization is usually done at the edges of program. when you receive data from a socket, write to a file, create a database etc.\n",
    "* you deserailize byes to python object or objects from inputs, work with python objects, and serialize python objects into bytes\n",
    "\n",
    "Factors to consider when using formats for serialization and deserialization\n",
    "* languages supported: JSON is supported by multiple languages, and is therefore popular in APIs\n",
    "* types supported: JSON doesn't support daytime or timestamp format that you need to convert to strings or numbers\n",
    "* Schema defines how your data look like. Schema helps to validate data and detect errors\n",
    "* performance: both cpu and bandwidth cost money\n",
    "  + how much time and cpu required to convert \n",
    "  + how many bytes are sent or stored \n",
    "* examples: use JSON for external APIs and Protocol buffers for internal communication\n",
    "  + JSON doesn't support tuple. It will return a list, which may cause problem if you take advantage of immutability of tuple\n",
    "* only serialze data at the edge of the program"
   ]
  },
  {
   "cell_type": "markdown",
   "id": "770fd566",
   "metadata": {},
   "source": [
    "### Overview of commonly used formats:\n",
    "* pickle is a python-only format that can serialize almost any python type, including your custom classes\n",
    "  + pickle may use the built-in evol function during deserialization. need to be security-aware of it\n",
    "  + pickle can serialize python objects, such as set, datetime, and functions, but not lambda expressions\n",
    "* JSON most popular serialization format. Text-based and support a limited set of types\n",
    "  + dose not support timestamp \n",
    "  + no comments, making it un-usable for configuration. you need configuration files with comments\n",
    "  + looks like python, but are not the same\n",
    "* YAML and TOML are text-based and popular in configuration\n",
    "  + YAML can be complex and serialization is slow. not a problem for configuration\n",
    "  + TOML is newer, adopted by python world, such as pyproject.TOML\n",
    "* CSV and XML are old and established formats\n",
    "  + csv can be imported and exported from Excel\n",
    "  + csv doesn't have a schema\n",
    "  + everything in csv is in string format\n",
    "* XML has schema and is also text format\n",
    "* msgpack and BSON are binary formats without schema (as binary JSON)\n",
    "  + BSON is used by MONGO-DB, widely used and debugged\n",
    "  + msgpack (message package) is open format and supports a wider range of programming languages\n",
    "* Protocol Buffer is a format started at Google and become very popular\n",
    "  + also called protobuf\n",
    "  + A .proto file to define data types called messages, then use protoc compiler to generate seralization code for various languages\n",
    "  + one definition for messages for all languages using it\n",
    "  + its binary format makes it very efficient\n",
    "  + mostly used for internal communications between services\n",
    "* SQL: format to define data in relational databases\n",
    "  + well esablished for querying data\n",
    "  + has schema\n",
    "  + support a side range of types\n",
    "  + SQL3 module in python that supports it"
   ]
  },
  {
   "cell_type": "markdown",
   "id": "2f7157f9",
   "metadata": {},
   "source": [
    "### Pickle\n",
    "* pickle API has two sets of functions: \n",
    "  + dump and load: write to and read from files and return none\n",
    "  + dumps and loads: returns a byte object"
   ]
  },
  {
   "cell_type": "code",
   "execution_count": 5,
   "id": "e8b779c9",
   "metadata": {},
   "outputs": [],
   "source": [
    "\"\"\"Dance moves\"\"\"\n",
    "from datetime import datetime, timedelta\n",
    "\n",
    "\n",
    "class Move:\n",
    "    \"\"\"Move is a dance move\"\"\"\n",
    "    def __init__(self, time, limb, what):\n",
    "        self.time = time\n",
    "        self.limb = limb\n",
    "        self.what = what\n",
    "\n",
    "    def __repr__(self):\n",
    "        cls = self.__class__.__name__\n",
    "        return f'{cls}({self.time!r}, {self.limb!r}, {self.what!r})'\n",
    "\n",
    "\n",
    "# Dance moves\n",
    "second = timedelta(seconds=1)\n",
    "now = datetime.now()\n",
    "move1 = Move(now + 1*second, 'jump', 'to the left')\n",
    "move2 = Move(now + 2*second, 'step', 'to the right')\n",
    "move3 = Move(now + 3*second, 'hands', 'on your hips')\n",
    "move4 = Move(now + 4*second, 'knees', 'bring in tight')"
   ]
  },
  {
   "cell_type": "markdown",
   "id": "9cfaf688",
   "metadata": {},
   "source": [
    "#### `dumps(object)` and `loads(data)` work with Python objects and binary data\n",
    "* `data = dumps(object)` returns binary format of the serialized object. Here the result is saved in data\n",
    "* loads(data) takes the serialized binary and returns the deserialized Python object "
   ]
  },
  {
   "cell_type": "code",
   "execution_count": 6,
   "id": "dcfcd38a",
   "metadata": {},
   "outputs": [],
   "source": [
    "import pickle"
   ]
  },
  {
   "cell_type": "markdown",
   "id": "2953824a",
   "metadata": {},
   "source": [
    "Serialize python object by `pickle.dumps(object)`"
   ]
  },
  {
   "cell_type": "code",
   "execution_count": 7,
   "id": "3da0aaa3",
   "metadata": {},
   "outputs": [
    {
     "name": "stdout",
     "output_type": "stream",
     "text": [
      "data:  b'\\x80\\x04\\x95p\\x00\\x00\\x00\\x00\\x00\\x00\\x00\\x8c\\x08__main__\\x94\\x8c\\x04Move\\x94\\x93\\x94)\\x81\\x94}\\x94(\\x8c\\x04time\\x94\\x8c\\x08datetime\\x94\\x8c\\x08datetime\\x94\\x93\\x94C\\n\\x07\\xe5\\x0c\\x12\\x17\\x10:\\x06\\x11\\x9f\\x94\\x85\\x94R\\x94\\x8c\\x04limb\\x94\\x8c\\x04jump\\x94\\x8c\\x04what\\x94\\x8c\\x0bto the left\\x94ub.'\n",
      "type of data:  <class 'bytes'>\n"
     ]
    }
   ],
   "source": [
    "data = pickle.dumps(move1)\n",
    "print(\"data: \", data)\n",
    "print(\"type of data: \", type(data))"
   ]
  },
  {
   "cell_type": "code",
   "execution_count": 8,
   "id": "0fe455c3",
   "metadata": {},
   "outputs": [],
   "source": [
    "dance = [move1, move2, move3, move4]\n",
    "data_dance = pickle.dumps(dance)"
   ]
  },
  {
   "cell_type": "markdown",
   "id": "1a53141a",
   "metadata": {},
   "source": [
    "Deserialize bytes to python object by `pickle.loads(data)`"
   ]
  },
  {
   "cell_type": "code",
   "execution_count": 9,
   "id": "9f8c9edd",
   "metadata": {},
   "outputs": [
    {
     "data": {
      "text/plain": [
       "Move(datetime.datetime(2021, 12, 18, 23, 16, 58, 397727), 'jump', 'to the left')"
      ]
     },
     "execution_count": 9,
     "metadata": {},
     "output_type": "execute_result"
    }
   ],
   "source": [
    "move1d = pickle.loads(data)\n",
    "move1d"
   ]
  },
  {
   "cell_type": "code",
   "execution_count": 10,
   "id": "56b8f08d",
   "metadata": {},
   "outputs": [
    {
     "data": {
      "text/plain": [
       "[Move(datetime.datetime(2021, 12, 18, 23, 16, 58, 397727), 'jump', 'to the left'),\n",
       " Move(datetime.datetime(2021, 12, 18, 23, 16, 59, 397727), 'step', 'to the right'),\n",
       " Move(datetime.datetime(2021, 12, 18, 23, 17, 0, 397727), 'hands', 'on your hips'),\n",
       " Move(datetime.datetime(2021, 12, 18, 23, 17, 1, 397727), 'knees', 'bring in tight')]"
      ]
     },
     "execution_count": 10,
     "metadata": {},
     "output_type": "execute_result"
    }
   ],
   "source": [
    "danced = pickle.loads(data_dance)\n",
    "danced"
   ]
  },
  {
   "cell_type": "markdown",
   "id": "3cc1dc34",
   "metadata": {},
   "source": [
    "#### `dump(file) and load(file)` work with files"
   ]
  },
  {
   "cell_type": "code",
   "execution_count": 11,
   "id": "ee08159a",
   "metadata": {},
   "outputs": [],
   "source": [
    "with open('move1.pkl', 'wb') as out:\n",
    "    pickle.dump(move1, out)"
   ]
  },
  {
   "cell_type": "code",
   "execution_count": 12,
   "id": "2feb95f4",
   "metadata": {},
   "outputs": [
    {
     "data": {
      "text/plain": [
       "Move(datetime.datetime(2021, 12, 18, 23, 16, 58, 397727), 'jump', 'to the left')"
      ]
     },
     "execution_count": 12,
     "metadata": {},
     "output_type": "execute_result"
    }
   ],
   "source": [
    "with open('move1.pkl', 'rb') as fp:\n",
    "    move1f = pickle.load(fp)\n",
    "\n",
    "move1f"
   ]
  },
  {
   "cell_type": "code",
   "execution_count": 13,
   "id": "984712f9",
   "metadata": {},
   "outputs": [],
   "source": [
    "with open(\"dance.pkl\", 'wb') as out:\n",
    "    pickle.dump(dance, out)"
   ]
  },
  {
   "cell_type": "code",
   "execution_count": 14,
   "id": "b4922d77",
   "metadata": {},
   "outputs": [
    {
     "data": {
      "text/plain": [
       "[Move(datetime.datetime(2021, 12, 18, 23, 16, 58, 397727), 'jump', 'to the left'),\n",
       " Move(datetime.datetime(2021, 12, 18, 23, 16, 59, 397727), 'step', 'to the right'),\n",
       " Move(datetime.datetime(2021, 12, 18, 23, 17, 0, 397727), 'hands', 'on your hips'),\n",
       " Move(datetime.datetime(2021, 12, 18, 23, 17, 1, 397727), 'knees', 'bring in tight')]"
      ]
     },
     "execution_count": 14,
     "metadata": {},
     "output_type": "execute_result"
    }
   ],
   "source": [
    "with open(\"dance.pkl\", 'rb') as fp:\n",
    "    dancef = pickle.load(fp)\n",
    "    \n",
    "dancef    "
   ]
  },
  {
   "cell_type": "markdown",
   "id": "76febcec",
   "metadata": {},
   "source": [
    "#### work with sockets for streaming\n",
    "* we can write one object after another to the socket and read them one at a time at the receiving end\n",
    "* the following code snippet uses socketpair to simulate client-server"
   ]
  },
  {
   "cell_type": "code",
   "execution_count": 15,
   "id": "149b486d",
   "metadata": {},
   "outputs": [
    {
     "name": "stdout",
     "output_type": "stream",
     "text": [
      "jump to the left\n",
      "step to the right\n",
      "hands on your hips\n",
      "knees bring in tight\n"
     ]
    }
   ],
   "source": [
    "from socket import socketpair\n",
    "\n",
    "# create read and write socket pair\n",
    "ws, rs = socketpair()\n",
    "\n",
    "# create a write file and a read file for the socket\n",
    "w, r = ws.makefile('wb'), rs.makefile('rb')\n",
    "\n",
    "# Serialize\n",
    "pickle.dump(move1, w)\n",
    "pickle.dump(move2, w)\n",
    "pickle.dump(move3, w)\n",
    "pickle.dump(move4, w)\n",
    "\n",
    "# flush the data to send the data over to the other side (read side)\n",
    "w.flush()\n",
    "\n",
    "# De-serialize the object from the othe side of the socket\n",
    "for _ in range(4):\n",
    "    move = pickle.load(r)\n",
    "    print(f'{move.limb} {move.what}')"
   ]
  },
  {
   "cell_type": "markdown",
   "id": "d7318837",
   "metadata": {},
   "source": [
    "### Shelve\n",
    "* Shelve is like a dictionary\n",
    "* can store many objects, each one by its own key\n",
    "* store objects that are too slow to move to databases"
   ]
  },
  {
   "cell_type": "code",
   "execution_count": 16,
   "id": "ec380d1a",
   "metadata": {},
   "outputs": [
    {
     "name": "stdout",
     "output_type": "stream",
     "text": [
      "Move(datetime.datetime(2021, 12, 18, 23, 16, 58, 397727), 'jump', 'to the left')\n"
     ]
    }
   ],
   "source": [
    "import shelve\n",
    "\n",
    "# store objects\n",
    "db = shelve.open('dance.db')\n",
    "db['1'] = move1\n",
    "db['2'] = move2\n",
    "db['3'] = move3\n",
    "db['4'] = move4\n",
    "db.close()\n",
    "\n",
    "db = shelve.open('dance.db')\n",
    "print(db['1'])"
   ]
  },
  {
   "cell_type": "markdown",
   "id": "d140dc69",
   "metadata": {},
   "source": [
    "### Serialization with repr\n",
    "* there are two ways to represent an object in python\n",
    "  + str: for external representation\n",
    "  + repr: for developers\n",
    "  + repr is usually a way to re-create the python object\n",
    "  + add a repr to your own types, and use the repr format when logging, which you can copy and paste to interpreter to inspect the object\n",
    "  + All the following can be used to print repr of an object obj\n",
    "    + print('%r' % obj)\n",
    "    + print(repr(obj))\n",
    "    + print(f'{obj!r}')"
   ]
  },
  {
   "cell_type": "code",
   "execution_count": 17,
   "id": "3ca94809",
   "metadata": {},
   "outputs": [
    {
     "name": "stdout",
     "output_type": "stream",
     "text": [
      "1 1\n",
      "1 '1'\n"
     ]
    }
   ],
   "source": [
    "i, s = 1, '1'\n",
    "\n",
    "# using str\n",
    "print(i, s)\n",
    "\n",
    "# using repr\n",
    "print(repr(i), repr(s))"
   ]
  },
  {
   "cell_type": "markdown",
   "id": "abe291ae",
   "metadata": {},
   "source": [
    "#### Example of using repr to print object in logger and re-create the object"
   ]
  },
  {
   "cell_type": "code",
   "execution_count": 18,
   "id": "07b5f9c5",
   "metadata": {},
   "outputs": [],
   "source": [
    "\"\"\"repr example\"\"\"\n",
    "import logging\n",
    "\n",
    "\n",
    "logging.basicConfig(level=logging.INFO, filename='game.log')\n",
    "\n",
    "\n",
    "class Player:\n",
    "    \"\"\"A player in the game\"\"\"\n",
    "    def __init__(self, id, name, keys):\n",
    "        self.id = id\n",
    "        self.name = name\n",
    "        self.keys = keys\n",
    "\n",
    "    def __repr__(self):\n",
    "        cls = self.__class__.__name__  # self can be a subclass\n",
    "        return f'{cls}({self.id!r}, {self.name!r}, {self.keys!r})'\n",
    "\n",
    "\n",
    "p1 = Player(1, 'Parzival', {'copper', 'jade'})\n",
    "logging.info('p1 is %r', p1)"
   ]
  },
  {
   "cell_type": "code",
   "execution_count": 19,
   "id": "59430594",
   "metadata": {},
   "outputs": [
    {
     "name": "stdout",
     "output_type": "stream",
     "text": [
      "INFO:root:p1 is Player(1, 'Parzival', {'copper', 'jade'})\r\n",
      "INFO:root:p1 is Player(1, 'Parzival', {'jade', 'copper'})\r\n"
     ]
    }
   ],
   "source": [
    "!cat game.log"
   ]
  },
  {
   "cell_type": "code",
   "execution_count": 20,
   "id": "fede290e",
   "metadata": {},
   "outputs": [
    {
     "data": {
      "text/plain": [
       "Player(1, 'Parzival', {'jade', 'copper'})"
      ]
     },
     "execution_count": 20,
     "metadata": {},
     "output_type": "execute_result"
    }
   ],
   "source": [
    "# re-create the object from the logger entry\n",
    "p1 = Player(1, 'Parzival', {'copper', 'jade'})\n",
    "\n",
    "p1"
   ]
  },
  {
   "cell_type": "code",
   "execution_count": 21,
   "id": "7555467e",
   "metadata": {},
   "outputs": [
    {
     "data": {
      "text/plain": [
       "1"
      ]
     },
     "execution_count": 21,
     "metadata": {},
     "output_type": "execute_result"
    }
   ],
   "source": [
    "p1.id"
   ]
  },
  {
   "cell_type": "markdown",
   "id": "4697f023",
   "metadata": {},
   "source": [
    "#### NamedTuple and dataclass for repr\n",
    "* you can write your own repr function for your class, but it is tedious\n",
    "* namedtuple and DataClass can shorten the code you need to write"
   ]
  },
  {
   "cell_type": "code",
   "execution_count": 22,
   "id": "c0ff819a",
   "metadata": {},
   "outputs": [
    {
     "name": "stdout",
     "output_type": "stream",
     "text": [
      "Player(id=1, name='Parzival', keys={'jade', 'copper'})\n"
     ]
    }
   ],
   "source": [
    "from collections import namedtuple\n",
    "\n",
    "Player = namedtuple('Player', 'id name keys')\n",
    "\n",
    "p1 = Player(1, 'Parzival', {'copper', 'jade'})\n",
    "print(repr(p1))"
   ]
  },
  {
   "cell_type": "code",
   "execution_count": 23,
   "id": "0031f42e",
   "metadata": {},
   "outputs": [
    {
     "name": "stdout",
     "output_type": "stream",
     "text": [
      "Player(id=1, name='Parzival', keys={'jade', 'copper'})\n"
     ]
    }
   ],
   "source": [
    "from dataclasses import dataclass\n",
    "\n",
    "@dataclass\n",
    "class Player:\n",
    "    \"\"\"A player in the game\"\"\"\n",
    "    id: int\n",
    "    name: str\n",
    "    keys: set\n",
    "        \n",
    "p1 = Player(1, 'Parzival', {'copper', 'jade'})\n",
    "print(p1)"
   ]
  },
  {
   "cell_type": "markdown",
   "id": "986c359d",
   "metadata": {},
   "source": [
    "### Another option is to not use serialization, but configuration files (further understand python config)\n",
    "* security\n",
    "* use SimpleNameSpace and exec to load a config.py file\n",
    "* use importmachinary to load config.py file\n",
    "* config file can contain any valid python code"
   ]
  },
  {
   "cell_type": "code",
   "execution_count": 29,
   "id": "4faf163b",
   "metadata": {},
   "outputs": [
    {
     "data": {
      "text/plain": [
       "namespace(api_key='test-api-key', log_level=20, port=8080, num_workers=100)"
      ]
     },
     "execution_count": 29,
     "metadata": {},
     "output_type": "execute_result"
    }
   ],
   "source": [
    "%run load_config.py\n",
    "config = load_config('config.py')\n",
    "config"
   ]
  },
  {
   "cell_type": "code",
   "execution_count": 30,
   "id": "200837b2",
   "metadata": {},
   "outputs": [
    {
     "data": {
      "text/plain": [
       "<module 'config' from 'config.py'>"
      ]
     },
     "execution_count": 30,
     "metadata": {},
     "output_type": "execute_result"
    }
   ],
   "source": [
    "%run load_config_imp.py\n",
    "config = load_config('config.py')\n",
    "config"
   ]
  },
  {
   "cell_type": "code",
   "execution_count": 31,
   "id": "f9767f1f",
   "metadata": {},
   "outputs": [
    {
     "data": {
      "text/plain": [
       "100"
      ]
     },
     "execution_count": 31,
     "metadata": {},
     "output_type": "execute_result"
    }
   ],
   "source": [
    "config.num_workers"
   ]
  },
  {
   "cell_type": "markdown",
   "id": "61e0f492",
   "metadata": {},
   "source": [
    "#### Exercise: add the repr method of a class and load data from a pickle file\n",
    "* the following is the content of rides.py, which must be available (in the same folder or python path) for pickle.load()"
   ]
  },
  {
   "cell_type": "code",
   "execution_count": 32,
   "id": "e7638fc0",
   "metadata": {},
   "outputs": [],
   "source": [
    "\n",
    "\"\"\"Add __repr__ to Ride class and then loads rides from rides.pkl (pickle\n",
    "format) and print repr of each ride.\n",
    "\"\"\"\n",
    "from datetime import datetime\n",
    "\n",
    "\n",
    "class Ride:\n",
    "    def __init__(self, start, end, distance, num_passengers):\n",
    "        \n",
    "        self.start = start  # type: datetime\n",
    "        self.end = end  # type: datetime\n",
    "        self.distance = distance  # type: float\n",
    "        self.num_passengers = num_passengers  # type: int\n",
    "        \n",
    "    def __repr__(self):\n",
    "        cls = self.__class__.__name__\n",
    "        start, end, distance, num_passengers = self.start, self.end, self.distance, self.num_passengers\n",
    "        return f'{cls}({start!r}, {end!r}, {distance!r}, {num_passengers!r})'"
   ]
  },
  {
   "cell_type": "code",
   "execution_count": 33,
   "id": "b746bdad",
   "metadata": {},
   "outputs": [
    {
     "name": "stdout",
     "output_type": "stream",
     "text": [
      "<_io.BufferedReader name='rides.pkl'>\n",
      "<_io.BufferedReader name='rides.pkl'>\n",
      "<_io.BufferedReader name='rides.pkl'>\n",
      "<_io.BufferedReader name='rides.pkl'>\n",
      "<_io.BufferedReader name='rides.pkl'>\n",
      "<_io.BufferedReader name='rides.pkl'>\n",
      "<_io.BufferedReader name='rides.pkl'>\n",
      "<_io.BufferedReader name='rides.pkl'>\n",
      "<_io.BufferedReader name='rides.pkl'>\n",
      "<_io.BufferedReader name='rides.pkl'>\n"
     ]
    }
   ],
   "source": [
    "with open('rides.pkl', 'rb') as fp:\n",
    "    while True:\n",
    "        try:\n",
    "            ride = pickle.load(fp)\n",
    "            print(fp)\n",
    "        except EOFError:\n",
    "            break"
   ]
  },
  {
   "cell_type": "markdown",
   "id": "1ed2a092",
   "metadata": {},
   "source": [
    "### IMPORTANT TO KNOW!!!\n",
    "What happens when pickle.load() function returns an error message of:\n",
    "\"ModuleNotFoundError: No module named 'Data' ?\n",
    "\n",
    "The program that created the pickle file did import Data and there are references to that module inside the pickled object. The program that loads the pickled object needs to be able to import that module to resolve those references. Either put the location of Data.py on your PYTHONPATH (or add the location to sys.path), or copy the module to where your program can find it.\n"
   ]
  },
  {
   "cell_type": "markdown",
   "id": "6325a7c8",
   "metadata": {},
   "source": [
    "### JSON\n",
    "* can serialize Python dict, list, numbers, strings\n",
    "* dumps() and load() work with strings, and dump() and load() work with files\n",
    "* in the following example, we have a python dictionary"
   ]
  },
  {
   "cell_type": "code",
   "execution_count": 35,
   "id": "71a4c40e",
   "metadata": {},
   "outputs": [],
   "source": [
    "# define a python dirctionay for serialization by JSON\n",
    "\"\"\"Shopping event\"\"\"\n",
    "event = {\n",
    "    'name': 'Homer Simpson',\n",
    "    'item': 'Duff',\n",
    "    'amount': 4,\n",
    "    'item price': 4.75,\n",
    "}"
   ]
  },
  {
   "cell_type": "markdown",
   "id": "d7e54481",
   "metadata": {},
   "source": [
    "#### Use dumps() and loads() that serialize/deserialize objects to/from strings"
   ]
  },
  {
   "cell_type": "code",
   "execution_count": 36,
   "id": "f960c772",
   "metadata": {},
   "outputs": [
    {
     "name": "stdout",
     "output_type": "stream",
     "text": [
      "serialized: {\"name\": \"Homer Simpson\", \"item\": \"Duff\", \"amount\": 4, \"item price\": 4.75}\n",
      "data type: <class 'str'>\n"
     ]
    }
   ],
   "source": [
    "\"\"\"Basic usage of JSON\"\"\"\n",
    "import json\n",
    "\n",
    "# Serialize to bytes, dict keys must be str\n",
    "data = json.dumps(event)\n",
    "print('serialized:', data)\n",
    "print('data type:', type(data))"
   ]
  },
  {
   "cell_type": "code",
   "execution_count": 38,
   "id": "9e7e788c",
   "metadata": {},
   "outputs": [
    {
     "name": "stdout",
     "output_type": "stream",
     "text": [
      "data_bytes type: <class 'bytes'>\n"
     ]
    }
   ],
   "source": [
    "# if we need to feed the data into sockets, we need to serialize data into bytes\n",
    "data_bytes = data.encode('utf-8')\n",
    "print('data_bytes type:', type(data_bytes))"
   ]
  },
  {
   "cell_type": "code",
   "execution_count": 39,
   "id": "b7e81127",
   "metadata": {},
   "outputs": [
    {
     "name": "stdout",
     "output_type": "stream",
     "text": [
      "serialized indented: {\n",
      "    \"name\": \"Homer Simpson\",\n",
      "    \"item\": \"Duff\",\n",
      "    \"amount\": 4,\n",
      "    \"item price\": 4.75\n",
      "}\n"
     ]
    }
   ],
   "source": [
    "# Indent. We can convert objects to indent strings by dumps\n",
    "print('serialized indented:', json.dumps(event, indent=4))"
   ]
  },
  {
   "cell_type": "code",
   "execution_count": 40,
   "id": "dea1b5b1",
   "metadata": {},
   "outputs": [
    {
     "name": "stdout",
     "output_type": "stream",
     "text": [
      "equal: True\n",
      "equal (bytes): True\n"
     ]
    }
   ],
   "source": [
    "# loads object from string\n",
    "event_str = json.loads(data)\n",
    "print('equal:', event_str == event)\n",
    "\n",
    "# loads object from bytes\n",
    "event_bytes = json.loads(data_bytes)  # Can loads from bytes as well\n",
    "print('equal (bytes):', event_bytes == event)\n"
   ]
  },
  {
   "cell_type": "markdown",
   "id": "7f9e4944",
   "metadata": {},
   "source": [
    "#### Use dump() and load() with files"
   ]
  },
  {
   "cell_type": "code",
   "execution_count": 41,
   "id": "d46542f8",
   "metadata": {},
   "outputs": [
    {
     "name": "stdout",
     "output_type": "stream",
     "text": [
      "equal (file): True\n"
     ]
    }
   ],
   "source": [
    "# Working with files\n",
    "with open('event.json', 'w') as out:\n",
    "    json.dump(event, out)\n",
    "\n",
    "with open('event.json') as fp:\n",
    "    event_file = json.load(fp)\n",
    "\n",
    "print('equal (file):', event_file == event)"
   ]
  },
  {
   "cell_type": "markdown",
   "id": "01856cab",
   "metadata": {},
   "source": [
    "#### question: how does python compare dict?"
   ]
  },
  {
   "cell_type": "markdown",
   "id": "ee765dff",
   "metadata": {},
   "source": [
    "#### work with datetime fields in python objects\n",
    "* JSON can not serialize objects containing datetime fields\n",
    "* one solution is to define helper function that can convert time between str and time for serialization/deserializaton\n",
    "* notice that after json.loads(), the datetime field is a string\n",
    "* we use helper function pairs_hook to convert it back to datetime\n",
    "* Anything that can be represented as a JSON type can be converted to JSON"
   ]
  },
  {
   "cell_type": "code",
   "execution_count": 53,
   "id": "d072aeac",
   "metadata": {},
   "outputs": [],
   "source": [
    "# an object contains datetime field\n",
    "from datetime import datetime\n",
    "\n",
    "event = {\n",
    "    'time': datetime(2020, 4, 17, 13, 27, 48),\n",
    "    'name': 'Homer',\n",
    "    'item': 'Duff',\n",
    "    'amount': 4,\n",
    "    'item price': 4.75,\n",
    "}"
   ]
  },
  {
   "cell_type": "code",
   "execution_count": 54,
   "id": "d35659a5",
   "metadata": {},
   "outputs": [],
   "source": [
    "# the script containing helper functions to convert between datetime and str\n",
    "# this code is in custom.p that will be imported in the following code snippet\n",
    "\"\"\"Example serializing custom types\"\"\"\n",
    "from datetime import datetime\n",
    "\n",
    "\n",
    "# this function convert datetime fields in an object to str\n",
    "# obj here is each field of the python object\n",
    "def default(obj):\n",
    "    \"\"\"Encode datetime to string in YYYY-MM-DDTHH:MM:SS format (RFC3339)\"\"\"\n",
    "    if isinstance(obj, datetime):\n",
    "        return obj.isoformat()\n",
    "    return obj\n",
    "\n",
    "\n",
    "# this function convert str back to datetime\n",
    "# pairs is the JSON object\n",
    "def pairs_hook(pairs):\n",
    "    \"\"\"Convert the \"time\" key to datetime\"\"\"\n",
    "    obj = {}\n",
    "    for key, value in pairs:\n",
    "        if key == 'time':\n",
    "            value = datetime.fromisoformat(value)  # Python >= 3.7\n",
    "        obj[key] = value\n",
    "    return obj"
   ]
  },
  {
   "cell_type": "code",
   "execution_count": 55,
   "id": "437cc498",
   "metadata": {},
   "outputs": [
    {
     "data": {
      "text/plain": [
       "{'time': '2020-04-17T13:27:48',\n",
       " 'name': 'Homer',\n",
       " 'item': 'Duff',\n",
       " 'amount': 4,\n",
       " 'item price': 4.75}"
      ]
     },
     "execution_count": 55,
     "metadata": {},
     "output_type": "execute_result"
    }
   ],
   "source": [
    "# import helper function from custom.py to convert datetime to string\n",
    "from custom import default\n",
    "\n",
    "data = json.dumps(event, default=default)\n",
    "json.loads(data)"
   ]
  },
  {
   "cell_type": "code",
   "execution_count": 56,
   "id": "12d1db78",
   "metadata": {},
   "outputs": [
    {
     "data": {
      "text/plain": [
       "{'time': datetime.datetime(2020, 4, 17, 13, 27, 48),\n",
       " 'name': 'Homer',\n",
       " 'item': 'Duff',\n",
       " 'amount': 4,\n",
       " 'item price': 4.75}"
      ]
     },
     "execution_count": 56,
     "metadata": {},
     "output_type": "execute_result"
    }
   ],
   "source": [
    "# import helper function from custom.py to convert string back to datetime\n",
    "from custom import pairs_hook\n",
    "\n",
    "json.loads(data, object_pairs_hook=pairs_hook)"
   ]
  },
  {
   "cell_type": "markdown",
   "id": "9f331cb1",
   "metadata": {},
   "source": [
    "#### Serialize stream data when\n",
    "* we don't know how many objects to serialize\n",
    "* too many object to encode in one pass\n",
    "* JSON only allows to endcode one object at a time\n",
    "* To encode multiple objects, we construct the json list, with each object in one line"
   ]
  },
  {
   "cell_type": "code",
   "execution_count": 57,
   "id": "3d324eeb",
   "metadata": {},
   "outputs": [
    {
     "name": "stdout",
     "output_type": "stream",
     "text": [
      "got {'animal': 'bee', 'group': 'swarm'}\n",
      "got {'animal': 'fox', 'group': 'charm'}\n",
      "got {'animal': 'whale', 'group': 'pod'}\n"
     ]
    }
   ],
   "source": [
    "\"\"\"Example of streaming JSON\"\"\"\n",
    "\n",
    "import json\n",
    "from io import BytesIO\n",
    "\n",
    "groups = [\n",
    "    {'animal': 'bee', 'group': 'swarm'},\n",
    "    {'animal': 'fox', 'group': 'charm'},\n",
    "    {'animal': 'whale', 'group': 'pod'},\n",
    "]\n",
    "\n",
    "\n",
    "# Sending side\n",
    "# create an in memory BytesIO\n",
    "network = BytesIO()\n",
    "\n",
    "# read each object from groups and serialize it to byte (BytesIO)\n",
    "for message in groups:\n",
    "    data = json.dumps(message)\n",
    "    network.write(data.encode('utf-8'))  # Sockets work in byte level\n",
    "    network.write(b'\\n') # add a \\n so each object in one line\n",
    "\n",
    "\n",
    "# Receiving side\n",
    "network.seek(0)  # Go back to start of data for reading side\n",
    "\n",
    "# read one object from each line, and loads the object\n",
    "while True:\n",
    "    line = network.readline()\n",
    "    if not line:\n",
    "        break\n",
    "\n",
    "    message = json.loads(line)\n",
    "    print('got', message)"
   ]
  },
  {
   "cell_type": "markdown",
   "id": "7a86e244",
   "metadata": {},
   "source": [
    "#### Exercise: print log file with each object one line\n",
    "* the content of log.py pasted here\n",
    "* there is datetime filed, we will use default and object_pairs_hook in json.dumps and json.loads\n",
    "* we use asdict() function to convert a dataclass object to dictionary and then serialize by json.dumps()"
   ]
  },
  {
   "cell_type": "code",
   "execution_count": 58,
   "id": "517ef427",
   "metadata": {},
   "outputs": [
    {
     "name": "stdout",
     "output_type": "stream",
     "text": [
      "{\"time\": \"2020-05-01T13:23:32\", \"ip\": \"163.206.89.4\", \"path\": \"/images/cat.png\", \"status\": 200}\n",
      "{\"time\": \"2020-05-01T13:27:01\", \"ip\": \"165.227.94.117\", \"path\": \"/images/dog.png\", \"status\": 200}\n",
      "{\"time\": \"2020-05-01T13:32:53\", \"ip\": \"137.204.201.12\", \"path\": \"/images/horse.png\", \"status\": 404}\n",
      "{\"time\": \"2020-05-01T13:44:02\", \"ip\": \"138.86.14.23\", \"path\": \"/images/cat.png\", \"status\": 200}\n",
      "{\"time\": \"2020-05-01T13:51:37\", \"ip\": \"142.130.48.163\", \"path\": \"/images/fox.png\", \"status\": 200}\n"
     ]
    }
   ],
   "source": [
    "\"\"\"Print logs to standard output in JSON format, one object per line.\"\"\"\n",
    "from dataclasses import dataclass, asdict\n",
    "from datetime import datetime\n",
    "from http import HTTPStatus\n",
    "from ipaddress import IPv4Address\n",
    "\n",
    "\n",
    "@dataclass\n",
    "class Log:\n",
    "    \"\"\"A request log\"\"\"\n",
    "    time: datetime\n",
    "    ip: IPv4Address\n",
    "    path: str\n",
    "    status: HTTPStatus\n",
    "\n",
    "\n",
    "logs = [\n",
    "    Log(\n",
    "        datetime(2020, 5, 1, 13, 23, 32),\n",
    "        IPv4Address('163.206.89.4'),\n",
    "        '/images/cat.png', 200,\n",
    "    ),\n",
    "    Log(\n",
    "        datetime(2020, 5, 1, 13, 27, 1),\n",
    "        IPv4Address('165.227.94.117'),\n",
    "        '/images/dog.png', 200,\n",
    "    ),\n",
    "    Log(\n",
    "        datetime(2020, 5, 1, 13, 32, 53),\n",
    "        IPv4Address('137.204.201.12'),\n",
    "        '/images/horse.png', 404,\n",
    "    ),\n",
    "    Log(\n",
    "        datetime(2020, 5, 1, 13, 44, 2),\n",
    "        IPv4Address('138.86.14.23'),\n",
    "        '/images/cat.png', 200,\n",
    "    ),\n",
    "    Log(\n",
    "        datetime(2020, 5, 1, 13, 51, 37),\n",
    "        IPv4Address('142.130.48.163'),\n",
    "        '/images/fox.png', 200,\n",
    "    ),\n",
    "]\n",
    "\n",
    "def default(obj):\n",
    "    \"\"\"convert datetime and IPv4Address to type supported by JSON\"\"\"\n",
    "    if isinstance(obj, datetime):\n",
    "        return obj.isoformat()\n",
    "    if isinstance(obj, IPv4Address):\n",
    "        return str(obj)\n",
    "    return obj\n",
    "\n",
    "for log in logs:\n",
    "    data = json.dumps(asdict(log), default=default)\n",
    "    print(data)"
   ]
  },
  {
   "cell_type": "markdown",
   "id": "3e8c1db3",
   "metadata": {},
   "source": [
    "### Encoding\n",
    "* every object will be serialized to byte \n",
    "* How strings are encoded. (unicode is a system for storing written human language in a computer)\n",
    "* unicode is an encoding schema\n",
    "  + specs assign a number to every character that is also called a code point. \n",
    "  + a code point is encoded into bytes (base64/hexadecimal). p : 80: 0x50 (80 is assgined to letter p, code point for p is 50)\n",
    "  + some code points in unicode represent control points.`[E2][80][8F]` means text direction is \"right to left\"\n",
    "  + glyphs is the representation of strings defined by fonts. No fonts can display all unicode characters\n",
    "* Python is coded as `[50][79][74][68][6f][6e]`\n",
    "* the most common coding is UTF-8\n",
    "  + variable encoding. Every character can be 1, 2, or 4 bytes\n",
    "* in python3, we have two types for strings, str and Bytes\n",
    "  + str is a unicode string. every character is mapped to a code point\n",
    "  + Byte is a sequence of bytes that can be an encoding of a str\n",
    "* we have different normalization format, making the string comparison complicated\n",
    "  + NFC/NFKC, and NFD normalization formats\n",
    "  + we use unicodedata module to normalize the string\n",
    "  "
   ]
  },
  {
   "cell_type": "code",
   "execution_count": 62,
   "id": "bcb7a441",
   "metadata": {},
   "outputs": [
    {
     "name": "stdout",
     "output_type": "stream",
     "text": [
      "str of city is  Köln\n",
      "len of city str 4\n",
      "Byte of city is  b'K\\xc3\\xb6ln'\n",
      "len of city Byte  5\n",
      "decode city_b Köln\n",
      "________________________________________________\n",
      "str of query is  Köln\n",
      "len of query str 5\n",
      "Byte of query is  b'Ko\\xcc\\x88ln'\n",
      "len of query Byte  6\n"
     ]
    }
   ],
   "source": [
    "city = 'Köln'\n",
    "print(\"str of city is \", city)\n",
    "print(\"len of city str\", len(city))\n",
    "\n",
    "city_b = city.encode('UTF-8')\n",
    "print(\"Byte of city is \", city_b)\n",
    "print(\"len of city Byte \", len(city_b))\n",
    "print(\"decode city_b\", city_b.decode(\"UTF-8\"))\n",
    "\n",
    "print(\"________________________________________________\")\n",
    "\n",
    "query = 'Köln'\n",
    "print(\"str of query is \", query)\n",
    "print(\"len of query str\", len(query))\n",
    "print(\"Byte of query is \", query.encode('UTF-8'))\n",
    "print(\"len of query Byte \", len(query.encode('UTF-8')))\n"
   ]
  },
  {
   "cell_type": "markdown",
   "id": "b3f4eccb",
   "metadata": {},
   "source": [
    "#### Normalize strings"
   ]
  },
  {
   "cell_type": "code",
   "execution_count": 65,
   "id": "935bc04b",
   "metadata": {},
   "outputs": [
    {
     "data": {
      "text/plain": [
       "True"
      ]
     },
     "execution_count": 65,
     "metadata": {},
     "output_type": "execute_result"
    }
   ],
   "source": [
    "import unicodedata\n",
    "query2 = unicodedata.normalize('NFKC', query)\n",
    "city == query2"
   ]
  },
  {
   "cell_type": "markdown",
   "id": "496165d5",
   "metadata": {},
   "source": [
    "#### compare strings\n",
    "* in python, use `p1.lower() == p2.lower()`\n",
    "* in other languages, this may not work. Use casefold()"
   ]
  },
  {
   "cell_type": "code",
   "execution_count": 66,
   "id": "5861df7a",
   "metadata": {},
   "outputs": [
    {
     "data": {
      "text/plain": [
       "True"
      ]
     },
     "execution_count": 66,
     "metadata": {},
     "output_type": "execute_result"
    }
   ],
   "source": [
    "p1, p2 = \"Python\", \"python\"\n",
    "p1.lower() == p2.lower()"
   ]
  },
  {
   "cell_type": "code",
   "execution_count": 67,
   "id": "4d2bbd35",
   "metadata": {},
   "outputs": [
    {
     "data": {
      "text/plain": [
       "True"
      ]
     },
     "execution_count": 67,
     "metadata": {},
     "output_type": "execute_result"
    }
   ],
   "source": [
    "p1.casefold() == p2.casefold()"
   ]
  },
  {
   "cell_type": "markdown",
   "id": "af4a33b1",
   "metadata": {},
   "source": [
    "### How to detect encoding?\n",
    "* http content-type, charset=utf-8\n",
    "* JSON by default uses utf-8 encoding\n",
    "* use chardet to find out the encoding"
   ]
  },
  {
   "cell_type": "code",
   "execution_count": 69,
   "id": "e41fcefe",
   "metadata": {},
   "outputs": [
    {
     "data": {
      "text/plain": [
       "{'encoding': 'UTF-8-SIG', 'confidence': 1.0, 'language': ''}"
      ]
     },
     "execution_count": 69,
     "metadata": {},
     "output_type": "execute_result"
    }
   ],
   "source": [
    "import chardet\n",
    "\n",
    "with open('aow.txt', 'rb') as fp:\n",
    "    data = fp.read()\n",
    "    \n",
    "chardet.detect(data)    "
   ]
  },
  {
   "cell_type": "code",
   "execution_count": 70,
   "id": "fd709bec",
   "metadata": {},
   "outputs": [
    {
     "data": {
      "text/plain": [
       "{'encoding': 'UTF-16', 'confidence': 1.0, 'language': ''}"
      ]
     },
     "execution_count": 70,
     "metadata": {},
     "output_type": "execute_result"
    }
   ],
   "source": [
    "with open('aow16.txt', 'rb') as fp:\n",
    "    data = fp.read()\n",
    "    \n",
    "chardet.detect(data)  "
   ]
  },
  {
   "cell_type": "markdown",
   "id": "8e16407b",
   "metadata": {},
   "source": [
    "### Exercise: normalize and compare words by casefold"
   ]
  },
  {
   "cell_type": "code",
   "execution_count": 71,
   "id": "59c18ec2",
   "metadata": {},
   "outputs": [
    {
     "name": "stdout",
     "output_type": "stream",
     "text": [
      "python         \t3\n",
      "gdańsk         \t3\n",
      "fluss          \t2\n",
      "σίγμα          \t2\n"
     ]
    }
   ],
   "source": [
    "\"\"\"Print count of words (ignoring case)\"\"\"\n",
    "from collections import Counter\n",
    "import unicodedata\n",
    "\n",
    "\n",
    "wc = Counter()\n",
    "with open('words.txt', encoding='utf-8') as fp:\n",
    "    for word in fp:\n",
    "        word = word.strip()\n",
    "        key = unicodedata.normalize('NFKC',word).casefold()\n",
    "        wc[key] += 1\n",
    "\n",
    "for word, count in wc.most_common():\n",
    "    print(f'{word:<15}\\t{count}')"
   ]
  },
  {
   "cell_type": "code",
   "execution_count": null,
   "id": "a6491aa0",
   "metadata": {},
   "outputs": [],
   "source": []
  }
 ],
 "metadata": {
  "kernelspec": {
   "display_name": "Python 3 (ipykernel)",
   "language": "python",
   "name": "python3"
  },
  "language_info": {
   "codemirror_mode": {
    "name": "ipython",
    "version": 3
   },
   "file_extension": ".py",
   "mimetype": "text/x-python",
   "name": "python",
   "nbconvert_exporter": "python",
   "pygments_lexer": "ipython3",
   "version": "3.8.10"
  }
 },
 "nbformat": 4,
 "nbformat_minor": 5
}
