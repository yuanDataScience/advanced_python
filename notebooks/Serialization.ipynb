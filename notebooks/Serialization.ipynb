{
 "cells": [
  {
   "cell_type": "markdown",
   "id": "762c56e5",
   "metadata": {},
   "source": [
    "### Serialization\n",
    "Serialization is the process to take python objects and convert them to a sequence of bytes. Deserialization is to take a sequence of bytes and convert them to python objects. Why do we need these processes?\n",
    "* we divde bites in to group of eights, and call them bytes. \n",
    "* interpretor constructs this for you and you focus on high-level objects such as list, dictionary etc. \n",
    "* when you need to transfer or store data, it must be converted to a sequence of bytes.\n",
    "\n",
    "How can we do the convertion?\n",
    "* JSON, YAML, PICKLE, XML and more (all are serialization formats)\n",
    "* serialization is usually done at the edges of program. when you receive data from a socket, write to a file, create a database etc.\n",
    "* you deserailize byes to python object or objects from inputs, work with python objects, and serialize python objects into bytes\n",
    "\n",
    "Factors to consider when using formats for serialization and deserialization\n",
    "* languages supported: JSON is supported by multiple languages, and is therefore popular in APIs\n",
    "* types supported: JSON doesn't support daytime or timestamp format that you need to convert to strings or numbers\n",
    "* Schema defines how your data look like. Schema helps to validate data and detect errors\n",
    "* performance: both cpu and bandwidth cost money\n",
    "  + how much time and cpu required to convert \n",
    "  + how many bytes are sent or stored \n",
    "* examples: use JSON for external APIs and Protocol buffers for internal communication\n",
    "  + JSON doesn't support tuple. It will return a list, which may cause problem if you take advantage of immutability of tuple\n",
    "* only serialze data at the edge of the program"
   ]
  },
  {
   "cell_type": "markdown",
   "id": "2eef80df",
   "metadata": {},
   "source": [
    "### Overview of commonly used formats:\n",
    "* pickle is a python-only format that can serialize almost any python type, including your custom classes\n",
    "  + pickle may use the built-in evol function during deserialization. need to be security-aware of it\n",
    "  + pickle can serialize python objects, such as set, datetime, and functions, but not lambda expressions\n",
    "* JSON most popular serialization format. Text-based and support a limited set of types\n",
    "  + dose not support timestamp \n",
    "  + no comments, making it un-usable for configuration. you need configuration files with comments\n",
    "  + looks like python, but are not the same\n",
    "* YAML and TOML are text-based and popular in configuration\n",
    "  + YAML can be complex and serialization is slow. not a problem for configuration\n",
    "  + TOML is newer, adopted by python world, such as pyproject.TOML\n",
    "* CSV and XML are old and established formats\n",
    "  + csv can be imported and exported from Excel\n",
    "  + csv doesn't have a schema\n",
    "  + everything in csv is in string format\n",
    "* XML has schema and is also text format\n",
    "* msgpack and BSON are binary formats without schema (as binary JSON)\n",
    "  + BSON is used by MONGO-DB, widely used and debugged\n",
    "  + msgpack (message package) is open format and supports a wider range of programming languages\n",
    "* Protocol Buffer is a format started at Google and become very popular\n",
    "  + also called protobuf\n",
    "  + A .proto file to define data types called messages, then use protoc compiler to generate seralization code for various languages\n",
    "  + one definition for messages for all languages using it\n",
    "  + its binary format makes it very efficient\n",
    "  + mostly used for internal communications between services\n",
    "* SQL: format to define data in relational databases\n",
    "  + well esablished for querying data\n",
    "  + has schema\n",
    "  + support a side range of types\n",
    "  + SQL3 module in python that supports it"
   ]
  },
  {
   "cell_type": "markdown",
   "id": "1d999107",
   "metadata": {},
   "source": [
    "### Pickle\n",
    "* pickle API has two sets of functions: \n",
    "  + dump and load: write to and read from files and return none\n",
    "  + dumps and loads: returns a byte object"
   ]
  },
  {
   "cell_type": "code",
   "execution_count": 5,
   "id": "cc1e75c2",
   "metadata": {},
   "outputs": [],
   "source": [
    "\"\"\"Dance moves\"\"\"\n",
    "from datetime import datetime, timedelta\n",
    "\n",
    "\n",
    "class Move:\n",
    "    \"\"\"Move is a dance move\"\"\"\n",
    "    def __init__(self, time, limb, what):\n",
    "        self.time = time\n",
    "        self.limb = limb\n",
    "        self.what = what\n",
    "\n",
    "    def __repr__(self):\n",
    "        cls = self.__class__.__name__\n",
    "        return f'{cls}({self.time!r}, {self.limb!r}, {self.what!r})'\n",
    "\n",
    "\n",
    "# Dance moves\n",
    "second = timedelta(seconds=1)\n",
    "now = datetime.now()\n",
    "move1 = Move(now + 1*second, 'jump', 'to the left')\n",
    "move2 = Move(now + 2*second, 'step', 'to the right')\n",
    "move3 = Move(now + 3*second, 'hands', 'on your hips')\n",
    "move4 = Move(now + 4*second, 'knees', 'bring in tight')"
   ]
  },
  {
   "cell_type": "markdown",
   "id": "134b47af",
   "metadata": {},
   "source": [
    "#### `dumps(object)` and `loads(data)` work with Python objects and binary data\n",
    "* `data = dumps(object)` returns binary format of the serialized object. Here the result is saved in data\n",
    "* loads(data) takes the serialized binary and returns the deserialized Python object "
   ]
  },
  {
   "cell_type": "code",
   "execution_count": 6,
   "id": "2021bd09",
   "metadata": {},
   "outputs": [],
   "source": [
    "import pickle"
   ]
  },
  {
   "cell_type": "markdown",
   "id": "976db0dc",
   "metadata": {},
   "source": [
    "Serialize python object by `pickle.dumps(object)`"
   ]
  },
  {
   "cell_type": "code",
   "execution_count": 7,
   "id": "6fc8e30f",
   "metadata": {},
   "outputs": [
    {
     "name": "stdout",
     "output_type": "stream",
     "text": [
      "data:  b'\\x80\\x04\\x95p\\x00\\x00\\x00\\x00\\x00\\x00\\x00\\x8c\\x08__main__\\x94\\x8c\\x04Move\\x94\\x93\\x94)\\x81\\x94}\\x94(\\x8c\\x04time\\x94\\x8c\\x08datetime\\x94\\x8c\\x08datetime\\x94\\x93\\x94C\\n\\x07\\xe5\\x0c\\x12\\x17\\x10:\\x06\\x11\\x9f\\x94\\x85\\x94R\\x94\\x8c\\x04limb\\x94\\x8c\\x04jump\\x94\\x8c\\x04what\\x94\\x8c\\x0bto the left\\x94ub.'\n",
      "type of data:  <class 'bytes'>\n"
     ]
    }
   ],
   "source": [
    "data = pickle.dumps(move1)\n",
    "print(\"data: \", data)\n",
    "print(\"type of data: \", type(data))"
   ]
  },
  {
   "cell_type": "code",
   "execution_count": 8,
   "id": "64011d4d",
   "metadata": {},
   "outputs": [],
   "source": [
    "dance = [move1, move2, move3, move4]\n",
    "data_dance = pickle.dumps(dance)"
   ]
  },
  {
   "cell_type": "markdown",
   "id": "9656b911",
   "metadata": {},
   "source": [
    "Deserialize bytes to python object by `pickle.loads(data)`"
   ]
  },
  {
   "cell_type": "code",
   "execution_count": 9,
   "id": "1ebc86be",
   "metadata": {},
   "outputs": [
    {
     "data": {
      "text/plain": [
       "Move(datetime.datetime(2021, 12, 18, 23, 16, 58, 397727), 'jump', 'to the left')"
      ]
     },
     "execution_count": 9,
     "metadata": {},
     "output_type": "execute_result"
    }
   ],
   "source": [
    "move1d = pickle.loads(data)\n",
    "move1d"
   ]
  },
  {
   "cell_type": "code",
   "execution_count": 10,
   "id": "5cecce04",
   "metadata": {},
   "outputs": [
    {
     "data": {
      "text/plain": [
       "[Move(datetime.datetime(2021, 12, 18, 23, 16, 58, 397727), 'jump', 'to the left'),\n",
       " Move(datetime.datetime(2021, 12, 18, 23, 16, 59, 397727), 'step', 'to the right'),\n",
       " Move(datetime.datetime(2021, 12, 18, 23, 17, 0, 397727), 'hands', 'on your hips'),\n",
       " Move(datetime.datetime(2021, 12, 18, 23, 17, 1, 397727), 'knees', 'bring in tight')]"
      ]
     },
     "execution_count": 10,
     "metadata": {},
     "output_type": "execute_result"
    }
   ],
   "source": [
    "danced = pickle.loads(data_dance)\n",
    "danced"
   ]
  },
  {
   "cell_type": "markdown",
   "id": "949e32a9",
   "metadata": {},
   "source": [
    "#### `dump(file) and load(file)` work with files"
   ]
  },
  {
   "cell_type": "code",
   "execution_count": 11,
   "id": "312aa2c6",
   "metadata": {},
   "outputs": [],
   "source": [
    "with open('move1.pkl', 'wb') as out:\n",
    "    pickle.dump(move1, out)"
   ]
  },
  {
   "cell_type": "code",
   "execution_count": 12,
   "id": "0c707960",
   "metadata": {},
   "outputs": [
    {
     "data": {
      "text/plain": [
       "Move(datetime.datetime(2021, 12, 18, 23, 16, 58, 397727), 'jump', 'to the left')"
      ]
     },
     "execution_count": 12,
     "metadata": {},
     "output_type": "execute_result"
    }
   ],
   "source": [
    "with open('move1.pkl', 'rb') as fp:\n",
    "    move1f = pickle.load(fp)\n",
    "\n",
    "move1f"
   ]
  },
  {
   "cell_type": "code",
   "execution_count": 13,
   "id": "fea45c53",
   "metadata": {},
   "outputs": [],
   "source": [
    "with open(\"dance.pkl\", 'wb') as out:\n",
    "    pickle.dump(dance, out)"
   ]
  },
  {
   "cell_type": "code",
   "execution_count": 14,
   "id": "2e02698f",
   "metadata": {},
   "outputs": [
    {
     "data": {
      "text/plain": [
       "[Move(datetime.datetime(2021, 12, 18, 23, 16, 58, 397727), 'jump', 'to the left'),\n",
       " Move(datetime.datetime(2021, 12, 18, 23, 16, 59, 397727), 'step', 'to the right'),\n",
       " Move(datetime.datetime(2021, 12, 18, 23, 17, 0, 397727), 'hands', 'on your hips'),\n",
       " Move(datetime.datetime(2021, 12, 18, 23, 17, 1, 397727), 'knees', 'bring in tight')]"
      ]
     },
     "execution_count": 14,
     "metadata": {},
     "output_type": "execute_result"
    }
   ],
   "source": [
    "with open(\"dance.pkl\", 'rb') as fp:\n",
    "    dancef = pickle.load(fp)\n",
    "    \n",
    "dancef    "
   ]
  },
  {
   "cell_type": "markdown",
   "id": "e944b283",
   "metadata": {},
   "source": [
    "#### work with sockets for streaming\n",
    "* we can write one object after another to the socket and read them one at a time at the receiving end\n",
    "* the following code snippet uses socketpair to simulate client-server"
   ]
  },
  {
   "cell_type": "code",
   "execution_count": 15,
   "id": "0ed42d69",
   "metadata": {},
   "outputs": [
    {
     "name": "stdout",
     "output_type": "stream",
     "text": [
      "jump to the left\n",
      "step to the right\n",
      "hands on your hips\n",
      "knees bring in tight\n"
     ]
    }
   ],
   "source": [
    "from socket import socketpair\n",
    "\n",
    "# create read and write socket pair\n",
    "ws, rs = socketpair()\n",
    "\n",
    "# create a write file and a read file for the socket\n",
    "w, r = ws.makefile('wb'), rs.makefile('rb')\n",
    "\n",
    "# Serialize\n",
    "pickle.dump(move1, w)\n",
    "pickle.dump(move2, w)\n",
    "pickle.dump(move3, w)\n",
    "pickle.dump(move4, w)\n",
    "\n",
    "# flush the data to send the data over to the other side (read side)\n",
    "w.flush()\n",
    "\n",
    "# De-serialize the object from the othe side of the socket\n",
    "for _ in range(4):\n",
    "    move = pickle.load(r)\n",
    "    print(f'{move.limb} {move.what}')"
   ]
  },
  {
   "cell_type": "markdown",
   "id": "7c485fc0",
   "metadata": {},
   "source": [
    "### Shelve\n",
    "* Shelve is like a dictionary\n",
    "* can store many objects, each one by its own key\n",
    "* store objects that are too slow to move to databases"
   ]
  },
  {
   "cell_type": "code",
   "execution_count": 16,
   "id": "944d8584",
   "metadata": {},
   "outputs": [
    {
     "name": "stdout",
     "output_type": "stream",
     "text": [
      "Move(datetime.datetime(2021, 12, 18, 23, 16, 58, 397727), 'jump', 'to the left')\n"
     ]
    }
   ],
   "source": [
    "import shelve\n",
    "\n",
    "# store objects\n",
    "db = shelve.open('dance.db')\n",
    "db['1'] = move1\n",
    "db['2'] = move2\n",
    "db['3'] = move3\n",
    "db['4'] = move4\n",
    "db.close()\n",
    "\n",
    "db = shelve.open('dance.db')\n",
    "print(db['1'])"
   ]
  },
  {
   "cell_type": "markdown",
   "id": "2083a75c",
   "metadata": {},
   "source": [
    "### Serialization with repr\n",
    "* there are two ways to represent an object in python\n",
    "  + str: for external representation\n",
    "  + repr: for developers\n",
    "  + repr is usually a way to re-create the python object\n",
    "  + add a repr to your own types, and use the repr format when logging, which you can copy and paste to interpreter to inspect the object\n",
    "  + All the following can be used to print repr of an object obj\n",
    "    + print('%r' % obj)\n",
    "    + print(repr(obj))\n",
    "    + print(f'{obj!r}')"
   ]
  },
  {
   "cell_type": "code",
   "execution_count": 17,
   "id": "358eb457",
   "metadata": {},
   "outputs": [
    {
     "name": "stdout",
     "output_type": "stream",
     "text": [
      "1 1\n",
      "1 '1'\n"
     ]
    }
   ],
   "source": [
    "i, s = 1, '1'\n",
    "\n",
    "# using str\n",
    "print(i, s)\n",
    "\n",
    "# using repr\n",
    "print(repr(i), repr(s))"
   ]
  },
  {
   "cell_type": "markdown",
   "id": "605b6c5c",
   "metadata": {},
   "source": [
    "#### Example of using repr to print object in logger and re-create the object"
   ]
  },
  {
   "cell_type": "code",
   "execution_count": 18,
   "id": "3e1a43a1",
   "metadata": {},
   "outputs": [],
   "source": [
    "\"\"\"repr example\"\"\"\n",
    "import logging\n",
    "\n",
    "\n",
    "logging.basicConfig(level=logging.INFO, filename='game.log')\n",
    "\n",
    "\n",
    "class Player:\n",
    "    \"\"\"A player in the game\"\"\"\n",
    "    def __init__(self, id, name, keys):\n",
    "        self.id = id\n",
    "        self.name = name\n",
    "        self.keys = keys\n",
    "\n",
    "    def __repr__(self):\n",
    "        cls = self.__class__.__name__  # self can be a subclass\n",
    "        return f'{cls}({self.id!r}, {self.name!r}, {self.keys!r})'\n",
    "\n",
    "\n",
    "p1 = Player(1, 'Parzival', {'copper', 'jade'})\n",
    "logging.info('p1 is %r', p1)"
   ]
  },
  {
   "cell_type": "code",
   "execution_count": 19,
   "id": "362bb50d",
   "metadata": {},
   "outputs": [
    {
     "name": "stdout",
     "output_type": "stream",
     "text": [
      "INFO:root:p1 is Player(1, 'Parzival', {'copper', 'jade'})\r\n",
      "INFO:root:p1 is Player(1, 'Parzival', {'jade', 'copper'})\r\n"
     ]
    }
   ],
   "source": [
    "!cat game.log"
   ]
  },
  {
   "cell_type": "code",
   "execution_count": 20,
   "id": "d23f5c61",
   "metadata": {},
   "outputs": [
    {
     "data": {
      "text/plain": [
       "Player(1, 'Parzival', {'jade', 'copper'})"
      ]
     },
     "execution_count": 20,
     "metadata": {},
     "output_type": "execute_result"
    }
   ],
   "source": [
    "# re-create the object from the logger entry\n",
    "p1 = Player(1, 'Parzival', {'copper', 'jade'})\n",
    "\n",
    "p1"
   ]
  },
  {
   "cell_type": "code",
   "execution_count": 21,
   "id": "9ddfcdb0",
   "metadata": {},
   "outputs": [
    {
     "data": {
      "text/plain": [
       "1"
      ]
     },
     "execution_count": 21,
     "metadata": {},
     "output_type": "execute_result"
    }
   ],
   "source": [
    "p1.id"
   ]
  },
  {
   "cell_type": "markdown",
   "id": "6e73ab9f",
   "metadata": {},
   "source": [
    "#### NamedTuple and dataclass for repr\n",
    "* you can write your own repr function for your class, but it is tedious\n",
    "* namedtuple and DataClass can shorten the code you need to write"
   ]
  },
  {
   "cell_type": "code",
   "execution_count": 22,
   "id": "a70af28b",
   "metadata": {},
   "outputs": [
    {
     "name": "stdout",
     "output_type": "stream",
     "text": [
      "Player(id=1, name='Parzival', keys={'jade', 'copper'})\n"
     ]
    }
   ],
   "source": [
    "from collections import namedtuple\n",
    "\n",
    "Player = namedtuple('Player', 'id name keys')\n",
    "\n",
    "p1 = Player(1, 'Parzival', {'copper', 'jade'})\n",
    "print(repr(p1))"
   ]
  },
  {
   "cell_type": "code",
   "execution_count": 23,
   "id": "59944da5",
   "metadata": {},
   "outputs": [
    {
     "name": "stdout",
     "output_type": "stream",
     "text": [
      "Player(id=1, name='Parzival', keys={'jade', 'copper'})\n"
     ]
    }
   ],
   "source": [
    "from dataclasses import dataclass\n",
    "\n",
    "@dataclass\n",
    "class Player:\n",
    "    \"\"\"A player in the game\"\"\"\n",
    "    id: int\n",
    "    name: str\n",
    "    keys: set\n",
    "        \n",
    "p1 = Player(1, 'Parzival', {'copper', 'jade'})\n",
    "print(p1)"
   ]
  },
  {
   "cell_type": "markdown",
   "id": "13041db7",
   "metadata": {},
   "source": [
    "### Another option is to not use serialization, but configuration files (further understand python config)\n",
    "* security\n",
    "* use SimpleNameSpace and exec to load a config.py file\n",
    "* use importmachinary to load config.py file\n",
    "* config file can contain any valid python code"
   ]
  },
  {
   "cell_type": "code",
   "execution_count": 29,
   "id": "2b094f6a",
   "metadata": {},
   "outputs": [
    {
     "data": {
      "text/plain": [
       "namespace(api_key='test-api-key', log_level=20, port=8080, num_workers=100)"
      ]
     },
     "execution_count": 29,
     "metadata": {},
     "output_type": "execute_result"
    }
   ],
   "source": [
    "%run load_config.py\n",
    "config = load_config('config.py')\n",
    "config"
   ]
  },
  {
   "cell_type": "code",
   "execution_count": 30,
   "id": "5296c0c9",
   "metadata": {},
   "outputs": [
    {
     "data": {
      "text/plain": [
       "<module 'config' from 'config.py'>"
      ]
     },
     "execution_count": 30,
     "metadata": {},
     "output_type": "execute_result"
    }
   ],
   "source": [
    "%run load_config_imp.py\n",
    "config = load_config('config.py')\n",
    "config"
   ]
  },
  {
   "cell_type": "code",
   "execution_count": 31,
   "id": "c629cc9d",
   "metadata": {},
   "outputs": [
    {
     "data": {
      "text/plain": [
       "100"
      ]
     },
     "execution_count": 31,
     "metadata": {},
     "output_type": "execute_result"
    }
   ],
   "source": [
    "config.num_workers"
   ]
  },
  {
   "cell_type": "markdown",
   "id": "fc67e779",
   "metadata": {},
   "source": [
    "#### Exercise: add the repr method of a class and load data from a pickle file\n",
    "* the following is the content of rides.py, which must be available (in the same folder or python path) for pickle.load()"
   ]
  },
  {
   "cell_type": "code",
   "execution_count": 32,
   "id": "18195df1",
   "metadata": {},
   "outputs": [],
   "source": [
    "\n",
    "\"\"\"Add __repr__ to Ride class and then loads rides from rides.pkl (pickle\n",
    "format) and print repr of each ride.\n",
    "\"\"\"\n",
    "from datetime import datetime\n",
    "\n",
    "\n",
    "class Ride:\n",
    "    def __init__(self, start, end, distance, num_passengers):\n",
    "        \n",
    "        self.start = start  # type: datetime\n",
    "        self.end = end  # type: datetime\n",
    "        self.distance = distance  # type: float\n",
    "        self.num_passengers = num_passengers  # type: int\n",
    "        \n",
    "    def __repr__(self):\n",
    "        cls = self.__class__.__name__\n",
    "        start, end, distance, num_passengers = self.start, self.end, self.distance, self.num_passengers\n",
    "        return f'{cls}({start!r}, {end!r}, {distance!r}, {num_passengers!r})'"
   ]
  },
  {
   "cell_type": "code",
   "execution_count": 33,
   "id": "c47ae991",
   "metadata": {},
   "outputs": [
    {
     "name": "stdout",
     "output_type": "stream",
     "text": [
      "<_io.BufferedReader name='rides.pkl'>\n",
      "<_io.BufferedReader name='rides.pkl'>\n",
      "<_io.BufferedReader name='rides.pkl'>\n",
      "<_io.BufferedReader name='rides.pkl'>\n",
      "<_io.BufferedReader name='rides.pkl'>\n",
      "<_io.BufferedReader name='rides.pkl'>\n",
      "<_io.BufferedReader name='rides.pkl'>\n",
      "<_io.BufferedReader name='rides.pkl'>\n",
      "<_io.BufferedReader name='rides.pkl'>\n",
      "<_io.BufferedReader name='rides.pkl'>\n"
     ]
    }
   ],
   "source": [
    "with open('rides.pkl', 'rb') as fp:\n",
    "    while True:\n",
    "        try:\n",
    "            ride = pickle.load(fp)\n",
    "            print(fp)\n",
    "        except EOFError:\n",
    "            break"
   ]
  },
  {
   "cell_type": "markdown",
   "id": "fb61d23e",
   "metadata": {},
   "source": [
    "### IMPORTANT TO KNOW!!!\n",
    "What happens when pickle.load() function returns an error message of:\n",
    "\"ModuleNotFoundError: No module named 'Data' ?\n",
    "\n",
    "The program that created the pickle file did import Data and there are references to that module inside the pickled object. The program that loads the pickled object needs to be able to import that module to resolve those references. Either put the location of Data.py on your PYTHONPATH (or add the location to sys.path), or copy the module to where your program can find it.\n"
   ]
  },
  {
   "cell_type": "markdown",
   "id": "ffc281ee",
   "metadata": {},
   "source": [
    "### JSON\n",
    "* can serialize Python dict, list, numbers, strings\n",
    "* dumps() and load() work with strings, and dump() and load() work with files\n",
    "* in the following example, we have a python dictionary"
   ]
  },
  {
   "cell_type": "code",
   "execution_count": 35,
   "id": "2dd264c2",
   "metadata": {},
   "outputs": [],
   "source": [
    "# define a python dirctionay for serialization by JSON\n",
    "\"\"\"Shopping event\"\"\"\n",
    "event = {\n",
    "    'name': 'Homer Simpson',\n",
    "    'item': 'Duff',\n",
    "    'amount': 4,\n",
    "    'item price': 4.75,\n",
    "}"
   ]
  },
  {
   "cell_type": "markdown",
   "id": "a9aa286d",
   "metadata": {},
   "source": [
    "#### Use dumps() and loads() that serialize/deserialize objects to/from strings"
   ]
  },
  {
   "cell_type": "code",
   "execution_count": 36,
   "id": "9f28470f",
   "metadata": {},
   "outputs": [
    {
     "name": "stdout",
     "output_type": "stream",
     "text": [
      "serialized: {\"name\": \"Homer Simpson\", \"item\": \"Duff\", \"amount\": 4, \"item price\": 4.75}\n",
      "data type: <class 'str'>\n"
     ]
    }
   ],
   "source": [
    "\"\"\"Basic usage of JSON\"\"\"\n",
    "import json\n",
    "\n",
    "# Serialize to bytes, dict keys must be str\n",
    "data = json.dumps(event)\n",
    "print('serialized:', data)\n",
    "print('data type:', type(data))"
   ]
  },
  {
   "cell_type": "code",
   "execution_count": 38,
   "id": "0529dc9a",
   "metadata": {},
   "outputs": [
    {
     "name": "stdout",
     "output_type": "stream",
     "text": [
      "data_bytes type: <class 'bytes'>\n"
     ]
    }
   ],
   "source": [
    "# if we need to feed the data into sockets, we need to serialize data into bytes\n",
    "data_bytes = data.encode('utf-8')\n",
    "print('data_bytes type:', type(data_bytes))"
   ]
  },
  {
   "cell_type": "code",
   "execution_count": 39,
   "id": "a07ad979",
   "metadata": {},
   "outputs": [
    {
     "name": "stdout",
     "output_type": "stream",
     "text": [
      "serialized indented: {\n",
      "    \"name\": \"Homer Simpson\",\n",
      "    \"item\": \"Duff\",\n",
      "    \"amount\": 4,\n",
      "    \"item price\": 4.75\n",
      "}\n"
     ]
    }
   ],
   "source": [
    "# Indent. We can convert objects to indent strings by dumps\n",
    "print('serialized indented:', json.dumps(event, indent=4))"
   ]
  },
  {
   "cell_type": "code",
   "execution_count": 40,
   "id": "58d14049",
   "metadata": {},
   "outputs": [
    {
     "name": "stdout",
     "output_type": "stream",
     "text": [
      "equal: True\n",
      "equal (bytes): True\n"
     ]
    }
   ],
   "source": [
    "# loads object from string\n",
    "event_str = json.loads(data)\n",
    "print('equal:', event_str == event)\n",
    "\n",
    "# loads object from bytes\n",
    "event_bytes = json.loads(data_bytes)  # Can loads from bytes as well\n",
    "print('equal (bytes):', event_bytes == event)\n"
   ]
  },
  {
   "cell_type": "markdown",
   "id": "fe791d82",
   "metadata": {},
   "source": [
    "#### Use dump() and load() with files"
   ]
  },
  {
   "cell_type": "code",
   "execution_count": 41,
   "id": "b24acd32",
   "metadata": {},
   "outputs": [
    {
     "name": "stdout",
     "output_type": "stream",
     "text": [
      "equal (file): True\n"
     ]
    }
   ],
   "source": [
    "# Working with files\n",
    "with open('event.json', 'w') as out:\n",
    "    json.dump(event, out)\n",
    "\n",
    "with open('event.json') as fp:\n",
    "    event_file = json.load(fp)\n",
    "\n",
    "print('equal (file):', event_file == event)"
   ]
  },
  {
   "cell_type": "markdown",
   "id": "65f86b44",
   "metadata": {},
   "source": [
    "#### question: how does python compare dict?"
   ]
  },
  {
   "cell_type": "markdown",
   "id": "d268c7b5",
   "metadata": {},
   "source": [
    "#### work with datetime fields in python objects\n",
    "* JSON can not serialize objects containing datetime fields\n",
    "* one solution is to define helper function that can convert time between str and time for serialization/deserializaton\n",
    "* notice that after json.loads(), the datetime field is a string\n",
    "* we use helper function pairs_hook to convert it back to datetime\n",
    "* Anything that can be represented as a JSON type can be converted to JSON"
   ]
  },
  {
   "cell_type": "code",
   "execution_count": 53,
   "id": "1cf0ff9d",
   "metadata": {},
   "outputs": [],
   "source": [
    "# an object contains datetime field\n",
    "from datetime import datetime\n",
    "\n",
    "event = {\n",
    "    'time': datetime(2020, 4, 17, 13, 27, 48),\n",
    "    'name': 'Homer',\n",
    "    'item': 'Duff',\n",
    "    'amount': 4,\n",
    "    'item price': 4.75,\n",
    "}"
   ]
  },
  {
   "cell_type": "code",
   "execution_count": 54,
   "id": "f6106ebc",
   "metadata": {},
   "outputs": [],
   "source": [
    "# the script containing helper functions to convert between datetime and str\n",
    "# this code is in custom.p that will be imported in the following code snippet\n",
    "\"\"\"Example serializing custom types\"\"\"\n",
    "from datetime import datetime\n",
    "\n",
    "\n",
    "# this function convert datetime fields in an object to str\n",
    "# obj here is each field of the python object\n",
    "def default(obj):\n",
    "    \"\"\"Encode datetime to string in YYYY-MM-DDTHH:MM:SS format (RFC3339)\"\"\"\n",
    "    if isinstance(obj, datetime):\n",
    "        return obj.isoformat()\n",
    "    return obj\n",
    "\n",
    "\n",
    "# this function convert str back to datetime\n",
    "# pairs is the JSON object\n",
    "def pairs_hook(pairs):\n",
    "    \"\"\"Convert the \"time\" key to datetime\"\"\"\n",
    "    obj = {}\n",
    "    for key, value in pairs:\n",
    "        if key == 'time':\n",
    "            value = datetime.fromisoformat(value)  # Python >= 3.7\n",
    "        obj[key] = value\n",
    "    return obj"
   ]
  },
  {
   "cell_type": "code",
   "execution_count": 55,
   "id": "b2d54206",
   "metadata": {},
   "outputs": [
    {
     "data": {
      "text/plain": [
       "{'time': '2020-04-17T13:27:48',\n",
       " 'name': 'Homer',\n",
       " 'item': 'Duff',\n",
       " 'amount': 4,\n",
       " 'item price': 4.75}"
      ]
     },
     "execution_count": 55,
     "metadata": {},
     "output_type": "execute_result"
    }
   ],
   "source": [
    "# import helper function from custom.py to convert datetime to string\n",
    "from custom import default\n",
    "\n",
    "data = json.dumps(event, default=default)\n",
    "json.loads(data)"
   ]
  },
  {
   "cell_type": "code",
   "execution_count": 56,
   "id": "82c4fc5f",
   "metadata": {},
   "outputs": [
    {
     "data": {
      "text/plain": [
       "{'time': datetime.datetime(2020, 4, 17, 13, 27, 48),\n",
       " 'name': 'Homer',\n",
       " 'item': 'Duff',\n",
       " 'amount': 4,\n",
       " 'item price': 4.75}"
      ]
     },
     "execution_count": 56,
     "metadata": {},
     "output_type": "execute_result"
    }
   ],
   "source": [
    "# import helper function from custom.py to convert string back to datetime\n",
    "from custom import pairs_hook\n",
    "\n",
    "json.loads(data, object_pairs_hook=pairs_hook)"
   ]
  },
  {
   "cell_type": "markdown",
   "id": "21854faf",
   "metadata": {},
   "source": [
    "#### Serialize stream data when\n",
    "* we don't know how many objects to serialize\n",
    "* too many object to encode in one pass\n",
    "* JSON only allows to endcode one object at a time\n",
    "* To encode multiple objects, we construct the json list, with each object in one line"
   ]
  },
  {
   "cell_type": "code",
   "execution_count": 57,
   "id": "e220cae1",
   "metadata": {},
   "outputs": [
    {
     "name": "stdout",
     "output_type": "stream",
     "text": [
      "got {'animal': 'bee', 'group': 'swarm'}\n",
      "got {'animal': 'fox', 'group': 'charm'}\n",
      "got {'animal': 'whale', 'group': 'pod'}\n"
     ]
    }
   ],
   "source": [
    "\"\"\"Example of streaming JSON\"\"\"\n",
    "\n",
    "import json\n",
    "from io import BytesIO\n",
    "\n",
    "groups = [\n",
    "    {'animal': 'bee', 'group': 'swarm'},\n",
    "    {'animal': 'fox', 'group': 'charm'},\n",
    "    {'animal': 'whale', 'group': 'pod'},\n",
    "]\n",
    "\n",
    "\n",
    "# Sending side\n",
    "# create an in memory BytesIO\n",
    "network = BytesIO()\n",
    "\n",
    "# read each object from groups and serialize it to byte (BytesIO)\n",
    "for message in groups:\n",
    "    data = json.dumps(message)\n",
    "    network.write(data.encode('utf-8'))  # Sockets work in byte level\n",
    "    network.write(b'\\n') # add a \\n so each object in one line\n",
    "\n",
    "\n",
    "# Receiving side\n",
    "network.seek(0)  # Go back to start of data for reading side\n",
    "\n",
    "# read one object from each line, and loads the object\n",
    "while True:\n",
    "    line = network.readline()\n",
    "    if not line:\n",
    "        break\n",
    "\n",
    "    message = json.loads(line)\n",
    "    print('got', message)"
   ]
  },
  {
   "cell_type": "markdown",
   "id": "de449978",
   "metadata": {},
   "source": [
    "#### Exercise: print log file with each object one line\n",
    "* the content of log.py pasted here\n",
    "* there is datetime filed, we will use default and object_pairs_hook in json.dumps and json.loads\n",
    "* we use asdict() function to convert a dataclass object to dictionary and then serialize by json.dumps()"
   ]
  },
  {
   "cell_type": "code",
   "execution_count": 58,
   "id": "9b2a45ab",
   "metadata": {},
   "outputs": [
    {
     "name": "stdout",
     "output_type": "stream",
     "text": [
      "{\"time\": \"2020-05-01T13:23:32\", \"ip\": \"163.206.89.4\", \"path\": \"/images/cat.png\", \"status\": 200}\n",
      "{\"time\": \"2020-05-01T13:27:01\", \"ip\": \"165.227.94.117\", \"path\": \"/images/dog.png\", \"status\": 200}\n",
      "{\"time\": \"2020-05-01T13:32:53\", \"ip\": \"137.204.201.12\", \"path\": \"/images/horse.png\", \"status\": 404}\n",
      "{\"time\": \"2020-05-01T13:44:02\", \"ip\": \"138.86.14.23\", \"path\": \"/images/cat.png\", \"status\": 200}\n",
      "{\"time\": \"2020-05-01T13:51:37\", \"ip\": \"142.130.48.163\", \"path\": \"/images/fox.png\", \"status\": 200}\n"
     ]
    }
   ],
   "source": [
    "\"\"\"Print logs to standard output in JSON format, one object per line.\"\"\"\n",
    "from dataclasses import dataclass, asdict\n",
    "from datetime import datetime\n",
    "from http import HTTPStatus\n",
    "from ipaddress import IPv4Address\n",
    "\n",
    "\n",
    "@dataclass\n",
    "class Log:\n",
    "    \"\"\"A request log\"\"\"\n",
    "    time: datetime\n",
    "    ip: IPv4Address\n",
    "    path: str\n",
    "    status: HTTPStatus\n",
    "\n",
    "\n",
    "logs = [\n",
    "    Log(\n",
    "        datetime(2020, 5, 1, 13, 23, 32),\n",
    "        IPv4Address('163.206.89.4'),\n",
    "        '/images/cat.png', 200,\n",
    "    ),\n",
    "    Log(\n",
    "        datetime(2020, 5, 1, 13, 27, 1),\n",
    "        IPv4Address('165.227.94.117'),\n",
    "        '/images/dog.png', 200,\n",
    "    ),\n",
    "    Log(\n",
    "        datetime(2020, 5, 1, 13, 32, 53),\n",
    "        IPv4Address('137.204.201.12'),\n",
    "        '/images/horse.png', 404,\n",
    "    ),\n",
    "    Log(\n",
    "        datetime(2020, 5, 1, 13, 44, 2),\n",
    "        IPv4Address('138.86.14.23'),\n",
    "        '/images/cat.png', 200,\n",
    "    ),\n",
    "    Log(\n",
    "        datetime(2020, 5, 1, 13, 51, 37),\n",
    "        IPv4Address('142.130.48.163'),\n",
    "        '/images/fox.png', 200,\n",
    "    ),\n",
    "]\n",
    "\n",
    "def default(obj):\n",
    "    \"\"\"convert datetime and IPv4Address to type supported by JSON\"\"\"\n",
    "    if isinstance(obj, datetime):\n",
    "        return obj.isoformat()\n",
    "    if isinstance(obj, IPv4Address):\n",
    "        return str(obj)\n",
    "    return obj\n",
    "\n",
    "for log in logs:\n",
    "    data = json.dumps(asdict(log), default=default)\n",
    "    print(data)"
   ]
  },
  {
   "cell_type": "code",
   "execution_count": null,
   "id": "9f486cae",
   "metadata": {},
   "outputs": [],
   "source": [
    "\n"
   ]
  }
 ],
 "metadata": {
  "kernelspec": {
   "display_name": "Python 3 (ipykernel)",
   "language": "python",
   "name": "python3"
  },
  "language_info": {
   "codemirror_mode": {
    "name": "ipython",
    "version": 3
   },
   "file_extension": ".py",
   "mimetype": "text/x-python",
   "name": "python",
   "nbconvert_exporter": "python",
   "pygments_lexer": "ipython3",
   "version": "3.8.10"
  }
 },
 "nbformat": 4,
 "nbformat_minor": 5
}
