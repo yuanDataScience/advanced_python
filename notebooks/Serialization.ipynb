{
 "cells": [
  {
   "cell_type": "markdown",
   "id": "9a388afa",
   "metadata": {},
   "source": [
    "### Serialization\n",
    "Serialization is the process to take python objects and convert them to a sequence of bytes. Deserialization is to take a sequence of bytes and convert them to python objects. Why do we need these processes?\n",
    "* we divde bites in to group of eights, and call them bytes. \n",
    "* interpretor constructs this for you and you focus on high-level objects such as list, dictionary etc. \n",
    "* when you need to transfer or store data, it must be converted to a sequence of bytes.\n",
    "\n",
    "How can we do the convertion?\n",
    "* JSON, YAML, PICKLE, XML and more (all are serialization formats)\n",
    "* serialization is usually done at the edges of program. when you receive data from a socket, write to a file, create a database etc.\n",
    "* you deserailize byes to python object or objects from inputs, work with python objects, and serialize python objects into bytes\n",
    "\n",
    "Factors to consider when using formats for serialization and deserialization\n",
    "* languages supported: JSON is supported by multiple languages, and is therefore popular in APIs\n",
    "* types supported: JSON doesn't support daytime or timestamp format that you need to convert to strings or numbers\n",
    "* Schema defines how your data look like. Schema helps to validate data and detect errors\n",
    "* performance: both cpu and bandwidth cost money\n",
    "  + how much time and cpu required to convert \n",
    "  + how many bytes are sent or stored \n",
    "* examples: use JSON for external APIs and Protocol buffers for internal communication\n",
    "  + JSON doesn't support tuple. It will return a list, which may cause problem if you take advantage of immutability of tuple\n",
    "* only serialze data at the edge of the program"
   ]
  },
  {
   "cell_type": "markdown",
   "id": "78252695",
   "metadata": {},
   "source": [
    "### Overview of commonly used formats:\n",
    "* pickle is a python-only format that can serialize almost any python type, including your custom classes\n",
    "  + pickle may use the built-in evol function during deserialization. need to be security-aware of it\n",
    "  + pickle can serialize python objects, such as set, datetime, and functions, but not lambda expressions\n",
    "* JSON most popular serialization format. Text-based and support a limited set of types\n",
    "  + dose not support timestamp \n",
    "  + no comments, making it un-usable for configuration. you need configuration files with comments\n",
    "  + looks like python, but are not the same\n",
    "* YAML and TOML are text-based and popular in configuration\n",
    "  + YAML can be complex and serialization is slow. not a problem for configuration\n",
    "  + TOML is newer, adopted by python world, such as pyproject.TOML\n",
    "* CSV and XML are old and established formats\n",
    "  + csv can be imported and exported from Excel\n",
    "  + csv doesn't have a schema\n",
    "  + everything in csv is in string format\n",
    "* XML has schema and is also text format\n",
    "* msgpack and BSON are binary formats without schema (as binary JSON)\n",
    "  + BSON is used by MONGO-DB, widely used and debugged\n",
    "  + msgpack (message package) is open format and supports a wider range of programming languages\n",
    "* Protocol Buffer is a format started at Google and become very popular\n",
    "  + also called protobuf\n",
    "  + A .proto file to define data types called messages, then use protoc compiler to generate seralization code for various languages\n",
    "  + one definition for messages for all languages using it\n",
    "  + its binary format makes it very efficient\n",
    "  + mostly used for internal communications between services\n",
    "* SQL: format to define data in relational databases\n",
    "  + well esablished for querying data\n",
    "  + has schema\n",
    "  + support a side range of types\n",
    "  + SQL3 module in python that supports it"
   ]
  },
  {
   "cell_type": "markdown",
   "id": "244f8e24",
   "metadata": {},
   "source": [
    "### Pickle\n",
    "* pickle API has two sets of functions: \n",
    "  + dump and load: write to and read from files and return none\n",
    "  + dumps and loads: returns a byte object"
   ]
  },
  {
   "cell_type": "code",
   "execution_count": 5,
   "id": "e6a1e868",
   "metadata": {},
   "outputs": [],
   "source": [
    "\"\"\"Dance moves\"\"\"\n",
    "from datetime import datetime, timedelta\n",
    "\n",
    "\n",
    "class Move:\n",
    "    \"\"\"Move is a dance move\"\"\"\n",
    "    def __init__(self, time, limb, what):\n",
    "        self.time = time\n",
    "        self.limb = limb\n",
    "        self.what = what\n",
    "\n",
    "    def __repr__(self):\n",
    "        cls = self.__class__.__name__\n",
    "        return f'{cls}({self.time!r}, {self.limb!r}, {self.what!r})'\n",
    "\n",
    "\n",
    "# Dance moves\n",
    "second = timedelta(seconds=1)\n",
    "now = datetime.now()\n",
    "move1 = Move(now + 1*second, 'jump', 'to the left')\n",
    "move2 = Move(now + 2*second, 'step', 'to the right')\n",
    "move3 = Move(now + 3*second, 'hands', 'on your hips')\n",
    "move4 = Move(now + 4*second, 'knees', 'bring in tight')"
   ]
  },
  {
   "cell_type": "markdown",
   "id": "11afc622",
   "metadata": {},
   "source": [
    "#### `dumps(object)` and `loads(data)` work with Python objects and binary data\n",
    "* `data = dumps(object)` returns binary format of the serialized object. Here the result is saved in data\n",
    "* loads(data) takes the serialized binary and returns the deserialized Python object "
   ]
  },
  {
   "cell_type": "code",
   "execution_count": 6,
   "id": "d54f3668",
   "metadata": {},
   "outputs": [],
   "source": [
    "import pickle"
   ]
  },
  {
   "cell_type": "markdown",
   "id": "d927772a",
   "metadata": {},
   "source": [
    "Serialize python object by `pickle.dumps(object)`"
   ]
  },
  {
   "cell_type": "code",
   "execution_count": 7,
   "id": "ae61dc54",
   "metadata": {},
   "outputs": [
    {
     "name": "stdout",
     "output_type": "stream",
     "text": [
      "data:  b'\\x80\\x04\\x95p\\x00\\x00\\x00\\x00\\x00\\x00\\x00\\x8c\\x08__main__\\x94\\x8c\\x04Move\\x94\\x93\\x94)\\x81\\x94}\\x94(\\x8c\\x04time\\x94\\x8c\\x08datetime\\x94\\x8c\\x08datetime\\x94\\x93\\x94C\\n\\x07\\xe5\\x0c\\x12\\x17\\x10:\\x06\\x11\\x9f\\x94\\x85\\x94R\\x94\\x8c\\x04limb\\x94\\x8c\\x04jump\\x94\\x8c\\x04what\\x94\\x8c\\x0bto the left\\x94ub.'\n",
      "type of data:  <class 'bytes'>\n"
     ]
    }
   ],
   "source": [
    "data = pickle.dumps(move1)\n",
    "print(\"data: \", data)\n",
    "print(\"type of data: \", type(data))"
   ]
  },
  {
   "cell_type": "code",
   "execution_count": 8,
   "id": "1fac9571",
   "metadata": {},
   "outputs": [],
   "source": [
    "dance = [move1, move2, move3, move4]\n",
    "data_dance = pickle.dumps(dance)"
   ]
  },
  {
   "cell_type": "markdown",
   "id": "8a84adb4",
   "metadata": {},
   "source": [
    "Deserialize bytes to python object by `pickle.loads(data)`"
   ]
  },
  {
   "cell_type": "code",
   "execution_count": 9,
   "id": "4594969e",
   "metadata": {},
   "outputs": [
    {
     "data": {
      "text/plain": [
       "Move(datetime.datetime(2021, 12, 18, 23, 16, 58, 397727), 'jump', 'to the left')"
      ]
     },
     "execution_count": 9,
     "metadata": {},
     "output_type": "execute_result"
    }
   ],
   "source": [
    "move1d = pickle.loads(data)\n",
    "move1d"
   ]
  },
  {
   "cell_type": "code",
   "execution_count": 10,
   "id": "b94da0f0",
   "metadata": {},
   "outputs": [
    {
     "data": {
      "text/plain": [
       "[Move(datetime.datetime(2021, 12, 18, 23, 16, 58, 397727), 'jump', 'to the left'),\n",
       " Move(datetime.datetime(2021, 12, 18, 23, 16, 59, 397727), 'step', 'to the right'),\n",
       " Move(datetime.datetime(2021, 12, 18, 23, 17, 0, 397727), 'hands', 'on your hips'),\n",
       " Move(datetime.datetime(2021, 12, 18, 23, 17, 1, 397727), 'knees', 'bring in tight')]"
      ]
     },
     "execution_count": 10,
     "metadata": {},
     "output_type": "execute_result"
    }
   ],
   "source": [
    "danced = pickle.loads(data_dance)\n",
    "danced"
   ]
  },
  {
   "cell_type": "markdown",
   "id": "c732b8de",
   "metadata": {},
   "source": [
    "#### `dump(file) and load(file)` work with files"
   ]
  },
  {
   "cell_type": "code",
   "execution_count": 11,
   "id": "ba2994cc",
   "metadata": {},
   "outputs": [],
   "source": [
    "with open('move1.pkl', 'wb') as out:\n",
    "    pickle.dump(move1, out)"
   ]
  },
  {
   "cell_type": "code",
   "execution_count": 12,
   "id": "4fc9256f",
   "metadata": {},
   "outputs": [
    {
     "data": {
      "text/plain": [
       "Move(datetime.datetime(2021, 12, 18, 23, 16, 58, 397727), 'jump', 'to the left')"
      ]
     },
     "execution_count": 12,
     "metadata": {},
     "output_type": "execute_result"
    }
   ],
   "source": [
    "with open('move1.pkl', 'rb') as fp:\n",
    "    move1f = pickle.load(fp)\n",
    "\n",
    "move1f"
   ]
  },
  {
   "cell_type": "code",
   "execution_count": 13,
   "id": "e9205b43",
   "metadata": {},
   "outputs": [],
   "source": [
    "with open(\"dance.pkl\", 'wb') as out:\n",
    "    pickle.dump(dance, out)"
   ]
  },
  {
   "cell_type": "code",
   "execution_count": 14,
   "id": "e59ac729",
   "metadata": {},
   "outputs": [
    {
     "data": {
      "text/plain": [
       "[Move(datetime.datetime(2021, 12, 18, 23, 16, 58, 397727), 'jump', 'to the left'),\n",
       " Move(datetime.datetime(2021, 12, 18, 23, 16, 59, 397727), 'step', 'to the right'),\n",
       " Move(datetime.datetime(2021, 12, 18, 23, 17, 0, 397727), 'hands', 'on your hips'),\n",
       " Move(datetime.datetime(2021, 12, 18, 23, 17, 1, 397727), 'knees', 'bring in tight')]"
      ]
     },
     "execution_count": 14,
     "metadata": {},
     "output_type": "execute_result"
    }
   ],
   "source": [
    "with open(\"dance.pkl\", 'rb') as fp:\n",
    "    dancef = pickle.load(fp)\n",
    "    \n",
    "dancef    "
   ]
  },
  {
   "cell_type": "markdown",
   "id": "63127581",
   "metadata": {},
   "source": [
    "#### work with sockets for streaming\n",
    "* we can write one object after another to the socket and read them one at a time at the receiving end\n",
    "* the following code snippet uses socketpair to simulate client-server"
   ]
  },
  {
   "cell_type": "code",
   "execution_count": 15,
   "id": "3ab174c4",
   "metadata": {},
   "outputs": [
    {
     "name": "stdout",
     "output_type": "stream",
     "text": [
      "jump to the left\n",
      "step to the right\n",
      "hands on your hips\n",
      "knees bring in tight\n"
     ]
    }
   ],
   "source": [
    "from socket import socketpair\n",
    "\n",
    "# create read and write socket pair\n",
    "ws, rs = socketpair()\n",
    "\n",
    "# create a write file and a read file for the socket\n",
    "w, r = ws.makefile('wb'), rs.makefile('rb')\n",
    "\n",
    "# Serialize\n",
    "pickle.dump(move1, w)\n",
    "pickle.dump(move2, w)\n",
    "pickle.dump(move3, w)\n",
    "pickle.dump(move4, w)\n",
    "\n",
    "# flush the data to send the data over to the other side (read side)\n",
    "w.flush()\n",
    "\n",
    "# De-serialize the object from the othe side of the socket\n",
    "for _ in range(4):\n",
    "    move = pickle.load(r)\n",
    "    print(f'{move.limb} {move.what}')"
   ]
  },
  {
   "cell_type": "markdown",
   "id": "60be3bf0",
   "metadata": {},
   "source": [
    "### Shelve\n",
    "* Shelve is like a dictionary\n",
    "* can store many objects, each one by its own key\n",
    "* store objects that are too slow to move to databases"
   ]
  },
  {
   "cell_type": "code",
   "execution_count": 16,
   "id": "be3baec5",
   "metadata": {},
   "outputs": [
    {
     "name": "stdout",
     "output_type": "stream",
     "text": [
      "Move(datetime.datetime(2021, 12, 18, 23, 16, 58, 397727), 'jump', 'to the left')\n"
     ]
    }
   ],
   "source": [
    "import shelve\n",
    "\n",
    "# store objects\n",
    "db = shelve.open('dance.db')\n",
    "db['1'] = move1\n",
    "db['2'] = move2\n",
    "db['3'] = move3\n",
    "db['4'] = move4\n",
    "db.close()\n",
    "\n",
    "db = shelve.open('dance.db')\n",
    "print(db['1'])"
   ]
  },
  {
   "cell_type": "markdown",
   "id": "31128ad9",
   "metadata": {},
   "source": [
    "### Serialization with repr\n",
    "* there are two ways to represent an object in python\n",
    "  + str: for external representation\n",
    "  + repr: for developers\n",
    "  + repr is usually a way to re-create the python object\n",
    "  + add a repr to your own types, and use the repr format when logging, which you can copy and paste to interpreter to inspect the object\n",
    "  + All the following can be used to print repr of an object obj\n",
    "    + print('%r' % obj)\n",
    "    + print(repr(obj))\n",
    "    + print(f'{obj!r}')"
   ]
  },
  {
   "cell_type": "code",
   "execution_count": 17,
   "id": "1875d0d0",
   "metadata": {},
   "outputs": [
    {
     "name": "stdout",
     "output_type": "stream",
     "text": [
      "1 1\n",
      "1 '1'\n"
     ]
    }
   ],
   "source": [
    "i, s = 1, '1'\n",
    "\n",
    "# using str\n",
    "print(i, s)\n",
    "\n",
    "# using repr\n",
    "print(repr(i), repr(s))"
   ]
  },
  {
   "cell_type": "markdown",
   "id": "a063aa0c",
   "metadata": {},
   "source": [
    "#### Example of using repr to print object in logger and re-create the object"
   ]
  },
  {
   "cell_type": "code",
   "execution_count": 18,
   "id": "def407b0",
   "metadata": {},
   "outputs": [],
   "source": [
    "\"\"\"repr example\"\"\"\n",
    "import logging\n",
    "\n",
    "\n",
    "logging.basicConfig(level=logging.INFO, filename='game.log')\n",
    "\n",
    "\n",
    "class Player:\n",
    "    \"\"\"A player in the game\"\"\"\n",
    "    def __init__(self, id, name, keys):\n",
    "        self.id = id\n",
    "        self.name = name\n",
    "        self.keys = keys\n",
    "\n",
    "    def __repr__(self):\n",
    "        cls = self.__class__.__name__  # self can be a subclass\n",
    "        return f'{cls}({self.id!r}, {self.name!r}, {self.keys!r})'\n",
    "\n",
    "\n",
    "p1 = Player(1, 'Parzival', {'copper', 'jade'})\n",
    "logging.info('p1 is %r', p1)"
   ]
  },
  {
   "cell_type": "code",
   "execution_count": 19,
   "id": "dd947b6e",
   "metadata": {},
   "outputs": [
    {
     "name": "stdout",
     "output_type": "stream",
     "text": [
      "INFO:root:p1 is Player(1, 'Parzival', {'copper', 'jade'})\r\n",
      "INFO:root:p1 is Player(1, 'Parzival', {'jade', 'copper'})\r\n"
     ]
    }
   ],
   "source": [
    "!cat game.log"
   ]
  },
  {
   "cell_type": "code",
   "execution_count": 20,
   "id": "ffb0c365",
   "metadata": {},
   "outputs": [
    {
     "data": {
      "text/plain": [
       "Player(1, 'Parzival', {'jade', 'copper'})"
      ]
     },
     "execution_count": 20,
     "metadata": {},
     "output_type": "execute_result"
    }
   ],
   "source": [
    "# re-create the object from the logger entry\n",
    "p1 = Player(1, 'Parzival', {'copper', 'jade'})\n",
    "\n",
    "p1"
   ]
  },
  {
   "cell_type": "code",
   "execution_count": 21,
   "id": "f6f9a43b",
   "metadata": {},
   "outputs": [
    {
     "data": {
      "text/plain": [
       "1"
      ]
     },
     "execution_count": 21,
     "metadata": {},
     "output_type": "execute_result"
    }
   ],
   "source": [
    "p1.id"
   ]
  },
  {
   "cell_type": "markdown",
   "id": "33ef82d8",
   "metadata": {},
   "source": [
    "#### NamedTuple and dataclass for repr\n",
    "* you can write your own repr function for your class, but it is tedious\n",
    "* namedtuple and DataClass can shorten the code you need to write"
   ]
  },
  {
   "cell_type": "code",
   "execution_count": 22,
   "id": "d2614cf9",
   "metadata": {},
   "outputs": [
    {
     "name": "stdout",
     "output_type": "stream",
     "text": [
      "Player(id=1, name='Parzival', keys={'jade', 'copper'})\n"
     ]
    }
   ],
   "source": [
    "from collections import namedtuple\n",
    "\n",
    "Player = namedtuple('Player', 'id name keys')\n",
    "\n",
    "p1 = Player(1, 'Parzival', {'copper', 'jade'})\n",
    "print(repr(p1))"
   ]
  },
  {
   "cell_type": "code",
   "execution_count": 23,
   "id": "f925457e",
   "metadata": {},
   "outputs": [
    {
     "name": "stdout",
     "output_type": "stream",
     "text": [
      "Player(id=1, name='Parzival', keys={'jade', 'copper'})\n"
     ]
    }
   ],
   "source": [
    "from dataclasses import dataclass\n",
    "\n",
    "@dataclass\n",
    "class Player:\n",
    "    \"\"\"A player in the game\"\"\"\n",
    "    id: int\n",
    "    name: str\n",
    "    keys: set\n",
    "        \n",
    "p1 = Player(1, 'Parzival', {'copper', 'jade'})\n",
    "print(p1)"
   ]
  },
  {
   "cell_type": "markdown",
   "id": "b6b8859b",
   "metadata": {},
   "source": [
    "### Another option is to not use serialization, but configuration files (further understand python config)\n",
    "* security\n",
    "* use SimpleNameSpace and exec to load a config.py file\n",
    "* use importmachinary to load config.py file\n",
    "* config file can contain any valid python code"
   ]
  },
  {
   "cell_type": "code",
   "execution_count": 29,
   "id": "56fc8cc8",
   "metadata": {},
   "outputs": [
    {
     "data": {
      "text/plain": [
       "namespace(api_key='test-api-key', log_level=20, port=8080, num_workers=100)"
      ]
     },
     "execution_count": 29,
     "metadata": {},
     "output_type": "execute_result"
    }
   ],
   "source": [
    "%run load_config.py\n",
    "config = load_config('config.py')\n",
    "config"
   ]
  },
  {
   "cell_type": "code",
   "execution_count": 30,
   "id": "d525a339",
   "metadata": {},
   "outputs": [
    {
     "data": {
      "text/plain": [
       "<module 'config' from 'config.py'>"
      ]
     },
     "execution_count": 30,
     "metadata": {},
     "output_type": "execute_result"
    }
   ],
   "source": [
    "%run load_config_imp.py\n",
    "config = load_config('config.py')\n",
    "config"
   ]
  },
  {
   "cell_type": "code",
   "execution_count": 31,
   "id": "fc68bd76",
   "metadata": {},
   "outputs": [
    {
     "data": {
      "text/plain": [
       "100"
      ]
     },
     "execution_count": 31,
     "metadata": {},
     "output_type": "execute_result"
    }
   ],
   "source": [
    "config.num_workers"
   ]
  },
  {
   "cell_type": "markdown",
   "id": "f79d4773",
   "metadata": {},
   "source": [
    "#### Exercise: add the repr method of a class and load data from a pickle file\n",
    "* the following is the content of rides.py, which must be available (in the same folder or python path) for pickle.load()"
   ]
  },
  {
   "cell_type": "code",
   "execution_count": 32,
   "id": "fca18fe9",
   "metadata": {},
   "outputs": [],
   "source": [
    "\n",
    "\"\"\"Add __repr__ to Ride class and then loads rides from rides.pkl (pickle\n",
    "format) and print repr of each ride.\n",
    "\"\"\"\n",
    "from datetime import datetime\n",
    "\n",
    "\n",
    "class Ride:\n",
    "    def __init__(self, start, end, distance, num_passengers):\n",
    "        \n",
    "        self.start = start  # type: datetime\n",
    "        self.end = end  # type: datetime\n",
    "        self.distance = distance  # type: float\n",
    "        self.num_passengers = num_passengers  # type: int\n",
    "        \n",
    "    def __repr__(self):\n",
    "        cls = self.__class__.__name__\n",
    "        start, end, distance, num_passengers = self.start, self.end, self.distance, self.num_passengers\n",
    "        return f'{cls}({start!r}, {end!r}, {distance!r}, {num_passengers!r})'"
   ]
  },
  {
   "cell_type": "code",
   "execution_count": 33,
   "id": "ad3c12bf",
   "metadata": {},
   "outputs": [
    {
     "name": "stdout",
     "output_type": "stream",
     "text": [
      "<_io.BufferedReader name='rides.pkl'>\n",
      "<_io.BufferedReader name='rides.pkl'>\n",
      "<_io.BufferedReader name='rides.pkl'>\n",
      "<_io.BufferedReader name='rides.pkl'>\n",
      "<_io.BufferedReader name='rides.pkl'>\n",
      "<_io.BufferedReader name='rides.pkl'>\n",
      "<_io.BufferedReader name='rides.pkl'>\n",
      "<_io.BufferedReader name='rides.pkl'>\n",
      "<_io.BufferedReader name='rides.pkl'>\n",
      "<_io.BufferedReader name='rides.pkl'>\n"
     ]
    }
   ],
   "source": [
    "with open('rides.pkl', 'rb') as fp:\n",
    "    while True:\n",
    "        try:\n",
    "            ride = pickle.load(fp)\n",
    "            print(fp)\n",
    "        except EOFError:\n",
    "            break"
   ]
  },
  {
   "cell_type": "markdown",
   "id": "7c45a15b",
   "metadata": {},
   "source": [
    "### IMPORTANT TO KNOW!!!\n",
    "What happens when pickle.load() function returns an error message of:\n",
    "\"ModuleNotFoundError: No module named 'Data' ?\n",
    "\n",
    "The program that created the pickle file did import Data and there are references to that module inside the pickled object. The program that loads the pickled object needs to be able to import that module to resolve those references. Either put the location of Data.py on your PYTHONPATH (or add the location to sys.path), or copy the module to where your program can find it.\n"
   ]
  },
  {
   "cell_type": "code",
   "execution_count": null,
   "id": "b3f944fe",
   "metadata": {},
   "outputs": [],
   "source": []
  }
 ],
 "metadata": {
  "kernelspec": {
   "display_name": "Python 3 (ipykernel)",
   "language": "python",
   "name": "python3"
  },
  "language_info": {
   "codemirror_mode": {
    "name": "ipython",
    "version": 3
   },
   "file_extension": ".py",
   "mimetype": "text/x-python",
   "name": "python",
   "nbconvert_exporter": "python",
   "pygments_lexer": "ipython3",
   "version": "3.8.10"
  }
 },
 "nbformat": 4,
 "nbformat_minor": 5
}
