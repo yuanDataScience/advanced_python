{
 "cells": [
  {
   "cell_type": "markdown",
   "id": "fddbc0a6",
   "metadata": {},
   "source": [
    "### Serialization\n",
    "Serialization is the process to take python objects and convert them to a sequence of bytes. Deserialization is to take a sequence of bytes and convert them to python objects. Why do we need these processes?\n",
    "* we divde bites in to group of eights, and call them bytes. \n",
    "* interpretor constructs this for you and you focus on high-level objects such as list, dictionary etc. \n",
    "* when you need to transfer or store data, it must be converted to a sequence of bytes.\n",
    "\n",
    "How can we do the convertion?\n",
    "* JSON, YAML, PICKLE, XML and more (all are serialization formats)\n",
    "* serialization is usually done at the edges of program. when you receive data from a socket, write to a file, create a database etc.\n",
    "* you deserailize byes to python object or objects from inputs, work with python objects, and serialize python objects into bytes\n",
    "\n",
    "Factors to consider when using formats for serialization and deserialization\n",
    "* languages supported: JSON is supported by multiple languages, and is therefore popular in APIs\n",
    "* types supported: JSON doesn't support daytime or timestamp format that you need to convert to strings or numbers\n",
    "* Schema defines how your data look like. Schema helps to validate data and detect errors\n",
    "* performance: both cpu and bandwidth cost money\n",
    "  + how much time and cpu required to convert \n",
    "  + how many bytes are sent or stored \n",
    "* examples: use JSON for external APIs and Protocol buffers for internal communication\n",
    "  + JSON doesn't support tuple. It will return a list, which may cause problem if you take advantage of immutability of tuple\n",
    "* only serialze data at the edge of the program"
   ]
  },
  {
   "cell_type": "markdown",
   "id": "a2aa6238",
   "metadata": {},
   "source": [
    "### Overview of commonly used formats:\n",
    "* pickle is a python-only format that can serialize almost any python type, including your custom classes\n",
    "  + pickle may use the built-in evol function during deserialization. need to be security-aware of it\n",
    "  + pickle can serialize python objects, such as set, datetime, and functions, but not lambda expressions\n",
    "* JSON most popular serialization format. Text-based and support a limited set of types\n",
    "  + dose not support timestamp \n",
    "  + no comments, making it un-usable for configuration. you need configuration files with comments\n",
    "  + looks like python, but are not the same\n",
    "* YAML and TOML are text-based and popular in configuration\n",
    "  + YAML can be complex and serialization is slow. not a problem for configuration\n",
    "  + TOML is newer, adopted by python world, such as pyproject.TOML\n",
    "* CSV and XML are old and established formats\n",
    "  + csv can be imported and exported from Excel\n",
    "  + csv doesn't have a schema\n",
    "  + everything in csv is in string format\n",
    "* XML has schema and is also text format\n",
    "* msgpack and BSON are binary formats without schema (as binary JSON)\n",
    "  + BSON is used by MONGO-DB, widely used and debugged\n",
    "  + msgpack (message package) is open format and supports a wider range of programming languages\n",
    "* Protocol Buffer is a format started at Google and become very popular\n",
    "  + also called protobuf\n",
    "  + A .proto file to define data types called messages, then use protoc compiler to generate seralization code for various languages\n",
    "  + one definition for messages for all languages using it\n",
    "  + its binary format makes it very efficient\n",
    "  + mostly used for internal communications between services\n",
    "* SQL: format to define data in relational databases\n",
    "  + well esablished for querying data\n",
    "  + has schema\n",
    "  + support a side range of types\n",
    "  + SQL3 module in python that supports it"
   ]
  },
  {
   "cell_type": "markdown",
   "id": "76aaf7ab",
   "metadata": {},
   "source": [
    "### Pickle\n",
    "* pickle API has two sets of functions: \n",
    "  + dump and load: write to and read from files and return none\n",
    "  + dumps and loads: returns a byte object"
   ]
  },
  {
   "cell_type": "code",
   "execution_count": 1,
   "id": "68383074",
   "metadata": {},
   "outputs": [],
   "source": [
    "\"\"\"Dance moves\"\"\"\n",
    "from datetime import datetime, timedelta\n",
    "\n",
    "\n",
    "class Move:\n",
    "    \"\"\"Move is a dance move\"\"\"\n",
    "    def __init__(self, time, limb, what):\n",
    "        self.time = time\n",
    "        self.limb = limb\n",
    "        self.what = what\n",
    "\n",
    "    def __repr__(self):\n",
    "        cls = self.__class__.__name__\n",
    "        return f'{cls}({self.time!r}, {self.limb!r}, {self.what!r})'\n",
    "\n",
    "\n",
    "# Dance moves\n",
    "second = timedelta(seconds=1)\n",
    "now = datetime.now()\n",
    "move1 = Move(now + 1*second, 'jump', 'to the left')\n",
    "move2 = Move(now + 2*second, 'step', 'to the right')\n",
    "move3 = Move(now + 3*second, 'hands', 'on your hips')\n",
    "move4 = Move(now + 4*second, 'knees', 'bring in tight')"
   ]
  },
  {
   "cell_type": "markdown",
   "id": "bc52e318",
   "metadata": {},
   "source": [
    "#### `dumps(object)` and `loads(data)` work with Python objects and binary data\n",
    "* `data = dumps(object)` returns binary format of the serialized object. Here the result is saved in data\n",
    "* loads(data) takes the serialized binary and returns the deserialized Python object "
   ]
  },
  {
   "cell_type": "code",
   "execution_count": 2,
   "id": "3579b3a1",
   "metadata": {},
   "outputs": [],
   "source": [
    "import pickle"
   ]
  },
  {
   "cell_type": "markdown",
   "id": "6bb2bd50",
   "metadata": {},
   "source": [
    "Serialize python object by `pickle.dumps(object)`"
   ]
  },
  {
   "cell_type": "code",
   "execution_count": 3,
   "id": "bc48be71",
   "metadata": {},
   "outputs": [
    {
     "name": "stdout",
     "output_type": "stream",
     "text": [
      "data:  b'\\x80\\x04\\x95p\\x00\\x00\\x00\\x00\\x00\\x00\\x00\\x8c\\x08__main__\\x94\\x8c\\x04Move\\x94\\x93\\x94)\\x81\\x94}\\x94(\\x8c\\x04time\\x94\\x8c\\x08datetime\\x94\\x8c\\x08datetime\\x94\\x93\\x94C\\n\\x07\\xe5\\x0c\\x18\\x16\\x0c7\\x01\\xd2\\xca\\x94\\x85\\x94R\\x94\\x8c\\x04limb\\x94\\x8c\\x04jump\\x94\\x8c\\x04what\\x94\\x8c\\x0bto the left\\x94ub.'\n",
      "type of data:  <class 'bytes'>\n"
     ]
    }
   ],
   "source": [
    "data = pickle.dumps(move1)\n",
    "print(\"data: \", data)\n",
    "print(\"type of data: \", type(data))"
   ]
  },
  {
   "cell_type": "code",
   "execution_count": 4,
   "id": "e8773051",
   "metadata": {},
   "outputs": [],
   "source": [
    "dance = [move1, move2, move3, move4]\n",
    "data_dance = pickle.dumps(dance)"
   ]
  },
  {
   "cell_type": "markdown",
   "id": "d24d5142",
   "metadata": {},
   "source": [
    "Deserialize bytes to python object by `pickle.loads(data)`"
   ]
  },
  {
   "cell_type": "code",
   "execution_count": 5,
   "id": "173bdc6c",
   "metadata": {},
   "outputs": [
    {
     "data": {
      "text/plain": [
       "Move(datetime.datetime(2021, 12, 24, 22, 12, 55, 119498), 'jump', 'to the left')"
      ]
     },
     "execution_count": 5,
     "metadata": {},
     "output_type": "execute_result"
    }
   ],
   "source": [
    "move1d = pickle.loads(data)\n",
    "move1d"
   ]
  },
  {
   "cell_type": "code",
   "execution_count": 6,
   "id": "ff8e2907",
   "metadata": {},
   "outputs": [
    {
     "data": {
      "text/plain": [
       "[Move(datetime.datetime(2021, 12, 24, 22, 12, 55, 119498), 'jump', 'to the left'),\n",
       " Move(datetime.datetime(2021, 12, 24, 22, 12, 56, 119498), 'step', 'to the right'),\n",
       " Move(datetime.datetime(2021, 12, 24, 22, 12, 57, 119498), 'hands', 'on your hips'),\n",
       " Move(datetime.datetime(2021, 12, 24, 22, 12, 58, 119498), 'knees', 'bring in tight')]"
      ]
     },
     "execution_count": 6,
     "metadata": {},
     "output_type": "execute_result"
    }
   ],
   "source": [
    "danced = pickle.loads(data_dance)\n",
    "danced"
   ]
  },
  {
   "cell_type": "markdown",
   "id": "fc170f3d",
   "metadata": {},
   "source": [
    "#### `dump(file) and load(file)` work with files"
   ]
  },
  {
   "cell_type": "code",
   "execution_count": 7,
   "id": "76f0cbdf",
   "metadata": {},
   "outputs": [],
   "source": [
    "with open('move1.pkl', 'wb') as out:\n",
    "    pickle.dump(move1, out)"
   ]
  },
  {
   "cell_type": "code",
   "execution_count": 8,
   "id": "47e60a8b",
   "metadata": {},
   "outputs": [
    {
     "data": {
      "text/plain": [
       "Move(datetime.datetime(2021, 12, 24, 22, 12, 55, 119498), 'jump', 'to the left')"
      ]
     },
     "execution_count": 8,
     "metadata": {},
     "output_type": "execute_result"
    }
   ],
   "source": [
    "with open('move1.pkl', 'rb') as fp:\n",
    "    move1f = pickle.load(fp)\n",
    "\n",
    "move1f"
   ]
  },
  {
   "cell_type": "code",
   "execution_count": 9,
   "id": "85e45a2c",
   "metadata": {},
   "outputs": [],
   "source": [
    "with open(\"dance.pkl\", 'wb') as out:\n",
    "    pickle.dump(dance, out)"
   ]
  },
  {
   "cell_type": "code",
   "execution_count": 10,
   "id": "77ec7a9e",
   "metadata": {},
   "outputs": [
    {
     "data": {
      "text/plain": [
       "[Move(datetime.datetime(2021, 12, 24, 22, 12, 55, 119498), 'jump', 'to the left'),\n",
       " Move(datetime.datetime(2021, 12, 24, 22, 12, 56, 119498), 'step', 'to the right'),\n",
       " Move(datetime.datetime(2021, 12, 24, 22, 12, 57, 119498), 'hands', 'on your hips'),\n",
       " Move(datetime.datetime(2021, 12, 24, 22, 12, 58, 119498), 'knees', 'bring in tight')]"
      ]
     },
     "execution_count": 10,
     "metadata": {},
     "output_type": "execute_result"
    }
   ],
   "source": [
    "with open(\"dance.pkl\", 'rb') as fp:\n",
    "    dancef = pickle.load(fp)\n",
    "    \n",
    "dancef    "
   ]
  },
  {
   "cell_type": "markdown",
   "id": "c70b3a27",
   "metadata": {},
   "source": [
    "#### work with sockets for streaming\n",
    "* we can write one object after another to the socket and read them one at a time at the receiving end\n",
    "* the following code snippet uses socketpair to simulate client-server"
   ]
  },
  {
   "cell_type": "code",
   "execution_count": 11,
   "id": "ad13db4f",
   "metadata": {},
   "outputs": [
    {
     "name": "stdout",
     "output_type": "stream",
     "text": [
      "jump to the left\n",
      "step to the right\n",
      "hands on your hips\n",
      "knees bring in tight\n"
     ]
    }
   ],
   "source": [
    "from socket import socketpair\n",
    "\n",
    "# create read and write socket pair\n",
    "ws, rs = socketpair()\n",
    "\n",
    "# create a write file and a read file for the socket\n",
    "w, r = ws.makefile('wb'), rs.makefile('rb')\n",
    "\n",
    "# Serialize\n",
    "pickle.dump(move1, w)\n",
    "pickle.dump(move2, w)\n",
    "pickle.dump(move3, w)\n",
    "pickle.dump(move4, w)\n",
    "\n",
    "# flush the data to send the data over to the other side (read side)\n",
    "w.flush()\n",
    "\n",
    "# De-serialize the object from the othe side of the socket\n",
    "for _ in range(4):\n",
    "    move = pickle.load(r)\n",
    "    print(f'{move.limb} {move.what}')"
   ]
  },
  {
   "cell_type": "markdown",
   "id": "8d0e23a8",
   "metadata": {},
   "source": [
    "### Shelve\n",
    "* Shelve is like a dictionary\n",
    "* can store many objects, each one by its own key\n",
    "* store objects that are too slow to move to databases"
   ]
  },
  {
   "cell_type": "code",
   "execution_count": 12,
   "id": "8cf48e0f",
   "metadata": {},
   "outputs": [
    {
     "name": "stdout",
     "output_type": "stream",
     "text": [
      "Move(datetime.datetime(2021, 12, 24, 22, 12, 55, 119498), 'jump', 'to the left')\n"
     ]
    }
   ],
   "source": [
    "import shelve\n",
    "\n",
    "# store objects\n",
    "db = shelve.open('dance.db')\n",
    "db['1'] = move1\n",
    "db['2'] = move2\n",
    "db['3'] = move3\n",
    "db['4'] = move4\n",
    "db.close()\n",
    "\n",
    "db = shelve.open('dance.db')\n",
    "print(db['1'])"
   ]
  },
  {
   "cell_type": "markdown",
   "id": "e0bde77d",
   "metadata": {},
   "source": [
    "### Serialization with repr\n",
    "* there are two ways to represent an object in python\n",
    "  + str: for external representation\n",
    "  + repr: for developers\n",
    "  + repr is usually a way to re-create the python object\n",
    "  + add a repr to your own types, and use the repr format when logging, which you can copy and paste to interpreter to inspect the object\n",
    "  + All the following can be used to print repr of an object obj\n",
    "    + print('%r' % obj)\n",
    "    + print(repr(obj))\n",
    "    + print(f'{obj!r}')"
   ]
  },
  {
   "cell_type": "code",
   "execution_count": 13,
   "id": "a6a8c60c",
   "metadata": {},
   "outputs": [
    {
     "name": "stdout",
     "output_type": "stream",
     "text": [
      "1 1\n",
      "1 '1'\n"
     ]
    }
   ],
   "source": [
    "i, s = 1, '1'\n",
    "\n",
    "# using str\n",
    "print(i, s)\n",
    "\n",
    "# using repr\n",
    "print(repr(i), repr(s))"
   ]
  },
  {
   "cell_type": "markdown",
   "id": "32366cd8",
   "metadata": {},
   "source": [
    "#### Example of using repr to print object in logger and re-create the object"
   ]
  },
  {
   "cell_type": "code",
   "execution_count": 14,
   "id": "a4bdc534",
   "metadata": {},
   "outputs": [],
   "source": [
    "\"\"\"repr example\"\"\"\n",
    "import logging\n",
    "\n",
    "\n",
    "logging.basicConfig(level=logging.INFO, filename='game.log')\n",
    "\n",
    "\n",
    "class Player:\n",
    "    \"\"\"A player in the game\"\"\"\n",
    "    def __init__(self, id, name, keys):\n",
    "        self.id = id\n",
    "        self.name = name\n",
    "        self.keys = keys\n",
    "\n",
    "    def __repr__(self):\n",
    "        cls = self.__class__.__name__  # self can be a subclass\n",
    "        return f'{cls}({self.id!r}, {self.name!r}, {self.keys!r})'\n",
    "\n",
    "\n",
    "p1 = Player(1, 'Parzival', {'copper', 'jade'})\n",
    "logging.info('p1 is %r', p1)"
   ]
  },
  {
   "cell_type": "code",
   "execution_count": 15,
   "id": "d1fd0f98",
   "metadata": {},
   "outputs": [
    {
     "name": "stdout",
     "output_type": "stream",
     "text": [
      "INFO:root:p1 is Player(1, 'Parzival', {'copper', 'jade'})\r\n",
      "INFO:root:p1 is Player(1, 'Parzival', {'jade', 'copper'})\r\n",
      "INFO:root:p1 is Player(1, 'Parzival', {'copper', 'jade'})\r\n",
      "INFO:root:p1 is Player(1, 'Parzival', {'jade', 'copper'})\r\n"
     ]
    }
   ],
   "source": [
    "!cat game.log"
   ]
  },
  {
   "cell_type": "code",
   "execution_count": 16,
   "id": "994f1f3c",
   "metadata": {},
   "outputs": [
    {
     "data": {
      "text/plain": [
       "Player(1, 'Parzival', {'jade', 'copper'})"
      ]
     },
     "execution_count": 16,
     "metadata": {},
     "output_type": "execute_result"
    }
   ],
   "source": [
    "# re-create the object from the logger entry\n",
    "p1 = Player(1, 'Parzival', {'copper', 'jade'})\n",
    "\n",
    "p1"
   ]
  },
  {
   "cell_type": "code",
   "execution_count": 17,
   "id": "a78cffed",
   "metadata": {},
   "outputs": [
    {
     "data": {
      "text/plain": [
       "1"
      ]
     },
     "execution_count": 17,
     "metadata": {},
     "output_type": "execute_result"
    }
   ],
   "source": [
    "p1.id"
   ]
  },
  {
   "cell_type": "markdown",
   "id": "364a97c1",
   "metadata": {},
   "source": [
    "#### NamedTuple and dataclass for repr\n",
    "* you can write your own repr function for your class, but it is tedious\n",
    "* namedtuple and DataClass can shorten the code you need to write"
   ]
  },
  {
   "cell_type": "code",
   "execution_count": 18,
   "id": "96429d07",
   "metadata": {},
   "outputs": [
    {
     "name": "stdout",
     "output_type": "stream",
     "text": [
      "Player(id=1, name='Parzival', keys={'jade', 'copper'})\n"
     ]
    }
   ],
   "source": [
    "from collections import namedtuple\n",
    "\n",
    "Player = namedtuple('Player', 'id name keys')\n",
    "\n",
    "p1 = Player(1, 'Parzival', {'copper', 'jade'})\n",
    "print(repr(p1))"
   ]
  },
  {
   "cell_type": "code",
   "execution_count": 19,
   "id": "26c3f527",
   "metadata": {},
   "outputs": [
    {
     "name": "stdout",
     "output_type": "stream",
     "text": [
      "Player(id=1, name='Parzival', keys={'jade', 'copper'})\n"
     ]
    }
   ],
   "source": [
    "from dataclasses import dataclass\n",
    "\n",
    "@dataclass\n",
    "class Player:\n",
    "    \"\"\"A player in the game\"\"\"\n",
    "    id: int\n",
    "    name: str\n",
    "    keys: set\n",
    "        \n",
    "p1 = Player(1, 'Parzival', {'copper', 'jade'})\n",
    "print(p1)"
   ]
  },
  {
   "cell_type": "markdown",
   "id": "0d4581b3",
   "metadata": {},
   "source": [
    "### Another option is to not use serialization, but configuration files (further understand python config)\n",
    "* security\n",
    "* use SimpleNameSpace and exec to load a config.py file\n",
    "* use importmachinary to load config.py file\n",
    "* config file can contain any valid python code"
   ]
  },
  {
   "cell_type": "code",
   "execution_count": 20,
   "id": "4e8eb78d",
   "metadata": {},
   "outputs": [
    {
     "data": {
      "text/plain": [
       "namespace(api_key='test-api-key', log_level=20, port=8080, num_workers=100)"
      ]
     },
     "execution_count": 20,
     "metadata": {},
     "output_type": "execute_result"
    }
   ],
   "source": [
    "%run load_config.py\n",
    "config = load_config('config.py')\n",
    "config"
   ]
  },
  {
   "cell_type": "code",
   "execution_count": 21,
   "id": "831ae4b0",
   "metadata": {},
   "outputs": [
    {
     "data": {
      "text/plain": [
       "<module 'config' from 'config.py'>"
      ]
     },
     "execution_count": 21,
     "metadata": {},
     "output_type": "execute_result"
    }
   ],
   "source": [
    "%run load_config_imp.py\n",
    "config = load_config('config.py')\n",
    "config"
   ]
  },
  {
   "cell_type": "code",
   "execution_count": 22,
   "id": "9ea88db2",
   "metadata": {},
   "outputs": [
    {
     "data": {
      "text/plain": [
       "100"
      ]
     },
     "execution_count": 22,
     "metadata": {},
     "output_type": "execute_result"
    }
   ],
   "source": [
    "config.num_workers"
   ]
  },
  {
   "cell_type": "markdown",
   "id": "c1b5287d",
   "metadata": {},
   "source": [
    "#### Exercise: add the repr method of a class and load data from a pickle file\n",
    "* the following is the content of rides.py, which must be available (in the same folder or python path) for pickle.load()"
   ]
  },
  {
   "cell_type": "code",
   "execution_count": 23,
   "id": "798b866c",
   "metadata": {},
   "outputs": [],
   "source": [
    "\n",
    "\"\"\"Add __repr__ to Ride class and then loads rides from rides.pkl (pickle\n",
    "format) and print repr of each ride.\n",
    "\"\"\"\n",
    "from datetime import datetime\n",
    "\n",
    "\n",
    "class Ride:\n",
    "    def __init__(self, start, end, distance, num_passengers):\n",
    "        \n",
    "        self.start = start  # type: datetime\n",
    "        self.end = end  # type: datetime\n",
    "        self.distance = distance  # type: float\n",
    "        self.num_passengers = num_passengers  # type: int\n",
    "        \n",
    "    def __repr__(self):\n",
    "        cls = self.__class__.__name__\n",
    "        start, end, distance, num_passengers = self.start, self.end, self.distance, self.num_passengers\n",
    "        return f'{cls}({start!r}, {end!r}, {distance!r}, {num_passengers!r})'"
   ]
  },
  {
   "cell_type": "code",
   "execution_count": 24,
   "id": "0c7ccdcc",
   "metadata": {},
   "outputs": [
    {
     "name": "stdout",
     "output_type": "stream",
     "text": [
      "<_io.BufferedReader name='rides.pkl'>\n",
      "<_io.BufferedReader name='rides.pkl'>\n",
      "<_io.BufferedReader name='rides.pkl'>\n",
      "<_io.BufferedReader name='rides.pkl'>\n",
      "<_io.BufferedReader name='rides.pkl'>\n",
      "<_io.BufferedReader name='rides.pkl'>\n",
      "<_io.BufferedReader name='rides.pkl'>\n",
      "<_io.BufferedReader name='rides.pkl'>\n",
      "<_io.BufferedReader name='rides.pkl'>\n",
      "<_io.BufferedReader name='rides.pkl'>\n"
     ]
    }
   ],
   "source": [
    "with open('rides.pkl', 'rb') as fp:\n",
    "    while True:\n",
    "        try:\n",
    "            ride = pickle.load(fp)\n",
    "            print(fp)\n",
    "        except EOFError:\n",
    "            break"
   ]
  },
  {
   "cell_type": "markdown",
   "id": "9469cd95",
   "metadata": {},
   "source": [
    "### IMPORTANT TO KNOW!!!\n",
    "What happens when pickle.load() function returns an error message of:\n",
    "\"ModuleNotFoundError: No module named 'Data' ?\n",
    "\n",
    "The program that created the pickle file did import Data and there are references to that module inside the pickled object. The program that loads the pickled object needs to be able to import that module to resolve those references. Either put the location of Data.py on your PYTHONPATH (or add the location to sys.path), or copy the module to where your program can find it.\n"
   ]
  },
  {
   "cell_type": "markdown",
   "id": "bb586f6f",
   "metadata": {},
   "source": [
    "### JSON\n",
    "* can serialize Python dict, list, numbers, strings\n",
    "* dumps() and load() work with strings, and dump() and load() work with files\n",
    "* in the following example, we have a python dictionary"
   ]
  },
  {
   "cell_type": "code",
   "execution_count": 25,
   "id": "157f83f5",
   "metadata": {},
   "outputs": [],
   "source": [
    "# define a python dirctionay for serialization by JSON\n",
    "\"\"\"Shopping event\"\"\"\n",
    "event = {\n",
    "    'name': 'Homer Simpson',\n",
    "    'item': 'Duff',\n",
    "    'amount': 4,\n",
    "    'item price': 4.75,\n",
    "}"
   ]
  },
  {
   "cell_type": "markdown",
   "id": "6993f020",
   "metadata": {},
   "source": [
    "#### Use dumps() and loads() that serialize/deserialize objects to/from strings"
   ]
  },
  {
   "cell_type": "code",
   "execution_count": 26,
   "id": "352970e5",
   "metadata": {},
   "outputs": [
    {
     "name": "stdout",
     "output_type": "stream",
     "text": [
      "serialized: {\"name\": \"Homer Simpson\", \"item\": \"Duff\", \"amount\": 4, \"item price\": 4.75}\n",
      "data type: <class 'str'>\n"
     ]
    }
   ],
   "source": [
    "\"\"\"Basic usage of JSON\"\"\"\n",
    "import json\n",
    "\n",
    "# Serialize to bytes, dict keys must be str\n",
    "data = json.dumps(event)\n",
    "print('serialized:', data)\n",
    "print('data type:', type(data))"
   ]
  },
  {
   "cell_type": "code",
   "execution_count": 27,
   "id": "5f1dcfde",
   "metadata": {},
   "outputs": [
    {
     "name": "stdout",
     "output_type": "stream",
     "text": [
      "data_bytes type: <class 'bytes'>\n"
     ]
    }
   ],
   "source": [
    "# if we need to feed the data into sockets, we need to serialize data into bytes\n",
    "data_bytes = data.encode('utf-8')\n",
    "print('data_bytes type:', type(data_bytes))"
   ]
  },
  {
   "cell_type": "code",
   "execution_count": 28,
   "id": "efc8ae90",
   "metadata": {},
   "outputs": [
    {
     "name": "stdout",
     "output_type": "stream",
     "text": [
      "serialized indented: {\n",
      "    \"name\": \"Homer Simpson\",\n",
      "    \"item\": \"Duff\",\n",
      "    \"amount\": 4,\n",
      "    \"item price\": 4.75\n",
      "}\n"
     ]
    }
   ],
   "source": [
    "# Indent. We can convert objects to indent strings by dumps\n",
    "print('serialized indented:', json.dumps(event, indent=4))"
   ]
  },
  {
   "cell_type": "code",
   "execution_count": 29,
   "id": "f1674c11",
   "metadata": {},
   "outputs": [
    {
     "name": "stdout",
     "output_type": "stream",
     "text": [
      "equal: True\n",
      "equal (bytes): True\n"
     ]
    }
   ],
   "source": [
    "# loads object from string\n",
    "event_str = json.loads(data)\n",
    "print('equal:', event_str == event)\n",
    "\n",
    "# loads object from bytes\n",
    "event_bytes = json.loads(data_bytes)  # Can loads from bytes as well\n",
    "print('equal (bytes):', event_bytes == event)\n"
   ]
  },
  {
   "cell_type": "markdown",
   "id": "7508f613",
   "metadata": {},
   "source": [
    "#### Use dump() and load() with files"
   ]
  },
  {
   "cell_type": "code",
   "execution_count": 30,
   "id": "94a98811",
   "metadata": {},
   "outputs": [
    {
     "name": "stdout",
     "output_type": "stream",
     "text": [
      "equal (file): True\n"
     ]
    }
   ],
   "source": [
    "# Working with files\n",
    "with open('event.json', 'w') as out:\n",
    "    json.dump(event, out)\n",
    "\n",
    "with open('event.json') as fp:\n",
    "    event_file = json.load(fp)\n",
    "\n",
    "print('equal (file):', event_file == event)"
   ]
  },
  {
   "cell_type": "markdown",
   "id": "5566e7cd",
   "metadata": {},
   "source": [
    "#### question: how does python compare dict?"
   ]
  },
  {
   "cell_type": "markdown",
   "id": "90435e22",
   "metadata": {},
   "source": [
    "#### work with datetime fields in python objects\n",
    "* JSON can not serialize objects containing datetime fields\n",
    "* one solution is to define helper function that can convert time between str and time for serialization/deserializaton\n",
    "* notice that after json.loads(), the datetime field is a string\n",
    "* we use helper function pairs_hook to convert it back to datetime\n",
    "* Anything that can be represented as a JSON type can be converted to JSON"
   ]
  },
  {
   "cell_type": "code",
   "execution_count": 31,
   "id": "cc87ba1b",
   "metadata": {},
   "outputs": [],
   "source": [
    "# an object contains datetime field\n",
    "from datetime import datetime\n",
    "\n",
    "event = {\n",
    "    'time': datetime(2020, 4, 17, 13, 27, 48),\n",
    "    'name': 'Homer',\n",
    "    'item': 'Duff',\n",
    "    'amount': 4,\n",
    "    'item price': 4.75,\n",
    "}"
   ]
  },
  {
   "cell_type": "code",
   "execution_count": 32,
   "id": "dba85ddb",
   "metadata": {},
   "outputs": [],
   "source": [
    "# the script containing helper functions to convert between datetime and str\n",
    "# this code is in custom.p that will be imported in the following code snippet\n",
    "\"\"\"Example serializing custom types\"\"\"\n",
    "from datetime import datetime\n",
    "\n",
    "\n",
    "# this function convert datetime fields in an object to str\n",
    "# obj here is each field of the python object\n",
    "def default(obj):\n",
    "    \"\"\"Encode datetime to string in YYYY-MM-DDTHH:MM:SS format (RFC3339)\"\"\"\n",
    "    if isinstance(obj, datetime):\n",
    "        return obj.isoformat()\n",
    "    return obj\n",
    "\n",
    "\n",
    "# this function convert str back to datetime\n",
    "# pairs is the JSON object\n",
    "def pairs_hook(pairs):\n",
    "    \"\"\"Convert the \"time\" key to datetime\"\"\"\n",
    "    obj = {}\n",
    "    for key, value in pairs:\n",
    "        if key == 'time':\n",
    "            value = datetime.fromisoformat(value)  # Python >= 3.7\n",
    "        obj[key] = value\n",
    "    return obj"
   ]
  },
  {
   "cell_type": "code",
   "execution_count": 33,
   "id": "8a394286",
   "metadata": {},
   "outputs": [
    {
     "data": {
      "text/plain": [
       "{'time': '2020-04-17T13:27:48',\n",
       " 'name': 'Homer',\n",
       " 'item': 'Duff',\n",
       " 'amount': 4,\n",
       " 'item price': 4.75}"
      ]
     },
     "execution_count": 33,
     "metadata": {},
     "output_type": "execute_result"
    }
   ],
   "source": [
    "# import helper function from custom.py to convert datetime to string\n",
    "from custom import default\n",
    "\n",
    "data = json.dumps(event, default=default)\n",
    "json.loads(data)"
   ]
  },
  {
   "cell_type": "code",
   "execution_count": 34,
   "id": "8be938d6",
   "metadata": {},
   "outputs": [
    {
     "data": {
      "text/plain": [
       "{'time': datetime.datetime(2020, 4, 17, 13, 27, 48),\n",
       " 'name': 'Homer',\n",
       " 'item': 'Duff',\n",
       " 'amount': 4,\n",
       " 'item price': 4.75}"
      ]
     },
     "execution_count": 34,
     "metadata": {},
     "output_type": "execute_result"
    }
   ],
   "source": [
    "# import helper function from custom.py to convert string back to datetime\n",
    "from custom import pairs_hook\n",
    "\n",
    "json.loads(data, object_pairs_hook=pairs_hook)"
   ]
  },
  {
   "cell_type": "markdown",
   "id": "b3e9ca97",
   "metadata": {},
   "source": [
    "#### Serialize stream data when\n",
    "* we don't know how many objects to serialize\n",
    "* too many object to encode in one pass\n",
    "* JSON only allows to endcode one object at a time\n",
    "* To encode multiple objects, we construct the json list, with each object in one line"
   ]
  },
  {
   "cell_type": "code",
   "execution_count": 35,
   "id": "9f4d8802",
   "metadata": {},
   "outputs": [
    {
     "name": "stdout",
     "output_type": "stream",
     "text": [
      "got {'animal': 'bee', 'group': 'swarm'}\n",
      "got {'animal': 'fox', 'group': 'charm'}\n",
      "got {'animal': 'whale', 'group': 'pod'}\n"
     ]
    }
   ],
   "source": [
    "\"\"\"Example of streaming JSON\"\"\"\n",
    "\n",
    "import json\n",
    "from io import BytesIO\n",
    "\n",
    "groups = [\n",
    "    {'animal': 'bee', 'group': 'swarm'},\n",
    "    {'animal': 'fox', 'group': 'charm'},\n",
    "    {'animal': 'whale', 'group': 'pod'},\n",
    "]\n",
    "\n",
    "\n",
    "# Sending side\n",
    "# create an in memory BytesIO\n",
    "network = BytesIO()\n",
    "\n",
    "# read each object from groups and serialize it to byte (BytesIO)\n",
    "for message in groups:\n",
    "    data = json.dumps(message)\n",
    "    network.write(data.encode('utf-8'))  # Sockets work in byte level\n",
    "    network.write(b'\\n') # add a \\n so each object in one line\n",
    "\n",
    "\n",
    "# Receiving side\n",
    "network.seek(0)  # Go back to start of data for reading side\n",
    "\n",
    "# read one object from each line, and loads the object\n",
    "while True:\n",
    "    line = network.readline()\n",
    "    if not line:\n",
    "        break\n",
    "\n",
    "    message = json.loads(line)\n",
    "    print('got', message)"
   ]
  },
  {
   "cell_type": "markdown",
   "id": "80488867",
   "metadata": {},
   "source": [
    "#### Exercise: print log file with each object one line\n",
    "* the content of log.py pasted here\n",
    "* there is datetime filed, we will use default and object_pairs_hook in json.dumps and json.loads\n",
    "* we use asdict() function to convert a dataclass object to dictionary and then serialize by json.dumps()"
   ]
  },
  {
   "cell_type": "code",
   "execution_count": 36,
   "id": "285b7083",
   "metadata": {},
   "outputs": [
    {
     "name": "stdout",
     "output_type": "stream",
     "text": [
      "{\"time\": \"2020-05-01T13:23:32\", \"ip\": \"163.206.89.4\", \"path\": \"/images/cat.png\", \"status\": 200}\n",
      "{\"time\": \"2020-05-01T13:27:01\", \"ip\": \"165.227.94.117\", \"path\": \"/images/dog.png\", \"status\": 200}\n",
      "{\"time\": \"2020-05-01T13:32:53\", \"ip\": \"137.204.201.12\", \"path\": \"/images/horse.png\", \"status\": 404}\n",
      "{\"time\": \"2020-05-01T13:44:02\", \"ip\": \"138.86.14.23\", \"path\": \"/images/cat.png\", \"status\": 200}\n",
      "{\"time\": \"2020-05-01T13:51:37\", \"ip\": \"142.130.48.163\", \"path\": \"/images/fox.png\", \"status\": 200}\n"
     ]
    }
   ],
   "source": [
    "\"\"\"Print logs to standard output in JSON format, one object per line.\"\"\"\n",
    "from dataclasses import dataclass, asdict\n",
    "from datetime import datetime\n",
    "from http import HTTPStatus\n",
    "from ipaddress import IPv4Address\n",
    "\n",
    "\n",
    "@dataclass\n",
    "class Log:\n",
    "    \"\"\"A request log\"\"\"\n",
    "    time: datetime\n",
    "    ip: IPv4Address\n",
    "    path: str\n",
    "    status: HTTPStatus\n",
    "\n",
    "\n",
    "logs = [\n",
    "    Log(\n",
    "        datetime(2020, 5, 1, 13, 23, 32),\n",
    "        IPv4Address('163.206.89.4'),\n",
    "        '/images/cat.png', 200,\n",
    "    ),\n",
    "    Log(\n",
    "        datetime(2020, 5, 1, 13, 27, 1),\n",
    "        IPv4Address('165.227.94.117'),\n",
    "        '/images/dog.png', 200,\n",
    "    ),\n",
    "    Log(\n",
    "        datetime(2020, 5, 1, 13, 32, 53),\n",
    "        IPv4Address('137.204.201.12'),\n",
    "        '/images/horse.png', 404,\n",
    "    ),\n",
    "    Log(\n",
    "        datetime(2020, 5, 1, 13, 44, 2),\n",
    "        IPv4Address('138.86.14.23'),\n",
    "        '/images/cat.png', 200,\n",
    "    ),\n",
    "    Log(\n",
    "        datetime(2020, 5, 1, 13, 51, 37),\n",
    "        IPv4Address('142.130.48.163'),\n",
    "        '/images/fox.png', 200,\n",
    "    ),\n",
    "]\n",
    "\n",
    "def default(obj):\n",
    "    \"\"\"convert datetime and IPv4Address to type supported by JSON\"\"\"\n",
    "    if isinstance(obj, datetime):\n",
    "        return obj.isoformat()\n",
    "    if isinstance(obj, IPv4Address):\n",
    "        return str(obj)\n",
    "    return obj\n",
    "\n",
    "for log in logs:\n",
    "    data = json.dumps(asdict(log), default=default)\n",
    "    print(data)"
   ]
  },
  {
   "cell_type": "markdown",
   "id": "235921aa",
   "metadata": {},
   "source": [
    "### Protocol Buffers\n",
    "* protocol buffers is a binary format that has a schemda\n",
    "* mostly for server to server communication\n",
    "* it starts by writing a schema file with .proto extension, then use a compiler called protoc to generate code to serialize and deserialize objects\n",
    "* protoc compiler can generate code called bindings to several languages\n",
    "* it allows different services written in different languages to communicate\n",
    "* protocol buffer's defintion file provides a center place where all services agree on the message format\n",
    "* since it is in binary format, it is efficient in both CPU and size of serialized data\n",
    "* on top of protocol buffers, ther is gRPC\n",
    "  + very popular server-to-server communication protocol\n",
    "  + it is basically protocol buffers over HTTP2\n",
    "* compared to JSON, file size can be 2.5 times smaller and serialization/deserialization can be 2.5 times faster  "
   ]
  },
  {
   "cell_type": "markdown",
   "id": "8433570f",
   "metadata": {},
   "source": [
    "#### Definition file of protocol buffers\n",
    "* the example file is weather.proto\n",
    "* a proto file has the follwoing components:\n",
    "  + comments. starts with //\n",
    "  + define syntax as \"proto3\"\n",
    "  + define package\n",
    "  + import (here import tiemstamp.proto to use timestamp data type)\n",
    "  + message (Temperature) with its fields, including data type, name and its id, which must be an int. For example,\n",
    "    - time (Timestamp)\n",
    "    - station (string)\n",
    "    - value (double)\n",
    "* to generate python code, we need protoc compiler\n",
    "  + on mac, use the following:\n",
    "    brew tap homebrew/versions\n",
    "    brew install protobuf\n",
    "  + on Ubuntu, use the following:\n",
    "    sudo apt install protobuf-compiler\n",
    "  + check the version using\n",
    "    protoc --version    \n",
    "  + to generate python bindings, run\n",
    "    protoc --python_out <output_dir> <.proto file path>, for example:\n",
    "    protoc --python_out . weather.proto (make sure you are in the folder containing weather.proto)\n",
    "  + a file named weather_pb2.py is generated\n",
    "  + you can check out this file to git, so people can use this to generate code without installing protoc\n",
    "  + to uset generated code, you need to install protobuf package by pip install\n",
    "    - pip install protobuf\n",
    "  + to serialize the object (see the code in the following cell):\n",
    "    - import the generated python file (here is weather_pb2.py)\n",
    "    - construct objects pb.<Message_type_name> (here is Temperature)  "
   ]
  },
  {
   "cell_type": "raw",
   "id": "c0f1cb07",
   "metadata": {},
   "source": [
    "weather.proto\n",
    "// Weather data (comments)\n",
    "syntax = \"proto3\";\n",
    "package pb;\n",
    "import \"google/protobuf/timestamp.proto\";\n",
    "\n",
    "message Temperature {\n",
    "    google.protobuf.Timestamp time = 1;\n",
    "    string station = 2;\n",
    "    double value = 3; // celcius\n",
    "}"
   ]
  },
  {
   "cell_type": "code",
   "execution_count": 37,
   "id": "0faff403",
   "metadata": {},
   "outputs": [
    {
     "name": "stdout",
     "output_type": "stream",
     "text": [
      "b'\\n\\x0c\\x08\\xf2\\x98\\x9a\\x8e\\x06\\x10\\x90\\xe8\\xac\\xa0\\x02\\x12\\x03s42\\x193333331@'\n",
      "<class 'bytes'>\n",
      "28\n",
      "time {\n",
      "  seconds: 1640402034\n",
      "  nanos: 604714000\n",
      "}\n",
      "station: \"s42\"\n",
      "value: 17.2\n",
      "\n",
      "<class 'weather_pb2.Temperature'>\n"
     ]
    },
    {
     "data": {
      "text/plain": [
       "True"
      ]
     },
     "execution_count": 37,
     "metadata": {},
     "output_type": "execute_result"
    }
   ],
   "source": [
    "# python code to serialize and de-serialize objects\n",
    "\n",
    "# import the generated python binding module\n",
    "import weather_pb2 as pb\n",
    "\n",
    "# construct the object using binding module\n",
    "message = pb.Temperature(station='s42', value=17.2)\n",
    "message.time.GetCurrentTime()\n",
    "\n",
    "# serialize object as a binary string\n",
    "data = message.SerializeToString()\n",
    "\n",
    "# print data\n",
    "print(data)\n",
    "\n",
    "# show the type of the data\n",
    "print(type(data))\n",
    "\n",
    "# show the length of the data\n",
    "print(len(data))\n",
    "\n",
    "# de-serialize from bytes to object\n",
    "message2 = pb.Temperature.FromString(data)\n",
    "print(message2)\n",
    "print(type(message2))\n",
    "\n",
    "# compare the objects\n",
    "message == message2"
   ]
  },
  {
   "cell_type": "markdown",
   "id": "d0667d65",
   "metadata": {},
   "source": [
    "#### gRPC is a serialization and communication protocol\n",
    "* it passes messages in protocol buffers format\n",
    "* uses HTTP2 as the communication protocol\n",
    "* to use gRPC, need to install grpcio-tools\n",
    "* the following is the weather_grpc.proto file for gRPC. we definded several components:\n",
    "  + syntax\n",
    "  + message Temperature that defines our entity\n",
    "  + AddReply that defines the returned data type of how many records are in database\n",
    "  + service of weather, that add the input Temperature entity to db and returns the # of records\n",
    "* run the following command in the terminal:\n",
    "  python -m grpc_tools.protoc -I. --python_out . --grpc_python_out . weather_grpc.proto\n",
    "  + use grpc_tools.protoc package with input from current folder (grpc_tools.protoc -I.)\n",
    "  + define the pyton and grpc_python output folders as current (--python_out . --grpc_python_out .)\n",
    "  + define the input proto file as weather_grpc.proto\n",
    "* two files, weather_grpc_pb2.py and weather_grpc_pb2_grpc.py were generated\n",
    "* write server.py based on the two generated python files\n",
    "* run `python server.py` to start server\n",
    "* write client.py based on the two generated python files"
   ]
  },
  {
   "cell_type": "raw",
   "id": "38b8d67f",
   "metadata": {},
   "source": [
    "// Weather data of weather_grpc.proto\n",
    "syntax = \"proto3\";\n",
    "\n",
    "package pb;\n",
    "import \"google/protobuf/timestamp.proto\";\n",
    "\n",
    "message Temperature {\n",
    "    google.protobuf.Timestamp time = 1;\n",
    "    string station = 2;\n",
    "    double value = 3; // celcius\n",
    "}\n",
    "\n",
    "message AddReply {\n",
    "    uint64 record_count = 1; // number of records\n",
    "}\n",
    "\n",
    "service Weather {\n",
    "    // Add a temperature reading\n",
    "    rpc AddTemperature(Temperature) returns (AddReply) {}\n",
    "}"
   ]
  },
  {
   "cell_type": "code",
   "execution_count": 64,
   "id": "1fd5cba8",
   "metadata": {},
   "outputs": [],
   "source": [
    "!python -m grpc_tools.protoc -I. --python_out . --grpc_python_out . weather_grpc.proto"
   ]
  },
  {
   "cell_type": "markdown",
   "id": "9e3e7b88",
   "metadata": {},
   "source": [
    "As a result, two files were generated by the above command:\n",
    "* weather_grpc_pb2.py\n",
    "* weather_grpc_pb2_grpc.py"
   ]
  },
  {
   "cell_type": "raw",
   "id": "0243986e",
   "metadata": {},
   "source": [
    "# server.py\n",
    "\"\"\"Example gRPC weather server\"\"\"\n",
    "import logging\n",
    "from threading import Lock\n",
    "\n",
    "# import the genrated python files\n",
    "import weather_grpc_pb2 as pb\n",
    "import weather_grpc_pb2_grpc as gpb\n",
    "\n",
    "# use an in memory list as db\n",
    "db = []\n",
    "lock = Lock()\n",
    "\n",
    "\n",
    "# implement WeatherServer class with AddTemperature function\n",
    "# request is a Temperature object\n",
    "class WeatherServer(gpb.WeatherServicer):\n",
    "    def AddTemperature(self, request, context):\n",
    "        with lock:\n",
    "            logging.info('add: %r', request)\n",
    "            db.append(request)\n",
    "            record_count = len(db)\n",
    "        return pb.AddReply(record_count=record_count)\n",
    "\n",
    "\n",
    "if __name__ == '__main__':\n",
    "    from concurrent.futures import ThreadPoolExecutor\n",
    "    import grpc\n",
    "\n",
    "    logging.basicConfig(\n",
    "        level=logging.INFO,\n",
    "        format='%(asctime)s - %(levelname)s - %(message)s',\n",
    "    )\n",
    "\n",
    "    # start the server\n",
    "    server = grpc.server(ThreadPoolExecutor())\n",
    "    # add service\n",
    "    gpb.add_WeatherServicer_to_server(WeatherServer(), server)\n",
    "    port = 8888\n",
    "    # run on http (grpc default to run on https, so run insecure port)\n",
    "    server.add_insecure_port(f'[::]:{port}')\n",
    "    #start server\n",
    "    server.start()\n",
    "    logging.info(f'server ready on {port}')\n",
    "    # wait for server termination\n",
    "    server.wait_for_termination()"
   ]
  },
  {
   "cell_type": "markdown",
   "id": "7f0ad8b2",
   "metadata": {},
   "source": [
    "* Open two terminals and activate python virtual environmentand \n",
    "* run\n",
    "`python server.py` in one terminal, and `python client.py` in the other\n",
    "* You should see the message in terminals as shown in the following screenshots "
   ]
  },
  {
   "cell_type": "code",
   "execution_count": 40,
   "id": "469b06e4",
   "metadata": {},
   "outputs": [
    {
     "data": {
      "text/html": [
       "<img src=\"run_server.png\"/>"
      ],
      "text/plain": [
       "<IPython.core.display.Image object>"
      ]
     },
     "execution_count": 40,
     "metadata": {},
     "output_type": "execute_result"
    }
   ],
   "source": [
    "from IPython.display import Image\n",
    "Image(url=\"run_server.png\")"
   ]
  },
  {
   "cell_type": "code",
   "execution_count": 41,
   "id": "9318e1bf",
   "metadata": {},
   "outputs": [
    {
     "data": {
      "text/html": [
       "<img src=\"run_client.png\"/>"
      ],
      "text/plain": [
       "<IPython.core.display.Image object>"
      ]
     },
     "execution_count": 41,
     "metadata": {},
     "output_type": "execute_result"
    }
   ],
   "source": [
    "Image(url=\"run_client.png\")"
   ]
  },
  {
   "cell_type": "raw",
   "id": "0af515aa",
   "metadata": {},
   "source": [
    "#client.py\n",
    "\"\"\"Example gRPC weather client\"\"\"\n",
    "import grpc\n",
    "\n",
    "import weather_grpc_pb2 as pb\n",
    "import weather_grpc_pb2_grpc as gpb\n",
    "\n",
    "# Create message\n",
    "message = pb.Temperature(station='NYC', value=3.4)\n",
    "message.time.GetCurrentTime()\n",
    "print('sending:', message)\n",
    "\n",
    "\n",
    "# open the connection to the server using the port 8088\n",
    "# and create a channel(chan) to the server\n",
    "with grpc.insecure_channel('localhost:8088') as chan:\n",
    "    # create the connection to the server (stub)\n",
    "    stub = gpb.WeatherStub(chan)\n",
    "    # call method and get the response\n",
    "    resp = stub.AddTemperature(message)\n",
    "    print(f'Total of {resp.record_count} records')    "
   ]
  },
  {
   "cell_type": "markdown",
   "id": "19435f5e",
   "metadata": {},
   "source": [
    "#### Exercise: Serialize trade objects using protocobuffs"
   ]
  },
  {
   "cell_type": "raw",
   "id": "30215667",
   "metadata": {},
   "source": [
    "// trade.proto\n",
    "syntax = \"proto3\";\n",
    "\n",
    "package pb;\n",
    "import \"google/protobuf/timestamp.proto\";\n",
    "\n",
    "message Trade = {\n",
    "    google.protobuf.Timestamp time = 1;\n",
    "    string symbol = 2\n",
    "    uint64 volume = 3\n",
    "    double price = 4\n",
    "    bool buy = 5    \n",
    "    \n",
    "}\n"
   ]
  },
  {
   "cell_type": "code",
   "execution_count": 68,
   "id": "576b5c2a",
   "metadata": {},
   "outputs": [
    {
     "name": "stdout",
     "output_type": "stream",
     "text": [
      "b'\\n\\x0c\\x08\\xb2\\xa5\\x9a\\x8e\\x06\\x10\\x98\\x84\\xf7\\xcb\\x03\\x12\\x04AAPL\\x18d!\\xaeG\\xe1z\\x14bs@(\\x01'\n",
      "<class 'bytes'>\n",
      "33\n",
      "time {\n",
      "  seconds: 1640403634\n",
      "  nanos: 964543000\n",
      "}\n",
      "symbol: \"AAPL\"\n",
      "volume: 100\n",
      "price: 310.13\n",
      "buy: true\n",
      "\n",
      "<class 'trade_pb2.Trade'>\n"
     ]
    },
    {
     "data": {
      "text/plain": [
       "True"
      ]
     },
     "execution_count": 68,
     "metadata": {},
     "output_type": "execute_result"
    }
   ],
   "source": [
    "\n",
    "# import the generated python binding module\n",
    "import trade_pb2 as pb\n",
    "from datetime import datetime\n",
    "\n",
    "# construct the object using binding module\n",
    "message = pb.Trade(symbol='AAPL', volume=100, price=310.13, buy=True)\n",
    "message.time.GetCurrentTime()\n",
    "\n",
    "# serialize object as a binary string\n",
    "data = message.SerializeToString()\n",
    "\n",
    "# print data\n",
    "print(data)\n",
    "\n",
    "# show the type of the data\n",
    "print(type(data))\n",
    "\n",
    "# show the length of the data\n",
    "print(len(data))\n",
    "\n",
    "# de-serialize from bytes to object\n",
    "message2 = pb.Trade.FromString(data)\n",
    "print(message2)\n",
    "print(type(message2))\n",
    "\n",
    "# compare the objects\n",
    "message == message2"
   ]
  },
  {
   "cell_type": "code",
   "execution_count": 66,
   "id": "b72dbaa1",
   "metadata": {},
   "outputs": [
    {
     "name": "stdout",
     "output_type": "stream",
     "text": [
      "total of 79 bytes\n"
     ]
    }
   ],
   "source": [
    "\"\"\"Write a protocol buffer definition file for a trade.\n",
    "Then encode all trades and print out how many bytes it takes to encode all of\n",
    "them.\n",
    "\"\"\"\n",
    "import trade_pb2 as pb\n",
    "from datetime import datetime\n",
    "\n",
    "\n",
    "def timestamp(s):\n",
    "    \"\"\"Convert timestamp string to datetime\"\"\"\n",
    "    return datetime.strptime(s, '%Y-%m-%dT%H:%M:%S')\n",
    "\n",
    "\n",
    "trades = [\n",
    "    {\n",
    "        'time': timestamp('2020-05-01T13:23:32'),\n",
    "        'symbol': 'AAPL',\n",
    "        'volume': 100,\n",
    "        'price': 310.13,\n",
    "        'buy': True,\n",
    "    },\n",
    "    {\n",
    "        'time': timestamp('2020-05-02T15:17:24'),\n",
    "        'symbol': 'MSFT',\n",
    "        'volume': 20,\n",
    "        'price': 184.69,\n",
    "        'buy': False,\n",
    "    },\n",
    "    {\n",
    "        'time': timestamp('2020-05-03T08:09:53'),\n",
    "        'symbol': 'NFLX',\n",
    "        'volume': 18,\n",
    "        'price': 435.50,\n",
    "        'buy': True,\n",
    "    },\n",
    "]\n",
    "\n",
    "size = 0\n",
    "for obj in trades:\n",
    "    message = pb.Trade(\n",
    "        symbol=obj['symbol'], \n",
    "        volume=obj['volume'], \n",
    "        price=obj['price'], \n",
    "        buy=obj['buy'])\n",
    "    message.time.FromDatetime(obj['time'])\n",
    "    data = message.SerializeToString()\n",
    "    size += len(data)\n",
    "print(f'total of {size} bytes')    \n",
    "    "
   ]
  },
  {
   "cell_type": "markdown",
   "id": "910960df",
   "metadata": {},
   "source": [
    "run `rotoc --python_out . trade.proto` to generate trade_pb2.py"
   ]
  },
  {
   "cell_type": "markdown",
   "id": "1c201528",
   "metadata": {},
   "source": [
    "### msgpack Serialization\n",
    "* msgpack is a schema-less binary format\n",
    "* you can think of it as a binary JSON\n",
    "* the lack of schema allows it to iterate quickly with message formats\n",
    "* msgpack is not in the python standard library. pip install msgpack\n",
    "* the methods are the same as JSON\n",
    "* we can serialize the same objects using json, but with larger size, as shown here"
   ]
  },
  {
   "cell_type": "code",
   "execution_count": 45,
   "id": "c382237b",
   "metadata": {},
   "outputs": [
    {
     "name": "stdout",
     "output_type": "stream",
     "text": [
      "data size: 118\n",
      "metric2 equal: True\n",
      "JSON data size 155\n",
      "metric2j equal: True\n"
     ]
    }
   ],
   "source": [
    "\"\"\"msgpack example data\"\"\"\n",
    "from datetime import datetime\n",
    "\n",
    "import msgpack\n",
    "\n",
    "type_key = '__type__'\n",
    "datetime_type = 'datetime'\n",
    "\n",
    "\n",
    "def default(obj):\n",
    "    if isinstance(obj, datetime):\n",
    "        return {\n",
    "            type_key: datetime_type,\n",
    "            'value': obj.isoformat(),\n",
    "        }\n",
    "    return obj\n",
    "\n",
    "\n",
    "# this function traverse each field and returns the value\n",
    "def object_hook(obj):\n",
    "    if obj.get(type_key) == datetime_type:\n",
    "        return datetime.fromisoformat(obj['value'])  # Python >= 3.7\n",
    "    return obj\n",
    "\n",
    "\n",
    "metric = {\n",
    "    'time': datetime.now(),\n",
    "    'name': 'memory',\n",
    "    'value': 14.3,\n",
    "    'labels': {\n",
    "        'host': 'prod7',\n",
    "        'version': '1.3.4',\n",
    "    },\n",
    "}\n",
    "\n",
    "data = msgpack.dumps(metric, default=default)\n",
    "print('data size:', len(data))\n",
    "\n",
    "metric2 = msgpack.loads(data, object_hook=object_hook)\n",
    "print('metric2 equal:', metric2 == metric)\n",
    "\n",
    "# compare to json\n",
    "jdata = json.dumps(metric, default=default)\n",
    "print('JSON data size', len(jdata))\n",
    "\n",
    "metric2_j = json.loads(jdata, object_hook=object_hook)\n",
    "print('metric2j equal:', metric2_j == metric)"
   ]
  },
  {
   "cell_type": "markdown",
   "id": "78e54bd3",
   "metadata": {},
   "source": [
    "### YAML\n",
    "* text and very readable\n",
    "* has comments and supports a wide variety of types\n",
    "* ideal for configuration\n",
    "* has references. we can define the value once and reference it in the other places\n",
    "* The following python code load a config.yml file, the content of which is listed after the code\n",
    "* pyyaml is not in the python standard library. pip install msgpack\n",
    "* YAML parser is slower than JSON, don't use it for server to server communication. Use it for configuration"
   ]
  },
  {
   "cell_type": "code",
   "execution_count": 46,
   "id": "ccc1431a",
   "metadata": {},
   "outputs": [
    {
     "name": "stdout",
     "output_type": "stream",
     "text": [
      "{'api_host': 'app.example.com', 'auth_server': {'host': 'app.example.com', 'port': 8080}, 'db_server': {'host': 'db.example.com', 'port': 9999, 'user': 'dbu', 'passwd': 's3cr3t'}, 'log_server': {'host': 'app.example.com', 'port': 8888, 'endpoint': '/log'}}\n"
     ]
    }
   ],
   "source": [
    "\"\"\"Working with YAML example\"\"\"\n",
    "from sys import stdout\n",
    "\n",
    "import yaml\n",
    "\n",
    "# de-serialize\n",
    "with open('config.yml') as fp:\n",
    "    config = yaml.safe_load(fp)\n",
    "print(config)\n"
   ]
  },
  {
   "cell_type": "code",
   "execution_count": 47,
   "id": "3142cb51",
   "metadata": {},
   "outputs": [
    {
     "data": {
      "text/plain": [
       "dict"
      ]
     },
     "execution_count": 47,
     "metadata": {},
     "output_type": "execute_result"
    }
   ],
   "source": [
    "type(config)"
   ]
  },
  {
   "cell_type": "code",
   "execution_count": 48,
   "id": "77a2eb14",
   "metadata": {},
   "outputs": [
    {
     "data": {
      "text/plain": [
       "'api_host: app.example.com\\nauth_server:\\n  host: app.example.com\\n  port: 8080\\ndb_server:\\n  host: db.example.com\\n  passwd: s3cr3t\\n  port: 9999\\n  user: dbu\\nlog_server:\\n  endpoint: /log\\n  host: app.example.com\\n  port: 8888\\n'"
      ]
     },
     "execution_count": 48,
     "metadata": {},
     "output_type": "execute_result"
    }
   ],
   "source": [
    "# generate data without reference and comments as a string\n",
    "yaml.safe_dump(config)"
   ]
  },
  {
   "cell_type": "code",
   "execution_count": 49,
   "id": "e602645e",
   "metadata": {},
   "outputs": [
    {
     "name": "stdout",
     "output_type": "stream",
     "text": [
      "api_host: app.example.com\n",
      "auth_server:\n",
      "  host: app.example.com\n",
      "  port: 8080\n",
      "db_server:\n",
      "  host: db.example.com\n",
      "  passwd: s3cr3t\n",
      "  port: 9999\n",
      "  user: dbu\n",
      "log_server:\n",
      "  endpoint: /log\n",
      "  host: app.example.com\n",
      "  port: 8888\n"
     ]
    }
   ],
   "source": [
    "# serialize\n",
    "yaml.safe_dump(config, stdout)"
   ]
  },
  {
   "cell_type": "code",
   "execution_count": 50,
   "id": "cb255e61",
   "metadata": {},
   "outputs": [],
   "source": [
    "# to save in a file\n",
    "with open('config2.yml', 'w') as out:\n",
    "    yaml.safe_dump(config, out)"
   ]
  },
  {
   "cell_type": "raw",
   "id": "605410c5",
   "metadata": {},
   "source": [
    "# YAML Example: Application configuration\n",
    "\n",
    "api_host: &api_host app.example.com  # &api_host is an anchor\n",
    "\n",
    "auth_server:\n",
    "  host: *api_host  # reference api_host\n",
    "  port: 8080\n",
    "\n",
    "db_server:\n",
    "  host: db.example.com\n",
    "  port: 9999\n",
    "  user: dbu\n",
    "  passwd: s3cr3t\n",
    "\n",
    "log_server:\n",
    "  host: *api_host\n",
    "  port: 8888\n",
    "  endpoint: /log"
   ]
  },
  {
   "cell_type": "markdown",
   "id": "a6c63d0f",
   "metadata": {},
   "source": [
    "### XML\n",
    "* XML is defined as a tree, having a root and each element/node has a tag\n",
    "* data of each element is text between the element tags\n",
    "* elements can have properties defined inside the tag\n",
    "* each node can have child nodes\n",
    "* two ways to work with XML\n",
    "  + DOM (Document Object Model) that load everything in memory\n",
    "  + SAX (Simple API for XML) iterative and good for very large XML files\n",
    "* example code used DOM to parse XML file. The content of the XML file is listed after code  "
   ]
  },
  {
   "cell_type": "code",
   "execution_count": 52,
   "id": "befe6bd6",
   "metadata": {},
   "outputs": [
    {
     "name": "stdout",
     "output_type": "stream",
     "text": [
      "metric\n",
      "time\n",
      "name\n",
      "value\n",
      "labels\n",
      "value: 42.7\n",
      "key = 'host', value='prod7'\n",
      "key = 'version', value='1.3.4'\n",
      "xml: <metric><time>2021-12-24T22:14:42.089611</time><name>CPU</name><value>3.4</value><labels><label key=\"host\" value=\"prod9\" /><label key=\"version\" value=\"1.4.4\" /></labels></metric>\n"
     ]
    }
   ],
   "source": [
    "\"\"\"Example working with XML\"\"\"\n",
    "\n",
    "import xml.etree.ElementTree as xml\n",
    "from datetime import datetime\n",
    "\n",
    "# de-serialize from xml file\n",
    "tree = xml.parse('metric.xml')\n",
    "root = tree.getroot()\n",
    "print(root.tag)\n",
    "for child in root:  # iterate over the 1st generation children \n",
    "    print(child.tag)\n",
    "\n",
    "# find the node named 'value' and print it text content\n",
    "value = root.find('value')  # find child by tag\n",
    "print('value:', value.text)\n",
    "\n",
    "for label in root.findall('./*/label'):  # find children by XPATH, the 2nd generateion child\n",
    "    key, value = label.get('key'), label.get('value')\n",
    "    print(f'key = {key!r}, value={value!r}')\n",
    "\n",
    "\n",
    "# serialize\n",
    "metric = {\n",
    "    'time': datetime.now(),\n",
    "    'name': 'CPU',\n",
    "    'value': 3.4,\n",
    "    'labels': {\n",
    "        'host': 'prod9',\n",
    "        'version': '1.4.4',\n",
    "    },\n",
    "}\n",
    "\n",
    "\n",
    "def new_element(tag, text):\n",
    "    \"\"\"Helper function to create an element with text\"\"\"\n",
    "    elem = xml.Element(tag)\n",
    "    elem.text = text\n",
    "    return elem\n",
    "\n",
    "\n",
    "root = xml.Element('metric')\n",
    "root.append(new_element('time', metric['time'].isoformat()))\n",
    "root.append(new_element('name', metric['name']))\n",
    "root.append(new_element('value', str(metric['value'])))\n",
    "labels = xml.Element('labels')\n",
    "for key, value in metric['labels'].items():\n",
    "    labels.append(xml.Element('label', key=key, value=value))\n",
    "root.append(labels)\n",
    "data = xml.tostring(root)\n",
    "print('xml:', data.decode('utf-8'))"
   ]
  },
  {
   "cell_type": "raw",
   "id": "d7da785b",
   "metadata": {},
   "source": [
    "<?xml version=\"1.0\" ?>\n",
    "<metric>\n",
    "    <time>2020-05-01T18:04:28.807479</time>\n",
    "    <name>memory</name>\n",
    "    <value>42.7</value>\n",
    "    <labels>\n",
    "        <label key=\"host\" value=\"prod7\"/>\n",
    "        <label key=\"version\" value=\"1.3.4\"/>\n",
    "    </labels>\n",
    "</metric>"
   ]
  },
  {
   "cell_type": "markdown",
   "id": "69fed1ee",
   "metadata": {},
   "source": [
    "### SQL\n",
    "* language query relation of databases\n",
    "* has schema\n",
    "* support a variety of types\n",
    "* sqlite allows you to push a lot of data into database and copy it over as a single file"
   ]
  },
  {
   "cell_type": "code",
   "execution_count": 54,
   "id": "1a30b0d6",
   "metadata": {},
   "outputs": [
    {
     "name": "stdout",
     "output_type": "stream",
     "text": [
      "{'time': '2021-12-19 18:10:23.642434', 'level': 'INFO', 'message': 'log message #0'}\n",
      "{'time': '2021-12-19 18:10:19.642434', 'level': 'INFO', 'message': 'log message #4'}\n",
      "{'time': '2021-12-19 18:10:17.642434', 'level': 'INFO', 'message': 'log message #6'}\n",
      "{'time': '2021-12-19 18:10:11.642434', 'level': 'INFO', 'message': 'log message #12'}\n",
      "{'time': '2021-12-19 18:10:07.642434', 'level': 'INFO', 'message': 'log message #16'}\n"
     ]
    }
   ],
   "source": [
    "\"\"\"SQL example\"\"\"\n",
    "\n",
    "import sqlite3\n",
    "from random import choice\n",
    "from datetime import datetime, timedelta\n",
    "\n",
    "# use :memory: for in memory database, great for testing\n",
    "db = sqlite3.connect('logs.db')\n",
    "\n",
    "# Create the table\n",
    "with open('schema.sql') as fp:\n",
    "    schema_sql = fp.read()\n",
    "db.executescript(schema_sql)\n",
    "db.commit()\n",
    "\n",
    "\n",
    "# Generate some random data\n",
    "cur = db.cursor()  # Database cursor\n",
    "now = datetime.now()\n",
    "insert_sql = 'INSERT INTO logs (time, level, message) values (?, ?, ?)'\n",
    "for i in range(10_000):\n",
    "    time = now - timedelta(seconds=i)\n",
    "    level = choice(['INFO', 'WRANING', 'ERROR'])\n",
    "    message = f'log message #{i}'\n",
    "    cur.execute(insert_sql, (time, level, message))\n",
    "db.commit()\n",
    "\n",
    "\n",
    "# Query the database\n",
    "db.row_factory = sqlite3.Row  # Access column by name\n",
    "cur = db.cursor()\n",
    "query_sql = 'SELECT * FROM logs WHERE level = \"INFO\" LIMIT 5'\n",
    "for row in cur.execute(query_sql):\n",
    "    print(dict(row))"
   ]
  },
  {
   "cell_type": "markdown",
   "id": "3d92a962",
   "metadata": {},
   "source": [
    "#### Exercise ETL to read XML file and insert into database"
   ]
  },
  {
   "cell_type": "code",
   "execution_count": 55,
   "id": "ec3e4e7b",
   "metadata": {},
   "outputs": [
    {
     "name": "stdout",
     "output_type": "stream",
     "text": [
      "10 records loaded\n"
     ]
    }
   ],
   "source": [
    "\"\"\"ETL FROM UFO data in XML into SQLite database\"\"\"\n",
    "import sqlite3\n",
    "import xml.etree.ElementTree as xml\n",
    "\n",
    "\n",
    "def etl(xml_file, db_file):\n",
    "    db = sqlite3.connect(db_file)\n",
    "    \n",
    "    # Create ufo table\n",
    "    with open('ufo_schema.sql') as fp:\n",
    "        schema_sql = fp.read()\n",
    "        \n",
    "    db.executescript(schema_sql)\n",
    "    db.commit()\n",
    "    \n",
    "    tree = xml.parse('ufo.xml')\n",
    "    root = tree.getroot()\n",
    "    \n",
    "    insert_sql =\"insert into sighting VALUES(?, ?, ?, ?)\"\n",
    "    num_records = 0\n",
    "    \n",
    "    for el in root.findall(\".//sighting\"):\n",
    "        time = el.find('time').text\n",
    "        time = datetime.strptime(time, '%Y-%m-%dT%H:%M:%S')\n",
    "        lat = float(el.find('lat').text)\n",
    "        lng = float(el.find('lng').text)\n",
    "        shape = el.find('shape').text\n",
    "        db.execute(insert_sql, (time, lat, lng, shape))\n",
    "        num_records += 1\n",
    "\n",
    "    return num_records\n",
    "\n",
    "\n",
    "if __name__ == '__main__':\n",
    "    count = etl('ufo.xml', 'ufo.db')\n",
    "    print(f'{count} records loaded')"
   ]
  },
  {
   "cell_type": "markdown",
   "id": "8e9daf8a",
   "metadata": {},
   "source": [
    "### Encoding\n",
    "* every object will be serialized to byte \n",
    "* How strings are encoded. (unicode is a system for storing written human language in a computer)\n",
    "* unicode is an encoding schema\n",
    "  + specs assign a number to every character that is also called a code point. \n",
    "  + a code point is encoded into bytes (base64/hexadecimal). p : 80: 0x50 (80 is assgined to letter p, code point for p is 50)\n",
    "  + some code points in unicode represent control points.`[E2][80][8F]` means text direction is \"right to left\"\n",
    "  + glyphs is the representation of strings defined by fonts. No fonts can display all unicode characters\n",
    "* Python is coded as `[50][79][74][68][6f][6e]`\n",
    "* the most common coding is UTF-8\n",
    "  + variable encoding. Every character can be 1, 2, or 4 bytes\n",
    "* in python3, we have two types for strings, str and Bytes\n",
    "  + str is a unicode string. every character is mapped to a code point\n",
    "  + Byte is a sequence of bytes that can be an encoding of a str\n",
    "* we have different normalization format, making the string comparison complicated\n",
    "  + NFC/NFKC, and NFD normalization formats\n",
    "  + we use unicodedata module to normalize the string\n",
    "  "
   ]
  },
  {
   "cell_type": "code",
   "execution_count": 56,
   "id": "33634fa3",
   "metadata": {},
   "outputs": [
    {
     "name": "stdout",
     "output_type": "stream",
     "text": [
      "str of city is  Köln\n",
      "len of city str 4\n",
      "Byte of city is  b'K\\xc3\\xb6ln'\n",
      "len of city Byte  5\n",
      "decode city_b Köln\n",
      "________________________________________________\n",
      "str of query is  Köln\n",
      "len of query str 5\n",
      "Byte of query is  b'Ko\\xcc\\x88ln'\n",
      "len of query Byte  6\n"
     ]
    }
   ],
   "source": [
    "city = 'Köln'\n",
    "print(\"str of city is \", city)\n",
    "print(\"len of city str\", len(city))\n",
    "\n",
    "city_b = city.encode('UTF-8')\n",
    "print(\"Byte of city is \", city_b)\n",
    "print(\"len of city Byte \", len(city_b))\n",
    "print(\"decode city_b\", city_b.decode(\"UTF-8\"))\n",
    "\n",
    "print(\"________________________________________________\")\n",
    "\n",
    "query = 'Köln'\n",
    "print(\"str of query is \", query)\n",
    "print(\"len of query str\", len(query))\n",
    "print(\"Byte of query is \", query.encode('UTF-8'))\n",
    "print(\"len of query Byte \", len(query.encode('UTF-8')))\n"
   ]
  },
  {
   "cell_type": "markdown",
   "id": "f3921e9e",
   "metadata": {},
   "source": [
    "#### Normalize strings"
   ]
  },
  {
   "cell_type": "code",
   "execution_count": 57,
   "id": "7a4a9ed6",
   "metadata": {},
   "outputs": [
    {
     "data": {
      "text/plain": [
       "True"
      ]
     },
     "execution_count": 57,
     "metadata": {},
     "output_type": "execute_result"
    }
   ],
   "source": [
    "import unicodedata\n",
    "query2 = unicodedata.normalize('NFKC', query)\n",
    "city == query2"
   ]
  },
  {
   "cell_type": "markdown",
   "id": "dd831fa0",
   "metadata": {},
   "source": [
    "#### compare strings\n",
    "* in python, use `p1.lower() == p2.lower()`\n",
    "* in other languages, this may not work. Use casefold()"
   ]
  },
  {
   "cell_type": "code",
   "execution_count": 58,
   "id": "0e00a997",
   "metadata": {},
   "outputs": [
    {
     "data": {
      "text/plain": [
       "True"
      ]
     },
     "execution_count": 58,
     "metadata": {},
     "output_type": "execute_result"
    }
   ],
   "source": [
    "p1, p2 = \"Python\", \"python\"\n",
    "p1.lower() == p2.lower()"
   ]
  },
  {
   "cell_type": "code",
   "execution_count": 59,
   "id": "639af9d1",
   "metadata": {},
   "outputs": [
    {
     "data": {
      "text/plain": [
       "True"
      ]
     },
     "execution_count": 59,
     "metadata": {},
     "output_type": "execute_result"
    }
   ],
   "source": [
    "p1.casefold() == p2.casefold()"
   ]
  },
  {
   "cell_type": "markdown",
   "id": "3405a0cd",
   "metadata": {},
   "source": [
    "### How to detect encoding?\n",
    "* http content-type, charset=utf-8\n",
    "* JSON by default uses utf-8 encoding\n",
    "* use chardet to find out the encoding"
   ]
  },
  {
   "cell_type": "code",
   "execution_count": 60,
   "id": "aa5aae88",
   "metadata": {},
   "outputs": [
    {
     "data": {
      "text/plain": [
       "{'encoding': 'UTF-8-SIG', 'confidence': 1.0, 'language': ''}"
      ]
     },
     "execution_count": 60,
     "metadata": {},
     "output_type": "execute_result"
    }
   ],
   "source": [
    "import chardet\n",
    "\n",
    "with open('aow.txt', 'rb') as fp:\n",
    "    data = fp.read()\n",
    "    \n",
    "chardet.detect(data)    "
   ]
  },
  {
   "cell_type": "code",
   "execution_count": 61,
   "id": "aba6fbb8",
   "metadata": {},
   "outputs": [
    {
     "data": {
      "text/plain": [
       "{'encoding': 'UTF-16', 'confidence': 1.0, 'language': ''}"
      ]
     },
     "execution_count": 61,
     "metadata": {},
     "output_type": "execute_result"
    }
   ],
   "source": [
    "with open('aow16.txt', 'rb') as fp:\n",
    "    data = fp.read()\n",
    "    \n",
    "chardet.detect(data)  "
   ]
  },
  {
   "cell_type": "markdown",
   "id": "b302ed8e",
   "metadata": {},
   "source": [
    "### Exercise: normalize and compare words by casefold"
   ]
  },
  {
   "cell_type": "code",
   "execution_count": 62,
   "id": "613378cd",
   "metadata": {},
   "outputs": [
    {
     "name": "stdout",
     "output_type": "stream",
     "text": [
      "python         \t3\n",
      "gdańsk         \t3\n",
      "fluss          \t2\n",
      "σίγμα          \t2\n"
     ]
    }
   ],
   "source": [
    "\"\"\"Print count of words (ignoring case)\"\"\"\n",
    "from collections import Counter\n",
    "import unicodedata\n",
    "\n",
    "\n",
    "wc = Counter()\n",
    "with open('words.txt', encoding='utf-8') as fp:\n",
    "    for word in fp:\n",
    "        word = word.strip()\n",
    "        key = unicodedata.normalize('NFKC',word).casefold()\n",
    "        wc[key] += 1\n",
    "\n",
    "for word, count in wc.most_common():\n",
    "    print(f'{word:<15}\\t{count}')"
   ]
  }
 ],
 "metadata": {
  "kernelspec": {
   "display_name": "Python 3 (ipykernel)",
   "language": "python",
   "name": "python3"
  },
  "language_info": {
   "codemirror_mode": {
    "name": "ipython",
    "version": 3
   },
   "file_extension": ".py",
   "mimetype": "text/x-python",
   "name": "python",
   "nbconvert_exporter": "python",
   "pygments_lexer": "ipython3",
   "version": "3.8.10"
  }
 },
 "nbformat": 4,
 "nbformat_minor": 5
}
