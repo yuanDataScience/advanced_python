{
 "cells": [
  {
   "cell_type": "markdown",
   "id": "08d5b9e8",
   "metadata": {},
   "source": [
    "## Abstract Base Classes (ABCs)"
   ]
  },
  {
   "cell_type": "markdown",
   "id": "7ac1afd2",
   "metadata": {},
   "source": [
    "### ABCs\n",
    "* first defined in Python Enhancement Proposal 3119\n",
    "* Python standard library: abc\n",
    "* Python is not Java, C++, C sharp, it is much more flexible in terms of abstract classes"
   ]
  },
  {
   "cell_type": "markdown",
   "id": "77d7fd6c",
   "metadata": {},
   "source": [
    "### Abstract Base Classes\n",
    "* base: it is the target (base class) of an inheritnce relationship from a subclass\n",
    "* abstract: the class can not be instantiated in isolation\n",
    "* an abstract base class defines an interface which derived classes must implement \n",
    "* what is an interface? (interface definition) \n",
    "  + the base class defines the interface for clients of any and all subclasses\n",
    "* Liskov substituability\n",
    "  + subclasses, from the point of client code should be interchangable.\n",
    "    + client code developed against an abstract interface should not require knowledge of specific concrete types, only of their capability as promised by the abstract base class\n",
    "  + (client) code relying only on the base class does not need to be modified for alternative subclasses\n",
    "* although providing interfaces, different from pure interfaces such as in Java, abstract class can also contain implementation code that can be shared by all derived classes"
   ]
  },
  {
   "cell_type": "markdown",
   "id": "9f93ee30",
   "metadata": {},
   "source": [
    "#### Duck typing\n",
    "* why do we need to define named interfaces when we have duck typing?\n",
    "  + determining whether a particular object supports the required interface before exercising that inteface can be quite awkward\n",
    "  + for interfaces implementing many methods, to check whether or not an object has implemented all of them will not be conveient and efficient\n",
    "* what is duck typing?\n",
    "  + when I see a bird that walks like a duck and swims like a duck and quacks like a duck, I call that bird a duck\n",
    "  + in Python, this is ture both in theory and practice\n",
    " "
   ]
  },
  {
   "cell_type": "markdown",
   "id": "e566ba17",
   "metadata": {},
   "source": [
    "#### Abastract Base Classes in Python\n",
    "* servs two purposes\n",
    "  + provides specification\n",
    "    + ABCs are effective for specifying interface protocols\n",
    "  + detection\n",
    "    + ABCs can be used to detect conforming objects\n",
    "      + provide a means for easily determining whether an abitrary class or instance meets the requirements of a specific protocol\n",
    "* base classes in Python\n",
    "  + in the following code, we showed that list is a subclass of MutableSequence, and object, but MutableSequence is no where in list's baseclasses list, and even its transitive bases from mro\n",
    "  + in the code example, we showed the 5 methods that a MutableSequence must implement out of the total 16. Note that the remaining 11 methods are implemented, but may not be the most efficient, since they only rely on the protocol without any knowledge of the concrete classes\n",
    "  + The way issublist works is by checking its metaclass for a special method deunder subclasschek.\n",
    "    + if this method is available, then call this method with the subclass name, for example \n",
    "    \n",
    "    ```python\n",
    "    issubclass(list, MutableSequence)\n",
    "    \n",
    "    # the same as\n",
    "    if hasattr(type(MutableSequnece), \"__subclasscheck__\"):\n",
    "        return type(MutableSequence).__subclasscheck__(list)   \n",
    "    ```\n",
    "    + it is upto the metaclass of MutableSequence to determine whether or not list is a subclass of MutableSequence, rather than list being required to know that MutableSequence is one of its base classes\n",
    "    + this allows list to be a subclass of MutableSequence without MutableSequence being the target of an inheritance relationship\n",
    "    + we can say list is a virtual subclass of MutableSequence and MutableSequence is a virtual base class of list"
   ]
  },
  {
   "cell_type": "code",
   "execution_count": 1,
   "id": "6fd3063f",
   "metadata": {},
   "outputs": [
    {
     "name": "stdout",
     "output_type": "stream",
     "text": [
      "True\n",
      "True\n",
      "(<class 'object'>,)\n",
      "(<class 'list'>, <class 'object'>)\n"
     ]
    }
   ],
   "source": [
    "from collections.abc import (MutableSequence)\n",
    "\n",
    "print(issubclass(list, object))\n",
    "print(issubclass(list, MutableSequence))\n",
    "print(list.__bases__)\n",
    "print(list.__mro__)"
   ]
  },
  {
   "cell_type": "code",
   "execution_count": 2,
   "id": "920b2ecd",
   "metadata": {},
   "outputs": [
    {
     "ename": "TypeError",
     "evalue": "Can't instantiate abstract class MutableSequence with abstract methods __delitem__, __getitem__, __len__, __setitem__, insert",
     "output_type": "error",
     "traceback": [
      "\u001b[1;31m---------------------------------------------------------------------------\u001b[0m",
      "\u001b[1;31mTypeError\u001b[0m                                 Traceback (most recent call last)",
      "Input \u001b[1;32mIn [2]\u001b[0m, in \u001b[0;36m<cell line: 1>\u001b[1;34m()\u001b[0m\n\u001b[1;32m----> 1\u001b[0m ms \u001b[38;5;241m=\u001b[39m \u001b[43mMutableSequence\u001b[49m\u001b[43m(\u001b[49m\u001b[43m)\u001b[49m\n",
      "\u001b[1;31mTypeError\u001b[0m: Can't instantiate abstract class MutableSequence with abstract methods __delitem__, __getitem__, __len__, __setitem__, insert"
     ]
    }
   ],
   "source": [
    "# error message of this command shows the 5 abstract methods \n",
    "# we need to implement, out of the all 16 methods where 11 has been implemented\n",
    "ms = MutableSequence()"
   ]
  },
  {
   "cell_type": "markdown",
   "id": "bd1ebe02",
   "metadata": {},
   "source": [
    "#### Defining \\_\\_subclasscheck\\_\\_ in practice\n",
    "* starting from two sword subclass, we created a ABC for these two. These two classes have the identical interfaces\n",
    "* after adding a metaclass for Sword class, and implement dunder subclasscheck method, issubclass() returns True, even though the two concrete classes didn't inherit Sword class.\n",
    "* also implemented dunder instancecheck, which calls issubclass that finally calls the dunder subclasscheck method of the metaclass\n",
    "* the implementation in dunder subclasscheck doesn't check for subclassing by inheritance. It is a test if the subclasses are exchangable by following the certain function signatures. Therefore, it is a test for Replaces rather than extends\n",
    "  + this purely duck-tying checking will return false if a class inherits Sword. To fix this, we can fall back to normal dunder subclasscheck if the structure/duck-type check gives us False results. By doing this in version 3, issubclass returns true for both duck-type and inheritance subclasses."
   ]
  },
  {
   "cell_type": "code",
   "execution_count": 14,
   "id": "ad981b78",
   "metadata": {},
   "outputs": [],
   "source": [
    "# version 1. two concerete classes with identical interfaces \n",
    "# but no inheritance relationship\n",
    "class Sword:\n",
    "    \"\"\"Abstract Base Class\"\"\"   \n",
    "\n",
    "class BroadSword:\n",
    "    \n",
    "    def swipe(self):\n",
    "        print(\"Swoosh!\", type(self).__name__)\n",
    "        \n",
    "    def sharpen(self):\n",
    "        print(\"Shink!\", type(self).__name__)\n",
    "        \n",
    "        \n",
    "class SamuraiSword:\n",
    "    \n",
    "    def swipe(self):\n",
    "        print(\"Slice!\", type(self).__name__)\n",
    "        \n",
    "    def sharpen(self):\n",
    "        print(\"Shink!\", type(self).__name__)       \n",
    "        "
   ]
  },
  {
   "cell_type": "code",
   "execution_count": 15,
   "id": "5a438291",
   "metadata": {},
   "outputs": [
    {
     "name": "stdout",
     "output_type": "stream",
     "text": [
      "Swoosh! BroadSword\n",
      "None\n",
      "Slice! SamuraiSword\n",
      "None\n",
      "False\n",
      "False\n"
     ]
    }
   ],
   "source": [
    "# we first check that both concrete classes work fine \n",
    "b = BroadSword()\n",
    "print(b.swipe())\n",
    "\n",
    "b = SamuraiSword()\n",
    "print(b.swipe())\n",
    "\n",
    "# There is no inheritance relationship\n",
    "print(issubclass(BroadSword, Sword))\n",
    "\n",
    "print(issubclass(SamuraiSword, Sword))"
   ]
  },
  {
   "cell_type": "code",
   "execution_count": 18,
   "id": "0565af7b",
   "metadata": {},
   "outputs": [],
   "source": [
    "# version 2. implement metaclass for abstract class Sword\n",
    "# to define the inheritance relationship\n",
    "\n",
    "class SwordMeta(type):\n",
    "    \n",
    "    # this function will call __subclasscheck__ under the hood\n",
    "    # issubclass will call __subclasscheck__ from the metaclass \n",
    "    # of cls(here cls==Sword, metaclass==SwordMeta)\n",
    "    def __instancecheck__(cls, instance):\n",
    "        return issubclass(type(instance), cls)\n",
    "    \n",
    "    \n",
    "    def __subclasscheck__(cls, subclass):\n",
    "        return (\n",
    "            hasattr(subclass, \"swipe\") and callable(subclass.swipe)\n",
    "            and\n",
    "            hasattr(subclass, \"sharpen\") and callable(subclass.sharpen)\n",
    "        )\n",
    "\n",
    "\n",
    "\n",
    "class Sword(metaclass=SwordMeta):\n",
    "    \"\"\"Abstract Base Class\"\"\"   \n",
    "\n",
    "class BroadSword:\n",
    "    \n",
    "    def swipe(self):\n",
    "        print(\"Swoosh!\", type(self).__name__)\n",
    "        \n",
    "    def sharpen(self):\n",
    "        print(\"Shink!\", type(self).__name__)\n",
    "        \n",
    "        \n",
    "class SamuraiSword:\n",
    "    \n",
    "    def swipe(self):\n",
    "        print(\"Slice!\", type(self).__name__)\n",
    "        \n",
    "    def sharpen(self):\n",
    "        print(\"Shink!\", type(self).__name__)\n",
    "        \n",
    "class Rifle:\n",
    "    \n",
    "    def fire(self):\n",
    "        print(\"Bang!\", type(self).__name__)\n",
    "        \n",
    "class Sabre(Sword):\n",
    "    pass"
   ]
  },
  {
   "cell_type": "code",
   "execution_count": 20,
   "id": "9563074d",
   "metadata": {},
   "outputs": [
    {
     "name": "stdout",
     "output_type": "stream",
     "text": [
      "True\n",
      "True\n",
      "False\n"
     ]
    },
    {
     "data": {
      "text/plain": [
       "False"
      ]
     },
     "execution_count": 20,
     "metadata": {},
     "output_type": "execute_result"
    }
   ],
   "source": [
    "# There is inheritance relationship\n",
    "# after adding metaclass for Sword\n",
    "print(issubclass(BroadSword, Sword))\n",
    "print(issubclass(SamuraiSword, Sword))\n",
    "print(issubclass(Rifle, Sword))\n",
    "\n",
    "# isinstance returns true\n",
    "samurai_sword = SamuraiSword()\n",
    "isinstance(samurai_sword, Sword)\n",
    "\n",
    "# inheritance relationship is ignored\n",
    "issubclass(Sabre, Sword)"
   ]
  },
  {
   "cell_type": "code",
   "execution_count": 25,
   "id": "1409d498",
   "metadata": {},
   "outputs": [],
   "source": [
    "# version 2. implement metaclass for abstract class Sword\n",
    "# to define the inheritance relationship\n",
    "\n",
    "class SwordMeta(type):\n",
    "    \n",
    "    # this function will call __subclasscheck__ under the hood\n",
    "    # issubclass will call __subclasscheck__ from the metaclass \n",
    "    # of cls(here cls==Sword, metaclass==SwordMeta)\n",
    "    def __instancecheck__(cls, instance):\n",
    "        return issubclass(type(instance), cls)\n",
    "    \n",
    "    \n",
    "    def __subclasscheck__(cls, subclass):\n",
    "        if (\n",
    "            hasattr(subclass, \"swipe\") and callable(subclass.swipe)\n",
    "            and\n",
    "            hasattr(subclass, \"sharpen\") and callable(subclass.sharpen)\n",
    "        ):\n",
    "            return True\n",
    "        return super().__subclasscheck__(subclass)\n",
    "\n",
    "\n",
    "\n",
    "class Sword(metaclass=SwordMeta):\n",
    "    \"\"\"Abstract Base Class\"\"\"   \n",
    "\n",
    "class BroadSword:\n",
    "    \n",
    "    def swipe(self):\n",
    "        print(\"Swoosh!\", type(self).__name__)\n",
    "        \n",
    "    def sharpen(self):\n",
    "        print(\"Shink!\", type(self).__name__)\n",
    "        \n",
    "        \n",
    "class SamuraiSword:\n",
    "    \n",
    "    def swipe(self):\n",
    "        print(\"Slice!\", type(self).__name__)\n",
    "        \n",
    "    def sharpen(self):\n",
    "        print(\"Shink!\", type(self).__name__)\n",
    "        \n",
    "class Rifle:\n",
    "    \n",
    "    def fire(self):\n",
    "        print(\"Bang!\", type(self).__name__)\n",
    "        \n",
    "class Sabre(Sword):\n",
    "    pass        "
   ]
  },
  {
   "cell_type": "code",
   "execution_count": 26,
   "id": "bb082231",
   "metadata": {},
   "outputs": [
    {
     "name": "stdout",
     "output_type": "stream",
     "text": [
      "True\n",
      "True\n",
      "False\n",
      "True\n"
     ]
    }
   ],
   "source": [
    "print(issubclass(BroadSword, Sword))\n",
    "print(issubclass(SamuraiSword, Sword))\n",
    "\n",
    "print(issubclass(Rifle, Sword))\n",
    "print(issubclass(Sabre, Sword))"
   ]
  },
  {
   "cell_type": "markdown",
   "id": "4d1b2f04",
   "metadata": {},
   "source": [
    "#### Virtual Base Classes from collections.abc\n",
    "* The duck-type subclass checking has been used in some of the collection.abc base classes, including Sized\n",
    "* implementation of dunder len function is sufficient to be considered a subclass of Sized base class\n",
    "* another example is iterable and iterator, which requires implementation of dunder iter and dunder next to be considered their sub classes\n",
    "* Using virtual base classes such as those from collections.abc to test for the implementation of protocols \n",
    "* ABCs in Python gives a way to centralize structural or duck-type cheks in a natural way by extending the issubclass and isinstance mechanisms  "
   ]
  },
  {
   "cell_type": "code",
   "execution_count": 27,
   "id": "874c1c37",
   "metadata": {},
   "outputs": [],
   "source": [
    "# example of Sized subclasses\n",
    "from collections.abc import Sized\n",
    "\n",
    "class SixPack:\n",
    "    \n",
    "    # __len__ will be called by built-in len() function\n",
    "    def __len__(self):\n",
    "        return 6\n"
   ]
  },
  {
   "cell_type": "code",
   "execution_count": 29,
   "id": "c666e80e",
   "metadata": {},
   "outputs": [
    {
     "name": "stdout",
     "output_type": "stream",
     "text": [
      "6\n",
      "True\n"
     ]
    }
   ],
   "source": [
    "s = SixPack()\n",
    "print(len(s))\n",
    "print(issubclass(SixPack, Sized))"
   ]
  },
  {
   "cell_type": "code",
   "execution_count": 31,
   "id": "af215219",
   "metadata": {},
   "outputs": [
    {
     "name": "stdout",
     "output_type": "stream",
     "text": [
      "True\n",
      "True\n",
      "True\n"
     ]
    }
   ],
   "source": [
    "# example of iterable and iterateor subclasses\n",
    "\n",
    "class EndlessScreaming:\n",
    "    def __iter__(self):\n",
    "        return self\n",
    "    \n",
    "    def __next__(self):\n",
    "        return \"abc\"\n",
    "    \n",
    "from collections.abc import Iterable, Iterator\n",
    "\n",
    "i = EndlessScreaming()\n",
    "print(isinstance(i, Iterator))\n",
    "print(isinstance(i, Iterable))\n",
    "print(issubclass(Iterator, Iterable))"
   ]
  },
  {
   "cell_type": "markdown",
   "id": "e39f29ea",
   "metadata": {},
   "source": [
    "#### non-transitive subclass relationship\n",
    "* The base clase-subclass relationship may not be symmetric. Meanning that a subclass may consider another class as its base class but that base class may not consider the sub class as its sub class, due to the duck-typing. In addition, the base-sub class relationship may not be transitive\n",
    "* transitive \n",
    "  + being or relating to a relation with the property that if the relation holds between a first and second elements, and between the second and third elements, it holds between the first and third elements\n",
    "  + in Python, if C is a subclass of B, and B is a subclass of A, that doesn't necessarily mean C is a subclass of A\n",
    "    + in the following example, object is a subclass of Hashable, and list is a subclass of object, but list is not a subclass of Hashable\n",
    "    + this is becauase, as a Mutable collection, disables hashing by setting the special \\_\\_hash\\_\\_ method inhrtited from object to None, which is checked by dunder subclass\\_check method of Hashable "
   ]
  },
  {
   "cell_type": "code",
   "execution_count": 32,
   "id": "d0de44ee",
   "metadata": {},
   "outputs": [
    {
     "name": "stdout",
     "output_type": "stream",
     "text": [
      "True\n",
      "True\n",
      "False\n"
     ]
    }
   ],
   "source": [
    "from collections.abc import Hashable\n",
    "\n",
    "print(issubclass(object, Hashable))\n",
    "print(issubclass(list, object))\n",
    "print(issubclass(list, Hashable))"
   ]
  },
  {
   "cell_type": "code",
   "execution_count": 34,
   "id": "074c489c",
   "metadata": {},
   "outputs": [
    {
     "data": {
      "text/plain": [
       "True"
      ]
     },
     "execution_count": 34,
     "metadata": {},
     "output_type": "execute_result"
    }
   ],
   "source": [
    "list.__hash__ is None"
   ]
  },
  {
   "cell_type": "markdown",
   "id": "26639a7c",
   "metadata": {},
   "source": [
    "#### method resolution with virtual base classes\n",
    "* virtual base classes don't play a role in method resolution\n",
    "* in the following code example, we added a method, Thrust in Sword class, and even though a BoradSword object is an instance of Sword, we will not be able to invoke thrust method from a BroadSword object, since Sword class is not on mro of BroadSword class instance objects"
   ]
  },
  {
   "cell_type": "code",
   "execution_count": 37,
   "id": "ef6d7d71",
   "metadata": {},
   "outputs": [],
   "source": [
    "class SwordMeta(type):\n",
    "    \n",
    "    # this function will call __subclasscheck__ under the hood\n",
    "    # issubclass will call __subclasscheck__ from the metaclass \n",
    "    # of cls(here cls==Sword, metaclass==SwordMeta)\n",
    "    def __instancecheck__(cls, instance):\n",
    "        return issubclass(type(instance), cls)\n",
    "    \n",
    "    \n",
    "    def __subclasscheck__(cls, subclass):\n",
    "        if (\n",
    "            hasattr(subclass, \"swipe\") and callable(subclass.swipe)\n",
    "            and\n",
    "            hasattr(subclass, \"sharpen\") and callable(subclass.sharpen)\n",
    "        ):\n",
    "            return True\n",
    "        return super().__subclasscheck__(subclass)\n",
    "\n",
    "\n",
    "\n",
    "class Sword(metaclass=SwordMeta):\n",
    "    \"\"\"Abstract Base Class\"\"\" \n",
    "    \n",
    "    def thrust(self):\n",
    "        print(\"Thrust!\", type(self).__name__)\n",
    "\n",
    "class BroadSword:\n",
    "    \n",
    "    def swipe(self):\n",
    "        print(\"Swoosh!\", type(self).__name__)\n",
    "        \n",
    "    def sharpen(self):\n",
    "        print(\"Shink!\", type(self).__name__)\n",
    "        \n",
    "        \n",
    "class SamuraiSword:\n",
    "    \n",
    "    def swipe(self):\n",
    "        print(\"Slice!\", type(self).__name__)\n",
    "        \n",
    "    def sharpen(self):\n",
    "        print(\"Shink!\", type(self).__name__)\n",
    "        \n",
    "class Rifle:\n",
    "    \n",
    "    def fire(self):\n",
    "        print(\"Bang!\", type(self).__name__)\n",
    "        \n",
    "class Sabre(Sword):\n",
    "    pass        "
   ]
  },
  {
   "cell_type": "code",
   "execution_count": 39,
   "id": "fcad847d",
   "metadata": {},
   "outputs": [
    {
     "name": "stdout",
     "output_type": "stream",
     "text": [
      "True\n",
      "(<class '__main__.BroadSword'>, <class 'object'>)\n"
     ]
    },
    {
     "ename": "AttributeError",
     "evalue": "'BroadSword' object has no attribute 'thrust'",
     "output_type": "error",
     "traceback": [
      "\u001b[1;31m---------------------------------------------------------------------------\u001b[0m",
      "\u001b[1;31mAttributeError\u001b[0m                            Traceback (most recent call last)",
      "Input \u001b[1;32mIn [39]\u001b[0m, in \u001b[0;36m<cell line: 4>\u001b[1;34m()\u001b[0m\n\u001b[0;32m      2\u001b[0m \u001b[38;5;28mprint\u001b[39m(\u001b[38;5;28misinstance\u001b[39m(broad_sword, Sword))\n\u001b[0;32m      3\u001b[0m \u001b[38;5;28mprint\u001b[39m(BroadSword\u001b[38;5;241m.\u001b[39m\u001b[38;5;18m__mro__\u001b[39m)\n\u001b[1;32m----> 4\u001b[0m \u001b[43mbroad_sword\u001b[49m\u001b[38;5;241;43m.\u001b[39;49m\u001b[43mthrust\u001b[49m()\n",
      "\u001b[1;31mAttributeError\u001b[0m: 'BroadSword' object has no attribute 'thrust'"
     ]
    }
   ],
   "source": [
    "broad_sword = BroadSword()\n",
    "print(isinstance(broad_sword, Sword))\n",
    "print(BroadSword.__mro__)\n",
    "broad_sword.thrust()"
   ]
  },
  {
   "cell_type": "markdown",
   "id": "359d78bd",
   "metadata": {},
   "source": [
    "### Standard Library Support for ABCs"
   ]
  },
  {
   "cell_type": "markdown",
   "id": "aefe4251",
   "metadata": {},
   "source": [
    "#### Replacing Metaclasses with Abstract Base Classes\n",
    "* Custom metaclass \n",
    "  + implements dunder subclasschek and dunder instancecheck\n",
    "  + tricky to get right\n",
    "  + onerous to implement a metaclass\n",
    "  + metaclasses are not widely understood\n",
    "* Standard library support for ABCs include\n",
    "  + abc module\n",
    "  + ABCMeta metaclass\n",
    "  + ABC base class\n",
    "  + @register class decorator\n",
    "  + @abstractmethod decorator\n",
    "* the example code shows how to comvert the SwordMeta to ABCMeta class by implementing dunder subclasshook method\n",
    "  + we import ABCMeta class\n",
    "    + implements reliable dunder subclasscheck and dunder instancecheck methods and other handy capabilities\n",
    "    + dunder subclasscheck and dunder instancecheck will delegate the dunder subclasshook method in Sword class for subclass and instance check\n",
    "  + set metacalss of Sword class to ABCMeta, instead of SwordMeta \n",
    "  + implement dunder subclasshook in Sword abstract class\n",
    "  + in fact, all Python objects have dunder subclasshook method, which accepts the potential subclass as its only argument\n",
    "    + the method returns True, False, or NotImplemented    \n",
    "      \n",
    "  ```python\n",
    "    # test if sub is a virtual subclass of the base\n",
    "    Base.__subclasshook__(sub)\n",
    "  ```  \n",
    "    + for testing with a returned value of NotImplemented, the inheritance subclass relationship can be tested following the MRO mechanism. In the example code, we tested that int is not a virtual subclass of object, but is subclass of object from the inheritance point of view\n",
    "      + issubclass test covers both virtual and inheritance subclass relationship. If either or them is True, it returns Ture. subclasshook returns only test for virtual subclass\n",
    "    "
   ]
  },
  {
   "cell_type": "code",
   "execution_count": 45,
   "id": "f0ba04aa",
   "metadata": {},
   "outputs": [
    {
     "name": "stdout",
     "output_type": "stream",
     "text": [
      "NotImplemented\n",
      "True\n",
      "(<class 'int'>, <class 'object'>)\n"
     ]
    }
   ],
   "source": [
    "# int is not a virtual subclass of object\n",
    "print(object.__subclasshook__(int))\n",
    "\n",
    "# int is a subclass of object\n",
    "print(issubclass(int, object))\n",
    "print(int.__mro__)"
   ]
  },
  {
   "cell_type": "code",
   "execution_count": 44,
   "id": "3d33f4ba",
   "metadata": {},
   "outputs": [
    {
     "name": "stdout",
     "output_type": "stream",
     "text": [
      "(<class 'int'>, <class 'object'>)\n"
     ]
    }
   ],
   "source": [
    "print(int.__mro__)"
   ]
  },
  {
   "cell_type": "code",
   "execution_count": 46,
   "id": "162f9d12",
   "metadata": {},
   "outputs": [],
   "source": [
    "# using ABCMeta to implement virtual subclasses\n",
    "from abc import ABCMeta\n",
    "\n",
    "class Sword(metaclass=ABCMeta):\n",
    "    \"\"\"Abstract Base Class\"\"\" \n",
    "    \n",
    "    @classmethod\n",
    "    def __subclasshook__(cls, subclass):\n",
    "        return (\n",
    "            hasattr(subclass, \"swipe\") and callable(subclass.swipe)\n",
    "            and\n",
    "            hasattr(subclass, \"sharpen\") and callable(subclass.sharpen)\n",
    "        )\n",
    "            \n",
    "    \n",
    "    def thrust(self):\n",
    "        print(\"Thrust!\", type(self).__name__)\n",
    "\n",
    "class BroadSword:\n",
    "    \n",
    "    def swipe(self):\n",
    "        print(\"Swoosh!\", type(self).__name__)\n",
    "        \n",
    "    def sharpen(self):\n",
    "        print(\"Shink!\", type(self).__name__)\n",
    "        \n",
    "        \n",
    "class SamuraiSword:\n",
    "    \n",
    "    def swipe(self):\n",
    "        print(\"Slice!\", type(self).__name__)\n",
    "        \n",
    "    def sharpen(self):\n",
    "        print(\"Shink!\", type(self).__name__)\n",
    "        \n",
    "class Rifle:\n",
    "    \n",
    "    def fire(self):\n",
    "        print(\"Bang!\", type(self).__name__)\n",
    "        \n",
    "class Sabre(Sword):\n",
    "    pass        "
   ]
  },
  {
   "cell_type": "code",
   "execution_count": 47,
   "id": "24332b97",
   "metadata": {},
   "outputs": [
    {
     "name": "stdout",
     "output_type": "stream",
     "text": [
      "True\n",
      "True\n",
      "False\n",
      "False\n"
     ]
    }
   ],
   "source": [
    "print(issubclass(BroadSword, Sword))\n",
    "print(issubclass(SamuraiSword, Sword))\n",
    "\n",
    "print(issubclass(Rifle, Sword))\n",
    "print(issubclass(Sabre, Sword))"
   ]
  },
  {
   "cell_type": "markdown",
   "id": "95e489b6",
   "metadata": {},
   "source": [
    "#### Virtual subclass registration\n",
    "* in addition to implementing dunder subclasshook(cls, subclass) method in abstract base class, we can directly register a class as a virtual subclass using registermeta method\n",
    "* in the following example code, we create an abstract base class, Text using ABCMeta as its meta class, and register the built-in str class as its virtual subclass by calling the Text class method register\n",
    "  + note that this method returns the registered subclass object as the return value\n",
    "* We can also register a class as a virtual subclass of another class using class decorator, @base.register in its definition\n",
    "  + for example, we can define a new class Prose, and register it as a virtual subclass of Text\n",
    "  + this is how Python internally define float and int as virual subclasses of Real and Integral, respectively\n",
    "    + look at the Python source code of Real and Integral, we can find the following source code for subclass registry:\n",
    "    \n",
    "    ```python\n",
    "    Real.register(float)\n",
    "    Integral.register(int)\n",
    "    ```"
   ]
  },
  {
   "cell_type": "code",
   "execution_count": 53,
   "id": "f6d1eb58",
   "metadata": {},
   "outputs": [
    {
     "name": "stdout",
     "output_type": "stream",
     "text": [
      "<class 'str'>\n",
      "True\n"
     ]
    }
   ],
   "source": [
    "from abc import ABCMeta\n",
    "\n",
    "class Text(metaclass=ABCMeta):\n",
    "    pass\n",
    "\n",
    "# register a subclass of Text by calling its register method\n",
    "print(Text.register(str))\n",
    "print(issubclass(str, Text))"
   ]
  },
  {
   "cell_type": "code",
   "execution_count": 56,
   "id": "501bed8b",
   "metadata": {},
   "outputs": [
    {
     "name": "stdout",
     "output_type": "stream",
     "text": [
      "True\n"
     ]
    }
   ],
   "source": [
    "# define a class Prose and \n",
    "# register it as a virtual subclass of Text\n",
    "\n",
    "@Text.register\n",
    "class Prose:\n",
    "    pass\n",
    "\n",
    "print(issubclass(Prose, Text))"
   ]
  },
  {
   "cell_type": "code",
   "execution_count": 57,
   "id": "d15a7c79",
   "metadata": {},
   "outputs": [
    {
     "name": "stdout",
     "output_type": "stream",
     "text": [
      "True\n",
      "True\n"
     ]
    }
   ],
   "source": [
    "# internally, Python define virtual subclass relationship \n",
    "# between int and Integeral, and between float and Real\n",
    "from numbers import Real, Integral\n",
    "\n",
    "print(issubclass(float, Real))\n",
    "print(issubclass(int, Integral))"
   ]
  },
  {
   "cell_type": "code",
   "execution_count": null,
   "id": "c0202391",
   "metadata": {},
   "outputs": [],
   "source": []
  }
 ],
 "metadata": {
  "kernelspec": {
   "display_name": "Python 3 (ipykernel)",
   "language": "python",
   "name": "python3"
  },
  "language_info": {
   "codemirror_mode": {
    "name": "ipython",
    "version": 3
   },
   "file_extension": ".py",
   "mimetype": "text/x-python",
   "name": "python",
   "nbconvert_exporter": "python",
   "pygments_lexer": "ipython3",
   "version": "3.10.4"
  }
 },
 "nbformat": 4,
 "nbformat_minor": 5
}
