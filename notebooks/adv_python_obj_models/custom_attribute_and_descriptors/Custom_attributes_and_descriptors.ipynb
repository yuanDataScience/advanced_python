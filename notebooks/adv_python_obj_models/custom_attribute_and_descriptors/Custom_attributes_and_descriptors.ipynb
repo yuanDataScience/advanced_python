{
 "cells": [
  {
   "cell_type": "markdown",
   "id": "b16b4e6e",
   "metadata": {},
   "source": [
    "## Custom attributes and descriptors\n",
    "### object internals"
   ]
  },
  {
   "cell_type": "markdown",
   "id": "92e5df77",
   "metadata": {},
   "source": [
    "#### object attributes and the access to attributes\n",
    "* use dir() to show the list of an object's attribute names\n",
    "  + this include the user defined class attributes, such as x, and y in the following code example\n",
    "  + this also include a lot of built-in attributes\n",
    "    + \\_\\_dict\\_\\_ is a regular python dictionary contained key value pairs of object's user-defined attributes\n",
    "    + we can modify this dictionary to modify or even delete attributes from the object\n",
    "    + we can test if an attribute exists using the dictionary's in operation\n",
    "  + although \\_\\_dict\\_\\_ allows us to manipulate object attributes, we should use\n",
    "    + hasattr, getattr, and setattr to check existence, get value values and set values of attributes"
   ]
  },
  {
   "cell_type": "markdown",
   "id": "b6f8578a",
   "metadata": {},
   "source": [
    "#### code example to show dir()"
   ]
  },
  {
   "cell_type": "code",
   "execution_count": 16,
   "id": "17c3a387",
   "metadata": {},
   "outputs": [],
   "source": [
    "class Vector:\n",
    "    \"\"\"A two-dimensional vector.\"\"\"\n",
    "\n",
    "    def __init__(self, x, y):\n",
    "        self.x = x\n",
    "        self.y = y\n",
    "\n",
    "    def __repr__(self):\n",
    "        return f\"{type(self).__name__}({self.x}, {self.y})\""
   ]
  },
  {
   "cell_type": "code",
   "execution_count": 17,
   "id": "457734ad",
   "metadata": {},
   "outputs": [
    {
     "name": "stdout",
     "output_type": "stream",
     "text": [
      "Vector(5, 3)\n",
      "['__class__', '__delattr__', '__dict__', '__dir__', '__doc__', '__eq__', '__format__', '__ge__', '__getattribute__', '__gt__', '__hash__', '__init__', '__init_subclass__', '__le__', '__lt__', '__module__', '__ne__', '__new__', '__reduce__', '__reduce_ex__', '__repr__', '__setattr__', '__sizeof__', '__str__', '__subclasshook__', '__weakref__', 'x', 'y']\n"
     ]
    }
   ],
   "source": [
    "    \n",
    "v = Vector(5, 3)\n",
    "print(v)\n",
    "print(dir(v))"
   ]
  },
  {
   "cell_type": "markdown",
   "id": "6106b318",
   "metadata": {},
   "source": [
    "#### code example to show \\_\\_dict\\_\\_"
   ]
  },
  {
   "cell_type": "code",
   "execution_count": 8,
   "id": "ad038675",
   "metadata": {},
   "outputs": [
    {
     "name": "stdout",
     "output_type": "stream",
     "text": [
      "{'x': 5, 'y': 3}\n",
      "<class 'dict'>\n"
     ]
    }
   ],
   "source": [
    "# about __dict__\n",
    "print(v.__dict__)\n",
    "print(type(v.__dict__))"
   ]
  },
  {
   "cell_type": "code",
   "execution_count": 9,
   "id": "4c7cd14b",
   "metadata": {},
   "outputs": [
    {
     "name": "stdout",
     "output_type": "stream",
     "text": [
      "5\n",
      "17\n"
     ]
    },
    {
     "ename": "AttributeError",
     "evalue": "'Vector' object has no attribute 'x'",
     "output_type": "error",
     "traceback": [
      "\u001b[1;31m---------------------------------------------------------------------------\u001b[0m",
      "\u001b[1;31mAttributeError\u001b[0m                            Traceback (most recent call last)",
      "Input \u001b[1;32mIn [9]\u001b[0m, in \u001b[0;36m<cell line: 8>\u001b[1;34m()\u001b[0m\n\u001b[0;32m      6\u001b[0m \u001b[38;5;66;03m# remove attribute\u001b[39;00m\n\u001b[0;32m      7\u001b[0m \u001b[38;5;28;01mdel\u001b[39;00m v\u001b[38;5;241m.\u001b[39m\u001b[38;5;18m__dict__\u001b[39m[\u001b[38;5;124m'\u001b[39m\u001b[38;5;124mx\u001b[39m\u001b[38;5;124m'\u001b[39m]\n\u001b[1;32m----> 8\u001b[0m \u001b[38;5;28mprint\u001b[39m(\u001b[43mv\u001b[49m\u001b[38;5;241;43m.\u001b[39;49m\u001b[43mx\u001b[49m)\n",
      "\u001b[1;31mAttributeError\u001b[0m: 'Vector' object has no attribute 'x'"
     ]
    }
   ],
   "source": [
    "# modify attribute values \n",
    "print(v.__dict__['x'])\n",
    "v.__dict__['x'] = 17\n",
    "print(v.__dict__['x'])\n",
    "\n",
    "# remove attribute\n",
    "del v.__dict__['x']\n",
    "\n",
    "# confirm x attribute is removed\n",
    "print(v.x)"
   ]
  },
  {
   "cell_type": "code",
   "execution_count": 12,
   "id": "fb9312ce",
   "metadata": {},
   "outputs": [
    {
     "name": "stdout",
     "output_type": "stream",
     "text": [
      "False\n",
      "True\n"
     ]
    }
   ],
   "source": [
    "# check if an attribute exist\n",
    "print('x' in v.__dict__)\n",
    "print('y' in v.__dict__)"
   ]
  },
  {
   "cell_type": "code",
   "execution_count": 13,
   "id": "faad2dac",
   "metadata": {},
   "outputs": [
    {
     "data": {
      "text/plain": [
       "Vector(13, 3)"
      ]
     },
     "execution_count": 13,
     "metadata": {},
     "output_type": "execute_result"
    }
   ],
   "source": [
    "# insert attribute to the object\n",
    "# let's re-insert x attribute\n",
    "v.__dict__['x'] = 13\n",
    "v"
   ]
  },
  {
   "cell_type": "code",
   "execution_count": 15,
   "id": "926722cc",
   "metadata": {},
   "outputs": [
    {
     "data": {
      "text/plain": [
       "Vector(13, 3)"
      ]
     },
     "execution_count": 15,
     "metadata": {},
     "output_type": "execute_result"
    }
   ],
   "source": [
    "# we can add new attributes, but will not be\n",
    "# recognized by repr method\n",
    "v.__dict__['z'] = 42\n",
    "v"
   ]
  },
  {
   "cell_type": "markdown",
   "id": "f210bcb6",
   "metadata": {},
   "source": [
    "#### code example to show attribute check, get, set and delete attributes"
   ]
  },
  {
   "cell_type": "code",
   "execution_count": 18,
   "id": "b103fed0",
   "metadata": {},
   "outputs": [
    {
     "data": {
      "text/plain": [
       "False"
      ]
     },
     "execution_count": 18,
     "metadata": {},
     "output_type": "execute_result"
    }
   ],
   "source": [
    "# attribute existence check\n",
    "hasattr(v, 'a')"
   ]
  },
  {
   "cell_type": "code",
   "execution_count": 20,
   "id": "34e56a5f",
   "metadata": {},
   "outputs": [
    {
     "data": {
      "text/plain": [
       "5"
      ]
     },
     "execution_count": 20,
     "metadata": {},
     "output_type": "execute_result"
    }
   ],
   "source": [
    "# get attribute value\n",
    "getattr(v, 'x')"
   ]
  },
  {
   "cell_type": "code",
   "execution_count": 21,
   "id": "7ff99410",
   "metadata": {},
   "outputs": [
    {
     "ename": "AttributeError",
     "evalue": "'Vector' object has no attribute 'a'",
     "output_type": "error",
     "traceback": [
      "\u001b[1;31m---------------------------------------------------------------------------\u001b[0m",
      "\u001b[1;31mAttributeError\u001b[0m                            Traceback (most recent call last)",
      "Input \u001b[1;32mIn [21]\u001b[0m, in \u001b[0;36m<cell line: 1>\u001b[1;34m()\u001b[0m\n\u001b[1;32m----> 1\u001b[0m \u001b[38;5;28;43mgetattr\u001b[39;49m\u001b[43m(\u001b[49m\u001b[43mv\u001b[49m\u001b[43m,\u001b[49m\u001b[43m \u001b[49m\u001b[38;5;124;43m'\u001b[39;49m\u001b[38;5;124;43ma\u001b[39;49m\u001b[38;5;124;43m'\u001b[39;49m\u001b[43m)\u001b[49m\n",
      "\u001b[1;31mAttributeError\u001b[0m: 'Vector' object has no attribute 'a'"
     ]
    }
   ],
   "source": [
    "getattr(v, 'a')"
   ]
  },
  {
   "cell_type": "code",
   "execution_count": 24,
   "id": "fe366515",
   "metadata": {},
   "outputs": [
    {
     "name": "stdout",
     "output_type": "stream",
     "text": [
      "9\n",
      "10\n"
     ]
    }
   ],
   "source": [
    "# set attribute value\n",
    "setattr(v, 'y', 9)\n",
    "print(v.__dict__['y'])\n",
    "\n",
    "# set new attribute value\n",
    "setattr(v, 'b', 10)\n",
    "print(v.b)"
   ]
  },
  {
   "cell_type": "code",
   "execution_count": 25,
   "id": "4489aeb4",
   "metadata": {},
   "outputs": [
    {
     "ename": "AttributeError",
     "evalue": "'Vector' object has no attribute 'b'",
     "output_type": "error",
     "traceback": [
      "\u001b[1;31m---------------------------------------------------------------------------\u001b[0m",
      "\u001b[1;31mAttributeError\u001b[0m                            Traceback (most recent call last)",
      "Input \u001b[1;32mIn [25]\u001b[0m, in \u001b[0;36m<cell line: 3>\u001b[1;34m()\u001b[0m\n\u001b[0;32m      1\u001b[0m \u001b[38;5;66;03m# delete attribute\u001b[39;00m\n\u001b[0;32m      2\u001b[0m \u001b[38;5;28mdelattr\u001b[39m(v, \u001b[38;5;124m\"\u001b[39m\u001b[38;5;124mb\u001b[39m\u001b[38;5;124m\"\u001b[39m)\n\u001b[1;32m----> 3\u001b[0m \u001b[43mv\u001b[49m\u001b[38;5;241;43m.\u001b[39;49m\u001b[43mb\u001b[49m\n",
      "\u001b[1;31mAttributeError\u001b[0m: 'Vector' object has no attribute 'b'"
     ]
    }
   ],
   "source": [
    "# delete attribute\n",
    "delattr(v, \"b\")\n",
    "v.b"
   ]
  },
  {
   "cell_type": "markdown",
   "id": "76c94cf3",
   "metadata": {},
   "source": [
    "#### Dynamic attributes\n",
    "* atrributes with fixed names sometimes are not convenient, or confusing\n",
    "* we can accomodate dynamic attribute names using keyword arguments in constructor function\n",
    "  * we then use the dictionary's update method to update attributes having the same names from input dictionary"
   ]
  },
  {
   "cell_type": "code",
   "execution_count": 27,
   "id": "16e54025",
   "metadata": {},
   "outputs": [],
   "source": [
    "class Vector:\n",
    "    \"\"\"An n-dimensional vector.\"\"\"\n",
    "\n",
    "    def __init__(self, **components):\n",
    "        self.__dict__.update(components)\n",
    "\n",
    "    def __repr__(self):\n",
    "        return \"{}({})\".format(\n",
    "            type(self).__name__,\n",
    "            \", \".join(\n",
    "                \"{k}={v}\".format(\n",
    "                    k=k,\n",
    "                    v=v,\n",
    "                ) for k, v in self.__dict__.items()\n",
    "            )    \n",
    "        )\n"
   ]
  },
  {
   "cell_type": "code",
   "execution_count": 28,
   "id": "0bffb552",
   "metadata": {},
   "outputs": [
    {
     "data": {
      "text/plain": [
       "Vector(p=3, q=7)"
      ]
     },
     "execution_count": 28,
     "metadata": {},
     "output_type": "execute_result"
    }
   ],
   "source": [
    "v = Vector(p=3, q=7)\n",
    "v"
   ]
  },
  {
   "cell_type": "code",
   "execution_count": 29,
   "id": "9de27316",
   "metadata": {},
   "outputs": [
    {
     "data": {
      "text/plain": [
       "['__class__',\n",
       " '__delattr__',\n",
       " '__dict__',\n",
       " '__dir__',\n",
       " '__doc__',\n",
       " '__eq__',\n",
       " '__format__',\n",
       " '__ge__',\n",
       " '__getattribute__',\n",
       " '__gt__',\n",
       " '__hash__',\n",
       " '__init__',\n",
       " '__init_subclass__',\n",
       " '__le__',\n",
       " '__lt__',\n",
       " '__module__',\n",
       " '__ne__',\n",
       " '__new__',\n",
       " '__reduce__',\n",
       " '__reduce_ex__',\n",
       " '__repr__',\n",
       " '__setattr__',\n",
       " '__sizeof__',\n",
       " '__str__',\n",
       " '__subclasshook__',\n",
       " '__weakref__',\n",
       " 'p',\n",
       " 'q']"
      ]
     },
     "execution_count": 29,
     "metadata": {},
     "output_type": "execute_result"
    }
   ],
   "source": [
    "dir(v)"
   ]
  },
  {
   "cell_type": "code",
   "execution_count": 30,
   "id": "07bc0934",
   "metadata": {},
   "outputs": [
    {
     "name": "stdout",
     "output_type": "stream",
     "text": [
      "3\n",
      "7\n"
     ]
    }
   ],
   "source": [
    "print(v.p)\n",
    "print(v.q)"
   ]
  },
  {
   "cell_type": "markdown",
   "id": "0ac2831a",
   "metadata": {},
   "source": [
    "#### How to make attributes immutable?\n",
    "* usually for static attributes, we name the attribute names with prefix \\_, and then provide properties with only getters to prevent modification \n",
    "* for dynamic attributes, we don't know the names in advance, so we can not declare a property getter which must be named at class definition time, not object instantiation time. we use \\_\\_getattr\\_\\_"
   ]
  },
  {
   "cell_type": "code",
   "execution_count": 31,
   "id": "601e8db1",
   "metadata": {},
   "outputs": [],
   "source": [
    "class Vector:\n",
    "    \"\"\"An n-dimensional vector.\"\"\"\n",
    "\n",
    "    def __init__(self, **components):\n",
    "        # store attributes as private prefixed with _ \n",
    "        private_components = {f\"_{k}\": v for k, v in components.items()}\n",
    "        self.__dict__.update(private_components)\n",
    "\n",
    "    def __repr__(self):\n",
    "        return \"{}({})\".format(\n",
    "            type(self).__name__,\n",
    "            \", \".join(\n",
    "                \"{k}={v}\".format(\n",
    "                    k=k[1:],     # remove the _ prefix from attribute name\n",
    "                    v=v,\n",
    "                ) for k, v in self.__dict__.items()\n",
    "            )\n",
    "        )"
   ]
  },
  {
   "cell_type": "code",
   "execution_count": 32,
   "id": "8d318929",
   "metadata": {},
   "outputs": [
    {
     "data": {
      "text/plain": [
       "Vector(p=3, q=7)"
      ]
     },
     "execution_count": 32,
     "metadata": {},
     "output_type": "execute_result"
    }
   ],
   "source": [
    "v = Vector(p=3, q=7)\n",
    "v"
   ]
  },
  {
   "cell_type": "code",
   "execution_count": 33,
   "id": "ca4c42bd",
   "metadata": {},
   "outputs": [
    {
     "data": {
      "text/plain": [
       "['__class__',\n",
       " '__delattr__',\n",
       " '__dict__',\n",
       " '__dir__',\n",
       " '__doc__',\n",
       " '__eq__',\n",
       " '__format__',\n",
       " '__ge__',\n",
       " '__getattribute__',\n",
       " '__gt__',\n",
       " '__hash__',\n",
       " '__init__',\n",
       " '__init_subclass__',\n",
       " '__le__',\n",
       " '__lt__',\n",
       " '__module__',\n",
       " '__ne__',\n",
       " '__new__',\n",
       " '__reduce__',\n",
       " '__reduce_ex__',\n",
       " '__repr__',\n",
       " '__setattr__',\n",
       " '__sizeof__',\n",
       " '__str__',\n",
       " '__subclasshook__',\n",
       " '__weakref__',\n",
       " '_p',\n",
       " '_q']"
      ]
     },
     "execution_count": 33,
     "metadata": {},
     "output_type": "execute_result"
    }
   ],
   "source": [
    "# show that the attributes are private prefixed with _\n",
    "dir(v)"
   ]
  },
  {
   "cell_type": "markdown",
   "id": "2a6c73bb",
   "metadata": {},
   "source": [
    "#### intercepting attributes\n",
    "* we need to intercept attributes before error is raised when calling the attributes without prefix\n",
    "  + when accessing attributes without using the \\_ prefix, the attribute doesn't exist and attribute look up falis\n",
    "  + this will invoke \\_\\_getattr\\_\\_\n",
    "* difference between \\_\\_getattr\\_\\_ and \\_\\_getattribute\\_\\_\n",
    "  + \\_\\_getattr\\_\\_: invoked after failed attribute lookups (prefer this method if you can)\n",
    "  + \\_\\_getattribute\\_\\_: invoked before all attribute lookups (Use this method only if you must)\n",
    "* we use \\_\\_getattr\\_\\_ to intecept failures in our case \n",
    "  + we know that we added a prefix to the input property name, so in \\_\\_getattr\\_\\_, we add that prefix to the requested attribut name, and then use regulat getattr to retrieve the private attribute values\n",
    "  + the problem is that we can still directly access the attributes and set the values.\n",
    "  + another problem of this design is that if we query an attribue that doesn't exist, \\_\\_getattr\\_\\_ and getattr will be alternatively called recursively with infinite loops, and finally raise RecursionError.\n",
    "    + a sloution is to use hasattr to check if the corresponding private attribute exists before calling getattr, but this doesn't work sicne hasattr also calls getattr to search the attributes\n",
    "    + the solution is to directly query \\_\\_dict\\_\\_ using the in operation to check if the private attributes exist\n",
    "* finally, another consideration is that instead of calling getattr, which has a complex internal process to retrieve attribute, we directly get attribute from \\_\\_dict\\_\\_ by dictionary operatios, using a try/except structure     \n",
    "  "
   ]
  },
  {
   "cell_type": "code",
   "execution_count": 12,
   "id": "a86789d9",
   "metadata": {},
   "outputs": [],
   "source": [
    "class Vector:\n",
    "    \"\"\"An n-dimensional vector.\"\"\"\n",
    "\n",
    "    def __init__(self, **components):\n",
    "        # store attributes as private prefixed with _ \n",
    "        private_components = {f\"_{k}\": v for k, v in components.items()}\n",
    "        self.__dict__.update(private_components)\n",
    "\n",
    "    def __getattr__(self, name):\n",
    "        private_name = f\"_{name}\"\n",
    "        try:\n",
    "            return self.__dict__[private_name]\n",
    "        except KeyError:\n",
    "            raise AttributeError(f\"{self!r} object has no attribute {name!r}\")\n",
    "            \n",
    "        return getattr(self, private_name)\n",
    "    \n",
    "    def __setattr__(self, name, value):\n",
    "        raise AttributeError(f\"can't set attribute {name!r}\")\n",
    "    \n",
    "    def __repr__(self):\n",
    "        return \"{}({})\".format(\n",
    "            type(self).__name__,\n",
    "            \", \".join(\n",
    "                \"{k}={v}\".format(\n",
    "                    k=k[1:],     # remove the _ prefix from attribute name\n",
    "                    v=v,\n",
    "                ) for k, v in self.__dict__.items()\n",
    "            )\n",
    "        )"
   ]
  },
  {
   "cell_type": "code",
   "execution_count": 13,
   "id": "fa5bef8e",
   "metadata": {},
   "outputs": [
    {
     "name": "stdout",
     "output_type": "stream",
     "text": [
      "3\n",
      "7\n"
     ]
    }
   ],
   "source": [
    "v = Vector(p=3, q=7)\n",
    "print(v.p)\n",
    "print(v.q)"
   ]
  },
  {
   "cell_type": "code",
   "execution_count": 14,
   "id": "8d192700",
   "metadata": {},
   "outputs": [
    {
     "ename": "AttributeError",
     "evalue": "can't set attribute 'p'",
     "output_type": "error",
     "traceback": [
      "\u001b[1;31m---------------------------------------------------------------------------\u001b[0m",
      "\u001b[1;31mAttributeError\u001b[0m                            Traceback (most recent call last)",
      "Input \u001b[1;32mIn [14]\u001b[0m, in \u001b[0;36m<cell line: 1>\u001b[1;34m()\u001b[0m\n\u001b[1;32m----> 1\u001b[0m v\u001b[38;5;241m.\u001b[39mp \u001b[38;5;241m=\u001b[39m\u001b[38;5;241m7\u001b[39m\n",
      "Input \u001b[1;32mIn [12]\u001b[0m, in \u001b[0;36mVector.__setattr__\u001b[1;34m(self, name, value)\u001b[0m\n\u001b[0;32m     18\u001b[0m \u001b[38;5;28;01mdef\u001b[39;00m \u001b[38;5;21m__setattr__\u001b[39m(\u001b[38;5;28mself\u001b[39m, name, value):\n\u001b[1;32m---> 19\u001b[0m     \u001b[38;5;28;01mraise\u001b[39;00m \u001b[38;5;167;01mAttributeError\u001b[39;00m(\u001b[38;5;124mf\u001b[39m\u001b[38;5;124m\"\u001b[39m\u001b[38;5;124mcan\u001b[39m\u001b[38;5;124m'\u001b[39m\u001b[38;5;124mt set attribute \u001b[39m\u001b[38;5;132;01m{\u001b[39;00mname\u001b[38;5;132;01m!r}\u001b[39;00m\u001b[38;5;124m\"\u001b[39m)\n",
      "\u001b[1;31mAttributeError\u001b[0m: can't set attribute 'p'"
     ]
    }
   ],
   "source": [
    "v.p =7"
   ]
  },
  {
   "cell_type": "code",
   "execution_count": 15,
   "id": "8241ef2e",
   "metadata": {},
   "outputs": [
    {
     "ename": "AttributeError",
     "evalue": "Vector(p=3, q=7) object has no attribute 'a'",
     "output_type": "error",
     "traceback": [
      "\u001b[1;31m---------------------------------------------------------------------------\u001b[0m",
      "\u001b[1;31mKeyError\u001b[0m                                  Traceback (most recent call last)",
      "Input \u001b[1;32mIn [12]\u001b[0m, in \u001b[0;36mVector.__getattr__\u001b[1;34m(self, name)\u001b[0m\n\u001b[0;32m     11\u001b[0m \u001b[38;5;28;01mtry\u001b[39;00m:\n\u001b[1;32m---> 12\u001b[0m     \u001b[38;5;28;01mreturn\u001b[39;00m \u001b[38;5;28;43mself\u001b[39;49m\u001b[38;5;241;43m.\u001b[39;49m\u001b[38;5;18;43m__dict__\u001b[39;49m\u001b[43m[\u001b[49m\u001b[43mprivate_name\u001b[49m\u001b[43m]\u001b[49m\n\u001b[0;32m     13\u001b[0m \u001b[38;5;28;01mexcept\u001b[39;00m \u001b[38;5;167;01mKeyError\u001b[39;00m:\n",
      "\u001b[1;31mKeyError\u001b[0m: '_a'",
      "\nDuring handling of the above exception, another exception occurred:\n",
      "\u001b[1;31mAttributeError\u001b[0m                            Traceback (most recent call last)",
      "Input \u001b[1;32mIn [15]\u001b[0m, in \u001b[0;36m<cell line: 1>\u001b[1;34m()\u001b[0m\n\u001b[1;32m----> 1\u001b[0m \u001b[43mv\u001b[49m\u001b[38;5;241;43m.\u001b[39;49m\u001b[43ma\u001b[49m\n",
      "Input \u001b[1;32mIn [12]\u001b[0m, in \u001b[0;36mVector.__getattr__\u001b[1;34m(self, name)\u001b[0m\n\u001b[0;32m     12\u001b[0m     \u001b[38;5;28;01mreturn\u001b[39;00m \u001b[38;5;28mself\u001b[39m\u001b[38;5;241m.\u001b[39m\u001b[38;5;18m__dict__\u001b[39m[private_name]\n\u001b[0;32m     13\u001b[0m \u001b[38;5;28;01mexcept\u001b[39;00m \u001b[38;5;167;01mKeyError\u001b[39;00m:\n\u001b[1;32m---> 14\u001b[0m     \u001b[38;5;28;01mraise\u001b[39;00m \u001b[38;5;167;01mAttributeError\u001b[39;00m(\u001b[38;5;124mf\u001b[39m\u001b[38;5;124m\"\u001b[39m\u001b[38;5;132;01m{\u001b[39;00m\u001b[38;5;28mself\u001b[39m\u001b[38;5;132;01m!r}\u001b[39;00m\u001b[38;5;124m object has no attribute \u001b[39m\u001b[38;5;132;01m{\u001b[39;00mname\u001b[38;5;132;01m!r}\u001b[39;00m\u001b[38;5;124m\"\u001b[39m)\n\u001b[0;32m     16\u001b[0m \u001b[38;5;28;01mreturn\u001b[39;00m \u001b[38;5;28mgetattr\u001b[39m(\u001b[38;5;28mself\u001b[39m, private_name)\n",
      "\u001b[1;31mAttributeError\u001b[0m: Vector(p=3, q=7) object has no attribute 'a'"
     ]
    }
   ],
   "source": [
    "v.a"
   ]
  },
  {
   "cell_type": "code",
   "execution_count": 10,
   "id": "5e120747",
   "metadata": {},
   "outputs": [
    {
     "data": {
      "text/plain": [
       "3"
      ]
     },
     "execution_count": 10,
     "metadata": {},
     "output_type": "execute_result"
    }
   ],
   "source": [
    "v.p"
   ]
  },
  {
   "cell_type": "markdown",
   "id": "cce4346c",
   "metadata": {},
   "source": [
    "#### preventing attribute deletion\n",
    "* we prevent users to delete attributes directly by overriding \\_\\_delattr\\_\\_ method and raise AttributeError"
   ]
  },
  {
   "cell_type": "code",
   "execution_count": 22,
   "id": "ad970c80",
   "metadata": {},
   "outputs": [],
   "source": [
    "# add __delattr__ method\n",
    "class Vector:\n",
    "    \"\"\"An n-dimensional vector.\"\"\"\n",
    "\n",
    "    def __init__(self, **components):\n",
    "        # store attributes as private prefixed with _ \n",
    "        private_components = {f\"_{k}\": v for k, v in components.items()}\n",
    "        self.__dict__.update(private_components)\n",
    "\n",
    "    def __getattr__(self, name):\n",
    "        private_name = f\"_{name}\"\n",
    "        try:\n",
    "            return self.__dict__[private_name]\n",
    "        except KeyError:\n",
    "            raise AttributeError(f\"{self!r} object has no attribute {name!r}\")\n",
    "            \n",
    "        return getattr(self, private_name)\n",
    "    \n",
    "    def __setattr__(self, name, value):\n",
    "        raise AttributeError(f\"can't set attribute {name!r}\")\n",
    "    \n",
    "    def __delattr__(self, name):\n",
    "        raise AttributeError(f\"can't delete attribute {name!r}\")\n",
    "    \n",
    "    def __repr__(self):\n",
    "        return \"{}({})\".format(\n",
    "            type(self).__name__,\n",
    "            \", \".join(\n",
    "                \"{k}={v}\".format(\n",
    "                    k=k[1:],     # remove the _ prefix from attribute name\n",
    "                    v=v,\n",
    "                ) for k, v in self.__dict__.items()\n",
    "            )\n",
    "        )"
   ]
  },
  {
   "cell_type": "code",
   "execution_count": 28,
   "id": "2b326b9e",
   "metadata": {},
   "outputs": [
    {
     "name": "stdout",
     "output_type": "stream",
     "text": [
      "3\n",
      "7\n"
     ]
    },
    {
     "ename": "AttributeError",
     "evalue": "can't delete attribute '_q'",
     "output_type": "error",
     "traceback": [
      "\u001b[1;31m---------------------------------------------------------------------------\u001b[0m",
      "\u001b[1;31mAttributeError\u001b[0m                            Traceback (most recent call last)",
      "Input \u001b[1;32mIn [28]\u001b[0m, in \u001b[0;36m<cell line: 5>\u001b[1;34m()\u001b[0m\n\u001b[0;32m      2\u001b[0m \u001b[38;5;28mprint\u001b[39m(v\u001b[38;5;241m.\u001b[39mp)\n\u001b[0;32m      3\u001b[0m \u001b[38;5;28mprint\u001b[39m(v\u001b[38;5;241m.\u001b[39mq)\n\u001b[1;32m----> 5\u001b[0m \u001b[38;5;28;01mdel\u001b[39;00m v\u001b[38;5;241m.\u001b[39m_q\n",
      "Input \u001b[1;32mIn [22]\u001b[0m, in \u001b[0;36mVector.__delattr__\u001b[1;34m(self, name)\u001b[0m\n\u001b[0;32m     22\u001b[0m \u001b[38;5;28;01mdef\u001b[39;00m \u001b[38;5;21m__delattr__\u001b[39m(\u001b[38;5;28mself\u001b[39m, name):\n\u001b[1;32m---> 23\u001b[0m     \u001b[38;5;28;01mraise\u001b[39;00m \u001b[38;5;167;01mAttributeError\u001b[39;00m(\u001b[38;5;124mf\u001b[39m\u001b[38;5;124m\"\u001b[39m\u001b[38;5;124mcan\u001b[39m\u001b[38;5;124m'\u001b[39m\u001b[38;5;124mt delete attribute \u001b[39m\u001b[38;5;132;01m{\u001b[39;00mname\u001b[38;5;132;01m!r}\u001b[39;00m\u001b[38;5;124m\"\u001b[39m)\n",
      "\u001b[1;31mAttributeError\u001b[0m: can't delete attribute '_q'"
     ]
    }
   ],
   "source": [
    "v = Vector(p=3, q=7)\n",
    "print(v.p)\n",
    "print(v.q)\n",
    "\n",
    "del v._q"
   ]
  },
  {
   "cell_type": "code",
   "execution_count": 29,
   "id": "60ec4d59",
   "metadata": {},
   "outputs": [
    {
     "data": {
      "text/plain": [
       "Vector(p=3, q=7)"
      ]
     },
     "execution_count": 29,
     "metadata": {},
     "output_type": "execute_result"
    }
   ],
   "source": [
    "v"
   ]
  },
  {
   "cell_type": "code",
   "execution_count": 26,
   "id": "ed80694a",
   "metadata": {},
   "outputs": [
    {
     "ename": "AttributeError",
     "evalue": "can't delete attribute '_p'",
     "output_type": "error",
     "traceback": [
      "\u001b[1;31m---------------------------------------------------------------------------\u001b[0m",
      "\u001b[1;31mAttributeError\u001b[0m                            Traceback (most recent call last)",
      "Input \u001b[1;32mIn [26]\u001b[0m, in \u001b[0;36m<cell line: 1>\u001b[1;34m()\u001b[0m\n\u001b[1;32m----> 1\u001b[0m \u001b[38;5;28;43mdelattr\u001b[39;49m\u001b[43m(\u001b[49m\u001b[43mv\u001b[49m\u001b[43m,\u001b[49m\u001b[43m \u001b[49m\u001b[38;5;124;43m\"\u001b[39;49m\u001b[38;5;124;43m_p\u001b[39;49m\u001b[38;5;124;43m\"\u001b[39;49m\u001b[43m)\u001b[49m\n",
      "Input \u001b[1;32mIn [22]\u001b[0m, in \u001b[0;36mVector.__delattr__\u001b[1;34m(self, name)\u001b[0m\n\u001b[0;32m     22\u001b[0m \u001b[38;5;28;01mdef\u001b[39;00m \u001b[38;5;21m__delattr__\u001b[39m(\u001b[38;5;28mself\u001b[39m, name):\n\u001b[1;32m---> 23\u001b[0m     \u001b[38;5;28;01mraise\u001b[39;00m \u001b[38;5;167;01mAttributeError\u001b[39;00m(\u001b[38;5;124mf\u001b[39m\u001b[38;5;124m\"\u001b[39m\u001b[38;5;124mcan\u001b[39m\u001b[38;5;124m'\u001b[39m\u001b[38;5;124mt delete attribute \u001b[39m\u001b[38;5;132;01m{\u001b[39;00mname\u001b[38;5;132;01m!r}\u001b[39;00m\u001b[38;5;124m\"\u001b[39m)\n",
      "\u001b[1;31mAttributeError\u001b[0m: can't delete attribute '_p'"
     ]
    }
   ],
   "source": [
    "delattr(v, \"_p\")"
   ]
  },
  {
   "cell_type": "markdown",
   "id": "5db5e6c5",
   "metadata": {},
   "source": [
    "#### cutomize attribute storage\n",
    "* in the follow code example, we create a subclass of Vector, ColoredVector with extra attributes, \\_color\n",
    "* \\_color is stored as a list, corresponding to the value of red, green and blue\n",
    "* we can directly query the values of red, green, and blue as if they are directly stored in the attribute dictionary, by overriding \\_\\_getattr\\_\\_() method\n",
    "* similarly, we can directly set the values of red, green, and blue as if they are directly stored in the attribute dictionary, by overriding \\_\\_setattr\\_\\_() method\n",
    "* in these two overriden methods, we first check if the attributes are in the COLOR_INDEXES tuple, if so, we will go and find its index in \\_color attribute stored in \\_\\_dict\\_\\_, otherwise, we forward the attributes to the getter and setter of the super class\n",
    "* the consequence of overriding the setter and getter is that if users want to modidy other attributes from the Vector class, they will get AttributeError, and those attributes are immutable\n",
    "* to fix the repr method that directly use the private attribute (here, the \\_color) raher than red, green, blue values used in the constructor call, we added another private function, \\_args, to translate the private properties to the correct directionary that repr can use. This dictionary (\\_args, is different from the \\_\\_dict\\_\\_.\n",
    "  + in this \\_args dictionary, red, green, and blue are added as the attributes, with the \\_colors attribute removed.\n",
    "  + by doing this, repr will query the \\_args dictionary and generate the representation consistent with the constructor of ColoredVector\n",
    "  + here we use the polymorphism of self object to call the appropriate \\_args method and return the appropriate dictionary to \\_\\_repr\\_\\_ method\n",
    "* this awkward implementation shows the importance of composition compared to inheritance, when base class is not carefully designed (assuming all attributes in constructor arguments will be stored as private attribute with a \\_ prefix)\n",
    "  + we should use composition rather than inheritance in this case"
   ]
  },
  {
   "cell_type": "code",
   "execution_count": 32,
   "id": "95a0506b",
   "metadata": {},
   "outputs": [
    {
     "name": "stdout",
     "output_type": "stream",
     "text": [
      "0\n",
      "0\n"
     ]
    }
   ],
   "source": [
    "# get the index of an element from the element value\n",
    "test_tuple = (\"red\", \"green\", \"blue\")\n",
    "print(test_tuple.index(\"red\"))\n",
    "\n",
    "test_list = [\"red\", \"green\", \"blue\"]\n",
    "print(test_list.index(\"red\"))"
   ]
  },
  {
   "cell_type": "code",
   "execution_count": 34,
   "id": "66faed0d",
   "metadata": {},
   "outputs": [],
   "source": [
    "class Vector:\n",
    "    \"\"\"An n-dimensional vector.\"\"\"\n",
    "\n",
    "    def __init__(self, **components):\n",
    "        private_components = {f\"_{k}\": v for k, v in components.items()}\n",
    "        self.__dict__.update(private_components)\n",
    "\n",
    "    def __getattr__(self, name):\n",
    "        private_name = f\"_{name}\"\n",
    "        try:\n",
    "            return self.__dict__[private_name]\n",
    "        except KeyError:\n",
    "            raise AttributeError(f\"{self!r} object has no attribute {name!r}\")\n",
    "\n",
    "    def __setattr__(self, name, value):\n",
    "        raise AttributeError(f\"Can't set attribute {name!r}\")\n",
    "\n",
    "    def __delattr__(self, name):\n",
    "        raise AttributeError(f\"Can't delete attribute {name!r}\")\n",
    "\n",
    "    def __repr__(self):\n",
    "        return \"{}({})\".format(\n",
    "            type(self).__name__,\n",
    "            \", \".join(\n",
    "                \"{k}={v}\".format(\n",
    "                    k=k,\n",
    "                    v=v,\n",
    "                ) for k, v in self._args().items()\n",
    "            )\n",
    "        )\n",
    "\n",
    "    def _args(self):\n",
    "        return {k[1:]: v for k, v in self.__dict__.items()}\n",
    "\n",
    "\n",
    "class ColoredVector(Vector):\n",
    "\n",
    "    COLOR_INDEXES = (\"red\", \"green\", \"blue\")\n",
    "\n",
    "    def __init__(self, red, green, blue, **components):\n",
    "        super().__init__(**components)\n",
    "        self.__dict__[\"_color\"] = [red, green, blue]\n",
    "\n",
    "    def __getattr__(self, name):\n",
    "        try:\n",
    "            channel = ColoredVector.COLOR_INDEXES.index(name)\n",
    "        except ValueError:\n",
    "            return super().__getattr__(name)\n",
    "        else:\n",
    "            return self.__dict__[\"_color\"][channel]\n",
    "\n",
    "    def __setattr__(self, name, value):\n",
    "        try:\n",
    "            channel = ColoredVector.COLOR_INDEXES.index(name)\n",
    "        except ValueError:\n",
    "            super().__setattr__(name, value)\n",
    "        else:\n",
    "            self.__dict__[\"_color\"][channel] = value\n",
    "\n",
    "    def _args(self):\n",
    "        args = {\n",
    "            \"red\": self.red,\n",
    "            \"green\": self.green,\n",
    "            \"blue\": self.blue,\n",
    "        }\n",
    "        args.update(super()._args())\n",
    "        del args[\"color\"]\n",
    "        return args\n"
   ]
  },
  {
   "cell_type": "code",
   "execution_count": 35,
   "id": "44410098",
   "metadata": {},
   "outputs": [
    {
     "data": {
      "text/plain": [
       "ColoredVector(red=32, green=244, blue=18, p=9, q=14)"
      ]
     },
     "execution_count": 35,
     "metadata": {},
     "output_type": "execute_result"
    }
   ],
   "source": [
    "cv = ColoredVector(red=32, green=244, blue=18, p=9, q=14)\n",
    "cv"
   ]
  },
  {
   "cell_type": "markdown",
   "id": "898315dc",
   "metadata": {},
   "source": [
    "#### Using vars() to access \\_\\_dict\\_\\_\n",
    "* vars() returns a dictionary corresponding to the current local symbol table. Without an argument, vars() acts like locals()\n",
    "* if we provide an object as the argument, vars(objec) returns the \\_\\_dict\\_\\_ attribute of the object, which can be a module, class, instance, or any other objects with a \\_\\_dict\\_\\_ attribute\n",
    "* self.\\_\\_dict\\_\\_[\"\\_color\"] == vars(self)[\"\\_color\"]"
   ]
  },
  {
   "cell_type": "markdown",
   "id": "c1ddf029",
   "metadata": {},
   "source": [
    "#### Intercepting all attributes access by \\_\\_getattribute\\_\\_\n",
    "* \\_\\_getattribute\\_\\_() is invoked before all attribute lookups so can be used to intercept all get requests\n",
    "* must be very careful when using this method\n",
    "* never access properties using self dot operation, since \\_\\_getattribute\\_\\_ search attributes by dot operations\n",
    "  + access the attributes using the super().\\_\\_setattr\\_\\_ or super().\\_\\_getatribute\\_\\_\n",
    "* in the following code, LoggingProxy accept an object, and store the object in the attribute \"target\"\n",
    "  + when querying an object, it retrives the object from \"target\" attribute using super().\\_\\_getattribute\\_\\_,\n",
    "  + it then invoke the getattr method on target, with the attribute name as normal\n",
    "* code in line 14 calls the super().\\_\\_getattribute\\_\\_(\"\\_\\_class\\_\\_\") utilize the polymorphism to get the LoggingProxy class name of the self object.\n",
    "* this applies to all the methods defined in LoggingProxy class due to polymorphism, see super() demo code in this section\n",
    "* the problem of this implementation is that the attributes can not be set by LoggingProxy, which will be implemented in the next step"
   ]
  },
  {
   "cell_type": "code",
   "execution_count": 36,
   "id": "1929a6f3",
   "metadata": {},
   "outputs": [],
   "source": [
    "class LoggingProxy:\n",
    "    \"\"\"Intercept and log all attribute access to an object.\"\"\"\n",
    "\n",
    "    def __init__(self, target):\n",
    "        super().__setattr__(\"target\", target)\n",
    "\n",
    "    def __getattribute__(self, name):\n",
    "        target = super().__getattribute__(\"target\")\n",
    "        try:\n",
    "            value = getattr(target, name)\n",
    "        except AttributeError as e:\n",
    "            raise AttributeError(\n",
    "                \"{} could not forward request {} to {}\".format(\n",
    "                    super().__getattribute__(\"__class__\").__name__,\n",
    "                    name,\n",
    "                    target\n",
    "                )\n",
    "            ) from e\n",
    "        print(f\"Retrieved attribute {name} == {value!r} from {target!r}\")\n",
    "        return value\n"
   ]
  },
  {
   "cell_type": "code",
   "execution_count": 37,
   "id": "652a713c",
   "metadata": {},
   "outputs": [
    {
     "name": "stdout",
     "output_type": "stream",
     "text": [
      "Retrieved attribute p == 9 from ColoredVector(red=23, green=44, blue=328, p=9, q=14)\n"
     ]
    },
    {
     "data": {
      "text/plain": [
       "9"
      ]
     },
     "execution_count": 37,
     "metadata": {},
     "output_type": "execute_result"
    }
   ],
   "source": [
    "cv = ColoredVector(red=23, green=44, blue=328, p=9, q=14)\n",
    "cw = LoggingProxy(cv)\n",
    "cw.p"
   ]
  },
  {
   "cell_type": "code",
   "execution_count": 38,
   "id": "d321ff1f",
   "metadata": {},
   "outputs": [
    {
     "name": "stdout",
     "output_type": "stream",
     "text": [
      "Retrieved attribute red == 23 from ColoredVector(red=23, green=44, blue=328, p=9, q=14)\n"
     ]
    },
    {
     "data": {
      "text/plain": [
       "23"
      ]
     },
     "execution_count": 38,
     "metadata": {},
     "output_type": "execute_result"
    }
   ],
   "source": [
    "cw.red"
   ]
  },
  {
   "cell_type": "code",
   "execution_count": 39,
   "id": "67b93bf4",
   "metadata": {},
   "outputs": [
    {
     "ename": "AttributeError",
     "evalue": "LoggingProxy could not forward request pink to ColoredVector(red=23, green=44, blue=328, p=9, q=14)",
     "output_type": "error",
     "traceback": [
      "\u001b[1;31m---------------------------------------------------------------------------\u001b[0m",
      "\u001b[1;31mValueError\u001b[0m                                Traceback (most recent call last)",
      "Input \u001b[1;32mIn [34]\u001b[0m, in \u001b[0;36mColoredVector.__getattr__\u001b[1;34m(self, name)\u001b[0m\n\u001b[0;32m     45\u001b[0m \u001b[38;5;28;01mtry\u001b[39;00m:\n\u001b[1;32m---> 46\u001b[0m     channel \u001b[38;5;241m=\u001b[39m \u001b[43mColoredVector\u001b[49m\u001b[38;5;241;43m.\u001b[39;49m\u001b[43mCOLOR_INDEXES\u001b[49m\u001b[38;5;241;43m.\u001b[39;49m\u001b[43mindex\u001b[49m\u001b[43m(\u001b[49m\u001b[43mname\u001b[49m\u001b[43m)\u001b[49m\n\u001b[0;32m     47\u001b[0m \u001b[38;5;28;01mexcept\u001b[39;00m \u001b[38;5;167;01mValueError\u001b[39;00m:\n",
      "\u001b[1;31mValueError\u001b[0m: tuple.index(x): x not in tuple",
      "\nDuring handling of the above exception, another exception occurred:\n",
      "\u001b[1;31mKeyError\u001b[0m                                  Traceback (most recent call last)",
      "Input \u001b[1;32mIn [34]\u001b[0m, in \u001b[0;36mVector.__getattr__\u001b[1;34m(self, name)\u001b[0m\n\u001b[0;32m     10\u001b[0m \u001b[38;5;28;01mtry\u001b[39;00m:\n\u001b[1;32m---> 11\u001b[0m     \u001b[38;5;28;01mreturn\u001b[39;00m \u001b[38;5;28;43mself\u001b[39;49m\u001b[38;5;241;43m.\u001b[39;49m\u001b[38;5;18;43m__dict__\u001b[39;49m\u001b[43m[\u001b[49m\u001b[43mprivate_name\u001b[49m\u001b[43m]\u001b[49m\n\u001b[0;32m     12\u001b[0m \u001b[38;5;28;01mexcept\u001b[39;00m \u001b[38;5;167;01mKeyError\u001b[39;00m:\n",
      "\u001b[1;31mKeyError\u001b[0m: '_pink'",
      "\nDuring handling of the above exception, another exception occurred:\n",
      "\u001b[1;31mAttributeError\u001b[0m                            Traceback (most recent call last)",
      "Input \u001b[1;32mIn [36]\u001b[0m, in \u001b[0;36mLoggingProxy.__getattribute__\u001b[1;34m(self, name)\u001b[0m\n\u001b[0;32m      9\u001b[0m \u001b[38;5;28;01mtry\u001b[39;00m:\n\u001b[1;32m---> 10\u001b[0m     value \u001b[38;5;241m=\u001b[39m \u001b[38;5;28;43mgetattr\u001b[39;49m\u001b[43m(\u001b[49m\u001b[43mtarget\u001b[49m\u001b[43m,\u001b[49m\u001b[43m \u001b[49m\u001b[43mname\u001b[49m\u001b[43m)\u001b[49m\n\u001b[0;32m     11\u001b[0m \u001b[38;5;28;01mexcept\u001b[39;00m \u001b[38;5;167;01mAttributeError\u001b[39;00m \u001b[38;5;28;01mas\u001b[39;00m e:\n",
      "Input \u001b[1;32mIn [34]\u001b[0m, in \u001b[0;36mColoredVector.__getattr__\u001b[1;34m(self, name)\u001b[0m\n\u001b[0;32m     47\u001b[0m \u001b[38;5;28;01mexcept\u001b[39;00m \u001b[38;5;167;01mValueError\u001b[39;00m:\n\u001b[1;32m---> 48\u001b[0m     \u001b[38;5;28;01mreturn\u001b[39;00m \u001b[38;5;28;43msuper\u001b[39;49m\u001b[43m(\u001b[49m\u001b[43m)\u001b[49m\u001b[38;5;241;43m.\u001b[39;49m\u001b[38;5;21;43m__getattr__\u001b[39;49m\u001b[43m(\u001b[49m\u001b[43mname\u001b[49m\u001b[43m)\u001b[49m\n\u001b[0;32m     49\u001b[0m \u001b[38;5;28;01melse\u001b[39;00m:\n",
      "Input \u001b[1;32mIn [34]\u001b[0m, in \u001b[0;36mVector.__getattr__\u001b[1;34m(self, name)\u001b[0m\n\u001b[0;32m     12\u001b[0m \u001b[38;5;28;01mexcept\u001b[39;00m \u001b[38;5;167;01mKeyError\u001b[39;00m:\n\u001b[1;32m---> 13\u001b[0m     \u001b[38;5;28;01mraise\u001b[39;00m \u001b[38;5;167;01mAttributeError\u001b[39;00m(\u001b[38;5;124mf\u001b[39m\u001b[38;5;124m\"\u001b[39m\u001b[38;5;132;01m{\u001b[39;00m\u001b[38;5;28mself\u001b[39m\u001b[38;5;132;01m!r}\u001b[39;00m\u001b[38;5;124m object has no attribute \u001b[39m\u001b[38;5;132;01m{\u001b[39;00mname\u001b[38;5;132;01m!r}\u001b[39;00m\u001b[38;5;124m\"\u001b[39m)\n",
      "\u001b[1;31mAttributeError\u001b[0m: ColoredVector(red=23, green=44, blue=328, p=9, q=14) object has no attribute 'pink'",
      "\nThe above exception was the direct cause of the following exception:\n",
      "\u001b[1;31mAttributeError\u001b[0m                            Traceback (most recent call last)",
      "Input \u001b[1;32mIn [39]\u001b[0m, in \u001b[0;36m<cell line: 1>\u001b[1;34m()\u001b[0m\n\u001b[1;32m----> 1\u001b[0m \u001b[43mcw\u001b[49m\u001b[38;5;241;43m.\u001b[39;49m\u001b[43mpink\u001b[49m\n",
      "Input \u001b[1;32mIn [36]\u001b[0m, in \u001b[0;36mLoggingProxy.__getattribute__\u001b[1;34m(self, name)\u001b[0m\n\u001b[0;32m     10\u001b[0m     value \u001b[38;5;241m=\u001b[39m \u001b[38;5;28mgetattr\u001b[39m(target, name)\n\u001b[0;32m     11\u001b[0m \u001b[38;5;28;01mexcept\u001b[39;00m \u001b[38;5;167;01mAttributeError\u001b[39;00m \u001b[38;5;28;01mas\u001b[39;00m e:\n\u001b[1;32m---> 12\u001b[0m     \u001b[38;5;28;01mraise\u001b[39;00m \u001b[38;5;167;01mAttributeError\u001b[39;00m(\n\u001b[0;32m     13\u001b[0m         \u001b[38;5;124m\"\u001b[39m\u001b[38;5;132;01m{}\u001b[39;00m\u001b[38;5;124m could not forward request \u001b[39m\u001b[38;5;132;01m{}\u001b[39;00m\u001b[38;5;124m to \u001b[39m\u001b[38;5;132;01m{}\u001b[39;00m\u001b[38;5;124m\"\u001b[39m\u001b[38;5;241m.\u001b[39mformat(\n\u001b[0;32m     14\u001b[0m             \u001b[38;5;28msuper\u001b[39m()\u001b[38;5;241m.\u001b[39m\u001b[38;5;21m__getattribute__\u001b[39m(\u001b[38;5;124m\"\u001b[39m\u001b[38;5;124m__class__\u001b[39m\u001b[38;5;124m\"\u001b[39m)\u001b[38;5;241m.\u001b[39m\u001b[38;5;18m__name__\u001b[39m,\n\u001b[0;32m     15\u001b[0m             name,\n\u001b[0;32m     16\u001b[0m             target\n\u001b[0;32m     17\u001b[0m         )\n\u001b[0;32m     18\u001b[0m     ) \u001b[38;5;28;01mfrom\u001b[39;00m \u001b[38;5;21;01me\u001b[39;00m\n\u001b[0;32m     19\u001b[0m \u001b[38;5;28mprint\u001b[39m(\u001b[38;5;124mf\u001b[39m\u001b[38;5;124m\"\u001b[39m\u001b[38;5;124mRetrieved attribute \u001b[39m\u001b[38;5;132;01m{\u001b[39;00mname\u001b[38;5;132;01m}\u001b[39;00m\u001b[38;5;124m == \u001b[39m\u001b[38;5;132;01m{\u001b[39;00mvalue\u001b[38;5;132;01m!r}\u001b[39;00m\u001b[38;5;124m from \u001b[39m\u001b[38;5;132;01m{\u001b[39;00mtarget\u001b[38;5;132;01m!r}\u001b[39;00m\u001b[38;5;124m\"\u001b[39m)\n\u001b[0;32m     20\u001b[0m \u001b[38;5;28;01mreturn\u001b[39;00m value\n",
      "\u001b[1;31mAttributeError\u001b[0m: LoggingProxy could not forward request pink to ColoredVector(red=23, green=44, blue=328, p=9, q=14)"
     ]
    }
   ],
   "source": [
    "cw.pink"
   ]
  },
  {
   "cell_type": "markdown",
   "id": "35515a14",
   "metadata": {},
   "source": [
    "#### super() demo\n",
    "* this demo shows that super() will use the class and other properties of self who invoked the method\n",
    "* the get\\_dict() method of SubClass calls the method defined in BaseClass, with self as a SubClass instance. As a result, the subclass instance's \\_\\_dict\\_\\_ obj is returned"
   ]
  },
  {
   "cell_type": "code",
   "execution_count": 48,
   "id": "cda59fce",
   "metadata": {},
   "outputs": [
    {
     "name": "stdout",
     "output_type": "stream",
     "text": [
      "SubClass\n"
     ]
    }
   ],
   "source": [
    "class BaseClass:\n",
    "    def __init__(self, a, b):\n",
    "        self._a = a\n",
    "        self._b = b\n",
    "        \n",
    "    def get_dict(self):\n",
    "        return self.__dict__\n",
    "\n",
    "\n",
    "class SubClass(BaseClass):\n",
    "    def __init__(self, a, b, c):\n",
    "        super().__init__(a, b)\n",
    "        self._c = c\n",
    "    \n",
    "    def get_class(self):\n",
    "        print(super().__getattribute__(\"__class__\").__name__)\n",
    "subclass = SubClass('a', 'b', 'c')\n",
    "subclass.get_class()"
   ]
  },
  {
   "cell_type": "code",
   "execution_count": 49,
   "id": "cd2b9054",
   "metadata": {},
   "outputs": [
    {
     "data": {
      "text/plain": [
       "{'_a': 'a', '_b': 'b', '_c': 'c'}"
      ]
     },
     "execution_count": 49,
     "metadata": {},
     "output_type": "execute_result"
    }
   ],
   "source": [
    "subclass.get_dict()"
   ]
  },
  {
   "cell_type": "markdown",
   "id": "ee30e1d1",
   "metadata": {},
   "source": [
    "#### Set attribute\n",
    "* the above implementation can not be used to set attribute to the objects, as shown in the following code\n",
    "  + the problem is that the attributes are direct set as the attributes of cw (LoggingProxy object), and the attributes of cv object are never changed, and when calling the getter, the previous stored values are retrieved\n",
    "  + the solution is to implement the \\_\\_setattr\\_\\_ method\n",
    "* the setter method is very similar to getter. Basically, we retrieved the target object, and use setattr method to set the value for the given attribute. if the attribute doesnot exist, we raise the AttributeError. \n",
    "  + we can set red, green, and blue attribues using the proxy, but can not set p and q, since they are immuntable and will throw errors"
   ]
  },
  {
   "cell_type": "code",
   "execution_count": 52,
   "id": "5c8cf05c",
   "metadata": {},
   "outputs": [
    {
     "name": "stdout",
     "output_type": "stream",
     "text": [
      "Retrieved attribute p == 9 from ColoredVector(red=23, green=44, blue=328, p=9, q=14)\n"
     ]
    },
    {
     "data": {
      "text/plain": [
       "9"
      ]
     },
     "execution_count": 52,
     "metadata": {},
     "output_type": "execute_result"
    }
   ],
   "source": [
    "cv = ColoredVector(red=23, green=44, blue=328, p=9, q=14)\n",
    "cw = LoggingProxy(cv)\n",
    "cw.p = 13\n",
    "cw.p"
   ]
  },
  {
   "cell_type": "code",
   "execution_count": 55,
   "id": "cd2a19cb",
   "metadata": {},
   "outputs": [],
   "source": [
    "class LoggingProxy:\n",
    "    \"\"\"Intercept and log all attribute access to an object.\"\"\"\n",
    "\n",
    "    def __init__(self, target):\n",
    "        super().__setattr__(\"target\", target)\n",
    "\n",
    "    def __getattribute__(self, name):\n",
    "        target = super().__getattribute__(\"target\")\n",
    "        try:\n",
    "            value = getattr(target, name)\n",
    "        except AttributeError as e:\n",
    "            raise AttributeError(\n",
    "                \"{} could not forward request {} to {}\".format(\n",
    "                    super().__getattribute__(\"__class__\").__name__,\n",
    "                    name,\n",
    "                    target\n",
    "                )\n",
    "            ) from e\n",
    "        print(f\"Retrieved attribute {name} == {value!r} from {target!r}\")\n",
    "        return value\n",
    "    \n",
    "    def __setattr__(self, name, value):\n",
    "        target = super().__getattribute__(\"target\")\n",
    "        try:\n",
    "            setattr(target, name, value)\n",
    "        except AttributeError as e:\n",
    "            raise AttributeError(\n",
    "                \"{} could not forward request {} to {}\".format(\n",
    "                    super().__getattribute__(\"__class__\").__name__,\n",
    "                    name,\n",
    "                    target\n",
    "                )\n",
    "            ) from e\n",
    "        print(f\"Set attribute {name} == {value!r} on {target!r}\")\n"
   ]
  },
  {
   "cell_type": "code",
   "execution_count": 57,
   "id": "5741580c",
   "metadata": {},
   "outputs": [
    {
     "name": "stdout",
     "output_type": "stream",
     "text": [
      "Set attribute red == 55 on ColoredVector(red=55, green=44, blue=328, p=9, q=14)\n",
      "Retrieved attribute red == 55 from ColoredVector(red=55, green=44, blue=328, p=9, q=14)\n"
     ]
    },
    {
     "data": {
      "text/plain": [
       "55"
      ]
     },
     "execution_count": 57,
     "metadata": {},
     "output_type": "execute_result"
    }
   ],
   "source": [
    "cv = ColoredVector(red=23, green=44, blue=328, p=9, q=14)\n",
    "cw = LoggingProxy(cv)\n",
    "cw.red = 55\n",
    "cw.red"
   ]
  },
  {
   "cell_type": "markdown",
   "id": "cf99d686",
   "metadata": {},
   "source": [
    "#### built-in protocals bypass attribute lookup\n",
    "* \\_\\_getattribute\\_\\_ only intercepts attribute lookup through the dot operator, and does not intercept built-in protocols\n",
    "  + to demonstrate that, we can invoke cw.\\_\\_repr\\_\\_() and repr(cw)\n",
    "    + the first invocation is by dot operator, and will be processed by \\_\\_getattribute\\_\\_ \n",
    "    + the second passed to bulit-in function, and we get the default repr of LoggingProxy produced by the object's base class\n",
    "* \\_\\_getattribute\\_\\_ can only be used to intercept special method calls when the special meethod is retrieved directly (such as \\_\\_repr\\_\\_() rather than repr()\n",
    "* built-in functions such as len(), iter(), repr() etc. bypass \\_\\_getattribute\\_\\_ for performance reasons\n",
    "  + it is upto us to implement the special methods called by built-in functions. as demonstrated by the following code where we implement the \\_\\_repr\\_\\_ to return the \\_\\_repr\\_\\_ attribute of target"
   ]
  },
  {
   "cell_type": "code",
   "execution_count": 58,
   "id": "00f6f91e",
   "metadata": {},
   "outputs": [
    {
     "name": "stdout",
     "output_type": "stream",
     "text": [
      "Retrieved attribute __repr__ == <bound method Vector.__repr__ of ColoredVector(red=23, green=44, blue=328, p=9, q=14)> from ColoredVector(red=23, green=44, blue=328, p=9, q=14)\n",
      "ColoredVector(red=23, green=44, blue=328, p=9, q=14)\n",
      "<__main__.LoggingProxy object at 0x000001741F8B4490>\n"
     ]
    }
   ],
   "source": [
    "cv = ColoredVector(red=23, green=44, blue=328, p=9, q=14)\n",
    "cw = LoggingProxy(cv)\n",
    "print(cw.__repr__())\n",
    "print(repr(cw))"
   ]
  },
  {
   "cell_type": "code",
   "execution_count": 65,
   "id": "55117007",
   "metadata": {},
   "outputs": [],
   "source": [
    "class LoggingProxy:\n",
    "    \"\"\"Intercept and log all attribute access to an object.\"\"\"\n",
    "\n",
    "    def __init__(self, target):\n",
    "        super().__setattr__(\"target\", target)\n",
    "\n",
    "    def __getattribute__(self, name):\n",
    "        target = super().__getattribute__(\"target\")\n",
    "        try:\n",
    "            value = getattr(target, name)\n",
    "        except AttributeError as e:\n",
    "            raise AttributeError(\n",
    "                \"{} could not forward request {} to {}\".format(\n",
    "                    super().__getattribute__(\"__class__\").__name__,\n",
    "                    name,\n",
    "                    target\n",
    "                )\n",
    "            ) from e\n",
    "        print(f\"Retrieved attribute {name} == {value!r} from {target!r}\")\n",
    "        return value\n",
    "    \n",
    "    def __setattr__(self, name, value):\n",
    "        target = super().__getattribute__(\"target\")\n",
    "        try:\n",
    "            setattr(target, name, value)\n",
    "        except AttributeError as e:\n",
    "            raise AttributeError(\n",
    "                \"{} could not forward request {} to {}\".format(\n",
    "                    super().__getattribute__(\"__class__\").__name__,\n",
    "                    name,\n",
    "                    target\n",
    "                )\n",
    "            ) from e\n",
    "        print(f\"Set attribute {name} == {value!r} on {target!r}\")\n",
    "        \n",
    "    def __repr__(self):\n",
    "        target = super().__getattribute__(\"target\")\n",
    "        repr_callable = getattr(target, \"__repr__\")\n",
    "        return repr_callable()\n"
   ]
  },
  {
   "cell_type": "code",
   "execution_count": 66,
   "id": "821ebafe",
   "metadata": {},
   "outputs": [
    {
     "name": "stdout",
     "output_type": "stream",
     "text": [
      "Retrieved attribute __repr__ == <bound method Vector.__repr__ of ColoredVector(red=23, green=44, blue=328, p=9, q=14)> from ColoredVector(red=23, green=44, blue=328, p=9, q=14)\n",
      "ColoredVector(red=23, green=44, blue=328, p=9, q=14)\n",
      "<class 'str'>\n",
      "ColoredVector(red=23, green=44, blue=328, p=9, q=14)\n"
     ]
    }
   ],
   "source": [
    "cv = ColoredVector(red=23, green=44, blue=328, p=9, q=14)\n",
    "cw = LoggingProxy(cv)\n",
    "print(cw.__repr__())\n",
    "print(repr(cw))"
   ]
  },
  {
   "cell_type": "markdown",
   "id": "63001008",
   "metadata": {},
   "source": [
    "### Class internals"
   ]
  },
  {
   "cell_type": "markdown",
   "id": "eea6bcb8",
   "metadata": {},
   "source": [
    "#### Class Attribute Look up\n",
    "* when we use \\_\\_.dict\\_\\_, we only see attributes, not methods\n",
    "* we can get methods by getattr(obj, \"\\_\\_repr\\_\\_), why?\n",
    "  + methods are attributes of another object, which is the class object associated with our instance\n",
    "  + v.\\_\\_class\\_\\_.\\_\\_dict\\_\\_ contains all the callable methods of the class\n",
    "    + these callables accept our class instance (here in the code, v) as arguments and execute\n",
    "    + we can also use built-in function to access \\_\\_class\\_\\_.\\_\\_dict\\_\\_ using vars(type(v))[\"\\_\\_repr\\_\\_\"]\n",
    "* \\_\\_dict\\_\\_ of a class object is not a normal dictionary, but a mappingproxy. \n",
    "  + mappingproxy is a special type of mapping used internally in Python, and which does not support item assignment directly\n",
    "    + a TypeError will be raised if modification is attempted\n",
    "    + to set an attribute, you need to use setattr"
   ]
  },
  {
   "cell_type": "code",
   "execution_count": 80,
   "id": "c9c4b3a8",
   "metadata": {},
   "outputs": [
    {
     "name": "stdout",
     "output_type": "stream",
     "text": [
      "{'_x': 3, '_y': 7}\n"
     ]
    },
    {
     "data": {
      "text/plain": [
       "<bound method Vector.__repr__ of Vector(x=3, y=7)>"
      ]
     },
     "execution_count": 80,
     "metadata": {},
     "output_type": "execute_result"
    }
   ],
   "source": [
    "v = Vector(x=3, y = 7)\n",
    "print(v.__dict__)\n",
    "getattr(v, \"__repr__\")"
   ]
  },
  {
   "cell_type": "code",
   "execution_count": 81,
   "id": "563ef861",
   "metadata": {},
   "outputs": [
    {
     "ename": "TypeError",
     "evalue": "'mappingproxy' object does not support item assignment",
     "output_type": "error",
     "traceback": [
      "\u001b[1;31m---------------------------------------------------------------------------\u001b[0m",
      "\u001b[1;31mTypeError\u001b[0m                                 Traceback (most recent call last)",
      "Input \u001b[1;32mIn [81]\u001b[0m, in \u001b[0;36m<cell line: 2>\u001b[1;34m()\u001b[0m\n\u001b[0;32m      1\u001b[0m \u001b[38;5;66;03m# you can't assign items to class object's __dict__\u001b[39;00m\n\u001b[1;32m----> 2\u001b[0m v\u001b[38;5;241m.\u001b[39m\u001b[38;5;18m__class__\u001b[39m\u001b[38;5;241m.\u001b[39m\u001b[38;5;18m__dict__\u001b[39m[\u001b[38;5;124m'\u001b[39m\u001b[38;5;124mnew_class_attribute\u001b[39m\u001b[38;5;124m'\u001b[39m] \u001b[38;5;241m=\u001b[39m \u001b[38;5;241m5\u001b[39m\n",
      "\u001b[1;31mTypeError\u001b[0m: 'mappingproxy' object does not support item assignment"
     ]
    }
   ],
   "source": [
    "# you can't assign items to class object's __dict__\n",
    "v.__class__.__dict__['new_class_attribute'] = 5"
   ]
  },
  {
   "cell_type": "code",
   "execution_count": 83,
   "id": "4fc7e669",
   "metadata": {},
   "outputs": [
    {
     "name": "stdout",
     "output_type": "stream",
     "text": [
      "Vector(x=3, y=7)\n",
      "Vector(x=3, y=7)\n",
      "5\n"
     ]
    }
   ],
   "source": [
    "# execute the callable __repr__ with instance v as input\n",
    "# and returns the repr representation string of v\n",
    "r1 = v.__class__.__dict__[\"__repr__\"](v)\n",
    "print(r1)\n",
    "\n",
    "# using built-in functions to retrieve repr\n",
    "r2 = vars(type(v))[\"__repr__\"](v)\n",
    "print(r2)\n",
    "\n",
    "# assign new class attribute by setattr\n",
    "setattr(v.__class__, \"new_class_attribute\", 5)\n",
    "print(v.__class__.__dict__[\"new_class_attribute\"])"
   ]
  },
  {
   "cell_type": "markdown",
   "id": "2fdd2ed6",
   "metadata": {},
   "source": [
    "#### A simplified algorithm that Python uses to find an attribute\n",
    "* implement \\_\\_getattribute\\_\\_, which is used in Python to get all attributes\n",
    "  * first get the class of the object\n",
    "  * if the attribute is in the instance dictionary, returns it\n",
    "  + if the attribute is in the class dictionary including its base in MRO, return it. Here getattr will call \\_\\_getattribute\\_\\_ if can not find attribute, which wil throw error\n",
    "  + if it is not in class dictionary, check if \\_\\_getattribute\\_\\_ is defined, if so, call \\_\\_getattribute\\_\\_(obj, name) and throw error if can not find attribute \n",
    "  + finally, if all the previous fail, raise AttributeError"
   ]
  },
  {
   "cell_type": "code",
   "execution_count": null,
   "id": "69be5acd",
   "metadata": {},
   "outputs": [],
   "source": [
    "class object:\n",
    "    \"\"\"\n",
    "    This code is illustrative. The real object class and its methods are implemented in C.\n",
    "    \"\"\"\n",
    "\n",
    "    def __getattribute__(obj, name):\n",
    "        cls = type(obj)\n",
    "        if name in vars(obj):\n",
    "            return vars(obj)[name]\n",
    "        if hasattr(cls, name):\n",
    "            return getattr(cls, name)\n",
    "        if hasattr(cls, \"__getattr__\"):\n",
    "            return cls.__getattr__(obj, name)\n",
    "        raise AttributeError(f\"{cls.__name__} object has no attribute {name}\")"
   ]
  },
  {
   "cell_type": "markdown",
   "id": "a9b0ba49",
   "metadata": {},
   "source": [
    "### Optimizing memory usage with slots"
   ]
  },
  {
   "cell_type": "markdown",
   "id": "8c770155",
   "metadata": {},
   "source": [
    "#### Slots Trade-offs\n",
    "* slot can be used to reduce memory usage by instances with a trade-off against flexibility\n",
    "  + regular python instance objects store attributes in a regular dictionary.\n",
    "    + we can measure the size of the dictionary using getsizeof() function in sys module\n",
    "      + an empty dictionary is 64 bytes, large numbers of python objects can be heavy\n",
    "      + when adding new attributes to the object, the object size increases very fast\n",
    "+ we can save the memory usage by using slots\n",
    "  + first, we need to declare a class attribute called \\_\\_slots\\_\\_ as a list of strings. Each of which refers to a fixed name of attributes we want all of our objects to contain\n",
    "  + next, we initialize attribute values in \\_\\_init\\_\\_ function\n",
    "  + the trade-off is that, we can no longer dynamically add new attributes to instance objects since the instance objects will no longer have \\_\\_dict\\_\\_\n",
    "* slots are usually not required \n",
    "  + unless measurements may indicate that they may help to save memory usage. \n",
    "  + slots may interact with other python features and diagnostic tools in surprising ways \n",
    "   "
   ]
  },
  {
   "cell_type": "code",
   "execution_count": 84,
   "id": "d336b18a",
   "metadata": {},
   "outputs": [
    {
     "data": {
      "text/plain": [
       "64"
      ]
     },
     "execution_count": 84,
     "metadata": {},
     "output_type": "execute_result"
    }
   ],
   "source": [
    "import sys\n",
    "d = {}\n",
    "sys.getsizeof(d)"
   ]
  },
  {
   "cell_type": "code",
   "execution_count": 89,
   "id": "096199d4",
   "metadata": {},
   "outputs": [],
   "source": [
    "# a python Resistor object without using __slots__\n",
    "import sys\n",
    "class Resistor:\n",
    "\n",
    "#     __slots__ = [\"resistance_ohms\", \"tolerance_percent\", \"power_watts\"]\n",
    "\n",
    "    def __init__(self, resistance_ohms, tolerance_percent, power_watts):\n",
    "        self.resistance_ohms = resistance_ohms\n",
    "        self.tolerance_percent = tolerance_percent\n",
    "        self.power_watts = power_watts\n"
   ]
  },
  {
   "cell_type": "code",
   "execution_count": 90,
   "id": "8965fbda",
   "metadata": {},
   "outputs": [
    {
     "data": {
      "text/plain": [
       "152"
      ]
     },
     "execution_count": 90,
     "metadata": {},
     "output_type": "execute_result"
    }
   ],
   "source": [
    "r10 = Resistor(10, 5, 25)\n",
    "sys.getsizeof(r10) + sys.getsizeof(r10.__dict__)"
   ]
  },
  {
   "cell_type": "code",
   "execution_count": 91,
   "id": "b458a98b",
   "metadata": {},
   "outputs": [
    {
     "data": {
      "text/plain": [
       "192"
      ]
     },
     "execution_count": 91,
     "metadata": {},
     "output_type": "execute_result"
    }
   ],
   "source": [
    "# with the addition of new attributes, the size of objects increases fast\n",
    "r10.cost_dollars = 0.02\n",
    "r10.tcr_ohms_per_kelvin = -0.0005\n",
    "r10.inductance_herys = 2e-9\n",
    "sys.getsizeof(r10) + sys.getsizeof(r10.__dict__)"
   ]
  },
  {
   "cell_type": "code",
   "execution_count": 92,
   "id": "de059b25",
   "metadata": {},
   "outputs": [],
   "source": [
    "# example code using __slots__ in class definition\n",
    "import sys\n",
    "class Resistor:\n",
    "\n",
    "    __slots__ = [\"resistance_ohms\", \"tolerance_percent\", \"power_watts\"]\n",
    "\n",
    "    def __init__(self, resistance_ohms, tolerance_percent, power_watts):\n",
    "        self.resistance_ohms = resistance_ohms\n",
    "        self.tolerance_percent = tolerance_percent\n",
    "        self.power_watts = power_watts\n"
   ]
  },
  {
   "cell_type": "code",
   "execution_count": 93,
   "id": "4b997a13",
   "metadata": {},
   "outputs": [
    {
     "data": {
      "text/plain": [
       "56"
      ]
     },
     "execution_count": 93,
     "metadata": {},
     "output_type": "execute_result"
    }
   ],
   "source": [
    "r10 = Resistor(10, 5, 25)\n",
    "sys.getsizeof(r10) "
   ]
  },
  {
   "cell_type": "markdown",
   "id": "b0ceef6e",
   "metadata": {},
   "source": [
    "### Descriptors"
   ]
  },
  {
   "cell_type": "markdown",
   "id": "e2ecd6a7",
   "metadata": {},
   "source": [
    "#### Reviewing properties\n",
    "* properties are based on descriptor protocol\n",
    "* in the following code example, we create a class of Planet, and use property decorators to validate the set process to make sure all the attributes have valid values when setting them\n",
    "  + this is called self-encapsulation where all properties are access via self\n",
    "  + this gives us validatio on construction of objects for free\n",
    "* the trade of defining all properties are\n",
    "  + the amount of code exploded\n",
    "  + duplicated code. For example, duplicated code to check non-negative constraints\n",
    "  + descriptors will ultimately provide a way out of this"
   ]
  },
  {
   "cell_type": "code",
   "execution_count": 95,
   "id": "d86cd301",
   "metadata": {},
   "outputs": [],
   "source": [
    "class Planet:\n",
    "    def __init__(\n",
    "        self,\n",
    "        name,\n",
    "        radius_metres,\n",
    "        mass_kilograms,\n",
    "        orbital_period_seconds,\n",
    "        surface_temperature_kelvin,\n",
    "    ):\n",
    "        self.name = name\n",
    "        self.radius_metres = radius_metres\n",
    "        self.mass_kilograms = mass_kilograms\n",
    "        self.orbital_period_seconds = orbital_period_seconds\n",
    "        self.surface_temperature_kelvin = surface_temperature_kelvin\n",
    "\n",
    "    @property\n",
    "    def name(self):\n",
    "        return self._name\n",
    "\n",
    "    @name.setter\n",
    "    def name(self, value):\n",
    "        if not value:\n",
    "            raise ValueError(\"Cannot set empty name\")\n",
    "        self._name = value\n",
    "\n",
    "    @property\n",
    "    def radius_metres(self):\n",
    "        return self._radius_metres\n",
    "\n",
    "    @radius_metres.setter\n",
    "    def radius_metres(self, value):\n",
    "        if value <= 0:\n",
    "            raise ValueError(f\"radius_metres value {value} is not positive.\")\n",
    "        self._radius_metres = value\n",
    "\n",
    "    @property\n",
    "    def mass_kilograms(self):\n",
    "        return self._mass_kilograms\n",
    "\n",
    "    @mass_kilograms.setter\n",
    "    def mass_kilograms(self, value):\n",
    "        if value <= 0:\n",
    "            raise ValueError(f\"mass_kilograms value {value} is not positive.\")\n",
    "        self._mass_kilograms = value\n",
    "\n",
    "    @property\n",
    "    def orbital_period_seconds(self):\n",
    "        return self._orbital_period_seconds\n",
    "\n",
    "    @orbital_period_seconds.setter\n",
    "    def orbital_period_seconds(self, value):\n",
    "        if value <= 0:\n",
    "            raise ValueError(f\"orbital_period_seconds value {value} is not positive.\")\n",
    "        self._orbital_period_seconds = value\n",
    "\n",
    "    @property\n",
    "    def surface_temperature_kelvin(self):\n",
    "        return self._surface_temperature_kelvin\n",
    "\n",
    "    @surface_temperature_kelvin.setter\n",
    "    def surface_temperature_kelvin(self, value):\n",
    "        if value <= 0:\n",
    "            raise ValueError(f\"surface_temperature_kelvin value {value} is not positive.\")\n",
    "        self._surface_temperature_kelvin = value\n"
   ]
  },
  {
   "cell_type": "code",
   "execution_count": 97,
   "id": "1bfdc00b",
   "metadata": {},
   "outputs": [],
   "source": [
    "pluto = Planet(\n",
    "    name='Pluto',\n",
    "    radius_metres=1184e3,\n",
    "    mass_kilograms=1.305e22,\n",
    "    orbital_period_seconds=7816012992,\n",
    "    surface_temperature_kelvin=55\n",
    ")"
   ]
  },
  {
   "cell_type": "code",
   "execution_count": 98,
   "id": "595be531",
   "metadata": {},
   "outputs": [
    {
     "ename": "ValueError",
     "evalue": "surface_temperature_kelvin value -1 is not positive.",
     "output_type": "error",
     "traceback": [
      "\u001b[1;31m---------------------------------------------------------------------------\u001b[0m",
      "\u001b[1;31mValueError\u001b[0m                                Traceback (most recent call last)",
      "Input \u001b[1;32mIn [98]\u001b[0m, in \u001b[0;36m<cell line: 1>\u001b[1;34m()\u001b[0m\n\u001b[1;32m----> 1\u001b[0m pluto\u001b[38;5;241m.\u001b[39msurface_temperature_kelvin \u001b[38;5;241m=\u001b[39m \u001b[38;5;241m-\u001b[39m\u001b[38;5;241m1\u001b[39m\n",
      "Input \u001b[1;32mIn [95]\u001b[0m, in \u001b[0;36mPlanet.surface_temperature_kelvin\u001b[1;34m(self, value)\u001b[0m\n\u001b[0;32m     60\u001b[0m \u001b[38;5;129m@surface_temperature_kelvin\u001b[39m\u001b[38;5;241m.\u001b[39msetter\n\u001b[0;32m     61\u001b[0m \u001b[38;5;28;01mdef\u001b[39;00m \u001b[38;5;21msurface_temperature_kelvin\u001b[39m(\u001b[38;5;28mself\u001b[39m, value):\n\u001b[0;32m     62\u001b[0m     \u001b[38;5;28;01mif\u001b[39;00m value \u001b[38;5;241m<\u001b[39m\u001b[38;5;241m=\u001b[39m \u001b[38;5;241m0\u001b[39m:\n\u001b[1;32m---> 63\u001b[0m         \u001b[38;5;28;01mraise\u001b[39;00m \u001b[38;5;167;01mValueError\u001b[39;00m(\u001b[38;5;124mf\u001b[39m\u001b[38;5;124m\"\u001b[39m\u001b[38;5;124msurface_temperature_kelvin value \u001b[39m\u001b[38;5;132;01m{\u001b[39;00mvalue\u001b[38;5;132;01m}\u001b[39;00m\u001b[38;5;124m is not positive.\u001b[39m\u001b[38;5;124m\"\u001b[39m)\n\u001b[0;32m     64\u001b[0m     \u001b[38;5;28mself\u001b[39m\u001b[38;5;241m.\u001b[39m_surface_temperature_kelvin \u001b[38;5;241m=\u001b[39m value\n",
      "\u001b[1;31mValueError\u001b[0m: surface_temperature_kelvin value -1 is not positive."
     ]
    }
   ],
   "source": [
    "pluto.surface_temperature_kelvin = -1"
   ]
  },
  {
   "cell_type": "markdown",
   "id": "4e7131be",
   "metadata": {},
   "source": [
    "#### Unravelling the property decorators\n",
    "* in the following code example, we explicitly defined the property object for each numeric property rather than using the property decorators\n",
    "  + for each property, getter and setter methods are defined as private methods, and are passed to the corresponding property constructors to fget and fset arguments\n",
    "  + These property objects are equvalent to @property decorator such that @property is just a function which returns a property object, which actually is a descriptor that can be bound to a class attribute\n",
    "  + after defining these property objects in the class, we directly assigned/bound these properties to attributes of the class. These attributes can be used directly to invoke the corresponding getter and setter methods "
   ]
  },
  {
   "cell_type": "code",
   "execution_count": 107,
   "id": "0f543179",
   "metadata": {},
   "outputs": [],
   "source": [
    "class Planet:\n",
    "    def __init__(\n",
    "        self,\n",
    "        name,\n",
    "        radius_metres,\n",
    "        mass_kilograms,\n",
    "        orbital_period_seconds,\n",
    "        surface_temperature_kelvin,\n",
    "    ):\n",
    "        self.name = name\n",
    "        self.radius_metres = radius_metres\n",
    "        self.mass_kilograms = mass_kilograms\n",
    "        self.orbital_period_seconds = orbital_period_seconds\n",
    "        self.surface_temperature_kelvin = surface_temperature_kelvin\n",
    "\n",
    "    @property\n",
    "    def name(self):\n",
    "        return self._name\n",
    "\n",
    "    @name.setter\n",
    "    def name(self, value):\n",
    "        if not value:\n",
    "            raise ValueError(\"Cannot set empty name\")\n",
    "        self._name = value\n",
    "\n",
    "    def _get_radius_metres(self):\n",
    "        return self._radius_metres\n",
    "\n",
    "    def _set_radius_metres(self, value):\n",
    "        if value <= 0:\n",
    "            raise ValueError(f\"radius_metres value {value} is not positive.\")\n",
    "        self._radius_metres = value\n",
    "\n",
    "    radius_metres = property(\n",
    "        fget=_get_radius_metres,\n",
    "        fset=_set_radius_metres,\n",
    "    )\n",
    "\n",
    "    def _get_mass_kilograms(self):\n",
    "        return self._mass_kilograms\n",
    "\n",
    "    def _set_mass_kilograms(self, value):\n",
    "        if value <= 0:\n",
    "            raise ValueError(f\"mass_kilograms value {value} is not positive.\")\n",
    "        self._mass_kilograms = value\n",
    "\n",
    "    mass_kilograms = property(\n",
    "        fget=_get_mass_kilograms,\n",
    "        fset=_set_mass_kilograms,\n",
    "    )\n",
    "\n",
    "    def _get_orbital_period_seconds(self):\n",
    "        return self._orbital_period_seconds\n",
    "\n",
    "    def _set_orbital_period_seconds(self, value):\n",
    "        if value <= 0:\n",
    "            raise ValueError(f\"orbital_period_seconds value {value} is not positive.\")\n",
    "        self._orbital_period_seconds = value\n",
    "\n",
    "    orbital_period_seconds = property(\n",
    "        fget=_get_orbital_period_seconds,\n",
    "        fset=_set_orbital_period_seconds,\n",
    "    )\n",
    "\n",
    "    def _get_surface_temperature_kelvin(self):\n",
    "        return self._surface_temperature_kelvin\n",
    "\n",
    "    def _set_surface_temperature_kelvin(self, value):\n",
    "        if value <= 0:\n",
    "            raise ValueError(f\"surface_temperature_kelvin value {value} is not positive.\")\n",
    "        self._surface_temperature_kelvin = value\n",
    "\n",
    "    surface_temperature_kelvin = property(\n",
    "        fget=_get_surface_temperature_kelvin,\n",
    "        fset=_set_surface_temperature_kelvin,\n",
    "    )\n"
   ]
  },
  {
   "cell_type": "code",
   "execution_count": 108,
   "id": "b44cd9a6",
   "metadata": {},
   "outputs": [],
   "source": [
    " pluto = Planet(\n",
    "    name='Pluto',\n",
    "    radius_metres=1184e3,\n",
    "    mass_kilograms=1.305e22,\n",
    "    orbital_period_seconds=7816012992,\n",
    "    surface_temperature_kelvin=55\n",
    ")"
   ]
  },
  {
   "cell_type": "code",
   "execution_count": 109,
   "id": "581cb9dc",
   "metadata": {},
   "outputs": [
    {
     "ename": "ValueError",
     "evalue": "radius_metres value -13 is not positive.",
     "output_type": "error",
     "traceback": [
      "\u001b[1;31m---------------------------------------------------------------------------\u001b[0m",
      "\u001b[1;31mValueError\u001b[0m                                Traceback (most recent call last)",
      "Input \u001b[1;32mIn [109]\u001b[0m, in \u001b[0;36m<cell line: 1>\u001b[1;34m()\u001b[0m\n\u001b[1;32m----> 1\u001b[0m pluto\u001b[38;5;241m.\u001b[39mradius_metres \u001b[38;5;241m=\u001b[39m \u001b[38;5;241m-\u001b[39m\u001b[38;5;241m13\u001b[39m\n",
      "Input \u001b[1;32mIn [107]\u001b[0m, in \u001b[0;36mPlanet._set_radius_metres\u001b[1;34m(self, value)\u001b[0m\n\u001b[0;32m     29\u001b[0m \u001b[38;5;28;01mdef\u001b[39;00m \u001b[38;5;21m_set_radius_metres\u001b[39m(\u001b[38;5;28mself\u001b[39m, value):\n\u001b[0;32m     30\u001b[0m     \u001b[38;5;28;01mif\u001b[39;00m value \u001b[38;5;241m<\u001b[39m\u001b[38;5;241m=\u001b[39m \u001b[38;5;241m0\u001b[39m:\n\u001b[1;32m---> 31\u001b[0m         \u001b[38;5;28;01mraise\u001b[39;00m \u001b[38;5;167;01mValueError\u001b[39;00m(\u001b[38;5;124mf\u001b[39m\u001b[38;5;124m\"\u001b[39m\u001b[38;5;124mradius_metres value \u001b[39m\u001b[38;5;132;01m{\u001b[39;00mvalue\u001b[38;5;132;01m}\u001b[39;00m\u001b[38;5;124m is not positive.\u001b[39m\u001b[38;5;124m\"\u001b[39m)\n\u001b[0;32m     32\u001b[0m     \u001b[38;5;28mself\u001b[39m\u001b[38;5;241m.\u001b[39m_radius_metres \u001b[38;5;241m=\u001b[39m value\n",
      "\u001b[1;31mValueError\u001b[0m: radius_metres value -13 is not positive."
     ]
    }
   ],
   "source": [
    "pluto.radius_metres = -13"
   ]
  },
  {
   "cell_type": "markdown",
   "id": "7fdb9336",
   "metadata": {},
   "source": [
    "#### Implementing a descriptor\n",
    "* descriptor wraps three functions for getting, setting and deletting attributes\n",
    "* these are the three operations supported by the methods of the descriptor protocol, namely:\n",
    "  + get operation backed by \\_\\_get\\_\\_to retrieve a value\n",
    "  + set operation backed by \\_\\_set\\_\\_ to set a value\n",
    "  + delete operation backed by \\_\\_delete\\_\\_ to delete a value\n",
    "* in the following code example, we implemented a descriptor class: Positive, with all these 3 methods implemented. \n",
    "  + in addition, it implements a \\_\\_init\\_\\_() to configure new instances of the descriptor\n",
    "* How to use the descriptor class?\n",
    "  + in Planet class file, import the Positive class\n",
    "  + for attributes that will follow the valid criteria defined by Positive class, bound each of these attributes to a Positive descriptor instance by assigning a new Positive instance to that attribute.\n",
    "  + then in the \\_\\_init\\_\\_ method of Planet class assign values to each of these attributes, which are now Positive instances\n",
    "    + what happens when these attributes are assigned values in \\_\\_init\\_\\_():\n",
    "      + when self.radius_metres = radius_metres is executed, it invokes Positive.\\_\\_set\\_\\_ method on the corresponding descriptor instance object\n",
    "+ what happens after a Planet object is created (for example, the pluto instance object in the example code)?\n",
    "  + when we call pluto.radius_metrse, we equvalently calls\n",
    "  ```python\n",
    "     positive.__get__(self, instance, owner)     \n",
    "  ```\n",
    "   Here the three arguments in Positive.\\_\\_get\\_\\_ function represents the following:\n",
    "    + self: the descriptor instance object referred to by the class attribute, which is radius_metres\n",
    "    + instance: pluto, the instance object from which descriptor was retrieved\n",
    "    + owner: object which owns the descriptor, which is the class to which the descriptor is bound, in this case, Planet\n",
    "    + to summarize, we are calling \n",
    "    \n",
    "    ```python\n",
    "    Positive.__get__(Planet.__dict__['radius_metres'], pluto, Planet)\n",
    "    \n",
    "    ```\n",
    "      + we will have to dig into the class dictionary to retrieve the descriptor object without triggering the descriptor mechanism\n",
    "      + note that the descriptor instance object is an attribute of Planet class object, not pluto instance object\n",
    "  + when we call pluto.radius_metres = value, we equavlently calls\n",
    "  \n",
    "  ```python\n",
    "  Positive.__set__(Planet.__dict__['radius_metres'], self, value)\n",
    "  ```\n",
    "  this assigns the value to the pluto instance object's radius_metres attribute\n",
    "* Positive instance does not know the class attribute name in Planet, the reference chain is from \n",
    "  + pluto to Planet class atrribute, which refers to a Positive Descriptor instance, then to Positive class method \\_\\_get\\_\\_. There is no way \\_\\_get\\_\\_() method know the attribute name from class attributes of Planet class"
   ]
  },
  {
   "cell_type": "code",
   "execution_count": 116,
   "id": "2241e2ec",
   "metadata": {},
   "outputs": [],
   "source": [
    "from weakref import WeakKeyDictionary\n",
    "\n",
    "\n",
    "class Positive:\n",
    "    \"\"\"A data-descriptor for positive numeric values.\"\"\"\n",
    "\n",
    "    def __init__(self):\n",
    "        self._instance_data = WeakKeyDictionary()\n",
    "\n",
    "    def __get__(self, instance, owner):\n",
    "        return self._instance_data[instance]\n",
    "\n",
    "    def __set__(self, instance, value):\n",
    "        if value <= 0:\n",
    "            raise ValueError(f\"Value {value} is not positive\")\n",
    "        self._instance_data[instance] = value\n",
    "\n",
    "    def __delete__(self, instance):\n",
    "        raise AttributeError(\"Cannot delete attribute\")\n"
   ]
  },
  {
   "cell_type": "code",
   "execution_count": 118,
   "id": "7f990e59",
   "metadata": {},
   "outputs": [],
   "source": [
    "class Planet:\n",
    "    def __init__(\n",
    "        self,\n",
    "        name,\n",
    "        radius_metres,\n",
    "        mass_kilograms,\n",
    "        orbital_period_seconds,\n",
    "        surface_temperature_kelvin,\n",
    "    ):\n",
    "        self.name = name\n",
    "        \n",
    "        # this equals to \n",
    "        # Positive.__set__(Planet.__dict__['radius_metres'], self, radius_metres)\n",
    "        self.radius_metres = radius_metres\n",
    "        self.mass_kilograms = mass_kilograms\n",
    "        self.orbital_period_seconds = orbital_period_seconds\n",
    "        self.surface_temperature_kelvin = surface_temperature_kelvin\n",
    "\n",
    "    @property\n",
    "    def name(self):\n",
    "        return self._name\n",
    "\n",
    "    @name.setter\n",
    "    def name(self, value):\n",
    "        if not value:\n",
    "            raise ValueError(\"Cannot set empty name\")\n",
    "        self._name = value\n",
    "\n",
    "    radius_metres = Positive()\n",
    "    mass_kilograms = Positive()\n",
    "    orbital_period_seconds = Positive()\n",
    "    surface_temperature_kelvin = Positive()\n"
   ]
  },
  {
   "cell_type": "code",
   "execution_count": 119,
   "id": "e738c07e",
   "metadata": {},
   "outputs": [],
   "source": [
    "pluto = Planet(\n",
    "    name='Pluto',\n",
    "    radius_metres=1184e3,\n",
    "    mass_kilograms=1.305e22,\n",
    "    orbital_period_seconds=7816012992,\n",
    "    surface_temperature_kelvin=55\n",
    ")"
   ]
  },
  {
   "cell_type": "code",
   "execution_count": 121,
   "id": "422b59f9",
   "metadata": {},
   "outputs": [
    {
     "data": {
      "text/plain": [
       "1184000.0"
      ]
     },
     "execution_count": 121,
     "metadata": {},
     "output_type": "execute_result"
    }
   ],
   "source": [
    "pluto.radius_metres"
   ]
  },
  {
   "cell_type": "code",
   "execution_count": 122,
   "id": "361dd863",
   "metadata": {},
   "outputs": [
    {
     "data": {
      "text/plain": [
       "1184000.0"
      ]
     },
     "execution_count": 122,
     "metadata": {},
     "output_type": "execute_result"
    }
   ],
   "source": [
    "Positive.__get__(Planet.__dict__['radius_metres'], pluto, Planet)"
   ]
  },
  {
   "cell_type": "code",
   "execution_count": 120,
   "id": "1ddb79c1",
   "metadata": {},
   "outputs": [
    {
     "ename": "ValueError",
     "evalue": "Value -13 is not positive",
     "output_type": "error",
     "traceback": [
      "\u001b[1;31m---------------------------------------------------------------------------\u001b[0m",
      "\u001b[1;31mValueError\u001b[0m                                Traceback (most recent call last)",
      "Input \u001b[1;32mIn [120]\u001b[0m, in \u001b[0;36m<cell line: 1>\u001b[1;34m()\u001b[0m\n\u001b[1;32m----> 1\u001b[0m pluto\u001b[38;5;241m.\u001b[39mradius_metres \u001b[38;5;241m=\u001b[39m \u001b[38;5;241m-\u001b[39m\u001b[38;5;241m13\u001b[39m\n",
      "Input \u001b[1;32mIn [116]\u001b[0m, in \u001b[0;36mPositive.__set__\u001b[1;34m(self, instance, value)\u001b[0m\n\u001b[0;32m     13\u001b[0m \u001b[38;5;28;01mdef\u001b[39;00m \u001b[38;5;21m__set__\u001b[39m(\u001b[38;5;28mself\u001b[39m, instance, value):\n\u001b[0;32m     14\u001b[0m     \u001b[38;5;28;01mif\u001b[39;00m value \u001b[38;5;241m<\u001b[39m\u001b[38;5;241m=\u001b[39m \u001b[38;5;241m0\u001b[39m:\n\u001b[1;32m---> 15\u001b[0m         \u001b[38;5;28;01mraise\u001b[39;00m \u001b[38;5;167;01mValueError\u001b[39;00m(\u001b[38;5;124mf\u001b[39m\u001b[38;5;124m\"\u001b[39m\u001b[38;5;124mValue \u001b[39m\u001b[38;5;132;01m{\u001b[39;00mvalue\u001b[38;5;132;01m}\u001b[39;00m\u001b[38;5;124m is not positive\u001b[39m\u001b[38;5;124m\"\u001b[39m)\n\u001b[0;32m     16\u001b[0m     \u001b[38;5;28mself\u001b[39m\u001b[38;5;241m.\u001b[39m_instance_data[instance] \u001b[38;5;241m=\u001b[39m value\n",
      "\u001b[1;31mValueError\u001b[0m: Value -13 is not positive"
     ]
    }
   ],
   "source": [
    "pluto.radius_metres = -13"
   ]
  },
  {
   "cell_type": "code",
   "execution_count": 124,
   "id": "5af7b939",
   "metadata": {},
   "outputs": [
    {
     "data": {
      "text/plain": [
       "{'_name': 'Pluto'}"
      ]
     },
     "execution_count": 124,
     "metadata": {},
     "output_type": "execute_result"
    }
   ],
   "source": [
    "pluto.__dict__"
   ]
  },
  {
   "cell_type": "code",
   "execution_count": 126,
   "id": "49dfdb18",
   "metadata": {},
   "outputs": [
    {
     "data": {
      "text/plain": [
       "1184000.0"
      ]
     },
     "execution_count": 126,
     "metadata": {},
     "output_type": "execute_result"
    }
   ],
   "source": [
    "Positive.__get__(Planet.__dict__['radius_metres'], pluto, Planet)"
   ]
  },
  {
   "cell_type": "markdown",
   "id": "4360365d",
   "metadata": {},
   "source": [
    "#### Storing instance data\n",
    "* in addition to \\_\\_class\\_\\_ attribute, Descriptor instance has an instance attribute called \\_instance\\_data\n",
    "  + \\_instance\\_data is an instance of a special collection type from Python standard library called WeakKeyDictionary\n",
    "  + WeakKeyDictionary is similar to a regular dictionary excpet that it won't retain value objects which are referred to only by the dictionary key references\n",
    "  + a WeakKeyDictionary owned by each descriptor instance is used to associate Planet instances with the values of the quantity represented by that descriptor although the descriptor itself doesn't know which quantity is being represented\n",
    "  + in the code of Positive class, for each instance, a WeakKeyDictionary is created, called \\_instance\\_data. Since we have 4 porperties, each one will have a separate Postive instance with the corresponding WeakKeyDictionary.\n",
    "  + This WeakKeyDictionary stores the value for each Planet instance, with the instance as the key and its corresponding property value as the value. As a result, a single Dictionary will store all radius_metres values for all Planet instances. Another dictionary will contain all kilograms values for all Planet instances, and so on.\n",
    "* by storing the instance attribute values completely outside the instances in a way that we can reliably retrieve them in \\_\\_get\\_\\_  "
   ]
  },
  {
   "cell_type": "code",
   "execution_count": 127,
   "id": "77de4e24",
   "metadata": {},
   "outputs": [],
   "source": [
    "def inner_planets():\n",
    "\n",
    "    mercury = Planet(\"Mercury\",\n",
    "                     radius_metres=2439.7e3,\n",
    "                     mass_kilograms=3.3022e23,\n",
    "                     orbital_period_seconds=7.60052e6,\n",
    "                     surface_temperature_kelvin=340)\n",
    "\n",
    "    venus = Planet(\"Venus\",\n",
    "                   radius_metres=6051.8e3,\n",
    "                   mass_kilograms=4.8676e24,\n",
    "                   orbital_period_seconds=1.94142e7,\n",
    "                   surface_temperature_kelvin=737)\n",
    "\n",
    "    earth = Planet(\"Earth\",\n",
    "                   radius_metres=6371.0e3,\n",
    "                   mass_kilograms=5.972e24,\n",
    "                   orbital_period_seconds=3.15581e7,\n",
    "                   surface_temperature_kelvin=288)\n",
    "\n",
    "    mars = Planet(\"Mars\",\n",
    "                  radius_metres=3389.5e3,\n",
    "                  mass_kilograms=6.4185e23,\n",
    "                  orbital_period_seconds=5.93543e7,\n",
    "                  surface_temperature_kelvin=210)\n",
    "\n",
    "    return mercury, venus, earth, mars"
   ]
  },
  {
   "cell_type": "code",
   "execution_count": 135,
   "id": "c187bd7a",
   "metadata": {},
   "outputs": [
    {
     "name": "stdout",
     "output_type": "stream",
     "text": [
      "radius metries for venus is 6051800.0\n",
      "{<__main__.Planet object at 0x000001741FC145E0>: 3389500.0,\n",
      " <__main__.Planet object at 0x000001741FC146A0>: 3389500.0,\n",
      " <__main__.Planet object at 0x000001741FC152D0>: 6051800.0,\n",
      " <__main__.Planet object at 0x000001741FC161D0>: 6051800.0,\n",
      " <__main__.Planet object at 0x000001741FC17A90>: 6371000.0,\n",
      " <__main__.Planet object at 0x000001741FC17BE0>: 6371000.0,\n",
      " <__main__.Planet object at 0x000001741FD58C10>: 2439700.0,\n",
      " <__main__.Planet object at 0x000001741FD58FA0>: 1184000.0,\n",
      " <__main__.Planet object at 0x000001741FD598D0>: 2439700.0}\n"
     ]
    }
   ],
   "source": [
    "from pprint import pprint\n",
    "# instantiate 4 Planets with their instance attributes stored as descriptors\n",
    "mercury, venus, earth, mars = inner_planets()\n",
    "\n",
    "# show that the instance attribute can be retrieved\n",
    "print(\"radius metries for venus is \"+ str(venus.radius_metres))\n",
    "\n",
    "# check the WeakKeyDictionary stored by radius_metres attribute of Planet class\n",
    "# Planet.__dict__[\"radius_metres\"] is a Positive instance, which has _instance_data attribute\n",
    "# this _instance_data is the WeakKeyDictionary storing all the values for radius_metres\n",
    "pprint(dict(Planet.__dict__[\"radius_metres\"]._instance_data))"
   ]
  },
  {
   "cell_type": "code",
   "execution_count": 138,
   "id": "52089795",
   "metadata": {},
   "outputs": [
    {
     "name": "stdout",
     "output_type": "stream",
     "text": [
      "{<__main__.Planet object at 0x000001741FC145E0>: 3389500.0,\n",
      " <__main__.Planet object at 0x000001741FC146A0>: 3389500.0,\n",
      " <__main__.Planet object at 0x000001741FC152D0>: 6051800.0,\n",
      " <__main__.Planet object at 0x000001741FC161D0>: 6051800.0,\n",
      " <__main__.Planet object at 0x000001741FC17A90>: 6371000.0,\n",
      " <__main__.Planet object at 0x000001741FC17BE0>: 6371000.0,\n",
      " <__main__.Planet object at 0x000001741FD58C10>: 2439700.0,\n",
      " <__main__.Planet object at 0x000001741FD58FA0>: 1184000.0,\n",
      " <__main__.Planet object at 0x000001741FD598D0>: 2439700.0}\n"
     ]
    }
   ],
   "source": [
    "del mercury\n",
    "pprint(dict(Planet.__dict__[\"radius_metres\"]._instance_data))"
   ]
  },
  {
   "cell_type": "markdown",
   "id": "fbe8043e",
   "metadata": {},
   "source": [
    "#### Accessing Descriptors via class\n",
    "* we can access the Positive instance of an attribute by \\_\\_dict\\_\\_ of the class object, but we can not directly access it from the class object (see the code in the following cell)\n",
    "  + this is because when we access by dot operator, we trigger the descriptor method \\_\\_get\\_\\_(self, None, owner), since we directly use Planet, we don't provide an instance to it, and we get error since WeakKeyDictionary can not find the key to refer to\n",
    "  + to solve this problem we can modify the class Positive code to return the Positive instance itself when instance argument is None, as shown in the example code"
   ]
  },
  {
   "cell_type": "code",
   "execution_count": 140,
   "id": "190317e0",
   "metadata": {},
   "outputs": [
    {
     "data": {
      "text/plain": [
       "<__main__.Positive at 0x1741fd584c0>"
      ]
     },
     "execution_count": 140,
     "metadata": {},
     "output_type": "execute_result"
    }
   ],
   "source": [
    "# access Positive class instance from __dict__ of Planet class\n",
    "Planet.__dict__[\"radius_metres\"]"
   ]
  },
  {
   "cell_type": "code",
   "execution_count": 142,
   "id": "e41c62c6",
   "metadata": {},
   "outputs": [
    {
     "ename": "TypeError",
     "evalue": "cannot create weak reference to 'NoneType' object",
     "output_type": "error",
     "traceback": [
      "\u001b[1;31m---------------------------------------------------------------------------\u001b[0m",
      "\u001b[1;31mTypeError\u001b[0m                                 Traceback (most recent call last)",
      "Input \u001b[1;32mIn [142]\u001b[0m, in \u001b[0;36m<cell line: 2>\u001b[1;34m()\u001b[0m\n\u001b[0;32m      1\u001b[0m \u001b[38;5;66;03m# direct access from Planet class doesn't work\u001b[39;00m\n\u001b[1;32m----> 2\u001b[0m \u001b[43mPlanet\u001b[49m\u001b[38;5;241;43m.\u001b[39;49m\u001b[43mradius_metres\u001b[49m\n",
      "Input \u001b[1;32mIn [116]\u001b[0m, in \u001b[0;36mPositive.__get__\u001b[1;34m(self, instance, owner)\u001b[0m\n\u001b[0;32m     10\u001b[0m \u001b[38;5;28;01mdef\u001b[39;00m \u001b[38;5;21m__get__\u001b[39m(\u001b[38;5;28mself\u001b[39m, instance, owner):\n\u001b[1;32m---> 11\u001b[0m     \u001b[38;5;28;01mreturn\u001b[39;00m \u001b[38;5;28;43mself\u001b[39;49m\u001b[38;5;241;43m.\u001b[39;49m\u001b[43m_instance_data\u001b[49m\u001b[43m[\u001b[49m\u001b[43minstance\u001b[49m\u001b[43m]\u001b[49m\n",
      "File \u001b[1;32mC:\\Program Files\\Python310\\lib\\weakref.py:416\u001b[0m, in \u001b[0;36mWeakKeyDictionary.__getitem__\u001b[1;34m(self, key)\u001b[0m\n\u001b[0;32m    415\u001b[0m \u001b[38;5;28;01mdef\u001b[39;00m \u001b[38;5;21m__getitem__\u001b[39m(\u001b[38;5;28mself\u001b[39m, key):\n\u001b[1;32m--> 416\u001b[0m     \u001b[38;5;28;01mreturn\u001b[39;00m \u001b[38;5;28mself\u001b[39m\u001b[38;5;241m.\u001b[39mdata[\u001b[43mref\u001b[49m\u001b[43m(\u001b[49m\u001b[43mkey\u001b[49m\u001b[43m)\u001b[49m]\n",
      "\u001b[1;31mTypeError\u001b[0m: cannot create weak reference to 'NoneType' object"
     ]
    }
   ],
   "source": [
    "# direct access from Planet class doesn't work\n",
    "Planet.radius_metres"
   ]
  },
  {
   "cell_type": "code",
   "execution_count": 145,
   "id": "b358e72c",
   "metadata": {},
   "outputs": [],
   "source": [
    "from weakref import WeakKeyDictionary\n",
    "\n",
    "\n",
    "class Positive:\n",
    "    \"\"\"A data-descriptor for positive numeric values.\"\"\"\n",
    "\n",
    "    def __init__(self):\n",
    "        self._instance_data = WeakKeyDictionary()\n",
    "\n",
    "    def __get__(self, instance, owner):\n",
    "        if instance is None:\n",
    "            return self\n",
    "        return self._instance_data[instance]\n",
    "\n",
    "    def __set__(self, instance, value):\n",
    "        if value <= 0:\n",
    "            raise ValueError(f\"Value {value} is not positive\")\n",
    "        self._instance_data[instance] = value\n",
    "\n",
    "    def __delete__(self, instance):\n",
    "        raise AttributeError(\"Cannot delete attribute\")\n",
    "\n",
    "class Planet:\n",
    "    def __init__(\n",
    "        self,\n",
    "        name,\n",
    "        radius_metres,\n",
    "        mass_kilograms,\n",
    "        orbital_period_seconds,\n",
    "        surface_temperature_kelvin,\n",
    "    ):\n",
    "        self.name = name\n",
    "        \n",
    "        # this equals to \n",
    "        # Positive.__set__(Planet.__dict__['radius_metres'], self, radius_metres)\n",
    "        self.radius_metres = radius_metres\n",
    "        self.mass_kilograms = mass_kilograms\n",
    "        self.orbital_period_seconds = orbital_period_seconds\n",
    "        self.surface_temperature_kelvin = surface_temperature_kelvin\n",
    "\n",
    "    @property\n",
    "    def name(self):\n",
    "        return self._name\n",
    "\n",
    "    @name.setter\n",
    "    def name(self, value):\n",
    "        if not value:\n",
    "            raise ValueError(\"Cannot set empty name\")\n",
    "        self._name = value\n",
    "\n",
    "    radius_metres = Positive()\n",
    "    mass_kilograms = Positive()\n",
    "    orbital_period_seconds = Positive()\n",
    "    surface_temperature_kelvin = Positive()\n",
    "        \n",
    "def inner_planets():\n",
    "\n",
    "    mercury = Planet(\"Mercury\",\n",
    "                     radius_metres=2439.7e3,\n",
    "                     mass_kilograms=3.3022e23,\n",
    "                     orbital_period_seconds=7.60052e6,\n",
    "                     surface_temperature_kelvin=340)\n",
    "\n",
    "    venus = Planet(\"Venus\",\n",
    "                   radius_metres=6051.8e3,\n",
    "                   mass_kilograms=4.8676e24,\n",
    "                   orbital_period_seconds=1.94142e7,\n",
    "                   surface_temperature_kelvin=737)\n",
    "\n",
    "    earth = Planet(\"Earth\",\n",
    "                   radius_metres=6371.0e3,\n",
    "                   mass_kilograms=5.972e24,\n",
    "                   orbital_period_seconds=3.15581e7,\n",
    "                   surface_temperature_kelvin=288)\n",
    "\n",
    "    mars = Planet(\"Mars\",\n",
    "                  radius_metres=3389.5e3,\n",
    "                  mass_kilograms=6.4185e23,\n",
    "                  orbital_period_seconds=5.93543e7,\n",
    "                  surface_temperature_kelvin=210)\n",
    "\n",
    "    return mercury, venus, earth, mars\n",
    "\n",
    "mercury, venus, earth, mars = inner_planets()"
   ]
  },
  {
   "cell_type": "code",
   "execution_count": 146,
   "id": "c1a76103",
   "metadata": {},
   "outputs": [
    {
     "data": {
      "text/plain": [
       "<__main__.Positive at 0x1741f63e230>"
      ]
     },
     "execution_count": 146,
     "metadata": {},
     "output_type": "execute_result"
    }
   ],
   "source": [
    "Planet.radius_metres"
   ]
  },
  {
   "cell_type": "markdown",
   "id": "509f1aa6",
   "metadata": {},
   "source": [
    "#### Setting descriptor names\n",
    "* Descriptor objects don't know the names of the references to which they are bound (attribute name)\n",
    "* starting from Python 3.6, this can be solved with a metaclass on the descriptor-owning class\n",
    "  + this is a main use case for meta class in python\n",
    "+ Since python 3.6, a special optional method, called \\_\\_set\\_name\\_\\_ is introduced on descriptors\n",
    "  + \\_\\_set\\_name\\_\\_ is invoked when owning class is created to let the descriptor instance know its name"
   ]
  },
  {
   "cell_type": "code",
   "execution_count": 150,
   "id": "7d768d80",
   "metadata": {},
   "outputs": [],
   "source": [
    "from weakref import WeakKeyDictionary\n",
    "\n",
    "\n",
    "class Positive:\n",
    "    \"\"\"A data-descriptor for positive numeric values.\"\"\"\n",
    "\n",
    "    def __init__(self):\n",
    "        self._instance_data = WeakKeyDictionary()\n",
    "        \n",
    "    def __set_name__(self, owner, name):\n",
    "        self._name = name\n",
    "\n",
    "    def __get__(self, instance, owner):\n",
    "        if instance is None:\n",
    "            return self\n",
    "        return self._instance_data[instance]\n",
    "\n",
    "    def __set__(self, instance, value):\n",
    "        if value <= 0:\n",
    "            raise ValueError(f\"{self._name} {value} is not positive\")\n",
    "        self._instance_data[instance] = value\n",
    "\n",
    "    def __delete__(self, instance):\n",
    "        raise AttributeError(f\"Cannot delete attribute {self._name}\")\n",
    "\n",
    "class Planet:\n",
    "    def __init__(\n",
    "        self,\n",
    "        name,\n",
    "        radius_metres,\n",
    "        mass_kilograms,\n",
    "        orbital_period_seconds,\n",
    "        surface_temperature_kelvin,\n",
    "    ):\n",
    "        self.name = name\n",
    "        \n",
    "        # this equals to \n",
    "        # Positive.__set__(Planet.__dict__['radius_metres'], self, radius_metres)\n",
    "        self.radius_metres = radius_metres\n",
    "        self.mass_kilograms = mass_kilograms\n",
    "        self.orbital_period_seconds = orbital_period_seconds\n",
    "        self.surface_temperature_kelvin = surface_temperature_kelvin\n",
    "\n",
    "    @property\n",
    "    def name(self):\n",
    "        return self._name\n",
    "\n",
    "    @name.setter\n",
    "    def name(self, value):\n",
    "        if not value:\n",
    "            raise ValueError(\"Cannot set empty name\")\n",
    "        self._name = value\n",
    "\n",
    "    radius_metres = Positive()\n",
    "    mass_kilograms = Positive()\n",
    "    orbital_period_seconds = Positive()\n",
    "    surface_temperature_kelvin = Positive()"
   ]
  },
  {
   "cell_type": "code",
   "execution_count": 151,
   "id": "cab351de",
   "metadata": {},
   "outputs": [],
   "source": [
    "mercury = Planet(\"Mercury\",\n",
    "                     radius_metres=2439.7e3,\n",
    "                     mass_kilograms=3.3022e23,\n",
    "                     orbital_period_seconds=7.60052e6,\n",
    "                     surface_temperature_kelvin=340)"
   ]
  },
  {
   "cell_type": "code",
   "execution_count": 152,
   "id": "ea6a2347",
   "metadata": {},
   "outputs": [
    {
     "ename": "ValueError",
     "evalue": "radius_metres -1 is not positive",
     "output_type": "error",
     "traceback": [
      "\u001b[1;31m---------------------------------------------------------------------------\u001b[0m",
      "\u001b[1;31mValueError\u001b[0m                                Traceback (most recent call last)",
      "Input \u001b[1;32mIn [152]\u001b[0m, in \u001b[0;36m<cell line: 1>\u001b[1;34m()\u001b[0m\n\u001b[1;32m----> 1\u001b[0m mercury\u001b[38;5;241m.\u001b[39mradius_metres \u001b[38;5;241m=\u001b[39m \u001b[38;5;241m-\u001b[39m\u001b[38;5;241m1\u001b[39m\n",
      "Input \u001b[1;32mIn [150]\u001b[0m, in \u001b[0;36mPositive.__set__\u001b[1;34m(self, instance, value)\u001b[0m\n\u001b[0;32m     18\u001b[0m \u001b[38;5;28;01mdef\u001b[39;00m \u001b[38;5;21m__set__\u001b[39m(\u001b[38;5;28mself\u001b[39m, instance, value):\n\u001b[0;32m     19\u001b[0m     \u001b[38;5;28;01mif\u001b[39;00m value \u001b[38;5;241m<\u001b[39m\u001b[38;5;241m=\u001b[39m \u001b[38;5;241m0\u001b[39m:\n\u001b[1;32m---> 20\u001b[0m         \u001b[38;5;28;01mraise\u001b[39;00m \u001b[38;5;167;01mValueError\u001b[39;00m(\u001b[38;5;124mf\u001b[39m\u001b[38;5;124m\"\u001b[39m\u001b[38;5;132;01m{\u001b[39;00m\u001b[38;5;28mself\u001b[39m\u001b[38;5;241m.\u001b[39m_name\u001b[38;5;132;01m}\u001b[39;00m\u001b[38;5;124m \u001b[39m\u001b[38;5;132;01m{\u001b[39;00mvalue\u001b[38;5;132;01m}\u001b[39;00m\u001b[38;5;124m is not positive\u001b[39m\u001b[38;5;124m\"\u001b[39m)\n\u001b[0;32m     21\u001b[0m     \u001b[38;5;28mself\u001b[39m\u001b[38;5;241m.\u001b[39m_instance_data[instance] \u001b[38;5;241m=\u001b[39m value\n",
      "\u001b[1;31mValueError\u001b[0m: radius_metres -1 is not positive"
     ]
    }
   ],
   "source": [
    "mercury.radius_metres = -1"
   ]
  },
  {
   "cell_type": "markdown",
   "id": "7a8689e9",
   "metadata": {},
   "source": [
    "#### Data Descriptors and Non-data Descriptors\n",
    "* a non-data descriptor only implements \\_\\_get\\_\\_ and therefore is read-ony\n",
    "* a data descriptor also implement \\_\\_set\\_\\_ or \\_\\_delete\\_\\_ or both\n",
    "+ attribute lookup machinery gives data and non-data descriptors different precedence with respect to instance attributes\n",
    "  + data descriptors take precedence over instance attributes in \\_\\_dict\\_\\_, which takes precedence over non-data descriptors\n",
    "* the order is described in the following cell:\n",
    "  + first get the class of the object\n",
    "  + check if the attribute is a class attribute and store it. If not, class_attribute will be marked as undefined\n",
    "  + then check if we can retrieve \\_\\_get\\_\\_ from the class attribute, if succeed, we know this is a sort of descriptor, otherwise, descriptor_get will be marked as undefined\n",
    "  + if descriptor\\_get is not undefined, then check if the cls_attribute has \\_\\_set\\_\\_ or \\_\\_delete\\_\\_ attributes, if so, this is a data descriptor, and return the attribute by descriptor\\_get\n",
    "  + else, follow the oreder of instance attribute, nondata-descriptor, class attribute, \\_\\_getattr\\_\\_ fallback and AttributeError\n",
    "* for code example of data and nondata descriptors, see the cell"
   ]
  },
  {
   "cell_type": "code",
   "execution_count": null,
   "id": "a1e59b2a",
   "metadata": {},
   "outputs": [],
   "source": [
    "class object:\n",
    "\n",
    "    def __getattribute__(obj, name):\n",
    "        cls = type(obj)\n",
    "        cls_attribute = getattr(cls, name, undefined)\n",
    "        descriptor_get = getattr(type(cls_attribute), \"__get__\", undefined)\n",
    "        if descriptor_get is not undefined:\n",
    "            if (hasattr(type(cls_attribute), \"__set__\")\n",
    "                or hasattr(type(cls_attribute), \"__delete__\")):\n",
    "                return descriptor_get(cls_attribute, obj, cls)  # data descriptor\n",
    "        if name in vars(obj):\n",
    "            return vars(obj)[name]                              # instance attribute\n",
    "        if descriptor_get is not undefined:\n",
    "            return descriptor_get(cls_attribute, obj, cls)      # non-data descriptor\n",
    "        if cls_attribute is not undefined:                       \n",
    "            return cls_attribute                                # class attribute\n",
    "        if hasattr(cls, \"__getattr__\"):\n",
    "            return cls.__getattr__(obj, name)                   # __getattr__ fallback\n",
    "        raise AttributeError(f\"{cls.__name__} object has no attribute {name}\")\n"
   ]
  },
  {
   "cell_type": "code",
   "execution_count": 153,
   "id": "87c293a8",
   "metadata": {},
   "outputs": [],
   "source": [
    "# examples of data and nondata descriptors\n",
    "class DataDescriptor:\n",
    "\n",
    "    def __get__(self, instance, owner):\n",
    "        print(f\"{type(self).__name__}.__get__({self!r}, {instance!r}, {owner!r}\")\n",
    "\n",
    "    def __set__(self, instance, value):\n",
    "        print(f\"{type(self).__name__}.__set__({self!r}, {instance!r}, {owner!r}\")\n",
    "\n",
    "\n",
    "class NonDataDescriptor:\n",
    "\n",
    "    def __get__(self, instance, owner):\n",
    "        print(f\"{type(self).__name__}.__get__({self!r}, {instance!r}, {owner!r}\")\n",
    "\n",
    "\n",
    "class Owner:\n",
    "\n",
    "      a = DataDescriptor()\n",
    "      b = NonDataDescriptor()"
   ]
  },
  {
   "cell_type": "code",
   "execution_count": 155,
   "id": "a052da1d",
   "metadata": {},
   "outputs": [
    {
     "name": "stdout",
     "output_type": "stream",
     "text": [
      "DataDescriptor.__get__(<__main__.DataDescriptor object at 0x000001741F8956F0>, <__main__.Owner object at 0x000001741F938DC0>, <class '__main__.Owner'>\n"
     ]
    }
   ],
   "source": [
    "# create an owner object\n",
    "obj = Owner()\n",
    "\n",
    "# check its a attribute, which triggers descriptor mechanism and print messages from __get__\n",
    "obj.a"
   ]
  },
  {
   "cell_type": "code",
   "execution_count": 156,
   "id": "117d473a",
   "metadata": {},
   "outputs": [
    {
     "name": "stdout",
     "output_type": "stream",
     "text": [
      "DataDescriptor.__get__(<__main__.DataDescriptor object at 0x000001741F8956F0>, <__main__.Owner object at 0x000001741F938DC0>, <class '__main__.Owner'>\n"
     ]
    }
   ],
   "source": [
    "# create another instance attribute also named as a\n",
    "obj.__dict__['a'] = \"instance\"\n",
    "# when we access attribute a, since data descriptor \n",
    "# has precedence over instance attribute, we still get messages\n",
    "# from data descriptor attribute\n",
    "obj.a"
   ]
  },
  {
   "cell_type": "code",
   "execution_count": 157,
   "id": "9e450963",
   "metadata": {},
   "outputs": [
    {
     "name": "stdout",
     "output_type": "stream",
     "text": [
      "NonDataDescriptor.__get__(<__main__.NonDataDescriptor object at 0x000001741F895840>, <__main__.Owner object at 0x000001741F938DC0>, <class '__main__.Owner'>\n"
     ]
    }
   ],
   "source": [
    "# now if we do the same thing to attribute b, which is non-data descriptor\n",
    "# we can see instance attribute take the precedence over non-data descriptor\n",
    "obj.b"
   ]
  },
  {
   "cell_type": "code",
   "execution_count": 158,
   "id": "0c36d5f0",
   "metadata": {},
   "outputs": [
    {
     "data": {
      "text/plain": [
       "'instance'"
      ]
     },
     "execution_count": 158,
     "metadata": {},
     "output_type": "execute_result"
    }
   ],
   "source": [
    "obj.__dict__['b']='instance'\n",
    "obj.b"
   ]
  },
  {
   "cell_type": "code",
   "execution_count": null,
   "id": "43aebb77",
   "metadata": {},
   "outputs": [],
   "source": []
  }
 ],
 "metadata": {
  "kernelspec": {
   "display_name": "Python 3 (ipykernel)",
   "language": "python",
   "name": "python3"
  },
  "language_info": {
   "codemirror_mode": {
    "name": "ipython",
    "version": 3
   },
   "file_extension": ".py",
   "mimetype": "text/x-python",
   "name": "python",
   "nbconvert_exporter": "python",
   "pygments_lexer": "ipython3",
   "version": "3.10.4"
  }
 },
 "nbformat": 4,
 "nbformat_minor": 5
}
