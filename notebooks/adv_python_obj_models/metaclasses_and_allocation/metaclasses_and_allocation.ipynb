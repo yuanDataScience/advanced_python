{
 "cells": [
  {
   "cell_type": "markdown",
   "id": "41513466",
   "metadata": {},
   "source": [
    "## Metaclasses and allocation"
   ]
  },
  {
   "cell_type": "markdown",
   "id": "d96d6ffb",
   "metadata": {},
   "source": [
    "### Instance creation\n",
    "* when creating an object, the \\_\\_init\\_\\_ method will be invoke. Before this method is invoked, the object has already been created, and passed to this method as 'self'\n",
    "* during initialization process, the attributes of the object are assigned/modified by object.\\_\\_setattr\\_\\_ method\n",
    "* \\_\\_init\\_\\_ method doesn't return anything. It just mutate what the self object was given\n",
    "* since \\_\\_init\\_\\_ method doesn't create new object, which method does this?\n",
    "  + \\_\\_new\\_\\_\n",
    "  + usually \\_\\_new\\_\\_ is inherited from Object. This method allocates object which is then passed to \\_\\_init\\_\\_ as self\n",
    "  + \\_\\_new\\_\\_ is an implicit static method having cls as its first argument\n",
    "  + cls is the class of the object which will be allocated. In the code example, this will be ChessCoordinate class object\n",
    "  + this method must use the cls as the first argument with other arguments forwarded from constructor calls, to create an object and and return the object\n",
    "    + example code shows that the arguments provided when instantialte the ChessCoordinate are received from \\_\\_new\\_\\_()\n",
    "    + the \\_\\_new\\_\\_() method only use cls to create the object with an id, and then return the object\n",
    "    + the object and other arguments of object instantiation ('d', and 4) are forwarded to \\_\\_init\\_\\_ as file and rank, respectively\n",
    "  "
   ]
  },
  {
   "cell_type": "code",
   "execution_count": 16,
   "id": "7a05ee72",
   "metadata": {},
   "outputs": [],
   "source": [
    "class ChessCoordinate:\n",
    "    \n",
    "    def __new__(cls, *args, **kwargs):\n",
    "        print(f\"cls = {cls.__name__}\")\n",
    "        print(f\"args = {args!r}\")\n",
    "        print(f\"kwargs = {kwargs!r}\")\n",
    "        obj = object.__new__(cls)\n",
    "        print(f\"id(obj) = {id(obj)}\")\n",
    "        return obj\n",
    "    \n",
    "    def __init__(self, file, rank):\n",
    "        \n",
    "        print(f\"id(self) = {id(self)}\")\n",
    "        \n",
    "        if len(file) != 1:\n",
    "            raise ValueError(\n",
    "                f\"{type(self).__name__} component file {file!r} \"\n",
    "                f\"does not have a length of one.\"\n",
    "            )\n",
    "            \n",
    "        if file not in \"abcdefgh\":\n",
    "            raise ValueError(\n",
    "                f\"{type(self).__name__} component file {file!r} \"\n",
    "                f\"is out of range.\"\n",
    "            )\n",
    "        \n",
    "        self._file = file\n",
    "        self._rank = rank\n",
    "        \n",
    "    @property\n",
    "    def file(self):\n",
    "        return self._file\n",
    "\n",
    "    @property\n",
    "    def rank(self):\n",
    "        return self._rank\n",
    "\n",
    "    def __repr__(self):\n",
    "        return f\"{type(self).__name__}(file={self.file}, rank={self.rank})\"\n",
    "\n",
    "    def __str__(self):\n",
    "        return f\"{self.file}{self.rank}\"       "
   ]
  },
  {
   "cell_type": "code",
   "execution_count": 17,
   "id": "fc8d00e9",
   "metadata": {},
   "outputs": [
    {
     "name": "stdout",
     "output_type": "stream",
     "text": [
      "cls = ChessCoordinate\n",
      "args = ('d', 4)\n",
      "kwargs = {}\n",
      "id(obj) = 1854128552736\n",
      "id(self) = 1854128552736\n",
      "d4\n"
     ]
    }
   ],
   "source": [
    "white_queen = ChessCoordinate(\"d\", 4)\n",
    "print(white_queen)\n",
    "        "
   ]
  },
  {
   "cell_type": "code",
   "execution_count": 23,
   "id": "3d01c4b5",
   "metadata": {},
   "outputs": [],
   "source": [
    "class ChessCoordinate:\n",
    "    \n",
    "    def __new__(cls, *args, **kwargs):        \n",
    "        obj = object.__new__(cls)        \n",
    "        return obj\n",
    "    \n",
    "    def __init__(self, file, rank):        \n",
    "              \n",
    "        if len(file) != 1:\n",
    "            raise ValueError(\n",
    "                f\"{type(self).__name__} component file {file!r} \"\n",
    "                f\"does not have a length of one.\"\n",
    "            )\n",
    "            \n",
    "        if file not in \"abcdefgh\":\n",
    "            raise ValueError(\n",
    "                f\"{type(self).__name__} component file {file!r} \"\n",
    "                f\"is out of range.\"\n",
    "            )\n",
    "        \n",
    "        self._file = file\n",
    "        self._rank = rank\n",
    "        \n",
    "    @property\n",
    "    def file(self):\n",
    "        return self._file\n",
    "\n",
    "    @property\n",
    "    def rank(self):\n",
    "        return self._rank\n",
    "\n",
    "    def __repr__(self):\n",
    "        return f\"{type(self).__name__}(file={self.file}, rank={self.rank})\"\n",
    "\n",
    "    def __str__(self):\n",
    "        return f\"{self.file}{self.rank}\"       "
   ]
  },
  {
   "cell_type": "code",
   "execution_count": 24,
   "id": "9a0283c4",
   "metadata": {},
   "outputs": [
    {
     "name": "stdout",
     "output_type": "stream",
     "text": [
      "1616 KB\n"
     ]
    }
   ],
   "source": [
    "# code for measuring memory usage\n",
    "import tracemalloc\n",
    "tracemalloc.start()\n",
    "white_queens = [ ChessCoordinate(\"d\", 4) for _ in range(10000)]\n",
    "_, peak = tracemalloc.get_traced_memory()\n",
    "tracemalloc.stop()\n",
    "peak_kb = peak / 10 **3\n",
    "print(f\"{peak_kb:.0f} KB\")"
   ]
  },
  {
   "cell_type": "markdown",
   "id": "36eceeab",
   "metadata": {},
   "source": [
    "### Customizing allocation\n",
    "#### Interning\n",
    "* re-using objects of equal value on-demand instead of creating new objects\n",
    "* we can interning objects by overriding \\_\\_new\\_\\_\n",
    "* when we create a large numbers of object, the memory usage is linearly increased\n",
    "* for our use case, since there are only 64 positions on the chessboard, we only need 64 or 32 boards to record all the positions on the board.\n",
    "+ to implement the interning, we move the code from \\_\\_init\\_\\_ to \\_\\_new\\_\\_ and put arguments of instantiation to \\_\\_new\\_\\_\n",
    "  + we change the self to cls before object creation, and after ChessCoordinate object is created, assign the \\_file and \\_rank to object, rather than self in \\_\\_new\\_\\_\n",
    "  + we created a dictionary in the class definition to store the ChessCoordinate instance using its file and rank combination as the key. We only create new ChessCoordinate instances corresponding to a new key and store the created object to the \\_interned dictionary. Otherwise, we just retrieve the object from the dictionary and return it \n",
    "  + we then delete the \\_\\_init\\_\\_ method\n",
    "* intering can reduce the memory usage by reducing the number of instances created\n",
    "  + it can only used for immutable value types"
   ]
  },
  {
   "cell_type": "code",
   "execution_count": 25,
   "id": "a57639ba",
   "metadata": {},
   "outputs": [],
   "source": [
    "class ChessCoordinate:\n",
    "    \n",
    "    _interned = {}\n",
    "    \n",
    "    def __new__(cls, file, rank):\n",
    "        \n",
    "        if len(file) != 1:\n",
    "            raise ValueError(\n",
    "                f\"{cls.__name__} component file {file!r} \"\n",
    "                f\"does not have a length of one.\"\n",
    "            )\n",
    "            \n",
    "        if file not in \"abcdefgh\":\n",
    "            raise ValueError(\n",
    "                f\"{cls.__name__} component file {file!r} \"\n",
    "                f\"is out of range.\"\n",
    "            )\n",
    "        \n",
    "        key = (file, rank)\n",
    "        if key not in cls._interned:\n",
    "            obj = object.__new__(cls) \n",
    "            obj._file = file\n",
    "            obj._rank = rank\n",
    "            cls._interned[key] = obj\n",
    "        \n",
    "        return cls._interned[key]\n",
    "    \n",
    "            \n",
    "    @property\n",
    "    def file(self):\n",
    "        return self._file\n",
    "\n",
    "    @property\n",
    "    def rank(self):\n",
    "        return self._rank\n",
    "\n",
    "    def __repr__(self):\n",
    "        return f\"{type(self).__name__}(file={self.file}, rank={self.rank})\"\n",
    "\n",
    "    def __str__(self):\n",
    "        return f\"{self.file}{self.rank}\"       "
   ]
  },
  {
   "cell_type": "code",
   "execution_count": 26,
   "id": "9a06fe14",
   "metadata": {},
   "outputs": [
    {
     "name": "stdout",
     "output_type": "stream",
     "text": [
      "98 KB\n"
     ]
    }
   ],
   "source": [
    "# code for measuring memory usage\n",
    "import tracemalloc\n",
    "tracemalloc.start()\n",
    "white_queens = [ ChessCoordinate(\"d\", 4) for _ in range(10000)]\n",
    "_, peak = tracemalloc.get_traced_memory()\n",
    "tracemalloc.stop()\n",
    "peak_kb = peak / 10 **3\n",
    "print(f\"{peak_kb:.0f} KB\")"
   ]
  },
  {
   "cell_type": "markdown",
   "id": "acae8afa",
   "metadata": {},
   "source": [
    "#### Summary of instance allocation and creation\n",
    "* the special method \\_\\_new\\_\\_ allocates and return new instances\n",
    "* the new instance is passed to \\_\\_init\\_\\_ as self\n",
    "* the ultimat allocator is object.\\_\\_new\\_\\_(cls) that is responsible for allocating all instances. It must be passed the class of object to be allocated\n",
    "* we can override \\_\\_new\\_\\_ in our own classes to customize allocation\n",
    "  + the \\_\\_new\\_\\_(cls) method is implicitly static, which accept the class of the new instance as its first argument, and does not require classmethod or staticmethod decorators\n",
    "* interning reuses existing objects of equal value (in our code example, the key of the instance represented by file and rank) to save memory usage \n",
    "  + this can be useful when certain values of immutable value types are very common, or when the domain of values is small and finite "
   ]
  },
  {
   "cell_type": "markdown",
   "id": "a8a96e3b",
   "metadata": {},
   "source": [
    "### Metaclasses and Class Creation"
   ]
  },
  {
   "cell_type": "markdown",
   "id": "83557e99",
   "metadata": {},
   "source": [
    "#### class creation and Metaclasses\n",
    "* metaclasses\n",
    "  + class of classes\n",
    "  + type of any class object in Python is its metaclass, and the default metaclass is type, including type class itself\n",
    "* when we define a class, we implicitly use object as the default base class, and type as the default metaclass. Specifically,\n",
    "\n",
    "```python\n",
    "class Widget:\n",
    "    pass\n",
    "``` \n",
    "can be explicitly expressed as \n",
    "\n",
    "```python\n",
    "class Widget(object, metaclass=type):\n",
    "    pass\n",
    "```\n",
    "* class definition process\n",
    "  + when we define a class using class Widget,\n",
    "    + the new class's metaclass creates an empty namespace dictionary\n",
    "    + python runtime extracts the content of the class definition block and populates the dictionary\n",
    "    + python runtime then hand it back to metaclass \n",
    "    + metaclass convert it into the class object that bound to class name (allocates class object)\n",
    "  + in the following code, the name, bases, and namespace arguments contain information collected during execution of class definition, class attributes and method definitions inside the class block\n",
    "  + by providing our own metaclass, we can customize these behaviors  \n",
    "  + to use python code to describe the process:\n",
    "  ```python\n",
    "    class Widget:\n",
    "        pass\n",
    "    \n",
    "    # the following are what happens:\n",
    "    \n",
    "    name = 'Widget'      # class name is Widget\n",
    "    metaclass = type     # metaclass is the default, type\n",
    "    bases = ()           # no base class other than the implicit object\n",
    "    kwargs = {}          # no keyword args\n",
    "    \n",
    "    # metaclass create a new namespace, which behaviors like a dictionary\n",
    "    namespace = metaclass.__prepare__(name, bases, **kwargs)\n",
    "    # after this call, python runtime populates this namespace dictionary with entries based on\n",
    "    # the contents of the class block in source code\n",
    "    \n",
    "    # metaclass's __new__ method is called to allocate the object\n",
    "    Widget = metaclass.__new__(metaclass, name, bases, namespace, **kwargs)\n",
    "    \n",
    "    # then metaclass's __init__ method is called to initialize the class object\n",
    "    metaclass.__init__(Widget, name, bases, namespace, **kwargs)\n",
    "    \n",
    "    ```    "
   ]
  },
  {
   "cell_type": "code",
   "execution_count": 27,
   "id": "37c28101",
   "metadata": {},
   "outputs": [
    {
     "name": "stdout",
     "output_type": "stream",
     "text": [
      "<class '__main__.Widget'>\n",
      "<class 'type'>\n",
      "<class 'type'>\n"
     ]
    }
   ],
   "source": [
    "class Widget:\n",
    "    pass\n",
    "w = Widget()\n",
    "\n",
    "# metaclass of an instance is its class\n",
    "print(w.__class__)\n",
    "print(w.__class__.__class__)\n",
    "print(w.__class__.__class__.__class__)"
   ]
  },
  {
   "cell_type": "markdown",
   "id": "641677f7",
   "metadata": {},
   "source": [
    "#### code demo of the process\n",
    "* the following code shows the entire process by defining our own metaclass: TracingMeta\n",
    "* TracingMeta just print out the cls, name, namespace, bases, keyword args values during the new object creation process\n",
    "* it inherits the default metaclass, type\n",
    "* all the methods in TracingMeta just called the super(), which are the methods executed by type metaclass\n",
    "* note that \\_\\_new\\_\\_ is an implicit class method, and we need to decorate \\_\\_prepare\\_\\_ by @classmethod"
   ]
  },
  {
   "cell_type": "code",
   "execution_count": 30,
   "id": "fe9a1194",
   "metadata": {},
   "outputs": [],
   "source": [
    "class TracingMeta(type):\n",
    "    \n",
    "    @classmethod\n",
    "    def __prepare__(mcs, name, bases, **kwargs):\n",
    "        \"\"\"\n",
    "        mcs:      metaclass itself, similar to 'self' in a normal class method signature\n",
    "        name:     name of the metaclass\n",
    "        bases:    a tuple of base classes, the ultimate object class is implicite\n",
    "        **kwargs: an empty dictionary\n",
    "        \"\"\"\n",
    "        print(\"TracingMeta.__prepare__(name, bases, **kwargs)\")\n",
    "        print(f\" {mcs = }\")\n",
    "        print(f\" {name = }\")\n",
    "        print(f\" {bases = }\")\n",
    "        print(f\" {kwargs = }\")\n",
    "        \n",
    "        # returns a mapping type, here an empty dictionary as a namespace\n",
    "        # assciated with the nascent class\n",
    "        namespace = super().__prepare__(name, bases)\n",
    "        print(f\"-> {namespace = }\")\n",
    "        print()\n",
    "        return namespace\n",
    "    \n",
    "    # create new class object\n",
    "    def __new__(mcs, name, bases, namespace, **kwargs):\n",
    "        \"\"\"\n",
    "        namespace: namespace mapping returned from __prepare__\n",
    "        \"\"\"\n",
    "        print(\"TracingMeta.__new__(mcs, name, bases, namespace)\")\n",
    "        print(f\" {mcs = }\")\n",
    "        print(f\" {name = }\")\n",
    "        print(f\" {bases = }\")\n",
    "        \n",
    "        # python runtime populated this dictionary with several entries\n",
    "        # as it processed the class definition of Widget class.\n",
    "        # including class attributes and methods defined in the class\n",
    "        # it also adds module, which is the name of the file that contains this class\n",
    "        # and fully qualified name, which is a gobal class name since it is in bulit-in\n",
    "        print(f\" {namespace = }\")\n",
    "        print(f\" {kwargs = }\")\n",
    "        \n",
    "        # create a new Widget class object\n",
    "        # any changes we want to make to the namespace object must be made before this call\n",
    "        # to change the contents of the class namespace after this call,the class object\n",
    "        # must be manipulated directly\n",
    "        cls = super().__new__(mcs, name, bases, namespace)\n",
    "        print(f\"-> {cls = }\")\n",
    "        print()\n",
    "        return cls\n",
    "    \n",
    "    # this method configure the class object\n",
    "    # we could modify namespace by the method, before the class object is instantiated\n",
    "    # we could modify the sequence of base classes, and allocate a different class entirely to cls\n",
    "    def __init__(cls, name, bases, namespace, **kwargs):\n",
    "        \"\"\"\n",
    "        this is an instance method of the metaclass. both __new__ and __prepare__ are class methods\n",
    "        cls: Widget class object (one level less than TracingMeta class, the same way 'self' less than cls)\n",
    "        \"\"\"\n",
    "        print(\"TracingMeta.__init__(cls, name, bases, namespace)\")\n",
    "        print(f\" {cls = }\")\n",
    "        print(f\" {name = }\")\n",
    "        print(f\" {bases = }\")\n",
    "        print(f\" {namespace = }\")\n",
    "        print(f\" {kwargs = }\")\n",
    "        super().__init__(name, bases, namespace)\n",
    "        print(f\"-> {cls = }\")\n",
    "        print()  \n",
    "    "
   ]
  },
  {
   "cell_type": "code",
   "execution_count": 31,
   "id": "38e820d7",
   "metadata": {},
   "outputs": [
    {
     "name": "stdout",
     "output_type": "stream",
     "text": [
      "TracingMeta.__prepare__(name, bases, **kwargs)\n",
      " mcs = <class '__main__.TracingMeta'>\n",
      " name = 'Widget'\n",
      " bases = ()\n",
      " kwargs = {}\n",
      "-> namespace = {}\n",
      "\n",
      "TracingMeta.__new__(mcs, name, bases, namespace)\n",
      " mcs = <class '__main__.TracingMeta'>\n",
      " name = 'Widget'\n",
      " bases = ()\n",
      " namespace = {'__module__': '__main__', '__qualname__': 'Widget', 'the_answer': 42, 'action': <function Widget.action at 0x000001AFB3616EF0>}\n",
      " kwargs = {}\n",
      "-> cls = <class '__main__.Widget'>\n",
      "\n",
      "TracingMeta.__init__(cls, name, bases, namespace)\n",
      " cls = <class '__main__.Widget'>\n",
      " name = 'Widget'\n",
      " bases = ()\n",
      " namespace = {'__module__': '__main__', '__qualname__': 'Widget', 'the_answer': 42, 'action': <function Widget.action at 0x000001AFB3616EF0>}\n",
      " kwargs = {}\n",
      "-> cls = <class '__main__.Widget'>\n",
      "\n"
     ]
    }
   ],
   "source": [
    "class Widget(metaclass=TracingMeta):\n",
    "    the_answer = 42\n",
    "    \n",
    "    def action(self, message):\n",
    "        print(message)"
   ]
  },
  {
   "cell_type": "markdown",
   "id": "e91fc651",
   "metadata": {},
   "source": [
    "#### Which methods we should override\n",
    "* \\_\\_prepare\\_\\_:\n",
    "  + customize the type or initial value of the namespace mapping\n",
    "  + default is to generate a regular empty dictionary for the namespace object\n",
    "  + you only override this method if you need another mapping type\n",
    "* usually it will be necessary to override either \\_\\_new\\_\\_ or \\_\\_init\\_\\_\n",
    "  + only __new__ can make decisions before the new class is allocated\n",
    "  + can configure the class object so that metaclasses are more composable"
   ]
  },
  {
   "cell_type": "markdown",
   "id": "bd400f8f",
   "metadata": {},
   "source": [
    "### Metaclass details"
   ]
  },
  {
   "cell_type": "markdown",
   "id": "26b8ab66",
   "metadata": {},
   "source": [
    "#### Metaclass keyword arguments\n",
    "* any keyword arguments above the metaclass argument in the class definition will be fowarded to the 3 metaclass methods\n",
    "```python\n",
    "# more, keyword, and args will be forwarded to the 3 metaclass methods\n",
    "class Widget(object, metaclass=type, more=1, keyword=2, args=3):\n",
    "    pass\n",
    "```\n",
    "\n",
    "* using the keyward args can make metaclass as a class factory"
   ]
  },
  {
   "cell_type": "code",
   "execution_count": 32,
   "id": "9af56dc7",
   "metadata": {},
   "outputs": [
    {
     "name": "stdout",
     "output_type": "stream",
     "text": [
      "TracingMeta.__prepare__(name, bases, **kwargs)\n",
      " mcs = <class '__main__.TracingMeta'>\n",
      " name = 'Reticulator'\n",
      " bases = ()\n",
      " kwargs = {'tension': 496}\n",
      "-> namespace = {}\n",
      "\n",
      "TracingMeta.__new__(mcs, name, bases, namespace)\n",
      " mcs = <class '__main__.TracingMeta'>\n",
      " name = 'Reticulator'\n",
      " bases = ()\n",
      " namespace = {'__module__': '__main__', '__qualname__': 'Reticulator', 'cubic': True, 'reticulate': <function Reticulator.reticulate at 0x000001AFB36167A0>}\n",
      " kwargs = {'tension': 496}\n",
      "-> cls = <class '__main__.Reticulator'>\n",
      "\n",
      "TracingMeta.__init__(cls, name, bases, namespace)\n",
      " cls = <class '__main__.Reticulator'>\n",
      " name = 'Reticulator'\n",
      " bases = ()\n",
      " namespace = {'__module__': '__main__', '__qualname__': 'Reticulator', 'cubic': True, 'reticulate': <function Reticulator.reticulate at 0x000001AFB36167A0>}\n",
      " kwargs = {'tension': 496}\n",
      "-> cls = <class '__main__.Reticulator'>\n",
      "\n"
     ]
    }
   ],
   "source": [
    "class Reticulator(metaclass=TracingMeta, tension=496):\n",
    "    cubic = True\n",
    "    def reticulate(self, spline):\n",
    "        print(spline)"
   ]
  },
  {
   "cell_type": "code",
   "execution_count": 43,
   "id": "17f94294",
   "metadata": {},
   "outputs": [],
   "source": [
    "class EntriesMeta(type):\n",
    "    \n",
    "    def __new__(mcs, name, bases, namespace, num_entries):\n",
    "        print(\"EntriesMeta.__new__(mcs, name, bases, namespace, **kwargs)\")\n",
    "        print(f\" {num_entries = }\")\n",
    "        namespace.update({chr(i): i for i in range(ord('a'), ord('a') + num_entries)})\n",
    "        cls = super().__new__(mcs, name, bases, namespace)\n",
    "        return cls        "
   ]
  },
  {
   "cell_type": "code",
   "execution_count": 44,
   "id": "40bab7bf",
   "metadata": {},
   "outputs": [
    {
     "name": "stdout",
     "output_type": "stream",
     "text": [
      "EntriesMeta.__new__(mcs, name, bases, namespace, **kwargs)\n",
      " num_entries = 26\n"
     ]
    }
   ],
   "source": [
    "class AtoZ(metaclass=EntriesMeta, num_entries=26):\n",
    "    pass"
   ]
  },
  {
   "cell_type": "code",
   "execution_count": 45,
   "id": "b46bf6df",
   "metadata": {},
   "outputs": [
    {
     "name": "stdout",
     "output_type": "stream",
     "text": [
      "['__class__',\n",
      " '__delattr__',\n",
      " '__dict__',\n",
      " '__dir__',\n",
      " '__doc__',\n",
      " '__eq__',\n",
      " '__format__',\n",
      " '__ge__',\n",
      " '__getattribute__',\n",
      " '__gt__',\n",
      " '__hash__',\n",
      " '__init__',\n",
      " '__init_subclass__',\n",
      " '__le__',\n",
      " '__lt__',\n",
      " '__module__',\n",
      " '__ne__',\n",
      " '__new__',\n",
      " '__reduce__',\n",
      " '__reduce_ex__',\n",
      " '__repr__',\n",
      " '__setattr__',\n",
      " '__sizeof__',\n",
      " '__str__',\n",
      " '__subclasshook__',\n",
      " '__weakref__',\n",
      " 'a',\n",
      " 'b',\n",
      " 'c',\n",
      " 'd',\n",
      " 'e',\n",
      " 'f',\n",
      " 'g',\n",
      " 'h',\n",
      " 'i',\n",
      " 'j',\n",
      " 'k',\n",
      " 'l',\n",
      " 'm',\n",
      " 'n',\n",
      " 'o',\n",
      " 'p',\n",
      " 'q',\n",
      " 'r',\n",
      " 's',\n",
      " 't',\n",
      " 'u',\n",
      " 'v',\n",
      " 'w',\n",
      " 'x',\n",
      " 'y',\n",
      " 'z']\n"
     ]
    },
    {
     "data": {
      "text/plain": [
       "102"
      ]
     },
     "execution_count": 45,
     "metadata": {},
     "output_type": "execute_result"
    }
   ],
   "source": [
    "from pprint import pprint\n",
    "pprint(dir(AtoZ))\n",
    "AtoZ.f"
   ]
  },
  {
   "cell_type": "markdown",
   "id": "c6600a6a",
   "metadata": {},
   "source": [
    "#### Metaclass method visibility\n",
    "* other methods except for the three methods above in metaclass definition can be access as regular methods from the class objects created by class_name.method_name. These methods are called metamethods\n",
    "* we can't access metamethods from the instances of the class, as shown in the code example\n",
    "* metamethods are rarely used, except for \\_\\_call\\_\\_() method\n",
    "* class methods defined in the class and its base classes will take the precedence over the class methods defined in its metaclass and metaclass's base class"
   ]
  },
  {
   "cell_type": "code",
   "execution_count": 46,
   "id": "cdf7cc1f",
   "metadata": {},
   "outputs": [],
   "source": [
    "class TracingMeta(type):\n",
    "    \n",
    "    @classmethod\n",
    "    def __prepare__(mcs, name, bases, **kwargs):\n",
    "        \"\"\"\n",
    "        mcs:      metaclass itself, similar to 'self' in a normal class method signature\n",
    "        name:     name of the metaclass\n",
    "        bases:    a tuple of base classes, the ultimate object class is implicite\n",
    "        **kwargs: an empty dictionary\n",
    "        \"\"\"\n",
    "        print(\"TracingMeta.__prepare__(name, bases, **kwargs)\")\n",
    "        print(f\" {mcs = }\")\n",
    "        print(f\" {name = }\")\n",
    "        print(f\" {bases = }\")\n",
    "        print(f\" {kwargs = }\")\n",
    "        \n",
    "        # returns a mapping type, here an empty dictionary as a namespace\n",
    "        # assciated with the nascent class\n",
    "        namespace = super().__prepare__(name, bases)\n",
    "        print(f\"-> {namespace = }\")\n",
    "        print()\n",
    "        return namespace\n",
    "    \n",
    "    # create new class object\n",
    "    def __new__(mcs, name, bases, namespace, **kwargs):\n",
    "        \"\"\"\n",
    "        namespace: namespace mapping returned from __prepare__\n",
    "        \"\"\"\n",
    "        print(\"TracingMeta.__new__(mcs, name, bases, namespace)\")\n",
    "        print(f\" {mcs = }\")\n",
    "        print(f\" {name = }\")\n",
    "        print(f\" {bases = }\")\n",
    "        \n",
    "        # python runtime populated this dictionary with several entries\n",
    "        # as it processed the class definition of Widget class.\n",
    "        # including class attributes and methods defined in the class\n",
    "        # it also adds module, which is the name of the file that contains this class\n",
    "        # and fully qualified name, which is a gobal class name since it is in bulit-in\n",
    "        print(f\" {namespace = }\")\n",
    "        print(f\" {kwargs = }\")\n",
    "        \n",
    "        # create a new Widget class object\n",
    "        # any changes we want to make to the namespace object must be made before this call\n",
    "        # to change the contents of the class namespace after this call,the class object\n",
    "        # must be manipulated directly\n",
    "        cls = super().__new__(mcs, name, bases, namespace)\n",
    "        print(f\"-> {cls = }\")\n",
    "        print()\n",
    "        return cls\n",
    "    \n",
    "    # this method configure the class object\n",
    "    # we could modify namespace by the method, before the class object is instantiated\n",
    "    # we could modify the sequence of base classes, and allocate a different class entirely to cls\n",
    "    def __init__(cls, name, bases, namespace, **kwargs):\n",
    "        \"\"\"\n",
    "        this is an instance method of the metaclass. both __new__ and __prepare__ are class methods\n",
    "        cls: Widget class object (one level less than TracingMeta class, the same way 'self' less than cls)\n",
    "        \"\"\"\n",
    "        print(\"TracingMeta.__init__(cls, name, bases, namespace)\")\n",
    "        print(f\" {cls = }\")\n",
    "        print(f\" {name = }\")\n",
    "        print(f\" {bases = }\")\n",
    "        print(f\" {namespace = }\")\n",
    "        print(f\" {kwargs = }\")\n",
    "        super().__init__(name, bases, namespace)\n",
    "        print(f\"-> {cls = }\")\n",
    "        print()  \n",
    "    \n",
    "    def metamethod(cls):\n",
    "        print(\"TracingMeta.metamethod(cls)\")\n",
    "        print(f\" {cls = }\")"
   ]
  },
  {
   "cell_type": "code",
   "execution_count": 47,
   "id": "72dfec28",
   "metadata": {},
   "outputs": [
    {
     "name": "stdout",
     "output_type": "stream",
     "text": [
      "TracingMeta.__prepare__(name, bases, **kwargs)\n",
      " mcs = <class '__main__.TracingMeta'>\n",
      " name = 'Widget'\n",
      " bases = ()\n",
      " kwargs = {}\n",
      "-> namespace = {}\n",
      "\n",
      "TracingMeta.__new__(mcs, name, bases, namespace)\n",
      " mcs = <class '__main__.TracingMeta'>\n",
      " name = 'Widget'\n",
      " bases = ()\n",
      " namespace = {'__module__': '__main__', '__qualname__': 'Widget'}\n",
      " kwargs = {}\n",
      "-> cls = <class '__main__.Widget'>\n",
      "\n",
      "TracingMeta.__init__(cls, name, bases, namespace)\n",
      " cls = <class '__main__.Widget'>\n",
      " name = 'Widget'\n",
      " bases = ()\n",
      " namespace = {'__module__': '__main__', '__qualname__': 'Widget'}\n",
      " kwargs = {}\n",
      "-> cls = <class '__main__.Widget'>\n",
      "\n"
     ]
    }
   ],
   "source": [
    "class Widget(metaclass=TracingMeta):\n",
    "    pass"
   ]
  },
  {
   "cell_type": "code",
   "execution_count": 48,
   "id": "df87b747",
   "metadata": {},
   "outputs": [
    {
     "name": "stdout",
     "output_type": "stream",
     "text": [
      "TracingMeta.metamethod(cls)\n",
      " cls = <class '__main__.Widget'>\n"
     ]
    }
   ],
   "source": [
    "# we can access regular class methods from class objects\n",
    "Widget.metamethod()"
   ]
  },
  {
   "cell_type": "code",
   "execution_count": 49,
   "id": "7f5d5920",
   "metadata": {},
   "outputs": [
    {
     "ename": "AttributeError",
     "evalue": "'Widget' object has no attribute 'metamethod'",
     "output_type": "error",
     "traceback": [
      "\u001b[1;31m---------------------------------------------------------------------------\u001b[0m",
      "\u001b[1;31mAttributeError\u001b[0m                            Traceback (most recent call last)",
      "Input \u001b[1;32mIn [49]\u001b[0m, in \u001b[0;36m<cell line: 3>\u001b[1;34m()\u001b[0m\n\u001b[0;32m      1\u001b[0m \u001b[38;5;66;03m# but we can't access these regular class mehods from the class instance objects\u001b[39;00m\n\u001b[0;32m      2\u001b[0m w \u001b[38;5;241m=\u001b[39m Widget()\n\u001b[1;32m----> 3\u001b[0m \u001b[43mw\u001b[49m\u001b[38;5;241;43m.\u001b[39;49m\u001b[43mmetamethod\u001b[49m()\n",
      "\u001b[1;31mAttributeError\u001b[0m: 'Widget' object has no attribute 'metamethod'"
     ]
    }
   ],
   "source": [
    "# but we can't access these regular class mehods from the class instance objects\n",
    "w = Widget()\n",
    "w.metamethod()"
   ]
  },
  {
   "cell_type": "markdown",
   "id": "95880123",
   "metadata": {},
   "source": [
    "#### Instance constructor\n",
    "* when we create new class instance objects, we call the class constructor, which will call \\_\\_new\\_\\_ followed by \\_\\_init\\_\\_ in the class. This is the responsiblity of \\_\\_call\\_\\_ of metaclass\n",
    "* assuming class Widget's metaclass is type, when we call w = Widget(), the \\_\\_call\\_\\_() method in type class will call the \\_\\_new\\_\\_(cls) method and \\_\\_init\\_\\_(). One implementation of \\_\\_call\\_\\_ is the following:\n",
    "\n",
    "```python\n",
    "class Widget(object, metaclass=type):\n",
    "    \n",
    "    def __new__(cls, *args, **kwargs):\n",
    "        return type.__new__(cls)\n",
    "    \n",
    "    def __init__(self, *args, **kwargs):\n",
    "        pass\n",
    "```\n",
    "\n",
    "```python\n",
    "class type:\n",
    "    def __call__(cls, *args, **kwargs):\n",
    "        obj = cls.__new__(*args, **kwargs)\n",
    "        \n",
    "        obj.__init__(*args, **kwargs)\n",
    "        return obj\n",
    "```    \n",
    "* note that the \\_\\_call\\_\\_() method is an instance method in the metaclass.\n",
    "  + it obtain the cls (similar to self in class) in the metaclss after the \\_\\_new\\_\\_ method in the metaclass creates cls\n",
    "  + it then use cls t call \\_\\_new\\_\\_() in the class, obtain the class instance object\n",
    "  + then call the object's \\_\\_init\\_\\_() to configure the instance object"
   ]
  },
  {
   "cell_type": "code",
   "execution_count": null,
   "id": "f7dd93b5",
   "metadata": {},
   "outputs": [],
   "source": []
  }
 ],
 "metadata": {
  "kernelspec": {
   "display_name": "Python 3 (ipykernel)",
   "language": "python",
   "name": "python3"
  },
  "language_info": {
   "codemirror_mode": {
    "name": "ipython",
    "version": 3
   },
   "file_extension": ".py",
   "mimetype": "text/x-python",
   "name": "python",
   "nbconvert_exporter": "python",
   "pygments_lexer": "ipython3",
   "version": "3.10.4"
  }
 },
 "nbformat": 4,
 "nbformat_minor": 5
}
