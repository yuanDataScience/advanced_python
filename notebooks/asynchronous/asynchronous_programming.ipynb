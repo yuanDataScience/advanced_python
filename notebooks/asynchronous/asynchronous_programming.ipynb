{
 "cells": [
  {
   "cell_type": "markdown",
   "id": "b0f8d6c8",
   "metadata": {},
   "source": [
    "## Asynchronus Programming\n",
    "This notebook is based on a [youtube video](https://www.youtube.com/watch?v=t5Bo1Je9EmE)"
   ]
  },
  {
   "cell_type": "markdown",
   "id": "2a679203",
   "metadata": {},
   "source": [
    "* In synchronous programming, everything happens sequentially\n",
    "* In asynchronous programming, it does not need to be sequentially\n",
    "  + does not need to wait a function to finish before executing other statements\n",
    "    - the function may wait for network or I/O operations\n",
    "    \n",
    "### note: on ubuntu 20.04, pip install nest_asyncio, and run the following commands in the first cell:\n",
    "if you installed the most recent jupyter notebook, you may not need this     \n",
    "\n",
    "`\n",
    "import nest_asyncio\n",
    "nest_asyncio.apply()\n",
    "`"
   ]
  },
  {
   "cell_type": "code",
   "execution_count": 2,
   "id": "8a5d69c0",
   "metadata": {},
   "outputs": [],
   "source": [
    "import nest_asyncio\n",
    "nest_asyncio.apply()"
   ]
  },
  {
   "cell_type": "markdown",
   "id": "9dee8a44",
   "metadata": {},
   "source": [
    "### coroutine\n",
    "* the following code defines a coroutine using async keyword\n",
    "* we can print main() and see it is a coroutine\n",
    "\n",
    "### async event-loop\n",
    "* in python, we need to create an async event loop to run asynchronous code\n",
    "\n"
   ]
  },
  {
   "cell_type": "code",
   "execution_count": 3,
   "id": "2b10b723",
   "metadata": {},
   "outputs": [
    {
     "name": "stdout",
     "output_type": "stream",
     "text": [
      "abc\n",
      "text\n"
     ]
    }
   ],
   "source": [
    "import asyncio\n",
    "\n",
    "async def main():\n",
    "    print('abc')\n",
    "    await foo(\"text\")\n",
    "\n",
    "\n",
    "async def foo(text):\n",
    "    print(text)\n",
    "    await asyncio.sleep(1)\n",
    "\n",
    "loop = asyncio.get_event_loop()\n",
    "loop.run_until_complete(main())"
   ]
  },
  {
   "cell_type": "markdown",
   "id": "6dd0fa2a",
   "metadata": {},
   "source": [
    "#### In the following code:\n",
    "* a task was created by asyncio.create_task(foo('text'), with the coroutine foo(text)\n",
    "* when executing the task, coroutine foo give the control back when executing await asyncio.sleep(1)\n",
    "* main() executed print(\"finished\") statement\n",
    "* control was given back to foo() and \"text\" was printed out\n",
    "* asyncio.run() creates an event loop (available after python 3.7)\n",
    "#### Note: asyncio.sleep() doesn't actually sleep. It hands back control and schedules a \"re-call\" for continuation. It works more like a yield"
   ]
  },
  {
   "cell_type": "code",
   "execution_count": 8,
   "id": "d3b965a6",
   "metadata": {},
   "outputs": [
    {
     "name": "stdout",
     "output_type": "stream",
     "text": [
      "hello\n",
      "finished\n",
      "text\n"
     ]
    }
   ],
   "source": [
    "import asyncio\n",
    "\n",
    "# create a task by asyncio.create_task(coroutine())\n",
    "async def main():\n",
    "    print(\"hello\")\n",
    "    task = asyncio.create_task(foo('text'))\n",
    "    print(\"finished\")\n",
    "    \n",
    "async def foo(text):\n",
    "    print(text)\n",
    "    await asyncio.sleep(1)\n",
    "    \n",
    "asyncio.run(main())      "
   ]
  },
  {
   "cell_type": "markdown",
   "id": "087c324b",
   "metadata": {},
   "source": [
    "#### If we want main() to wait for task to be finished and then execute print(\"finished\") statement, we need to use await task"
   ]
  },
  {
   "cell_type": "code",
   "execution_count": 9,
   "id": "614f859b",
   "metadata": {},
   "outputs": [
    {
     "name": "stdout",
     "output_type": "stream",
     "text": [
      "hello\n",
      "text\n",
      "finished\n"
     ]
    }
   ],
   "source": [
    "import asyncio\n",
    "\n",
    "# create a task by asyncio.create_task(coroutine())\n",
    "async def main():\n",
    "    print(\"hello\")\n",
    "    task = asyncio.create_task(foo('text'))\n",
    "    await task\n",
    "    print(\"finished\")\n",
    "    \n",
    "async def foo(text):\n",
    "    print(text)\n",
    "    await asyncio.sleep(1)\n",
    "    \n",
    "asyncio.run(main())      "
   ]
  },
  {
   "cell_type": "markdown",
   "id": "14402039",
   "metadata": {},
   "source": [
    "#### In the following code:\n",
    "* main() created a task with corutine foo()\n",
    "* when executing foo(), the control was given back to main() due to `await asyncio.sleep(1)` in foo()\n",
    "* when executing `await asyncio.sleep(2)` in main(), the control was given to task after `await asyncio.sleep(1)`completed\n",
    "* after foo() printed \"text\" and completed, contorl was given to main(), and \"finished\" was printed"
   ]
  },
  {
   "cell_type": "code",
   "execution_count": 10,
   "id": "2281a0bc",
   "metadata": {},
   "outputs": [
    {
     "name": "stdout",
     "output_type": "stream",
     "text": [
      "hello\n",
      "text\n",
      "finished\n"
     ]
    }
   ],
   "source": [
    "import asyncio\n",
    "\n",
    "# create a task by asyncio.create_task(coroutine())\n",
    "async def main():\n",
    "    print(\"hello\")\n",
    "    task = asyncio.create_task(foo('text'))\n",
    "    await asyncio.sleep(2)\n",
    "    print(\"finished\")\n",
    "    \n",
    "async def foo(text):\n",
    "    print(text)\n",
    "    await asyncio.sleep(1)\n",
    "    \n",
    "asyncio.run(main())      "
   ]
  },
  {
   "cell_type": "markdown",
   "id": "66e1b206",
   "metadata": {},
   "source": [
    "#### In the following code:\n",
    "* main() created a task with corutine foo()\n",
    "* when executing foo(), the control was given back to main() due to `await asyncio.sleep(10)` in foo()\n",
    "* when executing `await asyncio.sleep(0.5)` in main(), the control was given to task of foo()\n",
    "* since foo() waits for 10 s, the control was given back to main(), and \"finished\" was printed\n",
    "* main() completed execution and entire program is completed\n",
    "* if we don't wait for task using await, the task will not be executed after sleep(10)"
   ]
  },
  {
   "cell_type": "code",
   "execution_count": 12,
   "id": "41f813b6",
   "metadata": {},
   "outputs": [
    {
     "name": "stdout",
     "output_type": "stream",
     "text": [
      "hello\n",
      "text\n",
      "finished\n",
      "text\n"
     ]
    }
   ],
   "source": [
    "import asyncio\n",
    "\n",
    "# create a task by asyncio.create_task(coroutine())\n",
    "async def main():\n",
    "    print(\"hello\")\n",
    "    task = asyncio.create_task(foo('text'))\n",
    "    await asyncio.sleep(0.5)\n",
    "    print(\"finished\")\n",
    "    \n",
    "async def foo(text):\n",
    "    print(text)\n",
    "    await asyncio.sleep(10)\n",
    "    print(text)\n",
    "    \n",
    "asyncio.run(main())      "
   ]
  },
  {
   "cell_type": "markdown",
   "id": "2a662585",
   "metadata": {},
   "source": [
    "#### In the following code:\n",
    "* main() created a task with corutine foo()\n",
    "* when executing foo(), the control was given back to main() due to `await asyncio.sleep(10)` in foo()\n",
    "* when executing `await asyncio.sleep(0.5)` in main(), the control was given to task of foo()\n",
    "* since foo() waits for 10 s, the control was given back to main()\n",
    "* now, main() has to wait for task to complete due to `await task` statement\n",
    "* afte task completed, main() completed execution and entire program is completed"
   ]
  },
  {
   "cell_type": "code",
   "execution_count": 13,
   "id": "d2879f4b",
   "metadata": {},
   "outputs": [
    {
     "name": "stdout",
     "output_type": "stream",
     "text": [
      "hello\n",
      "text\n",
      "text\n",
      "finished\n"
     ]
    }
   ],
   "source": [
    "import asyncio\n",
    "\n",
    "# create a task by asyncio.create_task(coroutine())\n",
    "async def main():\n",
    "    print(\"hello\")\n",
    "    task = asyncio.create_task(foo('text'))\n",
    "    await asyncio.sleep(0.5)\n",
    "    await task\n",
    "    print(\"finished\")\n",
    "    \n",
    "async def foo(text):\n",
    "    print(text)\n",
    "    await asyncio.sleep(10)\n",
    "    print(text)\n",
    "    \n",
    "asyncio.run(main())      "
   ]
  },
  {
   "cell_type": "markdown",
   "id": "a407e60c",
   "metadata": {},
   "source": [
    "#### In the following code\n",
    "* task1 and task2 were created by asyncio.creat_task(coroutine()) and started to execute\n",
    "* fetch_data(), after printing 'start fetching', sleep for 2 s and gives the control to main()\n",
    "* print_numbers start to execute, before fetch_data completed sleep(2)\n",
    "* fetch_data() gain the control, printed out 'done fetching' and returned data to main()\n",
    "* data was printed, and main() wait for task2 to complete (`await task2`)\n",
    "\n",
    "#### Note:\n",
    "* await can only be used inside a coroutine\n",
    "* asyncio.create_task(coroutine()) adds the coroutine() to event loop\n",
    "* to start coroutine, must create an event loop, one way is to use asyncio.run(entry_point_coroutine())"
   ]
  },
  {
   "cell_type": "code",
   "execution_count": 22,
   "id": "11341b20",
   "metadata": {},
   "outputs": [
    {
     "name": "stdout",
     "output_type": "stream",
     "text": [
      "start fetching\n",
      "0\n",
      "1\n",
      "2\n",
      "3\n",
      "4\n",
      "5\n",
      "6\n",
      "7\n",
      "done fetching\n",
      "{'data': 1}\n",
      "8\n",
      "9\n"
     ]
    }
   ],
   "source": [
    "async def fetch_data():\n",
    "    print('start fetching')\n",
    "    await asyncio.sleep(2)\n",
    "    print('done fetching')\n",
    "    return {'data': 1}\n",
    "\n",
    "async def print_numbers():\n",
    "    for i in range(10):\n",
    "        print(i)\n",
    "        await asyncio.sleep(0.25)\n",
    "        \n",
    "async def main():\n",
    "    task1 = asyncio.create_task(fetch_data())\n",
    "    task2 = asyncio.create_task(print_numbers())\n",
    "    \n",
    "    value = await task1\n",
    "    print(value)\n",
    "    await task2\n",
    "    \n",
    "asyncio.run(main())        "
   ]
  },
  {
   "cell_type": "markdown",
   "id": "6a0b80fc",
   "metadata": {},
   "source": [
    "You can also create an event loop and use run_until_complete() function"
   ]
  },
  {
   "cell_type": "code",
   "execution_count": 21,
   "id": "b26bb2e1",
   "metadata": {},
   "outputs": [
    {
     "name": "stdout",
     "output_type": "stream",
     "text": [
      "start fetching\n",
      "0\n",
      "1\n",
      "2\n",
      "3\n",
      "4\n",
      "5\n",
      "6\n",
      "7\n",
      "done fetching\n",
      "{'data': 1}\n",
      "8\n",
      "9\n"
     ]
    }
   ],
   "source": [
    "async def fetch_data():\n",
    "    print('start fetching')\n",
    "    await asyncio.sleep(2)\n",
    "    print('done fetching')\n",
    "    return {'data': 1}\n",
    "\n",
    "async def print_numbers():\n",
    "    for i in range(10):\n",
    "        print(i)\n",
    "        await asyncio.sleep(0.25)\n",
    "        \n",
    "async def main():\n",
    "    task1 = asyncio.create_task(fetch_data())\n",
    "    task2 = asyncio.create_task(print_numbers())\n",
    "    \n",
    "    value = await task1\n",
    "    print(value)\n",
    "    await task2\n",
    "    \n",
    "loop = asyncio.get_event_loop()\n",
    "loop.run_until_complete(main())        "
   ]
  },
  {
   "cell_type": "markdown",
   "id": "0d09e0ff",
   "metadata": {},
   "source": [
    "#### run asyncio using multiple threading. [reference link](https://kimmosaaskilahti.fi/blog/2021-01-03-asyncio-workers/)\n",
    "* multi-threading is useful for IO-bound tasks\n",
    "* multi-threading provide the workers (threads)\n",
    "* tasks are executed by ascyncio using loop.run_in_executor()"
   ]
  },
  {
   "cell_type": "code",
   "execution_count": 34,
   "id": "102a9eea",
   "metadata": {},
   "outputs": [
    {
     "name": "stdout",
     "output_type": "stream",
     "text": [
      "Thread ThreadPoolExecutor-9_0: Starting task: 0...\n",
      "Thread ThreadPoolExecutor-9_1: Starting task: 1...\n",
      "Thread ThreadPoolExecutor-9_2: Starting task: 2...\n",
      "Thread ThreadPoolExecutor-9_3: Starting task: 3...\n",
      "Thread ThreadPoolExecutor-9_0: Finished task 0!\n",
      "Thread ThreadPoolExecutor-9_0: Starting task: 4...\n",
      "Thread ThreadPoolExecutor-9_1: Finished task 1!Thread ThreadPoolExecutor-9_2: Finished task 2!Thread ThreadPoolExecutor-9_3: Finished task 3!\n",
      "\n",
      "Thread ThreadPoolExecutor-9_2: Starting task: 5...\n",
      "\n",
      "Thread ThreadPoolExecutor-9_1: Starting task: 6...\n",
      "Thread ThreadPoolExecutor-9_3: Starting task: 7...\n",
      "Thread ThreadPoolExecutor-9_0: Finished task 4!\n",
      "Thread ThreadPoolExecutor-9_0: Starting task: 8...\n",
      "Thread ThreadPoolExecutor-9_2: Finished task 5!\n",
      "Thread ThreadPoolExecutor-9_2: Starting task: 9...\n",
      "Thread ThreadPoolExecutor-9_1: Finished task 6!\n",
      "Thread ThreadPoolExecutor-9_1: Starting task: 10...\n",
      "Thread ThreadPoolExecutor-9_3: Finished task 7!\n",
      "Thread ThreadPoolExecutor-9_3: Starting task: 11...\n",
      "Thread ThreadPoolExecutor-9_0: Finished task 8!\n",
      "Thread ThreadPoolExecutor-9_1: Finished task 10!\n",
      "Thread ThreadPoolExecutor-9_1: Starting task: 12...\n",
      "Thread ThreadPoolExecutor-9_2: Finished task 9!Thread ThreadPoolExecutor-9_0: Starting task: 13...\n",
      "\n",
      "Thread ThreadPoolExecutor-9_3: Finished task 11!Thread ThreadPoolExecutor-9_2: Starting task: 14...\n",
      "\n",
      "Thread ThreadPoolExecutor-9_3: Starting task: 15...\n",
      "Thread ThreadPoolExecutor-9_1: Finished task 12!\n",
      "Thread ThreadPoolExecutor-9_1: Starting task: 16...\n",
      "Thread ThreadPoolExecutor-9_0: Finished task 13!\n",
      "Thread ThreadPoolExecutor-9_2: Finished task 14!Thread ThreadPoolExecutor-9_0: Starting task: 17...\n",
      "\n",
      "Thread ThreadPoolExecutor-9_2: Starting task: 18...\n",
      "Thread ThreadPoolExecutor-9_3: Finished task 15!\n",
      "Thread ThreadPoolExecutor-9_3: Starting task: 19...\n",
      "Thread ThreadPoolExecutor-9_1: Finished task 16!\n",
      "Thread ThreadPoolExecutor-9_0: Finished task 17!\n",
      "Thread ThreadPoolExecutor-9_2: Finished task 18!\n",
      "Thread ThreadPoolExecutor-9_3: Finished task 19!\n",
      "Finished processing, got results: [0, 1, 2, 3, 4, 5, 6, 7, 8, 9, 10, 11, 12, 13, 14, 15, 16, 17, 18, 19]\n"
     ]
    }
   ],
   "source": [
    "import asyncio\n",
    "import concurrent.futures\n",
    "import threading\n",
    "import time\n",
    "\n",
    "MAX_WORKERS = 4\n",
    "\n",
    "def execute_hello(ind):      \n",
    "    print(f\"Thread {threading.current_thread().name}: Starting task: {ind}...\")\n",
    "    time.sleep(1) \n",
    "    \n",
    "#     if ind == 2:\n",
    "#         print(\"BOOM!\")\n",
    "#         raise Exception(\"Boom!\")\n",
    "\n",
    "    print(f\"Thread {threading.current_thread().name}: Finished task {ind}!\")\n",
    "    return ind    \n",
    "\n",
    "async def main(tasks=20):\n",
    "    with concurrent.futures.ThreadPoolExecutor(max_workers=MAX_WORKERS) as pool:\n",
    "        loop = asyncio.get_running_loop()\n",
    "        futures = [\n",
    "            loop.run_in_executor(pool, execute_hello, task)\n",
    "            for task in range(tasks)\n",
    "        ]\n",
    "        \n",
    "    try:\n",
    "        results = await asyncio.gather(*futures, return_exceptions=False)\n",
    "    except Exception as ex:\n",
    "        print(\"Caught error executing task\", ex)\n",
    "        raise\n",
    "        \n",
    "    print(f\"Finished processing, got results: {results}\")\n",
    "    \n",
    "asyncio.run(main())    "
   ]
  },
  {
   "cell_type": "code",
   "execution_count": null,
   "id": "ee444db6",
   "metadata": {},
   "outputs": [],
   "source": []
  }
 ],
 "metadata": {
  "kernelspec": {
   "display_name": "Python 3 (ipykernel)",
   "language": "python",
   "name": "python3"
  },
  "language_info": {
   "codemirror_mode": {
    "name": "ipython",
    "version": 3
   },
   "file_extension": ".py",
   "mimetype": "text/x-python",
   "name": "python",
   "nbconvert_exporter": "python",
   "pygments_lexer": "ipython3",
   "version": "3.8.10"
  }
 },
 "nbformat": 4,
 "nbformat_minor": 5
}
