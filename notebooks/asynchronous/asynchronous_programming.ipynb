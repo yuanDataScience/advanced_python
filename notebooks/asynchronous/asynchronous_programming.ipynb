{
 "cells": [
  {
   "cell_type": "markdown",
   "id": "b9806d8e",
   "metadata": {},
   "source": [
    "## Asynchronus Programming\n",
    "* In synchronous programming, everything happens sequentially\n",
    "* In asynchronous programming, it does not need to be sequentially\n",
    "  + does not need to wait a function to finish before executing other statements\n",
    "    - the function may wait for network or I/O operations"
   ]
  },
  {
   "cell_type": "markdown",
   "id": "a6393e18",
   "metadata": {},
   "source": [
    "### coroutine\n",
    "* the following code defines a coroutine using async keyword\n",
    "* we can print main() and see it is a coroutine\n",
    "\n",
    "### async event-loop\n",
    "* in python, we need to create an async event loop to run asynchronous code\n",
    "\n"
   ]
  },
  {
   "cell_type": "raw",
   "id": "d6732a14",
   "metadata": {},
   "source": [
    "import asyncio\n",
    "\n",
    "async def main():\n",
    "    print('abc')\n",
    "    \n",
    "print(main()) \n",
    "\n",
    "# create event loop to run coroutine\n",
    "asyncio.run(main())"
   ]
  },
  {
   "cell_type": "markdown",
   "id": "43414110",
   "metadata": {},
   "source": [
    "In the following code, `print('finished')` will wait for `await foo(\"text\")` to finish"
   ]
  },
  {
   "cell_type": "raw",
   "id": "e955fb16",
   "metadata": {},
   "source": [
    "import asyncio\n",
    "\n",
    "\n",
    "async def main():\n",
    "    print('abc')\n",
    "    await foo(\"text\")\n",
    "    print('finished')\n",
    "\n",
    "\n",
    "async def foo(text):\n",
    "    print(text)\n",
    "    await asyncio.sleep(1)\n",
    "\n",
    "asyncio.run(main())"
   ]
  }
 ],
 "metadata": {
  "kernelspec": {
   "display_name": "Python 3 (ipykernel)",
   "language": "python",
   "name": "python3"
  },
  "language_info": {
   "codemirror_mode": {
    "name": "ipython",
    "version": 3
   },
   "file_extension": ".py",
   "mimetype": "text/x-python",
   "name": "python",
   "nbconvert_exporter": "python",
   "pygments_lexer": "ipython3",
   "version": "3.8.10"
  }
 },
 "nbformat": 4,
 "nbformat_minor": 5
}
