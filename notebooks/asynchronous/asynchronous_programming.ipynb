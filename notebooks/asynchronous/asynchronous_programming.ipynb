{
 "cells": [
  {
   "cell_type": "markdown",
   "id": "2a679203",
   "metadata": {},
   "source": [
    "## Asynchronus Programming\n",
    "* In synchronous programming, everything happens sequentially\n",
    "* In asynchronous programming, it does not need to be sequentially\n",
    "  + does not need to wait a function to finish before executing other statements\n",
    "    - the function may wait for network or I/O operations\n",
    "    \n",
    "### note: on ubuntu 20.04, pip install nest_asyncio, and run the following commands in the first cell:\n",
    "if you installed the most recent jupyter notebook, you may not need this     \n",
    "\n",
    "`\n",
    "import nest_asyncio\n",
    "nest_asyncio.apply()\n",
    "`"
   ]
  },
  {
   "cell_type": "code",
   "execution_count": 7,
   "id": "8a5d69c0",
   "metadata": {},
   "outputs": [],
   "source": [
    "import nest_asyncio\n",
    "nest_asyncio.apply()"
   ]
  },
  {
   "cell_type": "markdown",
   "id": "9dee8a44",
   "metadata": {},
   "source": [
    "### coroutine\n",
    "* the following code defines a coroutine using async keyword\n",
    "* we can print main() and see it is a coroutine\n",
    "\n",
    "### async event-loop\n",
    "* in python, we need to create an async event loop to run asynchronous code\n",
    "\n"
   ]
  },
  {
   "cell_type": "code",
   "execution_count": 8,
   "id": "2b10b723",
   "metadata": {},
   "outputs": [
    {
     "name": "stdout",
     "output_type": "stream",
     "text": [
      "abc\n",
      "text\n"
     ]
    }
   ],
   "source": [
    "import asyncio\n",
    "\n",
    "async def main():\n",
    "    print('abc')\n",
    "    await foo(\"text\")\n",
    "\n",
    "\n",
    "async def foo(text):\n",
    "    print(text)\n",
    "    await asyncio.sleep(1)\n",
    "\n",
    "loop = asyncio.get_event_loop()\n",
    "loop.run_until_complete(main())"
   ]
  },
  {
   "cell_type": "code",
   "execution_count": null,
   "id": "d3b965a6",
   "metadata": {},
   "outputs": [],
   "source": [
    "import asyncio"
   ]
  }
 ],
 "metadata": {
  "kernelspec": {
   "display_name": "Python 3 (ipykernel)",
   "language": "python",
   "name": "python3"
  },
  "language_info": {
   "codemirror_mode": {
    "name": "ipython",
    "version": 3
   },
   "file_extension": ".py",
   "mimetype": "text/x-python",
   "name": "python",
   "nbconvert_exporter": "python",
   "pygments_lexer": "ipython3",
   "version": "3.8.10"
  }
 },
 "nbformat": 4,
 "nbformat_minor": 5
}
