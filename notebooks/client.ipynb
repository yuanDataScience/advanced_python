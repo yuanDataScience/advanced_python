{
 "cells": [
  {
   "cell_type": "markdown",
   "id": "b2c4549d",
   "metadata": {},
   "source": [
    "### Decorator\n",
    "A decorator is a callable that takes another function as an argument, extending the behavior of that function without explicitly modifying that function             \n",
    "Why use decorators?\n",
    "* it modifies functions' behavior without modifying the function code itself. We can easily add or remove the decorators \n",
    "* it can add the common functions/modifications to many functions without having to modify the functions's code"
   ]
  },
  {
   "cell_type": "markdown",
   "id": "b2fb604e",
   "metadata": {},
   "source": [
    "#### A simplest decorator"
   ]
  },
  {
   "cell_type": "code",
   "execution_count": 3,
   "id": "bc815dd7",
   "metadata": {},
   "outputs": [
    {
     "name": "stdout",
     "output_type": "stream",
     "text": [
      "+---------+\n",
      "|         |\n",
      " Fibonacci \n",
      "|         |\n",
      "+---------+\n"
     ]
    }
   ],
   "source": [
    "def make_posh(func):\n",
    "    def wrapper():\n",
    "        print(\"+---------+\")\n",
    "        print(\"|         |\")\n",
    "        result = func()\n",
    "        print(result)\n",
    "        print(\"|         |\")\n",
    "        print(\"+---------+\")\n",
    "    return wrapper  \n",
    "\n",
    "def pfib():\n",
    "    \"\"\"return fibonacci\"\"\"\n",
    "    return \"Fibonacci\"\n",
    "\n",
    "@make_posh\n",
    "def pfib():\n",
    "    '''Print out Fibonacci'''\n",
    "    return ' Fibonacci '\n",
    "\n",
    "pfib()"
   ]
  },
  {
   "cell_type": "markdown",
   "id": "a722e308",
   "metadata": {},
   "source": [
    "### Generator\n",
    "Iterator is used for \n",
    "* read large data sets\n",
    "* memory-intensive operations\n",
    "* by a lazy item by item fashion\n",
    "\n",
    "What an iterator is:\n",
    "* maintain state. It doesn't know how many values to print, but knows what the next value is\n",
    "* use lazy evaluation. Don't know the value until is triggered to do so\n",
    "* doesn't store sequence in memory (space efficient)\n",
    "* support Next() method which yields (grabs) the next value one at a time\n",
    "* most iterables such as list or tuple has the iter() method that returns a generator\n",
    "\n",
    "When you have a large dataset, it make sense to use lazy evaluation and only evalue one value at a time because store the dataset in memory is inefficient and often impossbile\n",
    "\n",
    "A generator function returns a generator object            \n",
    "A generator object uses lazy evaluation to yield sequences "
   ]
  },
  {
   "cell_type": "markdown",
   "id": "882dcb26",
   "metadata": {},
   "source": [
    "#### Generator function\n",
    "generator function returns generator objects using yield, and without using an list/containers"
   ]
  },
  {
   "cell_type": "code",
   "execution_count": 5,
   "id": "b20cff0e",
   "metadata": {},
   "outputs": [
    {
     "name": "stdout",
     "output_type": "stream",
     "text": [
      "0\n",
      "2\n",
      "4\n",
      "6\n",
      "8\n"
     ]
    }
   ],
   "source": [
    "# a generator function\n",
    "def even_integers_generator(n):\n",
    "    for i in range(n):\n",
    "        if i % 2 == 0:\n",
    "            yield i\n",
    "            \n",
    "even_generator = even_integers_generator(10)   \n",
    "\n",
    "for n in even_generator:\n",
    "    print(n)"
   ]
  },
  {
   "cell_type": "markdown",
   "id": "8483a052",
   "metadata": {},
   "source": [
    "### Itertools\n",
    "* itertools is a collection of tools that allows us to work with iterators in a fast and memory efficient way\n",
    "* iterators are sequential data that we can iterate or loop over\n",
    "* itertools module contains a number of commonly used iterators as well as functions to combine several iterators"
   ]
  },
  {
   "cell_type": "markdown",
   "id": "9a4fac10",
   "metadata": {},
   "source": [
    "### repeat\n",
    "* take some value and repeat indefinitely"
   ]
  },
  {
   "cell_type": "code",
   "execution_count": 8,
   "id": "dbbbbb34",
   "metadata": {},
   "outputs": [
    {
     "data": {
      "text/plain": [
       "[0, 1, 4, 9, 16, 25, 36, 49, 64, 81]"
      ]
     },
     "execution_count": 8,
     "metadata": {},
     "output_type": "execute_result"
    }
   ],
   "source": [
    "import itertools\n",
    "squares = map(pow, range(10), itertools.repeat(2))\n",
    "list(squares)"
   ]
  },
  {
   "cell_type": "markdown",
   "id": "e6697d1b",
   "metadata": {},
   "source": [
    " ### islice\n",
    "* allows us to get a slice of an iterator\n",
    "  + slicing on an iterator\n",
    "* three different arguments:\n",
    "  + stopping point to go from beginning of an iterator until it hits the stopping point\n",
    "    - to slice a range from 0-9 and stop at index of 5\n",
    "      `result = itertools.islice(range(10), 5)` \n",
    "  + starting point (if there is only one argument, it is the stopping point)\n",
    "    - to slice a range from 0-9, start and stop at index of 1 and 5\n",
    "      `result = itertools.islice(range(10), 1, 5)` \n",
    "  + step (if there is only one argument, it is the stopping point)\n",
    "    - to slice a range from 0-9, start and stop at index of 1 and 5 with step of 2\n",
    "      `result = itertools.islice(range(10), 1, 5, 2)` \n"
   ]
  },
  {
   "cell_type": "code",
   "execution_count": 10,
   "id": "9dabc426",
   "metadata": {},
   "outputs": [
    {
     "name": "stdout",
     "output_type": "stream",
     "text": [
      "0\n",
      "1\n",
      "2\n",
      "3\n",
      "4\n"
     ]
    }
   ],
   "source": [
    "# using stopping point (stop at the 5th (index) element)\n",
    "result = itertools.islice(range(10), 5)\n",
    "for item in result:\n",
    "    print(item)"
   ]
  },
  {
   "cell_type": "markdown",
   "id": "95081efe",
   "metadata": {},
   "source": [
    "#### When islice is useful \n",
    "* when we have a iterator that is too large to put into memory by casting it to a list to get a slice\n",
    "* a log file with thousands of lines but only want to grab the top few lines from header of the file\n",
    "  + file itself is an iterator. each next() will return one line\n",
    "  + this is useful if we are looping over tons of large files and only getting just few lines\n",
    "    - this allows us to get these values without loading the entire contents of file into memory"
   ]
  },
  {
   "cell_type": "code",
   "execution_count": null,
   "id": "1e65cbd7",
   "metadata": {},
   "outputs": [],
   "source": [
    "# Example code of islice for reading a log file\n",
    "with open('test.log', 'r') as f:\n",
    "    # here 3 is the only argument as the stopping point\n",
    "    header = itertools.islice(f, 3)\n",
    "    \n",
    "    for line in header:\n",
    "        print(line, end=\"\")"
   ]
  }
 ],
 "metadata": {
  "kernelspec": {
   "display_name": "Python 3 (ipykernel)",
   "language": "python",
   "name": "python3"
  },
  "language_info": {
   "codemirror_mode": {
    "name": "ipython",
    "version": 3
   },
   "file_extension": ".py",
   "mimetype": "text/x-python",
   "name": "python",
   "nbconvert_exporter": "python",
   "pygments_lexer": "ipython3",
   "version": "3.8.10"
  }
 },
 "nbformat": 4,
 "nbformat_minor": 5
}
