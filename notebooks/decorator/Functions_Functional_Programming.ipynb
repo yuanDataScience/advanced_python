{
 "cells": [
  {
   "cell_type": "markdown",
   "id": "7d37c535",
   "metadata": {},
   "source": [
    "## Functions and Functional Programming"
   ]
  },
  {
   "cell_type": "markdown",
   "id": "6c8f6d84",
   "metadata": {},
   "source": [
    "### Concepts\n",
    "* free functions\n",
    "  + fucntions defined at module scope\n",
    "* methods\n",
    "  + fucntions defined within a class definition\n",
    "* argument types\n",
    "  + the choice between positional and keyword arguments is made at the call site, not at the definition\n",
    "  + a particular argument may be passed as a positional argument in one call, but as a keyword argument in another call\n",
    "  * positional arguments\n",
    "    + matched with formal arguments by position in order\n",
    "  * keyword arguments\n",
    "    + matched with formal arguments by name, can be provided in any order, if provided following all positional arguments \n",
    "* default arguments\n",
    "  + arguments may have a default value\n",
    "  + the righ hand side of the default value is only evaluated once at the time enclosing def statement is executed, which usually is when the module is first imported\n",
    "    + be careful when using mutable default values, which can inadvertently retain modifications between calls\n",
    "* functions are objects and can be passed around just like any other objects \n",
    "* function objects are callable objects\n",
    "* def keyword is responsible for binding a function object, which contains a function definition, to a function name\n",
    "* see the following cell for code example\n",
    "  + function name: resolve refers to a function object\n",
    "  + use postfix parentheses (function call operator) to invoke function"
   ]
  },
  {
   "cell_type": "code",
   "execution_count": 1,
   "id": "d5333abe",
   "metadata": {},
   "outputs": [],
   "source": [
    "import socket\n",
    "def resolve(host):\n",
    "    return socket.gethostbyname(host)"
   ]
  },
  {
   "cell_type": "code",
   "execution_count": 2,
   "id": "237072f4",
   "metadata": {},
   "outputs": [
    {
     "data": {
      "text/plain": [
       "<function __main__.resolve(host)>"
      ]
     },
     "execution_count": 2,
     "metadata": {},
     "output_type": "execute_result"
    }
   ],
   "source": [
    "resolve"
   ]
  },
  {
   "cell_type": "code",
   "execution_count": 3,
   "id": "64d11d84",
   "metadata": {},
   "outputs": [
    {
     "data": {
      "text/plain": [
       "'93.93.131.30'"
      ]
     },
     "execution_count": 3,
     "metadata": {},
     "output_type": "execute_result"
    }
   ],
   "source": [
    "resolve('sixty-north.com')"
   ]
  },
  {
   "cell_type": "markdown",
   "id": "b815c7b7",
   "metadata": {},
   "source": [
    "#### callable objects\n",
    "\\_\\_call\\_\\_()\n",
    "* allows instances of classes to be callable objects\n",
    "* is invoked on objects when thare are called like functions\n",
    "* in the following cell, Resolver is a class with its \\_\\_call\\_\\_() method implemented\n",
    "* a Resolver object can be called, using the argument defined in its \\_\\_call\\_\\_(), which is host (self does not count)\n",
    "* in another word, resolver(host) == resolver.\\_\\_call\\_\\_(host)\n",
    "* since callable instances are just normal class instances, their classes can define any other methods you want, such as the clear() and has_host()\n",
    "* as demonstrated in the code, we use \\_\\_call\\_\\_ when we need to maintain state information between calls, here is the queried ip hosts and addresses"
   ]
  },
  {
   "cell_type": "code",
   "execution_count": 5,
   "id": "b5105f6d",
   "metadata": {},
   "outputs": [],
   "source": [
    "import socket\n",
    "\n",
    "class Resolver:\n",
    "    def __init__(self):\n",
    "        self._cache = {}\n",
    "\n",
    "    def __call__(self, host):\n",
    "        if host not in self._cache:\n",
    "            self._cache[host] = socket.gethostbyname(host)\n",
    "        return self._cache[host]\n",
    "\n",
    "    def clear(self):\n",
    "        self._cache.clear()\n",
    "\n",
    "    def has_host(self, host):\n",
    "        return host in self._cache"
   ]
  },
  {
   "cell_type": "code",
   "execution_count": 6,
   "id": "b1eb2310",
   "metadata": {},
   "outputs": [
    {
     "data": {
      "text/plain": [
       "'93.93.131.30'"
      ]
     },
     "execution_count": 6,
     "metadata": {},
     "output_type": "execute_result"
    }
   ],
   "source": [
    "resolver = Resolver()\n",
    "resolver(\"sixty-north.com\")"
   ]
  },
  {
   "cell_type": "code",
   "execution_count": 14,
   "id": "656a27a3",
   "metadata": {},
   "outputs": [
    {
     "data": {
      "text/plain": [
       "'93.93.131.30'"
      ]
     },
     "execution_count": 14,
     "metadata": {},
     "output_type": "execute_result"
    }
   ],
   "source": [
    "# resolver(host) == resolver.__call(host)\n",
    "resolver.__call__(\"sixty-north.com\")"
   ]
  },
  {
   "cell_type": "code",
   "execution_count": 8,
   "id": "c4c41280",
   "metadata": {},
   "outputs": [
    {
     "data": {
      "text/plain": [
       "{'sixty-north.com': '93.93.131.30'}"
      ]
     },
     "execution_count": 8,
     "metadata": {},
     "output_type": "execute_result"
    }
   ],
   "source": [
    "resolver._cache"
   ]
  },
  {
   "cell_type": "code",
   "execution_count": 12,
   "id": "0b0a81fd",
   "metadata": {},
   "outputs": [
    {
     "data": {
      "text/plain": [
       "'35.162.133.205'"
      ]
     },
     "execution_count": 12,
     "metadata": {},
     "output_type": "execute_result"
    }
   ],
   "source": [
    "resolver('pluralsight.com')"
   ]
  },
  {
   "cell_type": "code",
   "execution_count": 15,
   "id": "43707d5f",
   "metadata": {},
   "outputs": [
    {
     "data": {
      "text/plain": [
       "{'sixty-north.com': '93.93.131.30', 'pluralsight.com': '35.162.133.205'}"
      ]
     },
     "execution_count": 15,
     "metadata": {},
     "output_type": "execute_result"
    }
   ],
   "source": [
    "# resolver._cache stores all the queried host ips in the dictionary\n",
    "resolver._cache"
   ]
  },
  {
   "cell_type": "markdown",
   "id": "e92c86f1",
   "metadata": {},
   "source": [
    "#### Show the time speed up by using cache"
   ]
  },
  {
   "cell_type": "code",
   "execution_count": 16,
   "id": "5967ef71",
   "metadata": {},
   "outputs": [
    {
     "data": {
      "text/plain": [
       "0.031369100004667416"
      ]
     },
     "execution_count": 16,
     "metadata": {},
     "output_type": "execute_result"
    }
   ],
   "source": [
    "from timeit import timeit\n",
    "timeit(setup=\"from __main__ import resolve\", stmt=\"resolve('google.com')\", number=1)"
   ]
  },
  {
   "cell_type": "code",
   "execution_count": 18,
   "id": "e6f3d0c8",
   "metadata": {},
   "outputs": [
    {
     "data": {
      "text/plain": [
       "0.0004041000211145729"
      ]
     },
     "execution_count": 18,
     "metadata": {},
     "output_type": "execute_result"
    }
   ],
   "source": [
    "# the second time it is called, it is much faster since the results are retrieved from cache in memory\n",
    "timeit(setup=\"from __main__ import resolve\", stmt=\"resolve('google.com')\", number=1)"
   ]
  },
  {
   "cell_type": "markdown",
   "id": "6482ddf2",
   "metadata": {},
   "source": [
    "#### clear the cache by clear() method"
   ]
  },
  {
   "cell_type": "code",
   "execution_count": 19,
   "id": "a7875622",
   "metadata": {},
   "outputs": [
    {
     "name": "stdout",
     "output_type": "stream",
     "text": [
      "before clearing cache\n",
      "True\n",
      "after clearing cache\n",
      "False\n"
     ]
    }
   ],
   "source": [
    "print(\"before clearing cache\")\n",
    "print(resolver.has_host(\"pluralsight.com\"))\n",
    "resolver.clear()\n",
    "print(\"after clearing cache\")\n",
    "print(resolver.has_host(\"pluralsight.com\"))"
   ]
  },
  {
   "cell_type": "markdown",
   "id": "568abdbc",
   "metadata": {},
   "source": [
    "### Classes are callable\n",
    "* not only the class instances, but also the class objects themselves are callable\n",
    "* class objects and instances of classes are very different things\n",
    "* in python the 'class' keyword binds a class object to a named referencing that class\n",
    "* when we consruct a new instance, we call the class object of the corresponding class\n",
    "  + Resolver() where Resolver is the class object, and we call it by postfix parenthesis, and this call is forwarded to the class \\_\\_init\\_\\_() method, if defined\n",
    "* classes are object factories and they produce new instances when they are invoked   "
   ]
  },
  {
   "cell_type": "markdown",
   "id": "08abd1db",
   "metadata": {},
   "source": [
    "#### Returning class objects\n",
    "* the following code returns class object.\n",
    "  + both tuple and list are built-in class objects\n",
    "* we then call these class objects and construct the corresponding class instances\n",
    "  + when cls== tuple, it creates a tuple object, otherwise, a list object"
   ]
  },
  {
   "cell_type": "code",
   "execution_count": 21,
   "id": "61c642ea",
   "metadata": {},
   "outputs": [],
   "source": [
    "def sequence_class(immutable):\n",
    "    if immutable:\n",
    "        cls = tuple\n",
    "    else:\n",
    "        cls = list\n",
    "    return cls    "
   ]
  },
  {
   "cell_type": "code",
   "execution_count": 22,
   "id": "4cac11ff",
   "metadata": {},
   "outputs": [
    {
     "data": {
      "text/plain": [
       "('T', 'i', 'm', 'b', 'u', 'k', 't', 'u')"
      ]
     },
     "execution_count": 22,
     "metadata": {},
     "output_type": "execute_result"
    }
   ],
   "source": [
    "seq = sequence_class(immutable=True)\n",
    "t = seq(\"Timbuktu\")\n",
    "t"
   ]
  },
  {
   "cell_type": "markdown",
   "id": "aca46924",
   "metadata": {},
   "source": [
    "#### Conditional experssions\n",
    "* evaluate to one of two expressions depending on a boolean\n",
    "* result = true_value if condition else false_value\n",
    "* we can use this to modify our sequence_class code"
   ]
  },
  {
   "cell_type": "code",
   "execution_count": 23,
   "id": "a70968c4",
   "metadata": {},
   "outputs": [
    {
     "data": {
      "text/plain": [
       "('T', 'i', 'm', 'b', 'u', 'k', 't', 'u')"
      ]
     },
     "execution_count": 23,
     "metadata": {},
     "output_type": "execute_result"
    }
   ],
   "source": [
    "def sequence_class(immutable):\n",
    "    return tuple if immutable else list\n",
    "\n",
    "seq = sequence_class(immutable=True)\n",
    "t = seq(\"Timbuktu\")\n",
    "t"
   ]
  },
  {
   "cell_type": "markdown",
   "id": "17ad0c6e",
   "metadata": {},
   "source": [
    "#### lambda allows you to create anonymous callable objects\n",
    "* for example, sorted(iterable, key)\n",
    "  + key is a callable such as a lambda\n",
    "  + iterable such as a list\n",
    "* lambda defines a function, if you assign a lambda to a variable, that variable will be a callable function  "
   ]
  },
  {
   "cell_type": "code",
   "execution_count": 26,
   "id": "bc3ca410",
   "metadata": {},
   "outputs": [
    {
     "data": {
      "text/plain": [
       "['Niels Bohr',\n",
       " 'Marie Curie',\n",
       " 'Charles Darwin',\n",
       " 'Albert Einstein',\n",
       " 'Dian Fossey',\n",
       " 'Rosalind Franklin',\n",
       " 'Grace Hopper',\n",
       " 'Lise Meitner',\n",
       " 'Isaac Newton']"
      ]
     },
     "execution_count": 26,
     "metadata": {},
     "output_type": "execute_result"
    }
   ],
   "source": [
    "scientists = ['Marie Curie', 'Albert Einstein', 'Rosalind Franklin',        \n",
    "             'Niels Bohr', 'Dian Fossey', 'Isaac Newton',                  \n",
    "              'Grace Hopper', 'Charles Darwin', 'Lise Meitner']             \n",
    "sorted(scientists, key=lambda x: x.split()[-1])                                                                      "
   ]
  },
  {
   "cell_type": "code",
   "execution_count": 27,
   "id": "1cb02829",
   "metadata": {},
   "outputs": [
    {
     "data": {
      "text/plain": [
       "<function __main__.<lambda>(x)>"
      ]
     },
     "execution_count": 27,
     "metadata": {},
     "output_type": "execute_result"
    }
   ],
   "source": [
    "last_name = lambda x: x.split()[-1]\n",
    "last_name"
   ]
  },
  {
   "cell_type": "markdown",
   "id": "0306dce0",
   "metadata": {},
   "source": [
    "#### More about lambda\n",
    "* lambda uses expression which evaluates to a function, a regular function uses statement\n",
    "* lambda is anonymous\n",
    "* argument list terminated by a colon and separated by commas\n",
    "* zero or more arguments supported (zero arguments -> lambda:\n",
    "* boday is a single expression\n",
    "* no return statement is allowed, return value is given by the body expression "
   ]
  },
  {
   "cell_type": "markdown",
   "id": "03482c84",
   "metadata": {},
   "source": [
    "#### Detecting Callable objects\n",
    "* using callable() to detect if an object is callable\n",
    "* function is callable\n",
    "* lambda is callable\n",
    "* method is callable\n",
    "* class object is callable since they can be called to construct objects\n",
    "* instance variable of a class implementing \\_\\_call\\_\\_() method is callable"
   ]
  },
  {
   "cell_type": "markdown",
   "id": "b814e14a",
   "metadata": {},
   "source": [
    "### Extended Argument Syntax\n",
    "* applies to all types of callables\n",
    "#### positional arguments (as \\*args)\n",
    "  + the type of \\*args is a tuple\n",
    "  + when you need to accept a variable number of arguments with a positive lower bound you should consider to use regular positional arguments for the required parameters and \\*args to deal with any extra arguments\n",
    "  + \\*args must come after normal positional arguments\n",
    "  + can have only one \\*args in the argument list\n",
    "  + only collects positional arguments"
   ]
  },
  {
   "cell_type": "code",
   "execution_count": 28,
   "id": "586d3781",
   "metadata": {},
   "outputs": [],
   "source": [
    "def hypervolume(*args):\n",
    "    print(args)\n",
    "    print(type(args))"
   ]
  },
  {
   "cell_type": "code",
   "execution_count": 29,
   "id": "5fae6c71",
   "metadata": {},
   "outputs": [
    {
     "name": "stdout",
     "output_type": "stream",
     "text": [
      "(3, 4)\n",
      "<class 'tuple'>\n"
     ]
    }
   ],
   "source": [
    "hypervolume(3, 4)"
   ]
  },
  {
   "cell_type": "code",
   "execution_count": 30,
   "id": "cdd4e8c3",
   "metadata": {},
   "outputs": [],
   "source": [
    "# version using iter \n",
    "def hypervolume(*lengths):\n",
    "    i = iter(lengths)\n",
    "    v = next(i)\n",
    "    for length in i:\n",
    "        v *= length\n",
    "    return v    "
   ]
  },
  {
   "cell_type": "code",
   "execution_count": 31,
   "id": "86010b48",
   "metadata": {},
   "outputs": [
    {
     "data": {
      "text/plain": [
       "60"
      ]
     },
     "execution_count": 31,
     "metadata": {},
     "output_type": "execute_result"
    }
   ],
   "source": [
    "hypervolume(3, 4, 5)"
   ]
  },
  {
   "cell_type": "code",
   "execution_count": 32,
   "id": "52d0bda5",
   "metadata": {},
   "outputs": [],
   "source": [
    "# more straightforward version using iterator\n",
    "def hypervolume(length, *lengths):\n",
    "    v = length\n",
    "    for item in lengths:\n",
    "        v *= item\n",
    "    return v    "
   ]
  },
  {
   "cell_type": "code",
   "execution_count": 33,
   "id": "1bffc0be",
   "metadata": {},
   "outputs": [
    {
     "data": {
      "text/plain": [
       "60"
      ]
     },
     "execution_count": 33,
     "metadata": {},
     "output_type": "execute_result"
    }
   ],
   "source": [
    "hypervolume(3, 4, 5)"
   ]
  },
  {
   "cell_type": "markdown",
   "id": "a55d217e",
   "metadata": {},
   "source": [
    "#### arbitrary keyword arguments\n",
    "* prefix argument with \\*\\* to accept arbitrary keyword arguments\n",
    "* conventionally called \\*\\*kwargs\n",
    "  "
   ]
  },
  {
   "cell_type": "code",
   "execution_count": 34,
   "id": "208cce89",
   "metadata": {},
   "outputs": [],
   "source": [
    "def tag(name, **kwargs):\n",
    "    print(name)\n",
    "    print(kwargs)\n",
    "    print(type(kwargs))"
   ]
  },
  {
   "cell_type": "code",
   "execution_count": 35,
   "id": "7ddee399",
   "metadata": {},
   "outputs": [
    {
     "name": "stdout",
     "output_type": "stream",
     "text": [
      "img\n",
      "{'src': 'Monet.jpg', 'alt': 'Sunrise by Claude Monet', 'border': 1}\n",
      "<class 'dict'>\n"
     ]
    }
   ],
   "source": [
    "tag('img', src='Monet.jpg', alt=\"Sunrise by Claude Monet\", border=1)"
   ]
  },
  {
   "cell_type": "code",
   "execution_count": 36,
   "id": "e9c507c7",
   "metadata": {},
   "outputs": [],
   "source": [
    "def tag(name, **attributes):\n",
    "    result = '<' + name                                                     \n",
    "    for key, value in attributes.items():\n",
    "        result += ' {k}=\"{v}\"'.format(k=key, v=str(value))                  \n",
    "    result += '>'                                                           \n",
    "    return result              "
   ]
  },
  {
   "cell_type": "code",
   "execution_count": 37,
   "id": "89927b39",
   "metadata": {},
   "outputs": [
    {
     "data": {
      "text/plain": [
       "'<img src=\"Monet.jpg\" alt=\"Sunrise by Claude Monet\" border=\"1\">'"
      ]
     },
     "execution_count": 37,
     "metadata": {},
     "output_type": "execute_result"
    }
   ],
   "source": [
    "tag('img', src='Monet.jpg', alt=\"Sunrise by Claude Monet\", border=1)"
   ]
  },
  {
   "cell_type": "markdown",
   "id": "2561666b",
   "metadata": {},
   "source": [
    "#### combine positional and arbitrary keyword arguments\n",
    "* \\*args, if present, must before \\*\\*kwargs\n",
    "* any arguments preceding \\*args are token to be regular positional arguments\n",
    "* any regular arguments after \\*args must be passed as mandatory keyword arguments\n",
    "* to use mandatory keyword arguments without accepting arbitrary number of positional arguments, python allows to omit the name of \\*args argument\n",
    "* arguments following the asterisk can only be passed to the function as keyword arguments, and you are not allowed to pass extra positional arguments to the function\n",
    "* \\*\\*kwargs, if present, must be the last in the argument list"
   ]
  },
  {
   "cell_type": "code",
   "execution_count": 38,
   "id": "9c724281",
   "metadata": {},
   "outputs": [],
   "source": [
    "def name_tag(first_name, last_name, *, title=''):\n",
    "    print(title, first_name, last_name)\n",
    "    \n",
    "# accept the first_name, last_name as positional \n",
    "# and use keyword arg title without accepting arbitrary number of positional argument\n",
    "name_tag('Judy', 'Spudmeyer', title='Galactic Commander')     "
   ]
  },
  {
   "cell_type": "code",
   "execution_count": 39,
   "id": "912a1ed0",
   "metadata": {},
   "outputs": [
    {
     "ename": "TypeError",
     "evalue": "name_tag() takes 2 positional arguments but 3 positional arguments (and 1 keyword-only argument) were given",
     "output_type": "error",
     "traceback": [
      "\u001b[1;31m---------------------------------------------------------------------------\u001b[0m",
      "\u001b[1;31mTypeError\u001b[0m                                 Traceback (most recent call last)",
      "Input \u001b[1;32mIn [39]\u001b[0m, in \u001b[0;36m<cell line: 2>\u001b[1;34m()\u001b[0m\n\u001b[0;32m      1\u001b[0m \u001b[38;5;66;03m# can not pass any extra positional arg if use *\u001b[39;00m\n\u001b[1;32m----> 2\u001b[0m \u001b[43mname_tag\u001b[49m\u001b[43m(\u001b[49m\u001b[38;5;124;43m'\u001b[39;49m\u001b[38;5;124;43mJames\u001b[39;49m\u001b[38;5;124;43m'\u001b[39;49m\u001b[43m,\u001b[49m\u001b[43m \u001b[49m\u001b[38;5;124;43m'\u001b[39;49m\u001b[38;5;124;43mTiberius\u001b[39;49m\u001b[38;5;124;43m'\u001b[39;49m\u001b[43m,\u001b[49m\u001b[43m \u001b[49m\u001b[38;5;124;43m'\u001b[39;49m\u001b[38;5;124;43mKirk\u001b[39;49m\u001b[38;5;124;43m'\u001b[39;49m\u001b[43m,\u001b[49m\u001b[43m \u001b[49m\u001b[43mtitle\u001b[49m\u001b[38;5;241;43m=\u001b[39;49m\u001b[38;5;124;43m'\u001b[39;49m\u001b[38;5;124;43mCapt.\u001b[39;49m\u001b[38;5;124;43m'\u001b[39;49m\u001b[43m)\u001b[49m\n",
      "\u001b[1;31mTypeError\u001b[0m: name_tag() takes 2 positional arguments but 3 positional arguments (and 1 keyword-only argument) were given"
     ]
    }
   ],
   "source": [
    "# can not pass any extra positional arg if use *\n",
    "name_tag('James', 'Tiberius', 'Kirk', title='Capt.') "
   ]
  },
  {
   "cell_type": "code",
   "execution_count": 41,
   "id": "12d36024",
   "metadata": {},
   "outputs": [
    {
     "name": "stdout",
     "output_type": "stream",
     "text": [
      "1\n",
      "2\n",
      "(3, 4, 5)\n",
      "6\n",
      "7\n",
      "{'kwarg3': 8, 'kwarg4': 9}\n"
     ]
    }
   ],
   "source": [
    " # all args after *args must be keyword args, \n",
    " # and **kwargs, if present, must be the last one in the arg list\n",
    "def print_args(arg1, arg2, *args, kwarg1, kwarg2, **kwargs):\n",
    "        print(arg1)                                                             \n",
    "        print(arg2)                                                             \n",
    "        print(args)                                                             \n",
    "        print(kwarg1)                                                           \n",
    "        print(kwarg2)                                                           \n",
    "        print(kwargs)                                                           \n",
    "                                                                            \n",
    "print_args(1, 2, 3, 4, 5, kwarg1=6, kwarg2=7, kwarg3=8, kwarg4=9)     "
   ]
  },
  {
   "cell_type": "markdown",
   "id": "1480a43c",
   "metadata": {},
   "source": [
    "#### Default arguments\n",
    "* when combined with default arguments, mandatory args must be specified before optional arguments at the call site"
   ]
  },
  {
   "cell_type": "markdown",
   "id": "e6de189d",
   "metadata": {},
   "source": [
    "#### positional-only arguments\n",
    "* positional only arguments can be defined by using a / in the arg list. Any args before / must be positional, and can not be passed as keyword arg"
   ]
  },
  {
   "cell_type": "code",
   "execution_count": 42,
   "id": "c94f53d6",
   "metadata": {},
   "outputs": [],
   "source": [
    "def number_length(x, /):\n",
    "    return len(str(x))"
   ]
  },
  {
   "cell_type": "code",
   "execution_count": 43,
   "id": "2f8ff73e",
   "metadata": {},
   "outputs": [
    {
     "data": {
      "text/plain": [
       "4"
      ]
     },
     "execution_count": 43,
     "metadata": {},
     "output_type": "execute_result"
    }
   ],
   "source": [
    "number_length(2112)"
   ]
  },
  {
   "cell_type": "code",
   "execution_count": 44,
   "id": "008a1bd2",
   "metadata": {},
   "outputs": [
    {
     "ename": "TypeError",
     "evalue": "number_length() got some positional-only arguments passed as keyword arguments: 'x'",
     "output_type": "error",
     "traceback": [
      "\u001b[1;31m---------------------------------------------------------------------------\u001b[0m",
      "\u001b[1;31mTypeError\u001b[0m                                 Traceback (most recent call last)",
      "Input \u001b[1;32mIn [44]\u001b[0m, in \u001b[0;36m<cell line: 1>\u001b[1;34m()\u001b[0m\n\u001b[1;32m----> 1\u001b[0m \u001b[43mnumber_length\u001b[49m\u001b[43m(\u001b[49m\u001b[43mx\u001b[49m\u001b[38;5;241;43m=\u001b[39;49m\u001b[38;5;241;43m2345\u001b[39;49m\u001b[43m)\u001b[49m\n",
      "\u001b[1;31mTypeError\u001b[0m: number_length() got some positional-only arguments passed as keyword arguments: 'x'"
     ]
    }
   ],
   "source": [
    "number_length(x=2345)"
   ]
  },
  {
   "cell_type": "markdown",
   "id": "b403ecd3",
   "metadata": {},
   "source": [
    "### Extended call syntax\n",
    "* this complements to the extended formal argument syntax\n",
    "* allows us to use iterable series, such as a tuple, to populate positional arguments and any mapping type, suh as a dictionary, that has string keys to populated keyword arguments\n",
    "* in the following code, the tuple are unpaced into the positional argument list at call site\n",
    "* "
   ]
  },
  {
   "cell_type": "code",
   "execution_count": 51,
   "id": "52fa04c6",
   "metadata": {},
   "outputs": [
    {
     "name": "stdout",
     "output_type": "stream",
     "text": [
      "------------------------------\n",
      "demo unpacking tuple input to argument list\n",
      "11\n",
      "12\n",
      "(13, 14)\n",
      "------------------------\n",
      "demo unpacking input dictionary to argument list\n",
      "r = 21\n",
      "g = 68\n",
      "b = 120\n",
      "{'alpha': 52}\n",
      "------------------------\n",
      "demo unpacking input dictionary to argument list\n",
      "r = 21\n",
      "g = 68\n",
      "b = 120\n",
      "{'alpha': 52}\n"
     ]
    }
   ],
   "source": [
    "# example of unpacking input tuple\n",
    "def print_args(arg1, arg2, *args):\n",
    "    print(\"------------------------------\")\n",
    "    print(\"demo unpacking tuple input to argument list\")\n",
    "    print(arg1)\n",
    "    print(arg2),\n",
    "    print(args)\n",
    "    \n",
    "# construct input tuple\n",
    "t = (11, 12, 13, 14)\n",
    "\n",
    "# pass the tuple and unpack it to argument list\n",
    "print_args(*t)\n",
    "\n",
    "\n",
    "\n",
    "# example of unpacking input directionary\n",
    "def color(red, green, blue, **kwargs):\n",
    "    print(\"------------------------\")\n",
    "    print(\"demo unpacking input dictionary to argument list\")\n",
    "    print(\"r =\", red)\n",
    "    print(\"g =\", green)\n",
    "    print(\"b =\", blue)\n",
    "    print(kwargs)\n",
    "    \n",
    "# construct input dictionary\n",
    "k = {'red': 21, 'green': 68, 'blue': 120, 'alpha': 52}\n",
    "\n",
    "# pass the dictionary and unpack it to the argument list\n",
    "color(**k)\n",
    "\n",
    "k1 = dict(red=21, green=68, blue=120, alpha=52)\n",
    "color(**k1)"
   ]
  },
  {
   "cell_type": "markdown",
   "id": "95a4b265",
   "metadata": {},
   "source": [
    "#### Argument Forwarding\n",
    "* use both star args and start star args to forward all arguments of a function to another function\n",
    "* the format is usually \\*args, \\*\\*kwargs. Note that \\*args should always preceeding \\*\\*kwargs"
   ]
  },
  {
   "cell_type": "code",
   "execution_count": 55,
   "id": "0b5626a3",
   "metadata": {},
   "outputs": [
    {
     "name": "stdout",
     "output_type": "stream",
     "text": [
      "args = ('ff',)\n",
      "kwargs = {'base': 16}\n",
      "result = 255\n"
     ]
    },
    {
     "data": {
      "text/plain": [
       "255"
      ]
     },
     "execution_count": 55,
     "metadata": {},
     "output_type": "execute_result"
    }
   ],
   "source": [
    "def trace(f, *args, **kwargs):\n",
    "    print(\"args =\", args)\n",
    "    print(\"kwargs =\", kwargs)\n",
    "    result = f(*args, **kwargs)\n",
    "    print(\"result =\", result)\n",
    "    return result\n",
    "\n",
    "# call trace and pass \"ff\" and base=16 to int function\n",
    "trace(int, \"ff\", base=16)"
   ]
  },
  {
   "cell_type": "markdown",
   "id": "08e209e2",
   "metadata": {},
   "source": [
    "### Closure\n",
    "* python support for local functions: functions to find within other functions\n",
    "* enclosing namespace (come into play when loacal functions are used)\n",
    "* how local functions are returned from functions just like other functions\n",
    "* how closures are used for managing object lifetimes for local functions\n",
    "* how to use nonlocal keyword to pull names from a enclosing namespace into local functions,similar to how the global keyword works  "
   ]
  },
  {
   "cell_type": "markdown",
   "id": "f0582980",
   "metadata": {},
   "source": [
    "#### How functions are defined\n",
    "* use 'def' to define new function\n",
    "* 'def' binds a function object (the function body) to a name (function name)\n",
    "* 'def' is executed at run time, meaning that functions are defined at runtime \n",
    "* functions can be defined at module-level or within a class as class methods\n",
    "* you can also define functions inside other functions\n",
    "  + these functions are called local functions since they are defined local to a specific function's scope\n",
    "  + an example is shown in the following cell: function last_letters is defined and used within function sort_by_last_letter"
   ]
  },
  {
   "cell_type": "code",
   "execution_count": 56,
   "id": "28c374d9",
   "metadata": {},
   "outputs": [
    {
     "data": {
      "text/plain": [
       "['a', 'local', 'from', 'function', 'hello']"
      ]
     },
     "execution_count": 56,
     "metadata": {},
     "output_type": "execute_result"
    }
   ],
   "source": [
    "def sort_by_last_letter(strings):\n",
    "    def last_letter(s):\n",
    "        return s[-1]\n",
    "    return sorted(strings, key=last_letter)\n",
    "\n",
    "sort_by_last_letter(['hello', 'from', 'a', 'local', 'function'])"
   ]
  },
  {
   "cell_type": "markdown",
   "id": "5ab373fe",
   "metadata": {},
   "source": [
    "#### execution of local functions\n",
    "* local functions are defined at runtime when def is executed\n",
    "* in the above example, each time when sort_by_last_letter is called, a new copy of last_letter function is created locally for each enclosing invocation\n",
    "* each time when sort_by_last_letter is called, a new local function instance is created and bound to last_letter"
   ]
  },
  {
   "cell_type": "markdown",
   "id": "1a2e312c",
   "metadata": {},
   "source": [
    "#### scopes of local functions for name resolution\n",
    "* local function follows the same LEGB rule for name lookup from local, enclosing, global and built-in scopes\n",
    "* local functions find names \n",
    "  + start with names in the local function itself\n",
    "  + then checks enclosing scope(s), which is the containing function both the local names and parameters of the containing function\n",
    "  + finally module-leve (which is the global) and built-in names are checked\n",
    "* local functions are not members of their enclosing functions. They are just local name bindings in the function body \n",
    "  + in the following example, you can not access inner function from outer function by outer.inner(), since inner is not the member of outer. It is just a variable defined in outer function's body"
   ]
  },
  {
   "cell_type": "code",
   "execution_count": 58,
   "id": "ca03b54e",
   "metadata": {},
   "outputs": [
    {
     "name": "stdout",
     "output_type": "stream",
     "text": [
      "global param local\n"
     ]
    }
   ],
   "source": [
    "# module-level (global)\n",
    "g = 'global'\n",
    "\n",
    "# enclosing-level param\n",
    "def outer(p='param'):\n",
    "    l = 'local'  # local variable\n",
    "    def inner():\n",
    "        print(g, p, l)\n",
    "    inner()\n",
    "    \n",
    "outer()    \n"
   ]
  },
  {
   "cell_type": "markdown",
   "id": "2d9e3fd0",
   "metadata": {},
   "source": [
    "#### When to use local function\n",
    "* defining one-off fucntions close to their use\n",
    "* assist code organization and readability similar to lambdas, but more general\n",
    "  + they can contain multiple expressions\n",
    "  + may contains statements such as import\n",
    "* "
   ]
  },
  {
   "cell_type": "markdown",
   "id": "474f26c3",
   "metadata": {},
   "source": [
    "#### First-class functions\n",
    "* functions can be passed to and returned from functions\n",
    "* more generally, they can be treated like any other data\n",
    "* this will be a powerful concept when combined with closures\n",
    "* local functions can be returned from the enclosing functions\n",
    "* in the following code example, local function, local_func is returned from enclosing()\n",
    "* when we execute enclosing(), we assigned the returned local function to a variable, lf, which is a function\n",
    "* we then execute the lf function by lf()"
   ]
  },
  {
   "cell_type": "code",
   "execution_count": 59,
   "id": "07bcf3de",
   "metadata": {},
   "outputs": [
    {
     "name": "stdout",
     "output_type": "stream",
     "text": [
      "local func\n"
     ]
    }
   ],
   "source": [
    "def enclosing():\n",
    "    def local_func():\n",
    "        print('local func')\n",
    "    return local_func\n",
    "\n",
    "lf = enclosing()\n",
    "lf()"
   ]
  },
  {
   "cell_type": "markdown",
   "id": "c1683de9",
   "metadata": {},
   "source": [
    "#### Closures and nested scopes\n",
    "* how does a local function find enclosing variables when enclsing scope is gone once the local function is returned?\n",
    "  + by closure.\n",
    "  + a closure essentially records the objects from the enclosing scope that the local function needs\n",
    "  + it then keeps recorded objects alive for use after the enclosing scope is gone\n",
    "* python implements closure with the \\_\\_closure\\_\\_ attribute\n",
    "  + if a function closes over any objects, then that function has a \\_\\_closure\\_\\_ attribute, which maintain the necessary references to those objects, and prevent those objects from garbage collections, as shown in the following cell"
   ]
  },
  {
   "cell_type": "code",
   "execution_count": 60,
   "id": "ffaf2151",
   "metadata": {},
   "outputs": [
    {
     "name": "stdout",
     "output_type": "stream",
     "text": [
      "closed over\n"
     ]
    },
    {
     "data": {
      "text/plain": [
       "(<cell at 0x000002E3DDAB7100: str object at 0x000002E3DF5301B0>,)"
      ]
     },
     "execution_count": 60,
     "metadata": {},
     "output_type": "execute_result"
    }
   ],
   "source": [
    "def enclosing():\n",
    "    x = 'closed over'\n",
    "    def local_func():\n",
    "        print(x)\n",
    "    return local_func\n",
    "\n",
    "lf = enclosing()\n",
    "lf()\n",
    "lf.__closure__"
   ]
  },
  {
   "cell_type": "markdown",
   "id": "997d3a46",
   "metadata": {},
   "source": [
    "#### Function factories\n",
    "* functions that return other functions, with returned functions specialized based on the arguments to the factory\n",
    "* returned functions use both their own arguments as well as arguments to the factory\n",
    "  + combination of runtime function definition and closures makes this possible\n",
    "* the following code example shows a function factory that generate functions to raises numbers to a particular power"
   ]
  },
  {
   "cell_type": "code",
   "execution_count": 61,
   "id": "d29cd1f4",
   "metadata": {},
   "outputs": [
    {
     "data": {
      "text/plain": [
       "(<cell at 0x000002E3DDAB7220: int object at 0x000002E3D9020110>,)"
      ]
     },
     "execution_count": 61,
     "metadata": {},
     "output_type": "execute_result"
    }
   ],
   "source": [
    "def raise_to(exp):\n",
    "    def raise_to_exp(x):\n",
    "        return pow(x, exp)\n",
    "    return raise_to_exp\n",
    "\n",
    "square = raise_to(2)\n",
    "square.__closure__"
   ]
  },
  {
   "cell_type": "code",
   "execution_count": 63,
   "id": "a54ccf76",
   "metadata": {},
   "outputs": [
    {
     "name": "stdout",
     "output_type": "stream",
     "text": [
      "25\n",
      "81\n",
      "121\n"
     ]
    }
   ],
   "source": [
    "print(square(5))\n",
    "print(square(9))\n",
    "print(square(11))"
   ]
  },
  {
   "cell_type": "markdown",
   "id": "f4cc138e",
   "metadata": {},
   "source": [
    "#### Binding names in enclosing scopes\n",
    "* if we have a module or enclosing level variable, and when you assign a new value to it in our local function:\n",
    "  + local function will create a new local variable with the same name, and assign the value to it without changing the module or enclosing variable value\n",
    "  + if we want local function to change a module level variable, we can bind the global variabel in to local()\n",
    "* similarly, if we want to bind an enclosing scope variable to local function, we use nonlocal\n",
    "  + nonlocal inserts a name binding from an enclosing scope into the local namespace\n",
    "  + python searches enclosing scopes from innermost to outermost and use the first match found\n",
    "  + if there is no matching of the enclosing scope variable, python will raise a syntax error"
   ]
  },
  {
   "cell_type": "code",
   "execution_count": 67,
   "id": "dd5e45b2",
   "metadata": {},
   "outputs": [
    {
     "name": "stdout",
     "output_type": "stream",
     "text": [
      "global message: global\n",
      "enclosing message: enclosing\n",
      "encolsing message enclosing\n",
      "global message: global\n"
     ]
    }
   ],
   "source": [
    "# local function will create a new variable(message) rathe than modifying global or enclosing level message variables\n",
    "message = 'global'\n",
    "\n",
    "def enclosing():\n",
    "    message = 'enclosing'\n",
    "    \n",
    "    def local():\n",
    "        message = 'local'\n",
    "        \n",
    "    print(\"enclosing message:\", message)\n",
    "    local()\n",
    "    print(\"encolsing message\", message)\n",
    "    \n",
    "print(\"global message:\", message)\n",
    "enclosing()   \n",
    "print(\"global message:\", message)"
   ]
  },
  {
   "cell_type": "code",
   "execution_count": 69,
   "id": "c773ebac",
   "metadata": {},
   "outputs": [
    {
     "name": "stdout",
     "output_type": "stream",
     "text": [
      "global message: global\n",
      "enclosing message: enclosing\n",
      "encolsing message enclosing\n",
      "global message: local\n"
     ]
    }
   ],
   "source": [
    "# to modify the global variable, we need to declare message variable as global and then modify it\n",
    "message = 'global'\n",
    "\n",
    "def enclosing():\n",
    "    message = 'enclosing'\n",
    "    \n",
    "    def local():\n",
    "        global message\n",
    "        message = 'local'\n",
    "        \n",
    "    print(\"enclosing message:\", message)\n",
    "    local()\n",
    "    print(\"encolsing message\", message)\n",
    "    \n",
    "print(\"global message:\", message)\n",
    "enclosing()   \n",
    "print(\"global message:\", message)"
   ]
  },
  {
   "cell_type": "code",
   "execution_count": 72,
   "id": "6c79cf68",
   "metadata": {},
   "outputs": [
    {
     "name": "stdout",
     "output_type": "stream",
     "text": [
      "global message: global\n",
      "enclosing message: enclosing\n",
      "encolsing message local\n",
      "global message: global\n"
     ]
    }
   ],
   "source": [
    "# to modify the enclosing variable, we need to declare message variable as nonlocal and then modify it\n",
    "message = 'global'\n",
    "\n",
    "def enclosing():\n",
    "    message = 'enclosing'\n",
    "    \n",
    "    def local():\n",
    "        nonlocal message\n",
    "        message = 'local'\n",
    "        \n",
    "    print(\"enclosing message:\", message)\n",
    "    local()\n",
    "    print(\"encolsing message\", message)\n",
    "    \n",
    "print(\"global message:\", message)\n",
    "enclosing()   \n",
    "print(\"global message:\", message)"
   ]
  },
  {
   "cell_type": "markdown",
   "id": "182e35fc",
   "metadata": {},
   "source": [
    "#### Reading from global and enclosing scope\n",
    "* for local functions to read from a variable name, it follows LEGB order"
   ]
  },
  {
   "cell_type": "code",
   "execution_count": 71,
   "id": "4a9e4c0a",
   "metadata": {},
   "outputs": [
    {
     "name": "stdout",
     "output_type": "stream",
     "text": [
      "global message: global\n",
      "enclosing message: enclosing\n",
      "local function enclosing\n",
      "encolsing message enclosing\n",
      "global message: global\n"
     ]
    }
   ],
   "source": [
    "# when reading variables, local function follows LEGB\n",
    "message = 'global'\n",
    "\n",
    "def enclosing():\n",
    "    message = 'enclosing'\n",
    "    \n",
    "    def local():\n",
    "        print(\"local function\", message)        \n",
    "    print(\"enclosing message:\", message)\n",
    "    local()\n",
    "    print(\"encolsing message\", message)\n",
    "    \n",
    "print(\"global message:\", message)\n",
    "enclosing()   \n",
    "print(\"global message:\", message)"
   ]
  },
  {
   "cell_type": "markdown",
   "id": "588720a0",
   "metadata": {},
   "source": [
    "#### an example of using enclosing variable by nonlocal\n",
    "* last_called is created as a local variable of make_timer() function\n",
    "* when make_timer() is called, it creates a local function elapsed(), which connects to last_called\n",
    "* by calling make_timer(), a new copy of elapsed() function is returned and stored in variable t\n",
    "* each time when t() is executed, it will calculate differnce between its new local variable, now and last_called, and update the value of last_called\n",
    "  + basically, this function returns the time elapsed between the current time and last time funtion elapsed() is called. The historical call time was stored in last_called enclosing variable\n",
    " * when you call make_timer() again, a new copy of elapsed() function will be created as an independent timer "
   ]
  },
  {
   "cell_type": "code",
   "execution_count": 85,
   "id": "ee07194a",
   "metadata": {},
   "outputs": [],
   "source": [
    "import time\n",
    "import sys\n",
    "def make_timer():                                                           \n",
    "    last_called = None # Never                                              \n",
    "    def elapsed():                                                          \n",
    "        nonlocal last_called                                                \n",
    "        now = time.time()                                                   \n",
    "        if last_called is None:                                             \n",
    "            last_called = now                                               \n",
    "            return None                                                     \n",
    "        result = now - last_called                                          \n",
    "        last_called = now                                                   \n",
    "        return result                                                       \n",
    "    return elapsed                                                          \n",
    "                                                                            \n",
    "t = make_timer()               "
   ]
  },
  {
   "cell_type": "code",
   "execution_count": 88,
   "id": "6080bdee",
   "metadata": {},
   "outputs": [
    {
     "name": "stdout",
     "output_type": "stream",
     "text": [
      "28.10009479522705\n",
      "1.0095770359039307\n",
      "2.0030558109283447\n",
      "3.005105972290039\n"
     ]
    }
   ],
   "source": [
    "print(t())\n",
    "time.sleep(1)\n",
    "print(t())\n",
    "time.sleep(2)\n",
    "print(t())\n",
    "time.sleep(3)\n",
    "print(t())"
   ]
  },
  {
   "cell_type": "markdown",
   "id": "8b774d49",
   "metadata": {},
   "source": [
    "### function decorators\n",
    "* add behaviors to existing functions without modifying the functions\n",
    "* apply decorators to functions\n",
    "* use any callable as a decorator\n",
    "* apply mutiple decorators\n",
    "* semantics of such application\n",
    "* standard library support for decorators\n",
    "* parameterized decorators"
   ]
  },
  {
   "cell_type": "markdown",
   "id": "f89319cb",
   "metadata": {},
   "source": [
    "#### decorators\n",
    "* modify or enhance an existing function in a non-intrusive and maitainable way\n",
    "* implemented as a callable that accepts a callable and returns a callable\n",
    "* for a typical decorated function as defined in the following:\n",
    "```python\n",
    "@my_decorator\n",
    "def my_function():\n",
    "    pass\n",
    "```\n",
    "  + my_function is compiled to generate a function object\n",
    "  + the function object is passed to decorator (my_decorator), which is a function that accepts my_function as input, and returns a function\n",
    "  + this decorator is then called, and python will bind the returned function to my_function\n",
    "  + when my_function is called, the function now bound to my_function will execute\n",
    "  + the result is that decorators allow you to modify existing functions without changing their definitions\n",
    "  + callers don't need to change when decorators are applied, because the decorator mechanism ensures that the same name is applied for both decorated and un-decorated function\n",
    "  * the following is a simple code example for decorators to convert the results generated by input functions to ascii"
   ]
  },
  {
   "cell_type": "code",
   "execution_count": 93,
   "id": "e3cb40bf",
   "metadata": {},
   "outputs": [
    {
     "name": "stdout",
     "output_type": "stream",
     "text": [
      "Troms╟\n",
      "'Troms\\u255f'\n"
     ]
    }
   ],
   "source": [
    "def northern_city():\n",
    "    return 'Troms╟'\n",
    "\n",
    "print(northern_city())\n",
    "\n",
    "@escape_unicode\n",
    "def northern_city():\n",
    "    return 'Troms╟'\n",
    "\n",
    "print(northern_city())"
   ]
  },
  {
   "cell_type": "markdown",
   "id": "93a3a347",
   "metadata": {},
   "source": [
    "#### Using classes as decorators\n",
    "* classes as decorators\n",
    "  + functions decorated with a class are replaced by an instance of the class\n",
    "  + these instances must themselves be callable, meaning that the class implements \\_\\_call\\_\\_() method\n",
    "  + in the following code example:\n",
    "    + class CallCount decorates function hello(), so 'hello' now refers to a CallCount instance, and each time hello() function is called, it will execute \\_\\_call\\_\\_() instance function, this function first increments the count, and then execute original hello() function, and returns the results\n",
    "    + The key point here is that when decorating hello() by CallCount, the compiled hello() function object is passed to CallCount constructor, which is the \\_\\_init\\_\\_(self, f), and therefore, returns a CallCount instance, which is then assinged/bound to 'hello'\n",
    "    + when hello(name) is called, the instance method \\_\\_call\\_\\_(name) is invoked, which increments count, and returns the execution results of original function of hello(name)\n",
    "    + now, when we run hello.count, we get the final value of count"
   ]
  },
  {
   "cell_type": "code",
   "execution_count": 97,
   "id": "2807b045",
   "metadata": {},
   "outputs": [
    {
     "name": "stdout",
     "output_type": "stream",
     "text": [
      "Hello, Fred\n",
      "Hello, Wilma\n",
      "Hello, Betty\n",
      "Hello, Barney\n",
      "4\n"
     ]
    }
   ],
   "source": [
    "class CallCount:\n",
    "    def __init__(self, f):\n",
    "        self.f = f\n",
    "        self.count = 0\n",
    "    def __call__(self, *args, **kwargs):\n",
    "        self.count += 1\n",
    "        return self.f(*args, **kwargs)\n",
    "\n",
    "@CallCount\n",
    "def hello(name):\n",
    "    print('Hello, {}'.format(name))\n",
    "\n",
    "# execute decorated hello() function\n",
    "hello('Fred')\n",
    "hello('Wilma')\n",
    "hello('Betty')\n",
    "hello('Barney')\n",
    "print(hello.count)"
   ]
  },
  {
   "cell_type": "markdown",
   "id": "669275ff",
   "metadata": {},
   "source": [
    "#### using instances as decorators\n",
    "* python calls an instances \\_\\_call\\_\\_() when it's used as a decorator\n",
    "* \\_\\_call\\_\\_()'s return value is used as the new function\n",
    "* create groups of callables that you can dynamically control as a group\n",
    "* in the following code example, \n",
    "  + when rotate_list is decorated by tracer instance, its \\_\\_call\\_\\_() method is invoked, with rotate_list() function passed to it. \n",
    "  + The returned wrap function is then assigned to rotate_list()\n",
    "  + when rotate_list is called, wrap is executed by printing the 'Calling f' statement and the returns the results of executing the original rotate_list() function\n"
   ]
  },
  {
   "cell_type": "code",
   "execution_count": 102,
   "id": "e3ab17b9",
   "metadata": {},
   "outputs": [
    {
     "name": "stdout",
     "output_type": "stream",
     "text": [
      "Calling <function rotate_list at 0x000002E3DF57F2E0>\n",
      "[2, 3, 1]\n",
      "Calling <function rotate_list at 0x000002E3DF57F2E0>\n",
      "[3, 1, 2]\n",
      "Calling <function rotate_list at 0x000002E3DF57F2E0>\n",
      "[1, 2, 3]\n",
      "[2, 3, 1]\n",
      "[3, 1, 2]\n"
     ]
    }
   ],
   "source": [
    "class Trace:    \n",
    "    def __init__(self):                                                     \n",
    "        self.enabled = True                                                 \n",
    "    def __call__(self, f):                                                  \n",
    "        def wrap(*args, **kwargs):                                          \n",
    "            if self.enabled:                                                \n",
    "                print('Calling {}'.format(f))                               \n",
    "            return f(*args, **kwargs)                                       \n",
    "        return wrap                                                         \n",
    "                                                                            \n",
    "tracer = Trace()\n",
    "\n",
    "@tracer                                                                     \n",
    "def rotate_list(l):                                                         \n",
    "    return l[1:] + [l[0]]    \n",
    "\n",
    "l = [1, 2, 3]\n",
    "l = rotate_list(l)\n",
    "print(l)\n",
    "\n",
    "l = rotate_list(l)\n",
    "print(l)\n",
    "\n",
    "l = rotate_list(l)\n",
    "print(l)\n",
    "\n",
    "# disable the enabled label to not print tracing information\n",
    "tracer.enabled = False\n",
    "l = rotate_list(l)\n",
    "print(l)\n",
    "\n",
    "l = rotate_list(l)\n",
    "print(l)\n"
   ]
  },
  {
   "cell_type": "markdown",
   "id": "ae0d61d5",
   "metadata": {},
   "source": [
    "#### Multiple decorators\n",
    "* multiple decorators are processed in the reversed order\n",
    "* in the following example\n",
    "  + some_function is passed to decorator3, with its returned function passed to decorator2, with its returned function passed to decorator1\n",
    "  + the returned function from decorator1 is assigned to some_function"
   ]
  },
  {
   "cell_type": "code",
   "execution_count": null,
   "id": "b9c096c9",
   "metadata": {},
   "outputs": [],
   "source": [
    "# Using multiple decorators\n",
    "@decorator1\n",
    "@decorator2\n",
    "@decorator3\n",
    "def some_function():\n",
    "    pass"
   ]
  },
  {
   "cell_type": "markdown",
   "id": "aef6bebf",
   "metadata": {},
   "source": [
    "#### Decorate class methods\n",
    "* we can decorate class methods as we did on functions\n",
    "* as shown in the following code, trace instance works well with class methods"
   ]
  },
  {
   "cell_type": "code",
   "execution_count": 104,
   "id": "6defb9e0",
   "metadata": {},
   "outputs": [
    {
     "name": "stdout",
     "output_type": "stream",
     "text": [
      "Calling <function IslandMaker.make_island at 0x000002E3DF5E3AC0>\n"
     ]
    },
    {
     "data": {
      "text/plain": [
       "'Python Island'"
      ]
     },
     "execution_count": 104,
     "metadata": {},
     "output_type": "execute_result"
    }
   ],
   "source": [
    "class IslandMaker:\n",
    "    def __init__(self, suffix):\n",
    "        self.suffix = suffix\n",
    "    @tracer\n",
    "    def make_island(self, name):\n",
    "        return name + self.suffix\n",
    "    \n",
    "im = IslandMaker(' Island')\n",
    "tracer.enabled = True\n",
    "im.make_island('Python')"
   ]
  },
  {
   "cell_type": "markdown",
   "id": "bf7db81a",
   "metadata": {},
   "source": [
    "#### Losing Metadata\n",
    "* with the use of decorators, we lose important metadat from the original callables\n",
    "* this is because, now the original function name is bounded to the results of the returned function of the deocraor\n",
    "* how to keep the name and doc string of the original function?\n",
    "  + we can copy __name__ and __doc__ from wrapped function to our wrapper function\n",
    "  + use functools.wraps()\n",
    "    + is a decorator by itself\n",
    "    + apply to wrapper function and takes the decorated function as the input\n",
    "    + replace decorator metadata with that of the decorated callable"
   ]
  },
  {
   "cell_type": "code",
   "execution_count": 106,
   "id": "c828ddb9",
   "metadata": {},
   "outputs": [
    {
     "name": "stdout",
     "output_type": "stream",
     "text": [
      "hello\n",
      "Print a well-known message\n",
      "Help on function hello in module __main__:\n",
      "\n",
      "hello()\n",
      "    Print a well-known message\n",
      "\n"
     ]
    }
   ],
   "source": [
    "def hello():\n",
    "    \"Print a well-known message\"\n",
    "    print('Hello, world!')\n",
    "    \n",
    "print(hello.__name__)\n",
    "print(hello.__doc__)\n",
    "help(hello)"
   ]
  },
  {
   "cell_type": "code",
   "execution_count": 108,
   "id": "b98adbb7",
   "metadata": {},
   "outputs": [
    {
     "name": "stdout",
     "output_type": "stream",
     "text": [
      "noop_wrapper\n",
      "None\n",
      "Help on function noop_wrapper in module __main__:\n",
      "\n",
      "noop_wrapper()\n",
      "\n"
     ]
    }
   ],
   "source": [
    "# with a decorator, the original metadata about this function is lost\n",
    "def noop(f):\n",
    "    def noop_wrapper():\n",
    "        return f()\n",
    "    return noop_wrapper\n",
    "\n",
    "@noop\n",
    "def hello():\n",
    "    \"Print a well-known message\"\n",
    "    print('Hello, world!')\n",
    "    \n",
    "print(hello.__name__)\n",
    "print(hello.__doc__)\n",
    "help(hello)    \n",
    "    "
   ]
  },
  {
   "cell_type": "code",
   "execution_count": 109,
   "id": "98f666b7",
   "metadata": {},
   "outputs": [
    {
     "name": "stdout",
     "output_type": "stream",
     "text": [
      "hello\n",
      "Print a well-known message\n",
      "Help on function hello in module __main__:\n",
      "\n",
      "hello()\n",
      "    Print a well-known message\n",
      "\n"
     ]
    }
   ],
   "source": [
    "# copy the __name__ and __doc__ from wrapped to wrap function\n",
    "# to maintain the meta  data of original function\n",
    "def noop(f):\n",
    "    def noop_wrapper():\n",
    "        return f()\n",
    "    noop_wrapper.__name__ = f.__name__\n",
    "    noop_wrapper.__doc__ = f.__doc__\n",
    "    return noop_wrapper\n",
    "\n",
    "@noop\n",
    "def hello():\n",
    "    \"Print a well-known message\"\n",
    "    print('Hello, world!')\n",
    "    \n",
    "print(hello.__name__)\n",
    "print(hello.__doc__)\n",
    "help(hello)    \n",
    "    "
   ]
  },
  {
   "cell_type": "code",
   "execution_count": 111,
   "id": "0f62b301",
   "metadata": {},
   "outputs": [
    {
     "name": "stdout",
     "output_type": "stream",
     "text": [
      "hello\n",
      "Print a well-known message\n",
      "Help on function hello in module __main__:\n",
      "\n",
      "hello()\n",
      "    Print a well-known message\n",
      "\n"
     ]
    }
   ],
   "source": [
    "# using functools.wraps to maintain the meta data of decorated functions\n",
    "import functools\n",
    "\n",
    "def noop(f):\n",
    "    @functools.wraps(f)\n",
    "    def noop_wrapper():\n",
    "        return f()\n",
    "    return noop_wrapper\n",
    "\n",
    "@noop\n",
    "def hello():\n",
    "    \"Print a well-known message\"\n",
    "    print('Hello, world!')\n",
    "    \n",
    "print(hello.__name__)\n",
    "print(hello.__doc__)\n",
    "help(hello)    "
   ]
  },
  {
   "cell_type": "markdown",
   "id": "9acfa75d",
   "metadata": {},
   "source": [
    "#### Parameterized Decorators\n",
    "* the following decorator accepts the index as the argument, and then checks the argument at that index to make sure it is non-negative value\n",
    "* how does this work?\n",
    "  + check_non_negative itself is not a decorator, since a decorator needs to accept a callable and returns a callable\n",
    "  + the key point here is that when we decorate the create_list, we call the check_non_negative function, and it is the function it returns (validator()), is the decorator\n",
    "  + decorator function (validator()) accepts the decorated function as its argument \n",
    "  + python calls decorator function (validator(f)), and associate the decorated function name (create_list) to the returned function object, which is wrap()\n",
    "  + when you call create_list, wrap() function will be called, with the access to both f(original create_list function object), and index, as well as the arguments when calling the function"
   ]
  },
  {
   "cell_type": "code",
   "execution_count": 119,
   "id": "e7507963",
   "metadata": {},
   "outputs": [
    {
     "data": {
      "text/plain": [
       "['a', 'a', 'a']"
      ]
     },
     "execution_count": 119,
     "metadata": {},
     "output_type": "execute_result"
    }
   ],
   "source": [
    "import functools\n",
    "def check_non_negative(index): \n",
    "    def validator(f):\n",
    "        @functools.wraps(f)\n",
    "        def wrap(*args):                                                    \n",
    "            if args[index] < 0:                                             \n",
    "                raise ValueError(                                           \n",
    "                    'Argument {} must be non-negative.'.format(index))      \n",
    "            return f(*args)                                                 \n",
    "        return wrap                                                         \n",
    "    return validator                                                        \n",
    "                                                                            \n",
    "@check_non_negative(1)                                                      \n",
    "def create_list(value, size): \n",
    "    \"create a list of given value and size\"\n",
    "    return [value] * size                                                   \n",
    "                                                                            \n",
    "create_list('a', 3)                                                         \n",
    "['a', 'a', 'a']                                                                 \n",
    "   "
   ]
  },
  {
   "cell_type": "code",
   "execution_count": 120,
   "id": "78e29e15",
   "metadata": {},
   "outputs": [
    {
     "name": "stdout",
     "output_type": "stream",
     "text": [
      "Help on function create_list in module __main__:\n",
      "\n",
      "create_list(value, size)\n",
      "    create a list of given value and size\n",
      "\n"
     ]
    }
   ],
   "source": [
    "help(create_list)"
   ]
  },
  {
   "cell_type": "code",
   "execution_count": 113,
   "id": "a41e18d2",
   "metadata": {},
   "outputs": [
    {
     "ename": "ValueError",
     "evalue": "Argument 1 must be non-negative.",
     "output_type": "error",
     "traceback": [
      "\u001b[1;31m---------------------------------------------------------------------------\u001b[0m",
      "\u001b[1;31mValueError\u001b[0m                                Traceback (most recent call last)",
      "Input \u001b[1;32mIn [113]\u001b[0m, in \u001b[0;36m<cell line: 1>\u001b[1;34m()\u001b[0m\n\u001b[1;32m----> 1\u001b[0m \u001b[43mcreate_list\u001b[49m\u001b[43m(\u001b[49m\u001b[38;5;241;43m123\u001b[39;49m\u001b[43m,\u001b[49m\u001b[43m \u001b[49m\u001b[38;5;241;43m-\u001b[39;49m\u001b[38;5;241;43m6\u001b[39;49m\u001b[43m)\u001b[49m\n",
      "Input \u001b[1;32mIn [112]\u001b[0m, in \u001b[0;36mcheck_non_negative.<locals>.validator.<locals>.wrap\u001b[1;34m(*args)\u001b[0m\n\u001b[0;32m      3\u001b[0m \u001b[38;5;28;01mdef\u001b[39;00m \u001b[38;5;21mwrap\u001b[39m(\u001b[38;5;241m*\u001b[39margs):                                                    \n\u001b[0;32m      4\u001b[0m     \u001b[38;5;28;01mif\u001b[39;00m args[index] \u001b[38;5;241m<\u001b[39m \u001b[38;5;241m0\u001b[39m:                                             \n\u001b[1;32m----> 5\u001b[0m         \u001b[38;5;28;01mraise\u001b[39;00m \u001b[38;5;167;01mValueError\u001b[39;00m(                                           \n\u001b[0;32m      6\u001b[0m             \u001b[38;5;124m'\u001b[39m\u001b[38;5;124mArgument \u001b[39m\u001b[38;5;132;01m{}\u001b[39;00m\u001b[38;5;124m must be non-negative.\u001b[39m\u001b[38;5;124m'\u001b[39m\u001b[38;5;241m.\u001b[39mformat(index))      \n\u001b[0;32m      7\u001b[0m     \u001b[38;5;28;01mreturn\u001b[39;00m f(\u001b[38;5;241m*\u001b[39margs)\n",
      "\u001b[1;31mValueError\u001b[0m: Argument 1 must be non-negative."
     ]
    }
   ],
   "source": [
    "create_list(123, -6)          "
   ]
  },
  {
   "cell_type": "markdown",
   "id": "159c28c1",
   "metadata": {},
   "source": [
    "#### Functional-stype Tools\n",
    "##### map()\n",
    "  + calls a function for the elements in a sequence, producing a new sequence with the returned values\n",
    "  + it maps a function over a sequence\n",
    "  + map() will not call its function or access its iterables until they are needed for output\n",
    "  + a map object is iteself iterable, iterate over it to proeduce output\n",
    "  + map can use with as many input sequences as your mapped function needs.\n",
    "    + you need to input as many input sequences as the number of arguments in your mapped function\n",
    "    + map will take one element from each of the sequence, and pass them to the mapped function to produce value\n",
    "    + if sequences have different length, map will terminate as the shortest sequence is terminated"
   ]
  },
  {
   "cell_type": "markdown",
   "id": "d96033bb",
   "metadata": {},
   "source": [
    "##### Map function examples"
   ]
  },
  {
   "cell_type": "code",
   "execution_count": 130,
   "id": "ce735642",
   "metadata": {},
   "outputs": [
    {
     "name": "stdout",
     "output_type": "stream",
     "text": [
      "84\n",
      "104\n",
      "101\n",
      "32\n",
      "113\n",
      "117\n",
      "105\n",
      "99\n",
      "107\n",
      "32\n",
      "98\n",
      "114\n",
      "111\n",
      "119\n",
      "110\n",
      "32\n",
      "102\n",
      "111\n",
      "120\n"
     ]
    }
   ],
   "source": [
    "# example of map()\n",
    "# find the ord of each char in the input string(which is a tuple/list)\n",
    "# ane return them as a sequence/generator in the same order\n",
    "for o in map(ord, 'The quick brown fox'):\n",
    "    print(o)"
   ]
  },
  {
   "cell_type": "markdown",
   "id": "10269e96",
   "metadata": {},
   "source": [
    "in the following code, we use map to call Trace() constructor, which returns a Trace instance. \n",
    "This instance is than called by postfix parenthesis '()', with the argument of ord function"
   ]
  },
  {
   "cell_type": "code",
   "execution_count": 131,
   "id": "9a9ea79f",
   "metadata": {},
   "outputs": [],
   "source": [
    "# map with trace instance chained to ord function\n",
    "class Trace:    \n",
    "    def __init__(self):                                                     \n",
    "        self.enabled = True                                                 \n",
    "    def __call__(self, f):                                                  \n",
    "        def wrap(*args, **kwargs):                                          \n",
    "            if self.enabled:                                                \n",
    "                print('Calling {}'.format(f))                               \n",
    "            return f(*args, **kwargs)                                       \n",
    "        return wrap   "
   ]
  },
  {
   "cell_type": "code",
   "execution_count": 132,
   "id": "8819f3f0",
   "metadata": {},
   "outputs": [],
   "source": [
    "result = map(Trace()(ord), 'The quick brown fox') "
   ]
  },
  {
   "cell_type": "code",
   "execution_count": 133,
   "id": "e430573f",
   "metadata": {},
   "outputs": [
    {
     "data": {
      "text/plain": [
       "<map at 0x2e3ddaf1bd0>"
      ]
     },
     "execution_count": 133,
     "metadata": {},
     "output_type": "execute_result"
    }
   ],
   "source": [
    "result"
   ]
  },
  {
   "cell_type": "code",
   "execution_count": 134,
   "id": "fa737ae8",
   "metadata": {},
   "outputs": [
    {
     "name": "stdout",
     "output_type": "stream",
     "text": [
      "Calling <built-in function ord>\n"
     ]
    },
    {
     "data": {
      "text/plain": [
       "84"
      ]
     },
     "execution_count": 134,
     "metadata": {},
     "output_type": "execute_result"
    }
   ],
   "source": [
    "next(result)"
   ]
  },
  {
   "cell_type": "code",
   "execution_count": 135,
   "id": "ae46223a",
   "metadata": {},
   "outputs": [
    {
     "data": {
      "text/plain": [
       "['small lavender koala',\n",
       " 'medium teal platypus',\n",
       " 'large burnt orange salamander']"
      ]
     },
     "execution_count": 135,
     "metadata": {},
     "output_type": "execute_result"
    }
   ],
   "source": [
    "# example code of multiple arguments in mapped function\n",
    "# with multiple input sequences\n",
    "\n",
    "sizes = ['small', 'medium', 'large'] \n",
    "colors = ['lavender', 'teal', 'burnt orange']                               \n",
    "animals = ['koala', 'platypus', 'salamander']                               \n",
    "def combine(size, color, animal):                                           \n",
    "    return '{} {} {}'.format(size, color, animal)                           \n",
    "                                                                            \n",
    "list(map(combine, sizes, colors, animals))                                  "
   ]
  },
  {
   "cell_type": "code",
   "execution_count": 136,
   "id": "19ccbfca",
   "metadata": {},
   "outputs": [
    {
     "data": {
      "text/plain": [
       "['0 x small lavender koala',\n",
       " '1 x medium teal platypus',\n",
       " '2 x large burnt orange salamander']"
      ]
     },
     "execution_count": 136,
     "metadata": {},
     "output_type": "execute_result"
    }
   ],
   "source": [
    "# using itertools.count() to automatically generate count values\n",
    "# based on the size of other input sequences\n",
    "def combine(quantity, size, color, animal):                                 \n",
    "    return '{} x {} {} {}'.format(quantity, size, color, animal)            \n",
    "                                                                            \n",
    "import itertools                                                            \n",
    "list(map(combine, itertools.count(), sizes, colors, animals))               "
   ]
  },
  {
   "cell_type": "markdown",
   "id": "9d5c3944",
   "metadata": {},
   "source": [
    "#####  filter()\n",
    "  + removes elements from a sequence which don't meet some criteria\n",
    "  + applies a predicate function to each element\n",
    "  + produces its results lazily\n",
    "  + only take a single input sequence and the predicate function only take a single argument\n",
    "  * if you put None as the first argument without providing a specific predicate function, filter will just output all elments that themselves evaluated as True. Zero, empty string, False and empty list will be filtered out"
   ]
  },
  {
   "cell_type": "markdown",
   "id": "4616b30a",
   "metadata": {},
   "source": [
    "##### filter() examples"
   ]
  },
  {
   "cell_type": "code",
   "execution_count": 137,
   "id": "9b666d20",
   "metadata": {},
   "outputs": [
    {
     "data": {
      "text/plain": [
       "<filter at 0x2e3decf2a40>"
      ]
     },
     "execution_count": 137,
     "metadata": {},
     "output_type": "execute_result"
    }
   ],
   "source": [
    "positives =filter(lambda x: x > 0, [1, -5, 0, 6, -2, 8])\n",
    "positives"
   ]
  },
  {
   "cell_type": "code",
   "execution_count": 138,
   "id": "45f86b75",
   "metadata": {},
   "outputs": [
    {
     "data": {
      "text/plain": [
       "[1, 6, 8]"
      ]
     },
     "execution_count": 138,
     "metadata": {},
     "output_type": "execute_result"
    }
   ],
   "source": [
    "list(positives)"
   ]
  },
  {
   "cell_type": "code",
   "execution_count": 140,
   "id": "480a49ca",
   "metadata": {},
   "outputs": [
    {
     "data": {
      "text/plain": [
       "[1, True, [1, 2, 3], 'hello']"
      ]
     },
     "execution_count": 140,
     "metadata": {},
     "output_type": "execute_result"
    }
   ],
   "source": [
    "trues = filter(None, [0, 1, False, True, [], [1, 2, 3], '', 'hello'])\n",
    "list(trues)"
   ]
  },
  {
   "cell_type": "markdown",
   "id": "d54ba060",
   "metadata": {},
   "source": [
    "##### functools.reduce()\n",
    "* repeatedly applies a two-argument function to an accumulated value and the next element from a sequence\n",
    "* the function is called multiple times until the sequence is reduced to a single value\n",
    "* the initial value can be the first element in the input sequence or an optional argument\n",
    "* the final accumulated or reduced value is return as a single value\n",
    "* if you pass an empty sequence, it will raise a TypeError\n",
    "* if you pass a one element sequence, it will return the element without calling the reducing funtion\n",
    "* it accepts an optional initial value, if the input sequence is empty, the initial value will be returned\n",
    "  + use 0 and 1 as inital values for addition and multiplication, respectively"
   ]
  },
  {
   "cell_type": "markdown",
   "id": "8fb5b7fb",
   "metadata": {},
   "source": [
    "##### functools.reduce examples"
   ]
  },
  {
   "cell_type": "code",
   "execution_count": 142,
   "id": "ef105ae7",
   "metadata": {},
   "outputs": [
    {
     "data": {
      "text/plain": [
       "15"
      ]
     },
     "execution_count": 142,
     "metadata": {},
     "output_type": "execute_result"
    }
   ],
   "source": [
    "from functools import reduce\n",
    "import operator                                                             \n",
    "reduce(operator.add, [1, 2, 3, 4, 5])          "
   ]
  },
  {
   "cell_type": "code",
   "execution_count": 143,
   "id": "75a2a238",
   "metadata": {},
   "outputs": [
    {
     "data": {
      "text/plain": [
       "15"
      ]
     },
     "execution_count": 143,
     "metadata": {},
     "output_type": "execute_result"
    }
   ],
   "source": [
    "numbers = [1, 2, 3, 4, 5]                                                   \n",
    "accumulator = operator.add(numbers[0], numbers[1])                          \n",
    "for item in numbers[2:]:                                                    \n",
    "    accumulator = operator.add(accumulator, item)                           \n",
    "                                                                            \n",
    "accumulator "
   ]
  },
  {
   "cell_type": "code",
   "execution_count": 144,
   "id": "ff841380",
   "metadata": {},
   "outputs": [
    {
     "name": "stdout",
     "output_type": "stream",
     "text": [
      "mul 1 2\n",
      "mul 2 3\n",
      "mul 6 4\n",
      "mul 24 5\n",
      "mul 120 6\n",
      "mul 720 7\n",
      "mul 5040 8\n",
      "mul 40320 9\n"
     ]
    },
    {
     "data": {
      "text/plain": [
       "362880"
      ]
     },
     "execution_count": 144,
     "metadata": {},
     "output_type": "execute_result"
    }
   ],
   "source": [
    "# demonstrate the process of reduce\n",
    "# the fucntion is called multiple time \n",
    "# until the sequence is reduced to a single value\n",
    "def mul(x, y):                                                              \n",
    "    print('mul {} {}'.format(x, y))                                         \n",
    "    return x * y                                                            \n",
    "                                                                            \n",
    "reduce(mul, range(1, 10))                     "
   ]
  },
  {
   "cell_type": "code",
   "execution_count": 146,
   "id": "3af3a6b7",
   "metadata": {},
   "outputs": [
    {
     "data": {
      "text/plain": [
       "6"
      ]
     },
     "execution_count": 146,
     "metadata": {},
     "output_type": "execute_result"
    }
   ],
   "source": [
    "# inital value of 0\n",
    "values = [1, 2, 3]                                                          \n",
    "reduce(operator.add, values, 0)                                             "
   ]
  },
  {
   "cell_type": "code",
   "execution_count": 147,
   "id": "8d8058ba",
   "metadata": {},
   "outputs": [
    {
     "data": {
      "text/plain": [
       "0"
      ]
     },
     "execution_count": 147,
     "metadata": {},
     "output_type": "execute_result"
    }
   ],
   "source": [
    "# initial value with an empty sequence\n",
    "values = []                                                                 \n",
    "reduce(operator.add, values, 0)                                             "
   ]
  },
  {
   "cell_type": "code",
   "execution_count": 148,
   "id": "f1125100",
   "metadata": {},
   "outputs": [
    {
     "data": {
      "text/plain": [
       "6"
      ]
     },
     "execution_count": 148,
     "metadata": {},
     "output_type": "execute_result"
    }
   ],
   "source": [
    "# use 0 as the initial value for addition                                                                             \n",
    "values = [1, 2, 3]                                                          \n",
    "reduce(operator.add, values, 0)                                             "
   ]
  },
  {
   "cell_type": "code",
   "execution_count": 149,
   "id": "f1e97446",
   "metadata": {},
   "outputs": [
    {
     "data": {
      "text/plain": [
       "6"
      ]
     },
     "execution_count": 149,
     "metadata": {},
     "output_type": "execute_result"
    }
   ],
   "source": [
    "# use 1 as the initial value for multiplication               \n",
    "values = [1, 2, 3]                                                          \n",
    "reduce(operator.mul, values, 1)    "
   ]
  },
  {
   "cell_type": "markdown",
   "id": "e1cc55e8",
   "metadata": {},
   "source": [
    "##### Map-reduce\n",
    "* in the following example, we define a function, count_words to count frequency of words in a sentence\n",
    "* we then apply the function to a list of sentences by map function\n",
    "* so we now have the frequencies of words in each sentence, we then use reduce to sum the frequencies for each word"
   ]
  },
  {
   "cell_type": "markdown",
   "id": "e1248a4e",
   "metadata": {},
   "source": [
    "##### Map-reduce examples"
   ]
  },
  {
   "cell_type": "code",
   "execution_count": 150,
   "id": "4dbc4b25",
   "metadata": {},
   "outputs": [
    {
     "data": {
      "text/plain": [
       "{'it': 2, 'was': 2, 'the': 2, 'best': 1, 'of': 2, 'times': 2, 'worst': 1}"
      ]
     },
     "execution_count": 150,
     "metadata": {},
     "output_type": "execute_result"
    }
   ],
   "source": [
    "# convert the input string into space separated words\n",
    "# and count the frequence, save the results in a dictionary\n",
    "def count_words(doc):                                                       \n",
    "    normalised_doc = ''.join(c.lower() if c.isalpha() else ' ' for c in doc)\n",
    "    frequencies = {}                                                        \n",
    "    for word in normalised_doc.split():                                     \n",
    "        frequencies[word] = frequencies.get(word, 0) + 1                    \n",
    "    return frequencies                                                      \n",
    "                                                                            \n",
    "count_words('It was the best of times, it was the worst of times.')         "
   ]
  },
  {
   "cell_type": "code",
   "execution_count": 152,
   "id": "cc14240a",
   "metadata": {},
   "outputs": [
    {
     "data": {
      "text/plain": [
       "<map at 0x2e3ddaf3eb0>"
      ]
     },
     "execution_count": 152,
     "metadata": {},
     "output_type": "execute_result"
    }
   ],
   "source": [
    "# given a document list, apply count_words to each element    \n",
    "documents = [                                                               \n",
    "    'It was the best of times, it was the worst of times.',\n",
    "    'I went to the woods because I wished to live deliberately, to front only the essential facts of life...',                                              \n",
    "    'Friends, Romans, countrymen, lend me your ears; I come to bury Caesar, not to praise him.',                                                            \n",
    "    'I do not like green eggs and ham. I do not like them, Sam-I-Am.',      \n",
    "]\n",
    "\n",
    "counts = map(count_words, documents)"
   ]
  },
  {
   "cell_type": "code",
   "execution_count": 153,
   "id": "9900e389",
   "metadata": {},
   "outputs": [
    {
     "data": {
      "text/plain": [
       "{'it': 2,\n",
       " 'was': 2,\n",
       " 'the': 4,\n",
       " 'best': 1,\n",
       " 'of': 3,\n",
       " 'times': 2,\n",
       " 'worst': 1,\n",
       " 'i': 6,\n",
       " 'went': 1,\n",
       " 'to': 5,\n",
       " 'woods': 1,\n",
       " 'because': 1,\n",
       " 'wished': 1,\n",
       " 'live': 1,\n",
       " 'deliberately': 1,\n",
       " 'front': 1,\n",
       " 'only': 1,\n",
       " 'essential': 1,\n",
       " 'facts': 1,\n",
       " 'life': 1,\n",
       " 'friends': 1,\n",
       " 'romans': 1,\n",
       " 'countrymen': 1,\n",
       " 'lend': 1,\n",
       " 'me': 1,\n",
       " 'your': 1,\n",
       " 'ears': 1,\n",
       " 'come': 1,\n",
       " 'bury': 1,\n",
       " 'caesar': 1,\n",
       " 'not': 3,\n",
       " 'praise': 1,\n",
       " 'him': 1,\n",
       " 'do': 2,\n",
       " 'like': 2,\n",
       " 'green': 1,\n",
       " 'eggs': 1,\n",
       " 'and': 1,\n",
       " 'ham': 1,\n",
       " 'them': 1,\n",
       " 'sam': 1,\n",
       " 'am': 1}"
      ]
     },
     "execution_count": 153,
     "metadata": {},
     "output_type": "execute_result"
    }
   ],
   "source": [
    "# given two frequency dictionary, combine them to one dictionary\n",
    "def combine_counts(d1, d2):                                                 \n",
    "    d = d1.copy()                                                           \n",
    "    for word, count in d2.items():                                          \n",
    "        d[word] = d.get(word, 0) + count                                    \n",
    "    return d                                                                \n",
    "                                                                            \n",
    "from functools import reduce                                                \n",
    "total_counts = reduce(combine_counts, counts)                               \n",
    "total_counts                                        "
   ]
  },
  {
   "cell_type": "markdown",
   "id": "5a66e5bc",
   "metadata": {},
   "source": [
    "### Multi-input and nested comprehension\n",
    "* comprehensions can have multiple input iterables and if-clauses"
   ]
  },
  {
   "cell_type": "markdown",
   "id": "da97906b",
   "metadata": {},
   "source": [
    "#### Comprehensions"
   ]
  },
  {
   "cell_type": "code",
   "execution_count": 159,
   "id": "cbe3f45b",
   "metadata": {},
   "outputs": [
    {
     "data": {
      "text/plain": [
       "[0, 2, 4, 6, 8, 10, 12, 14, 16, 18]"
      ]
     },
     "execution_count": 159,
     "metadata": {},
     "output_type": "execute_result"
    }
   ],
   "source": [
    "# list comprehension\n",
    "l = [i * 2 for i in range(10)]\n",
    "l"
   ]
  },
  {
   "cell_type": "code",
   "execution_count": 156,
   "id": "3a77ae85",
   "metadata": {},
   "outputs": [
    {
     "data": {
      "text/plain": [
       "dict"
      ]
     },
     "execution_count": 156,
     "metadata": {},
     "output_type": "execute_result"
    }
   ],
   "source": [
    "# dictionary comprehension\n",
    "d = {i: i * 2 for i in range(10)}                                           \n",
    "type(d)                                                                     "
   ]
  },
  {
   "cell_type": "code",
   "execution_count": 157,
   "id": "f873d4ba",
   "metadata": {},
   "outputs": [
    {
     "data": {
      "text/plain": [
       "set"
      ]
     },
     "execution_count": 157,
     "metadata": {},
     "output_type": "execute_result"
    }
   ],
   "source": [
    " # set comprehension                                                           \n",
    "s = {i for i in range(10)}                                                  \n",
    "type(s)                                                                     "
   ]
  },
  {
   "cell_type": "code",
   "execution_count": 158,
   "id": "38caf7da",
   "metadata": {},
   "outputs": [
    {
     "data": {
      "text/plain": [
       "generator"
      ]
     },
     "execution_count": 158,
     "metadata": {},
     "output_type": "execute_result"
    }
   ],
   "source": [
    "# generator comprehension                                                              \n",
    "g = (i for i in range(10))                                                  \n",
    "type(g)"
   ]
  },
  {
   "cell_type": "markdown",
   "id": "7d39c2eb",
   "metadata": {},
   "source": [
    "#### multi-input and multi-if comprehensions\n",
    "* the way to read this is as as set of nested for loops where the later for clauses are nested inside the earlier for clauses, and the result expression of the comprehension is executed inside the inner most, or last for loop \n",
    "* since they are treated as nested for loops, the later clauses can refer variables in the earlier clauses"
   ]
  },
  {
   "cell_type": "markdown",
   "id": "801be486",
   "metadata": {},
   "source": [
    "##### Example of multi-input"
   ]
  },
  {
   "cell_type": "code",
   "execution_count": 160,
   "id": "91063402",
   "metadata": {},
   "outputs": [
    {
     "data": {
      "text/plain": [
       "[(0, 0),\n",
       " (0, 1),\n",
       " (0, 2),\n",
       " (0, 3),\n",
       " (0, 4),\n",
       " (1, 0),\n",
       " (1, 1),\n",
       " (1, 2),\n",
       " (1, 3),\n",
       " (1, 4),\n",
       " (2, 0),\n",
       " (2, 1),\n",
       " (2, 2),\n",
       " (2, 3),\n",
       " (2, 4),\n",
       " (3, 0),\n",
       " (3, 1),\n",
       " (3, 2),\n",
       " (3, 3),\n",
       " (3, 4),\n",
       " (4, 0),\n",
       " (4, 1),\n",
       " (4, 2),\n",
       " (4, 3),\n",
       " (4, 4)]"
      ]
     },
     "execution_count": 160,
     "metadata": {},
     "output_type": "execute_result"
    }
   ],
   "source": [
    "[(x, y) for x in range(5) for y in range(5)]"
   ]
  },
  {
   "cell_type": "code",
   "execution_count": 171,
   "id": "7e5784b9",
   "metadata": {},
   "outputs": [],
   "source": [
    "# the equivalent implementation of the above \n",
    "# multi-input list comprehension\n",
    "points = []                                                                 \n",
    "for x in range(5):                                                          \n",
    "    for y in range(5):                                                      \n",
    "        points.append((x, y))  "
   ]
  },
  {
   "cell_type": "markdown",
   "id": "4f13d7b4",
   "metadata": {},
   "source": [
    "##### Example of multi-input with multiple if"
   ]
  },
  {
   "cell_type": "code",
   "execution_count": 164,
   "id": "b9b35eda",
   "metadata": {},
   "outputs": [],
   "source": [
    "# multi-input with multi-if comprehension \n",
    "# is the same as nested loop \n",
    "values = [x / (x - y)                                                       \n",
    "          for x in range(100)                                               \n",
    "          if x > 50                                                         \n",
    "          for y in range(100)                                               \n",
    "          if x - y != 0]"
   ]
  },
  {
   "cell_type": "code",
   "execution_count": 170,
   "id": "11fd52fe",
   "metadata": {},
   "outputs": [],
   "source": [
    "# equvalent to the above list comprehension\n",
    "values = []                                                                 \n",
    "for x in range(100):                                                        \n",
    "    if x > 50:                                                              \n",
    "        for y in range(100):                                                \n",
    "            if x - y != 0:                                                  \n",
    "                values.append(x / (x - y))                         \n",
    "                                                                            "
   ]
  },
  {
   "cell_type": "markdown",
   "id": "1b484160",
   "metadata": {},
   "source": [
    "##### Example of later clause refer variables in earlier clause"
   ]
  },
  {
   "cell_type": "code",
   "execution_count": 174,
   "id": "0764308f",
   "metadata": {},
   "outputs": [
    {
     "data": {
      "text/plain": [
       "[(1, 0),\n",
       " (2, 0),\n",
       " (2, 1),\n",
       " (3, 0),\n",
       " (3, 1),\n",
       " (3, 2),\n",
       " (4, 0),\n",
       " (4, 1),\n",
       " (4, 2),\n",
       " (4, 3),\n",
       " (5, 0),\n",
       " (5, 1),\n",
       " (5, 2),\n",
       " (5, 3),\n",
       " (5, 4),\n",
       " (6, 0),\n",
       " (6, 1),\n",
       " (6, 2),\n",
       " (6, 3),\n",
       " (6, 4),\n",
       " (6, 5),\n",
       " (7, 0),\n",
       " (7, 1),\n",
       " (7, 2),\n",
       " (7, 3),\n",
       " (7, 4),\n",
       " (7, 5),\n",
       " (7, 6),\n",
       " (8, 0),\n",
       " (8, 1),\n",
       " (8, 2),\n",
       " (8, 3),\n",
       " (8, 4),\n",
       " (8, 5),\n",
       " (8, 6),\n",
       " (8, 7),\n",
       " (9, 0),\n",
       " (9, 1),\n",
       " (9, 2),\n",
       " (9, 3),\n",
       " (9, 4),\n",
       " (9, 5),\n",
       " (9, 6),\n",
       " (9, 7),\n",
       " (9, 8)]"
      ]
     },
     "execution_count": 174,
     "metadata": {},
     "output_type": "execute_result"
    }
   ],
   "source": [
    "result = [(x, y) for x in range(10) for y in range(x)]  \n",
    "result"
   ]
  },
  {
   "cell_type": "code",
   "execution_count": 168,
   "id": "6fe8f577",
   "metadata": {},
   "outputs": [],
   "source": [
    "# equvalent to the above list comprehension\n",
    "result = []                                                                 \n",
    "for x in range(10):                                                         \n",
    "    for y in range(x):                                                      \n",
    "        result.append((x, y))     "
   ]
  },
  {
   "cell_type": "markdown",
   "id": "3a798c71",
   "metadata": {},
   "source": [
    "#### Nested Comprehensions\n",
    "* we can use comprehensions in output expressions\n",
    "* same to multi-input comprehension that involves multiple for loops, the structures they produce are different"
   ]
  },
  {
   "cell_type": "code",
   "execution_count": 173,
   "id": "cd419396",
   "metadata": {},
   "outputs": [
    {
     "data": {
      "text/plain": [
       "[[],\n",
       " [0],\n",
       " [0, 3],\n",
       " [0, 3, 6],\n",
       " [0, 3, 6, 9],\n",
       " [0, 3, 6, 9, 12],\n",
       " [0, 3, 6, 9, 12, 15],\n",
       " [0, 3, 6, 9, 12, 15, 18],\n",
       " [0, 3, 6, 9, 12, 15, 18, 21],\n",
       " [0, 3, 6, 9, 12, 15, 18, 21, 24]]"
      ]
     },
     "execution_count": 173,
     "metadata": {},
     "output_type": "execute_result"
    }
   ],
   "source": [
    "vals = [[y * 3 for y in range(x)] for x in range(10)]                       \n",
    "vals"
   ]
  },
  {
   "cell_type": "code",
   "execution_count": 175,
   "id": "5107a41c",
   "metadata": {},
   "outputs": [
    {
     "data": {
      "text/plain": [
       "[[],\n",
       " [0],\n",
       " [0, 3],\n",
       " [0, 3, 6],\n",
       " [0, 3, 6, 9],\n",
       " [0, 3, 6, 9, 12],\n",
       " [0, 3, 6, 9, 12, 15],\n",
       " [0, 3, 6, 9, 12, 15, 18],\n",
       " [0, 3, 6, 9, 12, 15, 18, 21],\n",
       " [0, 3, 6, 9, 12, 15, 18, 21, 24]]"
      ]
     },
     "execution_count": 175,
     "metadata": {},
     "output_type": "execute_result"
    }
   ],
   "source": [
    "outer = [] \n",
    "for x in range(10):                                                         \n",
    "    inner = []                                                              \n",
    "    for y in range(x):                                                      \n",
    "        inner.append(y * 3)                                                 \n",
    "    outer.append(inner)"
   ]
  },
  {
   "cell_type": "markdown",
   "id": "74bbc275",
   "metadata": {},
   "source": [
    "#### Other conmprehensions\n",
    "* the rules for list comprehensions also apply to other comprehensions"
   ]
  },
  {
   "cell_type": "code",
   "execution_count": 176,
   "id": "ebb14115",
   "metadata": {},
   "outputs": [
    {
     "data": {
      "text/plain": [
       "{0,\n",
       " 2,\n",
       " 3,\n",
       " 4,\n",
       " 5,\n",
       " 6,\n",
       " 7,\n",
       " 8,\n",
       " 9,\n",
       " 10,\n",
       " 12,\n",
       " 14,\n",
       " 15,\n",
       " 16,\n",
       " 18,\n",
       " 20,\n",
       " 21,\n",
       " 24,\n",
       " 27,\n",
       " 28,\n",
       " 30,\n",
       " 32,\n",
       " 35,\n",
       " 36,\n",
       " 40,\n",
       " 42,\n",
       " 45,\n",
       " 48,\n",
       " 54,\n",
       " 56,\n",
       " 63,\n",
       " 72}"
      ]
     },
     "execution_count": 176,
     "metadata": {},
     "output_type": "execute_result"
    }
   ],
   "source": [
    "{x * y for x in range(10) for y in range(x)}"
   ]
  },
  {
   "cell_type": "code",
   "execution_count": 177,
   "id": "dba6e40f",
   "metadata": {},
   "outputs": [],
   "source": [
    "g = ((x, y) for x in range(10) for y in range(x))"
   ]
  },
  {
   "cell_type": "code",
   "execution_count": null,
   "id": "683889eb",
   "metadata": {},
   "outputs": [],
   "source": []
  }
 ],
 "metadata": {
  "kernelspec": {
   "display_name": "Python 3 (ipykernel)",
   "language": "python",
   "name": "python3"
  },
  "language_info": {
   "codemirror_mode": {
    "name": "ipython",
    "version": 3
   },
   "file_extension": ".py",
   "mimetype": "text/x-python",
   "name": "python",
   "nbconvert_exporter": "python",
   "pygments_lexer": "ipython3",
   "version": "3.10.4"
  }
 },
 "nbformat": 4,
 "nbformat_minor": 5
}
