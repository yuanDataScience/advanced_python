{
 "cells": [
  {
   "cell_type": "markdown",
   "id": "a97c7bc4",
   "metadata": {},
   "source": [
    "### Property Decorator\n",
    "This notebook demonstrates property decorator used in python classes\n",
    "* @property decorating email to define a read-only property\n",
    "* @property, @fullname.setter and @fullname.deleter to define a property (fullname) that can be read, set and deleted"
   ]
  },
  {
   "cell_type": "code",
   "execution_count": 5,
   "id": "24021434",
   "metadata": {},
   "outputs": [
    {
     "name": "stdout",
     "output_type": "stream",
     "text": [
      "full name:  Jane.Hu\n",
      "email:      Jane.Hu@hotmail.com\n",
      "\n",
      "-------reset fullname--------\n",
      "full name:  Alice.Wang\n",
      "email:      Alice.Wang@hotmail.com\n"
     ]
    }
   ],
   "source": [
    "class Person():\n",
    "    def __init__(self, first_name, last_name):\n",
    "        self.first_name = first_name\n",
    "        self.last_name = last_name\n",
    "\n",
    "    @property\n",
    "    def email(self):\n",
    "        return \"{}.{}@hotmail.com\".format(self.first_name, self.last_name)\n",
    "\n",
    "    @property\n",
    "    def fullname(self):\n",
    "        return \"{}.{}\".format(self.first_name, self.last_name)\n",
    "\n",
    "    @fullname.setter\n",
    "    def fullname(self, name):\n",
    "        self.first_name, self.last_name = name.split(\" \")\n",
    "\n",
    "    @fullname.deleter\n",
    "    def fullname(self):\n",
    "        print(f\"delete fullname {self.firstname} {self.lastname}\")\n",
    "        self.first_name = None\n",
    "        self.last_name = None\n",
    "\n",
    "if __name__ == \"__main__\":\n",
    "    # instantiate a Person object and initialize name and emails\n",
    "    person = Person(\"Jane\", \"Hu\")\n",
    "    print(\"full name: \", person.fullname)\n",
    "    print(\"email:     \", person.email)\n",
    "\n",
    "    # reset fullname property\n",
    "    print()\n",
    "    print(\"-------reset fullname--------\")\n",
    "    person.fullname = \"Alice Wang\"\n",
    "    print(\"full name: \", person.fullname)\n",
    "    print(\"email:     \", person.email)"
   ]
  }
 ],
 "metadata": {
  "kernelspec": {
   "display_name": "Python 3 (ipykernel)",
   "language": "python",
   "name": "python3"
  },
  "language_info": {
   "codemirror_mode": {
    "name": "ipython",
    "version": 3
   },
   "file_extension": ".py",
   "mimetype": "text/x-python",
   "name": "python",
   "nbconvert_exporter": "python",
   "pygments_lexer": "ipython3",
   "version": "3.8.10"
  }
 },
 "nbformat": 4,
 "nbformat_minor": 5
}
