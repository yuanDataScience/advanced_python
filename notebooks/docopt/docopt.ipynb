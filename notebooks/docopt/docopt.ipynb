{
 "cells": [
  {
   "cell_type": "markdown",
   "id": "eb15d3e9",
   "metadata": {},
   "source": [
    "## docopt\n",
    "docopt creates beautiful command line interfaces that allow users to run python scripts using command line. It is very straightforward to use.\n",
    "This notebook showed a simplle example of how to use docopt to define options and run a simple python script"
   ]
  },
  {
   "cell_type": "markdown",
   "id": "4384aee7",
   "metadata": {},
   "source": [
    "The following is a sample.py file that defines the user interface. Let's focuse on Usage: and Options:\n",
    "* From Usage and Options section, we can see there are two types of optionss:\n",
    "  + required options, such as -i and -m \n",
    "  + optional options, such as -o, -c and -v. These are declared in `[ ]`\n",
    "* in addition, for options that need arguments, such as -i, there is =<> after these options' declarations in both Usage and Options sections\n",
    "* Finally, when parsing options, we can use either short or long form of the option names to retrieve the values\n",
    "  + we can use either `args[\"-o\"]` or `args[\"--verbose\"]` to retrieve values"
   ]
  },
  {
   "cell_type": "raw",
   "id": "7ecead8b",
   "metadata": {},
   "source": [
    "# filename ='docopt_example.py\"\n",
    "\n",
    "from docopt import docopt\n",
    "\n",
    "if __name__ == \"__main__\":\n",
    "    __doc__ = f\"\"\"\n",
    "        This is a sample python file to demonstrate how to use docopt to define commandline user interfaces, including:\n",
    "        how to define required fields with and without arguments\n",
    "        how to define optional fields with and without arguments\n",
    "        how docopt parses use input options\n",
    "        \n",
    "        Usage:\n",
    "            docopt_example.py -i=<str> -m=<int> [-o=<str> -c=<int> -v]\n",
    "            \n",
    "        Options:\n",
    "            -h, --help                           Show this screen\n",
    "            -i, --input_file=<input_file>        Input file for the script\n",
    "            -m, --message_id=<message_id>        Id of message\n",
    "            -c, --chunk_size=<chunk_size>        Number of messages in each chunk\n",
    "            -o, --output_file=<output_file>      Output file name (default: output.txt)\n",
    "            -v, --verbose                        Verbose output if specified      \n",
    "    \"\"\"\n",
    "\n",
    "    args = docopt(__doc__)\n",
    "\n",
    "    output_file = \"output.txt\"\n",
    "    chunk_size = 100\n",
    "    verbose = False\n",
    "    input_file = args[\"--input_file\"]\n",
    "    message_id = args[\"--message_id\"]\n",
    "\n",
    "    if args.get(\"--output\"):\n",
    "        output_file = args[\"--output\"]\n",
    "    if args.get('--verbose'):\n",
    "        verbose = True\n",
    "    if args.get(\"--chunk_size\"):\n",
    "        chunk_size = args[\"-chunk_size\"]\n",
    "\n",
    "    print(args)\n"
   ]
  },
  {
   "cell_type": "markdown",
   "id": "da7b7a5d",
   "metadata": {},
   "source": [
    "You can save this file in your current folder, and from a terminal, and run            \n",
    "`python docopt_example.py -i ./input.txt -m 12 -o ./output_file.txt`           \n",
    "You will see the parsed arguments printed out, similar to the following screenshot:"
   ]
  },
  {
   "cell_type": "code",
   "execution_count": 7,
   "id": "9bb43296",
   "metadata": {},
   "outputs": [
    {
     "data": {
      "text/html": [
       "<img src=\"docopt.png\"/>"
      ],
      "text/plain": [
       "<IPython.core.display.Image object>"
      ]
     },
     "execution_count": 7,
     "metadata": {},
     "output_type": "execute_result"
    }
   ],
   "source": [
    "from IPython.display import Image\n",
    "Image(url=\"docopt.png\")"
   ]
  },
  {
   "cell_type": "markdown",
   "id": "48ac110d",
   "metadata": {},
   "source": [
    "This notebook only showed a simple example for using docopt. If you are interested in knowing more about the usage of docopt package, please visit [docopt.org](http://docopt.org/). This document is very well written, and I found it very helpful!"
   ]
  }
 ],
 "metadata": {
  "kernelspec": {
   "display_name": "Python 3 (ipykernel)",
   "language": "python",
   "name": "python3"
  },
  "language_info": {
   "codemirror_mode": {
    "name": "ipython",
    "version": 3
   },
   "file_extension": ".py",
   "mimetype": "text/x-python",
   "name": "python",
   "nbconvert_exporter": "python",
   "pygments_lexer": "ipython3",
   "version": "3.8.10"
  }
 },
 "nbformat": 4,
 "nbformat_minor": 5
}
