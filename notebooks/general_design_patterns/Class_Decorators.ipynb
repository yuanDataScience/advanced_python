{
 "cells": [
  {
   "cell_type": "markdown",
   "id": "15d2bcb4",
   "metadata": {},
   "source": [
    "## Class Decorators"
   ]
  },
  {
   "cell_type": "markdown",
   "id": "128e0aab",
   "metadata": {},
   "source": [
    "### class decorators\n",
    "* allows to programmatically transform class definitions\n",
    "* similar mechanism to function decorators\n",
    "* metaprgramming - treating progams as data\n",
    "* overlap with the capabilities of metaclass\n",
    "* less powerful than metaclass, but easier to use\n",
    "* class decorators often introspect the decorated class\n",
    "* class decorators are applied when the decorated class is first being defined, that happens when the module containg the class definition is first imported\n",
    "* modlues in Python are singletons. Each module only exists once in the memory of a given process, so importing them again has no effects"
   ]
  },
  {
   "cell_type": "code",
   "execution_count": 9,
   "id": "442b3c96",
   "metadata": {},
   "outputs": [],
   "source": [
    "class Position:\n",
    "    \n",
    "    def __init__(self, latitude, longitude):\n",
    "        if not (-90 <= latitude <= 90):\n",
    "            raise ValueError(f\"Latitude {latitude} out of range\")\n",
    "            \n",
    "        if not (-180 <= longitude <= 180):\n",
    "            raise ValueError(f\"Longitude {longitude} out of range\")\n",
    "            \n",
    "        self._latitude = latitude\n",
    "        self._longitude = longitude\n",
    "        \n",
    "    @property\n",
    "    def latitude(self):\n",
    "        return self._latitude\n",
    "    \n",
    "    @property\n",
    "    def longitude(self):\n",
    "        return self._longitude\n",
    "    \n",
    "    \n",
    "    @property\n",
    "    def longitude_hemisphere(self):\n",
    "        return \"E\" if self.longitude >= 0 else \"W\"\n",
    "    \n",
    "    @property\n",
    "    def latitude_hemisphere(self):\n",
    "        return \"N\" if self.latitude >=0 else \"S\"\n",
    "    \n",
    "    def __repr__(self):\n",
    "        return f\"{typename(self)}(latitude={self.latitude}, longitude={self.longitude})\"\n",
    "    \n",
    "    def __str__(self):\n",
    "        \n",
    "        # use default format_spec of format() to generate the str() representation\n",
    "        return format(self)\n",
    "    \n",
    "    def __format__(self, format_spec):\n",
    "        # this is the default decimal point format spec\n",
    "        component_format_spec = \".2f\"\n",
    "        \n",
    "        # if format_spec contains a dot, then get the suffix and use that for decimal point format\n",
    "        prefix, dot, suffix = format_spec.partition(\".\")\n",
    "        if dot:\n",
    "            num_decimal_places = int(suffix)\n",
    "            component_format_spec = f\".{num_decimal_places}f\"\n",
    "            print(f\"component_format_spec{component_format_spec}\")\n",
    "        longitude = format(abs(self.longitude), component_format_spec)\n",
    "        latitude = format(abs(self.latitude), component_format_spec)\n",
    "        return (f\"{longitude} {self.longitude_hemisphere}, \"\n",
    "                f\"{latitude} {self.latitude_hemisphere}\"\n",
    "               )\n",
    "    \n",
    "class EarthPosition(Position):\n",
    "    pass\n",
    "\n",
    "class MarsPosition(Position):\n",
    "    pass\n",
    "    \n",
    "\n",
    "def typename(obj):\n",
    "    return type(obj).__name__"
   ]
  },
  {
   "cell_type": "code",
   "execution_count": 10,
   "id": "fdcf59fc",
   "metadata": {},
   "outputs": [],
   "source": [
    "class Location:\n",
    "    \n",
    "    def __init__(self, name, position):\n",
    "        self._name = name\n",
    "        self._position = position\n",
    "        \n",
    "    @property\n",
    "    def name(self):\n",
    "        return self._name\n",
    "    \n",
    "    @property\n",
    "    def position(self):\n",
    "        return self._position\n",
    "    \n",
    "    \n",
    "    def __repr__(self):\n",
    "        return f\"{typename(self)}(name={self.name}, position={self.position})\"    \n",
    "    \n",
    "    \n",
    "    def __str__(self):\n",
    "        return self.name\n",
    "    \n",
    "class EarthPosition(Position):\n",
    "    pass\n",
    "    \n"
   ]
  },
  {
   "cell_type": "code",
   "execution_count": 11,
   "id": "099755d3",
   "metadata": {},
   "outputs": [],
   "source": [
    "hong_kong = Location(\"Hong Kong\", EarthPosition(22.29, 114.16))\n",
    "stockholm = Location(\"Stockholm\", EarthPosition(59.33, 18.06))\n",
    "cape_town = Location(\"Cap_Town\", EarthPosition(-33.93, 18.42))\n",
    "rotterdam = Location(\"Rotterdam\", EarthPosition(51.96, 4.47))\n",
    "maracaibo = Location(\"Maracaibo\", EarthPosition(10.65, -71.65))"
   ]
  },
  {
   "cell_type": "code",
   "execution_count": 12,
   "id": "4031c294",
   "metadata": {},
   "outputs": [
    {
     "data": {
      "text/plain": [
       "Location(name=Hong Kong, position=114.16 E, 22.29 N)"
      ]
     },
     "execution_count": 12,
     "metadata": {},
     "output_type": "execute_result"
    }
   ],
   "source": [
    "hong_kong"
   ]
  },
  {
   "cell_type": "code",
   "execution_count": 13,
   "id": "ff4467dd",
   "metadata": {},
   "outputs": [
    {
     "name": "stdout",
     "output_type": "stream",
     "text": [
      "Maracaibo\n"
     ]
    }
   ],
   "source": [
    "print(maracaibo)"
   ]
  },
  {
   "cell_type": "code",
   "execution_count": 26,
   "id": "bea363e8",
   "metadata": {},
   "outputs": [
    {
     "name": "stdout",
     "output_type": "stream",
     "text": [
      "Decorating Location with auto_rper\n",
      "__module__ __main__\n",
      "__init__ <function Location.__init__ at 0x00000253861DC9D0>\n",
      "name <property object at 0x0000025386163FB0>\n",
      "position <property object at 0x0000025386163DD0>\n",
      "__repr__ <function Location.__repr__ at 0x00000253861DDF30>\n",
      "__str__ <function Location.__str__ at 0x00000253861DDFC0>\n",
      "__dict__ <attribute '__dict__' of 'Location' objects>\n",
      "__weakref__ <attribute '__weakref__' of 'Location' objects>\n",
      "__doc__ None\n"
     ]
    }
   ],
   "source": [
    "# use class decorator\n",
    "\n",
    "# a class decorator function receives a class argument\n",
    "# and returns the class\n",
    "def auto_repr(cls):\n",
    "    print(f\"Decorating {cls.__name__} with auto_rper\")\n",
    "    members = vars(cls)\n",
    "    for name, member in members.items():\n",
    "        print(name, member)\n",
    "           \n",
    "    return cls\n",
    "\n",
    "@auto_repr\n",
    "class Location:\n",
    "    \n",
    "    def __init__(self, name, position):\n",
    "        self._name = name\n",
    "        self._position = position\n",
    "        \n",
    "    @property\n",
    "    def name(self):\n",
    "        return self._name\n",
    "    \n",
    "    @property\n",
    "    def position(self):\n",
    "        return self._position\n",
    "    \n",
    "    \n",
    "    def __repr__(self):\n",
    "        return f\"{typename(self)}(name={self.name}, position={self.position})\"    \n",
    "    \n",
    "    \n",
    "    def __str__(self):\n",
    "        return self.name\n",
    "    \n",
    "class EarthPosition(Position):\n",
    "    pass\n",
    "    \n"
   ]
  },
  {
   "cell_type": "markdown",
   "id": "0a547b18",
   "metadata": {},
   "source": [
    "### decorate the \\_\\_repr\\_\\_ method\n",
    "* make sure the current class doesn't define the \\_\\_repr\\_\\_ method\n",
    "* the current class has implemented the init() method (check with vars(cls), which doesn't include inherited methods)\n",
    "* "
   ]
  },
  {
   "cell_type": "code",
   "execution_count": 14,
   "id": "cc2b9a5e",
   "metadata": {},
   "outputs": [],
   "source": [
    "# use class decorator\n",
    "\n",
    "import inspect\n",
    "\n",
    "# a class decorator function receives a class argument\n",
    "# and returns the class\n",
    "def auto_repr(cls):\n",
    "    members = vars(cls)\n",
    "   \n",
    "    # make sure __repr__ has not been implemented\n",
    "    if \"__repr__\" in members:\n",
    "        raise TypeError(f\"{cls.__name__} already defines __repr__\")\n",
    "        \n",
    "    # make sure the current class has an implementation of __init__\n",
    "    if \"__init__\" not in members:\n",
    "        raise TypeError(f\"{cls.__name__} does not override __init__\")\n",
    "                        \n",
    "    # make sure __init__ has all its input arguments except self have\n",
    "    # the corresponding properties defined\n",
    "    \n",
    "    # not calling __init__, but pass the method to the function \n",
    "    sig = inspect.signature(cls.__init__) \n",
    "    parameter_names = list(sig.parameters)[1:]\n",
    "        \n",
    "    if not all(\n",
    "        isinstance(members.get(name, None), property)\n",
    "        for name in parameter_names\n",
    "    ):\n",
    "        raise TypeError(\n",
    "        f\"Cannot apply auto_repr to {cls.__name__} because not all \"\n",
    "            \"__init__ parameters have matching properties\"\n",
    "        )\n",
    "        \n",
    "    def synthesized_repr(self):\n",
    "        return \"{typename}({args})\".format(\n",
    "            # we want to use the dynamic class name of self\n",
    "            typename=typename(self), \n",
    "            args=\", \".join(\n",
    "                \"{name}={value!r}\".format(\n",
    "                name=name,\n",
    "                value=getattr(self, name)\n",
    "                ) for name in parameter_names\n",
    "            )\n",
    "        )\n",
    "    \n",
    "    # set this method to the class's __repr__ method\n",
    "    setattr(cls, \"__repr__\", synthesized_repr)\n",
    "                        \n",
    "    return cls\n",
    "\n",
    "@auto_repr\n",
    "class Location:\n",
    "    \n",
    "    def __init__(self, name, position):\n",
    "        self._name = name\n",
    "        self._position = position\n",
    "        \n",
    "    @property\n",
    "    def name(self):\n",
    "        return self._name\n",
    "    \n",
    "    @property\n",
    "    def position(self):\n",
    "        return self._position    \n",
    "    \n",
    "    \n",
    "    def __str__(self):\n",
    "        return self.name\n",
    "    \n",
    "class EarthPosition(Position):\n",
    "    pass\n",
    "    \n"
   ]
  },
  {
   "cell_type": "code",
   "execution_count": 15,
   "id": "d362f5d7",
   "metadata": {},
   "outputs": [
    {
     "data": {
      "text/plain": [
       "Location(name=Hong Kong, position=114.16 E, 22.29 N)"
      ]
     },
     "execution_count": 15,
     "metadata": {},
     "output_type": "execute_result"
    }
   ],
   "source": [
    "hong_kong"
   ]
  },
  {
   "cell_type": "markdown",
   "id": "343297e3",
   "metadata": {},
   "source": [
    "#### Class Decorator Factories"
   ]
  },
  {
   "cell_type": "code",
   "execution_count": 60,
   "id": "1b7566b7",
   "metadata": {},
   "outputs": [],
   "source": [
    "import functools\n",
    "def postcondition(predicate):\n",
    "    \n",
    "    def function_decorator(f):\n",
    "        \n",
    "        @functools.wraps(f)\n",
    "        def wrapper(self, *args, **kwargs):\n",
    "            result = f(self, *args, **kwargs)\n",
    "            if not predicate(self):\n",
    "                raise RuntimeError(\n",
    "                    f\"Post-condition {predicate.__name__} not \"\n",
    "                    f\"maintained for {self!r}\"\n",
    "                )\n",
    "                \n",
    "            return result \n",
    "        return wrapper\n",
    "    return function_decorator\n",
    "\n",
    "def at_least_two_locations(itinerary):\n",
    "    return len(itinerary._locations) >= 2\n",
    "\n",
    "        \n",
    "class Itinerary:\n",
    "        \n",
    "    @classmethod\n",
    "    def from_locations(cls, *locations):\n",
    "        return cls(locations)\n",
    "    \n",
    "    @postcondition(at_least_two_locations)\n",
    "    def __init__(self, locations):\n",
    "        self._locations = list(locations)\n",
    "        \n",
    "    def __str__(self):\n",
    "        return \"\\n\".join(location.name for location in self._locations)\n",
    "    \n",
    "    @property\n",
    "    def locations(self):\n",
    "        return tuple(self._locations)\n",
    "    \n",
    "    @property\n",
    "    def origin(self):\n",
    "        return self._locations[0]\n",
    "    \n",
    "    @property\n",
    "    def destination(self):\n",
    "        return self._locations[-1]\n",
    "    \n",
    "    @postcondition(at_least_two_locations)\n",
    "    def add(self, location):\n",
    "        self._locations.append(location)\n",
    "        \n",
    "    @postcondition(at_least_two_locations)\n",
    "    def remove(self, name):\n",
    "        removal_indexes = [\n",
    "            index for index, location in enumerate(self._locations)\n",
    "            if location.name == name\n",
    "        ]\n",
    "        \n",
    "        for index in reversed(removal_indexes):\n",
    "            del self._locations[index]\n",
    "            \n",
    "    @postcondition(at_least_two_locations)\n",
    "    def truncate_at(self, name):\n",
    "        stop = None\n",
    "        for index, location in enumerate(self._locations):\n",
    "            if location.name == name:\n",
    "                stop = index + 1\n",
    "        self._locations = self._locations[:stop]        "
   ]
  },
  {
   "cell_type": "code",
   "execution_count": 62,
   "id": "1052c169",
   "metadata": {},
   "outputs": [
    {
     "ename": "RuntimeError",
     "evalue": "Post-condition at_least_two_locations not maintained for <__main__.Itinerary object at 0x00000205EB2B6C50>",
     "output_type": "error",
     "traceback": [
      "\u001b[1;31m---------------------------------------------------------------------------\u001b[0m",
      "\u001b[1;31mRuntimeError\u001b[0m                              Traceback (most recent call last)",
      "Input \u001b[1;32mIn [62]\u001b[0m, in \u001b[0;36m<cell line: 1>\u001b[1;34m()\u001b[0m\n\u001b[1;32m----> 1\u001b[0m trip \u001b[38;5;241m=\u001b[39m \u001b[43mItinerary\u001b[49m\u001b[38;5;241;43m.\u001b[39;49m\u001b[43mfrom_locations\u001b[49m\u001b[43m(\u001b[49m\u001b[43mmaracaibo\u001b[49m\u001b[43m)\u001b[49m\n\u001b[0;32m      2\u001b[0m trip\n",
      "Input \u001b[1;32mIn [60]\u001b[0m, in \u001b[0;36mItinerary.from_locations\u001b[1;34m(cls, *locations)\u001b[0m\n\u001b[0;32m     25\u001b[0m \u001b[38;5;129m@classmethod\u001b[39m\n\u001b[0;32m     26\u001b[0m \u001b[38;5;28;01mdef\u001b[39;00m \u001b[38;5;21mfrom_locations\u001b[39m(\u001b[38;5;28mcls\u001b[39m, \u001b[38;5;241m*\u001b[39mlocations):\n\u001b[1;32m---> 27\u001b[0m     \u001b[38;5;28;01mreturn\u001b[39;00m \u001b[38;5;28;43mcls\u001b[39;49m\u001b[43m(\u001b[49m\u001b[43mlocations\u001b[49m\u001b[43m)\u001b[49m\n",
      "Input \u001b[1;32mIn [60]\u001b[0m, in \u001b[0;36mpostcondition.<locals>.function_decorator.<locals>.wrapper\u001b[1;34m(self, *args, **kwargs)\u001b[0m\n\u001b[0;32m      8\u001b[0m result \u001b[38;5;241m=\u001b[39m f(\u001b[38;5;28mself\u001b[39m, \u001b[38;5;241m*\u001b[39margs, \u001b[38;5;241m*\u001b[39m\u001b[38;5;241m*\u001b[39mkwargs)\n\u001b[0;32m      9\u001b[0m \u001b[38;5;28;01mif\u001b[39;00m \u001b[38;5;129;01mnot\u001b[39;00m predicate(\u001b[38;5;28mself\u001b[39m):\n\u001b[1;32m---> 10\u001b[0m     \u001b[38;5;28;01mraise\u001b[39;00m \u001b[38;5;167;01mRuntimeError\u001b[39;00m(\n\u001b[0;32m     11\u001b[0m         \u001b[38;5;124mf\u001b[39m\u001b[38;5;124m\"\u001b[39m\u001b[38;5;124mPost-condition \u001b[39m\u001b[38;5;132;01m{\u001b[39;00mpredicate\u001b[38;5;241m.\u001b[39m\u001b[38;5;18m__name__\u001b[39m\u001b[38;5;132;01m}\u001b[39;00m\u001b[38;5;124m not \u001b[39m\u001b[38;5;124m\"\u001b[39m\n\u001b[0;32m     12\u001b[0m         \u001b[38;5;124mf\u001b[39m\u001b[38;5;124m\"\u001b[39m\u001b[38;5;124mmaintained for \u001b[39m\u001b[38;5;132;01m{\u001b[39;00m\u001b[38;5;28mself\u001b[39m\u001b[38;5;132;01m!r}\u001b[39;00m\u001b[38;5;124m\"\u001b[39m\n\u001b[0;32m     13\u001b[0m     )\n\u001b[0;32m     15\u001b[0m \u001b[38;5;28;01mreturn\u001b[39;00m result\n",
      "\u001b[1;31mRuntimeError\u001b[0m: Post-condition at_least_two_locations not maintained for <__main__.Itinerary object at 0x00000205EB2B6C50>"
     ]
    }
   ],
   "source": [
    "trip = Itinerary.from_locations(maracaibo)\n",
    "trip"
   ]
  },
  {
   "cell_type": "code",
   "execution_count": 61,
   "id": "e927d34e",
   "metadata": {},
   "outputs": [
    {
     "data": {
      "text/plain": [
       "<__main__.Itinerary at 0x205eb2b4ac0>"
      ]
     },
     "execution_count": 61,
     "metadata": {},
     "output_type": "execute_result"
    }
   ],
   "source": [
    "trip = Itinerary.from_locations(maracaibo, rotterdam, stockholm)\n",
    "trip"
   ]
  },
  {
   "cell_type": "code",
   "execution_count": 63,
   "id": "f4b8822c",
   "metadata": {},
   "outputs": [
    {
     "name": "stdout",
     "output_type": "stream",
     "text": [
      "Maracaibo\n",
      "Rotterdam\n",
      "Stockholm\n"
     ]
    }
   ],
   "source": [
    "print(trip)"
   ]
  },
  {
   "cell_type": "code",
   "execution_count": 64,
   "id": "b25d299c",
   "metadata": {},
   "outputs": [
    {
     "data": {
      "text/plain": [
       "Location(name=Maracaibo, position=71.65 W, 10.65 N)"
      ]
     },
     "execution_count": 64,
     "metadata": {},
     "output_type": "execute_result"
    }
   ],
   "source": [
    "trip.origin"
   ]
  },
  {
   "cell_type": "code",
   "execution_count": 65,
   "id": "779007f2",
   "metadata": {},
   "outputs": [
    {
     "data": {
      "text/plain": [
       "Location(name=Stockholm, position=18.06 E, 59.33 N)"
      ]
     },
     "execution_count": 65,
     "metadata": {},
     "output_type": "execute_result"
    }
   ],
   "source": [
    "trip.destination"
   ]
  },
  {
   "cell_type": "code",
   "execution_count": 66,
   "id": "4c5f5e44",
   "metadata": {},
   "outputs": [],
   "source": [
    "trip.add(cape_town)"
   ]
  },
  {
   "cell_type": "code",
   "execution_count": 67,
   "id": "8bdabf22",
   "metadata": {},
   "outputs": [],
   "source": [
    "trip.add(hong_kong)"
   ]
  },
  {
   "cell_type": "code",
   "execution_count": 68,
   "id": "2253be64",
   "metadata": {},
   "outputs": [
    {
     "name": "stdout",
     "output_type": "stream",
     "text": [
      "Maracaibo\n",
      "Rotterdam\n",
      "Stockholm\n",
      "Cap_Town\n",
      "Hong Kong\n"
     ]
    }
   ],
   "source": [
    "print(trip)"
   ]
  },
  {
   "cell_type": "code",
   "execution_count": 69,
   "id": "c3278aa4",
   "metadata": {},
   "outputs": [],
   "source": [
    "trip.remove(\"Stockholm\")"
   ]
  },
  {
   "cell_type": "code",
   "execution_count": 70,
   "id": "5e04b09c",
   "metadata": {},
   "outputs": [
    {
     "name": "stdout",
     "output_type": "stream",
     "text": [
      "Maracaibo\n",
      "Rotterdam\n",
      "Cap_Town\n",
      "Hong Kong\n"
     ]
    }
   ],
   "source": [
    "print(trip)"
   ]
  },
  {
   "cell_type": "code",
   "execution_count": 71,
   "id": "df8cb908",
   "metadata": {},
   "outputs": [],
   "source": [
    "trip.truncate_at(\"Rotterdam\")"
   ]
  },
  {
   "cell_type": "code",
   "execution_count": 72,
   "id": "f3343b63",
   "metadata": {},
   "outputs": [
    {
     "name": "stdout",
     "output_type": "stream",
     "text": [
      "Maracaibo\n",
      "Rotterdam\n"
     ]
    }
   ],
   "source": [
    "print(trip)"
   ]
  },
  {
   "cell_type": "code",
   "execution_count": 75,
   "id": "1fb0721d",
   "metadata": {},
   "outputs": [],
   "source": [
    "import functools\n",
    "def postcondition(predicate):\n",
    "    \n",
    "    def function_decorator(f):\n",
    "        \n",
    "        @functools.wraps(f)\n",
    "        def wrapper(self, *args, **kwargs):\n",
    "            result = f(self, *args, **kwargs)\n",
    "            if not predicate(self):\n",
    "                raise RuntimeError(\n",
    "                    f\"Post-condition {predicate.__name__} not \"\n",
    "                    f\"maintained for {self!r}\"\n",
    "                )\n",
    "                \n",
    "            return result \n",
    "        return wrapper\n",
    "    return function_decorator\n",
    "\n",
    "def invariant(predicate):\n",
    "    function_decorator = postcondition(predicate)\n",
    "    \n",
    "    def class_decorator(cls):\n",
    "        members = list(vars(cls).items())\n",
    "        for name, member in members:\n",
    "            if inspect.isfunction(member):\n",
    "                decorated_member = function_decorator(member)\n",
    "                setattr(cls, name, decorated_member)\n",
    "        return cls\n",
    "    \n",
    "    return class_decorator\n",
    "\n",
    "def at_least_two_locations(itinerary):\n",
    "    return len(itinerary._locations) >= 2\n",
    "\n",
    "        \n",
    "@invariant(at_least_two_locations)\n",
    "class Itinerary:\n",
    "        \n",
    "    @classmethod\n",
    "    def from_locations(cls, *locations):\n",
    "        return cls(locations)\n",
    "    \n",
    "    def __init__(self, locations):\n",
    "        self._locations = list(locations)\n",
    "        \n",
    "    def __str__(self):\n",
    "        return \"\\n\".join(location.name for location in self._locations)\n",
    "    \n",
    "    @property\n",
    "    def locations(self):\n",
    "        return tuple(self._locations)\n",
    "    \n",
    "    @property\n",
    "    def origin(self):\n",
    "        return self._locations[0]\n",
    "    \n",
    "    @property\n",
    "    def destination(self):\n",
    "        return self._locations[-1]\n",
    "    \n",
    "    \n",
    "    def add(self, location):\n",
    "        self._locations.append(location)\n",
    "        \n",
    "    def remove(self, name):\n",
    "        removal_indexes = [\n",
    "            index for index, location in enumerate(self._locations)\n",
    "            if location.name == name\n",
    "        ]\n",
    "        \n",
    "        for index in reversed(removal_indexes):\n",
    "            del self._locations[index]\n",
    "            \n",
    "    def truncate_at(self, name):\n",
    "        stop = None\n",
    "        for index, location in enumerate(self._locations):\n",
    "            if location.name == name:\n",
    "                stop = index + 1\n",
    "        self._locations = self._locations[:stop]        "
   ]
  },
  {
   "cell_type": "code",
   "execution_count": 76,
   "id": "4a06eb29",
   "metadata": {},
   "outputs": [
    {
     "ename": "RuntimeError",
     "evalue": "Post-condition at_least_two_locations not maintained for <__main__.Itinerary object at 0x00000205ED0DFC70>",
     "output_type": "error",
     "traceback": [
      "\u001b[1;31m---------------------------------------------------------------------------\u001b[0m",
      "\u001b[1;31mRuntimeError\u001b[0m                              Traceback (most recent call last)",
      "Input \u001b[1;32mIn [76]\u001b[0m, in \u001b[0;36m<cell line: 1>\u001b[1;34m()\u001b[0m\n\u001b[1;32m----> 1\u001b[0m trip \u001b[38;5;241m=\u001b[39m \u001b[43mItinerary\u001b[49m\u001b[38;5;241;43m.\u001b[39;49m\u001b[43mfrom_locations\u001b[49m\u001b[43m(\u001b[49m\u001b[43mmaracaibo\u001b[49m\u001b[43m)\u001b[49m\n\u001b[0;32m      2\u001b[0m trip\n",
      "Input \u001b[1;32mIn [75]\u001b[0m, in \u001b[0;36mItinerary.from_locations\u001b[1;34m(cls, *locations)\u001b[0m\n\u001b[0;32m     39\u001b[0m \u001b[38;5;129m@classmethod\u001b[39m\n\u001b[0;32m     40\u001b[0m \u001b[38;5;28;01mdef\u001b[39;00m \u001b[38;5;21mfrom_locations\u001b[39m(\u001b[38;5;28mcls\u001b[39m, \u001b[38;5;241m*\u001b[39mlocations):\n\u001b[1;32m---> 41\u001b[0m     \u001b[38;5;28;01mreturn\u001b[39;00m \u001b[38;5;28;43mcls\u001b[39;49m\u001b[43m(\u001b[49m\u001b[43mlocations\u001b[49m\u001b[43m)\u001b[49m\n",
      "Input \u001b[1;32mIn [75]\u001b[0m, in \u001b[0;36mpostcondition.<locals>.function_decorator.<locals>.wrapper\u001b[1;34m(self, *args, **kwargs)\u001b[0m\n\u001b[0;32m      8\u001b[0m result \u001b[38;5;241m=\u001b[39m f(\u001b[38;5;28mself\u001b[39m, \u001b[38;5;241m*\u001b[39margs, \u001b[38;5;241m*\u001b[39m\u001b[38;5;241m*\u001b[39mkwargs)\n\u001b[0;32m      9\u001b[0m \u001b[38;5;28;01mif\u001b[39;00m \u001b[38;5;129;01mnot\u001b[39;00m predicate(\u001b[38;5;28mself\u001b[39m):\n\u001b[1;32m---> 10\u001b[0m     \u001b[38;5;28;01mraise\u001b[39;00m \u001b[38;5;167;01mRuntimeError\u001b[39;00m(\n\u001b[0;32m     11\u001b[0m         \u001b[38;5;124mf\u001b[39m\u001b[38;5;124m\"\u001b[39m\u001b[38;5;124mPost-condition \u001b[39m\u001b[38;5;132;01m{\u001b[39;00mpredicate\u001b[38;5;241m.\u001b[39m\u001b[38;5;18m__name__\u001b[39m\u001b[38;5;132;01m}\u001b[39;00m\u001b[38;5;124m not \u001b[39m\u001b[38;5;124m\"\u001b[39m\n\u001b[0;32m     12\u001b[0m         \u001b[38;5;124mf\u001b[39m\u001b[38;5;124m\"\u001b[39m\u001b[38;5;124mmaintained for \u001b[39m\u001b[38;5;132;01m{\u001b[39;00m\u001b[38;5;28mself\u001b[39m\u001b[38;5;132;01m!r}\u001b[39;00m\u001b[38;5;124m\"\u001b[39m\n\u001b[0;32m     13\u001b[0m     )\n\u001b[0;32m     15\u001b[0m \u001b[38;5;28;01mreturn\u001b[39;00m result\n",
      "\u001b[1;31mRuntimeError\u001b[0m: Post-condition at_least_two_locations not maintained for <__main__.Itinerary object at 0x00000205ED0DFC70>"
     ]
    }
   ],
   "source": [
    "trip = Itinerary.from_locations(maracaibo)\n",
    "trip"
   ]
  },
  {
   "cell_type": "code",
   "execution_count": 78,
   "id": "a37335cc",
   "metadata": {},
   "outputs": [
    {
     "name": "stdout",
     "output_type": "stream",
     "text": [
      "Maracaibo\n",
      "Rotterdam\n",
      "Stockholm\n"
     ]
    }
   ],
   "source": [
    "trip = Itinerary.from_locations(maracaibo, rotterdam, stockholm)\n",
    "print(trip)"
   ]
  },
  {
   "cell_type": "code",
   "execution_count": 79,
   "id": "53890044",
   "metadata": {},
   "outputs": [],
   "source": [
    "import functools\n",
    "\n",
    "def no_duplicates(itinerary):\n",
    "    already_seen = set()\n",
    "    for location in itinerary._locations:\n",
    "        if location in already_seen:\n",
    "            return False\n",
    "        already_seen.add(location)\n",
    "    return True\n",
    "\n",
    "def postcondition(predicate):\n",
    "    \n",
    "    def function_decorator(f):\n",
    "        \n",
    "        @functools.wraps(f)\n",
    "        def wrapper(self, *args, **kwargs):\n",
    "            result = f(self, *args, **kwargs)\n",
    "            if not predicate(self):\n",
    "                raise RuntimeError(\n",
    "                    f\"Post-condition {predicate.__name__} not \"\n",
    "                    f\"maintained for {self!r}\"\n",
    "                )\n",
    "                \n",
    "            return result \n",
    "        return wrapper\n",
    "    return function_decorator\n",
    "\n",
    "def invariant(predicate):\n",
    "    function_decorator = postcondition(predicate)\n",
    "    \n",
    "    def class_decorator(cls):\n",
    "        members = list(vars(cls).items())\n",
    "        for name, member in members:\n",
    "            if inspect.isfunction(member):\n",
    "                decorated_member = function_decorator(member)\n",
    "                setattr(cls, name, decorated_member)\n",
    "        return cls\n",
    "    \n",
    "    return class_decorator\n",
    "\n",
    "def at_least_two_locations(itinerary):\n",
    "    return len(itinerary._locations) >= 2\n",
    "\n",
    "@auto_repr\n",
    "@invariant(no_duplicates)        \n",
    "@invariant(at_least_two_locations)\n",
    "class Itinerary:\n",
    "        \n",
    "    @classmethod\n",
    "    def from_locations(cls, *locations):\n",
    "        return cls(locations)\n",
    "    \n",
    "    def __init__(self, locations):\n",
    "        self._locations = list(locations)\n",
    "        \n",
    "    def __str__(self):\n",
    "        return \"\\n\".join(location.name for location in self._locations)\n",
    "    \n",
    "    @property\n",
    "    def locations(self):\n",
    "        return tuple(self._locations)\n",
    "    \n",
    "    @property\n",
    "    def origin(self):\n",
    "        return self._locations[0]\n",
    "    \n",
    "    @property\n",
    "    def destination(self):\n",
    "        return self._locations[-1]\n",
    "    \n",
    "    \n",
    "    def add(self, location):\n",
    "        self._locations.append(location)\n",
    "        \n",
    "    def remove(self, name):\n",
    "        removal_indexes = [\n",
    "            index for index, location in enumerate(self._locations)\n",
    "            if location.name == name\n",
    "        ]\n",
    "        \n",
    "        for index in reversed(removal_indexes):\n",
    "            del self._locations[index]\n",
    "            \n",
    "    def truncate_at(self, name):\n",
    "        stop = None\n",
    "        for index, location in enumerate(self._locations):\n",
    "            if location.name == name:\n",
    "                stop = index + 1\n",
    "        self._locations = self._locations[:stop]        "
   ]
  },
  {
   "cell_type": "code",
   "execution_count": 80,
   "id": "09ab2b4e",
   "metadata": {},
   "outputs": [
    {
     "name": "stdout",
     "output_type": "stream",
     "text": [
      "Maracaibo\n",
      "Rotterdam\n",
      "Stockholm\n"
     ]
    }
   ],
   "source": [
    "trip = Itinerary.from_locations(maracaibo, rotterdam, stockholm)\n",
    "print(trip)"
   ]
  },
  {
   "cell_type": "markdown",
   "id": "0c29e46f",
   "metadata": {},
   "source": [
    "### Summary\n",
    "* class decorators transform class definitions\n",
    "* class decorators are unary functions which only accepat a class object as its argument, cls\n",
    "* class decorators should return a class object, often the same one they accept\n",
    "* class decorators are a simpler alternative to metaclasses\n",
    "* class decorator factories facilitate parameterization\n",
    "* multiple class decorators can be applied"
   ]
  },
  {
   "cell_type": "code",
   "execution_count": null,
   "id": "e236e431",
   "metadata": {},
   "outputs": [],
   "source": []
  }
 ],
 "metadata": {
  "kernelspec": {
   "display_name": "Python 3 (ipykernel)",
   "language": "python",
   "name": "python3"
  },
  "language_info": {
   "codemirror_mode": {
    "name": "ipython",
    "version": 3
   },
   "file_extension": ".py",
   "mimetype": "text/x-python",
   "name": "python",
   "nbconvert_exporter": "python",
   "pygments_lexer": "ipython3",
   "version": "3.10.4"
  }
 },
 "nbformat": 4,
 "nbformat_minor": 5
}
