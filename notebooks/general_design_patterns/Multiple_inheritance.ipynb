{
 "cells": [
  {
   "cell_type": "markdown",
   "id": "4d87c645",
   "metadata": {},
   "source": [
    "## Mutliple Inheritance and method-resolution order"
   ]
  },
  {
   "cell_type": "markdown",
   "id": "4cb4929f",
   "metadata": {},
   "source": [
    "```python\n",
    "class SubClass(BaseClass):\n",
    "    pass\n",
    "```\n",
    "\n",
    "* SubClass inherits all attributes and may override methods of BaseClass\n",
    "* it is generally necessary to call base class initializers to ensure proper object initialization\n",
    "* If a subclass doesn't define an initializer, then the base class initializer is called during construction"
   ]
  },
  {
   "cell_type": "code",
   "execution_count": 4,
   "id": "5cbfe831",
   "metadata": {},
   "outputs": [],
   "source": [
    "class Base:\n",
    "    def __init__(self):\n",
    "        print('Base initializer')\n",
    "        \n",
    "    def f(self):\n",
    "        print('Base.f()')\n",
    "        \n",
    "        \n",
    "# Sub doesn't define its initializer, so Base' initializer will be called\n",
    "# Sub also inherit f()\n",
    "class Sub(Base):\n",
    "    pass"
   ]
  },
  {
   "cell_type": "code",
   "execution_count": 2,
   "id": "691a092a",
   "metadata": {},
   "outputs": [
    {
     "name": "stdout",
     "output_type": "stream",
     "text": [
      "Base initializer\n"
     ]
    }
   ],
   "source": [
    "b= Base()"
   ]
  },
  {
   "cell_type": "code",
   "execution_count": 3,
   "id": "a4fa4e4d",
   "metadata": {},
   "outputs": [
    {
     "name": "stdout",
     "output_type": "stream",
     "text": [
      "Base.f()\n"
     ]
    }
   ],
   "source": [
    "b.f()"
   ]
  },
  {
   "cell_type": "code",
   "execution_count": 5,
   "id": "76685758",
   "metadata": {},
   "outputs": [
    {
     "name": "stdout",
     "output_type": "stream",
     "text": [
      "Base initializer\n"
     ]
    }
   ],
   "source": [
    "c = Sub()"
   ]
  },
  {
   "cell_type": "code",
   "execution_count": 6,
   "id": "328bb6de",
   "metadata": {},
   "outputs": [
    {
     "name": "stdout",
     "output_type": "stream",
     "text": [
      "Base.f()\n"
     ]
    }
   ],
   "source": [
    "c.f()"
   ]
  },
  {
   "cell_type": "code",
   "execution_count": 7,
   "id": "1ae19a22",
   "metadata": {},
   "outputs": [],
   "source": [
    "class Base:\n",
    "    def __init__(self):\n",
    "        print('Base initializer')\n",
    "        \n",
    "    def f(self):\n",
    "        print('Base.f()')\n",
    "        \n",
    "        \n",
    "# Sub doesn't define its initializer, so Base' initializer will be called\n",
    "# Sub also inherit f()\n",
    "class Sub(Base):\n",
    "    \n",
    "    # override f\n",
    "    def f(self):\n",
    "        print('Sub.f()')"
   ]
  },
  {
   "cell_type": "code",
   "execution_count": 8,
   "id": "5e5c397b",
   "metadata": {},
   "outputs": [
    {
     "name": "stdout",
     "output_type": "stream",
     "text": [
      "Base initializer\n"
     ]
    }
   ],
   "source": [
    "c = Sub()"
   ]
  },
  {
   "cell_type": "code",
   "execution_count": 9,
   "id": "a4d1fe29",
   "metadata": {},
   "outputs": [
    {
     "name": "stdout",
     "output_type": "stream",
     "text": [
      "Sub.f()\n"
     ]
    }
   ],
   "source": [
    "c.f()"
   ]
  },
  {
   "cell_type": "markdown",
   "id": "a217011c",
   "metadata": {},
   "source": [
    "#### Sub-class initializer\n",
    "* if sub class initializer does not automatically call the base class initializers\n",
    "* base class initializer is executed if sub class initializer explicitly calls it, or sub class doesn't define initializer"
   ]
  },
  {
   "cell_type": "markdown",
   "id": "64384b6e",
   "metadata": {},
   "source": [
    "#### sub-class initializer dose not explicitly call the base call initializer"
   ]
  },
  {
   "cell_type": "code",
   "execution_count": 12,
   "id": "5470c7a8",
   "metadata": {},
   "outputs": [],
   "source": [
    "class Base:\n",
    "    def __init__(self):\n",
    "        print('Base initializer')\n",
    "        \n",
    "    def f(self):\n",
    "        print('Base.f()')\n",
    "        \n",
    "        \n",
    "# Sub doesn't define its initializer, so Base' initializer will be called\n",
    "# Sub also inherit f()\n",
    "class Sub(Base):\n",
    "    \n",
    "    def __init__(self):\n",
    "        print('Sub initializer')\n",
    "    \n",
    "    # override f\n",
    "    def f(self):\n",
    "        print('Sub.f()')"
   ]
  },
  {
   "cell_type": "code",
   "execution_count": 13,
   "id": "08fe5885",
   "metadata": {},
   "outputs": [
    {
     "name": "stdout",
     "output_type": "stream",
     "text": [
      "Sub initializer\n"
     ]
    }
   ],
   "source": [
    "c= Sub()"
   ]
  },
  {
   "cell_type": "markdown",
   "id": "10f4e07c",
   "metadata": {},
   "source": [
    "#### sub-class initializer explicitly call the base call initializer"
   ]
  },
  {
   "cell_type": "code",
   "execution_count": 14,
   "id": "65e48ec9",
   "metadata": {},
   "outputs": [],
   "source": [
    "class Base:\n",
    "    def __init__(self):\n",
    "        print('Base initializer')\n",
    "        \n",
    "    def f(self):\n",
    "        print('Base.f()')\n",
    "        \n",
    "        \n",
    "# Sub doesn't define its initializer, so Base' initializer will be called\n",
    "# Sub also inherit f()\n",
    "class Sub(Base):\n",
    "    \n",
    "    def __init__(self):\n",
    "        super().__init__()\n",
    "        print('Sub initializer')\n",
    "    \n",
    "    # override f\n",
    "    def f(self):\n",
    "        print('Sub.f()')"
   ]
  },
  {
   "cell_type": "code",
   "execution_count": 15,
   "id": "264ad6d1",
   "metadata": {},
   "outputs": [
    {
     "name": "stdout",
     "output_type": "stream",
     "text": [
      "Base initializer\n",
      "Sub initializer\n"
     ]
    }
   ],
   "source": [
    "c= Sub()"
   ]
  },
  {
   "cell_type": "markdown",
   "id": "2950b01b",
   "metadata": {},
   "source": [
    "#### Using SimpleList class to explore inheritance in Python"
   ]
  },
  {
   "cell_type": "code",
   "execution_count": 33,
   "id": "76328a5f",
   "metadata": {},
   "outputs": [],
   "source": [
    "class SimpleList:\n",
    "    def __init__(self, items):\n",
    "        self._items = list(items)\n",
    "        \n",
    "    def add(self, item):\n",
    "        self._items.append(item)\n",
    "        \n",
    "    def __get_item__(self, index):\n",
    "        return self._items[index]\n",
    "    \n",
    "    def sort(self):\n",
    "        self._items.sort()\n",
    "        \n",
    "    def __len__(self):\n",
    "        return len(self._items)\n",
    "    \n",
    "    def __repr__(self):\n",
    "        return f\"{type(self).__name__}({self._items!r})\"\n",
    "    \n",
    "class SortedList(SimpleList):\n",
    "    def __init__(self, items=()):\n",
    "        super().__init__(items)\n",
    "        self.sort()\n",
    "        \n",
    "    def add(self, item):\n",
    "        super().add(item)\n",
    "        self.sort()\n",
    "    "
   ]
  },
  {
   "cell_type": "markdown",
   "id": "11879643",
   "metadata": {},
   "source": [
    "### Type inspection functions\n",
    "#### isinstance()\n",
    "* isinstance returns True if the first argument is an instance of the second argument, which is a class\n",
    "  + it also returns True if the first argument is a subclass of the second argument\n",
    "* isinstance also accept its second argument as a tuple of types, and returns True if the first argument is the subclass or class of any of the second argument  "
   ]
  },
  {
   "cell_type": "code",
   "execution_count": 34,
   "id": "8f3f59ae",
   "metadata": {},
   "outputs": [],
   "source": [
    "s1 = SortedList([3,2,1])"
   ]
  },
  {
   "cell_type": "code",
   "execution_count": 35,
   "id": "15958b54",
   "metadata": {},
   "outputs": [
    {
     "name": "stdout",
     "output_type": "stream",
     "text": [
      "True\n"
     ]
    }
   ],
   "source": [
    "print(isinstance(s1, SortedList))"
   ]
  },
  {
   "cell_type": "code",
   "execution_count": 36,
   "id": "5e1451d3",
   "metadata": {},
   "outputs": [
    {
     "name": "stdout",
     "output_type": "stream",
     "text": [
      "True\n"
     ]
    }
   ],
   "source": [
    "print(isinstance(s1, SimpleList))"
   ]
  },
  {
   "cell_type": "code",
   "execution_count": 37,
   "id": "2cbb0da4",
   "metadata": {},
   "outputs": [
    {
     "data": {
      "text/plain": [
       "True"
      ]
     },
     "execution_count": 37,
     "metadata": {},
     "output_type": "execute_result"
    }
   ],
   "source": [
    "# returns True because x is an instance of list\n",
    "x =[]\n",
    "isinstance(x, (float, dict, list))"
   ]
  },
  {
   "cell_type": "code",
   "execution_count": 38,
   "id": "f1f7a97e",
   "metadata": {},
   "outputs": [],
   "source": [
    "class IntList(SimpleList):\n",
    "    def __init__(self, items=()):\n",
    "        for x in items: self._validate(x)\n",
    "        super().__init__(items)\n",
    "        \n",
    "    @staticmethod\n",
    "    def _validate(x):\n",
    "        if not isinstance(x, int):\n",
    "            raise TypeError('IntList only supports integer values')\n",
    "            \n",
    "    def add(self, item):\n",
    "        self._validate(item)\n",
    "        super().add(item)"
   ]
  },
  {
   "cell_type": "code",
   "execution_count": 39,
   "id": "58341cfa",
   "metadata": {},
   "outputs": [],
   "source": [
    "il = IntList([1, 2, 3, 4])\n",
    "il.add(19)"
   ]
  },
  {
   "cell_type": "code",
   "execution_count": 40,
   "id": "8d022c3c",
   "metadata": {},
   "outputs": [
    {
     "ename": "TypeError",
     "evalue": "IntList only supports integer values",
     "output_type": "error",
     "traceback": [
      "\u001b[1;31m---------------------------------------------------------------------------\u001b[0m",
      "\u001b[1;31mTypeError\u001b[0m                                 Traceback (most recent call last)",
      "Input \u001b[1;32mIn [40]\u001b[0m, in \u001b[0;36m<cell line: 1>\u001b[1;34m()\u001b[0m\n\u001b[1;32m----> 1\u001b[0m \u001b[43mil\u001b[49m\u001b[38;5;241;43m.\u001b[39;49m\u001b[43madd\u001b[49m\u001b[43m(\u001b[49m\u001b[38;5;241;43m3.4\u001b[39;49m\u001b[43m)\u001b[49m\n",
      "Input \u001b[1;32mIn [38]\u001b[0m, in \u001b[0;36mIntList.add\u001b[1;34m(self, item)\u001b[0m\n\u001b[0;32m     11\u001b[0m \u001b[38;5;28;01mdef\u001b[39;00m \u001b[38;5;21madd\u001b[39m(\u001b[38;5;28mself\u001b[39m, item):\n\u001b[1;32m---> 12\u001b[0m     \u001b[38;5;28;43mself\u001b[39;49m\u001b[38;5;241;43m.\u001b[39;49m\u001b[43m_validate\u001b[49m\u001b[43m(\u001b[49m\u001b[43mitem\u001b[49m\u001b[43m)\u001b[49m\n\u001b[0;32m     13\u001b[0m     \u001b[38;5;28msuper\u001b[39m()\u001b[38;5;241m.\u001b[39madd(item)\n",
      "Input \u001b[1;32mIn [38]\u001b[0m, in \u001b[0;36mIntList._validate\u001b[1;34m(x)\u001b[0m\n\u001b[0;32m      6\u001b[0m \u001b[38;5;129m@staticmethod\u001b[39m\n\u001b[0;32m      7\u001b[0m \u001b[38;5;28;01mdef\u001b[39;00m \u001b[38;5;21m_validate\u001b[39m(x):\n\u001b[0;32m      8\u001b[0m     \u001b[38;5;28;01mif\u001b[39;00m \u001b[38;5;129;01mnot\u001b[39;00m \u001b[38;5;28misinstance\u001b[39m(x, \u001b[38;5;28mint\u001b[39m):\n\u001b[1;32m----> 9\u001b[0m         \u001b[38;5;28;01mraise\u001b[39;00m \u001b[38;5;167;01mTypeError\u001b[39;00m(\u001b[38;5;124m'\u001b[39m\u001b[38;5;124mIntList only supports integer values\u001b[39m\u001b[38;5;124m'\u001b[39m)\n",
      "\u001b[1;31mTypeError\u001b[0m: IntList only supports integer values"
     ]
    }
   ],
   "source": [
    "il.add(3.4)"
   ]
  },
  {
   "cell_type": "markdown",
   "id": "ad406e29",
   "metadata": {},
   "source": [
    "#### issubclass\n",
    "* operates on types to check for sub/superclass relationships\n",
    "* determines if one class is a subclass of another\n",
    "* takes two arguments, both must be types\n",
    "* returns True if the first argument is a direct or indirect subclass of the second"
   ]
  },
  {
   "cell_type": "code",
   "execution_count": 41,
   "id": "3c4e4fa2",
   "metadata": {},
   "outputs": [
    {
     "name": "stdout",
     "output_type": "stream",
     "text": [
      "True\n",
      "True\n",
      "False\n"
     ]
    }
   ],
   "source": [
    "print(issubclass(IntList, SimpleList))\n",
    "print(issubclass(SortedList, SimpleList))\n",
    "print(issubclass(SortedList, IntList))"
   ]
  },
  {
   "cell_type": "code",
   "execution_count": 42,
   "id": "f9f58274",
   "metadata": {},
   "outputs": [
    {
     "data": {
      "text/plain": [
       "True"
      ]
     },
     "execution_count": 42,
     "metadata": {},
     "output_type": "execute_result"
    }
   ],
   "source": [
    "# show indirect relationship\n",
    "class MyInt(int): pass\n",
    "class MyVerySpecialInt(MyInt): pass\n",
    "issubclass(MyVerySpecialInt, int)"
   ]
  },
  {
   "cell_type": "markdown",
   "id": "3ff53446",
   "metadata": {},
   "source": [
    "### Multiple Inheritance\n",
    "* defining a class with more than one direct base class\n",
    "* not universal among object-oriented languages\n",
    "* can lead to certain complexities\n",
    "  + when multiple base classes define the same method\n",
    "  + python has a relatively simple system for dealing with them\n",
    "\n",
    "```python\n",
    "class SubClass(Base1, Base2, Base3):\n",
    "    pass\n",
    "```"
   ]
  },
  {
   "cell_type": "markdown",
   "id": "d421f5e0",
   "metadata": {},
   "source": [
    "#### Name Resolution with multiple base classes\n",
    "* classes inherit all methods from all of their bases\n",
    "* if there is no meethod name overlap, names resolve to the obvious method\n",
    "* in the case of overlap, python uses a well-defined method resolution order to decide which to use\n",
    "* if a class uses multiple inheritance and defines no initializer, only the initializer of the first base class is automatically called\n",
    "* \\_\\_bases\\_\\_ returns a list of all the base classes\n",
    "* \\_\\_base\\_\\_ returns the first base classes"
   ]
  },
  {
   "cell_type": "code",
   "execution_count": 43,
   "id": "819d30c9",
   "metadata": {},
   "outputs": [],
   "source": [
    "class SortedIntList(IntList, SortedList):\n",
    "    pass"
   ]
  },
  {
   "cell_type": "code",
   "execution_count": 49,
   "id": "573fcb00",
   "metadata": {},
   "outputs": [
    {
     "data": {
      "text/plain": [
       "SortedIntList([3, 23, 42])"
      ]
     },
     "execution_count": 49,
     "metadata": {},
     "output_type": "execute_result"
    }
   ],
   "source": [
    "sil = SortedIntList([42, 23, 3])\n",
    "sil"
   ]
  },
  {
   "cell_type": "code",
   "execution_count": 50,
   "id": "d17ae8b9",
   "metadata": {},
   "outputs": [
    {
     "data": {
      "text/plain": [
       "SortedIntList([-100, 3, 23, 42])"
      ]
     },
     "execution_count": 50,
     "metadata": {},
     "output_type": "execute_result"
    }
   ],
   "source": [
    "sil.add(-100)\n",
    "sil"
   ]
  },
  {
   "cell_type": "code",
   "execution_count": 51,
   "id": "159fc404",
   "metadata": {},
   "outputs": [
    {
     "ename": "TypeError",
     "evalue": "IntList only supports integer values",
     "output_type": "error",
     "traceback": [
      "\u001b[1;31m---------------------------------------------------------------------------\u001b[0m",
      "\u001b[1;31mTypeError\u001b[0m                                 Traceback (most recent call last)",
      "Input \u001b[1;32mIn [51]\u001b[0m, in \u001b[0;36m<cell line: 1>\u001b[1;34m()\u001b[0m\n\u001b[1;32m----> 1\u001b[0m \u001b[43msil\u001b[49m\u001b[38;5;241;43m.\u001b[39;49m\u001b[43madd\u001b[49m\u001b[43m(\u001b[49m\u001b[38;5;241;43m3.4\u001b[39;49m\u001b[43m)\u001b[49m\n",
      "Input \u001b[1;32mIn [38]\u001b[0m, in \u001b[0;36mIntList.add\u001b[1;34m(self, item)\u001b[0m\n\u001b[0;32m     11\u001b[0m \u001b[38;5;28;01mdef\u001b[39;00m \u001b[38;5;21madd\u001b[39m(\u001b[38;5;28mself\u001b[39m, item):\n\u001b[1;32m---> 12\u001b[0m     \u001b[38;5;28;43mself\u001b[39;49m\u001b[38;5;241;43m.\u001b[39;49m\u001b[43m_validate\u001b[49m\u001b[43m(\u001b[49m\u001b[43mitem\u001b[49m\u001b[43m)\u001b[49m\n\u001b[0;32m     13\u001b[0m     \u001b[38;5;28msuper\u001b[39m()\u001b[38;5;241m.\u001b[39madd(item)\n",
      "Input \u001b[1;32mIn [38]\u001b[0m, in \u001b[0;36mIntList._validate\u001b[1;34m(x)\u001b[0m\n\u001b[0;32m      6\u001b[0m \u001b[38;5;129m@staticmethod\u001b[39m\n\u001b[0;32m      7\u001b[0m \u001b[38;5;28;01mdef\u001b[39;00m \u001b[38;5;21m_validate\u001b[39m(x):\n\u001b[0;32m      8\u001b[0m     \u001b[38;5;28;01mif\u001b[39;00m \u001b[38;5;129;01mnot\u001b[39;00m \u001b[38;5;28misinstance\u001b[39m(x, \u001b[38;5;28mint\u001b[39m):\n\u001b[1;32m----> 9\u001b[0m         \u001b[38;5;28;01mraise\u001b[39;00m \u001b[38;5;167;01mTypeError\u001b[39;00m(\u001b[38;5;124m'\u001b[39m\u001b[38;5;124mIntList only supports integer values\u001b[39m\u001b[38;5;124m'\u001b[39m)\n",
      "\u001b[1;31mTypeError\u001b[0m: IntList only supports integer values"
     ]
    }
   ],
   "source": [
    "sil.add(3.4)"
   ]
  },
  {
   "cell_type": "code",
   "execution_count": 53,
   "id": "1f929dd4",
   "metadata": {},
   "outputs": [
    {
     "data": {
      "text/plain": [
       "(__main__.IntList, __main__.SortedList)"
      ]
     },
     "execution_count": 53,
     "metadata": {},
     "output_type": "execute_result"
    }
   ],
   "source": [
    "SortedIntList.__bases__"
   ]
  },
  {
   "cell_type": "code",
   "execution_count": null,
   "id": "7b16ad0d",
   "metadata": {},
   "outputs": [],
   "source": []
  }
 ],
 "metadata": {
  "kernelspec": {
   "display_name": "Python 3 (ipykernel)",
   "language": "python",
   "name": "python3"
  },
  "language_info": {
   "codemirror_mode": {
    "name": "ipython",
    "version": 3
   },
   "file_extension": ".py",
   "mimetype": "text/x-python",
   "name": "python",
   "nbconvert_exporter": "python",
   "pygments_lexer": "ipython3",
   "version": "3.10.4"
  }
 },
 "nbformat": 4,
 "nbformat_minor": 5
}
