{
 "cells": [
  {
   "cell_type": "markdown",
   "id": "474d72d6",
   "metadata": {},
   "source": [
    "## Mutliple Inheritance and method-resolution order"
   ]
  },
  {
   "cell_type": "markdown",
   "id": "8a443b81",
   "metadata": {},
   "source": [
    "```python\n",
    "class SubClass(BaseClass):\n",
    "    pass\n",
    "```\n",
    "\n",
    "* SubClass inherits all attributes and may override methods of BaseClass\n",
    "* it is generally necessary to call base class initializers to ensure proper object initialization\n",
    "* If a subclass doesn't define an initializer, then the base class initializer is called during construction"
   ]
  },
  {
   "cell_type": "code",
   "execution_count": 4,
   "id": "3209ce83",
   "metadata": {},
   "outputs": [],
   "source": [
    "class Base:\n",
    "    def __init__(self):\n",
    "        print('Base initializer')\n",
    "        \n",
    "    def f(self):\n",
    "        print('Base.f()')\n",
    "        \n",
    "        \n",
    "# Sub doesn't define its initializer, so Base' initializer will be called\n",
    "# Sub also inherit f()\n",
    "class Sub(Base):\n",
    "    pass"
   ]
  },
  {
   "cell_type": "code",
   "execution_count": 2,
   "id": "4964be1b",
   "metadata": {},
   "outputs": [
    {
     "name": "stdout",
     "output_type": "stream",
     "text": [
      "Base initializer\n"
     ]
    }
   ],
   "source": [
    "b= Base()"
   ]
  },
  {
   "cell_type": "code",
   "execution_count": 3,
   "id": "40136eea",
   "metadata": {},
   "outputs": [
    {
     "name": "stdout",
     "output_type": "stream",
     "text": [
      "Base.f()\n"
     ]
    }
   ],
   "source": [
    "b.f()"
   ]
  },
  {
   "cell_type": "code",
   "execution_count": 5,
   "id": "f5324ee4",
   "metadata": {},
   "outputs": [
    {
     "name": "stdout",
     "output_type": "stream",
     "text": [
      "Base initializer\n"
     ]
    }
   ],
   "source": [
    "c = Sub()"
   ]
  },
  {
   "cell_type": "code",
   "execution_count": 6,
   "id": "35d30f37",
   "metadata": {},
   "outputs": [
    {
     "name": "stdout",
     "output_type": "stream",
     "text": [
      "Base.f()\n"
     ]
    }
   ],
   "source": [
    "c.f()"
   ]
  },
  {
   "cell_type": "code",
   "execution_count": 7,
   "id": "3062b2ab",
   "metadata": {},
   "outputs": [],
   "source": [
    "class Base:\n",
    "    def __init__(self):\n",
    "        print('Base initializer')\n",
    "        \n",
    "    def f(self):\n",
    "        print('Base.f()')\n",
    "        \n",
    "        \n",
    "# Sub doesn't define its initializer, so Base' initializer will be called\n",
    "# Sub also inherit f()\n",
    "class Sub(Base):\n",
    "    \n",
    "    # override f\n",
    "    def f(self):\n",
    "        print('Sub.f()')"
   ]
  },
  {
   "cell_type": "code",
   "execution_count": 8,
   "id": "cd0984e9",
   "metadata": {},
   "outputs": [
    {
     "name": "stdout",
     "output_type": "stream",
     "text": [
      "Base initializer\n"
     ]
    }
   ],
   "source": [
    "c = Sub()"
   ]
  },
  {
   "cell_type": "code",
   "execution_count": 9,
   "id": "89621dea",
   "metadata": {},
   "outputs": [
    {
     "name": "stdout",
     "output_type": "stream",
     "text": [
      "Sub.f()\n"
     ]
    }
   ],
   "source": [
    "c.f()"
   ]
  },
  {
   "cell_type": "markdown",
   "id": "24061e5a",
   "metadata": {},
   "source": [
    "#### Sub-class initializer\n",
    "* if sub class initializer does not automatically call the base class initializers\n",
    "* base class initializer is executed if sub class initializer explicitly calls it, or sub class doesn't define initializer"
   ]
  },
  {
   "cell_type": "markdown",
   "id": "bae7cd1c",
   "metadata": {},
   "source": [
    "#### sub-class initializer dose not explicitly call the base call initializer"
   ]
  },
  {
   "cell_type": "code",
   "execution_count": 12,
   "id": "31ef8e4a",
   "metadata": {},
   "outputs": [],
   "source": [
    "class Base:\n",
    "    def __init__(self):\n",
    "        print('Base initializer')\n",
    "        \n",
    "    def f(self):\n",
    "        print('Base.f()')\n",
    "        \n",
    "        \n",
    "# Sub doesn't define its initializer, so Base' initializer will be called\n",
    "# Sub also inherit f()\n",
    "class Sub(Base):\n",
    "    \n",
    "    def __init__(self):\n",
    "        print('Sub initializer')\n",
    "    \n",
    "    # override f\n",
    "    def f(self):\n",
    "        print('Sub.f()')"
   ]
  },
  {
   "cell_type": "code",
   "execution_count": 13,
   "id": "1a9ad1bf",
   "metadata": {},
   "outputs": [
    {
     "name": "stdout",
     "output_type": "stream",
     "text": [
      "Sub initializer\n"
     ]
    }
   ],
   "source": [
    "c= Sub()"
   ]
  },
  {
   "cell_type": "markdown",
   "id": "6868dd98",
   "metadata": {},
   "source": [
    "#### sub-class initializer explicitly call the base call initializer"
   ]
  },
  {
   "cell_type": "code",
   "execution_count": 14,
   "id": "cf119bc5",
   "metadata": {},
   "outputs": [],
   "source": [
    "class Base:\n",
    "    def __init__(self):\n",
    "        print('Base initializer')\n",
    "        \n",
    "    def f(self):\n",
    "        print('Base.f()')\n",
    "        \n",
    "        \n",
    "# Sub doesn't define its initializer, so Base' initializer will be called\n",
    "# Sub also inherit f()\n",
    "class Sub(Base):\n",
    "    \n",
    "    def __init__(self):\n",
    "        super().__init__()\n",
    "        print('Sub initializer')\n",
    "    \n",
    "    # override f\n",
    "    def f(self):\n",
    "        print('Sub.f()')"
   ]
  },
  {
   "cell_type": "code",
   "execution_count": 15,
   "id": "66999e56",
   "metadata": {},
   "outputs": [
    {
     "name": "stdout",
     "output_type": "stream",
     "text": [
      "Base initializer\n",
      "Sub initializer\n"
     ]
    }
   ],
   "source": [
    "c= Sub()"
   ]
  },
  {
   "cell_type": "markdown",
   "id": "d8909e9e",
   "metadata": {},
   "source": [
    "#### Using SimpleList class to explore inheritance in Python"
   ]
  },
  {
   "cell_type": "code",
   "execution_count": 33,
   "id": "b02fef56",
   "metadata": {},
   "outputs": [],
   "source": [
    "class SimpleList:\n",
    "    def __init__(self, items):\n",
    "        self._items = list(items)\n",
    "        \n",
    "    def add(self, item):\n",
    "        self._items.append(item)\n",
    "        \n",
    "    def __get_item__(self, index):\n",
    "        return self._items[index]\n",
    "    \n",
    "    def sort(self):\n",
    "        self._items.sort()\n",
    "        \n",
    "    def __len__(self):\n",
    "        return len(self._items)\n",
    "    \n",
    "    def __repr__(self):\n",
    "        return f\"{type(self).__name__}({self._items!r})\"\n",
    "    \n",
    "class SortedList(SimpleList):\n",
    "    def __init__(self, items=()):\n",
    "        super().__init__(items)\n",
    "        self.sort()\n",
    "        \n",
    "    def add(self, item):\n",
    "        super().add(item)\n",
    "        self.sort()\n",
    "    "
   ]
  },
  {
   "cell_type": "markdown",
   "id": "506990cd",
   "metadata": {},
   "source": [
    "### Type inspection functions\n",
    "#### isinstance()\n",
    "* isinstance returns True if the first argument is an instance of the second argument, which is a class\n",
    "  + it also returns True if the first argument is a subclass of the second argument\n",
    "* isinstance also accept its second argument as a tuple of types, and returns True if the first argument is the subclass or class of any of the second argument  "
   ]
  },
  {
   "cell_type": "code",
   "execution_count": 34,
   "id": "8cb85041",
   "metadata": {},
   "outputs": [],
   "source": [
    "s1 = SortedList([3,2,1])"
   ]
  },
  {
   "cell_type": "code",
   "execution_count": 35,
   "id": "1de3791f",
   "metadata": {},
   "outputs": [
    {
     "name": "stdout",
     "output_type": "stream",
     "text": [
      "True\n"
     ]
    }
   ],
   "source": [
    "print(isinstance(s1, SortedList))"
   ]
  },
  {
   "cell_type": "code",
   "execution_count": 36,
   "id": "dd33537c",
   "metadata": {},
   "outputs": [
    {
     "name": "stdout",
     "output_type": "stream",
     "text": [
      "True\n"
     ]
    }
   ],
   "source": [
    "print(isinstance(s1, SimpleList))"
   ]
  },
  {
   "cell_type": "code",
   "execution_count": 37,
   "id": "8ca52762",
   "metadata": {},
   "outputs": [
    {
     "data": {
      "text/plain": [
       "True"
      ]
     },
     "execution_count": 37,
     "metadata": {},
     "output_type": "execute_result"
    }
   ],
   "source": [
    "# returns True because x is an instance of list\n",
    "x =[]\n",
    "isinstance(x, (float, dict, list))"
   ]
  },
  {
   "cell_type": "code",
   "execution_count": 38,
   "id": "04806dfc",
   "metadata": {},
   "outputs": [],
   "source": [
    "class IntList(SimpleList):\n",
    "    def __init__(self, items=()):\n",
    "        for x in items: self._validate(x)\n",
    "        super().__init__(items)\n",
    "        \n",
    "    @staticmethod\n",
    "    def _validate(x):\n",
    "        if not isinstance(x, int):\n",
    "            raise TypeError('IntList only supports integer values')\n",
    "            \n",
    "    def add(self, item):\n",
    "        self._validate(item)\n",
    "        super().add(item)"
   ]
  },
  {
   "cell_type": "code",
   "execution_count": 39,
   "id": "e86960bc",
   "metadata": {},
   "outputs": [],
   "source": [
    "il = IntList([1, 2, 3, 4])\n",
    "il.add(19)"
   ]
  },
  {
   "cell_type": "code",
   "execution_count": 40,
   "id": "470c7670",
   "metadata": {},
   "outputs": [
    {
     "ename": "TypeError",
     "evalue": "IntList only supports integer values",
     "output_type": "error",
     "traceback": [
      "\u001b[1;31m---------------------------------------------------------------------------\u001b[0m",
      "\u001b[1;31mTypeError\u001b[0m                                 Traceback (most recent call last)",
      "Input \u001b[1;32mIn [40]\u001b[0m, in \u001b[0;36m<cell line: 1>\u001b[1;34m()\u001b[0m\n\u001b[1;32m----> 1\u001b[0m \u001b[43mil\u001b[49m\u001b[38;5;241;43m.\u001b[39;49m\u001b[43madd\u001b[49m\u001b[43m(\u001b[49m\u001b[38;5;241;43m3.4\u001b[39;49m\u001b[43m)\u001b[49m\n",
      "Input \u001b[1;32mIn [38]\u001b[0m, in \u001b[0;36mIntList.add\u001b[1;34m(self, item)\u001b[0m\n\u001b[0;32m     11\u001b[0m \u001b[38;5;28;01mdef\u001b[39;00m \u001b[38;5;21madd\u001b[39m(\u001b[38;5;28mself\u001b[39m, item):\n\u001b[1;32m---> 12\u001b[0m     \u001b[38;5;28;43mself\u001b[39;49m\u001b[38;5;241;43m.\u001b[39;49m\u001b[43m_validate\u001b[49m\u001b[43m(\u001b[49m\u001b[43mitem\u001b[49m\u001b[43m)\u001b[49m\n\u001b[0;32m     13\u001b[0m     \u001b[38;5;28msuper\u001b[39m()\u001b[38;5;241m.\u001b[39madd(item)\n",
      "Input \u001b[1;32mIn [38]\u001b[0m, in \u001b[0;36mIntList._validate\u001b[1;34m(x)\u001b[0m\n\u001b[0;32m      6\u001b[0m \u001b[38;5;129m@staticmethod\u001b[39m\n\u001b[0;32m      7\u001b[0m \u001b[38;5;28;01mdef\u001b[39;00m \u001b[38;5;21m_validate\u001b[39m(x):\n\u001b[0;32m      8\u001b[0m     \u001b[38;5;28;01mif\u001b[39;00m \u001b[38;5;129;01mnot\u001b[39;00m \u001b[38;5;28misinstance\u001b[39m(x, \u001b[38;5;28mint\u001b[39m):\n\u001b[1;32m----> 9\u001b[0m         \u001b[38;5;28;01mraise\u001b[39;00m \u001b[38;5;167;01mTypeError\u001b[39;00m(\u001b[38;5;124m'\u001b[39m\u001b[38;5;124mIntList only supports integer values\u001b[39m\u001b[38;5;124m'\u001b[39m)\n",
      "\u001b[1;31mTypeError\u001b[0m: IntList only supports integer values"
     ]
    }
   ],
   "source": [
    "il.add(3.4)"
   ]
  },
  {
   "cell_type": "markdown",
   "id": "f61482d3",
   "metadata": {},
   "source": [
    "#### issubclass\n",
    "* operates on types to check for sub/superclass relationships\n",
    "* determines if one class is a subclass of another\n",
    "* takes two arguments, both must be types\n",
    "* returns True if the first argument is a direct or indirect subclass of the second"
   ]
  },
  {
   "cell_type": "code",
   "execution_count": 41,
   "id": "418219ae",
   "metadata": {},
   "outputs": [
    {
     "name": "stdout",
     "output_type": "stream",
     "text": [
      "True\n",
      "True\n",
      "False\n"
     ]
    }
   ],
   "source": [
    "print(issubclass(IntList, SimpleList))\n",
    "print(issubclass(SortedList, SimpleList))\n",
    "print(issubclass(SortedList, IntList))"
   ]
  },
  {
   "cell_type": "code",
   "execution_count": 42,
   "id": "f94a4450",
   "metadata": {},
   "outputs": [
    {
     "data": {
      "text/plain": [
       "True"
      ]
     },
     "execution_count": 42,
     "metadata": {},
     "output_type": "execute_result"
    }
   ],
   "source": [
    "# show indirect relationship\n",
    "class MyInt(int): pass\n",
    "class MyVerySpecialInt(MyInt): pass\n",
    "issubclass(MyVerySpecialInt, int)"
   ]
  },
  {
   "cell_type": "markdown",
   "id": "8d0deca8",
   "metadata": {},
   "source": [
    "### Multiple Inheritance\n",
    "* defining a class with more than one direct base class\n",
    "* not universal among object-oriented languages\n",
    "* can lead to certain complexities\n",
    "  + when multiple base classes define the same method\n",
    "  + python has a relatively simple system for dealing with them\n",
    "\n",
    "```python\n",
    "class SubClass(Base1, Base2, Base3):\n",
    "    pass\n",
    "```"
   ]
  },
  {
   "cell_type": "markdown",
   "id": "a343fea6",
   "metadata": {},
   "source": [
    "#### Name Resolution with multiple base classes\n",
    "* classes inherit all methods from all of their bases\n",
    "* if there is no meethod name overlap, names resolve to the obvious method\n",
    "* in the case of overlap, python uses a well-defined method resolution order to decide which to use\n",
    "* if a class uses multiple inheritance and defines no initializer, only the initializer of the first base class is automatically called\n",
    "* \\_\\_bases\\_\\_ returns a list of all the base classes\n",
    "* \\_\\_base\\_\\_ returns the first base classes"
   ]
  },
  {
   "cell_type": "code",
   "execution_count": 43,
   "id": "e3796c22",
   "metadata": {},
   "outputs": [],
   "source": [
    "class SortedIntList(IntList, SortedList):\n",
    "    pass"
   ]
  },
  {
   "cell_type": "code",
   "execution_count": 49,
   "id": "d0774728",
   "metadata": {},
   "outputs": [
    {
     "data": {
      "text/plain": [
       "SortedIntList([3, 23, 42])"
      ]
     },
     "execution_count": 49,
     "metadata": {},
     "output_type": "execute_result"
    }
   ],
   "source": [
    "sil = SortedIntList([42, 23, 3])\n",
    "sil"
   ]
  },
  {
   "cell_type": "code",
   "execution_count": 50,
   "id": "379b377b",
   "metadata": {},
   "outputs": [
    {
     "data": {
      "text/plain": [
       "SortedIntList([-100, 3, 23, 42])"
      ]
     },
     "execution_count": 50,
     "metadata": {},
     "output_type": "execute_result"
    }
   ],
   "source": [
    "sil.add(-100)\n",
    "sil"
   ]
  },
  {
   "cell_type": "code",
   "execution_count": 51,
   "id": "da0f8249",
   "metadata": {},
   "outputs": [
    {
     "ename": "TypeError",
     "evalue": "IntList only supports integer values",
     "output_type": "error",
     "traceback": [
      "\u001b[1;31m---------------------------------------------------------------------------\u001b[0m",
      "\u001b[1;31mTypeError\u001b[0m                                 Traceback (most recent call last)",
      "Input \u001b[1;32mIn [51]\u001b[0m, in \u001b[0;36m<cell line: 1>\u001b[1;34m()\u001b[0m\n\u001b[1;32m----> 1\u001b[0m \u001b[43msil\u001b[49m\u001b[38;5;241;43m.\u001b[39;49m\u001b[43madd\u001b[49m\u001b[43m(\u001b[49m\u001b[38;5;241;43m3.4\u001b[39;49m\u001b[43m)\u001b[49m\n",
      "Input \u001b[1;32mIn [38]\u001b[0m, in \u001b[0;36mIntList.add\u001b[1;34m(self, item)\u001b[0m\n\u001b[0;32m     11\u001b[0m \u001b[38;5;28;01mdef\u001b[39;00m \u001b[38;5;21madd\u001b[39m(\u001b[38;5;28mself\u001b[39m, item):\n\u001b[1;32m---> 12\u001b[0m     \u001b[38;5;28;43mself\u001b[39;49m\u001b[38;5;241;43m.\u001b[39;49m\u001b[43m_validate\u001b[49m\u001b[43m(\u001b[49m\u001b[43mitem\u001b[49m\u001b[43m)\u001b[49m\n\u001b[0;32m     13\u001b[0m     \u001b[38;5;28msuper\u001b[39m()\u001b[38;5;241m.\u001b[39madd(item)\n",
      "Input \u001b[1;32mIn [38]\u001b[0m, in \u001b[0;36mIntList._validate\u001b[1;34m(x)\u001b[0m\n\u001b[0;32m      6\u001b[0m \u001b[38;5;129m@staticmethod\u001b[39m\n\u001b[0;32m      7\u001b[0m \u001b[38;5;28;01mdef\u001b[39;00m \u001b[38;5;21m_validate\u001b[39m(x):\n\u001b[0;32m      8\u001b[0m     \u001b[38;5;28;01mif\u001b[39;00m \u001b[38;5;129;01mnot\u001b[39;00m \u001b[38;5;28misinstance\u001b[39m(x, \u001b[38;5;28mint\u001b[39m):\n\u001b[1;32m----> 9\u001b[0m         \u001b[38;5;28;01mraise\u001b[39;00m \u001b[38;5;167;01mTypeError\u001b[39;00m(\u001b[38;5;124m'\u001b[39m\u001b[38;5;124mIntList only supports integer values\u001b[39m\u001b[38;5;124m'\u001b[39m)\n",
      "\u001b[1;31mTypeError\u001b[0m: IntList only supports integer values"
     ]
    }
   ],
   "source": [
    "sil.add(3.4)"
   ]
  },
  {
   "cell_type": "code",
   "execution_count": 53,
   "id": "8f712000",
   "metadata": {},
   "outputs": [
    {
     "data": {
      "text/plain": [
       "(__main__.IntList, __main__.SortedList)"
      ]
     },
     "execution_count": 53,
     "metadata": {},
     "output_type": "execute_result"
    }
   ],
   "source": [
    "SortedIntList.__bases__"
   ]
  },
  {
   "cell_type": "markdown",
   "id": "9fa8d337",
   "metadata": {},
   "source": [
    "#### Method resolution order\n",
    "* ordering of an inheritance graph that determins which implementation to use when invoking a method\n",
    "* The Method Resolution Order for a class is stored on a special member called \\_\\_mro\\_\\_\n",
    "  + C3 algoritm is used to calculate the MRO of a class. The principle is\n",
    "    + subclasses come before base classes\n",
    "    + base class order from class definition is preserved\n",
    "    + all MROs in a proram fllow the above two rules \n",
    "  + C3 algorithm prohibits some inheritance declarations in Python\n",
    "    + some base classes declarations will violate C3 and python will refuse to compile them, as shown below:\n",
    "    since both B and C inherit A, for class D, it is impossible to caclculate mro for D, because A should be placed after C (C inherits A), but the base class list of D requires A to be placed before C\n",
    "    ```python\n",
    "    class A: pass\n",
    "    class B(A): pass\n",
    "    class C(A): pass\n",
    "    class D(B, A, C): pass\n",
    "    ```\n",
    "* How python use MRO?\n",
    "  + finds the MRO of the type of the object on which a method is invoked\n",
    "  + checks each class in the MRO and find the first one that implements the method and stops"
   ]
  },
  {
   "cell_type": "code",
   "execution_count": 54,
   "id": "95537993",
   "metadata": {},
   "outputs": [
    {
     "data": {
      "text/plain": [
       "(__main__.IntList, __main__.SimpleList, object)"
      ]
     },
     "execution_count": 54,
     "metadata": {},
     "output_type": "execute_result"
    }
   ],
   "source": [
    "IntList.__mro__"
   ]
  },
  {
   "cell_type": "code",
   "execution_count": 61,
   "id": "62ddbed6",
   "metadata": {},
   "outputs": [
    {
     "data": {
      "text/plain": [
       "(__main__.SortedIntList,\n",
       " __main__.IntList,\n",
       " __main__.SortedList,\n",
       " __main__.SimpleList,\n",
       " object)"
      ]
     },
     "execution_count": 61,
     "metadata": {},
     "output_type": "execute_result"
    }
   ],
   "source": [
    "SortedIntList.__mro__"
   ]
  },
  {
   "cell_type": "code",
   "execution_count": 57,
   "id": "ec8e518f",
   "metadata": {},
   "outputs": [],
   "source": [
    "# example of classes in a diamond inheritance graph\n",
    "\n",
    "class A:\n",
    "    def func(self):\n",
    "        return 'A.func'\n",
    "    \n",
    "class B(A):\n",
    "    def func(self):\n",
    "        return 'B.func'\n",
    "\n",
    "class C(A):\n",
    "    def func(self):\n",
    "        return 'C.func'\n",
    "\n",
    "class D(B, C):\n",
    "    pass"
   ]
  },
  {
   "cell_type": "code",
   "execution_count": 58,
   "id": "194cb292",
   "metadata": {},
   "outputs": [
    {
     "data": {
      "text/plain": [
       "(__main__.D, __main__.B, __main__.C, __main__.A, object)"
      ]
     },
     "execution_count": 58,
     "metadata": {},
     "output_type": "execute_result"
    }
   ],
   "source": [
    "# the MRO for d is: itself, B, C, A and object\n",
    "D.__mro__"
   ]
  },
  {
   "cell_type": "code",
   "execution_count": 60,
   "id": "4f8afebb",
   "metadata": {},
   "outputs": [
    {
     "data": {
      "text/plain": [
       "'B.func'"
      ]
     },
     "execution_count": 60,
     "metadata": {},
     "output_type": "execute_result"
    }
   ],
   "source": [
    "# B is the first class in MRO that defines the function func\n",
    "d = D()\n",
    "d.func()"
   ]
  },
  {
   "cell_type": "markdown",
   "id": "2d3a1ed9",
   "metadata": {},
   "source": [
    "#### An example of MRO\n",
    "Question: how is IntList.add() delegating to SortedList.add() in SortedIntList class.\n",
    "  * since IntList is before SortedList in mro, IntList.add() should be invoked, not the SortedList.add(), but when adding new elements, SortedList.add() will be invoked\n",
    "Answer: \n",
    "  * this is due to how super() works.\n",
    "    + super() gives you a proxy object, which resolves the correct implementation by searching requested mehtod from the MRO\n",
    "    + super() works with the MRO of the object originally invoking the method, not just its base class\n",
    "    + given a MRO and a class c in that MRO, super() gives an object which resolves method using only the part of teh MRO coming after c\n",
    "  * when SortedInList calls add(), it wil call IntList.add(), which then calls its super().add().\n",
    "  * super() uses two argurments\n",
    "    + one is the invoking class, which is IntList\n",
    "    + the other is the self object of the invoking method. as shwon below: \n",
    "    ```python\n",
    "    def add(self, item):\n",
    "        self._validate(item)\n",
    "        super().add(item)\n",
    "    ```    \n",
    "    + the self object in this IntList.add() is a SortedIntList object, whose MRO is:\n",
    "      + (itself, IntList, SortedList, SimpleList, object)\n",
    "    + use the elements after the invoking class, which is IntList, so the mro that super() will look for is\n",
    "      + (SortedList, SimpleList, object)\n",
    "    + the add method of SortedList will be used. This also applies to \\_\\_init\\_\\_() method\n",
    "  * this is surprising, since SortedList is not listed anywhere in IntList's inheritance graph, and its base class is SimpleList\n",
    "  * this is because super() uses the full MRO of the self object's class, not just the base classes from a class definition of the method invoking class\n",
    "    + this is also call that super() is instance bound, since it is bounded by the self object of the method calling super()\n",
    "Code demo:\n",
    "  * when SortedIntList() is called, it calls the \\_\\_init\\_\\_() of IntList, which provides two arguments:\n",
    "    + IntList class, which is the class where the super() is called     \n",
    "    + a SortedIntList object , which is the self object of \\_\\_init\\_\\_(self, items=()), here is a SortedIntList object"
   ]
  },
  {
   "cell_type": "code",
   "execution_count": 69,
   "id": "27a2e9d2",
   "metadata": {},
   "outputs": [],
   "source": [
    "class IntList(SimpleList):\n",
    "    def __init__(self, items=()):\n",
    "        for x in items: self._validate(x)\n",
    "        s = super()\n",
    "        print(s)\n",
    "        s.__init__(items)\n",
    "        \n",
    "    @staticmethod\n",
    "    def _validate(x):\n",
    "        if not isinstance(x, int):\n",
    "            raise TypeError('IntList only supports integer values')\n",
    "            \n",
    "    def add(self, item):\n",
    "        self._validate(item)\n",
    "        super().add(item)\n",
    "        \n",
    "class SortedIntList(IntList, SortedList):\n",
    "    pass        \n",
    "        "
   ]
  },
  {
   "cell_type": "code",
   "execution_count": 70,
   "id": "d26712e2",
   "metadata": {},
   "outputs": [
    {
     "name": "stdout",
     "output_type": "stream",
     "text": [
      "<super: <class 'IntList'>, <SortedIntList object>>\n"
     ]
    }
   ],
   "source": [
    "sil = SortedIntList()"
   ]
  },
  {
   "cell_type": "markdown",
   "id": "aff7690b",
   "metadata": {},
   "source": [
    "#### calling super() in a classmethod\n",
    "* in this case, we don't have an instance to work with, but we do have a class object\n",
    "* super() derives the MRO from the class object rather than the type of self    "
   ]
  },
  {
   "cell_type": "code",
   "execution_count": 71,
   "id": "b150ccaf",
   "metadata": {},
   "outputs": [],
   "source": [
    "class Animal:\n",
    "    @classmethod\n",
    "    def description(cls):\n",
    "        return \"An animal\"\n",
    "    \n",
    "\n",
    "class Bird(Animal):\n",
    "    @classmethod\n",
    "    def description(cls):\n",
    "        s = super()\n",
    "        print(s)\n",
    "        return s.description() + \" with wings\"\n",
    "    \n",
    "class Flamingo(Bird):\n",
    "    @classmethod\n",
    "    def description(cls):\n",
    "        return super().description() + \" and fabulous pink feathers\""
   ]
  },
  {
   "cell_type": "code",
   "execution_count": 72,
   "id": "73cf3ca8",
   "metadata": {},
   "outputs": [
    {
     "name": "stdout",
     "output_type": "stream",
     "text": [
      "<super: <class 'Bird'>, <Flamingo object>>\n"
     ]
    },
    {
     "data": {
      "text/plain": [
       "'An animal with wings and fabulous pink feathers'"
      ]
     },
     "execution_count": 72,
     "metadata": {},
     "output_type": "execute_result"
    }
   ],
   "source": [
    "# as demonstrated following, \n",
    "# the first arg is the class Bird, where the super() is invoked\n",
    "# the second is the cls transferred to Bird.description, which is an Flamingo object\n",
    "Flamingo.description()"
   ]
  },
  {
   "cell_type": "markdown",
   "id": "5f0baac4",
   "metadata": {},
   "source": [
    "#### Explicit arguments to super()\n",
    "* we can call super explicitly by super(class-object, instance-or class)\n",
    "  + the first is used to trim mro\n",
    "  + the second is to provide the mro"
   ]
  },
  {
   "cell_type": "code",
   "execution_count": 73,
   "id": "715c1c3f",
   "metadata": {},
   "outputs": [
    {
     "name": "stdout",
     "output_type": "stream",
     "text": [
      "<super: <class 'IntList'>, <SortedIntList object>>\n"
     ]
    },
    {
     "data": {
      "text/plain": [
       "<bound method SortedList.add of SortedIntList([])>"
      ]
     },
     "execution_count": 73,
     "metadata": {},
     "output_type": "execute_result"
    }
   ],
   "source": [
    "s = SortedIntList()\n",
    "super(IntList, s).add"
   ]
  },
  {
   "cell_type": "code",
   "execution_count": 74,
   "id": "b73478df",
   "metadata": {},
   "outputs": [
    {
     "data": {
      "text/plain": [
       "SortedIntList(['I am not a number, I am a free man!'])"
      ]
     },
     "execution_count": 74,
     "metadata": {},
     "output_type": "execute_result"
    }
   ],
   "source": [
    "# provide the class and instance for super() proxy, and then invoke the add method\n",
    "# this bypass the super() method in Inlist for int checking.\n",
    "super(IntList, s).add(\"I am not a number, I am a free man!\")\n",
    "s"
   ]
  },
  {
   "cell_type": "markdown",
   "id": "b9d1445f",
   "metadata": {},
   "source": [
    "### Duck type\n",
    "* in python, the type of an object doesn't determine if it can be used in a particular context\n",
    "* python uses duck typing where fitness for purpose is dtermined at the time of use. if a required attribute is not avalialbe, an exception will be thrown\n",
    "* functions don't specify their types\n",
    "* you can call any method on any object, and python won't complain until runtime\n",
    "* inheritance in Python is a convenient way to reuse code, much more than itis a way to construct type hieararchies\n",
    "* "
   ]
  },
  {
   "cell_type": "code",
   "execution_count": null,
   "id": "7e3a1672",
   "metadata": {},
   "outputs": [],
   "source": []
  }
 ],
 "metadata": {
  "kernelspec": {
   "display_name": "Python 3 (ipykernel)",
   "language": "python",
   "name": "python3"
  },
  "language_info": {
   "codemirror_mode": {
    "name": "ipython",
    "version": 3
   },
   "file_extension": ".py",
   "mimetype": "text/x-python",
   "name": "python",
   "nbconvert_exporter": "python",
   "pygments_lexer": "ipython3",
   "version": "3.10.4"
  }
 },
 "nbformat": 4,
 "nbformat_minor": 5
}
