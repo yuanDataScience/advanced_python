{
 "cells": [
  {
   "cell_type": "markdown",
   "id": "19f7a40e",
   "metadata": {},
   "source": [
    "### Classes and Object-orientation\n",
    "This notebook is based on a Pluralsight course (Core Python 3: Classes and Object-orientation)"
   ]
  },
  {
   "cell_type": "markdown",
   "id": "6e6d9569",
   "metadata": {},
   "source": [
    "### Class Attributes, Methods and Properties\n",
    "* "
   ]
  },
  {
   "cell_type": "markdown",
   "id": "b409ddae",
   "metadata": {},
   "source": [
    "#### scopes in python (LEGB)\n",
    "* local: inside the current function\n",
    "* enclosing: inside enclosing functions\n",
    "* glbobal: at the top level of the module\n",
    "* built-in: in the special builtins module"
   ]
  },
  {
   "cell_type": "code",
   "execution_count": 8,
   "id": "7c1225d5",
   "metadata": {},
   "outputs": [],
   "source": [
    "# example of a class\n",
    "# global scope name: ShippingContainer\n",
    "class ShippingContainer:\n",
    "    \n",
    "    # class variables accessible to all class instances, and class_name.variable\n",
    "    next_serial = 1337  # class block doesn't count as enclosing scope\n",
    "    \n",
    "    # local variables: self, owner_code, contents\n",
    "    def __init__(self, owner_code, contents):\n",
    "        self.owner_code = owner_code\n",
    "        self.contents = contents\n",
    "        self.serial = ShippingContainer.next_serial # use the full qualified name of next_serial\n",
    "        ShippingContainer.next_serial += 1 # although can use self.next_serial, not recommended\n",
    "        \n",
    "        # warning: different from += which is a read and modify op, \n",
    "        # the following statement creates an instance variable next_serial and \n",
    "        # take the precedence of the class variable\n",
    "        \n",
    "        # self.next_serial = self.next_serial + 1"
   ]
  },
  {
   "cell_type": "code",
   "execution_count": 12,
   "id": "e0b1ed4b",
   "metadata": {},
   "outputs": [
    {
     "name": "stdout",
     "output_type": "stream",
     "text": [
      "instance varialbe serial is 1340\n",
      "access class variable next_serial by an instance as c1.next_serial 1341\n",
      "access class variable next_serial by class name  as ShippingContainer.next_serial 1341\n"
     ]
    },
    {
     "data": {
      "text/plain": [
       "1341"
      ]
     },
     "execution_count": 12,
     "metadata": {},
     "output_type": "execute_result"
    }
   ],
   "source": [
    "c1 = ShippingContainer(\"YML\", [\"books\"])\n",
    "print(f\"instance varialbe serial is {c1.serial}\")\n",
    "\n",
    "# access to class variable by an instance\n",
    "print(f'access class variable next_serial by an instance as c1.next_serial {c1.next_serial}')\n",
    "\n",
    "# access to class variables by class name\n",
    "print(f'access class variable next_serial by class name  as ShippingContainer.next_serial {c1.next_serial}')\n",
    "ShippingContainer.next_serial"
   ]
  },
  {
   "cell_type": "markdown",
   "id": "4e6b89d2",
   "metadata": {},
   "source": [
    "#### static method\n",
    "* we can create a static method to retrieve and then increment the class variable, as shown below\n",
    "* static methods have no direct knowledge of class within which they are defined.\n",
    "* they simply allow us to group a function within the class block when the fucntion is conceptually related to the class"
   ]
  },
  {
   "cell_type": "code",
   "execution_count": 13,
   "id": "54e8e3db",
   "metadata": {},
   "outputs": [],
   "source": [
    "# example of a class\n",
    "# global scope name: ShippingContainer\n",
    "class ShippingContainer:\n",
    "    \n",
    "    # class variables accessible to all class instances, and class_name.variable\n",
    "    next_serial = 1337  # class block doesn't count as enclosing scope\n",
    "    \n",
    "    @staticmethod\n",
    "    def _generate_serial():\n",
    "        result = ShippingContainer.next_serial\n",
    "        ShippingContainer.next_serial += 1\n",
    "        return result\n",
    "    \n",
    "    # local variables: self, owner_code, contents\n",
    "    def __init__(self, owner_code, contents):\n",
    "        self.owner_code = owner_code\n",
    "        self.contents = contents\n",
    "        self.serial = ShippingContainer._generate_serial()  #can use self._generate_serial()\n",
    "        "
   ]
  },
  {
   "cell_type": "code",
   "execution_count": 17,
   "id": "78cbadcc",
   "metadata": {},
   "outputs": [
    {
     "name": "stdout",
     "output_type": "stream",
     "text": [
      "1340\n",
      "1341\n"
     ]
    }
   ],
   "source": [
    "c2 = ShippingContainer(\"YML\", [\"coffee\"])\n",
    "print(c2.serial)\n",
    "\n",
    "print(ShippingContainer.next_serial)"
   ]
  },
  {
   "cell_type": "markdown",
   "id": "7d312d33",
   "metadata": {},
   "source": [
    "#### class method\n",
    "* decorated by classmethod\n",
    "* accepts cls as the first argument\n",
    "* access class attributes via cls"
   ]
  },
  {
   "cell_type": "code",
   "execution_count": 18,
   "id": "b3778a87",
   "metadata": {},
   "outputs": [],
   "source": [
    "class ShippingContainer:\n",
    "    \n",
    "    # class variables accessible to all class instances, and class_name.variable\n",
    "    next_serial = 1337  # class block doesn't count as enclosing scope\n",
    "    \n",
    "    @classmethod\n",
    "    def _generate_serial(cls):\n",
    "        result = cls.next_serial\n",
    "        cls.next_serial += 1\n",
    "        return result\n",
    "    \n",
    "    # local variables: self, owner_code, contents\n",
    "    def __init__(self, owner_code, contents):\n",
    "        self.owner_code = owner_code\n",
    "        self.contents = contents\n",
    "        self.serial = ShippingContainer._generate_serial()  #can use self._generate_serial()\n",
    "        "
   ]
  },
  {
   "cell_type": "code",
   "execution_count": 19,
   "id": "32921382",
   "metadata": {},
   "outputs": [
    {
     "name": "stdout",
     "output_type": "stream",
     "text": [
      "1337\n",
      "1338\n"
     ]
    }
   ],
   "source": [
    "c3 = ShippingContainer(\"YML\", [\"coffee\"])\n",
    "print(c3.serial)\n",
    "\n",
    "print(ShippingContainer.next_serial)"
   ]
  },
  {
   "cell_type": "markdown",
   "id": "b4ecb961",
   "metadata": {},
   "source": [
    "#### when to use static method and when to use class method\n",
    "* use class method \n",
    "  + if you need to access class object to call other class method or the constructor, or class variable\\\n",
    "  + can be used as a 'named constructor' as a factory method which returns an instance of a class.\n",
    "    + The method name allows callers to express intent, and allows construction to be performed with differnt cobinations of arguments.\n",
    "    + this allows us to implement multiple constructors with different combinations of the arguments\n",
    "* use static method \n",
    "  + if no access is needed to either class or instance objects\n",
    "  + most likely an implementation detail of the class marked with a leading underscore\n",
    "  + may be able to be moved outside the class to become a global-scope function in the module\n",
    "    + think careful if a method should be a module scope function or a static method\n",
    "  + @staticmethod facilitates a particular logical organization of the code, allowing us to place what could otherwise be free functions within classes\n",
    "  "
   ]
  },
  {
   "cell_type": "code",
   "execution_count": 22,
   "id": "70941711",
   "metadata": {},
   "outputs": [],
   "source": [
    "# use of cls in class method\n",
    "# cls refers to the class object. \n",
    "# It can be used to refer and access to the class scope members\n",
    "# or used in constructors\n",
    "class ShippingContainer:\n",
    "    \n",
    "    next_serial = 1337  \n",
    "    \n",
    "    @classmethod\n",
    "    def _generate_serial(cls):\n",
    "        result = cls.next_serial\n",
    "        cls.next_serial += 1\n",
    "        return result\n",
    "    \n",
    "    \n",
    "    @classmethod\n",
    "    def create_empty(cls, owner_code):\n",
    "        \n",
    "        # calls the class object, invoking the constructor and \n",
    "        # returns the generated class instance\n",
    "        return cls(owner_code, contents=[])   \n",
    "    \n",
    "    \n",
    "    @classmethod\n",
    "    def create_with_items(cls, owner_code, items):\n",
    "        \n",
    "        # calls the class object, invoking the constructor and \n",
    "        # returns the generated class instance\n",
    "        return cls(owner_code, contents=list(items))     \n",
    "        \n",
    "        \n",
    "    # local variables: self, owner_code, contents\n",
    "    def __init__(self, owner_code, contents):\n",
    "        self.owner_code = owner_code\n",
    "        self.contents = contents\n",
    "        self.serial = ShippingContainer._generate_serial()  #can use self._generate_serial()\n",
    "        "
   ]
  },
  {
   "cell_type": "code",
   "execution_count": 23,
   "id": "2d274aa4",
   "metadata": {},
   "outputs": [
    {
     "name": "stdout",
     "output_type": "stream",
     "text": [
      "[]\n",
      "1337\n",
      "1338\n"
     ]
    }
   ],
   "source": [
    "c7 = ShippingContainer.create_empty(\"YML\")\n",
    "print(c7.contents)\n",
    "print(c7.serial)\n",
    "print(ShippingContainer.next_serial)"
   ]
  },
  {
   "cell_type": "code",
   "execution_count": 24,
   "id": "6c61f1fc",
   "metadata": {},
   "outputs": [
    {
     "name": "stdout",
     "output_type": "stream",
     "text": [
      "['food', 'textiles', 'minerals']\n",
      "1338\n",
      "1339\n"
     ]
    }
   ],
   "source": [
    "c8 = ShippingContainer.create_with_items(\"MAE\", {\"food\", \"textiles\", \"minerals\"})\n",
    "print(c8.contents)\n",
    "print(c8.serial)\n",
    "print(ShippingContainer.next_serial)"
   ]
  },
  {
   "cell_type": "code",
   "execution_count": 9,
   "id": "f99c56aa",
   "metadata": {},
   "outputs": [],
   "source": [
    "from iso6346 import create\n",
    "\n",
    "\n",
    "\n",
    "class ShippingContainer:\n",
    "    \n",
    "    next_serial = 1337  \n",
    "    \n",
    "    @classmethod\n",
    "    def _generate_serial(cls):\n",
    "        result = cls.next_serial\n",
    "        cls.next_serial += 1\n",
    "        return result\n",
    "    \n",
    "    \n",
    "    @staticmethod\n",
    "    def _make_bic_code(owner_code, serial):\n",
    "        return create(\n",
    "        owner_code = owner_code,\n",
    "            serial=str(serial).zfill(6)\n",
    "        )\n",
    "    \n",
    "    \n",
    "    @classmethod\n",
    "    def create_empty(cls, owner_code):\n",
    "        \n",
    "        # calls the class object, invoking the constructor and \n",
    "        # returns the generated class instance\n",
    "        return cls(owner_code, contents=[])   \n",
    "    \n",
    "    \n",
    "    @classmethod\n",
    "    def create_with_items(cls, owner_code, items):\n",
    "        \n",
    "        # calls the class object, invoking the constructor and \n",
    "        # returns the generated class instance\n",
    "        return cls(owner_code, contents=list(items))     \n",
    "        \n",
    "        \n",
    "    # local variables: self, owner_code, contents\n",
    "    def __init__(self, owner_code, contents):\n",
    "        self.owner_code = owner_code\n",
    "        self.contents = contents\n",
    "        self.bic = ShippingContainer._make_bic_code(\n",
    "            owner_code = owner_code,\n",
    "            serial=ShippingContainer._generate_serial()\n",
    "        )  #can use self._generate_serial()\n",
    "        \n",
    "        \n",
    "class RefrigeratedShippingContainer(ShippingContainer):\n",
    "    \n",
    "    @staticmethod\n",
    "    def _make_bic_code(owner_code, serial):\n",
    "        return create(\n",
    "            owner_code = owner_code,\n",
    "            serial=str(serial).zfill(6),\n",
    "            category='R'            \n",
    "        )\n",
    "        "
   ]
  },
  {
   "cell_type": "code",
   "execution_count": 19,
   "id": "e0358c94",
   "metadata": {},
   "outputs": [
    {
     "name": "stdout",
     "output_type": "stream",
     "text": [
      "<__main__.ShippingContainer object at 0x0000022CA0DD46A0>\n",
      "YMLU0013395\n"
     ]
    }
   ],
   "source": [
    "c = ShippingContainer.create_empty(\"YML\")\n",
    "print(c)\n",
    "print(c.bic)"
   ]
  },
  {
   "cell_type": "markdown",
   "id": "0f68fb8a",
   "metadata": {},
   "source": [
    "#### inheritance of static and class methods\n",
    "* if you override static methods in the child class, you need to check the code in base class that the static methods need to be called by instance (self), rather than the base class name\n",
    "* in the following code, when you inherit a class, the class methods act as the constructor to call the __init__ method. Since the __init__ method is automatically inherited to the dervided class, the derived class objects are properly created."
   ]
  },
  {
   "cell_type": "code",
   "execution_count": 15,
   "id": "f8ef3aac",
   "metadata": {},
   "outputs": [],
   "source": [
    "from iso6346 import create\n",
    "\n",
    "\n",
    "\n",
    "class ShippingContainer:\n",
    "    \n",
    "    next_serial = 1337  \n",
    "    \n",
    "    @classmethod\n",
    "    def _generate_serial(cls):\n",
    "        result = cls.next_serial\n",
    "        cls.next_serial += 1\n",
    "        return result\n",
    "    \n",
    "    \n",
    "    @staticmethod\n",
    "    def _make_bic_code(owner_code, serial):\n",
    "        return create(\n",
    "        owner_code = owner_code,\n",
    "            serial=str(serial).zfill(6)\n",
    "        )\n",
    "    \n",
    "    \n",
    "    @classmethod\n",
    "    def create_empty(cls, owner_code):\n",
    "        \n",
    "        # calls the class object, invoking the constructor and \n",
    "        # returns the generated class instance\n",
    "        return cls(owner_code, contents=[])   \n",
    "    \n",
    "    \n",
    "    @classmethod\n",
    "    def create_with_items(cls, owner_code, items):\n",
    "        \n",
    "        # calls the class object, invoking the constructor and \n",
    "        # returns the generated class instance\n",
    "        return cls(owner_code, contents=list(items))     \n",
    "        \n",
    "        \n",
    "    # local variables: self, owner_code, contents\n",
    "    def __init__(self, owner_code, contents):\n",
    "        self.owner_code = owner_code\n",
    "        self.contents = contents\n",
    "        \n",
    "        # to obtain the polymorphic dispatch of the static method\n",
    "        # dynamically based on the real class of the object,\n",
    "        # we need to use self, rather than the base class name\n",
    "        self.bic = self._make_bic_code(\n",
    "            owner_code = owner_code,\n",
    "            serial=ShippingContainer._generate_serial()\n",
    "        )  #can use self._generate_serial()\n",
    "        \n",
    "        \n",
    "class RefrigeratedShippingContainer(ShippingContainer):\n",
    "    \n",
    "    @staticmethod\n",
    "    def _make_bic_code(owner_code, serial):\n",
    "        return create(\n",
    "            owner_code = owner_code,\n",
    "            serial=str(serial).zfill(6),\n",
    "            category='R'            \n",
    "        )\n",
    "        "
   ]
  },
  {
   "cell_type": "code",
   "execution_count": 20,
   "id": "830d4797",
   "metadata": {},
   "outputs": [],
   "source": [
    "r1 = RefrigeratedShippingContainer(\"MAE\", [\"fish\"])"
   ]
  },
  {
   "cell_type": "code",
   "execution_count": 21,
   "id": "340436fc",
   "metadata": {},
   "outputs": [
    {
     "data": {
      "text/plain": [
       "'MAER0013404'"
      ]
     },
     "execution_count": 21,
     "metadata": {},
     "output_type": "execute_result"
    }
   ],
   "source": [
    "r1.bic"
   ]
  },
  {
   "cell_type": "code",
   "execution_count": 22,
   "id": "b5ef92ef",
   "metadata": {},
   "outputs": [
    {
     "name": "stdout",
     "output_type": "stream",
     "text": [
      "<__main__.RefrigeratedShippingContainer object at 0x0000022CA0DD48E0>\n",
      "YMLR0013412\n"
     ]
    }
   ],
   "source": [
    "r2 = RefrigeratedShippingContainer.create_empty(\"YML\")\n",
    "print(r2)\n",
    "print(r2.bic)"
   ]
  },
  {
   "cell_type": "code",
   "execution_count": 23,
   "id": "63d7a115",
   "metadata": {},
   "outputs": [
    {
     "name": "stdout",
     "output_type": "stream",
     "text": [
      "<__main__.RefrigeratedShippingContainer object at 0x0000022CA0E3B4C0>\n",
      "['ice', 'peas']\n"
     ]
    }
   ],
   "source": [
    "r2 = RefrigeratedShippingContainer.create_with_items(\"YML\", [\"ice\", \"peas\"])\n",
    "print(r2)\n",
    "print(r2.contents)"
   ]
  },
  {
   "cell_type": "markdown",
   "id": "1c8bdafd",
   "metadata": {},
   "source": [
    "#### override __init__ method in derived class\n",
    "* __init__ method of base class will not be automatically called the derived class unless you call super().__init__() explicitly\n",
    "* notice that if we call create_with_items on the derived class name, it will throw an error, since now, the cls constructor will call the __init__ in the derived class, which requires more arguments.\n",
    "  + to resolve this, we need to add keyword args to the signature of the class methods to accept extra arguments when calling the derived class constructors\n",
    "  + to make the celsius as a keyword argument, we insert a star before it, representing all the other possible arguments in the argument list, and put another keyword args to represent other keyword arguments.\n",
    "* one principle is that base class should have no knowlege about the more specialized dervied class. The specialized class may have more arguments in their constructors. We use keyword args to thread auguments through named-constructor class-methods to more specialized subclasses.  "
   ]
  },
  {
   "cell_type": "code",
   "execution_count": 31,
   "id": "ace29441",
   "metadata": {},
   "outputs": [],
   "source": [
    "from iso6346 import create\n",
    "\n",
    "\n",
    "\n",
    "class ShippingContainer:\n",
    "    \n",
    "    next_serial = 1337  \n",
    "    \n",
    "    @classmethod\n",
    "    def _generate_serial(cls):\n",
    "        result = cls.next_serial\n",
    "        cls.next_serial += 1\n",
    "        return result\n",
    "    \n",
    "    \n",
    "    @staticmethod\n",
    "    def _make_bic_code(owner_code, serial):\n",
    "        return create(\n",
    "        owner_code = owner_code,\n",
    "            serial=str(serial).zfill(6)\n",
    "        )\n",
    "    \n",
    "    \n",
    "    @classmethod\n",
    "    def create_empty(cls, owner_code, **kwargs):\n",
    "        \n",
    "        # calls the class object, invoking the constructor and \n",
    "        # returns the generated class instance\n",
    "        return cls(owner_code, contents=[], **kwargs)   \n",
    "    \n",
    "    \n",
    "    @classmethod\n",
    "    def create_with_items(cls, owner_code, items, **kwargs):\n",
    "        \n",
    "        # calls the class object, invoking the constructor and \n",
    "        # returns the generated class instance\n",
    "        return cls(owner_code, contents=list(items), **kwargs)     \n",
    "        \n",
    "        \n",
    "    # local variables: self, owner_code, contents\n",
    "    def __init__(self, owner_code, contents, **kwargs):\n",
    "        self.owner_code = owner_code\n",
    "        self.contents = contents\n",
    "        \n",
    "        # to obtain the polymorphic dispatch of the static method\n",
    "        # dynamically based on the real class of the object,\n",
    "        # we need to use self, rather than the base class name\n",
    "        self.bic = self._make_bic_code(\n",
    "            owner_code = owner_code,\n",
    "            serial=ShippingContainer._generate_serial()\n",
    "        )  #can use self._generate_serial()\n",
    "        \n",
    "        \n",
    "class RefrigeratedShippingContainer(ShippingContainer):\n",
    "    \n",
    "    MAX_CELSIUS = 4.0\n",
    "    \n",
    "    def __init__(self, owner_code, contents, *, celsius, **kwargs):\n",
    "        super().__init__(owner_code, contents, **kwargs)\n",
    "        if celsius > RefrigeratedShippingContainer.MAX_CELSIUS:\n",
    "            raise ValueError(\"Temperature too hot!\")\n",
    "        self.celsius = celsius    \n",
    "    \n",
    "    @staticmethod\n",
    "    def _make_bic_code(owner_code, serial):\n",
    "        return create(\n",
    "            owner_code = owner_code,\n",
    "            serial=str(serial).zfill(6),\n",
    "            category='R'            \n",
    "        )\n",
    "        "
   ]
  },
  {
   "cell_type": "code",
   "execution_count": 32,
   "id": "63c5bcc9",
   "metadata": {},
   "outputs": [
    {
     "data": {
      "text/plain": [
       "<__main__.RefrigeratedShippingContainer object at 0x0000022CA0DD48E0>"
      ]
     },
     "execution_count": 32,
     "metadata": {},
     "output_type": "execute_result"
    }
   ],
   "source": [
    "r1 = RefrigeratedShippingContainer.create_with_items(\"ESC\", [\"onions\"], celsius=-35)\n",
    "r1"
   ]
  },
  {
   "cell_type": "code",
   "execution_count": null,
   "id": "0e9459e1",
   "metadata": {},
   "outputs": [],
   "source": [
    "_"
   ]
  }
 ],
 "metadata": {
  "kernelspec": {
   "display_name": "Python 3 (ipykernel)",
   "language": "python",
   "name": "python3"
  },
  "language_info": {
   "codemirror_mode": {
    "name": "ipython",
    "version": 3
   },
   "file_extension": ".py",
   "mimetype": "text/x-python",
   "name": "python",
   "nbconvert_exporter": "python",
   "pygments_lexer": "ipython3",
   "version": "3.10.4"
  }
 },
 "nbformat": 4,
 "nbformat_minor": 5
}
