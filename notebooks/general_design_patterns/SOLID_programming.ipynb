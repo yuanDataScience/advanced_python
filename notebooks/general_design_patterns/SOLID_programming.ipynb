{
 "cells": [
  {
   "cell_type": "markdown",
   "id": "474cfbab",
   "metadata": {},
   "source": [
    "### SOLID programming\n",
    "This notebook is based on a [Linked"
   ]
  }
 ],
 "metadata": {
  "kernelspec": {
   "display_name": "Python 3 (ipykernel)",
   "language": "python",
   "name": "python3"
  },
  "language_info": {
   "codemirror_mode": {
    "name": "ipython",
    "version": 3
   },
   "file_extension": ".py",
   "mimetype": "text/x-python",
   "name": "python",
   "nbconvert_exporter": "python",
   "pygments_lexer": "ipython3",
   "version": "3.10.4"
  }
 },
 "nbformat": 4,
 "nbformat_minor": 5
}
