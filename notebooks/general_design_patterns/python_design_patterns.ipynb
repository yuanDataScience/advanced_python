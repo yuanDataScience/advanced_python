{
 "cells": [
  {
   "cell_type": "markdown",
   "id": "586987de",
   "metadata": {},
   "source": [
    "# Python Design Patterns"
   ]
  },
  {
   "cell_type": "markdown",
   "id": "b1e80ae5",
   "metadata": {},
   "source": [
    "## Behavioral Design Patterns"
   ]
  },
  {
   "cell_type": "markdown",
   "id": "4bb911de",
   "metadata": {},
   "source": [
    "### Strategy Pattern\n",
    "#### Pattern Summary\n",
    "* general description\n",
    "  * different strategies need to be applied to a class method/function\n",
    "* use case:\n",
    "  + Item class needs to apply a variety of different discount strategy\n",
    "  + discount strategies are implemented as different functions\n",
    "  + a strategy function is passed to the class constructor to instantiate a class object applying that strategy\n",
    "* advantages:\n",
    "  + open/close principle: easy to introduce new strategies without changing client code\n",
    "  + isolation: isolate the specific implementation details of the algorithms from the client's code\n",
    "  + encapsulation: data structure used for implementing the algorithm are completely encapsulated in Strategy class. Therefore, the implementation of an algorithm can be changed without affecting the Context class \n",
    "    + here Context class is the interface/abstract class of the strategy function\n",
    "  + Run-time switch: application can switch the strategies at the run-time\n",
    "* disadvantages:\n",
    "  + creating extra objects: needs to create and maintain both strategy class instance and strategy function object\n",
    "  + awareness among clients: need to understand the difference between strategies to apply them\n",
    "  + increases the complexity: no need to implement if there are only a few algorithms to implement"
   ]
  },
  {
   "cell_type": "markdown",
   "id": "f9db5f67",
   "metadata": {},
   "source": [
    "#### Implement Strategy Pattern\n",
    "* in this implementation, the self object is passed to strategy functions"
   ]
  },
  {
   "cell_type": "code",
   "execution_count": 14,
   "id": "0035e315",
   "metadata": {},
   "outputs": [],
   "source": [
    "# code from https://www.geeksforgeeks.org/strategy-method-python-design-patterns/\n",
    "\"\"\"Strategy class\"\"\"\n",
    "class Strategy:\n",
    "\n",
    "    \"\"\"Constructor function with price and discount\"\"\"\n",
    "\n",
    "    def __init__(self, price, discount_strategy = None):\n",
    "        \n",
    "        \"\"\"take price and discount strategy\"\"\"\n",
    "        \n",
    "        self.price = price\n",
    "        self.discount_strategy = discount_strategy\n",
    "        \n",
    "    \n",
    "    \"\"\"A separate function for price after discount\"\"\"\n",
    "\n",
    "    def price_after_discount(self):\n",
    "        \n",
    "        if self.discount_strategy:\n",
    "            discount = self.discount_strategy(self)\n",
    "        else:\n",
    "            discount = 0\n",
    "            \n",
    "        return self.price - discount\n",
    "\n",
    "    def __repr__(self):\n",
    "\n",
    "        statement = \"Price: {}, price after discount: {}\"\n",
    "        return statement.format(self.price, self.price_after_discount())\n",
    "\n",
    "\"\"\" Strategy functions dedicated to On Sale Discount\"\"\"\n",
    "def on_sale_discount(order):\n",
    "    return order.price * 0.25 + 20\n",
    "\n",
    "\"\"\"function dedicated to 20 % discount\"\"\"\n",
    "def twenty_percent_discount(order):\n",
    "    return order.price * 0.20"
   ]
  },
  {
   "cell_type": "code",
   "execution_count": 15,
   "id": "df3f365d",
   "metadata": {},
   "outputs": [
    {
     "name": "stdout",
     "output_type": "stream",
     "text": [
      "Price: 20000, price after discount: 20000\n",
      "Price: 20000, price after discount: 16000.0\n",
      "Price: 20000, price after discount: 14980.0\n"
     ]
    }
   ],
   "source": [
    "\"\"\"Cleint Code\"\"\"\n",
    "\n",
    "\"\"\"using default strategy\"\"\"\n",
    "print(Item(20000))\n",
    "\n",
    "\"\"\"with discount strategy as 20 % discount\"\"\"\n",
    "print(Item(20000, discount_strategy = twenty_percent_discount))\n",
    "\n",
    "\"\"\"with discount strategy as On Sale Discount\"\"\"\n",
    "print(Item(20000, discount_strategy = on_sale_discount))"
   ]
  },
  {
   "cell_type": "markdown",
   "id": "d167f689",
   "metadata": {},
   "source": [
    "* Implementation using dynamic type creation\n",
    "  * this implementation uses the dynamic method bound to Strategy class\n",
    "  * the self object is directly defined in strategy functions\n",
    "  * types.MethodType() takes two arguments, the function object, and the object the function is bound to"
   ]
  },
  {
   "cell_type": "code",
   "execution_count": 16,
   "id": "dd4570cf",
   "metadata": {},
   "outputs": [],
   "source": [
    "import types #Import the types module\n",
    "\n",
    "class Strategy:\n",
    "    \"\"\"The Strategy Pattern class\"\"\"\n",
    "    \n",
    "    def __init__(self, price, function=None):\n",
    "        self.price = price\n",
    "        \n",
    "        #If a reference to a function is provided, replace the execute() method with the given function\n",
    "        if function:\n",
    "            self.execute = types.MethodType(function, self)\n",
    "            \n",
    "    def execute(self): #This gets replaced by another version if another strategy is provided.\n",
    "        \"\"\"The defaut method that prints the name of the strategy being used\"\"\"        \n",
    "        return self.price\n",
    "    \n",
    "    def __repr__(self):\n",
    "        statement = \"Price: {}, price after discount: {}\"\n",
    "        return statement.format(self.price, self.execute())\n",
    "\n",
    "#Replacement method 1\n",
    "def on_sale_discount(self):\n",
    "    return self.price * 0.25 + 20    \n",
    "\n",
    "#Replacement method 2    \n",
    "def twenty_percent_discount(self):\n",
    "    return self.price * 0.20"
   ]
  },
  {
   "cell_type": "code",
   "execution_count": 17,
   "id": "dda4da16",
   "metadata": {},
   "outputs": [
    {
     "name": "stdout",
     "output_type": "stream",
     "text": [
      "Price: 20000, price after discount: 20000\n",
      "Price: 20000, price after discount: 16000.0\n",
      "Price: 20000, price after discount: 14980.0\n"
     ]
    }
   ],
   "source": [
    "\"\"\"Cleint Code\"\"\"\n",
    "\n",
    "\"\"\"using default strategy\"\"\"\n",
    "print(Item(20000))\n",
    "\n",
    "\"\"\"with discount strategy as 20 % discount\"\"\"\n",
    "print(Item(20000, discount_strategy = twenty_percent_discount))\n",
    "\n",
    "\"\"\"with discount strategy as On Sale Discount\"\"\"\n",
    "print(Item(20000, discount_strategy = on_sale_discount))"
   ]
  },
  {
   "cell_type": "markdown",
   "id": "e36c6a1e",
   "metadata": {},
   "source": [
    "* Template for Strategic Pattern"
   ]
  },
  {
   "cell_type": "code",
   "execution_count": 18,
   "id": "fe270a8e",
   "metadata": {},
   "outputs": [
    {
     "name": "stdout",
     "output_type": "stream",
     "text": [
      "Default Strategy is used!\n",
      "Strategy One is used to execute method 1\n",
      "Strategy Two is used to execute method 2\n"
     ]
    }
   ],
   "source": [
    "# from https://github.com/LinkedInLearning/python-design-patterns-2422610/blob/04_08e/strategy_final.py\n",
    "import types #Import the types module\n",
    "\n",
    "class Strategy:\n",
    "    \"\"\"The Strategy Pattern class\"\"\"\n",
    "    \n",
    "    def __init__(self, function=None):\n",
    "        self.name = \"Default Strategy\"\n",
    "        \n",
    "        #If a reference to a function is provided, replace the execute() method with the given function\n",
    "        if function:\n",
    "            self.execute = types.MethodType(function, self)\n",
    "            \n",
    "    def execute(self): #This gets replaced by another version if another strategy is provided.\n",
    "        \"\"\"The defaut method that prints the name of the strategy being used\"\"\"\n",
    "        print(\"{} is used!\".format(self.name))\n",
    "\n",
    "#Replacement method 1\n",
    "def strategy_one(self):\n",
    "    print(\"{} is used to execute method 1\".format(self.name))\n",
    "\n",
    "#Replacement method 2    \n",
    "def strategy_two(self):\n",
    "    print(\"{} is used to execute method 2\".format(self.name))\n",
    "    \n",
    "#Let's create our default strategy\n",
    "s0 = Strategy()\n",
    "#Let's execute our default strategy\n",
    "s0.execute()\n",
    "\n",
    "#Let's create the first varition of our default strategy by providing a new behavior\n",
    "s1 = Strategy(strategy_one)\n",
    "#Let's set its name\n",
    "s1.name = \"Strategy One\"\n",
    "#Let's execute the strategy\n",
    "s1.execute()\n",
    "\n",
    "s2 = Strategy(strategy_two)\n",
    "s2.name = \"Strategy Two\"\n",
    "s2.execute()\n"
   ]
  },
  {
   "cell_type": "markdown",
   "id": "0902641d",
   "metadata": {},
   "source": [
    "### Observer Pattern\n",
    "#### Pattern summary\n",
    "* general description\n",
    "  * allows you to define or create a subscription mechanisms to send notifications to multiple objects about any new event happens to the object they are observing.\n",
    "  * the subject maintains the sinble copy of the state information observed by multiple observers, and notify them once the state information is changed or updated.\n",
    "  * this pattern defines one to many dependencies between subject and observer objects\n",
    "  * this is also called sub/pub because subject publish updateds of state information to observers\n",
    "  + singleton is relaated to this pattern\n",
    "* use case\n",
    "  + there is a core temperature of reactors at a powerplant\n",
    "  + there are many registered observers that will be notified whenever temperature changes\n",
    "* advantages:\n",
    "  + open/closed principle: introducing new observers is easy\n",
    "  + establishes relationship: easy to establish the relationships at the runtime between objects\n",
    "  + loose coupling between subjects and observers. There is no need to modify subject to add or remove observers"
   ]
  },
  {
   "cell_type": "markdown",
   "id": "5f823044",
   "metadata": {},
   "source": [
    "#### Implement Observer Pattern\n",
    "* define an abstact class of Subject with the following methods:\n",
    "  + attach\n",
    "  + detach\n",
    "  + notify\n",
    "* concrete subject classes inherit Subject class (Core class)\n",
    "  + maintain temp property\n",
    " * Observer concrete classes implementing update() method that can be called by notify() method from concrete Subject classes "
   ]
  },
  {
   "cell_type": "code",
   "execution_count": 21,
   "id": "b3ac6a92",
   "metadata": {},
   "outputs": [
    {
     "name": "stdout",
     "output_type": "stream",
     "text": [
      "Temperature Viewer: Core 1 has Temperature 80\n",
      "Temperature Viewer: Core 1 has Temperature 80\n",
      "Temperature Viewer: Core 1 has Temperature 90\n",
      "Temperature Viewer: Core 1 has Temperature 90\n"
     ]
    }
   ],
   "source": [
    "class Subject(object): #Represents what is being 'observed'\n",
    "\n",
    "    def __init__(self):\n",
    "        self._observers = [] # This where references to all the observers are being kept\n",
    "        # Note that this is a one-to-many relationship: there will be one subject to be observed by multiple _observers\n",
    "\n",
    "    def attach(self, observer):\n",
    "        if observer not in self._observers: #If the observer is not already in the observers list\n",
    "            self._observers.append(observer) # append the observer to the list\n",
    "\n",
    "    def detach(self, observer): #Simply remove the observer\n",
    "        try:\n",
    "            self._observers.remove(observer)\n",
    "        except ValueError:\n",
    "            pass\n",
    "\n",
    "    def notify(self, modifier=None):\n",
    "        for observer in self._observers: # For all the observers in the list\n",
    "            if modifier != observer: # Don't notify the observer who is actually updating the temperature \n",
    "                observer.update(self) # Alert the observers!\n",
    "\n",
    "class Core(Subject): #Inherits from the Subject class\n",
    "\n",
    "    def __init__(self, name=\"\"):\n",
    "        Subject.__init__(self)\n",
    "        self._name = name #Set the name of the core\n",
    "        self._temp = 0 #Initialize the temperature of the core\n",
    "\n",
    "    @property #Getter that gets the core temperature\n",
    "    def temp(self):\n",
    "        return self._temp\n",
    "\n",
    "    @temp.setter #Setter that sets the core temperature\n",
    "    def temp(self, temp):\n",
    "        self._temp = temp\n",
    "        self.notify() #Notify the observers whenever somebody changes the core temperature\n",
    "\n",
    "class TempViewer:\n",
    "    def update(self, subject): #Alert method that is invoked when the notify() method in a concrete subject is invoked\n",
    "        print(\"Temperature Viewer: {} has Temperature {}\".format(subject._name, subject._temp))\n",
    "\n",
    "#Let's create our subjects\n",
    "c1 = Core(\"Core 1\")\n",
    "c2 = Core(\"Core 2\")\n",
    "\n",
    "#Let's create our observers\n",
    "v1 = TempViewer()\n",
    "v2 = TempViewer()\n",
    "\n",
    "#Let's attach our observers to the first core\n",
    "c1.attach(v1)\n",
    "c1.attach(v2)\n",
    "\n",
    "#Let's change the temperature of our first core\n",
    "c1.temp = 80\n",
    "c1.temp = 90\n"
   ]
  },
  {
   "cell_type": "markdown",
   "id": "5df87d00",
   "metadata": {},
   "source": [
    "### Iterator Pattern\n",
    "#### Pattern Summary\n",
    "* general description\n",
    "  + Iterator Pattern is used to access elements of an aggregate object sequentially without exposing its underlying implementation\n",
    "* use case\n",
    "  + create a custom iterator based on built-in Python iterator: zip()\n",
    "  + the iterator is used to traverse German counting words only upto a certain point\n",
    "* advantages:\n",
    "  + single responsibility: extract the huge algorithms in to separate classes in the iterator method so that aggregate classes don't have to also manage the iteration functions\n",
    "  + open/closed principal:passing the new iterators and collections into the client code will not break the code\n",
    "  + easy to use interface: it makes the interface simple to use and also supports the variations in the traversal of the collections\n",
    "* disadvantages:\n",
    "  + increases complexity: may introduce unnecessary complexity for simple applications\n",
    "  + decreases efficiency: accessing elements directly is a much better option as compared to accessing elements using the iterator in terms of efficiency"
   ]
  },
  {
   "cell_type": "markdown",
   "id": "1cd2e86d",
   "metadata": {},
   "source": [
    "#### Implement Iterator Pattern\n",
    "* we define a generator function that will generate the German counting words, and use the for loop to take advantage of the iterator automatically provided by the for loop to traverse the generated numbers"
   ]
  },
  {
   "cell_type": "code",
   "execution_count": 25,
   "id": "eaf530c9",
   "metadata": {},
   "outputs": [
    {
     "name": "stdout",
     "output_type": "stream",
     "text": [
      "eins\n",
      "zwei\n",
      "drei\n",
      "eins\n",
      "zwei\n",
      "drei\n",
      "vier\n"
     ]
    }
   ],
   "source": [
    "def count_to(count):\n",
    "    \"\"\"Our iterator implementation\"\"\"\n",
    "    \n",
    "    #Our list\n",
    "    numbers_in_german = [\"eins\", \"zwei\", \"drei\", \"vier\", \"funf\"]\n",
    "\n",
    "    #Our built-in iterator\n",
    "    #Creates a tuple such as (1, \"eins\")\n",
    "    iterator = zip(range(count), numbers_in_german)\n",
    "    \n",
    "    #Iterate through our iterable list\n",
    "    #Extract the German numbers\n",
    "    #Put them in a generator called number\n",
    "    for position, number in iterator:\n",
    "        \n",
    "        #Returns a 'generator' containing numbers in German\n",
    "        yield number \n",
    "\n",
    "#Let's test the generator returned by our iterator\n",
    "for num in count_to(3):\n",
    "    print(\"{}\".format(num))\n",
    "\n",
    "for num in count_to(4):\n",
    "    print(\"{}\".format(num))\n",
    "    "
   ]
  },
  {
   "cell_type": "markdown",
   "id": "ab82279e",
   "metadata": {},
   "source": [
    "## Structural Patterns"
   ]
  },
  {
   "cell_type": "markdown",
   "id": "e9505d3c",
   "metadata": {},
   "source": [
    "### Adapter pattern\n",
    "#### Pattern Summary\n",
    "* general description\n",
    "  + adpater an interface into another one that a client is expecting\n",
    "* use case\n",
    "  + we have two objects: Korean and British that implements differnt speak functions: speak_Korean() and speak_English()\n",
    "  + client only want to call a uniform method: speak()\n",
    "* advantages:\n",
    "  + principle of single responsibility: we separate teh concrete code from the primary logic of client. Client only need to call the uniform method\n",
    "  + flexibility and reusability of the code\n",
    "  + less complicated class: client class is not complicated by having to use a different interface and can use ploymorphism to swap between different implementatio of adapters\n",
    "  + open/close principle: we can introduce new adapter classes into the code without violating the open/closed principle\n",
    "* disadvantages:\n",
    "  + complexity of code: new classes, objects and interfaces are introduced\n",
    "  + adaptability: most of the time, we require many adaptations with the adaptee chain to reach the compatibility we want"
   ]
  },
  {
   "cell_type": "markdown",
   "id": "6718f48f",
   "metadata": {},
   "source": [
    "#### Implement Adapter Pattern\n",
    "* the following cell contains the implementation using some python features\n",
    "* we passed the adaptee object to the adapter class dunder init()\n",
    "* we also passed the methods that need to be translated using \\*\\*adapted_method, where keys are the translated method names and values are the objects of the corresponding methods in the original adaptee class\n",
    "* we then use \\_\\_dict\\_\\_.update(adapted_method) to update the instance object attribute dictionary\n",
    "* we then define the dunder getattr() to intercept the attribute getter to retrieve the other attributes from the passed object\n",
    "* notice that in line 43-44, we transfer the methods themselves to keyword argument speak without calling the methods"
   ]
  },
  {
   "cell_type": "code",
   "execution_count": 26,
   "id": "095d29af",
   "metadata": {},
   "outputs": [
    {
     "name": "stdout",
     "output_type": "stream",
     "text": [
      "Korean says 'An-neyong?'\n",
      "\n",
      "British says 'Hello!'\n",
      "\n"
     ]
    }
   ],
   "source": [
    "class Korean:\n",
    "    \"\"\"Korean speaker\"\"\"\n",
    "    def __init__(self):\n",
    "        self.name = \"Korean\"\n",
    "\n",
    "    def speak_korean(self):\n",
    "        return \"An-neyong?\"\n",
    "\n",
    "class British:\n",
    "    \"\"\"English speaker\"\"\"\n",
    "    def __init__(self):\n",
    "        self.name = \"British\"\n",
    "\n",
    "    #Note the different method name here!\n",
    "    def speak_english(self):\n",
    "        return \"Hello!\"\t\n",
    "\n",
    "class Adapter:\n",
    "    \"\"\"This changes the generic method name to individualized method names\"\"\"\n",
    "\n",
    "    def __init__(self, object, **adapted_method):\n",
    "        \"\"\"Change the name of the method\"\"\"\n",
    "        self._object = object\n",
    "\n",
    "        #Add a new dictionary item that establishes the mapping between the generic method name: speak() and the concrete method\n",
    "        #For example, speak() will be translated to speak_korean() if the mapping says so\n",
    "        self.__dict__.update(adapted_method)\n",
    "\n",
    "    def __getattr__(self, attr):\n",
    "        \"\"\"Simply return the rest of attributes!\"\"\"\n",
    "        return getattr(self._object, attr)\n",
    "        \n",
    "#List to store speaker objects\n",
    "objects = []\n",
    "\n",
    "#Create a Korean object\n",
    "korean = Korean()\n",
    "\n",
    "#Create a British object\n",
    "british =British()\n",
    "\n",
    "#Append the objects to the objects list\n",
    "objects.append(Adapter(korean, speak=korean.speak_korean))\n",
    "objects.append(Adapter(british, speak=british.speak_english))\n",
    "\n",
    "\n",
    "for obj in objects:\n",
    "    print(\"{} says '{}'\\n\".format(obj.name, obj.speak()))\n"
   ]
  },
  {
   "cell_type": "markdown",
   "id": "80dd45f2",
   "metadata": {},
   "source": [
    "### Decorator Pattern\n",
    "#### Pattern Summary\n",
    "* general description\n",
    "  + allows you to dynamically attach new behaviors/features to existing object without changing their structure or using subclassing\n",
    "  + generall, we implement by placing these objects inside the wrapper objects that contains the behviors\n",
    "  + It is much easier to implement Decorator pattern in Python because of its built-in feature\n",
    "  + note that Decorator pattern is different from inheritance because the new feature is added only to that particular object, not to the entire subclass\n",
    "* use case\n",
    "  + we need add HTML decoration tags around the input text\n",
    "  + we want to combine these decorators in all possible orders \n",
    "* advantages\n",
    "  + single responsibility principle: it is easy to divide a monolithic class which implements many possible variants of behavior into several classes using Decorator Pattern\n",
    "  + Runtime Responsibilities: we can easily add or remove the responsibilities from an object at runtime\n",
    "  + subclassing: The decorator pattern is an alternative to subclassing. Subclassing adds behavior at compile time, and the changes affect all instances of the original class. Decorating can provide new behavior at runtime for individual objects\n",
    "* disadvantages\n",
    "  + complicated decorators: it can be complicated to have decorators keep track of other decorators\n",
    "  + ugly configuration: large number of code of layer might make the configurations ugly\n"
   ]
  },
  {
   "cell_type": "markdown",
   "id": "b71f9a4a",
   "metadata": {},
   "source": [
    "#### Implement Decorator Pattern\n",
    "* the Docorator Pattern was implemented using function decorator in the following cell"
   ]
  },
  {
   "cell_type": "code",
   "execution_count": 27,
   "id": "4ddc2bae",
   "metadata": {},
   "outputs": [
    {
     "name": "stdout",
     "output_type": "stream",
     "text": [
      "<blink>Hello, World!</blink>\n",
      "hello_world\n",
      "Original function! \n"
     ]
    }
   ],
   "source": [
    "# version 1 using function decorator without parameters\n",
    "from functools import wraps\n",
    "\n",
    "def make_blink(function):\n",
    "    \"\"\"Defines the decorator\"\"\"\n",
    "\n",
    "    #This makes the decorator transparent in terms of its name and docstring\n",
    "    @wraps(function)\n",
    "\n",
    "    #Define the inner function\n",
    "    def decorator():\n",
    "        #Grab the return value of the function being decorated\n",
    "        ret = function() \n",
    "\n",
    "        #Add new functionality to the function being decorated\n",
    "        return \"<blink>\" + ret + \"</blink>\"\n",
    "\n",
    "    return decorator\n",
    "\n",
    "#Apply the decorator here!\n",
    "@make_blink\n",
    "def hello_world():\n",
    "    \"\"\"Original function! \"\"\"\n",
    "\n",
    "    return \"Hello, World!\"\n",
    "\n",
    "#Check the result of decorating\n",
    "print(hello_world())\n",
    "\n",
    "#Check if the function name is still the same name of the function being decorated\n",
    "print(hello_world.__name__)\n",
    "\n",
    "#Check if the docstring is still the same as that of the function being decorated\n",
    "print(hello_world.__doc__)\n"
   ]
  },
  {
   "cell_type": "code",
   "execution_count": 28,
   "id": "d6d4b769",
   "metadata": {},
   "outputs": [
    {
     "name": "stdout",
     "output_type": "stream",
     "text": [
      "<blink>Hello, World!</blink>\n",
      "hello_world\n",
      "Original function! \n"
     ]
    }
   ],
   "source": [
    "# version 2 using function decorator with input parameter\n",
    "from functools import wraps\n",
    "\n",
    "def make_tag(tag):    \n",
    "    def make_blink(function):\n",
    "        \"\"\"Defines the decorator\"\"\"\n",
    "\n",
    "        #This makes the decorator transparent in terms of its name and docstring\n",
    "        @wraps(function)\n",
    "\n",
    "        #Define the inner function\n",
    "        def decorator():\n",
    "            #Grab the return value of the function being decorated\n",
    "            ret = function() \n",
    "\n",
    "            #Add new functionality to the function being decorated\n",
    "            return f\"<{tag}>\" + ret + f\"</{tag}>\"\n",
    "\n",
    "        return decorator\n",
    "    return make_blink\n",
    "\n",
    "#Apply the decorator here!\n",
    "@make_tag(\"blink\")\n",
    "def hello_world():\n",
    "    \"\"\"Original function! \"\"\"\n",
    "\n",
    "    return \"Hello, World!\"\n",
    "\n",
    "#Check the result of decorating\n",
    "print(hello_world())\n",
    "\n",
    "#Check if the function name is still the same name of the function being decorated\n",
    "print(hello_world.__name__)\n",
    "\n",
    "#Check if the docstring is still the same as that of the function being decorated\n",
    "print(hello_world.__doc__)\n"
   ]
  },
  {
   "cell_type": "markdown",
   "id": "c8c709b4",
   "metadata": {},
   "source": [
    "## Creational Pattern"
   ]
  },
  {
   "cell_type": "markdown",
   "id": "fcf74447",
   "metadata": {},
   "source": [
    "### Factory Pattern"
   ]
  },
  {
   "cell_type": "markdown",
   "id": "c48f31a5",
   "metadata": {},
   "source": [
    "#### Pattern Summary\n",
    "* "
   ]
  },
  {
   "cell_type": "code",
   "execution_count": null,
   "id": "05915c60",
   "metadata": {},
   "outputs": [],
   "source": []
  }
 ],
 "metadata": {
  "kernelspec": {
   "display_name": "Python 3 (ipykernel)",
   "language": "python",
   "name": "python3"
  },
  "language_info": {
   "codemirror_mode": {
    "name": "ipython",
    "version": 3
   },
   "file_extension": ".py",
   "mimetype": "text/x-python",
   "name": "python",
   "nbconvert_exporter": "python",
   "pygments_lexer": "ipython3",
   "version": "3.10.4"
  }
 },
 "nbformat": 4,
 "nbformat_minor": 5
}
