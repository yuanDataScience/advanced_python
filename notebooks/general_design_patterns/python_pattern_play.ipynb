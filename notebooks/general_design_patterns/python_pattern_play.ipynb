{
 "cells": [
  {
   "cell_type": "code",
   "execution_count": 26,
   "id": "53ad9eec",
   "metadata": {},
   "outputs": [],
   "source": [
    "from typing import List\n",
    "def discount(num1: List[float]):\n",
    "    print(num1)\n",
    "    return sum(num1)"
   ]
  },
  {
   "cell_type": "code",
   "execution_count": 27,
   "id": "e3323997",
   "metadata": {},
   "outputs": [],
   "source": [
    "import types\n",
    "def universe(fun, num1: List[float]):\n",
    "    return types.MethodType(fun, num1)"
   ]
  },
  {
   "cell_type": "code",
   "execution_count": 28,
   "id": "2909d2d5",
   "metadata": {},
   "outputs": [
    {
     "name": "stdout",
     "output_type": "stream",
     "text": [
      "[1.0, 2.0]\n"
     ]
    },
    {
     "data": {
      "text/plain": [
       "3.0"
      ]
     },
     "execution_count": 28,
     "metadata": {},
     "output_type": "execute_result"
    }
   ],
   "source": [
    "discount([1.0, 2.0])"
   ]
  },
  {
   "cell_type": "code",
   "execution_count": 29,
   "id": "1203c6a3",
   "metadata": {},
   "outputs": [
    {
     "name": "stdout",
     "output_type": "stream",
     "text": [
      "[1.0, 2.0]\n"
     ]
    },
    {
     "data": {
      "text/plain": [
       "3.0"
      ]
     },
     "execution_count": 29,
     "metadata": {},
     "output_type": "execute_result"
    }
   ],
   "source": [
    "universe(discount, [1.0, 2.0])()"
   ]
  },
  {
   "cell_type": "code",
   "execution_count": 30,
   "id": "f8a5dc69",
   "metadata": {},
   "outputs": [
    {
     "data": {
      "text/plain": [
       "3.0"
      ]
     },
     "execution_count": 30,
     "metadata": {},
     "output_type": "execute_result"
    }
   ],
   "source": [
    "sum([1.0, 2.0])"
   ]
  },
  {
   "cell_type": "code",
   "execution_count": 33,
   "id": "610dada8",
   "metadata": {},
   "outputs": [],
   "source": [
    "a = [8]"
   ]
  },
  {
   "cell_type": "code",
   "execution_count": 42,
   "id": "b9348cdc",
   "metadata": {},
   "outputs": [],
   "source": [
    "class Korean:\n",
    "    \n",
    "    \"\"\"Korean speaker\"\"\"\n",
    "    def __init__(self):\n",
    "        self.name = \"Korean\"\n",
    "\n",
    "    def speak_korean(self):\n",
    "        return \"An-neyong?\""
   ]
  },
  {
   "cell_type": "code",
   "execution_count": 43,
   "id": "d88c0528",
   "metadata": {},
   "outputs": [],
   "source": [
    "a = Korean()"
   ]
  },
  {
   "cell_type": "code",
   "execution_count": 44,
   "id": "5021ae04",
   "metadata": {},
   "outputs": [
    {
     "data": {
      "text/plain": [
       "{'name': 'Korean'}"
      ]
     },
     "execution_count": 44,
     "metadata": {},
     "output_type": "execute_result"
    }
   ],
   "source": [
    "a.__dict__"
   ]
  },
  {
   "cell_type": "code",
   "execution_count": 41,
   "id": "142d471f",
   "metadata": {},
   "outputs": [
    {
     "data": {
      "text/plain": [
       "{'name': 'Korean'}"
      ]
     },
     "execution_count": 41,
     "metadata": {},
     "output_type": "execute_result"
    }
   ],
   "source": [
    "vars(a)"
   ]
  },
  {
   "cell_type": "code",
   "execution_count": 46,
   "id": "a1da1d8d",
   "metadata": {},
   "outputs": [
    {
     "name": "stdout",
     "output_type": "stream",
     "text": [
      "An-neyong?\n"
     ]
    }
   ],
   "source": [
    "print(getattr(a, \"speak_korean\")())"
   ]
  },
  {
   "cell_type": "code",
   "execution_count": 47,
   "id": "2b69a47e",
   "metadata": {},
   "outputs": [
    {
     "name": "stdout",
     "output_type": "stream",
     "text": [
      "<class '__main__.Korean'>\n"
     ]
    }
   ],
   "source": [
    "print(getattr(a,\"__class__\"))"
   ]
  },
  {
   "cell_type": "code",
   "execution_count": null,
   "id": "c2b995a4",
   "metadata": {},
   "outputs": [],
   "source": []
  }
 ],
 "metadata": {
  "kernelspec": {
   "display_name": "Python 3 (ipykernel)",
   "language": "python",
   "name": "python3"
  },
  "language_info": {
   "codemirror_mode": {
    "name": "ipython",
    "version": 3
   },
   "file_extension": ".py",
   "mimetype": "text/x-python",
   "name": "python",
   "nbconvert_exporter": "python",
   "pygments_lexer": "ipython3",
   "version": "3.10.4"
  }
 },
 "nbformat": 4,
 "nbformat_minor": 5
}
