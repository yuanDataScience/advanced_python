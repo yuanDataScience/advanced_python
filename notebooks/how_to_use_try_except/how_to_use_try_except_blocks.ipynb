{
 "cells": [
  {
   "cell_type": "markdown",
   "id": "38e09470",
   "metadata": {},
   "source": [
    "## How to use try/except blocks\n",
    "This notebook is based on a [youtube video](https://www.youtube.com/watch?v=NIWwJbo-9_8&list=PL-osiE80TeTt2d9bfVyTiXJA-UTHn6WwU&index=31)                             \n",
    "\n",
    "try/except blocks can be confusing to pepole who are not familiar with them. It has several sections as show below:\n",
    "```python\n",
    "try:\n",
    "    pass\n",
    "except Exception:\n",
    "    pass\n",
    "else:\n",
    "    pass\n",
    "finally:\n",
    "    pass\n",
    "```\n",
    "for python documentation on these sections, please refer to [this link](https://docs.python.org/3/tutorial/errors.html)"
   ]
  },
  {
   "cell_type": "markdown",
   "id": "82512f0e",
   "metadata": {},
   "source": [
    "### Why to use try/except block?\n",
    "* if we do not use them, when error happens, the trackback messages will be shown, which is confusing to users\n",
    "* for sections that might throw an error or an exception, we can use try/except block to handle them\n",
    "* what happens to the try/except blocks?\n",
    "  + in the try block, we run some code and it throw exceptions\n",
    "  + the exception thrown is handled by\n",
    "     ```python \n",
    "     except Exception\n",
    "    ``` \n",
    "    to print out the message"
   ]
  },
  {
   "cell_type": "code",
   "execution_count": 16,
   "id": "6a96f1d4",
   "metadata": {},
   "outputs": [
    {
     "name": "stdout",
     "output_type": "stream",
     "text": [
      "Sorry. This file does not exist\n"
     ]
    }
   ],
   "source": [
    "try:\n",
    "    f = open(\"testfile.txt\")  # the right file name is \"test_file.txt\"\n",
    "except Exception:\n",
    "    print('Sorry. This file does not exist')"
   ]
  },
  {
   "cell_type": "markdown",
   "id": "ff7447d0",
   "metadata": {},
   "source": [
    "#### The general ```except Exception``` statement will catch many different errors/excpetions, which is not recommended\n",
    "* if we have other errors in try block, the same error message will be printed out, which is not accurate (as shown in the following cell)    \n",
    "* we should use more specific Exception"
   ]
  },
  {
   "cell_type": "code",
   "execution_count": 17,
   "id": "a9031b4a",
   "metadata": {},
   "outputs": [
    {
     "name": "stdout",
     "output_type": "stream",
     "text": [
      "Sorry. This file does not exist\n"
     ]
    }
   ],
   "source": [
    "try:\n",
    "    f = open(\"test_file.txt\")  # now we use the correct file name.\n",
    "    var = bad_var              # another error here\n",
    "except Exception:\n",
    "    print('Sorry. This file does not exist')  # the same error message is printed out, which is not accurate"
   ]
  },
  {
   "cell_type": "markdown",
   "id": "b0a63211",
   "metadata": {},
   "source": [
    "#### Always use more specific Exceptions if possible\n",
    "* in the following code, we use a more specific error/exception in except block to catch FileNotFoundError\n",
    "* the NameError was caught with the corresponding error message printed out"
   ]
  },
  {
   "cell_type": "code",
   "execution_count": 22,
   "id": "6914a5c0",
   "metadata": {},
   "outputs": [
    {
     "ename": "NameError",
     "evalue": "name 'bad_var' is not defined",
     "output_type": "error",
     "traceback": [
      "\u001b[0;31m---------------------------------------------------------------------------\u001b[0m",
      "\u001b[0;31mNameError\u001b[0m                                 Traceback (most recent call last)",
      "\u001b[0;32m/tmp/ipykernel_40623/2133647579.py\u001b[0m in \u001b[0;36m<module>\u001b[0;34m\u001b[0m\n\u001b[1;32m      1\u001b[0m \u001b[0;32mtry\u001b[0m\u001b[0;34m:\u001b[0m\u001b[0;34m\u001b[0m\u001b[0;34m\u001b[0m\u001b[0m\n\u001b[1;32m      2\u001b[0m     \u001b[0mf\u001b[0m \u001b[0;34m=\u001b[0m \u001b[0mopen\u001b[0m\u001b[0;34m(\u001b[0m\u001b[0;34m\"test_file.txt\"\u001b[0m\u001b[0;34m)\u001b[0m  \u001b[0;31m# now we use the correct file name.\u001b[0m\u001b[0;34m\u001b[0m\u001b[0;34m\u001b[0m\u001b[0m\n\u001b[0;32m----> 3\u001b[0;31m     \u001b[0mvar\u001b[0m \u001b[0;34m=\u001b[0m \u001b[0mbad_var\u001b[0m              \u001b[0;31m# another error here\u001b[0m\u001b[0;34m\u001b[0m\u001b[0;34m\u001b[0m\u001b[0m\n\u001b[0m\u001b[1;32m      4\u001b[0m \u001b[0;32mexcept\u001b[0m \u001b[0mFileNotFoundError\u001b[0m\u001b[0;34m:\u001b[0m\u001b[0;34m\u001b[0m\u001b[0;34m\u001b[0m\u001b[0m\n\u001b[1;32m      5\u001b[0m     \u001b[0mprint\u001b[0m\u001b[0;34m(\u001b[0m\u001b[0;34m'Sorry. This file does not exist'\u001b[0m\u001b[0;34m)\u001b[0m\u001b[0;34m\u001b[0m\u001b[0;34m\u001b[0m\u001b[0m\n",
      "\u001b[0;31mNameError\u001b[0m: name 'bad_var' is not defined"
     ]
    }
   ],
   "source": [
    "try:\n",
    "    f = open(\"test_file.txt\")  # now we use the correct file name.\n",
    "    var = bad_var              # another error here\n",
    "except FileNotFoundError:\n",
    "    print('Sorry. This file does not exist')  "
   ]
  },
  {
   "cell_type": "markdown",
   "id": "c94b5c0f",
   "metadata": {},
   "source": [
    "#### when you handle multiple exceptions\n",
    "* make sure to put the more specific exceptions at the top\n",
    "* more general ones go further down (as shown in the following code)\n",
    "* if you put a general exception first, it will always use that one and never get to the more specific exceptions"
   ]
  },
  {
   "cell_type": "code",
   "execution_count": 23,
   "id": "b18751f0",
   "metadata": {},
   "outputs": [
    {
     "name": "stdout",
     "output_type": "stream",
     "text": [
      "Sorry. Something went wrong\n"
     ]
    }
   ],
   "source": [
    "try:\n",
    "    f = open(\"test_file.txt\")  # now we use the correct file name.\n",
    "    var = bad_var              # another error here\n",
    "except FileNotFoundError:\n",
    "    print('Sorry. This file does not exist')  \n",
    "except Exception:\n",
    "    print('Sorry. Something went wrong')"
   ]
  },
  {
   "cell_type": "markdown",
   "id": "2fe65ad6",
   "metadata": {},
   "source": [
    "#### How to print out the exception that was thrown\n",
    "* use the following syntax:\n",
    "```python\n",
    "except FileNotFoundError as e:\n",
    "    print(e)\n",
    "```\n",
    "as shown in the following code"
   ]
  },
  {
   "cell_type": "code",
   "execution_count": 24,
   "id": "b1578ae4",
   "metadata": {},
   "outputs": [
    {
     "name": "stdout",
     "output_type": "stream",
     "text": [
      "name 'bad_var' is not defined\n"
     ]
    }
   ],
   "source": [
    "try:\n",
    "    f = open(\"test_file.txt\")  \n",
    "    var = bad_var              \n",
    "except FileNotFoundError as e:\n",
    "    print(e)  \n",
    "except Exception as e:\n",
    "    print(e)"
   ]
  },
  {
   "cell_type": "markdown",
   "id": "95744115",
   "metadata": {},
   "source": [
    "### What does the else block do?\n",
    "* else block runs the code that needs to be executed if the try clause dose not raise an exception\n",
    "* in the following code, since no exception was thrown, the else block was executed"
   ]
  },
  {
   "cell_type": "code",
   "execution_count": 25,
   "id": "d1caa7a0",
   "metadata": {},
   "outputs": [
    {
     "name": "stdout",
     "output_type": "stream",
     "text": [
      "Test File Contents!\n"
     ]
    }
   ],
   "source": [
    "try:\n",
    "    f = open(\"test_file.txt\")                 \n",
    "except FileNotFoundError as e:\n",
    "    print(e)  \n",
    "except Exception as e:\n",
    "    print(e)\n",
    "else:\n",
    "    print(f.read())\n",
    "    f.close()    "
   ]
  },
  {
   "cell_type": "markdown",
   "id": "d632ddec",
   "metadata": {},
   "source": [
    "### Why we use else block to execute code, rather than just executing all the code in try block?\n",
    "* by using else block, the try/except can catch the exception very specific to the section of the code in try block\n",
    "* if we put all the code in else and try blocks in try block, as shown below:\n",
    "```python\n",
    "try:\n",
    "    f = open(\"test_file.txt\") \n",
    "    print(f.read())\n",
    "    f.close()   \n",
    "```   \n",
    "it will work, but the exception caught might be caused by code other than \n",
    "```python\n",
    "f = open(\"test_file.txt\")\n",
    "```"
   ]
  },
  {
   "cell_type": "markdown",
   "id": "8ccbb129",
   "metadata": {},
   "source": [
    "### What does finally block do?\n",
    "* finally block will always run\n",
    "  + whether the code in try is successful or not\n",
    "  + whether there are exceptions caught by except block\n",
    "* useful to make sure that you release resources regardless of what happened in try and except blocks, such as database connections  "
   ]
  },
  {
   "cell_type": "code",
   "execution_count": 26,
   "id": "b95bd8e3",
   "metadata": {},
   "outputs": [
    {
     "name": "stdout",
     "output_type": "stream",
     "text": [
      "Test File Contents!\n",
      "Executing Finally...\n"
     ]
    }
   ],
   "source": [
    "try:\n",
    "    f = open(\"test_file.txt\")                 \n",
    "except FileNotFoundError as e:\n",
    "    print(e)  \n",
    "except Exception as e:\n",
    "    print(e)\n",
    "else:\n",
    "    print(f.read())\n",
    "    f.close() \n",
    "finally:\n",
    "    print(\"Executing Finally...\")"
   ]
  },
  {
   "cell_type": "markdown",
   "id": "0f8b033c",
   "metadata": {},
   "source": [
    "### How to raise your own exceptions manually\n",
    "* you can raise exceptions manually by the follwong syntax:\n",
    "```python  \n",
    "raise Exception(\"your erro_message\")\n",
    "```\n",
    "* you can add some condition checks before raising the exception\n",
    "* the exception will be handled by except block the same way the exceptions are raised by Python runtime"
   ]
  },
  {
   "cell_type": "code",
   "execution_count": 27,
   "id": "b329d570",
   "metadata": {},
   "outputs": [
    {
     "name": "stdout",
     "output_type": "stream",
     "text": [
      "corrupted file\n",
      "Executing Finally...\n"
     ]
    }
   ],
   "source": [
    "try:\n",
    "    f = open(\"currupt_file.txt\")\n",
    "    if f.name == \"currupt_file.txt\":\n",
    "        raise Exception(\"corrupted file\")   \n",
    "except FileNotFoundError as e:\n",
    "    print(e)  \n",
    "except Exception as e:\n",
    "    print(e)\n",
    "else:\n",
    "    print(f.read())\n",
    "    f.close() \n",
    "finally:\n",
    "    print(\"Executing Finally...\")"
   ]
  }
 ],
 "metadata": {
  "kernelspec": {
   "display_name": "Python 3 (ipykernel)",
   "language": "python",
   "name": "python3"
  },
  "language_info": {
   "codemirror_mode": {
    "name": "ipython",
    "version": 3
   },
   "file_extension": ".py",
   "mimetype": "text/x-python",
   "name": "python",
   "nbconvert_exporter": "python",
   "pygments_lexer": "ipython3",
   "version": "3.8.10"
  }
 },
 "nbformat": 4,
 "nbformat_minor": 5
}
