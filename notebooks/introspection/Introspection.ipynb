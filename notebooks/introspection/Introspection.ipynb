{
 "cells": [
  {
   "cell_type": "markdown",
   "id": "86a44261",
   "metadata": {},
   "source": [
    "## Introspection"
   ]
  },
  {
   "cell_type": "markdown",
   "id": "cb54e2b9",
   "metadata": {},
   "source": [
    "### Introspecting types"
   ]
  },
  {
   "cell_type": "markdown",
   "id": "2ff1d80a",
   "metadata": {},
   "source": [
    "#### type() function\n",
    "* type(object) returns the \\_\\_class\\_\\_ attribute of the object\n",
    "* type(type(object)) returns type class\n",
    "* class objects store their name on their \\_\\_name\\_\\_ attribute"
   ]
  },
  {
   "cell_type": "code",
   "execution_count": 76,
   "id": "998de179",
   "metadata": {},
   "outputs": [
    {
     "name": "stdout",
     "output_type": "stream",
     "text": [
      "<class 'int'>\n",
      "int\n",
      "7\n",
      "78\n",
      "<class 'type'>\n"
     ]
    }
   ],
   "source": [
    "i = 7\n",
    "\n",
    "# type(i) shows the __class__ attribute of i\n",
    "print(type(i))\n",
    "\n",
    "# class objects store their name in __name__ attribute\n",
    "print(i.__class__.__name__)\n",
    "\n",
    "# repr(i) show shows __class__ attribute of i\n",
    "print(repr(i))\n",
    "\n",
    "# we can directly use the __class__() returned \n",
    "# from type to constrcuct new instance\n",
    "print(type(i)(78))\n",
    "\n",
    "# type(type(i)) is type class\n",
    "print(type(type(i)))"
   ]
  },
  {
   "cell_type": "markdown",
   "id": "f4f9cd49",
   "metadata": {},
   "source": [
    "#### issubclass() function\n",
    "* return boolean value of whether the first augument (must be a class object) is the subclass of the second argument, or any of the second arguments if the second argument is a tuple of class objects"
   ]
  },
  {
   "cell_type": "code",
   "execution_count": 77,
   "id": "b49d41b4",
   "metadata": {},
   "outputs": [
    {
     "name": "stdout",
     "output_type": "stream",
     "text": [
      "True\n",
      "<class 'type'>\n"
     ]
    }
   ],
   "source": [
    "# type is a subclass of object\n",
    "print(issubclass(type, object))\n",
    "\n",
    "# the type of object is type\n",
    "print(type(object))"
   ]
  },
  {
   "cell_type": "markdown",
   "id": "91df058d",
   "metadata": {},
   "source": [
    "#### isinstance() function\n",
    "* return boolean value of whether the first augument (an object) is an instance of the second argument, or any of the second arguments if the second argument is a tuple of class objects"
   ]
  },
  {
   "cell_type": "code",
   "execution_count": 78,
   "id": "29e17b21",
   "metadata": {},
   "outputs": [
    {
     "name": "stdout",
     "output_type": "stream",
     "text": [
      "True\n"
     ]
    }
   ],
   "source": [
    "# i is an instance of int\n",
    "print(isinstance(i, int))"
   ]
  },
  {
   "cell_type": "markdown",
   "id": "d022b203",
   "metadata": {},
   "source": [
    "#### Summary\n",
    "* type checks should be avoided in Python\n",
    "* is type checks are necessary, prefer isinstanc() and issubclass() over direct comparison of type objects\n",
    "* objects store their type on \\_\\_class\\_\\_ attribute"
   ]
  },
  {
   "cell_type": "markdown",
   "id": "99b0192a",
   "metadata": {},
   "source": [
    "### Introspecting objects"
   ]
  },
  {
   "cell_type": "markdown",
   "id": "0c2fa831",
   "metadata": {},
   "source": [
    "#### dir(object)\n",
    "* returns both attributes and methods as callable attributes of the object\n",
    "* a as a number, has denominatior and numerator attribute to express fraction type\n",
    "  + it also has image, ral and conjugate attributes for complex numbers"
   ]
  },
  {
   "cell_type": "code",
   "execution_count": 79,
   "id": "6c47a741",
   "metadata": {},
   "outputs": [
    {
     "name": "stdout",
     "output_type": "stream",
     "text": [
      "['__abs__', '__add__', '__and__', '__bool__', '__ceil__', '__class__', '__delattr__', '__dir__', '__divmod__', '__doc__', '__eq__', '__float__', '__floor__', '__floordiv__', '__format__', '__ge__', '__getattribute__', '__getnewargs__', '__gt__', '__hash__', '__index__', '__init__', '__init_subclass__', '__int__', '__invert__', '__le__', '__lshift__', '__lt__', '__mod__', '__mul__', '__ne__', '__neg__', '__new__', '__or__', '__pos__', '__pow__', '__radd__', '__rand__', '__rdivmod__', '__reduce__', '__reduce_ex__', '__repr__', '__rfloordiv__', '__rlshift__', '__rmod__', '__rmul__', '__ror__', '__round__', '__rpow__', '__rrshift__', '__rshift__', '__rsub__', '__rtruediv__', '__rxor__', '__setattr__', '__sizeof__', '__str__', '__sub__', '__subclasshook__', '__truediv__', '__trunc__', '__xor__', 'as_integer_ratio', 'bit_count', 'bit_length', 'conjugate', 'denominator', 'from_bytes', 'imag', 'numerator', 'real', 'to_bytes']\n"
     ]
    }
   ],
   "source": [
    "a = 42\n",
    "print(dir(a))"
   ]
  },
  {
   "cell_type": "markdown",
   "id": "f3be818c",
   "metadata": {},
   "source": [
    "### getattr(objec, attr)\n",
    "* we can use this function to access the attribute of an object\n",
    "* this is the same as directly calling the attribute from the object (object.attr)\n",
    "* trying to retrieve an attribute that doesn't exist will trigger an AttributeError\n",
    "* we can check if an attribute exists by hasattr(object, attr) method"
   ]
  },
  {
   "cell_type": "code",
   "execution_count": 80,
   "id": "d9527095",
   "metadata": {},
   "outputs": [
    {
     "name": "stdout",
     "output_type": "stream",
     "text": [
      "1\n",
      "1\n"
     ]
    }
   ],
   "source": [
    "print(getattr(a, 'denominator'))\n",
    "print(a.denominator)"
   ]
  },
  {
   "cell_type": "markdown",
   "id": "c89b84cd",
   "metadata": {},
   "source": [
    "#### Chaining the errors\n",
    "* errors can be handled by chaining them to\n",
    "  + raise appropriate errors\n",
    "  + provide more detailed information of the cause of the error\n",
    "* in the following code example\n",
    "  + AttributeError was raised as the direct result of accessing the non-existing numerator and denominator attributes\n",
    "  * this AttributeError was then chained to a more appropriate TypeError using the raise...from statement\n",
    "    + this gives the end users more useful information about the TypeError of the input number, in addition to the detailed information about how this error occured from the AttributeError in the first place"
   ]
  },
  {
   "cell_type": "code",
   "execution_count": 81,
   "id": "c19235aa",
   "metadata": {},
   "outputs": [],
   "source": [
    "from fractions import Fraction\n",
    "\n",
    "\n",
    "def mixed_numeral(vulgar):\n",
    "    try:\n",
    "        integer = vulgar.numerator // vulgar.denominator\n",
    "        fraction = Fraction(vulgar.numerator - integer * vulgar.denominator,\n",
    "                            vulgar.denominator)\n",
    "\n",
    "        return integer, fraction\n",
    "    except AttributeError as e:\n",
    "        raise TypeError(\"{} is not a rational number\".format(vulgar)) from e"
   ]
  },
  {
   "cell_type": "code",
   "execution_count": 82,
   "id": "5885b8ac",
   "metadata": {},
   "outputs": [
    {
     "data": {
      "text/plain": [
       "(1, Fraction(1, 10))"
      ]
     },
     "execution_count": 82,
     "metadata": {},
     "output_type": "execute_result"
    }
   ],
   "source": [
    "# input the correct rational number\n",
    "mixed_numeral(Fraction('11/10')) "
   ]
  },
  {
   "cell_type": "code",
   "execution_count": 83,
   "id": "df403bf0",
   "metadata": {},
   "outputs": [
    {
     "ename": "TypeError",
     "evalue": "1.7 is not a rational number",
     "output_type": "error",
     "traceback": [
      "\u001b[1;31m---------------------------------------------------------------------------\u001b[0m",
      "\u001b[1;31mAttributeError\u001b[0m                            Traceback (most recent call last)",
      "Input \u001b[1;32mIn [81]\u001b[0m, in \u001b[0;36mmixed_numeral\u001b[1;34m(vulgar)\u001b[0m\n\u001b[0;32m      5\u001b[0m \u001b[38;5;28;01mtry\u001b[39;00m:\n\u001b[1;32m----> 6\u001b[0m     integer \u001b[38;5;241m=\u001b[39m \u001b[43mvulgar\u001b[49m\u001b[38;5;241;43m.\u001b[39;49m\u001b[43mnumerator\u001b[49m \u001b[38;5;241m/\u001b[39m\u001b[38;5;241m/\u001b[39m vulgar\u001b[38;5;241m.\u001b[39mdenominator\n\u001b[0;32m      7\u001b[0m     fraction \u001b[38;5;241m=\u001b[39m Fraction(vulgar\u001b[38;5;241m.\u001b[39mnumerator \u001b[38;5;241m-\u001b[39m integer \u001b[38;5;241m*\u001b[39m vulgar\u001b[38;5;241m.\u001b[39mdenominator,\n\u001b[0;32m      8\u001b[0m                         vulgar\u001b[38;5;241m.\u001b[39mdenominator)\n",
      "\u001b[1;31mAttributeError\u001b[0m: 'float' object has no attribute 'numerator'",
      "\nThe above exception was the direct cause of the following exception:\n",
      "\u001b[1;31mTypeError\u001b[0m                                 Traceback (most recent call last)",
      "Input \u001b[1;32mIn [83]\u001b[0m, in \u001b[0;36m<cell line: 2>\u001b[1;34m()\u001b[0m\n\u001b[0;32m      1\u001b[0m \u001b[38;5;66;03m# input the incorrect type of number\u001b[39;00m\n\u001b[1;32m----> 2\u001b[0m \u001b[43mmixed_numeral\u001b[49m\u001b[43m(\u001b[49m\u001b[38;5;241;43m1.7\u001b[39;49m\u001b[43m)\u001b[49m\n",
      "Input \u001b[1;32mIn [81]\u001b[0m, in \u001b[0;36mmixed_numeral\u001b[1;34m(vulgar)\u001b[0m\n\u001b[0;32m     10\u001b[0m     \u001b[38;5;28;01mreturn\u001b[39;00m integer, fraction\n\u001b[0;32m     11\u001b[0m \u001b[38;5;28;01mexcept\u001b[39;00m \u001b[38;5;167;01mAttributeError\u001b[39;00m \u001b[38;5;28;01mas\u001b[39;00m e:\n\u001b[1;32m---> 12\u001b[0m     \u001b[38;5;28;01mraise\u001b[39;00m \u001b[38;5;167;01mTypeError\u001b[39;00m(\u001b[38;5;124m\"\u001b[39m\u001b[38;5;132;01m{}\u001b[39;00m\u001b[38;5;124m is not a rational number\u001b[39m\u001b[38;5;124m\"\u001b[39m\u001b[38;5;241m.\u001b[39mformat(vulgar)) \u001b[38;5;28;01mfrom\u001b[39;00m \u001b[38;5;21;01me\u001b[39;00m\n",
      "\u001b[1;31mTypeError\u001b[0m: 1.7 is not a rational number"
     ]
    }
   ],
   "source": [
    "# input the incorrect type of number\n",
    "mixed_numeral(1.7) "
   ]
  },
  {
   "cell_type": "markdown",
   "id": "09d0af32",
   "metadata": {},
   "source": [
    "#### Summary\n",
    "* generally use Easy to ask forgiveness than permission (EAFP) style programming using try/except block rather than hasattr/getattr\n",
    "* programs using hasattr() can quickly become messay\n",
    "* the optimistic approach can be faster by using try/except because hasattr() uses try/except internally"
   ]
  },
  {
   "cell_type": "markdown",
   "id": "19456020",
   "metadata": {},
   "source": [
    "### Introspecting Scopes"
   ]
  },
  {
   "cell_type": "markdown",
   "id": "95547cc3",
   "metadata": {},
   "source": [
    "#### Introspecting the global namespace\n",
    "* globals()\n",
    "  + returns a dictionary representing the global namespace\n",
    "  + furthermore, the dictionary return is, itself, the global namespace\n",
    "    + we can add variables directly to the returned dictionary object, and use the variables as a global variable"
   ]
  },
  {
   "cell_type": "code",
   "execution_count": 84,
   "id": "b4b8c04b",
   "metadata": {},
   "outputs": [
    {
     "data": {
      "text/plain": [
       "6.283185"
      ]
     },
     "execution_count": 84,
     "metadata": {},
     "output_type": "execute_result"
    }
   ],
   "source": [
    "# define a variable to the dictionary returned by globals()\n",
    "# and use it in the global namespace\n",
    "globals()['tau'] = 6.283185\n",
    "tau"
   ]
  },
  {
   "cell_type": "markdown",
   "id": "48c2ff91",
   "metadata": {},
   "source": [
    "#### Introspecting local namespace\n",
    "* locals()\n",
    "* in the following code example, we defined a local function, report_scope, and print out the local namespace inside it\n",
    "  + the local namespace contains the arg, the pprint function imported in the function, and the local variable x"
   ]
  },
  {
   "cell_type": "code",
   "execution_count": 85,
   "id": "1791ab72",
   "metadata": {},
   "outputs": [
    {
     "name": "stdout",
     "output_type": "stream",
     "text": [
      "{'arg': 42,\n",
      " 'pp': <function pprint at 0x000001B43375E710>,\n",
      " 'x': 496}\n"
     ]
    }
   ],
   "source": [
    "def report_scope(arg):                                                      \n",
    "    from pprint import pprint as pp                                         \n",
    "    x = 496                                                                 \n",
    "    pp(locals(), width=10)                                                  \n",
    "                                                                            \n",
    "report_scope(42)                      "
   ]
  },
  {
   "cell_type": "markdown",
   "id": "48eb307d",
   "metadata": {},
   "source": [
    "#### Literal String Interpolation\n",
    "* PEP 498 introduced a new string literal: f-strings\n",
    "* f-strings interpolate names from namespaces directly into strings "
   ]
  },
  {
   "cell_type": "code",
   "execution_count": 86,
   "id": "11731c2f",
   "metadata": {},
   "outputs": [
    {
     "data": {
      "text/plain": [
       "'Joe Bloggs is 28 years old and is from New Zealand'"
      ]
     },
     "execution_count": 86,
     "metadata": {},
     "output_type": "execute_result"
    }
   ],
   "source": [
    "# use format to fill in variable values in strings\n",
    "name = \"Joe Bloggs\"\n",
    "age = 28                                                                    \n",
    "country = \"New Zealand\"                                                     \n",
    "\"{name} is {age} years old and is from {country}\".format(**locals()) "
   ]
  },
  {
   "cell_type": "code",
   "execution_count": 87,
   "id": "9708fd35",
   "metadata": {},
   "outputs": [
    {
     "data": {
      "text/plain": [
       "'Joe Bloggs is 28 years old and is from New Zealand'"
      ]
     },
     "execution_count": 87,
     "metadata": {},
     "output_type": "execute_result"
    }
   ],
   "source": [
    "# use f-string to fill in variable values in strings\n",
    "name = \"Joe Bloggs\"\n",
    "age = 28                                                                    \n",
    "country = \"New Zealand\"                                                     \n",
    "f\"{name} is {age} years old and is from {country}\""
   ]
  },
  {
   "cell_type": "markdown",
   "id": "ab1f94c5",
   "metadata": {},
   "source": [
    "### Inspect Module\n",
    "* contains advanced tools for introspecting Python objects in more details\n",
    "* code example: batch.py contains the code that we will introspect by inspect module\n",
    "* the content of batch.py is the following:\n",
    "\n",
    "```python\n",
    "from itertools import chain\n",
    "\n",
    "class Batch:\n",
    "    def __init__(self, iterables=()):\n",
    "        self._iterables = list(iterables)\n",
    "\n",
    "    def append(self, iterable):\n",
    "        self._iterables.append(iterable)\n",
    "\n",
    "    def __iter__(self):\n",
    "        return chain(*self._iterables)\n",
    "```    "
   ]
  },
  {
   "cell_type": "markdown",
   "id": "423086f7",
   "metadata": {},
   "source": [
    "* we can check is an object is a module\n",
    "* we can get all the member objects of this module\n",
    "* we can fiter the members returned using inspect's built-in predicates\n",
    "  + here we filter out only the class objects\n",
    "* it is surprising class chain is listed in batch module in code example 4. this is because\n",
    "  + chain() is a class, not a function.\n",
    "  + it looks like a function because it violates the PEP8 naming conventions\n",
    "  + calling chain() is actually invoking a constructor\n",
    "* any class defined in a module or imported into a module is in that module's namespace and available as a member of the module\n",
    "* as an example, if you import a class from another module, that class will be available in the namespace, as shown in code example 5\n",
    "* we can obtain details of class methods. \n",
    "  + we can get all the class methods using isfunction pedicate in getmembers() function\n",
    "  + we focus on a specific method, for example, \\_\\_init\\_\\_() method (code example 7)\n",
    "    + we get the signature object from the method using inspect.signature\n",
    "    + we can get the parameters of the method signature as an OrderedDict\n",
    "      + further retrieve the items from the OrderedDict \n",
    "    + Signature stores information on type annotations (type annotions were introduced in PEP 484), as shown in example code 8    \n",
    "  + Function implemented in C or other languages may not provide metadata and cause signature() to fail with ValueError  "
   ]
  },
  {
   "cell_type": "code",
   "execution_count": 88,
   "id": "298b8314",
   "metadata": {},
   "outputs": [],
   "source": [
    "import inspect\n",
    "import batch\n",
    "from pprint import pprint as pp"
   ]
  },
  {
   "cell_type": "code",
   "execution_count": 89,
   "id": "edfd33f4",
   "metadata": {},
   "outputs": [
    {
     "name": "stdout",
     "output_type": "stream",
     "text": [
      "True\n"
     ]
    }
   ],
   "source": [
    "# code example 1\n",
    "\n",
    "# check if the object is a module\n",
    "pp(inspect.ismodule(batch))"
   ]
  },
  {
   "cell_type": "code",
   "execution_count": 90,
   "id": "e6ac1b34",
   "metadata": {},
   "outputs": [
    {
     "name": "stdout",
     "output_type": "stream",
     "text": [
      "[('Batch', <class 'batch.Batch'>), ('__builtins__', {'__name__': 'builtins', '__doc__': \"Built-in functions, exceptions, and other objects.\\n\\nNoteworthy: None is the `nil' object; Ellipsis represents `...' in slices.\", '__package__': '', '__loader__': <class '_frozen_importlib.BuiltinImporter'>, '__spec__': ModuleSpec(name='builtins', loader=<class '_frozen_importlib.BuiltinImporter'>, origin='built-in'), '__build_class__': <built-in function __build_class__>, '__import__': <built-in function __import__>, 'abs': <built-in function abs>, 'all': <built-in function all>, 'any': <built-in function any>, 'ascii': <built-in function ascii>, 'bin': <built-in function bin>, 'breakpoint': <built-in function breakpoint>, 'callable': <built-in function callable>, 'chr': <built-in function chr>, 'compile': <built-in function compile>, 'delattr': <built-in function delattr>, 'dir': <built-in function dir>, 'divmod': <built-in function divmod>, 'eval': <built-in function eval>, 'exec': <built-in function exec>, 'format': <built-in function format>, 'getattr': <built-in function getattr>, 'globals': <built-in function globals>, 'hasattr': <built-in function hasattr>, 'hash': <built-in function hash>, 'hex': <built-in function hex>, 'id': <built-in function id>, 'input': <bound method Kernel.raw_input of <ipykernel.ipkernel.IPythonKernel object at 0x000001B435CAF6A0>>, 'isinstance': <built-in function isinstance>, 'issubclass': <built-in function issubclass>, 'iter': <built-in function iter>, 'aiter': <built-in function aiter>, 'len': <built-in function len>, 'locals': <built-in function locals>, 'max': <built-in function max>, 'min': <built-in function min>, 'next': <built-in function next>, 'anext': <built-in function anext>, 'oct': <built-in function oct>, 'ord': <built-in function ord>, 'pow': <built-in function pow>, 'print': <built-in function print>, 'repr': <built-in function repr>, 'round': <built-in function round>, 'setattr': <built-in function setattr>, 'sorted': <built-in function sorted>, 'sum': <built-in function sum>, 'vars': <built-in function vars>, 'None': None, 'Ellipsis': Ellipsis, 'NotImplemented': NotImplemented, 'False': False, 'True': True, 'bool': <class 'bool'>, 'memoryview': <class 'memoryview'>, 'bytearray': <class 'bytearray'>, 'bytes': <class 'bytes'>, 'classmethod': <class 'classmethod'>, 'complex': <class 'complex'>, 'dict': <class 'dict'>, 'enumerate': <class 'enumerate'>, 'filter': <class 'filter'>, 'float': <class 'float'>, 'frozenset': <class 'frozenset'>, 'property': <class 'property'>, 'int': <class 'int'>, 'list': <class 'list'>, 'map': <class 'map'>, 'object': <class 'object'>, 'range': <class 'range'>, 'reversed': <class 'reversed'>, 'set': <class 'set'>, 'slice': <class 'slice'>, 'staticmethod': <class 'staticmethod'>, 'str': <class 'str'>, 'super': <class 'super'>, 'tuple': <class 'tuple'>, 'type': <class 'type'>, 'zip': <class 'zip'>, '__debug__': True, 'BaseException': <class 'BaseException'>, 'Exception': <class 'Exception'>, 'TypeError': <class 'TypeError'>, 'StopAsyncIteration': <class 'StopAsyncIteration'>, 'StopIteration': <class 'StopIteration'>, 'GeneratorExit': <class 'GeneratorExit'>, 'SystemExit': <class 'SystemExit'>, 'KeyboardInterrupt': <class 'KeyboardInterrupt'>, 'ImportError': <class 'ImportError'>, 'ModuleNotFoundError': <class 'ModuleNotFoundError'>, 'OSError': <class 'OSError'>, 'EnvironmentError': <class 'OSError'>, 'IOError': <class 'OSError'>, 'WindowsError': <class 'OSError'>, 'EOFError': <class 'EOFError'>, 'RuntimeError': <class 'RuntimeError'>, 'RecursionError': <class 'RecursionError'>, 'NotImplementedError': <class 'NotImplementedError'>, 'NameError': <class 'NameError'>, 'UnboundLocalError': <class 'UnboundLocalError'>, 'AttributeError': <class 'AttributeError'>, 'SyntaxError': <class 'SyntaxError'>, 'IndentationError': <class 'IndentationError'>, 'TabError': <class 'TabError'>, 'LookupError': <class 'LookupError'>, 'IndexError': <class 'IndexError'>, 'KeyError': <class 'KeyError'>, 'ValueError': <class 'ValueError'>, 'UnicodeError': <class 'UnicodeError'>, 'UnicodeEncodeError': <class 'UnicodeEncodeError'>, 'UnicodeDecodeError': <class 'UnicodeDecodeError'>, 'UnicodeTranslateError': <class 'UnicodeTranslateError'>, 'AssertionError': <class 'AssertionError'>, 'ArithmeticError': <class 'ArithmeticError'>, 'FloatingPointError': <class 'FloatingPointError'>, 'OverflowError': <class 'OverflowError'>, 'ZeroDivisionError': <class 'ZeroDivisionError'>, 'SystemError': <class 'SystemError'>, 'ReferenceError': <class 'ReferenceError'>, 'MemoryError': <class 'MemoryError'>, 'BufferError': <class 'BufferError'>, 'Warning': <class 'Warning'>, 'UserWarning': <class 'UserWarning'>, 'EncodingWarning': <class 'EncodingWarning'>, 'DeprecationWarning': <class 'DeprecationWarning'>, 'PendingDeprecationWarning': <class 'PendingDeprecationWarning'>, 'SyntaxWarning': <class 'SyntaxWarning'>, 'RuntimeWarning': <class 'RuntimeWarning'>, 'FutureWarning': <class 'FutureWarning'>, 'ImportWarning': <class 'ImportWarning'>, 'UnicodeWarning': <class 'UnicodeWarning'>, 'BytesWarning': <class 'BytesWarning'>, 'ResourceWarning': <class 'ResourceWarning'>, 'ConnectionError': <class 'ConnectionError'>, 'BlockingIOError': <class 'BlockingIOError'>, 'BrokenPipeError': <class 'BrokenPipeError'>, 'ChildProcessError': <class 'ChildProcessError'>, 'ConnectionAbortedError': <class 'ConnectionAbortedError'>, 'ConnectionRefusedError': <class 'ConnectionRefusedError'>, 'ConnectionResetError': <class 'ConnectionResetError'>, 'FileExistsError': <class 'FileExistsError'>, 'FileNotFoundError': <class 'FileNotFoundError'>, 'IsADirectoryError': <class 'IsADirectoryError'>, 'NotADirectoryError': <class 'NotADirectoryError'>, 'InterruptedError': <class 'InterruptedError'>, 'PermissionError': <class 'PermissionError'>, 'ProcessLookupError': <class 'ProcessLookupError'>, 'TimeoutError': <class 'TimeoutError'>, 'open': <built-in function open>, 'copyright': Copyright (c) 2001-2022 Python Software Foundation.\n",
      "All Rights Reserved.\n",
      "\n",
      "Copyright (c) 2000 BeOpen.com.\n",
      "All Rights Reserved.\n",
      "\n",
      "Copyright (c) 1995-2001 Corporation for National Research Initiatives.\n",
      "All Rights Reserved.\n",
      "\n",
      "Copyright (c) 1991-1995 Stichting Mathematisch Centrum, Amsterdam.\n",
      "All Rights Reserved., 'credits':     Thanks to CWI, CNRI, BeOpen.com, Zope Corporation and a cast of thousands\n",
      "    for supporting Python development.  See www.python.org for more information., 'license': Type license() to see the full license text, 'help': Type help() for interactive help, or help(object) for help about object., 'execfile': <function execfile at 0x000001B4359085E0>, 'runfile': <function runfile at 0x000001B435A52440>, '__IPYTHON__': True, 'display': <function display at 0x000001B434192440>, 'get_ipython': <bound method InteractiveShell.get_ipython of <ipykernel.zmqshell.ZMQInteractiveShell object at 0x000001B435CAD7B0>>}), ('__cached__', 'C:\\\\Users\\\\HuangY07\\\\Documents\\\\git_repo\\\\advanced_python\\\\notebooks\\\\introspection\\\\__pycache__\\\\batch.cpython-310.pyc'), ('__doc__', None), ('__file__', 'C:\\\\Users\\\\HuangY07\\\\Documents\\\\git_repo\\\\advanced_python\\\\notebooks\\\\introspection\\\\batch.py'), ('__loader__', <_frozen_importlib_external.SourceFileLoader object at 0x000001B437062A70>), ('__name__', 'batch'), ('__package__', ''), ('__spec__', ModuleSpec(name='batch', loader=<_frozen_importlib_external.SourceFileLoader object at 0x000001B437062A70>, origin='C:\\\\Users\\\\HuangY07\\\\Documents\\\\git_repo\\\\advanced_python\\\\notebooks\\\\introspection\\\\batch.py')), ('chain', <class 'itertools.chain'>)]\n"
     ]
    }
   ],
   "source": [
    "# code example 2\n",
    "\n",
    "# check all the members in the module\n",
    "print(inspect.getmembers(batch))"
   ]
  },
  {
   "cell_type": "code",
   "execution_count": 91,
   "id": "ed7e6d4c",
   "metadata": {},
   "outputs": [
    {
     "name": "stdout",
     "output_type": "stream",
     "text": [
      "['ArgInfo', 'ArgSpec', 'Arguments', 'Attribute', 'BlockFinder', 'BoundArguments', 'CORO_CLOSED', 'CORO_CREATED', 'CORO_RUNNING', 'CORO_SUSPENDED', 'CO_ASYNC_GENERATOR', 'CO_COROUTINE', 'CO_GENERATOR', 'CO_ITERABLE_COROUTINE', 'CO_NESTED', 'CO_NEWLOCALS', 'CO_NOFREE', 'CO_OPTIMIZED', 'CO_VARARGS', 'CO_VARKEYWORDS', 'ClassFoundException', 'ClosureVars', 'EndOfBlock', 'FrameInfo', 'FullArgSpec', 'GEN_CLOSED', 'GEN_CREATED', 'GEN_RUNNING', 'GEN_SUSPENDED', 'OrderedDict', 'Parameter', 'Signature', 'TPFLAGS_IS_ABSTRACT', 'Traceback', '_ClassFinder', '_ClassMethodWrapper', '_KEYWORD_ONLY', '_MethodWrapper', '_NonUserDefinedCallables', '_PARAM_NAME_MAPPING', '_POSITIONAL_ONLY', '_POSITIONAL_OR_KEYWORD', '_ParameterKind', '_VAR_KEYWORD', '_VAR_POSITIONAL', '_WrapperDescriptor', '__author__', '__builtins__', '__cached__', '__doc__', '__file__', '__loader__', '__name__', '__package__', '__spec__', '_check_class', '_check_instance', '_empty', '_filesbymodname', '_findclass', '_finddoc', '_has_code_flag', '_is_type', '_main', '_missing_arguments', '_sentinel', '_shadowed_dict', '_signature_bound_method', '_signature_from_builtin', '_signature_from_callable', '_signature_from_function', '_signature_fromstr', '_signature_get_bound_param', '_signature_get_partial', '_signature_get_user_defined_method', '_signature_is_builtin', '_signature_is_functionlike', '_signature_strip_non_python_syntax', '_static_getmro', '_too_many', '_void', 'abc', 'ast', 'attrgetter', 'builtins', 'classify_class_attrs', 'cleandoc', 'collections', 'currentframe', 'dis', 'enum', 'findsource', 'formatannotation', 'formatannotationrelativeto', 'formatargspec', 'formatargvalues', 'functools', 'get_annotations', 'getabsfile', 'getargs', 'getargspec', 'getargvalues', 'getattr_static', 'getblock', 'getcallargs', 'getclasstree', 'getclosurevars', 'getcomments', 'getcoroutinelocals', 'getcoroutinestate', 'getdoc', 'getfile', 'getframeinfo', 'getfullargspec', 'getgeneratorlocals', 'getgeneratorstate', 'getinnerframes', 'getlineno', 'getmembers', 'getmodule', 'getmodulename', 'getmro', 'getouterframes', 'getsource', 'getsourcefile', 'getsourcelines', 'importlib', 'indentsize', 'isabstract', 'isasyncgen', 'isasyncgenfunction', 'isawaitable', 'isbuiltin', 'isclass', 'iscode', 'iscoroutine', 'iscoroutinefunction', 'isdatadescriptor', 'isframe', 'isfunction', 'isgenerator', 'isgeneratorfunction', 'isgetsetdescriptor', 'ismemberdescriptor', 'ismethod', 'ismethoddescriptor', 'ismodule', 'isroutine', 'istraceback', 'itertools', 'k', 'linecache', 'mod_dict', 'modulesbyfile', 'namedtuple', 'os', 're', 'signature', 'stack', 'sys', 'token', 'tokenize', 'trace', 'types', 'unwrap', 'v', 'walktree', 'warnings']\n"
     ]
    }
   ],
   "source": [
    "# code example 3\n",
    "\n",
    "# print all the predicate functions of inspect for filtering members results\n",
    "# these prediates starts with is and can be used as the second argument to getmembers()\n",
    "print(dir(inspect))"
   ]
  },
  {
   "cell_type": "code",
   "execution_count": 92,
   "id": "7f4d3981",
   "metadata": {},
   "outputs": [
    {
     "name": "stdout",
     "output_type": "stream",
     "text": [
      "[('Batch', <class 'batch.Batch'>), ('chain', <class 'itertools.chain'>)]\n"
     ]
    }
   ],
   "source": [
    "# code example 4\n",
    "# note that chain is listed as a member class in batch module\n",
    "print(inspect.getmembers(batch, inspect.isclass))"
   ]
  },
  {
   "cell_type": "code",
   "execution_count": 93,
   "id": "c1027074",
   "metadata": {},
   "outputs": [
    {
     "data": {
      "text/plain": [
       "[1, 2, 3, 4, 5, 6]"
      ]
     },
     "execution_count": 93,
     "metadata": {},
     "output_type": "execute_result"
    }
   ],
   "source": [
    "# code example 5\n",
    "from batch import chain\n",
    "list(chain([1, 2, 3], [4, 5, 6]))"
   ]
  },
  {
   "cell_type": "code",
   "execution_count": 94,
   "id": "2f6a75f8",
   "metadata": {},
   "outputs": [
    {
     "data": {
      "text/plain": [
       "[('__init__', <function batch.Batch.__init__(self, iterables=())>),\n",
       " ('__iter__', <function batch.Batch.__iter__(self)>),\n",
       " ('append', <function batch.Batch.append(self, iterable)>)]"
      ]
     },
     "execution_count": 94,
     "metadata": {},
     "output_type": "execute_result"
    }
   ],
   "source": [
    "# code example 6\n",
    "# get all function members of Batch class\n",
    "inspect.getmembers(batch.Batch, inspect.isfunction)"
   ]
  },
  {
   "cell_type": "code",
   "execution_count": 95,
   "id": "7fbeaf01",
   "metadata": {},
   "outputs": [
    {
     "name": "stdout",
     "output_type": "stream",
     "text": [
      "(self, iterables=())\n",
      "OrderedDict([('self', <Parameter \"self\">), ('iterables', <Parameter \"iterables=()\">)])\n",
      "()\n"
     ]
    }
   ],
   "source": [
    "# code example 7\n",
    "# get signature of a function\n",
    "init_sig = inspect.signature(batch.Batch.__init__)\n",
    "print(init_sig)\n",
    "print(init_sig.parameters)\n",
    "print(repr(init_sig.parameters['iterables'].default))"
   ]
  },
  {
   "cell_type": "code",
   "execution_count": 96,
   "id": "a12c57f1",
   "metadata": {},
   "outputs": [
    {
     "name": "stdout",
     "output_type": "stream",
     "text": [
      "text argument and its type:  text: str\n",
      "data type of text:  <class 'str'>\n",
      "signature object:  (text: str) -> int\n",
      "return type of the function:  <class 'int'>\n",
      "annotations of the function:  {'text': <class 'str'>, 'return': <class 'int'>}\n"
     ]
    }
   ],
   "source": [
    "# code example 8\n",
    "# introspecting Type Annotations\n",
    "import inspect   \n",
    "# define a function, num_vowels\n",
    "def num_vowels(text: str) -> int:                                           \n",
    "    return sum(1 if c.lower() in 'aeiou' else 0                             \n",
    "               for c in text)                                               \n",
    "                                                                            \n",
    "# get the signature object of the function                                                           \n",
    "sig = inspect.signature(num_vowels)                                         \n",
    "\n",
    "# show the argument named 'text'\n",
    "print(\"text argument and its type: \", sig.parameters['text'])                                                      \n",
    "\n",
    "# show the data type of 'text' argument using its annotation attribute\n",
    "print(\"data type of text: \",sig.parameters['text'].annotation)                                           \n",
    "                                                             \n",
    "# print sig object\n",
    "print(\"signature object: \", sig)                                                                         \n",
    "\n",
    "# print the function's return type\n",
    "print(\"return type of the function: \", sig.return_annotation)                                                       \n",
    "                                                              \n",
    "# print types of all the annotated parameters and return value\n",
    "# note that we directly use the function name\n",
    "print(\"annotations of the function: \", num_vowels.__annotations__)"
   ]
  },
  {
   "cell_type": "code",
   "execution_count": 97,
   "id": "9a331e92",
   "metadata": {},
   "outputs": [
    {
     "data": {
      "text/plain": [
       "'()'"
      ]
     },
     "execution_count": 97,
     "metadata": {},
     "output_type": "execute_result"
    }
   ],
   "source": [
    "# code example 9 for function information introspection\n",
    "\n",
    "# fetch all class methods from Batch class using isfunction predicate\n",
    "inspect.getmembers(batch.Batch, inspect.isfunction)\n",
    "\n",
    "# fetch the signature object from the __init__() method of Batch class\n",
    "init_sig = inspect.signature(batch.Batch.__init__)\n",
    "# print the object as string\n",
    "repr(init_sig)\n",
    "\n",
    "# show the function arguments using its parameters attribute\n",
    "init_sig.parameters\n",
    "\n",
    "# show the default value of the iterables argument\n",
    "repr(init_sig.parameters['iterables'].default)"
   ]
  },
  {
   "cell_type": "markdown",
   "id": "1521d3b3",
   "metadata": {},
   "source": [
    "### creating an object introspection tool\n",
    "* inspect.getdoc(obj) get cleaned documents of the object\n",
    "* getmembers() is the natural tool for getting the attributes and methods\n",
    "* we developed our own version of getmembers\n",
    "+ dump()\n",
    "  + get all attributes using set(dir(object))\n",
    "  + get only function attributes using callable(getattr(obj, attr_name)) in a lambda function as the predicate in filter\n",
    "  + then get all non-function attributes by subtracting the function attributes using all_attr_names - method_names\n",
    "  + organize attribute names and string representation using list comprehension (reprlib.repr was used to format the string)\n",
    "+ full_sig(method)\n",
    "  + concatenate method name and the string representation of the method signature\n",
    "+ brief_doc(obj)\n",
    "  + extract the first line of obj's dunder doc attribute if doc string is defined, otherwise, return an empty string\n",
    "+ print_table function accepts a two-dimensional list as its 1st argument representing the data (rows_of_columns), and 2nd as a list of column headers (\\*headers)\n",
    "  + first check that the first row has the same number of elements as column headers\n",
    "  + decompose the data and zip them with the column headers using chain() function\n",
    "  rows_of_columns_with_header = itertools.chain(\\[headers\\], rows_of_columns)"
   ]
  },
  {
   "cell_type": "code",
   "execution_count": 98,
   "id": "376032c8",
   "metadata": {},
   "outputs": [],
   "source": [
    "# code example 10\n",
    "import inspect\n",
    "import itertools\n",
    "import reprlib\n",
    "\n",
    "\n",
    "def dump(obj):\n",
    "    print(\"Type\")\n",
    "    print(\"====\")\n",
    "    print(type(obj))\n",
    "    print()\n",
    "\n",
    "    print(\"Documentation\")\n",
    "    print(\"=============\")\n",
    "    print(inspect.getdoc(obj))\n",
    "    print()\n",
    "\n",
    "    # get all attributes\n",
    "    all_attr_names = set(dir(obj))\n",
    "    \n",
    "    # get all method attributes\n",
    "    # note that callable(obj) returns True is obj is callable\n",
    "    method_names = set(\n",
    "        filter(lambda attr_name: callable(getattr(obj, attr_name)),\n",
    "               all_attr_names))\n",
    "    assert method_names <= all_attr_names\n",
    "    attr_names = all_attr_names - method_names\n",
    "\n",
    "    print(\"Attributes\")\n",
    "    print(\"==========\")\n",
    "    attr_names_and_values = [(name, reprlib.repr(getattr(obj, name)))\n",
    "                             for name in attr_names]\n",
    "    print_table(attr_names_and_values, \"Name\", \"Value\")\n",
    "    print()\n",
    "\n",
    "    print(\"Methods\")\n",
    "    print(\"=======\")\n",
    "    methods = (getattr(obj, method_name) for method_name in method_names)\n",
    "    method_names_and_doc = sorted((full_sig(method), brief_doc(method))\n",
    "                                  for method in methods)\n",
    "    print_table(method_names_and_doc, \"Name\", \"Description\")\n",
    "    print()\n",
    "\n",
    "\n",
    "# get full signature of the method\n",
    "def full_sig(method):\n",
    "    try:\n",
    "        return method.__name__ + str(inspect.signature(method))\n",
    "    except ValueError:\n",
    "        return method.__name__ + '(...)'\n",
    "\n",
    "\n",
    "# get the brief document of the object\n",
    "def brief_doc(obj):\n",
    "    doc = obj.__doc__\n",
    "    if doc is not None:\n",
    "        lines = doc.splitlines()\n",
    "        if len(lines) > 0:\n",
    "            return lines[0]\n",
    "    return ''\n",
    "\n",
    "\n",
    "# rows_of_columns is a 2d list of method-names_and_doc\n",
    "# heads is the list of all the remaining arguments, here is \"Name\" and \"Description\"\n",
    "def print_table(rows_of_columns, *headers):\n",
    "    num_columns = len(rows_of_columns[0])\n",
    "    num_headers = len(headers)\n",
    "    if len(headers) != num_columns:\n",
    "        raise TypeError(\"Expected {} header arguments, \"\n",
    "                        \"got {}\".format(num_columns, num_headers))\n",
    "    \n",
    "    # convert row-based data to column-based data with column names\n",
    "    # see code example 11 for details\n",
    "    rows_of_columns_with_header = itertools.chain([headers], rows_of_columns)\n",
    "    columns_of_rows = list(zip(*rows_of_columns_with_header))\n",
    "    \n",
    "    # find the max length of the elements in each column and use that to\n",
    "    # define the column width\n",
    "    column_widths = [max(map(len, column)) for column in columns_of_rows]\n",
    "    \n",
    "    # format each column using the column width. See example 12 for details\n",
    "    column_specs = ('{{:{w}}}'.format(w=width) for width in column_widths)\n",
    "    format_spec = ' '.join(column_specs)\n",
    "    print(format_spec.format(*headers))\n",
    "    rules = ('-' * width for width in column_widths)\n",
    "    print(format_spec.format(*rules))\n",
    "    for row in rows_of_columns:\n",
    "        print(format_spec.format(*row))\n"
   ]
  },
  {
   "cell_type": "code",
   "execution_count": 99,
   "id": "fb62a366",
   "metadata": {},
   "outputs": [
    {
     "data": {
      "text/plain": [
       "[('header1', 4, 4), ('header2', 5, 5), ('header3', 6, 6)]"
      ]
     },
     "execution_count": 99,
     "metadata": {},
     "output_type": "execute_result"
    }
   ],
   "source": [
    "# code example 11. How to chain column headers (1d list) with row-based data (2d list)\n",
    "# and use zip to construct column-based data\n",
    "headers = [\"header1\", \"header2\", \"header3\"]\n",
    "a = chain([headers], [[4, 5, 6], [4, 5, 6]])\n",
    "# print(list(a))\n",
    "list(zip(*a))"
   ]
  },
  {
   "cell_type": "code",
   "execution_count": 100,
   "id": "e2261734",
   "metadata": {},
   "outputs": [
    {
     "name": "stdout",
     "output_type": "stream",
     "text": [
      "{:10} {:15} {:20}\n",
      "header1    header2         header3             \n"
     ]
    }
   ],
   "source": [
    "# code example 12\n",
    "# we construcct format to define the column width using {\"width\"}\n",
    "# then just put variables in .format()\n",
    "# variable values will be printed out with the specified width\n",
    "\n",
    "# define widths\n",
    "widths = [10, 15, 20]\n",
    "\n",
    "# construct column width format string as column_spec\n",
    "column_spec = \" \".join(('{{:{w}}}'.format(w=width) for width in widths))\n",
    "print(column_spec)\n",
    "\n",
    "# fill in the header values with the specified width\n",
    "print(column_spec.format(*headers))"
   ]
  },
  {
   "cell_type": "code",
   "execution_count": 101,
   "id": "4fa25de6",
   "metadata": {},
   "outputs": [
    {
     "data": {
      "text/plain": [
       "True"
      ]
     },
     "execution_count": 101,
     "metadata": {},
     "output_type": "execute_result"
    }
   ],
   "source": [
    "def test_func():\n",
    "    return 0\n",
    "callable(test_func)"
   ]
  },
  {
   "cell_type": "code",
   "execution_count": 102,
   "id": "2fa3e7a0",
   "metadata": {},
   "outputs": [
    {
     "name": "stdout",
     "output_type": "stream",
     "text": [
      "Type\n",
      "====\n",
      "<class 'int'>\n",
      "\n",
      "Documentation\n",
      "=============\n",
      "int([x]) -> integer\n",
      "int(x, base=10) -> integer\n",
      "\n",
      "Convert a number or string to an integer, or return 0 if no arguments\n",
      "are given.  If x is a number, return x.__int__().  For floating point\n",
      "numbers, this truncates towards zero.\n",
      "\n",
      "If x is not a number or if base is given, then x must be a string,\n",
      "bytes, or bytearray instance representing an integer literal in the\n",
      "given base.  The literal can be preceded by '+' or '-' and be surrounded\n",
      "by whitespace.  The base defaults to 10.  Valid bases are 0 and 2-36.\n",
      "Base 0 means to interpret the base from the string as an integer literal.\n",
      ">>> int('0b100', base=0)\n",
      "4\n",
      "\n",
      "Attributes\n",
      "==========\n",
      "Name        Value                         \n",
      "----------- ------------------------------\n",
      "__doc__     \"int([x]) -> ...', base=0)\\n4\"\n",
      "real        7                             \n",
      "numerator   7                             \n",
      "imag        0                             \n",
      "denominator 1                             \n",
      "\n",
      "Methods\n",
      "=======\n",
      "Name                                          Description                                                                              \n",
      "--------------------------------------------- -----------------------------------------------------------------------------------------\n",
      "__abs__()                                     abs(self)                                                                                \n",
      "__add__(value, /)                             Return self+value.                                                                       \n",
      "__and__(value, /)                             Return self&value.                                                                       \n",
      "__bool__()                                    True if self else False                                                                  \n",
      "__ceil__(...)                                 Ceiling of an Integral returns itself.                                                   \n",
      "__delattr__(name, /)                          Implement delattr(self, name).                                                           \n",
      "__dir__()                                     Default dir() implementation.                                                            \n",
      "__divmod__(value, /)                          Return divmod(self, value).                                                              \n",
      "__eq__(value, /)                              Return self==value.                                                                      \n",
      "__float__()                                   float(self)                                                                              \n",
      "__floor__(...)                                Flooring an Integral returns itself.                                                     \n",
      "__floordiv__(value, /)                        Return self//value.                                                                      \n",
      "__format__(format_spec, /)                                                                                                             \n",
      "__ge__(value, /)                              Return self>=value.                                                                      \n",
      "__getattribute__(name, /)                     Return getattr(self, name).                                                              \n",
      "__getnewargs__()                                                                                                                       \n",
      "__gt__(value, /)                              Return self>value.                                                                       \n",
      "__hash__()                                    Return hash(self).                                                                       \n",
      "__index__()                                   Return self converted to an integer, if self is suitable for use as an index into a list.\n",
      "__init__(*args, **kwargs)                     Initialize self.  See help(type(self)) for accurate signature.                           \n",
      "__init_subclass__(...)                        This method is called when a class is subclassed.                                        \n",
      "__int__()                                     int(self)                                                                                \n",
      "__invert__()                                  ~self                                                                                    \n",
      "__le__(value, /)                              Return self<=value.                                                                      \n",
      "__lshift__(value, /)                          Return self<<value.                                                                      \n",
      "__lt__(value, /)                              Return self<value.                                                                       \n",
      "__mod__(value, /)                             Return self%value.                                                                       \n",
      "__mul__(value, /)                             Return self*value.                                                                       \n",
      "__ne__(value, /)                              Return self!=value.                                                                      \n",
      "__neg__()                                     -self                                                                                    \n",
      "__new__(*args, **kwargs)                      Create and return a new object.  See help(type) for accurate signature.                  \n",
      "__or__(value, /)                              Return self|value.                                                                       \n",
      "__pos__()                                     +self                                                                                    \n",
      "__pow__(value, mod=None, /)                   Return pow(self, value, mod).                                                            \n",
      "__radd__(value, /)                            Return value+self.                                                                       \n",
      "__rand__(value, /)                            Return value&self.                                                                       \n",
      "__rdivmod__(value, /)                         Return divmod(value, self).                                                              \n",
      "__reduce__()                                  Helper for pickle.                                                                       \n",
      "__reduce_ex__(protocol, /)                    Helper for pickle.                                                                       \n",
      "__repr__()                                    Return repr(self).                                                                       \n",
      "__rfloordiv__(value, /)                       Return value//self.                                                                      \n",
      "__rlshift__(value, /)                         Return value<<self.                                                                      \n",
      "__rmod__(value, /)                            Return value%self.                                                                       \n",
      "__rmul__(value, /)                            Return value*self.                                                                       \n",
      "__ror__(value, /)                             Return value|self.                                                                       \n",
      "__round__(...)                                Rounding an Integral returns itself.                                                     \n",
      "__rpow__(value, mod=None, /)                  Return pow(value, self, mod).                                                            \n",
      "__rrshift__(value, /)                         Return value>>self.                                                                      \n",
      "__rshift__(value, /)                          Return self>>value.                                                                      \n",
      "__rsub__(value, /)                            Return value-self.                                                                       \n",
      "__rtruediv__(value, /)                        Return value/self.                                                                       \n",
      "__rxor__(value, /)                            Return value^self.                                                                       \n",
      "__setattr__(name, value, /)                   Implement setattr(self, name, value).                                                    \n",
      "__sizeof__()                                  Returns size in memory, in bytes.                                                        \n",
      "__str__()                                     Return str(self).                                                                        \n",
      "__sub__(value, /)                             Return self-value.                                                                       \n",
      "__subclasshook__(...)                         Abstract classes can override this to customize issubclass().                            \n",
      "__truediv__(value, /)                         Return self/value.                                                                       \n",
      "__trunc__(...)                                Truncating an Integral returns itself.                                                   \n",
      "__xor__(value, /)                             Return self^value.                                                                       \n",
      "as_integer_ratio()                            Return integer ratio.                                                                    \n",
      "bit_count()                                   Number of ones in the binary representation of the absolute value of self.               \n",
      "bit_length()                                  Number of bits necessary to represent self in binary.                                    \n",
      "conjugate(...)                                Returns self, the complex conjugate of any int.                                          \n",
      "from_bytes(bytes, byteorder, *, signed=False) Return the integer represented by the given array of bytes.                              \n",
      "int(...)                                      int([x]) -> integer                                                                      \n",
      "to_bytes(length, byteorder, *, signed=False)  Return an array of bytes representing an integer.                                        \n",
      "\n"
     ]
    }
   ],
   "source": [
    "\n",
    "dump(7)"
   ]
  },
  {
   "cell_type": "markdown",
   "id": "f0ca86e5",
   "metadata": {},
   "source": [
    "#### Summary:\n",
    "* inspect.getdoc() retrieves nicely formatted docstrings\n",
    "* set Objects can be used to work with relationships between groups of objects\n",
    "* clarity and readability are factors to consider when deciding between map and comprehensions\n",
    "* a common docstring convention is that the first line is a summary\n",
    "* format specifiers can be nested\n",
    "* inspect gives you tools that can be combined to build introspection tools"
   ]
  }
 ],
 "metadata": {
  "kernelspec": {
   "display_name": "Python 3 (ipykernel)",
   "language": "python",
   "name": "python3"
  },
  "language_info": {
   "codemirror_mode": {
    "name": "ipython",
    "version": 3
   },
   "file_extension": ".py",
   "mimetype": "text/x-python",
   "name": "python",
   "nbconvert_exporter": "python",
   "pygments_lexer": "ipython3",
   "version": "3.10.4"
  }
 },
 "nbformat": 4,
 "nbformat_minor": 5
}
