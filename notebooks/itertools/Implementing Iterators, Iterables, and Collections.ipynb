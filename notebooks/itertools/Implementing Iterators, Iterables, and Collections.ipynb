{
 "cells": [
  {
   "cell_type": "markdown",
   "id": "a6eb28d4",
   "metadata": {},
   "source": [
    "## Implementing Iterators, Iterables and Collections"
   ]
  },
  {
   "cell_type": "markdown",
   "id": "08a8dce8",
   "metadata": {},
   "source": [
    "### Iterables and Iterators\n",
    "* iterators decouple how we retrieve items from an object from the structure of the object\n",
    "  + the items might be generated, stored and managed by different structures and mechanisms, such as collection, gnerator, file or sensor data from streaming\n",
    "  + the retrieval of the items is managed by another type of closely related objects called an iterator\n",
    "    + the iterator encapsulates the current position in the iterable and has has an iterface that allows us to get the next value and to determine when the underlying iterable is exhausted\n",
    "    + iterators in Python is known as forward iterators, meaning that they traverse the underlying iterable in a forward direction one item at a time, without jumpping and changing direction\n",
    "    + the underlying series of elements may be conceptually infinite or unending if the results are produced dynamically by a computation or a sensor rather than retrieved from storage\n",
    "    + Python also provides reverse iterator, which traverse the items from the end to the beginning.\n",
    "      + only apply to collections with a finite number of elements with a definite end\n",
    "* As a quick review of how iterator and iterable works, the following code showed the 3 typical steps to obtain and advance an iterator and get data from an iterable:\n",
    "\n",
    "```python\n",
    "\n",
    "# obtain an iterator from iterable\n",
    "iterator = iter(iterable)\n",
    "\n",
    "# traverse the iterable to retrieve data by next(iterator)\n",
    "try:\n",
    "    item = next(iterator)\n",
    "    print(item)\n",
    "\n",
    "# handle the end of the iterable\n",
    "except StopIteration:\n",
    "    print(\"No more items\")\n",
    "    \n",
    "```    \n"
   ]
  },
  {
   "cell_type": "markdown",
   "id": "f7337bb0",
   "metadata": {},
   "source": [
    "* Two ways of creating iterables\n",
    "  + instantiating built-in collections\n",
    "  + using generators either by generator functions or expressions"
   ]
  }
 ],
 "metadata": {
  "kernelspec": {
   "display_name": "Python 3 (ipykernel)",
   "language": "python",
   "name": "python3"
  },
  "language_info": {
   "codemirror_mode": {
    "name": "ipython",
    "version": 3
   },
   "file_extension": ".py",
   "mimetype": "text/x-python",
   "name": "python",
   "nbconvert_exporter": "python",
   "pygments_lexer": "ipython3",
   "version": "3.10.4"
  }
 },
 "nbformat": 4,
 "nbformat_minor": 5
}
