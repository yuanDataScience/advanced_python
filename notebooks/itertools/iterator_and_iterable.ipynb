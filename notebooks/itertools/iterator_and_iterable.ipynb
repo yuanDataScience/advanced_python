{
 "cells": [
  {
   "cell_type": "markdown",
   "id": "8d476bab",
   "metadata": {},
   "source": [
    "## Iterator and Iterables\n",
    "This notebook is based on a [youtube video](https://www.youtube.com/watch?v=jTYiNjvnHZY)"
   ]
  },
  {
   "cell_type": "markdown",
   "id": "650cdb5e",
   "metadata": {},
   "source": [
    "* a list is an iterable, but not an iterator\n",
    "* how to make your own objects that are both iterable and iterator\n",
    "* an iterable is something that can be looped over (list, tuple, generator etc.)\n",
    "  + how can we tell if something is iterable?\n",
    "    - iterables have the method __iter__()\n",
    "  + if an object has the `__iter__()` method, it can be looped over by a for loop\n",
    "* what happens to a for loop:\n",
    "  + call `__iter__()` on our object and returns an iterator that we can loop over\n",
    "  + loops over using iterator and handles the end of the loop (no StopIteration exception will be thrown) \n",
    "  + a list is an iterable, when we run `__iter__()` on it, it will return an iterator\n",
    "* an iterator is an object with a state so that it remembers where it is during iteration\n",
    "  + an iterator also knows how to get to the next value by `__next__()` method\n",
    "  + when we run next(obj), python tries to run `__next__()` on that object\n",
    "  + an iterator also has a `__iter__()` method, that just returns itself\n",
    "  + can only go forward, not backward\n",
    "  + can not reset it,or make a copy of it\n",
    "  + an iterator can go on forever"
   ]
  },
  {
   "cell_type": "markdown",
   "id": "bf69173a",
   "metadata": {},
   "source": [
    "Code example of iterables\n",
    "* create an iterable and check its attributes for `__iter__()`\n",
    "* here a list as an iterable, does have the `__iter__()` method, but does not have `__next__()` method\n",
    "  + a list is an literable, but not an iterator"
   ]
  },
  {
   "cell_type": "code",
   "execution_count": 21,
   "id": "fdd986ac",
   "metadata": {},
   "outputs": [
    {
     "name": "stdout",
     "output_type": "stream",
     "text": [
      "['__add__', '__class__', '__contains__', '__delattr__', '__delitem__', '__dir__', '__doc__', '__eq__', '__format__', '__ge__', '__getattribute__', '__getitem__', '__gt__', '__hash__', '__iadd__', '__imul__', '__init__', '__init_subclass__', '__iter__', '__le__', '__len__', '__lt__', '__mul__', '__ne__', '__new__', '__reduce__', '__reduce_ex__', '__repr__', '__reversed__', '__rmul__', '__setattr__', '__setitem__', '__sizeof__', '__str__', '__subclasshook__', 'append', 'clear', 'copy', 'count', 'extend', 'index', 'insert', 'pop', 'remove', 'reverse', 'sort']\n"
     ]
    }
   ],
   "source": [
    "# a list is an iterable\n",
    "nums = [1, 2, 3]\n",
    "print(dir(nums))"
   ]
  },
  {
   "cell_type": "code",
   "execution_count": 22,
   "id": "3797fb4e",
   "metadata": {},
   "outputs": [
    {
     "name": "stdout",
     "output_type": "stream",
     "text": [
      "<list_iterator object at 0x7f29e84eb430>\n",
      "['__class__', '__delattr__', '__dir__', '__doc__', '__eq__', '__format__', '__ge__', '__getattribute__', '__gt__', '__hash__', '__init__', '__init_subclass__', '__iter__', '__le__', '__length_hint__', '__lt__', '__ne__', '__new__', '__next__', '__reduce__', '__reduce_ex__', '__repr__', '__setattr__', '__setstate__', '__sizeof__', '__str__', '__subclasshook__']\n",
      "1\n",
      "2\n"
     ]
    }
   ],
   "source": [
    "# obtain an iterator from the list, which is what for loop does for us\n",
    "# iter(nums) calls nums.__iter__() for us\n",
    "i_nums = iter(nums)\n",
    "print(i_nums)\n",
    "print(dir(i_nums))\n",
    "print(next(i_nums))\n",
    "print(next(i_nums))"
   ]
  },
  {
   "cell_type": "markdown",
   "id": "5670f83d",
   "metadata": {},
   "source": [
    "### What a for loop does is the following code\n",
    "* get the iterator from an iterable\n",
    "* in a while loop, loops over the iterator and get/operate on each item\n",
    "* handle the StopIteration except"
   ]
  },
  {
   "cell_type": "code",
   "execution_count": 23,
   "id": "cf69e1ea",
   "metadata": {},
   "outputs": [
    {
     "name": "stdout",
     "output_type": "stream",
     "text": [
      "1\n",
      "2\n",
      "3\n"
     ]
    }
   ],
   "source": [
    "nums = [1, 2, 3]\n",
    "\n",
    "# step 1: get the iterator\n",
    "i_nums = iter(nums)\n",
    "\n",
    "# step 2: establish the while loop\n",
    "# and loop over the iterator\n",
    "while True:\n",
    "    try:\n",
    "        item = next(i_nums)\n",
    "        print(item)\n",
    "    # step 3: handle StopIteration exception at the end of the loop    \n",
    "    except StopIteration:\n",
    "        break"
   ]
  },
  {
   "cell_type": "markdown",
   "id": "281bf992",
   "metadata": {},
   "source": [
    "### Create an iterable MyRange class\n",
    "This class itself is also a iterator\n",
    "* step 1: define the start and end of the range\n",
    "* step 2: implement `__iter__()` methd that returns itself\n",
    "* step 3: implement `__next__()` method with the following functions:\n",
    "  + check StopIteration conditions\n",
    "  + assign the current value to be returned\n",
    "  + keep the position for the next iteration\n",
    "  + return the value for next() method"
   ]
  },
  {
   "cell_type": "code",
   "execution_count": 24,
   "id": "7ff5c775",
   "metadata": {},
   "outputs": [],
   "source": [
    "class MyRange:\n",
    "    \n",
    "    def __init__(self, start, end):\n",
    "        self.value = start\n",
    "        self.end = end\n",
    "        \n",
    "    def __iter__(self):\n",
    "        return self\n",
    "    \n",
    "    def __next__(self):\n",
    "        # check StopIteration condition\n",
    "        if self.value >= self.end:\n",
    "            raise StopIteration\n",
    "        # assign the current value to return\n",
    "        current = self.value\n",
    "        # keep the position for the next iteration\n",
    "        self.value += 1\n",
    "        # return the value for next() method\n",
    "        return current   "
   ]
  },
  {
   "cell_type": "code",
   "execution_count": 25,
   "id": "970ad2b1",
   "metadata": {},
   "outputs": [
    {
     "name": "stdout",
     "output_type": "stream",
     "text": [
      "using mr as an iterator by calling next() method\n",
      "0\n",
      "1\n",
      "\n",
      "-----------------------\n",
      "using mr as an iterable by a for loop\n",
      "0\n",
      "1\n",
      "2\n",
      "3\n",
      "4\n",
      "5\n"
     ]
    }
   ],
   "source": [
    "mr = MyRange(0, 5)\n",
    "print(\"using mr as an iterator by calling next() method\")\n",
    "print(next(mr))\n",
    "print(next(mr))\n",
    "print()\n",
    "print(\"-----------------------\")\n",
    "print(\"using mr as an iterable by a for loop\")\n",
    "mr = MyRange(0, 6)\n",
    "for i in mr:\n",
    "    print(i)"
   ]
  },
  {
   "cell_type": "markdown",
   "id": "30e9403c",
   "metadata": {},
   "source": [
    "### generators are iterators \n",
    "* dunder iter and dunder next methods are generated for us and we do not create them \n",
    "* when a generator yields a value, it keeps that state until the generator is run again and yield the next value"
   ]
  },
  {
   "cell_type": "code",
   "execution_count": 26,
   "id": "e2eacb22",
   "metadata": {},
   "outputs": [],
   "source": [
    "def my_range(start, end):\n",
    "    current = start\n",
    "    while current < end:\n",
    "        yield current\n",
    "        current += 1    "
   ]
  },
  {
   "cell_type": "code",
   "execution_count": 27,
   "id": "49425bcf",
   "metadata": {},
   "outputs": [
    {
     "name": "stdout",
     "output_type": "stream",
     "text": [
      "1\n",
      "2\n",
      "3\n",
      "4\n"
     ]
    }
   ],
   "source": [
    "nums = my_range(1, 10)\n",
    "print(next(nums))\n",
    "print(next(nums))\n",
    "print(next(nums))\n",
    "print(next(nums))"
   ]
  }
 ],
 "metadata": {
  "kernelspec": {
   "display_name": "Python 3 (ipykernel)",
   "language": "python",
   "name": "python3"
  },
  "language_info": {
   "codemirror_mode": {
    "name": "ipython",
    "version": 3
   },
   "file_extension": ".py",
   "mimetype": "text/x-python",
   "name": "python",
   "nbconvert_exporter": "python",
   "pygments_lexer": "ipython3",
   "version": "3.8.10"
  }
 },
 "nbformat": 4,
 "nbformat_minor": 5
}
