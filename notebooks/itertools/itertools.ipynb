{
 "cells": [
  {
   "cell_type": "markdown",
   "id": "93ca451f",
   "metadata": {},
   "source": [
    "## Itertools\n",
    "This notebook is based on a [youtube video](https://www.youtube.com/watch?v=Qu3dThVy6KQ)"
   ]
  },
  {
   "cell_type": "markdown",
   "id": "39039cb1",
   "metadata": {},
   "source": [
    "* itertools is a collection of tools that allows us to work with iterators in a fast and memory efficient way\n",
    "* iterators are sequential data that we can iterate or loop over\n",
    "* itertools module contains a number of commonly used iterators as well as functions to combine several iterators"
   ]
  },
  {
   "cell_type": "markdown",
   "id": "38b55d7c",
   "metadata": {},
   "source": [
    "### count\n",
    "* if no arguments passed, will start at 0 and count out by 1 each iteration and go on forever\n",
    "* we can pass arguments to define start value, with different step values\n",
    "* used for \n",
    "  + for a list of values, and want to assign index to them, if we do not know how many items we have\n",
    "* never run this, which will run forever, since counter will not stop:"
   ]
  },
  {
   "cell_type": "raw",
   "id": "fbfd3e2d",
   "metadata": {},
   "source": [
    "counter = itertools.count()\n",
    "\n",
    "for num in counter:\n",
    "    print(num)"
   ]
  },
  {
   "cell_type": "code",
   "execution_count": 70,
   "id": "3cb343c8",
   "metadata": {},
   "outputs": [
    {
     "name": "stdout",
     "output_type": "stream",
     "text": [
      "start and step at default\n",
      "0\n",
      "1\n",
      "2\n",
      "---------------------------\n",
      "start and step both at 5\n",
      "start and step at default\n",
      "5\n",
      "10\n",
      "15\n",
      "---------------------------\n",
      "start and step both at -2.5\n",
      "start and step at default\n",
      "5\n",
      "2.5\n",
      "0.0\n"
     ]
    }
   ],
   "source": [
    "import itertools\n",
    "counter = itertools.count()\n",
    "print(\"start and step at default\")\n",
    "print(next(counter))\n",
    "print(next(counter))\n",
    "print(next(counter))\n",
    "\n",
    "print(\"---------------------------\")\n",
    "print(\"start and step both at 5\")\n",
    "counter = itertools.count(start=5, step=5)\n",
    "print(\"start and step at default\")\n",
    "print(next(counter))\n",
    "print(next(counter))\n",
    "print(next(counter))\n",
    "\n",
    "print(\"---------------------------\")\n",
    "print(\"start and step both at -2.5\")\n",
    "counter = itertools.count(start=5, step=-2.5)\n",
    "print(\"start and step at default\")\n",
    "print(next(counter))\n",
    "print(next(counter))\n",
    "print(next(counter))"
   ]
  },
  {
   "cell_type": "code",
   "execution_count": 71,
   "id": "10fb01d8",
   "metadata": {},
   "outputs": [
    {
     "name": "stdout",
     "output_type": "stream",
     "text": [
      "-2.5\n",
      "-5.0\n",
      "-7.5\n"
     ]
    }
   ],
   "source": [
    "print(next(counter))\n",
    "print(next(counter))\n",
    "print(next(counter))"
   ]
  },
  {
   "cell_type": "markdown",
   "id": "bc540787",
   "metadata": {},
   "source": [
    "#### Code example of count: assing index to a list\n",
    "* use zip function, which combines two interables and pairs values together\n",
    "  + get the 1st value of count(), which is 0, and pairs with 1st value of data, which is 100, and so on\n",
    "  + zip function returns an iterable, which needs to loop over to get all the values\n",
    "    - we can convert the iterable from zip function to a list\n",
    "  + count function grabs each item in data list and can work with any size of data  "
   ]
  },
  {
   "cell_type": "code",
   "execution_count": 72,
   "id": "60e7f684",
   "metadata": {},
   "outputs": [
    {
     "data": {
      "text/plain": [
       "[(0, 100), (1, 200), (2, 300), (3, 400)]"
      ]
     },
     "execution_count": 72,
     "metadata": {},
     "output_type": "execute_result"
    }
   ],
   "source": [
    "# code example 1, assign index\n",
    "data = [100, 200, 300, 400]\n",
    "daily_data = list(zip(itertools.count(), data))\n",
    "daily_data"
   ]
  },
  {
   "cell_type": "markdown",
   "id": "878e9ceb",
   "metadata": {},
   "source": [
    "### zip_ongest\n",
    "* zip will stop at the end of the shortest input iterable, but zip_longest will stop at the longest input iterable\n",
    "* the default values to pair for shorter iterable is None\n",
    "* remember, the following code will never end, since count() will keep runnin forever:"
   ]
  },
  {
   "cell_type": "raw",
   "id": "670f3037",
   "metadata": {},
   "source": [
    "daily_data = list(zip_longest(itertools.count(), data))"
   ]
  },
  {
   "cell_type": "code",
   "execution_count": 73,
   "id": "be5cb694",
   "metadata": {},
   "outputs": [
    {
     "name": "stdout",
     "output_type": "stream",
     "text": [
      "using zip\n",
      "[(0, 100), (1, 200), (2, 300), (3, 400)]\n",
      "-------------------------------------\n",
      "using zip_longest with default argument\n",
      "[(0, 100), (1, 200), (2, 300), (3, 400), (4, None), (5, None), (6, None), (7, None), (8, None), (9, None)]\n"
     ]
    }
   ],
   "source": [
    "# compare zip and zip_longest\n",
    "data = [100, 200, 300, 400]\n",
    "daily_data = list(zip(range(10), data))\n",
    "print(\"using zip\")\n",
    "print(daily_data)\n",
    "print(\"-------------------------------------\")\n",
    "daily_data = list(itertools.zip_longest(range(10), data))\n",
    "print(\"using zip_longest with default argument\")\n",
    "print(daily_data)"
   ]
  },
  {
   "cell_type": "markdown",
   "id": "eb7890ee",
   "metadata": {},
   "source": [
    "### cycle\n",
    "* runs forever\n",
    "* takes an iterable as an argument and cycles through those values over and over"
   ]
  },
  {
   "cell_type": "code",
   "execution_count": 74,
   "id": "38c33764",
   "metadata": {},
   "outputs": [
    {
     "name": "stdout",
     "output_type": "stream",
     "text": [
      "1\n",
      "2\n",
      "3\n",
      "1\n",
      "2\n",
      "3\n"
     ]
    }
   ],
   "source": [
    "import itertools\n",
    "cycle = itertools.cycle([1, 2, 3])\n",
    "\n",
    "print(next(cycle))\n",
    "print(next(cycle))\n",
    "print(next(cycle))\n",
    "print(next(cycle))\n",
    "print(next(cycle))\n",
    "print(next(cycle))"
   ]
  },
  {
   "cell_type": "markdown",
   "id": "74dcbefe",
   "metadata": {},
   "source": [
    "### repeat\n",
    "* take some value and repeat indefinitely"
   ]
  },
  {
   "cell_type": "code",
   "execution_count": 75,
   "id": "cbc734b1",
   "metadata": {},
   "outputs": [
    {
     "name": "stdout",
     "output_type": "stream",
     "text": [
      "repeat with default times goes infinitely\n",
      "2\n",
      "2\n",
      "2\n",
      "2\n",
      "2\n",
      "2\n",
      "-------------------------------------\n",
      "repeat with repeat times defined as 3\n",
      "2\n",
      "2\n",
      "2\n"
     ]
    },
    {
     "ename": "StopIteration",
     "evalue": "",
     "output_type": "error",
     "traceback": [
      "\u001b[0;31m---------------------------------------------------------------------------\u001b[0m",
      "\u001b[0;31mStopIteration\u001b[0m                             Traceback (most recent call last)",
      "\u001b[0;32m/tmp/ipykernel_390425/1483727144.py\u001b[0m in \u001b[0;36m<module>\u001b[0;34m\u001b[0m\n\u001b[1;32m     15\u001b[0m \u001b[0mprint\u001b[0m\u001b[0;34m(\u001b[0m\u001b[0mnext\u001b[0m\u001b[0;34m(\u001b[0m\u001b[0mrepeat\u001b[0m\u001b[0;34m)\u001b[0m\u001b[0;34m)\u001b[0m\u001b[0;34m\u001b[0m\u001b[0;34m\u001b[0m\u001b[0m\n\u001b[1;32m     16\u001b[0m \u001b[0mprint\u001b[0m\u001b[0;34m(\u001b[0m\u001b[0mnext\u001b[0m\u001b[0;34m(\u001b[0m\u001b[0mrepeat\u001b[0m\u001b[0;34m)\u001b[0m\u001b[0;34m)\u001b[0m\u001b[0;34m\u001b[0m\u001b[0;34m\u001b[0m\u001b[0m\n\u001b[0;32m---> 17\u001b[0;31m \u001b[0mprint\u001b[0m\u001b[0;34m(\u001b[0m\u001b[0mnext\u001b[0m\u001b[0;34m(\u001b[0m\u001b[0mrepeat\u001b[0m\u001b[0;34m)\u001b[0m\u001b[0;34m)\u001b[0m\u001b[0;34m\u001b[0m\u001b[0;34m\u001b[0m\u001b[0m\n\u001b[0m\u001b[1;32m     18\u001b[0m \u001b[0mprint\u001b[0m\u001b[0;34m(\u001b[0m\u001b[0mnext\u001b[0m\u001b[0;34m(\u001b[0m\u001b[0mrepeat\u001b[0m\u001b[0;34m)\u001b[0m\u001b[0;34m)\u001b[0m\u001b[0;34m\u001b[0m\u001b[0;34m\u001b[0m\u001b[0m\n\u001b[1;32m     19\u001b[0m \u001b[0mprint\u001b[0m\u001b[0;34m(\u001b[0m\u001b[0mnext\u001b[0m\u001b[0;34m(\u001b[0m\u001b[0mrepeat\u001b[0m\u001b[0;34m)\u001b[0m\u001b[0;34m)\u001b[0m\u001b[0;34m\u001b[0m\u001b[0;34m\u001b[0m\u001b[0m\n",
      "\u001b[0;31mStopIteration\u001b[0m: "
     ]
    }
   ],
   "source": [
    "import itertools\n",
    "repeat = itertools.repeat(2)\n",
    "print(\"repeat with default times goes infinitely\")\n",
    "print(next(repeat))\n",
    "print(next(repeat))\n",
    "print(next(repeat))\n",
    "print(next(repeat))\n",
    "print(next(repeat))\n",
    "print(next(repeat))\n",
    "      \n",
    "print(\"-------------------------------------\")\n",
    "repeat = itertools.repeat(2, times=3)\n",
    "print(\"repeat with repeat times defined as 3\")\n",
    "print(next(repeat))\n",
    "print(next(repeat))\n",
    "print(next(repeat))\n",
    "print(next(repeat))\n",
    "print(next(repeat))\n",
    "print(next(repeat))"
   ]
  },
  {
   "cell_type": "markdown",
   "id": "9fd334e6",
   "metadata": {},
   "source": [
    "#### code example of repeat: apply parameters to map function\n",
    "* in the example, elements in range(10) and itertools.repeat(2) are paired and passed to pow by map\n",
    "* when the shorter iterable (range(10) is consumed, map function stops\n",
    "* map returns an iterable that wait for next() method, we can convert it to a list\n",
    "* repeat is usually used to pass a stream of constant values to a fucntion like map or zip"
   ]
  },
  {
   "cell_type": "code",
   "execution_count": 76,
   "id": "9b0602b0",
   "metadata": {},
   "outputs": [
    {
     "data": {
      "text/plain": [
       "[0, 1, 4, 9, 16, 25, 36, 49, 64, 81]"
      ]
     },
     "execution_count": 76,
     "metadata": {},
     "output_type": "execute_result"
    }
   ],
   "source": [
    "squares = map(pow, range(10), itertools.repeat(2))\n",
    "list(squares)"
   ]
  },
  {
   "cell_type": "markdown",
   "id": "0603d1ee",
   "metadata": {},
   "source": [
    "### starmap\n",
    "* similar to map \n",
    "* instead of taking arguments from iterables, it takes arguments from tuples with arguments paired together"
   ]
  },
  {
   "cell_type": "code",
   "execution_count": 77,
   "id": "d1f97e1b",
   "metadata": {},
   "outputs": [
    {
     "name": "stdout",
     "output_type": "stream",
     "text": [
      "[0, 1, 4]\n"
     ]
    }
   ],
   "source": [
    "squares = itertools.starmap(pow, [(0, 2), (1, 2), (2, 2)])\n",
    "print(list(squares))"
   ]
  },
  {
   "cell_type": "markdown",
   "id": "9f93eb3d",
   "metadata": {},
   "source": [
    "### functions to return combinations and permutations\n",
    "* gives the permutation/combination by using each value once\n",
    "* to generate results with repeated values from the input interable, use product\n",
    "  + product gives all the permutations of the input iterable including repeat use of the elements\n",
    "* to get combinations with repeated values, using combinations_with_replacement(iterable, number)\n",
    "  + `combinations_with_replacement([0, 1, 2, 3], 4)`"
   ]
  },
  {
   "cell_type": "code",
   "execution_count": 78,
   "id": "2999029f",
   "metadata": {},
   "outputs": [
    {
     "name": "stdout",
     "output_type": "stream",
     "text": [
      "('a', 'b')\n",
      "('a', 'c')\n",
      "('a', 'd')\n",
      "('b', 'c')\n",
      "('b', 'd')\n",
      "('c', 'd')\n"
     ]
    }
   ],
   "source": [
    "# combinations\n",
    "letters = ['a', 'b', 'c', 'd']\n",
    "numbers = [0, 1, 2, 3]\n",
    "names = ['Corey', 'Nicole']\n",
    "\n",
    "result = itertools.combinations(letters, 2)\n",
    "for item in result:\n",
    "    print(item)"
   ]
  },
  {
   "cell_type": "code",
   "execution_count": 79,
   "id": "cddb894e",
   "metadata": {},
   "outputs": [
    {
     "name": "stdout",
     "output_type": "stream",
     "text": [
      "('a', 'b')\n",
      "('a', 'c')\n",
      "('a', 'd')\n",
      "('b', 'a')\n",
      "('b', 'c')\n",
      "('b', 'd')\n",
      "('c', 'a')\n",
      "('c', 'b')\n",
      "('c', 'd')\n",
      "('d', 'a')\n",
      "('d', 'b')\n",
      "('d', 'c')\n"
     ]
    }
   ],
   "source": [
    "#permutations\n",
    "result = itertools.permutations(letters, 2)\n",
    "for item in result:\n",
    "    print(item)"
   ]
  },
  {
   "cell_type": "code",
   "execution_count": 80,
   "id": "6eababdb",
   "metadata": {},
   "outputs": [
    {
     "name": "stdout",
     "output_type": "stream",
     "text": [
      "(0, 0, 0, 0)\n",
      "(0, 0, 0, 1)\n",
      "(0, 0, 0, 2)\n",
      "(0, 0, 0, 3)\n",
      "(0, 0, 1, 0)\n",
      "(0, 0, 1, 1)\n",
      "(0, 0, 1, 2)\n",
      "(0, 0, 1, 3)\n",
      "(0, 0, 2, 0)\n",
      "(0, 0, 2, 1)\n",
      "(0, 0, 2, 2)\n",
      "(0, 0, 2, 3)\n",
      "(0, 0, 3, 0)\n",
      "(0, 0, 3, 1)\n",
      "(0, 0, 3, 2)\n",
      "(0, 0, 3, 3)\n",
      "(0, 1, 0, 0)\n",
      "(0, 1, 0, 1)\n",
      "(0, 1, 0, 2)\n",
      "(0, 1, 0, 3)\n",
      "(0, 1, 1, 0)\n",
      "(0, 1, 1, 1)\n",
      "(0, 1, 1, 2)\n",
      "(0, 1, 1, 3)\n",
      "(0, 1, 2, 0)\n",
      "(0, 1, 2, 1)\n",
      "(0, 1, 2, 2)\n",
      "(0, 1, 2, 3)\n",
      "(0, 1, 3, 0)\n",
      "(0, 1, 3, 1)\n",
      "(0, 1, 3, 2)\n",
      "(0, 1, 3, 3)\n",
      "(0, 2, 0, 0)\n",
      "(0, 2, 0, 1)\n",
      "(0, 2, 0, 2)\n",
      "(0, 2, 0, 3)\n",
      "(0, 2, 1, 0)\n",
      "(0, 2, 1, 1)\n",
      "(0, 2, 1, 2)\n",
      "(0, 2, 1, 3)\n",
      "(0, 2, 2, 0)\n",
      "(0, 2, 2, 1)\n",
      "(0, 2, 2, 2)\n",
      "(0, 2, 2, 3)\n",
      "(0, 2, 3, 0)\n",
      "(0, 2, 3, 1)\n",
      "(0, 2, 3, 2)\n",
      "(0, 2, 3, 3)\n",
      "(0, 3, 0, 0)\n",
      "(0, 3, 0, 1)\n",
      "(0, 3, 0, 2)\n",
      "(0, 3, 0, 3)\n",
      "(0, 3, 1, 0)\n",
      "(0, 3, 1, 1)\n",
      "(0, 3, 1, 2)\n",
      "(0, 3, 1, 3)\n",
      "(0, 3, 2, 0)\n",
      "(0, 3, 2, 1)\n",
      "(0, 3, 2, 2)\n",
      "(0, 3, 2, 3)\n",
      "(0, 3, 3, 0)\n",
      "(0, 3, 3, 1)\n",
      "(0, 3, 3, 2)\n",
      "(0, 3, 3, 3)\n",
      "(1, 0, 0, 0)\n",
      "(1, 0, 0, 1)\n",
      "(1, 0, 0, 2)\n",
      "(1, 0, 0, 3)\n",
      "(1, 0, 1, 0)\n",
      "(1, 0, 1, 1)\n",
      "(1, 0, 1, 2)\n",
      "(1, 0, 1, 3)\n",
      "(1, 0, 2, 0)\n",
      "(1, 0, 2, 1)\n",
      "(1, 0, 2, 2)\n",
      "(1, 0, 2, 3)\n",
      "(1, 0, 3, 0)\n",
      "(1, 0, 3, 1)\n",
      "(1, 0, 3, 2)\n",
      "(1, 0, 3, 3)\n",
      "(1, 1, 0, 0)\n",
      "(1, 1, 0, 1)\n",
      "(1, 1, 0, 2)\n",
      "(1, 1, 0, 3)\n",
      "(1, 1, 1, 0)\n",
      "(1, 1, 1, 1)\n",
      "(1, 1, 1, 2)\n",
      "(1, 1, 1, 3)\n",
      "(1, 1, 2, 0)\n",
      "(1, 1, 2, 1)\n",
      "(1, 1, 2, 2)\n",
      "(1, 1, 2, 3)\n",
      "(1, 1, 3, 0)\n",
      "(1, 1, 3, 1)\n",
      "(1, 1, 3, 2)\n",
      "(1, 1, 3, 3)\n",
      "(1, 2, 0, 0)\n",
      "(1, 2, 0, 1)\n",
      "(1, 2, 0, 2)\n",
      "(1, 2, 0, 3)\n",
      "(1, 2, 1, 0)\n",
      "(1, 2, 1, 1)\n",
      "(1, 2, 1, 2)\n",
      "(1, 2, 1, 3)\n",
      "(1, 2, 2, 0)\n",
      "(1, 2, 2, 1)\n",
      "(1, 2, 2, 2)\n",
      "(1, 2, 2, 3)\n",
      "(1, 2, 3, 0)\n",
      "(1, 2, 3, 1)\n",
      "(1, 2, 3, 2)\n",
      "(1, 2, 3, 3)\n",
      "(1, 3, 0, 0)\n",
      "(1, 3, 0, 1)\n",
      "(1, 3, 0, 2)\n",
      "(1, 3, 0, 3)\n",
      "(1, 3, 1, 0)\n",
      "(1, 3, 1, 1)\n",
      "(1, 3, 1, 2)\n",
      "(1, 3, 1, 3)\n",
      "(1, 3, 2, 0)\n",
      "(1, 3, 2, 1)\n",
      "(1, 3, 2, 2)\n",
      "(1, 3, 2, 3)\n",
      "(1, 3, 3, 0)\n",
      "(1, 3, 3, 1)\n",
      "(1, 3, 3, 2)\n",
      "(1, 3, 3, 3)\n",
      "(2, 0, 0, 0)\n",
      "(2, 0, 0, 1)\n",
      "(2, 0, 0, 2)\n",
      "(2, 0, 0, 3)\n",
      "(2, 0, 1, 0)\n",
      "(2, 0, 1, 1)\n",
      "(2, 0, 1, 2)\n",
      "(2, 0, 1, 3)\n",
      "(2, 0, 2, 0)\n",
      "(2, 0, 2, 1)\n",
      "(2, 0, 2, 2)\n",
      "(2, 0, 2, 3)\n",
      "(2, 0, 3, 0)\n",
      "(2, 0, 3, 1)\n",
      "(2, 0, 3, 2)\n",
      "(2, 0, 3, 3)\n",
      "(2, 1, 0, 0)\n",
      "(2, 1, 0, 1)\n",
      "(2, 1, 0, 2)\n",
      "(2, 1, 0, 3)\n",
      "(2, 1, 1, 0)\n",
      "(2, 1, 1, 1)\n",
      "(2, 1, 1, 2)\n",
      "(2, 1, 1, 3)\n",
      "(2, 1, 2, 0)\n",
      "(2, 1, 2, 1)\n",
      "(2, 1, 2, 2)\n",
      "(2, 1, 2, 3)\n",
      "(2, 1, 3, 0)\n",
      "(2, 1, 3, 1)\n",
      "(2, 1, 3, 2)\n",
      "(2, 1, 3, 3)\n",
      "(2, 2, 0, 0)\n",
      "(2, 2, 0, 1)\n",
      "(2, 2, 0, 2)\n",
      "(2, 2, 0, 3)\n",
      "(2, 2, 1, 0)\n",
      "(2, 2, 1, 1)\n",
      "(2, 2, 1, 2)\n",
      "(2, 2, 1, 3)\n",
      "(2, 2, 2, 0)\n",
      "(2, 2, 2, 1)\n",
      "(2, 2, 2, 2)\n",
      "(2, 2, 2, 3)\n",
      "(2, 2, 3, 0)\n",
      "(2, 2, 3, 1)\n",
      "(2, 2, 3, 2)\n",
      "(2, 2, 3, 3)\n",
      "(2, 3, 0, 0)\n",
      "(2, 3, 0, 1)\n",
      "(2, 3, 0, 2)\n",
      "(2, 3, 0, 3)\n",
      "(2, 3, 1, 0)\n",
      "(2, 3, 1, 1)\n",
      "(2, 3, 1, 2)\n",
      "(2, 3, 1, 3)\n",
      "(2, 3, 2, 0)\n",
      "(2, 3, 2, 1)\n",
      "(2, 3, 2, 2)\n",
      "(2, 3, 2, 3)\n",
      "(2, 3, 3, 0)\n",
      "(2, 3, 3, 1)\n",
      "(2, 3, 3, 2)\n",
      "(2, 3, 3, 3)\n",
      "(3, 0, 0, 0)\n",
      "(3, 0, 0, 1)\n",
      "(3, 0, 0, 2)\n",
      "(3, 0, 0, 3)\n",
      "(3, 0, 1, 0)\n",
      "(3, 0, 1, 1)\n",
      "(3, 0, 1, 2)\n",
      "(3, 0, 1, 3)\n",
      "(3, 0, 2, 0)\n",
      "(3, 0, 2, 1)\n",
      "(3, 0, 2, 2)\n",
      "(3, 0, 2, 3)\n",
      "(3, 0, 3, 0)\n",
      "(3, 0, 3, 1)\n",
      "(3, 0, 3, 2)\n",
      "(3, 0, 3, 3)\n",
      "(3, 1, 0, 0)\n",
      "(3, 1, 0, 1)\n",
      "(3, 1, 0, 2)\n",
      "(3, 1, 0, 3)\n",
      "(3, 1, 1, 0)\n",
      "(3, 1, 1, 1)\n",
      "(3, 1, 1, 2)\n",
      "(3, 1, 1, 3)\n",
      "(3, 1, 2, 0)\n",
      "(3, 1, 2, 1)\n",
      "(3, 1, 2, 2)\n",
      "(3, 1, 2, 3)\n",
      "(3, 1, 3, 0)\n",
      "(3, 1, 3, 1)\n",
      "(3, 1, 3, 2)\n",
      "(3, 1, 3, 3)\n",
      "(3, 2, 0, 0)\n",
      "(3, 2, 0, 1)\n",
      "(3, 2, 0, 2)\n",
      "(3, 2, 0, 3)\n",
      "(3, 2, 1, 0)\n",
      "(3, 2, 1, 1)\n",
      "(3, 2, 1, 2)\n",
      "(3, 2, 1, 3)\n",
      "(3, 2, 2, 0)\n",
      "(3, 2, 2, 1)\n",
      "(3, 2, 2, 2)\n",
      "(3, 2, 2, 3)\n",
      "(3, 2, 3, 0)\n",
      "(3, 2, 3, 1)\n",
      "(3, 2, 3, 2)\n",
      "(3, 2, 3, 3)\n",
      "(3, 3, 0, 0)\n",
      "(3, 3, 0, 1)\n",
      "(3, 3, 0, 2)\n",
      "(3, 3, 0, 3)\n",
      "(3, 3, 1, 0)\n",
      "(3, 3, 1, 1)\n",
      "(3, 3, 1, 2)\n",
      "(3, 3, 1, 3)\n",
      "(3, 3, 2, 0)\n",
      "(3, 3, 2, 1)\n",
      "(3, 3, 2, 2)\n",
      "(3, 3, 2, 3)\n",
      "(3, 3, 3, 0)\n",
      "(3, 3, 3, 1)\n",
      "(3, 3, 3, 2)\n",
      "(3, 3, 3, 3)\n"
     ]
    }
   ],
   "source": [
    "# products\n",
    "result = itertools.product(numbers, repeat=4)\n",
    "for item in result:\n",
    "    print(item)"
   ]
  },
  {
   "cell_type": "code",
   "execution_count": 81,
   "id": "bdbb6b5f",
   "metadata": {},
   "outputs": [
    {
     "name": "stdout",
     "output_type": "stream",
     "text": [
      "(0, 0, 0, 0)\n",
      "(0, 0, 0, 1)\n",
      "(0, 0, 0, 2)\n",
      "(0, 0, 0, 3)\n",
      "(0, 0, 1, 1)\n",
      "(0, 0, 1, 2)\n",
      "(0, 0, 1, 3)\n",
      "(0, 0, 2, 2)\n",
      "(0, 0, 2, 3)\n",
      "(0, 0, 3, 3)\n",
      "(0, 1, 1, 1)\n",
      "(0, 1, 1, 2)\n",
      "(0, 1, 1, 3)\n",
      "(0, 1, 2, 2)\n",
      "(0, 1, 2, 3)\n",
      "(0, 1, 3, 3)\n",
      "(0, 2, 2, 2)\n",
      "(0, 2, 2, 3)\n",
      "(0, 2, 3, 3)\n",
      "(0, 3, 3, 3)\n",
      "(1, 1, 1, 1)\n",
      "(1, 1, 1, 2)\n",
      "(1, 1, 1, 3)\n",
      "(1, 1, 2, 2)\n",
      "(1, 1, 2, 3)\n",
      "(1, 1, 3, 3)\n",
      "(1, 2, 2, 2)\n",
      "(1, 2, 2, 3)\n",
      "(1, 2, 3, 3)\n",
      "(1, 3, 3, 3)\n",
      "(2, 2, 2, 2)\n",
      "(2, 2, 2, 3)\n",
      "(2, 2, 3, 3)\n",
      "(2, 3, 3, 3)\n",
      "(3, 3, 3, 3)\n"
     ]
    }
   ],
   "source": [
    "# combinations_with_replacement\n",
    "result = itertools.combinations_with_replacement(numbers, 4)\n",
    "for item in result:\n",
    "    print(item)"
   ]
  },
  {
   "cell_type": "markdown",
   "id": "0e17068d",
   "metadata": {},
   "source": [
    "### chain\n",
    "* chain allows us to chain together iterables so that it will go through all items in each iterables\n",
    "  + we can combine all the iterables as one and iterate it\n",
    "    - this solution creates a big list in memory\n",
    "      + if the list contains a lot of items, it would be inefficient to generate a new list\n",
    "      + what if the iterables are generators and we can't loop over all at once"
   ]
  },
  {
   "cell_type": "markdown",
   "id": "8419596c",
   "metadata": {},
   "source": [
    "#### code example of chain\n",
    "we have three iterables: letters, numbers and names. Instead of concatenate them together using\n",
    "\n",
    "`combined = letters + numbers + names`, we use\n",
    "\n",
    "`combined = itertools.chain(letters, numbers, names)`\n",
    "This can be very efficient depending on your data"
   ]
  },
  {
   "cell_type": "raw",
   "id": "91849fd6",
   "metadata": {},
   "source": [
    "letters = ['a', 'b', 'c', 'd']\n",
    "numbers = [0, 1, 2, 3]\n",
    "names = ['Corey', 'Nicole']"
   ]
  },
  {
   "cell_type": "code",
   "execution_count": 82,
   "id": "237b36d8",
   "metadata": {},
   "outputs": [
    {
     "name": "stdout",
     "output_type": "stream",
     "text": [
      "a\n",
      "b\n",
      "c\n",
      "d\n",
      "0\n",
      "1\n",
      "2\n",
      "3\n",
      "Corey\n",
      "Nicole\n"
     ]
    }
   ],
   "source": [
    "# example code for chain\n",
    "letters = ['a', 'b', 'c', 'd']\n",
    "numbers = [0, 1, 2, 3]\n",
    "names = ['Corey', 'Nicole']\n",
    "\n",
    "combined = itertools.chain(letters, numbers, names)\n",
    "\n",
    "for item in combined:\n",
    "    print(item)"
   ]
  },
  {
   "cell_type": "markdown",
   "id": "2c674bde",
   "metadata": {},
   "source": [
    "### islice\n",
    "* allows us to get a slice of an iterator\n",
    "  + slicing on an iterator\n",
    "* three different arguments:\n",
    "  + stopping point to go from beginning of an iterator until it hits the stopping point\n",
    "    - to slice a range from 0-9 and stop at index of 5\n",
    "      `result = itertools.islice(range(10), 5)` \n",
    "  + starting point (if there is only one argument, it is the stopping point)\n",
    "    - to slice a range from 0-9, start and stop at index of 1 and 5\n",
    "      `result = itertools.islice(range(10), 1, 5)` \n",
    "  + step (if there is only one argument, it is the stopping point)\n",
    "    - to slice a range from 0-9, start and stop at index of 1 and 5 with step of 2\n",
    "      `result = itertools.islice(range(10), 1, 5, 2)` "
   ]
  },
  {
   "cell_type": "code",
   "execution_count": 83,
   "id": "a1db84ce",
   "metadata": {},
   "outputs": [
    {
     "name": "stdout",
     "output_type": "stream",
     "text": [
      "0\n",
      "1\n",
      "2\n",
      "3\n",
      "4\n"
     ]
    }
   ],
   "source": [
    "# using stopping point (stop at the 5th (index) element)\n",
    "result = itertools.islice(range(10), 5)\n",
    "for item in result:\n",
    "    print(item)"
   ]
  },
  {
   "cell_type": "code",
   "execution_count": 84,
   "id": "926d3a86",
   "metadata": {},
   "outputs": [
    {
     "name": "stdout",
     "output_type": "stream",
     "text": [
      "1\n",
      "2\n",
      "3\n",
      "4\n"
     ]
    }
   ],
   "source": [
    "# using stopping point (stop at the 5th (index) element)\n",
    "result = itertools.islice(range(10), 1, 5)\n",
    "for item in result:\n",
    "    print(item)"
   ]
  },
  {
   "cell_type": "markdown",
   "id": "aef5ba6a",
   "metadata": {},
   "source": [
    "#### When islice is useful \n",
    "* when we have a iterator that is too large to put into memory by casting it to a list to get a slice\n",
    "* a log file with thousands of lines but only want to grab the top few lines from header of the file\n",
    "  + file itself is an iterator. each next() will return one line\n",
    "  + this is useful if we are looping over tons of large files and only getting just few lines\n",
    "    - this allows us to get these values without loading the entire contents of file into memory"
   ]
  },
  {
   "cell_type": "code",
   "execution_count": 85,
   "id": "07042792",
   "metadata": {},
   "outputs": [
    {
     "name": "stdout",
     "output_type": "stream",
     "text": [
      "Date: 2018-11-08\n",
      "Author: Corey\n",
      "Description: This is a sample log file\n"
     ]
    }
   ],
   "source": [
    "# Example code of islice for reading a log file\n",
    "with open('test.log', 'r') as f:\n",
    "    # here 3 is the only argument as the stopping point\n",
    "    header = itertools.islice(f, 3)\n",
    "    \n",
    "    for line in header:\n",
    "        print(line, end=\"\")"
   ]
  },
  {
   "cell_type": "markdown",
   "id": "1dea6858",
   "metadata": {},
   "source": [
    "## functions that allow us to select elements from an iterable\n",
    "* ### compress \n",
    "  + you have data and selectors to filter down the data\n",
    "    - a True/False list corresponds to my letter list\n",
    "* different from filter function, where a True/False value is return by a function\n",
    "  + True/False values in compress is passed as an iterable\n",
    "* itertools also provide filter_false to return element evaluated as False (complement to filter)  "
   ]
  },
  {
   "cell_type": "markdown",
   "id": "ac4d500a",
   "metadata": {},
   "source": [
    "Code example using compress"
   ]
  },
  {
   "cell_type": "code",
   "execution_count": 86,
   "id": "cf712fa8",
   "metadata": {},
   "outputs": [
    {
     "name": "stdout",
     "output_type": "stream",
     "text": [
      "a\n",
      "b\n",
      "d\n"
     ]
    }
   ],
   "source": [
    "# Code example for compress\n",
    "# letter list\n",
    "letters = ['a', 'b', 'c', 'd']\n",
    "# another column of data that\n",
    "selectors = [True, True, False, True ]\n",
    "\n",
    "# obtain an iterable only containing elements with True at positions defined by selectors\n",
    "result = itertools.compress(letters, selectors)\n",
    "for item in result:\n",
    "    print(item)"
   ]
  },
  {
   "cell_type": "markdown",
   "id": "bdcf0d82",
   "metadata": {},
   "source": [
    "Code example with filter"
   ]
  },
  {
   "cell_type": "code",
   "execution_count": 87,
   "id": "c3f0488a",
   "metadata": {},
   "outputs": [
    {
     "name": "stdout",
     "output_type": "stream",
     "text": [
      "0\n",
      "1\n"
     ]
    }
   ],
   "source": [
    "numbers = [0, 1, 2, 3]\n",
    "\n",
    "# define a filter function\n",
    "def lt_2(n):\n",
    "    if n < 2:\n",
    "        return True\n",
    "    return False\n",
    "\n",
    "result = filter(lt_2, numbers)\n",
    "\n",
    "for item in result:\n",
    "    print(item)"
   ]
  },
  {
   "cell_type": "markdown",
   "id": "c4d719f5",
   "metadata": {},
   "source": [
    "Code example with filterfalse in itertools"
   ]
  },
  {
   "cell_type": "code",
   "execution_count": 88,
   "id": "3d081f23",
   "metadata": {},
   "outputs": [
    {
     "name": "stdout",
     "output_type": "stream",
     "text": [
      "2\n",
      "3\n"
     ]
    }
   ],
   "source": [
    "import itertools\n",
    "\n",
    "numbers = [0, 1, 2, 3]\n",
    "\n",
    "# define a filter function\n",
    "def lt_2(n):\n",
    "    if n < 2:\n",
    "        return True\n",
    "    return False\n",
    "\n",
    "result = itertools.filterfalse(lt_2, numbers)\n",
    "\n",
    "for item in result:\n",
    "    print(item)"
   ]
  },
  {
   "cell_type": "markdown",
   "id": "a2581a1b",
   "metadata": {},
   "source": [
    "### dropwhile\n",
    "* drop values from an iterable until one of the values returns False\n",
    "  + it drops the first few elements that evaluated as True\n",
    "  + once there is a value evaluated as False, from that point, the filter dose not apply, the rest of iterable is returned "
   ]
  },
  {
   "cell_type": "markdown",
   "id": "63c57d02",
   "metadata": {},
   "source": [
    "Code example of dropwhile\n",
    "* even though the last two elements (1 and 0) are evaluated as True by lt_2, they are still returned by dropwhile"
   ]
  },
  {
   "cell_type": "code",
   "execution_count": 89,
   "id": "b5439790",
   "metadata": {},
   "outputs": [
    {
     "name": "stdout",
     "output_type": "stream",
     "text": [
      "2\n",
      "3\n",
      "2\n",
      "1\n",
      "0\n"
     ]
    }
   ],
   "source": [
    "import itertools\n",
    "\n",
    "numbers = [0, 1, 2, 3, 2, 1, 0]\n",
    "\n",
    "# define a filter function\n",
    "def lt_2(n):\n",
    "    if n < 2:\n",
    "        return True\n",
    "    return False\n",
    "\n",
    "result = itertools.dropwhile(lt_2, numbers)\n",
    "\n",
    "for item in result:\n",
    "    print(item)"
   ]
  },
  {
   "cell_type": "markdown",
   "id": "881a07dc",
   "metadata": {},
   "source": [
    "### takepwhile\n",
    "* take values from an iterable until one of the values returns False\n",
    "  + it takes the first few elements that evaluated as True\n",
    "  + once there is a value evaluated as False, from that point, the filter dose not apply, the rest of iterable is ignored "
   ]
  },
  {
   "cell_type": "code",
   "execution_count": 90,
   "id": "377a77a4",
   "metadata": {},
   "outputs": [
    {
     "name": "stdout",
     "output_type": "stream",
     "text": [
      "0\n",
      "1\n"
     ]
    }
   ],
   "source": [
    "import itertools\n",
    "\n",
    "numbers = [0, 1, 2, 3, 2, 1, 0]\n",
    "\n",
    "# define a filter function\n",
    "def lt_2(n):\n",
    "    if n < 2:\n",
    "        return True\n",
    "    return False\n",
    "\n",
    "result = itertools.takewhile(lt_2, numbers)\n",
    "\n",
    "for item in result:\n",
    "    print(item)"
   ]
  },
  {
   "cell_type": "markdown",
   "id": "9bfa56c3",
   "metadata": {},
   "source": [
    "### accumulate\n",
    "* takes an iterable and return accumulated sums it sees\n",
    "  + keep using addition by default\n",
    "  + you can use other functions\n",
    "    - multiply"
   ]
  },
  {
   "cell_type": "markdown",
   "id": "399c99c6",
   "metadata": {},
   "source": [
    "Code example of accumulate"
   ]
  },
  {
   "cell_type": "code",
   "execution_count": 91,
   "id": "1af24007",
   "metadata": {},
   "outputs": [
    {
     "name": "stdout",
     "output_type": "stream",
     "text": [
      "0\n",
      "1\n",
      "3\n",
      "6\n",
      "8\n",
      "9\n",
      "9\n"
     ]
    }
   ],
   "source": [
    "import itertools\n",
    "\n",
    "numbers = [0, 1, 2, 3, 2, 1, 0]\n",
    "\n",
    "result = itertools.accumulate(numbers)\n",
    "\n",
    "for item in result:\n",
    "    print(item)"
   ]
  },
  {
   "cell_type": "code",
   "execution_count": 92,
   "id": "3ee30221",
   "metadata": {},
   "outputs": [
    {
     "name": "stdout",
     "output_type": "stream",
     "text": [
      "1\n",
      "2\n",
      "6\n",
      "12\n",
      "12\n",
      "0\n"
     ]
    }
   ],
   "source": [
    "# to use other function rather than addition, import operator and apply the operator\n",
    "# here we use mutiply\n",
    "import itertools\n",
    "import operator\n",
    "\n",
    "numbers = [1, 2, 3, 2, 1, 0]\n",
    "\n",
    "result = itertools.accumulate(numbers, operator.mul)\n",
    "\n",
    "for item in result:\n",
    "    print(item)"
   ]
  },
  {
   "cell_type": "markdown",
   "id": "c9d6a5b3",
   "metadata": {},
   "source": [
    "### groupby\n",
    "* go through an iterable, and group values based on a certain key and returns a stream of tuples\n",
    "  + the tuples consist of key and an iterable containing all element grouped by that key"
   ]
  },
  {
   "cell_type": "markdown",
   "id": "7be98876",
   "metadata": {},
   "source": [
    "Example code of groupby\n",
    "* the following list (people) will be used in example code (https://github.com/CoreyMSchafer/code_snippets/blob/master/Python/Itertools/snippets.txt)\n",
    "* the list consists of dictionary elements. Each dictionary contains name, city and state entries\n",
    "* we can group all the elements from the same state by groupby\n",
    "  + first, we need to define a function that tells groupby which key we are going to use\n",
    "    - this function returns the key from an item of the iterable\n",
    "    - in this code example, we define the function as get_state(person) where person refers to an item\n",
    "  + we then use groupby(iterable, get_state) to group the elements\n",
    "  + groupby will feed each element to get_state function from iterable\n",
    "  + the returned result is a dictionary \n",
    "    - with key as the state for a group \n",
    "    - an iterable containing all elements of that group as value  "
   ]
  },
  {
   "cell_type": "code",
   "execution_count": 93,
   "id": "62029e36",
   "metadata": {},
   "outputs": [
    {
     "name": "stdout",
     "output_type": "stream",
     "text": [
      "NY\n",
      "<itertools._grouper object at 0x7fc2942de7c0>\n",
      "CO\n",
      "<itertools._grouper object at 0x7fc2942d9460>\n",
      "WV\n",
      "<itertools._grouper object at 0x7fc2942d93a0>\n",
      "NC\n",
      "<itertools._grouper object at 0x7fc2942d9ac0>\n"
     ]
    }
   ],
   "source": [
    "import itertools\n",
    "\n",
    "def get_state(person):\n",
    "    return person['state']\n",
    "\n",
    "people = [\n",
    "    {\n",
    "        'name': 'John Doe',\n",
    "        'city': 'Gotham',\n",
    "        'state': 'NY'\n",
    "    },\n",
    "    {\n",
    "        'name': 'Jane Doe',\n",
    "        'city': 'Kings Landing',\n",
    "        'state': 'NY'\n",
    "    },\n",
    "    {\n",
    "        'name': 'Corey Schafer',\n",
    "        'city': 'Boulder',\n",
    "        'state': 'CO'\n",
    "    },\n",
    "    {\n",
    "        'name': 'Al Einstein',\n",
    "        'city': 'Denver',\n",
    "        'state': 'CO'\n",
    "    },\n",
    "    {\n",
    "        'name': 'John Henry',\n",
    "        'city': 'Hinton',\n",
    "        'state': 'WV'\n",
    "    },\n",
    "    {\n",
    "        'name': 'Randy Moss',\n",
    "        'city': 'Rand',\n",
    "        'state': 'WV'\n",
    "    },\n",
    "    {\n",
    "        'name': 'Nicole K',\n",
    "        'city': 'Asheville',\n",
    "        'state': 'NC'\n",
    "    },\n",
    "    {\n",
    "        'name': 'Jim Doe',\n",
    "        'city': 'Charlotte',\n",
    "        'state': 'NC'\n",
    "    },\n",
    "    {\n",
    "        'name': 'Jane Taylor',\n",
    "        'city': 'Faketown',\n",
    "        'state': 'NC'\n",
    "    }\n",
    "]\n",
    "\n",
    "person_group = itertools.groupby(people, get_state)\n",
    "\n",
    "for key, group in person_group:\n",
    "    print(key)\n",
    "    print(group)"
   ]
  },
  {
   "cell_type": "code",
   "execution_count": 94,
   "id": "49110c79",
   "metadata": {},
   "outputs": [
    {
     "name": "stdout",
     "output_type": "stream",
     "text": [
      "NY\n",
      "{'name': 'John Doe', 'city': 'Gotham', 'state': 'NY'}\n",
      "{'name': 'Jane Doe', 'city': 'Kings Landing', 'state': 'NY'}\n",
      "\n",
      "CO\n",
      "{'name': 'Corey Schafer', 'city': 'Boulder', 'state': 'CO'}\n",
      "{'name': 'Al Einstein', 'city': 'Denver', 'state': 'CO'}\n",
      "\n",
      "WV\n",
      "{'name': 'John Henry', 'city': 'Hinton', 'state': 'WV'}\n",
      "{'name': 'Randy Moss', 'city': 'Rand', 'state': 'WV'}\n",
      "\n",
      "NC\n",
      "{'name': 'Nicole K', 'city': 'Asheville', 'state': 'NC'}\n",
      "{'name': 'Jim Doe', 'city': 'Charlotte', 'state': 'NC'}\n",
      "{'name': 'Jane Taylor', 'city': 'Faketown', 'state': 'NC'}\n",
      "\n"
     ]
    }
   ],
   "source": [
    "person_group = itertools.groupby(people, get_state)\n",
    "\n",
    "for key, group in person_group:\n",
    "    print(key)\n",
    "    for person in group:\n",
    "        print(person)\n",
    "    print()    "
   ]
  },
  {
   "cell_type": "markdown",
   "id": "a9f88934",
   "metadata": {},
   "source": [
    "### Tee to replicate a iterable"
   ]
  },
  {
   "cell_type": "markdown",
   "id": "321a381a",
   "metadata": {},
   "source": [
    "* copy an iterable to other copies\n",
    "* should not use the original iterable any more, should just use the copies\n",
    "  + otherwise, it would have unintended consequece of exhausting the items in the replicates"
   ]
  },
  {
   "cell_type": "code",
   "execution_count": 69,
   "id": "ba242632",
   "metadata": {},
   "outputs": [],
   "source": [
    "person_group = itertools.groupby(people, get_state)\n",
    "copy1, copy2 = itertools.tee(person_group)"
   ]
  }
 ],
 "metadata": {
  "kernelspec": {
   "display_name": "Python 3 (ipykernel)",
   "language": "python",
   "name": "python3"
  },
  "language_info": {
   "codemirror_mode": {
    "name": "ipython",
    "version": 3
   },
   "file_extension": ".py",
   "mimetype": "text/x-python",
   "name": "python",
   "nbconvert_exporter": "python",
   "pygments_lexer": "ipython3",
   "version": "3.8.10"
  }
 },
 "nbformat": 4,
 "nbformat_minor": 5
}
