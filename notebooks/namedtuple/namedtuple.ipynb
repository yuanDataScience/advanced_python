{
 "cells": [
  {
   "cell_type": "markdown",
   "id": "5351248b",
   "metadata": {},
   "source": [
    "## namedtuple\n",
    "this notebook is based on a [youtube video](https://www.youtube.com/watch?v=GfxJYp9_nJA)\n",
    "A namedtuple is \n",
    "* a lightweight object works like a regular tuple\n",
    "* more readable than regular tuple"
   ]
  },
  {
   "cell_type": "markdown",
   "id": "fac436f2",
   "metadata": {},
   "source": [
    "### regular tuples\n",
    "example of a regular tuple:\n",
    "we want to represent a RGB color object, we can use a regular tuple:\n",
    "```python\n",
    "color = (55, 155, 255)\n",
    "```\n",
    "where 55, 155 and 255 represents the red, green and blue components, respectively.\n",
    "\n",
    "If we want to print the red, green or blue component, we have to memorize the index of these components in the color object. For example we can print the red value by\n",
    "```python\n",
    "print(color[0])\n",
    "```\n",
    "Here, we have to use the index 0 of the red component. \n",
    "The code itself does not tell us anything about components of color objects, and which index represents which color component. \n",
    "\n",
    "### dictionary\n",
    "we can certainly make color objects more readable by using dictionary\n",
    "\n",
    "example of a dictionary\n",
    "```python\n",
    "color = {'red': 55, 'green': 155, 'blue': 255}\n",
    "print(color['red'])\n",
    "```\n",
    "### why not use dictionary?\n",
    "* we may choose tuple because it is immutable and we don't want to change its values\n",
    "* dictionary requires to type key and value pairs for each object\n",
    "* a namedtuple is a compromise between readablility of dictionary and the funtionality of tuple\n",
    "\n",
    "### how to use namedtuple\n",
    "* import namedtuple module by\n",
    "  + from collections import namedtuple\n",
    "* create a namedtuple \n",
    "  + namedtuple name ('Color') = namedtuple(namedtuple name ('Color'), a list of attribute names)\n",
    "  + ```python\n",
    "   Color = namedtuple('Color', ['red', 'green', 'blue'])\n",
    "   ```\n",
    "* use namedtupe\n",
    "  + ```python\n",
    "    color = Color(55, 155, 255)\n",
    "    ```"
   ]
  },
  {
   "cell_type": "code",
   "execution_count": 10,
   "id": "b59ef51d",
   "metadata": {},
   "outputs": [
    {
     "name": "stdout",
     "output_type": "stream",
     "text": [
      "55\n",
      "55\n"
     ]
    }
   ],
   "source": [
    "# namedtupe code\n",
    "from collections import namedtuple\n",
    "\n",
    "Color = namedtuple('Color', ['red', 'green', 'blue'])\n",
    "color = Color(55, 155, 255)\n",
    "\n",
    "# retrieve attribute by either index or name\n",
    "print(color.red)\n",
    "print(color[0])"
   ]
  },
  {
   "cell_type": "code",
   "execution_count": null,
   "id": "ead4288b",
   "metadata": {},
   "outputs": [],
   "source": []
  }
 ],
 "metadata": {
  "kernelspec": {
   "display_name": "Python 3 (ipykernel)",
   "language": "python",
   "name": "python3"
  },
  "language_info": {
   "codemirror_mode": {
    "name": "ipython",
    "version": 3
   },
   "file_extension": ".py",
   "mimetype": "text/x-python",
   "name": "python",
   "nbconvert_exporter": "python",
   "pygments_lexer": "ipython3",
   "version": "3.8.10"
  }
 },
 "nbformat": 4,
 "nbformat_minor": 5
}
