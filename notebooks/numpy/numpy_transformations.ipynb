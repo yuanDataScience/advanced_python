{
 "cells": [
  {
   "cell_type": "markdown",
   "id": "996b8273",
   "metadata": {},
   "source": [
    "### Numpy Transformations\n",
    "#### How to summarize the mean value of variables:                           \n",
    "* Arithemtic mean: for varaiables that can produce negative values\n",
    "  + examples: efficacy assasy, and LogD\n",
    "* Geometric mean: variables that span many orders of magnitude and can not be negative\n",
    "  + examples: potency assays, clearance assays, and ratios such as efflux\n",
    "* logit: variables that have values between [0, 1] or [0, 100%]\n",
    "  + examples: protein binding\n",
    "* Median: varaiables that have discrete values, \n",
    "  + example: a feature value corresponding to the max response/target variable\n",
    "    + this feature value is a discrete value among several possible values\n",
    "* no summary: \n",
    "  + example, calculated pKa, or categorical variables  "
   ]
  },
  {
   "cell_type": "code",
   "execution_count": 9,
   "id": "610a887b",
   "metadata": {},
   "outputs": [],
   "source": [
    "import numpy as np\n",
    "from typing import List, Union, Tuple"
   ]
  },
  {
   "cell_type": "markdown",
   "id": "e4565286",
   "metadata": {},
   "source": [
    "#### Summary method\n",
    "* Geometric mean\n",
    "* logit"
   ]
  },
  {
   "cell_type": "code",
   "execution_count": 5,
   "id": "782115fe",
   "metadata": {},
   "outputs": [],
   "source": [
    "# geometric mean\n",
    "def geometric_mean(input_array: np.array) -> float:\n",
    "    input_array = input_array[input_array > 0]\n",
    "    result = np.power(10, np.mean(np.log10(input_array))) if input_array.size >0 else None\n",
    "    return result\n",
    "\n",
    "# logit mean\n",
    "def logit_mean(input_array: np.array) -> float:\n",
    "    # logit mean is only for variable in [0, 1]\n",
    "    input_array = input_array[np.logic_and(input_array >= 0, input_array <= 1)]\n",
    "    if input_array.size == 0:\n",
    "        return None\n",
    "    \n",
    "    # set value close to 1 and 0 as threshold values\n",
    "    input_array[input_array > 0.999] = 0.999\n",
    "    input_array[input_array < 0.001] = 0.001\n",
    "    sigmoid = np.log(input_array/(1 - input_array))\n",
    "    alpha = np.mean(sigmoid)\n",
    "    \n",
    "    return np.exp(alpha)/(1 + np.exp(alpha))"
   ]
  },
  {
   "cell_type": "code",
   "execution_count": 41,
   "id": "b4fa4024",
   "metadata": {},
   "outputs": [],
   "source": [
    "# transform methods\n",
    "\n",
    "# transform error settings\n",
    "transform_np_error_settings = {'divide': 'ignore', 'invalid': 'ignore'}\n",
    "\n",
    "# transform input to log10\n",
    "def transform_log10(value: Union[float, np.ndarray]) -> Union[float, np.ndarray]:\n",
    "    # define a minimum between np.float 0 and 1\n",
    "    minimum = float(np.log10(np.nextafter(np.float32(0), np.float32(1))))\n",
    "    \n",
    "    old_settings = np.seterr(**transform_np_error_settings)\n",
    "    try:\n",
    "        result = np.log10(value)\n",
    "        if isinstance(result, np.ndarray):\n",
    "            result[np.isinf(result)] = np.nan\n",
    "            result[result < minimum] = minimum\n",
    "        else:\n",
    "            if np.isinf(result):\n",
    "                result = float('nan')\n",
    "            elif result < minimum:\n",
    "                result = minimum\n",
    "    finally:\n",
    "        np.seterr(**old_settings)\n",
    "    return result    \n",
    "\n",
    "# inverse function of log10 transformation\n",
    "def untransform_inv_log10(value: Union[float, np.ndarray]) -> Union[float, np.ndarray]:\n",
    "    maximum = np.finfo(np.float32).max\n",
    "    old_settings = np.seterr(**transform_np_error_settings)\n",
    "    try:\n",
    "        result = np.power(10.0, value)\n",
    "        if isinstance(result, np.ndarray):\n",
    "            result[np.isinf(result)] = np.nan\n",
    "            result[result > maximum] = maximum\n",
    "        else:\n",
    "            if result > maximum:\n",
    "                result = maximum\n",
    "    finally:\n",
    "        np.seterr(**old_settings)\n",
    "    return result    \n",
    "\n",
    "# logit transformation\n",
    "def transform_logit(value: Union[float, np.ndarray]) -> Union[float, np.ndarray]:\n",
    "    if isinstance(value, np.ndarray):\n",
    "        value[value >=1.0] = 0.999\n",
    "        value[value <=0.0] = 0.001\n",
    "    else:\n",
    "        if value >= 1.0:\n",
    "            value = 0.999\n",
    "        elif value <= 0.001:\n",
    "            value = 0.001\n",
    "    return np.log10(value/(1-value))        \n",
    "        \n",
    "# inverse function of logit transformation\n",
    "def untransform_inv_logit(value: Union[float, np.ndarray]) -> Union[float, np.ndarray]:\n",
    "    return np.power(10, value) / (np.power(10, value) + 1)\n",
    "    \n",
    "\n",
    "# log normal transformation (return the mu and sigma of tranformed normal distribution)\n",
    "# https://en.wikipedia.org/wiki/Log-normal_distribution\n",
    "def transform_log10normal(mu: Union[float, np.ndarray], sigma: Union[float, np.ndarray]) -> \\\n",
    "    Union[Tuple[float, float], Tuple[np.array, np.array]]:\n",
    "    # define a minimum between np.float 0 and 1\n",
    "    minimum = float(np.log10(np.nextafter(np.float32(0), np.float32(1))))\n",
    "    \n",
    "    old_settings = np.seterr(**transform_np_error_settings)\n",
    "    try:\n",
    "        log_mu = np.log10(mu **2 / np.sqrt(sigma ** 2 + mu ** 2))\n",
    "        log_sigma = np.sqrt(np.log10(sigma ** 2 / mu **2 + 1))\n",
    "        if isinstance(log_mu, np.ndarray):\n",
    "            log_mu[log_mu < minimum] = minimum\n",
    "            log_sigma[log_sigma < minimum] = minimum\n",
    "        else:\n",
    "            if log_mu < minimum:\n",
    "                log_mu = minimum\n",
    "            if log_sigma < minimum:\n",
    "                log_sigma = minimum\n",
    "    finally:\n",
    "        np.seterr(**old_settings)\n",
    "    return log_mu, log_sigma  \n",
    "    \n",
    "\n",
    "# inverse transformation of log normal\n",
    "def untransform_inv_log10normal(log_mu: Union[float, np.ndarray], log_sigma: Union[float, np.ndarray]) -> \\\n",
    "    Union[Tuple[float, float], Tuple[np.array, np.array]]:\n",
    "    \n",
    "    maximum = np.finfo(np.float32).max\n",
    "    old_settings = np.seterr(**transform_np_error_settings)\n",
    "    try:\n",
    "        mu = np.power(10.0, log_mu + 0.5 * np.power(log_sigma, 2))\n",
    "        sigma = np.power(10.0, 2 * log_mu + np.power(log_sigma, 2)) * (np.power(10.0, np.power(log_sigma, 2)) -1)\n",
    "        sigma = np.sqrt(sigma)\n",
    "        if isinstance(mu, np.ndarray):\n",
    "            mu[mu > maximum] = maximum\n",
    "            sigma[sigma > maximum] = maximum\n",
    "        else:\n",
    "            if mu > maximum:\n",
    "                mu = maximum\n",
    "            if sigma > maximum:\n",
    "                sigma = maximum\n",
    "    finally:\n",
    "        np.seterr(**old_settings)\n",
    "    return mu, sigma "
   ]
  },
  {
   "cell_type": "code",
   "execution_count": 42,
   "id": "f4bd3cf6",
   "metadata": {},
   "outputs": [],
   "source": [
    "test_array_log = np.array(np.linspace(0, 5))"
   ]
  },
  {
   "cell_type": "code",
   "execution_count": 43,
   "id": "ae3c38a5",
   "metadata": {},
   "outputs": [
    {
     "data": {
      "text/plain": [
       "array([0.        , 0.10204082, 0.20408163, 0.30612245, 0.40816327,\n",
       "       0.51020408, 0.6122449 , 0.71428571, 0.81632653, 0.91836735,\n",
       "       1.02040816, 1.12244898, 1.2244898 , 1.32653061, 1.42857143,\n",
       "       1.53061224, 1.63265306, 1.73469388, 1.83673469, 1.93877551,\n",
       "       2.04081633, 2.14285714, 2.24489796, 2.34693878, 2.44897959,\n",
       "       2.55102041, 2.65306122, 2.75510204, 2.85714286, 2.95918367,\n",
       "       3.06122449, 3.16326531, 3.26530612, 3.36734694, 3.46938776,\n",
       "       3.57142857, 3.67346939, 3.7755102 , 3.87755102, 3.97959184,\n",
       "       4.08163265, 4.18367347, 4.28571429, 4.3877551 , 4.48979592,\n",
       "       4.59183673, 4.69387755, 4.79591837, 4.89795918, 5.        ])"
      ]
     },
     "execution_count": 43,
     "metadata": {},
     "output_type": "execute_result"
    }
   ],
   "source": [
    "test_array_log"
   ]
  },
  {
   "cell_type": "code",
   "execution_count": 44,
   "id": "7b373ff9",
   "metadata": {},
   "outputs": [],
   "source": [
    "log10_transform_array = transform_log10(test_array_log)"
   ]
  },
  {
   "cell_type": "code",
   "execution_count": 45,
   "id": "cfb72e9e",
   "metadata": {},
   "outputs": [],
   "source": [
    "inv_log10_array = untransform_inv_log10(log10_transform_array)"
   ]
  },
  {
   "cell_type": "code",
   "execution_count": 46,
   "id": "fb8762fa",
   "metadata": {},
   "outputs": [
    {
     "data": {
      "text/plain": [
       "array([       nan, 0.10204082, 0.20408163, 0.30612245, 0.40816327,\n",
       "       0.51020408, 0.6122449 , 0.71428571, 0.81632653, 0.91836735,\n",
       "       1.02040816, 1.12244898, 1.2244898 , 1.32653061, 1.42857143,\n",
       "       1.53061224, 1.63265306, 1.73469388, 1.83673469, 1.93877551,\n",
       "       2.04081633, 2.14285714, 2.24489796, 2.34693878, 2.44897959,\n",
       "       2.55102041, 2.65306122, 2.75510204, 2.85714286, 2.95918367,\n",
       "       3.06122449, 3.16326531, 3.26530612, 3.36734694, 3.46938776,\n",
       "       3.57142857, 3.67346939, 3.7755102 , 3.87755102, 3.97959184,\n",
       "       4.08163265, 4.18367347, 4.28571429, 4.3877551 , 4.48979592,\n",
       "       4.59183673, 4.69387755, 4.79591837, 4.89795918, 5.        ])"
      ]
     },
     "execution_count": 46,
     "metadata": {},
     "output_type": "execute_result"
    }
   ],
   "source": [
    "inv_log10"
   ]
  },
  {
   "cell_type": "code",
   "execution_count": 47,
   "id": "99b3d383",
   "metadata": {},
   "outputs": [
    {
     "data": {
      "text/plain": [
       "array([0.        , 0.02040816, 0.04081633, 0.06122449, 0.08163265,\n",
       "       0.10204082, 0.12244898, 0.14285714, 0.16326531, 0.18367347,\n",
       "       0.20408163, 0.2244898 , 0.24489796, 0.26530612, 0.28571429,\n",
       "       0.30612245, 0.32653061, 0.34693878, 0.36734694, 0.3877551 ,\n",
       "       0.40816327, 0.42857143, 0.44897959, 0.46938776, 0.48979592,\n",
       "       0.51020408, 0.53061224, 0.55102041, 0.57142857, 0.59183673,\n",
       "       0.6122449 , 0.63265306, 0.65306122, 0.67346939, 0.69387755,\n",
       "       0.71428571, 0.73469388, 0.75510204, 0.7755102 , 0.79591837,\n",
       "       0.81632653, 0.83673469, 0.85714286, 0.87755102, 0.89795918,\n",
       "       0.91836735, 0.93877551, 0.95918367, 0.97959184, 1.        ])"
      ]
     },
     "execution_count": 47,
     "metadata": {},
     "output_type": "execute_result"
    }
   ],
   "source": [
    "test_array_logit = np.array(np.linspace(0, 1))\n",
    "test_array_logit"
   ]
  },
  {
   "cell_type": "code",
   "execution_count": 48,
   "id": "6a55ede7",
   "metadata": {},
   "outputs": [],
   "source": [
    "logit_transform_array = transform_logit(test_array_logit)"
   ]
  },
  {
   "cell_type": "code",
   "execution_count": 49,
   "id": "07d5490d",
   "metadata": {},
   "outputs": [],
   "source": [
    "inv_logit_array = untransform_inv_logit(logit_transform_array)"
   ]
  },
  {
   "cell_type": "code",
   "execution_count": 50,
   "id": "d8988b94",
   "metadata": {},
   "outputs": [
    {
     "data": {
      "text/plain": [
       "array([0.001     , 0.02040816, 0.04081633, 0.06122449, 0.08163265,\n",
       "       0.10204082, 0.12244898, 0.14285714, 0.16326531, 0.18367347,\n",
       "       0.20408163, 0.2244898 , 0.24489796, 0.26530612, 0.28571429,\n",
       "       0.30612245, 0.32653061, 0.34693878, 0.36734694, 0.3877551 ,\n",
       "       0.40816327, 0.42857143, 0.44897959, 0.46938776, 0.48979592,\n",
       "       0.51020408, 0.53061224, 0.55102041, 0.57142857, 0.59183673,\n",
       "       0.6122449 , 0.63265306, 0.65306122, 0.67346939, 0.69387755,\n",
       "       0.71428571, 0.73469388, 0.75510204, 0.7755102 , 0.79591837,\n",
       "       0.81632653, 0.83673469, 0.85714286, 0.87755102, 0.89795918,\n",
       "       0.91836735, 0.93877551, 0.95918367, 0.97959184, 0.999     ])"
      ]
     },
     "execution_count": 50,
     "metadata": {},
     "output_type": "execute_result"
    }
   ],
   "source": [
    "inv_logit_array"
   ]
  },
  {
   "cell_type": "code",
   "execution_count": 51,
   "id": "70a6ba01",
   "metadata": {},
   "outputs": [],
   "source": [
    "lognorm_mu, lognorm_sigma  = transform_log10normal(mu = test_array_log, sigma = test_array_logit)"
   ]
  },
  {
   "cell_type": "code",
   "execution_count": 54,
   "id": "8d28e459",
   "metadata": {},
   "outputs": [],
   "source": [
    "mu, sigma = untransform_inv_log10normal(lognorm_mu, lognorm_sigma)"
   ]
  },
  {
   "cell_type": "code",
   "execution_count": 55,
   "id": "d2c97d3d",
   "metadata": {},
   "outputs": [
    {
     "data": {
      "text/plain": [
       "array([3.40282347e+38, 1.02040816e-01, 2.04081633e-01, 3.06122449e-01,\n",
       "       4.08163265e-01, 5.10204082e-01, 6.12244898e-01, 7.14285714e-01,\n",
       "       8.16326531e-01, 9.18367347e-01, 1.02040816e+00, 1.12244898e+00,\n",
       "       1.22448980e+00, 1.32653061e+00, 1.42857143e+00, 1.53061224e+00,\n",
       "       1.63265306e+00, 1.73469388e+00, 1.83673469e+00, 1.93877551e+00,\n",
       "       2.04081633e+00, 2.14285714e+00, 2.24489796e+00, 2.34693878e+00,\n",
       "       2.44897959e+00, 2.55102041e+00, 2.65306122e+00, 2.75510204e+00,\n",
       "       2.85714286e+00, 2.95918367e+00, 3.06122449e+00, 3.16326531e+00,\n",
       "       3.26530612e+00, 3.36734694e+00, 3.46938776e+00, 3.57142857e+00,\n",
       "       3.67346939e+00, 3.77551020e+00, 3.87755102e+00, 3.97959184e+00,\n",
       "       4.08163265e+00, 4.18367347e+00, 4.28571429e+00, 4.38775510e+00,\n",
       "       4.48979592e+00, 4.59183673e+00, 4.69387755e+00, 4.79591837e+00,\n",
       "       4.89795918e+00, 5.00000000e+00])"
      ]
     },
     "execution_count": 55,
     "metadata": {},
     "output_type": "execute_result"
    }
   ],
   "source": [
    "mu"
   ]
  },
  {
   "cell_type": "code",
   "execution_count": 56,
   "id": "7969536f",
   "metadata": {},
   "outputs": [
    {
     "data": {
      "text/plain": [
       "array([3.40282347e+38, 2.04081633e-02, 4.08163265e-02, 6.12244898e-02,\n",
       "       8.16326531e-02, 1.02040816e-01, 1.22448980e-01, 1.42857143e-01,\n",
       "       1.63265306e-01, 1.83673469e-01, 2.04081633e-01, 2.24489796e-01,\n",
       "       2.44897959e-01, 2.65306122e-01, 2.85714286e-01, 3.06122449e-01,\n",
       "       3.26530612e-01, 3.46938776e-01, 3.67346939e-01, 3.87755102e-01,\n",
       "       4.08163265e-01, 4.28571429e-01, 4.48979592e-01, 4.69387755e-01,\n",
       "       4.89795918e-01, 5.10204082e-01, 5.30612245e-01, 5.51020408e-01,\n",
       "       5.71428571e-01, 5.91836735e-01, 6.12244898e-01, 6.32653061e-01,\n",
       "       6.53061224e-01, 6.73469388e-01, 6.93877551e-01, 7.14285714e-01,\n",
       "       7.34693878e-01, 7.55102041e-01, 7.75510204e-01, 7.95918367e-01,\n",
       "       8.16326531e-01, 8.36734694e-01, 8.57142857e-01, 8.77551020e-01,\n",
       "       8.97959184e-01, 9.18367347e-01, 9.38775510e-01, 9.59183673e-01,\n",
       "       9.79591837e-01, 9.99000000e-01])"
      ]
     },
     "execution_count": 56,
     "metadata": {},
     "output_type": "execute_result"
    }
   ],
   "source": [
    "sigma"
   ]
  },
  {
   "cell_type": "code",
   "execution_count": null,
   "id": "af6db776",
   "metadata": {},
   "outputs": [],
   "source": []
  }
 ],
 "metadata": {
  "kernelspec": {
   "display_name": "Python 3 (ipykernel)",
   "language": "python",
   "name": "python3"
  },
  "language_info": {
   "codemirror_mode": {
    "name": "ipython",
    "version": 3
   },
   "file_extension": ".py",
   "mimetype": "text/x-python",
   "name": "python",
   "nbconvert_exporter": "python",
   "pygments_lexer": "ipython3",
   "version": "3.8.10"
  }
 },
 "nbformat": 4,
 "nbformat_minor": 5
}
