{
 "cells": [
  {
   "cell_type": "markdown",
   "id": "ef2ddd94",
   "metadata": {},
   "source": [
    "### Pandas basic\n",
    "This notebook contains pandas basic operations"
   ]
  },
  {
   "cell_type": "markdown",
   "id": "ccc89bb3",
   "metadata": {},
   "source": [
    "First, check that your virtual environment is in you sys.path, otherwise, adding the virtual environment path to PYTHONPATH"
   ]
  },
  {
   "cell_type": "code",
   "execution_count": 44,
   "id": "fb04db77",
   "metadata": {},
   "outputs": [
    {
     "data": {
      "text/plain": [
       "['/home/yuan/git_repos/advanced_python/notebooks/pandas',\n",
       " '',\n",
       " '/home/yuan/Documents/py3_env/lib/python3.8/site-packages',\n",
       " '/usr/lib/python38.zip',\n",
       " '/usr/lib/python3.8',\n",
       " '/usr/lib/python3.8/lib-dynload',\n",
       " '/home/yuan/.local/lib/python3.8/site-packages',\n",
       " '/usr/local/lib/python3.8/dist-packages',\n",
       " '/usr/lib/python3/dist-packages',\n",
       " '/home/yuan/Documents/py3_env/lib/python3.8/site-packages/IPython/extensions',\n",
       " '/home/yuan/.ipython']"
      ]
     },
     "execution_count": 44,
     "metadata": {},
     "output_type": "execute_result"
    }
   ],
   "source": [
    "import sys\n",
    "sys.path"
   ]
  },
  {
   "cell_type": "code",
   "execution_count": 45,
   "id": "a0fb3ddd",
   "metadata": {},
   "outputs": [],
   "source": [
    "import pandas as pd\n",
    "import json\n",
    "import numpy as np"
   ]
  },
  {
   "cell_type": "markdown",
   "id": "812f20a7",
   "metadata": {},
   "source": [
    "#### create pandas dataframe\n",
    "* from a list\n",
    "* from dictionary\n",
    "* convert pandas dataframe to json\n",
    "* convert pandas dataframe to python list\n",
    "* construct a dataframe from numpy arrays"
   ]
  },
  {
   "cell_type": "code",
   "execution_count": 46,
   "id": "ada0b53e",
   "metadata": {},
   "outputs": [
    {
     "data": {
      "text/html": [
       "<div>\n",
       "<style scoped>\n",
       "    .dataframe tbody tr th:only-of-type {\n",
       "        vertical-align: middle;\n",
       "    }\n",
       "\n",
       "    .dataframe tbody tr th {\n",
       "        vertical-align: top;\n",
       "    }\n",
       "\n",
       "    .dataframe thead th {\n",
       "        text-align: right;\n",
       "    }\n",
       "</style>\n",
       "<table border=\"1\" class=\"dataframe\">\n",
       "  <thead>\n",
       "    <tr style=\"text-align: right;\">\n",
       "      <th></th>\n",
       "      <th>site_position</th>\n",
       "      <th>first_name</th>\n",
       "    </tr>\n",
       "  </thead>\n",
       "  <tbody>\n",
       "    <tr>\n",
       "      <th>0</th>\n",
       "      <td>1</td>\n",
       "      <td>Joe</td>\n",
       "    </tr>\n",
       "    <tr>\n",
       "      <th>1</th>\n",
       "      <td>2</td>\n",
       "      <td>Alice</td>\n",
       "    </tr>\n",
       "    <tr>\n",
       "      <th>2</th>\n",
       "      <td>3</td>\n",
       "      <td>Irina</td>\n",
       "    </tr>\n",
       "    <tr>\n",
       "      <th>3</th>\n",
       "      <td>4</td>\n",
       "      <td>Ben</td>\n",
       "    </tr>\n",
       "  </tbody>\n",
       "</table>\n",
       "</div>"
      ],
      "text/plain": [
       "   site_position first_name\n",
       "0              1        Joe\n",
       "1              2      Alice\n",
       "2              3      Irina\n",
       "3              4        Ben"
      ]
     },
     "execution_count": 46,
     "metadata": {},
     "output_type": "execute_result"
    }
   ],
   "source": [
    "# create pandas dataframe from a list\n",
    "a_list = [[1, \"Joe\"], [2, \"Alice\"], [3, \"Irina\"], [4, \"Ben\"]]\n",
    "list_df = pd.DataFrame(data=a_list, columns=['site_position', 'first_name'])\n",
    "list_df"
   ]
  },
  {
   "cell_type": "code",
   "execution_count": 47,
   "id": "0b71b235",
   "metadata": {},
   "outputs": [
    {
     "data": {
      "text/html": [
       "<div>\n",
       "<style scoped>\n",
       "    .dataframe tbody tr th:only-of-type {\n",
       "        vertical-align: middle;\n",
       "    }\n",
       "\n",
       "    .dataframe tbody tr th {\n",
       "        vertical-align: top;\n",
       "    }\n",
       "\n",
       "    .dataframe thead th {\n",
       "        text-align: right;\n",
       "    }\n",
       "</style>\n",
       "<table border=\"1\" class=\"dataframe\">\n",
       "  <thead>\n",
       "    <tr style=\"text-align: right;\">\n",
       "      <th></th>\n",
       "      <th>site_position</th>\n",
       "      <th>first_name</th>\n",
       "    </tr>\n",
       "  </thead>\n",
       "  <tbody>\n",
       "    <tr>\n",
       "      <th>0</th>\n",
       "      <td>1</td>\n",
       "      <td>Joe</td>\n",
       "    </tr>\n",
       "    <tr>\n",
       "      <th>1</th>\n",
       "      <td>2</td>\n",
       "      <td>Alice</td>\n",
       "    </tr>\n",
       "    <tr>\n",
       "      <th>2</th>\n",
       "      <td>3</td>\n",
       "      <td>Irina</td>\n",
       "    </tr>\n",
       "    <tr>\n",
       "      <th>3</th>\n",
       "      <td>4</td>\n",
       "      <td>Ben</td>\n",
       "    </tr>\n",
       "  </tbody>\n",
       "</table>\n",
       "</div>"
      ],
      "text/plain": [
       "   site_position first_name\n",
       "0              1        Joe\n",
       "1              2      Alice\n",
       "2              3      Irina\n",
       "3              4        Ben"
      ]
     },
     "execution_count": 47,
     "metadata": {},
     "output_type": "execute_result"
    }
   ],
   "source": [
    "# create pandas dataframe from a list of dictionary\n",
    "# the column names are directly defined in each dictionary element\n",
    "dict_list = [{'site_position': 1, 'first_name': 'Joe'},\n",
    "              {'site_position': 2, 'first_name': 'Alice'},\n",
    "            {'site_position': 3, 'first_name': 'Irina'},\n",
    "             {'site_position': 4, 'first_name': 'Ben'}\n",
    "            ]\n",
    "dict_df = pd.DataFrame(dict_list)\n",
    "dict_df"
   ]
  },
  {
   "cell_type": "code",
   "execution_count": 48,
   "id": "32d83598",
   "metadata": {},
   "outputs": [
    {
     "data": {
      "text/plain": [
       "'[{\"site_position\":1,\"first_name\":\"Joe\"},{\"site_position\":2,\"first_name\":\"Alice\"},{\"site_position\":3,\"first_name\":\"Irina\"},{\"site_position\":4,\"first_name\":\"Ben\"}]'"
      ]
     },
     "execution_count": 48,
     "metadata": {},
     "output_type": "execute_result"
    }
   ],
   "source": [
    "# convert a dataframe to json string\n",
    "\n",
    "# orient='records' convert dataframe to a list of json objects\n",
    "json_str = dict_df.to_json(orient='records')\n",
    "json_str"
   ]
  },
  {
   "cell_type": "code",
   "execution_count": 49,
   "id": "545f4bd6",
   "metadata": {},
   "outputs": [
    {
     "data": {
      "text/plain": [
       "[[1, 'Joe'], [2, 'Alice'], [3, 'Irina'], [4, 'Ben']]"
      ]
     },
     "execution_count": 49,
     "metadata": {},
     "output_type": "execute_result"
    }
   ],
   "source": [
    "# convert a dataframe to list\n",
    "# the output can be used to convert it back to dataframe, but you need to add the column names using columns argument\n",
    "df_list = dict_df.values.tolist()\n",
    "df_list"
   ]
  },
  {
   "cell_type": "code",
   "execution_count": 50,
   "id": "515741d9",
   "metadata": {},
   "outputs": [
    {
     "data": {
      "text/plain": [
       "[{'site_position': 1, 'first_name': 'Joe'},\n",
       " {'site_position': 2, 'first_name': 'Alice'},\n",
       " {'site_position': 3, 'first_name': 'Irina'},\n",
       " {'site_position': 4, 'first_name': 'Ben'}]"
      ]
     },
     "execution_count": 50,
     "metadata": {},
     "output_type": "execute_result"
    }
   ],
   "source": [
    "# convert a dataframe to a list of json objects, and still maintain the column names\n",
    "json_list = json.loads(dict_df.to_json(orient='records'))\n",
    "json_list"
   ]
  },
  {
   "cell_type": "markdown",
   "id": "68c075de",
   "metadata": {},
   "source": [
    "### Transformation\n",
    "* add rows to a pandas dataframe\n",
    "* select rows based on not null or empty string"
   ]
  },
  {
   "cell_type": "code",
   "execution_count": 51,
   "id": "a50717f3",
   "metadata": {},
   "outputs": [
    {
     "data": {
      "text/html": [
       "<div>\n",
       "<style scoped>\n",
       "    .dataframe tbody tr th:only-of-type {\n",
       "        vertical-align: middle;\n",
       "    }\n",
       "\n",
       "    .dataframe tbody tr th {\n",
       "        vertical-align: top;\n",
       "    }\n",
       "\n",
       "    .dataframe thead th {\n",
       "        text-align: right;\n",
       "    }\n",
       "</style>\n",
       "<table border=\"1\" class=\"dataframe\">\n",
       "  <thead>\n",
       "    <tr style=\"text-align: right;\">\n",
       "      <th></th>\n",
       "      <th>name</th>\n",
       "      <th>site_location</th>\n",
       "    </tr>\n",
       "  </thead>\n",
       "  <tbody>\n",
       "    <tr>\n",
       "      <th>0</th>\n",
       "      <td>Joe</td>\n",
       "      <td>1</td>\n",
       "    </tr>\n",
       "    <tr>\n",
       "      <th>1</th>\n",
       "      <td>Tim</td>\n",
       "      <td>2</td>\n",
       "    </tr>\n",
       "    <tr>\n",
       "      <th>2</th>\n",
       "      <td>Rob</td>\n",
       "      <td>3</td>\n",
       "    </tr>\n",
       "    <tr>\n",
       "      <th>3</th>\n",
       "      <td>Georgia</td>\n",
       "      <td>4</td>\n",
       "    </tr>\n",
       "    <tr>\n",
       "      <th>4</th>\n",
       "      <td>Amy</td>\n",
       "      <td>5</td>\n",
       "    </tr>\n",
       "    <tr>\n",
       "      <th>5</th>\n",
       "      <td>Maddy</td>\n",
       "      <td>6</td>\n",
       "    </tr>\n",
       "  </tbody>\n",
       "</table>\n",
       "</div>"
      ],
      "text/plain": [
       "      name  site_location\n",
       "0      Joe              1\n",
       "1      Tim              2\n",
       "2      Rob              3\n",
       "3  Georgia              4\n",
       "4      Amy              5\n",
       "5    Maddy              6"
      ]
     },
     "execution_count": 51,
     "metadata": {},
     "output_type": "execute_result"
    }
   ],
   "source": [
    "# you can direct set the row using loc\n",
    "dict_df.loc[len(dict_df.index)] = [5, \"Alex\"]\n",
    "\n",
    "# you can use append method by a dictionary\n",
    "dict_df.append({'site_position': 6, 'first_name': \"Jennifer\"}, ignore_index=True)\n",
    "\n",
    "# finally, you can concat dataframes together\n",
    "dict = {'name':['Joe', 'Tim', 'Rob', 'Georgia'],\n",
    "        'site_location':[1, 2, 3, 4]\n",
    "       }  \n",
    "df1 = pd.DataFrame(dict)\n",
    "  \n",
    "dict = {'name':['Amy', 'Maddy'],\n",
    "        'site_location':[5, 6]\n",
    "       }  \n",
    "df2 = pd.DataFrame(dict)\n",
    "  \n",
    "df3 = pd.concat([df1, df2], ignore_index = True)\n",
    "df3"
   ]
  },
  {
   "cell_type": "markdown",
   "id": "8234380d",
   "metadata": {},
   "source": [
    "#### Construct from multiple dimension np array using hstack"
   ]
  },
  {
   "cell_type": "code",
   "execution_count": 52,
   "id": "3034549f",
   "metadata": {},
   "outputs": [
    {
     "name": "stdout",
     "output_type": "stream",
     "text": [
      "a1 shape (2, 3)\n",
      "a2 shape (2, 3)\n",
      "result df shape by hstack (2, 6)\n"
     ]
    },
    {
     "data": {
      "text/html": [
       "<div>\n",
       "<style scoped>\n",
       "    .dataframe tbody tr th:only-of-type {\n",
       "        vertical-align: middle;\n",
       "    }\n",
       "\n",
       "    .dataframe tbody tr th {\n",
       "        vertical-align: top;\n",
       "    }\n",
       "\n",
       "    .dataframe thead th {\n",
       "        text-align: right;\n",
       "    }\n",
       "</style>\n",
       "<table border=\"1\" class=\"dataframe\">\n",
       "  <thead>\n",
       "    <tr style=\"text-align: right;\">\n",
       "      <th></th>\n",
       "      <th>0</th>\n",
       "      <th>1</th>\n",
       "      <th>2</th>\n",
       "      <th>3</th>\n",
       "      <th>4</th>\n",
       "      <th>5</th>\n",
       "    </tr>\n",
       "  </thead>\n",
       "  <tbody>\n",
       "    <tr>\n",
       "      <th>0</th>\n",
       "      <td>1</td>\n",
       "      <td>2</td>\n",
       "      <td>3</td>\n",
       "      <td>4</td>\n",
       "      <td>5</td>\n",
       "      <td>6</td>\n",
       "    </tr>\n",
       "    <tr>\n",
       "      <th>1</th>\n",
       "      <td>1</td>\n",
       "      <td>2</td>\n",
       "      <td>3</td>\n",
       "      <td>4</td>\n",
       "      <td>5</td>\n",
       "      <td>6</td>\n",
       "    </tr>\n",
       "  </tbody>\n",
       "</table>\n",
       "</div>"
      ],
      "text/plain": [
       "   0  1  2  3  4  5\n",
       "0  1  2  3  4  5  6\n",
       "1  1  2  3  4  5  6"
      ]
     },
     "execution_count": 52,
     "metadata": {},
     "output_type": "execute_result"
    }
   ],
   "source": [
    "# construct from np arrays\n",
    "a1 = np.array([[1, 2, 3], [1, 2, 3]])\n",
    "a2 = np.array([[4, 5, 6], [4, 5, 6]])\n",
    "print(\"a1 shape\", a1.shape)\n",
    "print(\"a2 shape\", a2.shape)\n",
    "array_df = pd.DataFrame(np.hstack([a1, a2]))\n",
    "print(\"result df shape by hstack\", array_df.shape)\n",
    "array_df"
   ]
  },
  {
   "cell_type": "markdown",
   "id": "e063ab84",
   "metadata": {},
   "source": [
    "#### Construct from one dimension np array using hstack"
   ]
  },
  {
   "cell_type": "code",
   "execution_count": 53,
   "id": "14ac5fc0",
   "metadata": {},
   "outputs": [
    {
     "data": {
      "text/html": [
       "<div>\n",
       "<style scoped>\n",
       "    .dataframe tbody tr th:only-of-type {\n",
       "        vertical-align: middle;\n",
       "    }\n",
       "\n",
       "    .dataframe tbody tr th {\n",
       "        vertical-align: top;\n",
       "    }\n",
       "\n",
       "    .dataframe thead th {\n",
       "        text-align: right;\n",
       "    }\n",
       "</style>\n",
       "<table border=\"1\" class=\"dataframe\">\n",
       "  <thead>\n",
       "    <tr style=\"text-align: right;\">\n",
       "      <th></th>\n",
       "      <th>0</th>\n",
       "      <th>1</th>\n",
       "    </tr>\n",
       "  </thead>\n",
       "  <tbody>\n",
       "    <tr>\n",
       "      <th>0</th>\n",
       "      <td>1</td>\n",
       "      <td>4</td>\n",
       "    </tr>\n",
       "    <tr>\n",
       "      <th>1</th>\n",
       "      <td>2</td>\n",
       "      <td>5</td>\n",
       "    </tr>\n",
       "    <tr>\n",
       "      <th>2</th>\n",
       "      <td>3</td>\n",
       "      <td>6</td>\n",
       "    </tr>\n",
       "  </tbody>\n",
       "</table>\n",
       "</div>"
      ],
      "text/plain": [
       "   0  1\n",
       "0  1  4\n",
       "1  2  5\n",
       "2  3  6"
      ]
     },
     "execution_count": 53,
     "metadata": {},
     "output_type": "execute_result"
    }
   ],
   "source": [
    "a1 = np.array([1, 2, 3])\n",
    "a2 = np.array([4, 5, 6])\n",
    "array_df = pd.DataFrame(np.hstack([a1.reshape(-1, 1), a2.reshape(-1, 1)]))\n",
    "array_df"
   ]
  },
  {
   "cell_type": "code",
   "execution_count": 54,
   "id": "77810adc",
   "metadata": {},
   "outputs": [
    {
     "data": {
      "text/html": [
       "<div>\n",
       "<style scoped>\n",
       "    .dataframe tbody tr th:only-of-type {\n",
       "        vertical-align: middle;\n",
       "    }\n",
       "\n",
       "    .dataframe tbody tr th {\n",
       "        vertical-align: top;\n",
       "    }\n",
       "\n",
       "    .dataframe thead th {\n",
       "        text-align: right;\n",
       "    }\n",
       "</style>\n",
       "<table border=\"1\" class=\"dataframe\">\n",
       "  <thead>\n",
       "    <tr style=\"text-align: right;\">\n",
       "      <th></th>\n",
       "      <th>name</th>\n",
       "      <th>site_location</th>\n",
       "    </tr>\n",
       "  </thead>\n",
       "  <tbody>\n",
       "    <tr>\n",
       "      <th>0</th>\n",
       "      <td>Joe</td>\n",
       "      <td>1</td>\n",
       "    </tr>\n",
       "    <tr>\n",
       "      <th>1</th>\n",
       "      <td>Tim</td>\n",
       "      <td>2</td>\n",
       "    </tr>\n",
       "    <tr>\n",
       "      <th>2</th>\n",
       "      <td>Rob</td>\n",
       "      <td>3</td>\n",
       "    </tr>\n",
       "    <tr>\n",
       "      <th>3</th>\n",
       "      <td>Georgia</td>\n",
       "      <td>4</td>\n",
       "    </tr>\n",
       "    <tr>\n",
       "      <th>4</th>\n",
       "      <td>Amy</td>\n",
       "      <td>5</td>\n",
       "    </tr>\n",
       "    <tr>\n",
       "      <th>5</th>\n",
       "      <td>Maddy</td>\n",
       "      <td>6</td>\n",
       "    </tr>\n",
       "    <tr>\n",
       "      <th>6</th>\n",
       "      <td>None</td>\n",
       "      <td>7</td>\n",
       "    </tr>\n",
       "    <tr>\n",
       "      <th>7</th>\n",
       "      <td></td>\n",
       "      <td>8</td>\n",
       "    </tr>\n",
       "  </tbody>\n",
       "</table>\n",
       "</div>"
      ],
      "text/plain": [
       "      name  site_location\n",
       "0      Joe              1\n",
       "1      Tim              2\n",
       "2      Rob              3\n",
       "3  Georgia              4\n",
       "4      Amy              5\n",
       "5    Maddy              6\n",
       "6     None              7\n",
       "7                       8"
      ]
     },
     "execution_count": 54,
     "metadata": {},
     "output_type": "execute_result"
    }
   ],
   "source": [
    "# select row based on not null and not empty string value of name column\n",
    "df_new = pd.DataFrame({'name': [None, \"\"], 'site_location': [7, 8]})\n",
    "df4 = pd.concat([df3, df_new], ignore_index=True)\n",
    "df4"
   ]
  },
  {
   "cell_type": "code",
   "execution_count": 55,
   "id": "5d8762d7",
   "metadata": {},
   "outputs": [
    {
     "data": {
      "text/plain": [
       "0     True\n",
       "1     True\n",
       "2     True\n",
       "3     True\n",
       "4     True\n",
       "5     True\n",
       "6    False\n",
       "7    False\n",
       "Name: name, dtype: bool"
      ]
     },
     "execution_count": 55,
     "metadata": {},
     "output_type": "execute_result"
    }
   ],
   "source": [
    "(df4.name.notnull()) & (df4['name']!=\"\")"
   ]
  }
 ],
 "metadata": {
  "kernelspec": {
   "display_name": "Python 3 (ipykernel)",
   "language": "python",
   "name": "python3"
  },
  "language_info": {
   "codemirror_mode": {
    "name": "ipython",
    "version": 3
   },
   "file_extension": ".py",
   "mimetype": "text/x-python",
   "name": "python",
   "nbconvert_exporter": "python",
   "pygments_lexer": "ipython3",
   "version": "3.8.10"
  }
 },
 "nbformat": 4,
 "nbformat_minor": 5
}
