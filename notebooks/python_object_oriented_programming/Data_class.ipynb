{
 "cells": [
  {
   "cell_type": "markdown",
   "id": "22568662",
   "metadata": {},
   "source": [
    "## Data Class"
   ]
  },
  {
   "cell_type": "markdown",
   "id": "c2cf563a",
   "metadata": {},
   "source": [
    "### Why use data class?\n",
    "* ordinary object classes need to implement a lot of code, but don't have commonly used functions implemented\n",
    "  + can not compare objects\n",
    "  + do not have hash method that enable us to use the objects as keys for hashset or map\n",
    "    + we can implement the special methods such as \\_\\_eq\\_\\_ and \\_\\_hash\\_\\_, but needs to include extra lines of code\n",
    "    + these functions are pedictable, and formulaic, and should be generated automatically\n",
    "    \n",
    "  "
   ]
  },
  {
   "cell_type": "markdown",
   "id": "1643d587",
   "metadata": {},
   "source": [
    "### To declare dataclass\n",
    "* use @dataclass decorator\n",
    "* list the class attributes and their types"
   ]
  },
  {
   "cell_type": "markdown",
   "id": "36bbedb2",
   "metadata": {},
   "source": [
    "### what dataclass does?\n",
    "* it uses the attribute names and types, and implements the \\_\\_init\\_\\_ and \\_\\_repr\\_\\_ methods\n",
    "* we can pass to the @dataclass decorator which methods we want it to implement"
   ]
  },
  {
   "cell_type": "code",
   "execution_count": 2,
   "id": "3963d0ab",
   "metadata": {},
   "outputs": [],
   "source": [
    "from position import Position, EarthPosition\n",
    "from dataclasses import dataclass\n",
    "\n",
    "\n",
    "@dataclass()\n",
    "class Location:\n",
    "    name: str\n",
    "    position: Position"
   ]
  },
  {
   "cell_type": "code",
   "execution_count": 3,
   "id": "3b3c310d",
   "metadata": {},
   "outputs": [
    {
     "data": {
      "text/plain": [
       "True"
      ]
     },
     "execution_count": 3,
     "metadata": {},
     "output_type": "execute_result"
    }
   ],
   "source": [
    "a = Location(\"Pairs\", Position(48.8, 2.3))\n",
    "b = Location(\"Pairs\", Position(48.8, 2.3))\n",
    "a == b"
   ]
  },
  {
   "cell_type": "code",
   "execution_count": 4,
   "id": "8e91cf30",
   "metadata": {},
   "outputs": [],
   "source": [
    "@dataclass(eq=True)\n",
    "class Location:\n",
    "    name: str\n",
    "    position: Position"
   ]
  },
  {
   "cell_type": "code",
   "execution_count": 5,
   "id": "3edabd95",
   "metadata": {},
   "outputs": [
    {
     "data": {
      "text/plain": [
       "True"
      ]
     },
     "execution_count": 5,
     "metadata": {},
     "output_type": "execute_result"
    }
   ],
   "source": [
    "pairs = Location(\"Pairs\", Position(48.8, 2.3))\n",
    "french_capital = Location(\"Pairs\", Position(48.8, 2.3))\n",
    "pairs == french_capital"
   ]
  },
  {
   "cell_type": "markdown",
   "id": "6d388394",
   "metadata": {},
   "source": [
    "### complicated dataclass hashability rules\n",
    "* immutability is difficult to express\n",
    "* hash-based collections require immutable elements\n",
    "* equality and hashing must be consistent"
   ]
  },
  {
   "cell_type": "markdown",
   "id": "71bec558",
   "metadata": {},
   "source": [
    "### data classes are best used to represent immutable value objects\n",
    "* we only use immutable objects as attributes in dataclasses\n",
    "  + basic types such as int, str, float are fine. othe object classes need to implement \\_\\_hash\\_\\_\n",
    "* we declare teh dataclass as frozen, which is Python speak for immutable, by passing frozen=True\n",
    "  + python will then not complaining the class as unhashable\n",
    "* keep dataclasses simple, avoid combining them with inheritance and stick to basic options with strong preference to immutability\n",
    "* by marking both eq and frozen as True, the dataclass will be hashable, and its objects can be used as keys to set and map\n",
    "* \n"
   ]
  },
  {
   "cell_type": "markdown",
   "id": "4e244d29",
   "metadata": {},
   "source": [
    "### Validate attributes using post\\_init method\n",
    "* post\\_init method only accept one argument: self\n",
    "* we can put checking code for validation in this method"
   ]
  },
  {
   "cell_type": "code",
   "execution_count": 6,
   "id": "eda4e24e",
   "metadata": {},
   "outputs": [],
   "source": [
    "@dataclass(eq=True)\n",
    "class Location:\n",
    "    name: str\n",
    "    position: Position\n",
    "        \n",
    "    def __post_init__(self):\n",
    "        if self.name == \"\":\n",
    "            raise ValueError(\"Location name cannot be empty\")"
   ]
  },
  {
   "cell_type": "code",
   "execution_count": 7,
   "id": "6b48a7b5",
   "metadata": {},
   "outputs": [
    {
     "ename": "ValueError",
     "evalue": "Location name cannot be empty",
     "output_type": "error",
     "traceback": [
      "\u001b[1;31m---------------------------------------------------------------------------\u001b[0m",
      "\u001b[1;31mValueError\u001b[0m                                Traceback (most recent call last)",
      "Input \u001b[1;32mIn [7]\u001b[0m, in \u001b[0;36m<cell line: 1>\u001b[1;34m()\u001b[0m\n\u001b[1;32m----> 1\u001b[0m null_island \u001b[38;5;241m=\u001b[39m \u001b[43mLocation\u001b[49m\u001b[43m(\u001b[49m\u001b[38;5;124;43m\"\u001b[39;49m\u001b[38;5;124;43m\"\u001b[39;49m\u001b[43m,\u001b[49m\u001b[43m \u001b[49m\u001b[43mPosition\u001b[49m\u001b[43m(\u001b[49m\u001b[38;5;241;43m0\u001b[39;49m\u001b[43m,\u001b[49m\u001b[38;5;241;43m0\u001b[39;49m\u001b[43m)\u001b[49m\u001b[43m)\u001b[49m\n",
      "File \u001b[1;32m<string>:5\u001b[0m, in \u001b[0;36m__init__\u001b[1;34m(self, name, position)\u001b[0m\n",
      "Input \u001b[1;32mIn [6]\u001b[0m, in \u001b[0;36mLocation.__post_init__\u001b[1;34m(self)\u001b[0m\n\u001b[0;32m      6\u001b[0m \u001b[38;5;28;01mdef\u001b[39;00m \u001b[38;5;21m__post_init__\u001b[39m(\u001b[38;5;28mself\u001b[39m):\n\u001b[0;32m      7\u001b[0m     \u001b[38;5;28;01mif\u001b[39;00m \u001b[38;5;28mself\u001b[39m\u001b[38;5;241m.\u001b[39mname \u001b[38;5;241m==\u001b[39m \u001b[38;5;124m\"\u001b[39m\u001b[38;5;124m\"\u001b[39m:\n\u001b[1;32m----> 8\u001b[0m         \u001b[38;5;28;01mraise\u001b[39;00m \u001b[38;5;167;01mValueError\u001b[39;00m(\u001b[38;5;124m\"\u001b[39m\u001b[38;5;124mLocation name cannot be empty\u001b[39m\u001b[38;5;124m\"\u001b[39m)\n",
      "\u001b[1;31mValueError\u001b[0m: Location name cannot be empty"
     ]
    }
   ],
   "source": [
    "null_island = Location(\"\", Position(0,0))"
   ]
  },
  {
   "cell_type": "code",
   "execution_count": 9,
   "id": "d05ab3dc",
   "metadata": {},
   "outputs": [],
   "source": [
    "@dataclass(\n",
    "init=True,       # enable __init__\n",
    "repr=True,       # enable __repr__\n",
    "eq=True,         # enable __eq__\n",
    "order=False,     # enable __lt__, __gt__, etc.\n",
    "unsafe_hash=False,\n",
    "frozen=False,    \n",
    ")\n",
    "class MyDataClass:\n",
    "    fred: str\n",
    "    jim: int\n",
    "    sheila: int    "
   ]
  },
  {
   "cell_type": "code",
   "execution_count": null,
   "id": "d9c84cc6",
   "metadata": {},
   "outputs": [],
   "source": []
  }
 ],
 "metadata": {
  "kernelspec": {
   "display_name": "Python 3 (ipykernel)",
   "language": "python",
   "name": "python3"
  },
  "language_info": {
   "codemirror_mode": {
    "name": "ipython",
    "version": 3
   },
   "file_extension": ".py",
   "mimetype": "text/x-python",
   "name": "python",
   "nbconvert_exporter": "python",
   "pygments_lexer": "ipython3",
   "version": "3.10.4"
  }
 },
 "nbformat": 4,
 "nbformat_minor": 5
}
