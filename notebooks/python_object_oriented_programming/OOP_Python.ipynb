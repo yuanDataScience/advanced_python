{
 "cells": [
  {
   "cell_type": "markdown",
   "id": "19f7a40e",
   "metadata": {},
   "source": [
    "### Classes and Object-orientation\n",
    "This notebook is based on a Pluralsight course (Core Python 3: Classes and Object-orientation)"
   ]
  },
  {
   "cell_type": "markdown",
   "id": "6e6d9569",
   "metadata": {},
   "source": [
    "### Class Attributes, Methods and Properties\n",
    "* "
   ]
  },
  {
   "cell_type": "markdown",
   "id": "b409ddae",
   "metadata": {},
   "source": [
    "#### scopes in python (LEGB)\n",
    "* local: inside the current function\n",
    "* enclosing: inside enclosing functions\n",
    "* glbobal: at the top level of the module\n",
    "* built-in: in the special builtins module"
   ]
  },
  {
   "cell_type": "code",
   "execution_count": 1,
   "id": "7c1225d5",
   "metadata": {},
   "outputs": [],
   "source": [
    "# example of a class\n",
    "# global scope name: ShippingContainer\n",
    "class ShippingContainer:\n",
    "    \n",
    "    # class variables accessible to all class instances, and class_name.variable\n",
    "    next_serial = 1337  # class block doesn't count as enclosing scope\n",
    "    \n",
    "    # local variables: self, owner_code, contents\n",
    "    def __init__(self, owner_code, contents):\n",
    "        self.owner_code = owner_code\n",
    "        self.contents = contents\n",
    "        self.serial = ShippingContainer.next_serial # use the full qualified name of next_serial\n",
    "        ShippingContainer.next_serial += 1 # although can use self.next_serial, not recommended\n",
    "        \n",
    "        # warning: different from += which is a read and modify op, \n",
    "        # the following statement creates an instance variable next_serial and \n",
    "        # take the precedence of the class variable\n",
    "        \n",
    "        # self.next_serial = self.next_serial + 1"
   ]
  },
  {
   "cell_type": "code",
   "execution_count": 2,
   "id": "e0b1ed4b",
   "metadata": {},
   "outputs": [
    {
     "name": "stdout",
     "output_type": "stream",
     "text": [
      "instance varialbe serial is 1337\n",
      "access class variable next_serial by an instance as c1.next_serial 1338\n",
      "access class variable next_serial by class name  as ShippingContainer.next_serial 1338\n"
     ]
    },
    {
     "data": {
      "text/plain": [
       "1338"
      ]
     },
     "execution_count": 2,
     "metadata": {},
     "output_type": "execute_result"
    }
   ],
   "source": [
    "c1 = ShippingContainer(\"YML\", [\"books\"])\n",
    "print(f\"instance varialbe serial is {c1.serial}\")\n",
    "\n",
    "# access to class variable by an instance\n",
    "print(f'access class variable next_serial by an instance as c1.next_serial {c1.next_serial}')\n",
    "\n",
    "# access to class variables by class name\n",
    "print(f'access class variable next_serial by class name  as ShippingContainer.next_serial {c1.next_serial}')\n",
    "ShippingContainer.next_serial"
   ]
  },
  {
   "cell_type": "markdown",
   "id": "4e6b89d2",
   "metadata": {},
   "source": [
    "#### static method\n",
    "* we can create a static method to retrieve and then increment the class variable, as shown below\n",
    "* static methods have no direct knowledge of class within which they are defined.\n",
    "* they simply allow us to group a function within the class block when the fucntion is conceptually related to the class"
   ]
  },
  {
   "cell_type": "code",
   "execution_count": 3,
   "id": "54e8e3db",
   "metadata": {},
   "outputs": [],
   "source": [
    "# example of a class\n",
    "# global scope name: ShippingContainer\n",
    "class ShippingContainer:\n",
    "    \n",
    "    # class variables accessible to all class instances, and class_name.variable\n",
    "    next_serial = 1337  # class block doesn't count as enclosing scope\n",
    "    \n",
    "    @staticmethod\n",
    "    def _generate_serial():\n",
    "        result = ShippingContainer.next_serial\n",
    "        ShippingContainer.next_serial += 1\n",
    "        return result\n",
    "    \n",
    "    # local variables: self, owner_code, contents\n",
    "    def __init__(self, owner_code, contents):\n",
    "        self.owner_code = owner_code\n",
    "        self.contents = contents\n",
    "        self.serial = ShippingContainer._generate_serial()  #can use self._generate_serial()\n",
    "        "
   ]
  },
  {
   "cell_type": "code",
   "execution_count": 4,
   "id": "78cbadcc",
   "metadata": {},
   "outputs": [
    {
     "name": "stdout",
     "output_type": "stream",
     "text": [
      "1337\n",
      "1338\n"
     ]
    }
   ],
   "source": [
    "c2 = ShippingContainer(\"YML\", [\"coffee\"])\n",
    "print(c2.serial)\n",
    "\n",
    "print(ShippingContainer.next_serial)"
   ]
  },
  {
   "cell_type": "markdown",
   "id": "7d312d33",
   "metadata": {},
   "source": [
    "#### class method\n",
    "* decorated by classmethod\n",
    "* accepts cls as the first argument\n",
    "* access class attributes via cls"
   ]
  },
  {
   "cell_type": "code",
   "execution_count": 5,
   "id": "b3778a87",
   "metadata": {},
   "outputs": [],
   "source": [
    "class ShippingContainer:\n",
    "    \n",
    "    # class variables accessible to all class instances, and class_name.variable\n",
    "    next_serial = 1337  # class block doesn't count as enclosing scope\n",
    "    \n",
    "    @classmethod\n",
    "    def _generate_serial(cls):\n",
    "        result = cls.next_serial\n",
    "        cls.next_serial += 1\n",
    "        return result\n",
    "    \n",
    "    # local variables: self, owner_code, contents\n",
    "    def __init__(self, owner_code, contents):\n",
    "        self.owner_code = owner_code\n",
    "        self.contents = contents\n",
    "        self.serial = ShippingContainer._generate_serial()  #can use self._generate_serial()\n",
    "        "
   ]
  },
  {
   "cell_type": "code",
   "execution_count": 6,
   "id": "32921382",
   "metadata": {},
   "outputs": [
    {
     "name": "stdout",
     "output_type": "stream",
     "text": [
      "1337\n",
      "1338\n"
     ]
    }
   ],
   "source": [
    "c3 = ShippingContainer(\"YML\", [\"coffee\"])\n",
    "print(c3.serial)\n",
    "\n",
    "print(ShippingContainer.next_serial)"
   ]
  },
  {
   "cell_type": "markdown",
   "id": "b4ecb961",
   "metadata": {},
   "source": [
    "#### when to use static method and when to use class method\n",
    "* use class method \n",
    "  + if you need to access class object to call other class method or the constructor, or class variable\\\n",
    "  + can be used as a 'named constructor' as a factory method which returns an instance of a class.\n",
    "    + The method name allows callers to express intent, and allows construction to be performed with differnt cobinations of arguments.\n",
    "    + this allows us to implement multiple constructors with different combinations of the arguments\n",
    "* use static method \n",
    "  + if no access is needed to either class or instance objects\n",
    "  + most likely an implementation detail of the class marked with a leading underscore\n",
    "  + may be able to be moved outside the class to become a global-scope function in the module\n",
    "    + think careful if a method should be a module scope function or a static method\n",
    "  + @staticmethod facilitates a particular logical organization of the code, allowing us to place what could otherwise be free functions within classes\n",
    "  "
   ]
  },
  {
   "cell_type": "code",
   "execution_count": 7,
   "id": "70941711",
   "metadata": {},
   "outputs": [],
   "source": [
    "# use of cls in class method\n",
    "# cls refers to the class object. \n",
    "# It can be used to refer and access to the class scope members\n",
    "# or used in constructors\n",
    "class ShippingContainer:\n",
    "    \n",
    "    next_serial = 1337  \n",
    "    \n",
    "    @classmethod\n",
    "    def _generate_serial(cls):\n",
    "        result = cls.next_serial\n",
    "        cls.next_serial += 1\n",
    "        return result\n",
    "    \n",
    "    \n",
    "    @classmethod\n",
    "    def create_empty(cls, owner_code):\n",
    "        \n",
    "        # calls the class object, invoking the constructor and \n",
    "        # returns the generated class instance\n",
    "        return cls(owner_code, contents=[])   \n",
    "    \n",
    "    \n",
    "    @classmethod\n",
    "    def create_with_items(cls, owner_code, items):\n",
    "        \n",
    "        # calls the class object, invoking the constructor and \n",
    "        # returns the generated class instance\n",
    "        return cls(owner_code, contents=list(items))     \n",
    "        \n",
    "        \n",
    "    # local variables: self, owner_code, contents\n",
    "    def __init__(self, owner_code, contents):\n",
    "        self.owner_code = owner_code\n",
    "        self.contents = contents\n",
    "        self.serial = ShippingContainer._generate_serial()  #can use self._generate_serial()\n",
    "        "
   ]
  },
  {
   "cell_type": "code",
   "execution_count": 8,
   "id": "2d274aa4",
   "metadata": {},
   "outputs": [
    {
     "name": "stdout",
     "output_type": "stream",
     "text": [
      "[]\n",
      "1337\n",
      "1338\n"
     ]
    }
   ],
   "source": [
    "c7 = ShippingContainer.create_empty(\"YML\")\n",
    "print(c7.contents)\n",
    "print(c7.serial)\n",
    "print(ShippingContainer.next_serial)"
   ]
  },
  {
   "cell_type": "code",
   "execution_count": 9,
   "id": "6c61f1fc",
   "metadata": {},
   "outputs": [
    {
     "name": "stdout",
     "output_type": "stream",
     "text": [
      "['food', 'minerals', 'textiles']\n",
      "1338\n",
      "1339\n"
     ]
    }
   ],
   "source": [
    "c8 = ShippingContainer.create_with_items(\"MAE\", {\"food\", \"textiles\", \"minerals\"})\n",
    "print(c8.contents)\n",
    "print(c8.serial)\n",
    "print(ShippingContainer.next_serial)"
   ]
  },
  {
   "cell_type": "code",
   "execution_count": 10,
   "id": "f99c56aa",
   "metadata": {},
   "outputs": [],
   "source": [
    "from iso6346 import create\n",
    "\n",
    "\n",
    "\n",
    "class ShippingContainer:\n",
    "    \n",
    "    next_serial = 1337  \n",
    "    \n",
    "    @classmethod\n",
    "    def _generate_serial(cls):\n",
    "        result = cls.next_serial\n",
    "        cls.next_serial += 1\n",
    "        return result\n",
    "    \n",
    "    \n",
    "    @staticmethod\n",
    "    def _make_bic_code(owner_code, serial):\n",
    "        return create(\n",
    "        owner_code = owner_code,\n",
    "            serial=str(serial).zfill(6)\n",
    "        )\n",
    "    \n",
    "    \n",
    "    @classmethod\n",
    "    def create_empty(cls, owner_code):\n",
    "        \n",
    "        # calls the class object, invoking the constructor and \n",
    "        # returns the generated class instance\n",
    "        return cls(owner_code, contents=[])   \n",
    "    \n",
    "    \n",
    "    @classmethod\n",
    "    def create_with_items(cls, owner_code, items):\n",
    "        \n",
    "        # calls the class object, invoking the constructor and \n",
    "        # returns the generated class instance\n",
    "        return cls(owner_code, contents=list(items))     \n",
    "        \n",
    "        \n",
    "    # local variables: self, owner_code, contents\n",
    "    def __init__(self, owner_code, contents):\n",
    "        self.owner_code = owner_code\n",
    "        self.contents = contents\n",
    "        self.bic = ShippingContainer._make_bic_code(\n",
    "            owner_code = owner_code,\n",
    "            serial=ShippingContainer._generate_serial()\n",
    "        )  #can use self._generate_serial()\n",
    "        \n",
    "        \n",
    "class RefrigeratedShippingContainer(ShippingContainer):\n",
    "    \n",
    "    @staticmethod\n",
    "    def _make_bic_code(owner_code, serial):\n",
    "        return create(\n",
    "            owner_code = owner_code,\n",
    "            serial=str(serial).zfill(6),\n",
    "            category='R'            \n",
    "        )\n",
    "        "
   ]
  },
  {
   "cell_type": "code",
   "execution_count": 11,
   "id": "e0358c94",
   "metadata": {},
   "outputs": [
    {
     "name": "stdout",
     "output_type": "stream",
     "text": [
      "<__main__.ShippingContainer object at 0x000002595C868580>\n",
      "YMLU0013374\n"
     ]
    }
   ],
   "source": [
    "c = ShippingContainer.create_empty(\"YML\")\n",
    "print(c)\n",
    "print(c.bic)"
   ]
  },
  {
   "cell_type": "markdown",
   "id": "0f68fb8a",
   "metadata": {},
   "source": [
    "#### inheritance of static and class methods\n",
    "* if you override static methods in the child class, you need to check the code in base class that the static methods need to be called by instance (self), rather than the base class name\n",
    "* in the following code, when you inherit a class, the class methods act as the constructor to call the __init__ method. Since the __init__ method is automatically inherited to the dervided class, the derived class objects are properly created."
   ]
  },
  {
   "cell_type": "code",
   "execution_count": 12,
   "id": "f8ef3aac",
   "metadata": {},
   "outputs": [],
   "source": [
    "from iso6346 import create\n",
    "\n",
    "\n",
    "\n",
    "class ShippingContainer:\n",
    "    \n",
    "    next_serial = 1337  \n",
    "    \n",
    "    @classmethod\n",
    "    def _generate_serial(cls):\n",
    "        result = cls.next_serial\n",
    "        cls.next_serial += 1\n",
    "        return result\n",
    "    \n",
    "    \n",
    "    @staticmethod\n",
    "    def _make_bic_code(owner_code, serial):\n",
    "        return create(\n",
    "        owner_code = owner_code,\n",
    "            serial=str(serial).zfill(6)\n",
    "        )\n",
    "    \n",
    "    \n",
    "    @classmethod\n",
    "    def create_empty(cls, owner_code):\n",
    "        \n",
    "        # calls the class object, invoking the constructor and \n",
    "        # returns the generated class instance\n",
    "        return cls(owner_code, contents=[])   \n",
    "    \n",
    "    \n",
    "    @classmethod\n",
    "    def create_with_items(cls, owner_code, items):\n",
    "        \n",
    "        # calls the class object, invoking the constructor and \n",
    "        # returns the generated class instance\n",
    "        return cls(owner_code, contents=list(items))     \n",
    "        \n",
    "        \n",
    "    # local variables: self, owner_code, contents\n",
    "    def __init__(self, owner_code, contents):\n",
    "        self.owner_code = owner_code\n",
    "        self.contents = contents\n",
    "        \n",
    "        # to obtain the polymorphic dispatch of the static method\n",
    "        # dynamically based on the real class of the object,\n",
    "        # we need to use self, rather than the base class name\n",
    "        self.bic = self._make_bic_code(\n",
    "            owner_code = owner_code,\n",
    "            serial=ShippingContainer._generate_serial()\n",
    "        )  #can use self._generate_serial()\n",
    "        \n",
    "        \n",
    "class RefrigeratedShippingContainer(ShippingContainer):\n",
    "    \n",
    "    @staticmethod\n",
    "    def _make_bic_code(owner_code, serial):\n",
    "        return create(\n",
    "            owner_code = owner_code,\n",
    "            serial=str(serial).zfill(6),\n",
    "            category='R'            \n",
    "        )\n",
    "        "
   ]
  },
  {
   "cell_type": "code",
   "execution_count": 13,
   "id": "830d4797",
   "metadata": {},
   "outputs": [],
   "source": [
    "r1 = RefrigeratedShippingContainer(\"MAE\", [\"fish\"])"
   ]
  },
  {
   "cell_type": "code",
   "execution_count": 14,
   "id": "340436fc",
   "metadata": {},
   "outputs": [
    {
     "data": {
      "text/plain": [
       "'MAER0013370'"
      ]
     },
     "execution_count": 14,
     "metadata": {},
     "output_type": "execute_result"
    }
   ],
   "source": [
    "r1.bic"
   ]
  },
  {
   "cell_type": "code",
   "execution_count": 15,
   "id": "b5ef92ef",
   "metadata": {},
   "outputs": [
    {
     "name": "stdout",
     "output_type": "stream",
     "text": [
      "<__main__.RefrigeratedShippingContainer object at 0x000002595C86A3B0>\n",
      "YMLR0013388\n"
     ]
    }
   ],
   "source": [
    "r2 = RefrigeratedShippingContainer.create_empty(\"YML\")\n",
    "print(r2)\n",
    "print(r2.bic)"
   ]
  },
  {
   "cell_type": "code",
   "execution_count": 16,
   "id": "63d7a115",
   "metadata": {},
   "outputs": [
    {
     "name": "stdout",
     "output_type": "stream",
     "text": [
      "<__main__.RefrigeratedShippingContainer object at 0x000002595C86A410>\n",
      "['ice', 'peas']\n"
     ]
    }
   ],
   "source": [
    "r2 = RefrigeratedShippingContainer.create_with_items(\"YML\", [\"ice\", \"peas\"])\n",
    "print(r2)\n",
    "print(r2.contents)"
   ]
  },
  {
   "cell_type": "markdown",
   "id": "1c8bdafd",
   "metadata": {},
   "source": [
    "#### override __init__ method in derived class\n",
    "* __init__ method of base class will not be automatically called the derived class unless you call super().__init__() explicitly\n",
    "* notice that if we call create_with_items on the derived class name, it will throw an error, since now, the cls constructor will call the __init__ in the derived class, which requires more arguments.\n",
    "  + to resolve this, we need to add keyword args to the signature of the class methods to accept extra arguments when calling the derived class constructors\n",
    "  + to make the celsius as a keyword argument, we insert a star before it, representing all the other possible arguments in the argument list, and put another keyword args to represent other keyword arguments.\n",
    "* one principle is that base class should have no knowlege about the more specialized dervied class. The specialized class may have more arguments in their constructors. We use keyword args to thread auguments through named-constructor class-methods to more specialized subclasses.  "
   ]
  },
  {
   "cell_type": "code",
   "execution_count": 17,
   "id": "ace29441",
   "metadata": {},
   "outputs": [],
   "source": [
    "from iso6346 import create\n",
    "\n",
    "\n",
    "\n",
    "class ShippingContainer:\n",
    "    \n",
    "    next_serial = 1337  \n",
    "    \n",
    "    @classmethod\n",
    "    def _generate_serial(cls):\n",
    "        result = cls.next_serial\n",
    "        cls.next_serial += 1\n",
    "        return result\n",
    "    \n",
    "    \n",
    "    @staticmethod\n",
    "    def _make_bic_code(owner_code, serial):\n",
    "        return create(\n",
    "        owner_code = owner_code,\n",
    "            serial=str(serial).zfill(6)\n",
    "        )\n",
    "    \n",
    "    \n",
    "    @classmethod\n",
    "    def create_empty(cls, owner_code, **kwargs):\n",
    "        \n",
    "        # calls the class object, invoking the constructor and \n",
    "        # returns the generated class instance\n",
    "        return cls(owner_code, contents=[], **kwargs)   \n",
    "    \n",
    "    \n",
    "    @classmethod\n",
    "    def create_with_items(cls, owner_code, items, **kwargs):\n",
    "        \n",
    "        # calls the class object, invoking the constructor and \n",
    "        # returns the generated class instance\n",
    "        return cls(owner_code, contents=list(items), **kwargs)     \n",
    "        \n",
    "        \n",
    "    # local variables: self, owner_code, contents\n",
    "    def __init__(self, owner_code, contents, **kwargs):\n",
    "        self.owner_code = owner_code\n",
    "        self.contents = contents\n",
    "        \n",
    "        # to obtain the polymorphic dispatch of the static method\n",
    "        # dynamically based on the real class of the object,\n",
    "        # we need to use self, rather than the base class name\n",
    "        self.bic = self._make_bic_code(\n",
    "            owner_code = owner_code,\n",
    "            serial=ShippingContainer._generate_serial()\n",
    "        )  #can use self._generate_serial()\n",
    "        \n",
    "        \n",
    "class RefrigeratedShippingContainer(ShippingContainer):\n",
    "    \n",
    "    MAX_CELSIUS = 4.0\n",
    "    \n",
    "    def __init__(self, owner_code, contents, *, celsius, **kwargs):\n",
    "        super().__init__(owner_code, contents, **kwargs)\n",
    "        if celsius > RefrigeratedShippingContainer.MAX_CELSIUS:\n",
    "            raise ValueError(\"Temperature too hot!\")\n",
    "        self.celsius = celsius    \n",
    "    \n",
    "    @staticmethod\n",
    "    def _make_bic_code(owner_code, serial):\n",
    "        return create(\n",
    "            owner_code = owner_code,\n",
    "            serial=str(serial).zfill(6),\n",
    "            category='R'            \n",
    "        )\n",
    "        "
   ]
  },
  {
   "cell_type": "code",
   "execution_count": 18,
   "id": "63c5bcc9",
   "metadata": {},
   "outputs": [
    {
     "data": {
      "text/plain": [
       "<__main__.RefrigeratedShippingContainer at 0x2595c8d6560>"
      ]
     },
     "execution_count": 18,
     "metadata": {},
     "output_type": "execute_result"
    }
   ],
   "source": [
    "r1 = RefrigeratedShippingContainer.create_with_items(\"ESC\", [\"onions\"], celsius=-35)\n",
    "r1"
   ]
  },
  {
   "cell_type": "markdown",
   "id": "f346b098",
   "metadata": {},
   "source": [
    "#### Properties\n",
    "* if an attribute has some restrictions and should not be directly accessed by the users, define that attribute as a property\n",
    "* getters and setters are not pythonic. We should encapsulate getter and setter methods in properties which behave like attributes\n",
    "* if we only define getter, the attribute will be read-only\n",
    "* setter decorator is an attribute of the propert (propert.setter) where the setter method is defined and decorated\n",
    "* we also define dynamic properties, such as fahrenheit that is calculated from celsius on-the-fly\n",
    "  + notice that when we set fahrenheit, it just modifies the celsius property\n",
    "* we use self-encapsulation to set and get properties inside the class definition such as in dunder init() method to set celsius property and therefore, using the validation logic in its setter method  \n",
    "* too many properties cause coupling of objects. usually, tell other objects what to do so that they can perform actions themselves, instead of asking them their state and responding to it"
   ]
  },
  {
   "cell_type": "code",
   "execution_count": 29,
   "id": "1bf31b2e",
   "metadata": {},
   "outputs": [],
   "source": [
    "from iso6346 import create\n",
    "\n",
    "\n",
    "\n",
    "class ShippingContainer:\n",
    "    \n",
    "    next_serial = 1337  \n",
    "    \n",
    "    @classmethod\n",
    "    def _generate_serial(cls):\n",
    "        result = cls.next_serial\n",
    "        cls.next_serial += 1\n",
    "        return result\n",
    "    \n",
    "    \n",
    "    @staticmethod\n",
    "    def _make_bic_code(owner_code, serial):\n",
    "        return create(\n",
    "        owner_code = owner_code,\n",
    "            serial=str(serial).zfill(6)\n",
    "        )\n",
    "    \n",
    "    \n",
    "    @classmethod\n",
    "    def create_empty(cls, owner_code, **kwargs):\n",
    "        \n",
    "        # calls the class object, invoking the constructor and \n",
    "        # returns the generated class instance\n",
    "        return cls(owner_code, contents=[], **kwargs)   \n",
    "    \n",
    "    \n",
    "    @classmethod\n",
    "    def create_with_items(cls, owner_code, items, **kwargs):\n",
    "        \n",
    "        # calls the class object, invoking the constructor and \n",
    "        # returns the generated class instance\n",
    "        return cls(owner_code, contents=list(items), **kwargs)     \n",
    "        \n",
    "        \n",
    "    # local variables: self, owner_code, contents\n",
    "    def __init__(self, owner_code, contents, **kwargs):\n",
    "        self.owner_code = owner_code\n",
    "        self.contents = contents\n",
    "        \n",
    "        # to obtain the polymorphic dispatch of the static method\n",
    "        # dynamically based on the real class of the object,\n",
    "        # we need to use self, rather than the base class name\n",
    "        self.bic = self._make_bic_code(\n",
    "            owner_code = owner_code,\n",
    "            serial=ShippingContainer._generate_serial()\n",
    "        )  #can use self._generate_serial()\n",
    "        \n",
    "        \n",
    "class RefrigeratedShippingContainer(ShippingContainer):\n",
    "    \n",
    "    MAX_CELSIUS = 4.0\n",
    "    \n",
    "    def __init__(self, owner_code, contents, *, celsius, **kwargs):\n",
    "        super().__init__(owner_code, contents, **kwargs)\n",
    "        self.celsius = celsius    \n",
    "    \n",
    "    \n",
    "    @property\n",
    "    def celsius(self):\n",
    "        return self._celsius\n",
    "    \n",
    "    \n",
    "    @celsius.setter\n",
    "    def celsius(self, value):\n",
    "        if value > RefrigeratedShippingContainer.MAX_CELSIUS:\n",
    "            raise ValueError(\"Temperature too hot!\")\n",
    "        self._celsius = value\n",
    "    \n",
    "    \n",
    "    @property\n",
    "    def fahrenheit(self):\n",
    "        \n",
    "        # we directly refer to the celsius property\n",
    "        return RefrigeratedShippingContainer._c_to_f(self.celsius)\n",
    "    \n",
    "    @fahrenheit.setter\n",
    "    def fahrenheit(self, value):\n",
    "        self.celsius = RefrigeratedShippingContainer._f_to_c(value)\n",
    "        \n",
    "        \n",
    "    @staticmethod\n",
    "    def _make_bic_code(owner_code, serial):\n",
    "        return create(\n",
    "            owner_code = owner_code,\n",
    "            serial=str(serial).zfill(6),\n",
    "            category='R'            \n",
    "        )\n",
    "    \n",
    "    \n",
    "    # these two convertion methods don't depend on instance and class variables, and \n",
    "    # don't belong to the global scope in the module either, and thus, good \n",
    "    # candidates for staticmethods\n",
    "    @staticmethod\n",
    "    def _c_to_f(celsius):\n",
    "        return celsius * 9/5 + 32\n",
    "    \n",
    "    \n",
    "    @staticmethod\n",
    "    def _f_to_c(fahrenheit):\n",
    "        return (fahrenheit - 32) * 5/9"
   ]
  },
  {
   "cell_type": "code",
   "execution_count": 30,
   "id": "44221538",
   "metadata": {},
   "outputs": [
    {
     "data": {
      "text/plain": [
       "-18.0"
      ]
     },
     "execution_count": 30,
     "metadata": {},
     "output_type": "execute_result"
    }
   ],
   "source": [
    "r4 = RefrigeratedShippingContainer.create_with_items(\"YML\", [\"prawns\"], celsius=-18.0)\n",
    "r4.celsius"
   ]
  },
  {
   "cell_type": "code",
   "execution_count": 31,
   "id": "add275b0",
   "metadata": {},
   "outputs": [
    {
     "data": {
      "text/plain": [
       "-19"
      ]
     },
     "execution_count": 31,
     "metadata": {},
     "output_type": "execute_result"
    }
   ],
   "source": [
    "r4.celsius = -19\n",
    "r4.celsius"
   ]
  },
  {
   "cell_type": "code",
   "execution_count": 32,
   "id": "47d2c5be",
   "metadata": {},
   "outputs": [
    {
     "data": {
      "text/plain": [
       "-2.200000000000003"
      ]
     },
     "execution_count": 32,
     "metadata": {},
     "output_type": "execute_result"
    }
   ],
   "source": [
    "r4.fahrenheit"
   ]
  },
  {
   "cell_type": "code",
   "execution_count": 33,
   "id": "88953fbd",
   "metadata": {},
   "outputs": [
    {
     "ename": "ValueError",
     "evalue": "Temperature too hot!",
     "output_type": "error",
     "traceback": [
      "\u001b[1;31m---------------------------------------------------------------------------\u001b[0m",
      "\u001b[1;31mValueError\u001b[0m                                Traceback (most recent call last)",
      "Input \u001b[1;32mIn [33]\u001b[0m, in \u001b[0;36m<cell line: 1>\u001b[1;34m()\u001b[0m\n\u001b[1;32m----> 1\u001b[0m r5 \u001b[38;5;241m=\u001b[39m \u001b[43mRefrigeratedShippingContainer\u001b[49m\u001b[38;5;241;43m.\u001b[39;49m\u001b[43mcreate_with_items\u001b[49m\u001b[43m(\u001b[49m\u001b[38;5;124;43m\"\u001b[39;49m\u001b[38;5;124;43mYML\u001b[39;49m\u001b[38;5;124;43m\"\u001b[39;49m\u001b[43m,\u001b[49m\u001b[43m \u001b[49m\u001b[43m[\u001b[49m\u001b[38;5;124;43m\"\u001b[39;49m\u001b[38;5;124;43mprawns\u001b[39;49m\u001b[38;5;124;43m\"\u001b[39;49m\u001b[43m]\u001b[49m\u001b[43m,\u001b[49m\u001b[43m \u001b[49m\u001b[43mcelsius\u001b[49m\u001b[38;5;241;43m=\u001b[39;49m\u001b[38;5;241;43m5.0\u001b[39;49m\u001b[43m)\u001b[49m\n",
      "Input \u001b[1;32mIn [29]\u001b[0m, in \u001b[0;36mShippingContainer.create_with_items\u001b[1;34m(cls, owner_code, items, **kwargs)\u001b[0m\n\u001b[0;32m     32\u001b[0m \u001b[38;5;129m@classmethod\u001b[39m\n\u001b[0;32m     33\u001b[0m \u001b[38;5;28;01mdef\u001b[39;00m \u001b[38;5;21mcreate_with_items\u001b[39m(\u001b[38;5;28mcls\u001b[39m, owner_code, items, \u001b[38;5;241m*\u001b[39m\u001b[38;5;241m*\u001b[39mkwargs):\n\u001b[0;32m     34\u001b[0m     \n\u001b[0;32m     35\u001b[0m     \u001b[38;5;66;03m# calls the class object, invoking the constructor and \u001b[39;00m\n\u001b[0;32m     36\u001b[0m     \u001b[38;5;66;03m# returns the generated class instance\u001b[39;00m\n\u001b[1;32m---> 37\u001b[0m     \u001b[38;5;28;01mreturn\u001b[39;00m \u001b[38;5;28mcls\u001b[39m(owner_code, contents\u001b[38;5;241m=\u001b[39m\u001b[38;5;28mlist\u001b[39m(items), \u001b[38;5;241m*\u001b[39m\u001b[38;5;241m*\u001b[39mkwargs)\n",
      "Input \u001b[1;32mIn [29]\u001b[0m, in \u001b[0;36mRefrigeratedShippingContainer.__init__\u001b[1;34m(self, owner_code, contents, celsius, **kwargs)\u001b[0m\n\u001b[0;32m     58\u001b[0m \u001b[38;5;28;01mdef\u001b[39;00m \u001b[38;5;21m__init__\u001b[39m(\u001b[38;5;28mself\u001b[39m, owner_code, contents, \u001b[38;5;241m*\u001b[39m, celsius, \u001b[38;5;241m*\u001b[39m\u001b[38;5;241m*\u001b[39mkwargs):\n\u001b[0;32m     59\u001b[0m     \u001b[38;5;28msuper\u001b[39m()\u001b[38;5;241m.\u001b[39m\u001b[38;5;21m__init__\u001b[39m(owner_code, contents, \u001b[38;5;241m*\u001b[39m\u001b[38;5;241m*\u001b[39mkwargs)\n\u001b[1;32m---> 60\u001b[0m     \u001b[38;5;28mself\u001b[39m\u001b[38;5;241m.\u001b[39mcelsius \u001b[38;5;241m=\u001b[39m celsius\n",
      "Input \u001b[1;32mIn [29]\u001b[0m, in \u001b[0;36mRefrigeratedShippingContainer.celsius\u001b[1;34m(self, value)\u001b[0m\n\u001b[0;32m     68\u001b[0m \u001b[38;5;129m@celsius\u001b[39m\u001b[38;5;241m.\u001b[39msetter\n\u001b[0;32m     69\u001b[0m \u001b[38;5;28;01mdef\u001b[39;00m \u001b[38;5;21mcelsius\u001b[39m(\u001b[38;5;28mself\u001b[39m, value):\n\u001b[0;32m     70\u001b[0m     \u001b[38;5;28;01mif\u001b[39;00m value \u001b[38;5;241m>\u001b[39m RefrigeratedShippingContainer\u001b[38;5;241m.\u001b[39mMAX_CELSIUS:\n\u001b[1;32m---> 71\u001b[0m         \u001b[38;5;28;01mraise\u001b[39;00m \u001b[38;5;167;01mValueError\u001b[39;00m(\u001b[38;5;124m\"\u001b[39m\u001b[38;5;124mTemperature too hot!\u001b[39m\u001b[38;5;124m\"\u001b[39m)\n\u001b[0;32m     72\u001b[0m     \u001b[38;5;28mself\u001b[39m\u001b[38;5;241m.\u001b[39m_celsius \u001b[38;5;241m=\u001b[39m value\n",
      "\u001b[1;31mValueError\u001b[0m: Temperature too hot!"
     ]
    }
   ],
   "source": [
    "# demonstrate the init method will utilize the property setting method for validation\n",
    "r5 = RefrigeratedShippingContainer.create_with_items(\"YML\", [\"prawns\"], celsius=5.0)"
   ]
  },
  {
   "cell_type": "markdown",
   "id": "14bac7a3",
   "metadata": {},
   "source": [
    "#### override properties in heritance\n",
    "* attributes that are same for all class instances are set as class attributes\n",
    "* to modify a property getter in derived class, just override property getter. can use super().property in the getter function\n",
    "* to modify a property setter in derived class, need to cite the fully qualified name of the property in derived class\n",
    "* to modify a proerty setter in derived class, we can not use super().property, instead, we need to use the fully qualified property name's fset method 'fully_qualified_property.fset(self, value)'\n",
    "* due to the self encapsulation, after we modified the getter and setter of a property, if that property is used in init() of the parent class, the parent class init() method will use the modifed property getter and setter from derived class when initializing a sub-class object"
   ]
  },
  {
   "cell_type": "code",
   "execution_count": 46,
   "id": "4af2e52d",
   "metadata": {},
   "outputs": [],
   "source": [
    "from iso6346 import create\n",
    "\n",
    "\n",
    "\n",
    "class ShippingContainer:\n",
    "    \n",
    "    \n",
    "    HEIGHT_FT = 8.5\n",
    "    WIDTH_FT = 8.0\n",
    "    \n",
    "    next_serial = 1337  \n",
    "    \n",
    "    @classmethod\n",
    "    def _generate_serial(cls):\n",
    "        result = cls.next_serial\n",
    "        cls.next_serial += 1\n",
    "        return result\n",
    "    \n",
    "    \n",
    "    @staticmethod\n",
    "    def _make_bic_code(owner_code, serial):\n",
    "        return create(\n",
    "        owner_code = owner_code,\n",
    "            serial=str(serial).zfill(6)\n",
    "        )\n",
    "    \n",
    "    \n",
    "    @classmethod\n",
    "    def create_empty(cls, owner_code, length_ft, **kwargs):\n",
    "        \n",
    "        # calls the class object, invoking the constructor and \n",
    "        # returns the generated class instance\n",
    "        return cls(owner_code, length_ft, contents=[], **kwargs)   \n",
    "    \n",
    "    \n",
    "    @classmethod\n",
    "    def create_with_items(cls, owner_code, length_ft, items, **kwargs):\n",
    "        \n",
    "        # calls the class object, invoking the constructor and \n",
    "        # returns the generated class instance\n",
    "        return cls(owner_code, length_ft, contents=list(items), **kwargs)     \n",
    "        \n",
    "        \n",
    "    # local variables: self, owner_code, contents\n",
    "    def __init__(self, owner_code, length_ft, contents, **kwargs):\n",
    "        self.owner_code = owner_code\n",
    "        self.length_ft = length_ft\n",
    "        self.contents = contents\n",
    "        \n",
    "        # to obtain the polymorphic dispatch of the static method\n",
    "        # dynamically based on the real class of the object,\n",
    "        # we need to use self, rather than the base class name\n",
    "        self.bic = self._make_bic_code(\n",
    "            owner_code = owner_code,\n",
    "            serial=ShippingContainer._generate_serial()\n",
    "        )  #can use self._generate_serial()\n",
    "        \n",
    "    @property\n",
    "    def volume_ft3(self):\n",
    "        return ShippingContainer.HEIGHT_FT * ShippingContainer.WIDTH_FT * self.length_ft\n",
    "        \n",
    "        \n",
    "class RefrigeratedShippingContainer(ShippingContainer):\n",
    "    \n",
    "    MAX_CELSIUS = 4.0\n",
    "    FRIDGE_VOLUME = 100\n",
    "    \n",
    "    def __init__(self, owner_code, length_ft, contents, *, celsius, **kwargs):\n",
    "        super().__init__(owner_code, length_ft, contents, **kwargs)\n",
    "        self.celsius = celsius    \n",
    "    \n",
    "    \n",
    "    @property\n",
    "    def celsius(self):\n",
    "        return self._celsius\n",
    "    \n",
    "    \n",
    "    @celsius.setter\n",
    "    def celsius(self, value):\n",
    "        if value > RefrigeratedShippingContainer.MAX_CELSIUS:\n",
    "            raise ValueError(\"Temperature too hot!\")\n",
    "        self._celsius = value\n",
    "    \n",
    "    \n",
    "    @property\n",
    "    def fahrenheit(self):\n",
    "        \n",
    "        # we directly refer to the celsius property\n",
    "        return RefrigeratedShippingContainer._c_to_f(self.celsius)\n",
    "    \n",
    "    @fahrenheit.setter\n",
    "    def fahrenheit(self, value):\n",
    "        self.celsius = RefrigeratedShippingContainer._f_to_c(value)\n",
    "        \n",
    "        \n",
    "    @property\n",
    "    def volume_ft3(self):\n",
    "        return (\n",
    "           super().volume_ft3 - RefrigeratedShippingContainer.FRIDGE_VOLUME\n",
    "        )\n",
    "    \n",
    "    @staticmethod\n",
    "    def _make_bic_code(owner_code, serial):\n",
    "        return create(\n",
    "            owner_code = owner_code,\n",
    "            serial=str(serial).zfill(6),\n",
    "            category='R'            \n",
    "        )\n",
    "    \n",
    "    \n",
    "    # these two convertion methods don't depend on instance and class variables, and \n",
    "    # don't belong to the global scope in the module either, and thus, good \n",
    "    # candidates for staticmethods\n",
    "    @staticmethod\n",
    "    def _c_to_f(celsius):\n",
    "        return celsius * 9/5 + 32\n",
    "    \n",
    "    \n",
    "    @staticmethod\n",
    "    def _f_to_c(fahrenheit):\n",
    "        return (fahrenheit - 32) * 5/9\n",
    "    \n",
    "\n",
    "class HeatedRefrigeratedShippingContainer(RefrigeratedShippingContainer):\n",
    "    \n",
    "    MIN_CELSIUS = -20\n",
    "    \n",
    "    \n",
    "    @RefrigeratedShippingContainer.celsius.setter\n",
    "    def celsius(self, value):\n",
    "        if value < HeatedRefrigeratedShippingContainer.MIN_CELSIUS:\n",
    "            raise ValueError(\"Temperature too cold!\")\n",
    "            \n",
    "        RefrigeratedShippingContainer.celsius.fset(self, value)    \n",
    "    "
   ]
  },
  {
   "cell_type": "code",
   "execution_count": 47,
   "id": "19be1532",
   "metadata": {},
   "outputs": [
    {
     "data": {
      "text/plain": [
       "1360.0"
      ]
     },
     "execution_count": 47,
     "metadata": {},
     "output_type": "execute_result"
    }
   ],
   "source": [
    "c = ShippingContainer.create_empty(\"YML\", length_ft=20)\n",
    "c.volume_ft3"
   ]
  },
  {
   "cell_type": "code",
   "execution_count": 48,
   "id": "8a0a275a",
   "metadata": {},
   "outputs": [
    {
     "data": {
      "text/plain": [
       "1260.0"
      ]
     },
     "execution_count": 48,
     "metadata": {},
     "output_type": "execute_result"
    }
   ],
   "source": [
    "r = RefrigeratedShippingContainer.create_empty(\"YML\", length_ft=20, celsius=-10.0)\n",
    "r.volume_ft3"
   ]
  },
  {
   "cell_type": "code",
   "execution_count": 49,
   "id": "0a1f35ad",
   "metadata": {},
   "outputs": [
    {
     "data": {
      "text/plain": [
       "<__main__.HeatedRefrigeratedShippingContainer at 0x2595d44eb00>"
      ]
     },
     "execution_count": 49,
     "metadata": {},
     "output_type": "execute_result"
    }
   ],
   "source": [
    "h1 = HeatedRefrigeratedShippingContainer.create_empty(\"YML\", length_ft=40, celsius=-18.0)\n",
    "h1"
   ]
  },
  {
   "cell_type": "markdown",
   "id": "e002a607",
   "metadata": {},
   "source": [
    "#### Override properties by template method\n",
    "* the best way to override properties in sub-class is to use template method, not to directly override the properties\n",
    "* to do this, we define internal regular methods that will be called by getter and setter in base class, and just override these internal methods in sub class"
   ]
  },
  {
   "cell_type": "code",
   "execution_count": 64,
   "id": "ed00e67e",
   "metadata": {},
   "outputs": [],
   "source": [
    "from iso6346 import create\n",
    "\n",
    "\n",
    "\n",
    "class ShippingContainer:\n",
    "    \n",
    "    \n",
    "    HEIGHT_FT = 8.5\n",
    "    WIDTH_FT = 8.0\n",
    "    \n",
    "    next_serial = 1337  \n",
    "    \n",
    "    @classmethod\n",
    "    def _generate_serial(cls):\n",
    "        result = cls.next_serial\n",
    "        cls.next_serial += 1\n",
    "        return result\n",
    "    \n",
    "    \n",
    "    @staticmethod\n",
    "    def _make_bic_code(owner_code, serial):\n",
    "        return create(\n",
    "        owner_code = owner_code,\n",
    "            serial=str(serial).zfill(6)\n",
    "        )\n",
    "    \n",
    "    \n",
    "    @classmethod\n",
    "    def create_empty(cls, owner_code, length_ft, **kwargs):\n",
    "        \n",
    "        # calls the class object, invoking the constructor and \n",
    "        # returns the generated class instance\n",
    "        return cls(owner_code, length_ft, contents=[], **kwargs)   \n",
    "    \n",
    "    \n",
    "    @classmethod\n",
    "    def create_with_items(cls, owner_code, length_ft, items, **kwargs):\n",
    "        \n",
    "        # calls the class object, invoking the constructor and \n",
    "        # returns the generated class instance\n",
    "        return cls(owner_code, length_ft, contents=list(items), **kwargs)     \n",
    "        \n",
    "        \n",
    "    # local variables: self, owner_code, contents\n",
    "    def __init__(self, owner_code, length_ft, contents, **kwargs):\n",
    "        self.owner_code = owner_code\n",
    "        self.length_ft = length_ft\n",
    "        self.contents = contents\n",
    "        \n",
    "        # to obtain the polymorphic dispatch of the static method\n",
    "        # dynamically based on the real class of the object,\n",
    "        # we need to use self, rather than the base class name\n",
    "        self.bic = self._make_bic_code(\n",
    "            owner_code = owner_code,\n",
    "            serial=ShippingContainer._generate_serial()\n",
    "        )  #can use self._generate_serial()\n",
    "        \n",
    "    @property\n",
    "    def volume_ft3(self):\n",
    "        return self._calc_volume()\n",
    "    \n",
    "    def _calc_volume(self):\n",
    "        return ShippingContainer.HEIGHT_FT * ShippingContainer.WIDTH_FT * self.length_ft\n",
    "        \n",
    "        \n",
    "class RefrigeratedShippingContainer(ShippingContainer):\n",
    "    \n",
    "    MAX_CELSIUS = 4.0\n",
    "    FRIDGE_VOLUME = 100\n",
    "    \n",
    "    def __init__(self, owner_code, length_ft, contents, *, celsius, **kwargs):\n",
    "        super().__init__(owner_code, length_ft, contents, **kwargs)\n",
    "        self.celsius = celsius    \n",
    "    \n",
    "    \n",
    "    @property\n",
    "    def celsius(self):\n",
    "        return self._celsius\n",
    "    \n",
    "    \n",
    "    @celsius.setter\n",
    "    def celsius(self, value):\n",
    "        self._set_celsius(value)\n",
    "        \n",
    "        \n",
    "    def _set_celsius(self, value):    \n",
    "        if value > RefrigeratedShippingContainer.MAX_CELSIUS:\n",
    "            raise ValueError(\"Temperature too hot!\")\n",
    "        self._celsius = value\n",
    "    \n",
    "    \n",
    "    @property\n",
    "    def fahrenheit(self):\n",
    "        \n",
    "        # we directly refer to the celsius property\n",
    "        return RefrigeratedShippingContainer._c_to_f(self.celsius)\n",
    "    \n",
    "    @fahrenheit.setter\n",
    "    def fahrenheit(self, value):\n",
    "        self.celsius = RefrigeratedShippingContainer._f_to_c(value)\n",
    "        \n",
    "        \n",
    "    def _calc_volume(self):\n",
    "        return (\n",
    "           super()._calc_volume() - RefrigeratedShippingContainer.FRIDGE_VOLUME\n",
    "        )\n",
    "    \n",
    "    @staticmethod\n",
    "    def _make_bic_code(owner_code, serial):\n",
    "        return create(\n",
    "            owner_code = owner_code,\n",
    "            serial=str(serial).zfill(6),\n",
    "            category='R'            \n",
    "        )\n",
    "    \n",
    "    \n",
    "    # these two convertion methods don't depend on instance and class variables, and \n",
    "    # don't belong to the global scope in the module either, and thus, good \n",
    "    # candidates for staticmethods\n",
    "    @staticmethod\n",
    "    def _c_to_f(celsius):\n",
    "        return celsius * 9/5 + 32\n",
    "    \n",
    "    \n",
    "    @staticmethod\n",
    "    def _f_to_c(fahrenheit):\n",
    "        return (fahrenheit - 32) * 5/9\n",
    "    \n",
    "\n",
    "class HeatedRefrigeratedShippingContainer(RefrigeratedShippingContainer):\n",
    "    \n",
    "    MIN_CELSIUS = -20\n",
    "    \n",
    "    \n",
    "    def _set_celsius(self, value):\n",
    "        if value < HeatedRefrigeratedShippingContainer.MIN_CELSIUS:\n",
    "            raise ValueError(\"Temperature too cold!\")\n",
    "            \n",
    "        super()._set_celsius(value)    \n",
    "    "
   ]
  },
  {
   "cell_type": "code",
   "execution_count": 65,
   "id": "5ed1ca5f",
   "metadata": {},
   "outputs": [
    {
     "name": "stdout",
     "output_type": "stream",
     "text": [
      "1360.0\n"
     ]
    }
   ],
   "source": [
    "c = ShippingContainer.create_empty(\"YML\", length_ft=20)\n",
    "print(c.volume_ft3)"
   ]
  },
  {
   "cell_type": "code",
   "execution_count": 66,
   "id": "faca629e",
   "metadata": {},
   "outputs": [
    {
     "data": {
      "text/plain": [
       "1260.0"
      ]
     },
     "execution_count": 66,
     "metadata": {},
     "output_type": "execute_result"
    }
   ],
   "source": [
    "r = RefrigeratedShippingContainer.create_empty(\"YML\", length_ft=20, celsius=-10.0)\n",
    "r.volume_ft3"
   ]
  },
  {
   "cell_type": "code",
   "execution_count": 68,
   "id": "3ca88ad1",
   "metadata": {},
   "outputs": [
    {
     "data": {
      "text/plain": [
       "-18.0"
      ]
     },
     "execution_count": 68,
     "metadata": {},
     "output_type": "execute_result"
    }
   ],
   "source": [
    "h1 = HeatedRefrigeratedShippingContainer.create_empty(\"YML\", length_ft=40, celsius=-18.0)\n",
    "h1.celsius"
   ]
  },
  {
   "cell_type": "code",
   "execution_count": null,
   "id": "87f3aa5f",
   "metadata": {},
   "outputs": [],
   "source": []
  }
 ],
 "metadata": {
  "kernelspec": {
   "display_name": "Python 3 (ipykernel)",
   "language": "python",
   "name": "python3"
  },
  "language_info": {
   "codemirror_mode": {
    "name": "ipython",
    "version": 3
   },
   "file_extension": ".py",
   "mimetype": "text/x-python",
   "name": "python",
   "nbconvert_exporter": "python",
   "pygments_lexer": "ipython3",
   "version": "3.10.4"
  }
 },
 "nbformat": 4,
 "nbformat_minor": 5
}
