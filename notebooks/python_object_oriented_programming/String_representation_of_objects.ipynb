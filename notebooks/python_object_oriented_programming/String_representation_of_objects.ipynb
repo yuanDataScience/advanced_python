{
 "cells": [
  {
   "cell_type": "markdown",
   "id": "f8821cfe",
   "metadata": {},
   "source": [
    "## String representation of objects"
   ]
  },
  {
   "cell_type": "markdown",
   "id": "3e74ec87",
   "metadata": {},
   "source": [
    "### There are 3 built-in functions for obtaining a string representation of an object\n",
    "* -r = repr(obj)\n",
    "* -s = str(obj)\n",
    "* -f = format(obj)\n",
    "\n",
    "### Customization of these functions will be critical for writing programs that are\n",
    "* maintainable\n",
    "* debuggable\n",
    "* usable"
   ]
  },
  {
   "cell_type": "code",
   "execution_count": 3,
   "id": "8833b976",
   "metadata": {},
   "outputs": [],
   "source": [
    "class Position:\n",
    "    \n",
    "    def __init__(self, latitude, longitude):\n",
    "        if not (-90 <= latitude <= 90):\n",
    "            raise ValueError(f\"Latitude {latitude} out of range\")\n",
    "            \n",
    "        if not (-180 <= longitude <= 180):\n",
    "            raise ValueError(f\"Longitude {longitude} out of range\")\n",
    "            \n",
    "        self._latitude = latitude\n",
    "        self._longitude = longitude\n",
    "        \n",
    "    @property\n",
    "    def latitude(self):\n",
    "        return self._latitude\n",
    "    \n",
    "    @property\n",
    "    def longitude(self):\n",
    "        return self._longitude"
   ]
  },
  {
   "cell_type": "code",
   "execution_count": 4,
   "id": "3c053c6a",
   "metadata": {},
   "outputs": [],
   "source": [
    "oslo = Position(60.0, 10.7)"
   ]
  },
  {
   "cell_type": "code",
   "execution_count": 6,
   "id": "7208428f",
   "metadata": {},
   "outputs": [
    {
     "data": {
      "text/plain": [
       "'<__main__.Position object at 0x000002098982C340>'"
      ]
     },
     "execution_count": 6,
     "metadata": {},
     "output_type": "execute_result"
    }
   ],
   "source": [
    "# repr returns the model.type and hexadecimal address of the object in memory\n",
    "repr(oslo)"
   ]
  },
  {
   "cell_type": "code",
   "execution_count": 7,
   "id": "92a23983",
   "metadata": {},
   "outputs": [
    {
     "data": {
      "text/plain": [
       "'<__main__.Position object at 0x000002098982C340>'"
      ]
     },
     "execution_count": 7,
     "metadata": {},
     "output_type": "execute_result"
    }
   ],
   "source": [
    "# str returns the same results as repr\n",
    "str(oslo)"
   ]
  },
  {
   "cell_type": "code",
   "execution_count": 8,
   "id": "cfe87af2",
   "metadata": {},
   "outputs": [
    {
     "data": {
      "text/plain": [
       "'<__main__.Position object at 0x000002098982C340>'"
      ]
     },
     "execution_count": 8,
     "metadata": {},
     "output_type": "execute_result"
    }
   ],
   "source": [
    "# format gives the same results\n",
    "format(oslo)"
   ]
  },
  {
   "cell_type": "markdown",
   "id": "0d7f020f",
   "metadata": {},
   "source": [
    "### built-in string reprensation methods\n",
    "* are inherited from the object base class as our Position class implicitly inherits\n",
    "* they are defined by the built-in special method of __repr__, __str__, and __format__, as show by dir(object)"
   ]
  },
  {
   "cell_type": "code",
   "execution_count": 9,
   "id": "3916de46",
   "metadata": {},
   "outputs": [
    {
     "data": {
      "text/plain": [
       "['__class__',\n",
       " '__delattr__',\n",
       " '__dir__',\n",
       " '__doc__',\n",
       " '__eq__',\n",
       " '__format__',\n",
       " '__ge__',\n",
       " '__getattribute__',\n",
       " '__gt__',\n",
       " '__hash__',\n",
       " '__init__',\n",
       " '__init_subclass__',\n",
       " '__le__',\n",
       " '__lt__',\n",
       " '__ne__',\n",
       " '__new__',\n",
       " '__reduce__',\n",
       " '__reduce_ex__',\n",
       " '__repr__',\n",
       " '__setattr__',\n",
       " '__sizeof__',\n",
       " '__str__',\n",
       " '__subclasshook__']"
      ]
     },
     "execution_count": 9,
     "metadata": {},
     "output_type": "execute_result"
    }
   ],
   "source": [
    "dir(object)"
   ]
  },
  {
   "cell_type": "markdown",
   "id": "97f5ae86",
   "metadata": {},
   "source": [
    "### Customizing repr()\n",
    "#### general rules\n",
    "* as a rule, you should almost always override \\_\\_repr\\_\\_() in your classes\n",
    "* repr is for developers of the system\n",
    "* we override the built in special method __repr__(self)\n",
    "* this method returns a string that we can define\n",
    "* when you print the object, it prints the repr string without quotation marks\n",
    "* when implementing repr, include necessary state, such as its class/type, the major attr values. May need to compromise for complex objects on how many states to include\n",
    "* usually format the output as constructor invocation source code, such as Position(latitude= -33.9, longitude= 151.2), see the code in the following cell\n",
    "* we can test the representation by evaluating the output of repr(obj) using eval() function to reconstruct the object\n",
    "* after overriding \\_\\_repr\\_\\_(self), if we don't override \\_\\_str(self)\\_\\_ and \\_\\_format(self)\\_\\_, \\_\\_repr\\_\\_(self) will automatically apply to these methods\n",
    "\n",
    "```python\n",
    "def __repr__(self):\n",
    "    return f\"Position(latitude={self.latitude}, longitude={self.longitude})\"\n",
    "\n",
    "sydney = Position(-33.9, 151.2)\n",
    "r = repr(sydney)\n",
    "p = eval(r)\n",
    "p\n",
    "```\n",
    "\n",
    "* to dynamically generate the class/type, we can use the built in attribute __class__.__name__ to replace hardcoded \"Position\"\n",
    "* we can further use type(self) to replace __class__, since we prefer to use built-in function than direct special attribute access\n",
    "\n",
    "```python\n",
    "def __repr__(self):\n",
    "    return f\"type(self).__name__(latitude={self.latitude}, longitude={self.longitude})\"\n",
    "```"
   ]
  },
  {
   "cell_type": "code",
   "execution_count": 14,
   "id": "d9fb0afc",
   "metadata": {},
   "outputs": [],
   "source": [
    "# version 1, use hardcoded class name\n",
    "class Position:\n",
    "    \n",
    "    def __init__(self, latitude, longitude):\n",
    "        if not (-90 <= latitude <= 90):\n",
    "            raise ValueError(f\"Latitude {latitude} out of range\")\n",
    "            \n",
    "        if not (-180 <= longitude <= 180):\n",
    "            raise ValueError(f\"Longitude {longitude} out of range\")\n",
    "            \n",
    "        self._latitude = latitude\n",
    "        self._longitude = longitude\n",
    "        \n",
    "    @property\n",
    "    def latitude(self):\n",
    "        return self._latitude\n",
    "    \n",
    "    @property\n",
    "    def longitude(self):\n",
    "        return self._longitude\n",
    "    \n",
    "    \n",
    "    def __repr__(self):\n",
    "        return f\"Position(latitude={self.latitude}, longitude={self.longitude})\""
   ]
  },
  {
   "cell_type": "code",
   "execution_count": 15,
   "id": "accf3a0f",
   "metadata": {},
   "outputs": [
    {
     "data": {
      "text/plain": [
       "'Position(latitude=-33.9, longitude=151.2)'"
      ]
     },
     "execution_count": 15,
     "metadata": {},
     "output_type": "execute_result"
    }
   ],
   "source": [
    "sydney = Position(-33.9, 151.2)\n",
    "repr(sydney)"
   ]
  },
  {
   "cell_type": "code",
   "execution_count": 16,
   "id": "b8772696",
   "metadata": {},
   "outputs": [
    {
     "data": {
      "text/plain": [
       "Position(latitude=-33.9, longitude=151.2)"
      ]
     },
     "execution_count": 16,
     "metadata": {},
     "output_type": "execute_result"
    }
   ],
   "source": [
    "sydney"
   ]
  },
  {
   "cell_type": "code",
   "execution_count": 19,
   "id": "1de4c73d",
   "metadata": {},
   "outputs": [
    {
     "data": {
      "text/plain": [
       "Position(latitude=-33.9, longitude=151.2)"
      ]
     },
     "execution_count": 19,
     "metadata": {},
     "output_type": "execute_result"
    }
   ],
   "source": [
    "sydney = Position(-33.9, 151.2)\n",
    "r = repr(sydney)\n",
    "p = eval(r)\n",
    "p "
   ]
  },
  {
   "cell_type": "code",
   "execution_count": 26,
   "id": "0cb3592d",
   "metadata": {},
   "outputs": [],
   "source": [
    "# version 2, use type(self).__name__ to generate class name dynamically\n",
    "class Position:\n",
    "    \n",
    "    def __init__(self, latitude, longitude):\n",
    "        if not (-90 <= latitude <= 90):\n",
    "            raise ValueError(f\"Latitude {latitude} out of range\")\n",
    "            \n",
    "        if not (-180 <= longitude <= 180):\n",
    "            raise ValueError(f\"Longitude {longitude} out of range\")\n",
    "            \n",
    "        self._latitude = latitude\n",
    "        self._longitude = longitude\n",
    "        \n",
    "    @property\n",
    "    def latitude(self):\n",
    "        return self._latitude\n",
    "    \n",
    "    @property\n",
    "    def longitude(self):\n",
    "        return self._longitude\n",
    "    \n",
    "# use type(self).__name__    \n",
    "#     def __repr__(self):\n",
    "#         return f\"{type(self).__name__}(latitude={self.latitude}, longitude={self.longitude})\"\n",
    "\n",
    "    def __repr__(self):\n",
    "        return f\"{typename(self)}(latitude={self.latitude}, longitude={self.longitude})\"\n",
    "    \n",
    "\n",
    "def typename(obj):\n",
    "    return type(obj).__name__\n"
   ]
  },
  {
   "cell_type": "code",
   "execution_count": 27,
   "id": "0e2f7f1e",
   "metadata": {},
   "outputs": [
    {
     "data": {
      "text/plain": [
       "Position(latitude=-33.9, longitude=151.2)"
      ]
     },
     "execution_count": 27,
     "metadata": {},
     "output_type": "execute_result"
    }
   ],
   "source": [
    "sydney = Position(-33.9, 151.2)\n",
    "r = repr(sydney)\n",
    "p = eval(r)\n",
    "p "
   ]
  },
  {
   "cell_type": "code",
   "execution_count": 33,
   "id": "f2f2afa9",
   "metadata": {},
   "outputs": [
    {
     "name": "stdout",
     "output_type": "stream",
     "text": [
      "Position(latitude=-33.9, longitude=151.2)\n",
      "Position(latitude=-33.9, longitude=151.2)\n",
      "Position(latitude=-33.9, longitude=151.2)\n"
     ]
    }
   ],
   "source": [
    "# repr will automatically apply to str and format functions\n",
    "print(repr(sydney))\n",
    "print(str(sydney))\n",
    "print(format(sydney))"
   ]
  },
  {
   "cell_type": "markdown",
   "id": "ea129417",
   "metadata": {},
   "source": [
    "#### Inheritance of repr \n",
    "* the repr function applies to sub-class. The class of the subclass will automatically be generated by type(self).\\_\\_name\\_\\_"
   ]
  },
  {
   "cell_type": "code",
   "execution_count": 34,
   "id": "6701d4b0",
   "metadata": {},
   "outputs": [],
   "source": [
    "# version 2, use type(self).__name__ to generate class name dynamically\n",
    "class Position:\n",
    "    \n",
    "    def __init__(self, latitude, longitude):\n",
    "        if not (-90 <= latitude <= 90):\n",
    "            raise ValueError(f\"Latitude {latitude} out of range\")\n",
    "            \n",
    "        if not (-180 <= longitude <= 180):\n",
    "            raise ValueError(f\"Longitude {longitude} out of range\")\n",
    "            \n",
    "        self._latitude = latitude\n",
    "        self._longitude = longitude\n",
    "        \n",
    "    @property\n",
    "    def latitude(self):\n",
    "        return self._latitude\n",
    "    \n",
    "    @property\n",
    "    def longitude(self):\n",
    "        return self._longitude\n",
    "    \n",
    "    def __repr__(self):\n",
    "        return f\"{typename(self)}(latitude={self.latitude}, longitude={self.longitude})\"\n",
    "    \n",
    "class EarthPosition(Position):\n",
    "    pass\n",
    "\n",
    "class MarsPosition(Position):\n",
    "    pass\n",
    "    \n",
    "\n",
    "def typename(obj):\n",
    "    return type(obj).__name__\n"
   ]
  },
  {
   "cell_type": "code",
   "execution_count": 35,
   "id": "d96f2d20",
   "metadata": {},
   "outputs": [
    {
     "data": {
      "text/plain": [
       "EarthPosition(latitude=19.82, longitude=-155.47)"
      ]
     },
     "execution_count": 35,
     "metadata": {},
     "output_type": "execute_result"
    }
   ],
   "source": [
    "mauna_kea = EarthPosition(19.82, -155.47)\n",
    "\n",
    "# class of EarthPosition will be generated when printing the obj\n",
    "mauna_kea"
   ]
  },
  {
   "cell_type": "code",
   "execution_count": 36,
   "id": "6f1eb8b1",
   "metadata": {},
   "outputs": [
    {
     "data": {
      "text/plain": [
       "MarsPosition(latitude=18.65, longitude=-133.8)"
      ]
     },
     "execution_count": 36,
     "metadata": {},
     "output_type": "execute_result"
    }
   ],
   "source": [
    "olympus_mons = MarsPosition(18.65, -133.8)\n",
    "\n",
    "# class of MarsPosition will be generated when printing the obj\n",
    "olympus_mons"
   ]
  },
  {
   "cell_type": "markdown",
   "id": "5cbbe3df",
   "metadata": {},
   "source": [
    "### Customizing str()\n",
    "* default implementation of \\_\\_str\\_\\_ is to delegate to \\_\\_repr\\_\\_\n",
    "* if we want str() to output a different representation, we need to override \\_\\_str\\_\\_\n",
    "* the representation is for the consumers of the system we are building, such as users, a user interface or an external NLP system\n",
    "* str representation is intended for readable, human-friendly output\n",
    "  + 77.5 S, 167.2 E (77.5 South, 167.2 East)\n",
    "* invoked when print(obj) is used\n",
    "* if not overriden, format() returns the results of str()"
   ]
  },
  {
   "cell_type": "code",
   "execution_count": 43,
   "id": "3d7c17e4",
   "metadata": {},
   "outputs": [],
   "source": [
    "class Position:\n",
    "    \n",
    "    def __init__(self, latitude, longitude):\n",
    "        if not (-90 <= latitude <= 90):\n",
    "            raise ValueError(f\"Latitude {latitude} out of range\")\n",
    "            \n",
    "        if not (-180 <= longitude <= 180):\n",
    "            raise ValueError(f\"Longitude {longitude} out of range\")\n",
    "            \n",
    "        self._latitude = latitude\n",
    "        self._longitude = longitude\n",
    "        \n",
    "    @property\n",
    "    def latitude(self):\n",
    "        return self._latitude\n",
    "    \n",
    "    @property\n",
    "    def longitude(self):\n",
    "        return self._longitude\n",
    "    \n",
    "    \n",
    "    @property\n",
    "    def longitude_hemisphere(self):\n",
    "        return \"E\" if self.longitude >= 0 else \"W\"\n",
    "    \n",
    "    @property\n",
    "    def latitude_hemisphere(self):\n",
    "        return \"N\" if self.latitude >=0 else \"S\"\n",
    "    \n",
    "    def __repr__(self):\n",
    "        return f\"{typename(self)}(latitude={self.latitude}, longitude={self.longitude})\"\n",
    "    \n",
    "    def __str__(self):\n",
    "        \n",
    "        # use implicit string concat of two short strings to one long string\n",
    "        return (f\"{abs(self.longitude)} {self.longitude_hemisphere}, \"\n",
    "                f\"{abs(self.latitude)} {self.latitude_hemisphere}\"\n",
    "               )\n",
    "    \n",
    "class EarthPosition(Position):\n",
    "    pass\n",
    "\n",
    "class MarsPosition(Position):\n",
    "    pass\n",
    "    \n",
    "\n",
    "def typename(obj):\n",
    "    return type(obj).__name__\n"
   ]
  },
  {
   "cell_type": "code",
   "execution_count": 44,
   "id": "1090596e",
   "metadata": {},
   "outputs": [
    {
     "data": {
      "text/plain": [
       "'167.2 E, 77.5 S'"
      ]
     },
     "execution_count": 44,
     "metadata": {},
     "output_type": "execute_result"
    }
   ],
   "source": [
    "mount_erebus = EarthPosition(-77.5, 167.2)\n",
    "str(mount_erebus)"
   ]
  },
  {
   "cell_type": "code",
   "execution_count": 45,
   "id": "4fbb0356",
   "metadata": {},
   "outputs": [
    {
     "name": "stdout",
     "output_type": "stream",
     "text": [
      "Mount Erebus is located at 167.2 E, 77.5 S\n"
     ]
    }
   ],
   "source": [
    "# str() is invoked when print(obj) is used to print the object\n",
    "print(\"Mount Erebus is located at\", mount_erebus)"
   ]
  },
  {
   "cell_type": "markdown",
   "id": "d53175ad",
   "metadata": {},
   "source": [
    "### Customizing format()\n",
    "* The method is used when formatting an object by format(obj), anf fstring\n",
    "```python\n",
    "\"The highest mountain in South America is located at {}\".format(aconcagua)\n",
    "f\"The highest mountain in South America is located at {aconcagua}\"\n",
    "```"
   ]
  },
  {
   "cell_type": "code",
   "execution_count": 47,
   "id": "0588a9c4",
   "metadata": {},
   "outputs": [],
   "source": [
    "class Position:\n",
    "    \n",
    "    def __init__(self, latitude, longitude):\n",
    "        if not (-90 <= latitude <= 90):\n",
    "            raise ValueError(f\"Latitude {latitude} out of range\")\n",
    "            \n",
    "        if not (-180 <= longitude <= 180):\n",
    "            raise ValueError(f\"Longitude {longitude} out of range\")\n",
    "            \n",
    "        self._latitude = latitude\n",
    "        self._longitude = longitude\n",
    "        \n",
    "    @property\n",
    "    def latitude(self):\n",
    "        return self._latitude\n",
    "    \n",
    "    @property\n",
    "    def longitude(self):\n",
    "        return self._longitude\n",
    "    \n",
    "    \n",
    "    @property\n",
    "    def longitude_hemisphere(self):\n",
    "        return \"E\" if self.longitude >= 0 else \"W\"\n",
    "    \n",
    "    @property\n",
    "    def latitude_hemisphere(self):\n",
    "        return \"N\" if self.latitude >=0 else \"S\"\n",
    "    \n",
    "    def __repr__(self):\n",
    "        return f\"{typename(self)}(latitude={self.latitude}, longitude={self.longitude})\"\n",
    "    \n",
    "    def __str__(self):\n",
    "        \n",
    "        # use implicit string concat of two short strings to one long string\n",
    "        return (f\"{abs(self.longitude)} {self.longitude_hemisphere}, \"\n",
    "                f\"{abs(self.latitude)} {self.latitude_hemisphere}\"\n",
    "               )\n",
    "    \n",
    "    def __format__(self, format_spec):\n",
    "        return \"FORMATTED POSITION\"\n",
    "    \n",
    "class EarthPosition(Position):\n",
    "    pass\n",
    "\n",
    "class MarsPosition(Position):\n",
    "    pass\n",
    "    \n",
    "\n",
    "def typename(obj):\n",
    "    return type(obj).__name__\n"
   ]
  },
  {
   "cell_type": "code",
   "execution_count": 48,
   "id": "01554a0d",
   "metadata": {},
   "outputs": [
    {
     "data": {
      "text/plain": [
       "'FORMATTED POSITION'"
      ]
     },
     "execution_count": 48,
     "metadata": {},
     "output_type": "execute_result"
    }
   ],
   "source": [
    "aconcagua = EarthPosition(-32.7, -70.1)\n",
    "format(aconcagua)"
   ]
  },
  {
   "cell_type": "markdown",
   "id": "2ce5765c",
   "metadata": {},
   "source": [
    "#### floating-point format specifications"
   ]
  },
  {
   "cell_type": "code",
   "execution_count": 49,
   "id": "cf7e3806",
   "metadata": {},
   "outputs": [
    {
     "data": {
      "text/plain": [
       "'7.748091e-05'"
      ]
     },
     "execution_count": 49,
     "metadata": {},
     "output_type": "execute_result"
    }
   ],
   "source": [
    "q = 7.748091e-5\n",
    "format(q)"
   ]
  },
  {
   "cell_type": "code",
   "execution_count": 50,
   "id": "75326950",
   "metadata": {},
   "outputs": [
    {
     "data": {
      "text/plain": [
       "'0.000077'"
      ]
     },
     "execution_count": 50,
     "metadata": {},
     "output_type": "execute_result"
    }
   ],
   "source": [
    "# fixed format representation, default to 6 decimal places\n",
    "format(q, \"f\")"
   ]
  },
  {
   "cell_type": "code",
   "execution_count": 51,
   "id": "e19b850a",
   "metadata": {},
   "outputs": [
    {
     "data": {
      "text/plain": [
       "'0.0000775'"
      ]
     },
     "execution_count": 51,
     "metadata": {},
     "output_type": "execute_result"
    }
   ],
   "source": [
    "# define how many decimal digits to show\n",
    "format(q, \".7f\")"
   ]
  },
  {
   "cell_type": "code",
   "execution_count": 56,
   "id": "d487e1cf",
   "metadata": {},
   "outputs": [
    {
     "name": "stdout",
     "output_type": "stream",
     "text": [
      "+0.00007748091\n",
      "      +0.00007748091\n",
      "The conductance quantum is 0.000077\n",
      "The conductance quantum is 7.75e-05\n"
     ]
    }
   ],
   "source": [
    "# show a plus sign, with how many digits before decimal point\n",
    "print(format(q, \"+.11f\"))\n",
    "print(format(q, \">+20.11f\"))\n",
    "print(f\"The conductance quantum is {q:.6f}\")\n",
    "print(f\"The conductance quantum is {q:.2e}\")"
   ]
  },
  {
   "cell_type": "code",
   "execution_count": 73,
   "id": "4d87e088",
   "metadata": {},
   "outputs": [],
   "source": [
    "class Position:\n",
    "    \n",
    "    def __init__(self, latitude, longitude):\n",
    "        if not (-90 <= latitude <= 90):\n",
    "            raise ValueError(f\"Latitude {latitude} out of range\")\n",
    "            \n",
    "        if not (-180 <= longitude <= 180):\n",
    "            raise ValueError(f\"Longitude {longitude} out of range\")\n",
    "            \n",
    "        self._latitude = latitude\n",
    "        self._longitude = longitude\n",
    "        \n",
    "    @property\n",
    "    def latitude(self):\n",
    "        return self._latitude\n",
    "    \n",
    "    @property\n",
    "    def longitude(self):\n",
    "        return self._longitude\n",
    "    \n",
    "    \n",
    "    @property\n",
    "    def longitude_hemisphere(self):\n",
    "        return \"E\" if self.longitude >= 0 else \"W\"\n",
    "    \n",
    "    @property\n",
    "    def latitude_hemisphere(self):\n",
    "        return \"N\" if self.latitude >=0 else \"S\"\n",
    "    \n",
    "    def __repr__(self):\n",
    "        return f\"{typename(self)}(latitude={self.latitude}, longitude={self.longitude})\"\n",
    "    \n",
    "    def __str__(self):\n",
    "        \n",
    "        # use default format_spec of format() to generate the str() representation\n",
    "        return format(self)\n",
    "    \n",
    "    def __format__(self, format_spec):\n",
    "        # this is the default decimal point format spec\n",
    "        component_format_spec = \".2f\"\n",
    "        \n",
    "        # if format_spec contains a dot, then get the suffix and use that for decimal point format\n",
    "        prefix, dot, suffix = format_spec.partition(\".\")\n",
    "        if dot:\n",
    "            num_decimal_places = int(suffix)\n",
    "            component_format_spec = f\".{num_decimal_places}f\"\n",
    "            print(f\"component_format_spec{component_format_spec}\")\n",
    "        longitude = format(abs(self.longitude), component_format_spec)\n",
    "        latitude = format(abs(self.latitude), component_format_spec)\n",
    "        return (f\"{longitude} {self.longitude_hemisphere}, \"\n",
    "                f\"{latitude} {self.latitude_hemisphere}\"\n",
    "               )\n",
    "    \n",
    "class EarthPosition(Position):\n",
    "    pass\n",
    "\n",
    "class MarsPosition(Position):\n",
    "    pass\n",
    "    \n",
    "\n",
    "def typename(obj):\n",
    "    return type(obj).__name__\n"
   ]
  },
  {
   "cell_type": "code",
   "execution_count": 69,
   "id": "4a4a4858",
   "metadata": {},
   "outputs": [
    {
     "data": {
      "text/plain": [
       "'7.66 E, 45.98 N'"
      ]
     },
     "execution_count": 69,
     "metadata": {},
     "output_type": "execute_result"
    }
   ],
   "source": [
    "matterhorn = EarthPosition(45.9763, 7.6586)\n",
    "format(matterhorn)"
   ]
  },
  {
   "cell_type": "code",
   "execution_count": 74,
   "id": "86f6cfd1",
   "metadata": {},
   "outputs": [
    {
     "data": {
      "text/plain": [
       "'7.66 E, 45.98 N'"
      ]
     },
     "execution_count": 74,
     "metadata": {},
     "output_type": "execute_result"
    }
   ],
   "source": [
    "matterhorn = EarthPosition(45.9763, 7.6586)\n",
    "str(matterhorn)"
   ]
  },
  {
   "cell_type": "code",
   "execution_count": 70,
   "id": "6e47e411",
   "metadata": {},
   "outputs": [
    {
     "name": "stdout",
     "output_type": "stream",
     "text": [
      "component_format_spec.5f\n"
     ]
    },
    {
     "data": {
      "text/plain": [
       "'7.65860 E, 45.97630 N'"
      ]
     },
     "execution_count": 70,
     "metadata": {},
     "output_type": "execute_result"
    }
   ],
   "source": [
    "matterhorn = EarthPosition(45.9763, 7.6586)\n",
    "format(matterhorn, \".5\")"
   ]
  },
  {
   "cell_type": "code",
   "execution_count": 72,
   "id": "8ca4c45b",
   "metadata": {},
   "outputs": [
    {
     "name": "stdout",
     "output_type": "stream",
     "text": [
      "component_format_spec.3f\n"
     ]
    },
    {
     "data": {
      "text/plain": [
       "'The Matterhorn is at 7.659 E, 45.976 N'"
      ]
     },
     "execution_count": 72,
     "metadata": {},
     "output_type": "execute_result"
    }
   ],
   "source": [
    "# use fstring to format by directly send .3 format spec to fstring using :\n",
    "f\"The Matterhorn is at {matterhorn:.3}\""
   ]
  },
  {
   "cell_type": "markdown",
   "id": "44ec5666",
   "metadata": {},
   "source": [
    "### Summary"
   ]
  },
  {
   "cell_type": "code",
   "execution_count": 75,
   "id": "54c3d4da",
   "metadata": {},
   "outputs": [],
   "source": [
    "class Position:\n",
    "    \n",
    "    def __init__(self, latitude, longitude):\n",
    "        if not (-90 <= latitude <= 90):\n",
    "            raise ValueError(f\"Latitude {latitude} out of range\")\n",
    "            \n",
    "        if not (-180 <= longitude <= 180):\n",
    "            raise ValueError(f\"Longitude {longitude} out of range\")\n",
    "            \n",
    "        self._latitude = latitude\n",
    "        self._longitude = longitude\n",
    "        \n",
    "    @property\n",
    "    def latitude(self):\n",
    "        return self._latitude\n",
    "    \n",
    "    @property\n",
    "    def longitude(self):\n",
    "        return self._longitude\n",
    "    \n",
    "    \n",
    "    @property\n",
    "    def longitude_hemisphere(self):\n",
    "        return \"E\" if self.longitude >= 0 else \"W\"\n",
    "    \n",
    "    @property\n",
    "    def latitude_hemisphere(self):\n",
    "        return \"N\" if self.latitude >=0 else \"S\"\n",
    "    \n",
    "    def __repr__(self):\n",
    "        return f\"{typename(self)}(latitude={self.latitude}, longitude={self.longitude})\"\n",
    "    \n",
    "    def __str__(self):\n",
    "        \n",
    "        # use default format_spec of format() to generate the str() representation\n",
    "        return format(self)\n",
    "    \n",
    "    def __format__(self, format_spec):\n",
    "        # this is the default decimal point format spec\n",
    "        component_format_spec = \".2f\"\n",
    "        \n",
    "        # if format_spec contains a dot, then get the suffix and use that for decimal point format\n",
    "        prefix, dot, suffix = format_spec.partition(\".\")\n",
    "        if dot:\n",
    "            num_decimal_places = int(suffix)\n",
    "            component_format_spec = f\".{num_decimal_places}f\"\n",
    "            print(f\"component_format_spec{component_format_spec}\")\n",
    "        longitude = format(abs(self.longitude), component_format_spec)\n",
    "        latitude = format(abs(self.latitude), component_format_spec)\n",
    "        return (f\"{longitude} {self.longitude_hemisphere}, \"\n",
    "                f\"{latitude} {self.latitude_hemisphere}\"\n",
    "               )\n",
    "    \n",
    "class EarthPosition(Position):\n",
    "    pass\n",
    "\n",
    "class MarsPosition(Position):\n",
    "    pass\n",
    "    \n",
    "\n",
    "def typename(obj):\n",
    "    return type(obj).__name__\n"
   ]
  },
  {
   "cell_type": "code",
   "execution_count": 76,
   "id": "498fd221",
   "metadata": {},
   "outputs": [
    {
     "data": {
      "text/plain": [
       "'EarthPosition(latitude=27.988056, longitude=86.925278)'"
      ]
     },
     "execution_count": 76,
     "metadata": {},
     "output_type": "execute_result"
    }
   ],
   "source": [
    "everest = EarthPosition(27.988056, 86.925278)\n",
    "repr(everest)"
   ]
  },
  {
   "cell_type": "code",
   "execution_count": 77,
   "id": "51af0aa8",
   "metadata": {},
   "outputs": [
    {
     "data": {
      "text/plain": [
       "'86.93 E, 27.99 N'"
      ]
     },
     "execution_count": 77,
     "metadata": {},
     "output_type": "execute_result"
    }
   ],
   "source": [
    "str(everest)"
   ]
  },
  {
   "cell_type": "code",
   "execution_count": 80,
   "id": "476102b2",
   "metadata": {},
   "outputs": [
    {
     "name": "stdout",
     "output_type": "stream",
     "text": [
      "component_format_spec.5f\n"
     ]
    },
    {
     "data": {
      "text/plain": [
       "'86.92528 E, 27.98806 N'"
      ]
     },
     "execution_count": 80,
     "metadata": {},
     "output_type": "execute_result"
    }
   ],
   "source": [
    "format(everest, \".5\")"
   ]
  },
  {
   "cell_type": "code",
   "execution_count": 83,
   "id": "88b12c41",
   "metadata": {},
   "outputs": [
    {
     "name": "stdout",
     "output_type": "stream",
     "text": [
      "component_format_spec.1f\n"
     ]
    },
    {
     "data": {
      "text/plain": [
       "'Everest is located at 86.9 E, 28.0 N'"
      ]
     },
     "execution_count": 83,
     "metadata": {},
     "output_type": "execute_result"
    }
   ],
   "source": [
    "f\"Everest is located at {everest:.1}\""
   ]
  },
  {
   "cell_type": "code",
   "execution_count": 84,
   "id": "44a7906d",
   "metadata": {},
   "outputs": [
    {
     "data": {
      "text/plain": [
       "'Everest object is EarthPosition(latitude=27.988056, longitude=86.925278)'"
      ]
     },
     "execution_count": 84,
     "metadata": {},
     "output_type": "execute_result"
    }
   ],
   "source": [
    "# using repr representations in fstrings\n",
    "f\"Everest object is {everest!r}\""
   ]
  },
  {
   "cell_type": "code",
   "execution_count": 85,
   "id": "5727b08a",
   "metadata": {},
   "outputs": [
    {
     "data": {
      "text/plain": [
       "'Everest object is 86.93 E, 27.99 N'"
      ]
     },
     "execution_count": 85,
     "metadata": {},
     "output_type": "execute_result"
    }
   ],
   "source": [
    "# using str representations in fstrings\n",
    "f\"Everest object is {everest!s}\""
   ]
  },
  {
   "cell_type": "code",
   "execution_count": 86,
   "id": "025bf1d9",
   "metadata": {},
   "outputs": [
    {
     "data": {
      "text/plain": [
       "'Everest object is everest=EarthPosition(latitude=27.988056, longitude=86.925278)'"
      ]
     },
     "execution_count": 86,
     "metadata": {},
     "output_type": "execute_result"
    }
   ],
   "source": [
    "# using variable name = repr\n",
    "f\"Everest object is {everest=}\""
   ]
  },
  {
   "cell_type": "code",
   "execution_count": null,
   "id": "7d0743df",
   "metadata": {},
   "outputs": [],
   "source": []
  }
 ],
 "metadata": {
  "kernelspec": {
   "display_name": "Python 3 (ipykernel)",
   "language": "python",
   "name": "python3"
  },
  "language_info": {
   "codemirror_mode": {
    "name": "ipython",
    "version": 3
   },
   "file_extension": ".py",
   "mimetype": "text/x-python",
   "name": "python",
   "nbconvert_exporter": "python",
   "pygments_lexer": "ipython3",
   "version": "3.10.4"
  }
 },
 "nbformat": 4,
 "nbformat_minor": 5
}
