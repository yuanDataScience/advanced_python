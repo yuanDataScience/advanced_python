{
 "cells": [
  {
   "cell_type": "markdown",
   "id": "a0d4ebbe",
   "metadata": {},
   "source": [
    "## Mulitprocessing "
   ]
  },
  {
   "cell_type": "markdown",
   "id": "96009a1b",
   "metadata": {},
   "source": [
    "### Runing a function (do_something) synchrously"
   ]
  },
  {
   "cell_type": "code",
   "execution_count": 16,
   "id": "7389c2ff",
   "metadata": {},
   "outputs": [
    {
     "name": "stdout",
     "output_type": "stream",
     "text": [
      "Sleeping 1 second...\n",
      "Sleeping 1 second...\n",
      "Finished in 2.0 second(s)\n"
     ]
    }
   ],
   "source": [
    "import time\n",
    "\n",
    "start = time.perf_counter()\n",
    "\n",
    "\n",
    "def do_something():\n",
    "    print(f'Sleeping 1 second...')\n",
    "    time.sleep(1)\n",
    "    return f'Done Sleeping...'\n",
    "\n",
    "do_something()\n",
    "do_something()\n",
    "\n",
    "finish = time.perf_counter()\n",
    "\n",
    "print(f'Finished in {round(finish-start, 2)} second(s)')"
   ]
  },
  {
   "cell_type": "markdown",
   "id": "0e2cf63e",
   "metadata": {},
   "source": [
    "### If we do not need to run tasks synchronously, we can\n",
    "* use multiprocessing module to split these tasks up onto other cpus and run them at the same time\n",
    "  + can gain for both CPU and IO bound tasks\n",
    "* CPU bound tasks use a lot of CPU \n",
    "* IO-bound tasks wait for input/output operations without using CPU that much\n",
    "  + file system and network operations such as downloading files\n",
    "  + multi-threading would not gain much for CPU bound tasks because threads are running the same process"
   ]
  },
  {
   "cell_type": "markdown",
   "id": "29ad411e",
   "metadata": {},
   "source": [
    "#### creating multiple processes, each for one task using multiprocessing module\n",
    "* create two process objects by multiprocessing.Process\n",
    "  + using the do_something function name as the target of multiprocessing.Process()\n",
    "  + start the processes by p1.start() and p2.start()\n",
    "* notice that even though both processes slept for 1 seconds at the same time, it printed that it finished in 0.01 s\n",
    "  + this is because before p1.start() and p2.start() started, the program executes finish=time.per_counter() and print statement\n",
    "  + therefore, the program first kicking off p1 and p2 processes, and then executes statements after them\n",
    "* Since we want the program to wait until p1 and p2 are finished, and then calculate the time and print, we use join\n",
    "  + p1.join() and p2.join() means p1 and p2 will be finished before program moves on \n",
    "* when we run the following code, p1 and p2 starts at the same time, slept for 1 s, and the entire code finished in 1 s  "
   ]
  },
  {
   "cell_type": "code",
   "execution_count": 17,
   "id": "715b3db5",
   "metadata": {},
   "outputs": [
    {
     "name": "stdout",
     "output_type": "stream",
     "text": [
      "Sleeping 1 second...\n",
      "Sleeping 1 second...\n",
      "Done Sleeping...\n",
      "Done Sleeping...\n",
      "Finished in 1.03 second(s)\n"
     ]
    }
   ],
   "source": [
    "import multiprocessing\n",
    "import time\n",
    "\n",
    "start = time.perf_counter()\n",
    "\n",
    "\n",
    "def do_something():\n",
    "    print(f'Sleeping 1 second...')\n",
    "    time.sleep(1)\n",
    "    print(f'Done Sleeping...')\n",
    "\n",
    "p1 = multiprocessing.Process(target=do_something)\n",
    "p2 = multiprocessing.Process(target=do_something)\n",
    "\n",
    "p1.start()\n",
    "p2.start()\n",
    "\n",
    "p1.join()\n",
    "p2.join()\n",
    "\n",
    "finish = time.perf_counter()\n",
    "\n",
    "print(f'Finished in {round(finish-start, 2)} second(s)')"
   ]
  },
  {
   "cell_type": "markdown",
   "id": "c9072088",
   "metadata": {},
   "source": [
    "#### Demonstrate a lot more processes started at the same time"
   ]
  },
  {
   "cell_type": "code",
   "execution_count": 18,
   "id": "f0bd474b",
   "metadata": {},
   "outputs": [
    {
     "name": "stdout",
     "output_type": "stream",
     "text": [
      "Sleeping 1 second...\n",
      "Sleeping 1 second...\n",
      "Sleeping 1 second...Sleeping 1 second...\n",
      "Sleeping 1 second...\n",
      "\n",
      "Sleeping 1 second...Sleeping 1 second...\n",
      "Sleeping 1 second...\n",
      "Sleeping 1 second...\n",
      "Sleeping 1 second...\n",
      "\n",
      "Done Sleeping...\n",
      "Done Sleeping...\n",
      "Done Sleeping...\n",
      "Done Sleeping...Done Sleeping...\n",
      "\n",
      "Done Sleeping...\n",
      "Done Sleeping...\n",
      "Done Sleeping...Done Sleeping...Done Sleeping...\n",
      "\n",
      "\n",
      "Finished in 1.12 second(s)\n"
     ]
    }
   ],
   "source": [
    "import multiprocessing\n",
    "import time\n",
    "\n",
    "start = time.perf_counter()\n",
    "\n",
    "\n",
    "def do_something():\n",
    "    print(f'Sleeping 1 second...')\n",
    "    time.sleep(1)\n",
    "    print(f'Done Sleeping...')\n",
    "\n",
    "processes = []\n",
    "\n",
    "for _ in range(10):\n",
    "    p = multiprocessing.Process(target=do_something)\n",
    "    p.start()\n",
    "    processes.append(p)\n",
    "\n",
    "for process in processes:\n",
    "    process.join()\n",
    "    \n",
    "finish = time.perf_counter()\n",
    "\n",
    "print(f'Finished in {round(finish-start, 2)} second(s)')"
   ]
  },
  {
   "cell_type": "markdown",
   "id": "66b9de7c",
   "metadata": {},
   "source": [
    "### use functions that accept arguments\n",
    "* unlike multi-thread, to pass arguments to multi-processing process, arguments must be able to be serialized by pickle\n",
    "  + converting python objects to a format that can be de-constructured and re-constructed in anothe python script"
   ]
  },
  {
   "cell_type": "code",
   "execution_count": 19,
   "id": "9baac995",
   "metadata": {},
   "outputs": [
    {
     "name": "stdout",
     "output_type": "stream",
     "text": [
      "Sleeping 1.5 second(s)...\n",
      "Sleeping 1.5 second(s)...Sleeping 1.5 second(s)...Sleeping 1.5 second(s)...\n",
      "Sleeping 1.5 second(s)...\n",
      "Sleeping 1.5 second(s)...\n",
      "\n",
      "\n",
      "Sleeping 1.5 second(s)...Sleeping 1.5 second(s)...Sleeping 1.5 second(s)...\n",
      "\n",
      "\n",
      "Sleeping 1.5 second(s)...\n",
      "Done Sleeping...\n",
      "Done Sleeping...\n",
      "Done Sleeping...\n",
      "Done Sleeping...\n",
      "Done Sleeping...\n",
      "Done Sleeping...\n",
      "Done Sleeping...Done Sleeping...Done Sleeping...\n",
      "\n",
      "\n",
      "Done Sleeping...\n",
      "Finished in 1.61 second(s)\n"
     ]
    }
   ],
   "source": [
    "import multiprocessing\n",
    "import time\n",
    "\n",
    "start = time.perf_counter()\n",
    "\n",
    "\n",
    "def do_something(seconds):\n",
    "    print(f'Sleeping {seconds} second(s)...')\n",
    "    time.sleep(seconds)\n",
    "    print(f'Done Sleeping...')\n",
    "\n",
    "processes = []\n",
    "\n",
    "for _ in range(10):\n",
    "    p = multiprocessing.Process(target=do_something, args=[1.5])\n",
    "    p.start()\n",
    "    processes.append(p)\n",
    "\n",
    "for process in processes:\n",
    "    process.join()\n",
    "    \n",
    "finish = time.perf_counter()\n",
    "\n",
    "print(f'Finished in {round(finish-start, 2)} second(s)')"
   ]
  },
  {
   "cell_type": "markdown",
   "id": "fc4b1472",
   "metadata": {},
   "source": [
    "#### using concurrent.futures\n",
    "* if we want to execute the funtion once at a time, use submit method\n",
    "  + it schedule a function to be executed and returns a future object\n",
    "  + submit() submits each function once at a time\n",
    "  + a future object encapsulates the execution of our function and allows us to check on it afte it's been scheduled\n",
    "    - we can check if it is running or done and its result with the returned value of function\n",
    "    - future.result() will wait until the results are returned    "
   ]
  },
  {
   "cell_type": "code",
   "execution_count": 20,
   "id": "2d0eae3b",
   "metadata": {},
   "outputs": [
    {
     "name": "stdout",
     "output_type": "stream",
     "text": [
      "Sleeping 1 second(s)...Sleeping 1 second(s)...\n",
      "\n",
      "Done Sleeping...\n",
      "Done Sleeping...\n",
      "Finished in 1.04 second(s)\n"
     ]
    }
   ],
   "source": [
    "import concurrent.futures\n",
    "import time\n",
    "\n",
    "start = time.perf_counter()\n",
    "\n",
    "\n",
    "def do_something(seconds):\n",
    "    print(f'Sleeping {seconds} second(s)...')\n",
    "    time.sleep(seconds)\n",
    "    return 'Done Sleeping...'\n",
    "\n",
    "with concurrent.futures.ProcessPoolExecutor() as executor:\n",
    "    f1 = executor.submit(do_something, 1)\n",
    "    f2 = executor.submit(do_something, 1)\n",
    "    print(f1.result())\n",
    "    print(f2.result())\n",
    "    \n",
    "finish = time.perf_counter()\n",
    "\n",
    "print(f'Finished in {round(finish-start, 2)} second(s)')\n"
   ]
  },
  {
   "cell_type": "markdown",
   "id": "e60bed98",
   "metadata": {},
   "source": [
    "#### use multiple tasks in concurrent.futures by as_completed\n",
    "* collect all future objects by list comprehension of executor.submit within a range of 10\n",
    "* feed the future objects list to concurrent.futures.as_completed, which generates a list of future objects\n",
    "  + retrieve the results of each future object"
   ]
  },
  {
   "cell_type": "code",
   "execution_count": 21,
   "id": "0dcdb982",
   "metadata": {},
   "outputs": [
    {
     "name": "stdout",
     "output_type": "stream",
     "text": [
      "Sleeping 1 second(s)...Sleeping 1 second(s)...\n",
      "Sleeping 1 second(s)...Sleeping 1 second(s)...\n",
      "\n",
      "\n",
      "Sleeping 1 second(s)...\n",
      "Sleeping 1 second(s)...Sleeping 1 second(s)...\n",
      "\n",
      "Sleeping 1 second(s)...\n",
      "Done Sleeping...\n",
      "Done Sleeping...\n",
      "Done Sleeping...\n",
      "Done Sleeping...\n",
      "Sleeping 1 second(s)...\n",
      "Sleeping 1 second(s)...\n",
      "Done Sleeping...\n",
      "Done Sleeping...\n",
      "Done Sleeping...\n",
      "Done Sleeping...\n",
      "Done Sleeping...\n",
      "Done Sleeping...\n",
      "Finished in 3.06 second(s)\n"
     ]
    }
   ],
   "source": [
    "import concurrent.futures\n",
    "import time\n",
    "\n",
    "start = time.perf_counter()\n",
    "\n",
    "\n",
    "def do_something(seconds):\n",
    "    print(f'Sleeping {seconds} second(s)...')\n",
    "    time.sleep(seconds)\n",
    "    return 'Done Sleeping...'\n",
    "\n",
    "with concurrent.futures.ProcessPoolExecutor() as executor:\n",
    "    # define a list of future objects\n",
    "    results = [executor.submit(do_something, 1) for _ in range(10)]\n",
    "    \n",
    "    # retrieve result values when future objects are completed\n",
    "    for f in concurrent.futures.as_completed(results):\n",
    "        print(f.result())\n",
    "    \n",
    "finish = time.perf_counter()\n",
    "\n",
    "print(f'Finished in {round(finish-start, 2)} second(s)')\n"
   ]
  },
  {
   "cell_type": "code",
   "execution_count": 22,
   "id": "4cd00c7e",
   "metadata": {},
   "outputs": [
    {
     "name": "stdout",
     "output_type": "stream",
     "text": [
      "Sleeping 5 second(s)...Sleeping 4 second(s)...Sleeping 3 second(s)...\n",
      "Sleeping 2 second(s)...\n",
      "\n",
      "\n",
      "Sleeping 1 second(s)...\n",
      "Done Sleeping...2\n",
      "Done Sleeping...3\n",
      "Done Sleeping...1\n",
      "Done Sleeping...4\n",
      "Done Sleeping...5\n",
      "Finished in 5.05 second(s)\n"
     ]
    }
   ],
   "source": [
    "import concurrent.futures\n",
    "import time\n",
    "\n",
    "start = time.perf_counter()\n",
    "\n",
    "\n",
    "def do_something(seconds):\n",
    "    print(f'Sleeping {seconds} second(s)...')\n",
    "    time.sleep(seconds)\n",
    "    return f'Done Sleeping...{seconds}'\n",
    "\n",
    "with concurrent.futures.ProcessPoolExecutor() as executor:\n",
    "    secs = [5, 4, 3, 2, 1]\n",
    "    # define a list of future objects\n",
    "    results = [executor.submit(do_something, sec) for sec in secs]\n",
    "    \n",
    "    # retrieve result values when future objects are completed\n",
    "    for f in concurrent.futures.as_completed(results):\n",
    "        print(f.result())\n",
    "    \n",
    "finish = time.perf_counter()\n",
    "\n",
    "print(f'Finished in {round(finish-start, 2)} second(s)')\n"
   ]
  },
  {
   "cell_type": "markdown",
   "id": "86c90377",
   "metadata": {},
   "source": [
    "#### map\n",
    "* submit method submits one function at a time. \n",
    "  + If we want to submit the entire function list, we need to using list comprehension or a loop\n",
    "* we can use map method to run the function over each item in the input iterable \n",
    "  + do_something will be executed on each of the element in secs list\n",
    "* when we use submit method, it returns a future object, map method returns the results\n",
    "  + map returns the results in order that they were started\n",
    "  + we can iterate over these results by a for loop\n",
    "* if the program raises exception, it won't raise it while running the process\n",
    "  + exception will be raised when result is retrieved from the results iteration, where you can put error handling code\n",
    "  + program will wait until results are completed before the context manager finishes"
   ]
  },
  {
   "cell_type": "code",
   "execution_count": 23,
   "id": "8d5346d4",
   "metadata": {},
   "outputs": [
    {
     "name": "stdout",
     "output_type": "stream",
     "text": [
      "Sleeping 5 second(s)...\n",
      "Sleeping 4 second(s)...Sleeping 3 second(s)...Sleeping 2 second(s)...\n",
      "\n",
      "\n",
      "Sleeping 1 second(s)...\n",
      "Done Sleeping...5\n",
      "Done Sleeping...4\n",
      "Done Sleeping...3\n",
      "Done Sleeping...2\n",
      "Done Sleeping...1\n",
      "Finished in 5.05 second(s)\n"
     ]
    }
   ],
   "source": [
    "import concurrent.futures\n",
    "import time\n",
    "\n",
    "start = time.perf_counter()\n",
    "\n",
    "\n",
    "def do_something(seconds):\n",
    "    print(f'Sleeping {seconds} second(s)...')\n",
    "    time.sleep(seconds)\n",
    "    return f'Done Sleeping...{seconds}'\n",
    "\n",
    "\n",
    "with concurrent.futures.ProcessPoolExecutor() as executor:\n",
    "    secs = [5, 4, 3, 2, 1]\n",
    "    results = executor.map(do_something, secs)\n",
    "\n",
    "    for result in results:\n",
    "        print(result)\n",
    "\n",
    "finish = time.perf_counter()\n",
    "\n",
    "print(f'Finished in {round(finish-start, 2)} second(s)')"
   ]
  },
  {
   "cell_type": "code",
   "execution_count": null,
   "id": "584d70c8",
   "metadata": {},
   "outputs": [],
   "source": []
  }
 ],
 "metadata": {
  "kernelspec": {
   "display_name": "Python 3 (ipykernel)",
   "language": "python",
   "name": "python3"
  },
  "language_info": {
   "codemirror_mode": {
    "name": "ipython",
    "version": 3
   },
   "file_extension": ".py",
   "mimetype": "text/x-python",
   "name": "python",
   "nbconvert_exporter": "python",
   "pygments_lexer": "ipython3",
   "version": "3.8.10"
  }
 },
 "nbformat": 4,
 "nbformat_minor": 5
}
