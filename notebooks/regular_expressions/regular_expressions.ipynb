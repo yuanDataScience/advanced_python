{
 "cells": [
  {
   "cell_type": "markdown",
   "id": "b9e92c53",
   "metadata": {},
   "source": [
    "## Regular Expressions \n",
    "* tool for searching and matching parts of a text by describing the patterns to identify those parts\n",
    "* a set of symbols representing a text pattern\n",
    "* formal language interpreted by a regular experssion processor\n",
    "* used for matching, searching, and replacing text\n",
    "* used by programming languages\n",
    "* \"Regex\" for short\n",
    "\n",
    "* Matches\n",
    "  + a regular expression matches text if it correctly describes the text\n",
    "  + text matches a regular expression if it is correctly described by the expression\n",
    "  \n",
    "* online javascript app to practice Regex:\n",
    "  + https://regexr.com\n",
    "  + https://regex101.com\n",
    "  + https://regexpal.com"
   ]
  },
  {
   "cell_type": "markdown",
   "id": "bf474362",
   "metadata": {},
   "source": [
    "### Regular expression conventions:\n",
    "* regular expressions are expressed between two forward slashes / as the delimitor\n",
    "  + /abc/ refers to \"abc\", both slashes are not part of the expression\n",
    "  + most of the time you use without forward slashes, eepending on the programming languages\n",
    "  + text strings, such as \"abc\" are used to match regex, but may not need \"\"\n",
    "  + flags means different modes we use in regex\n",
    "    - g for global\n",
    "    - i for case insensitive (not recommended most of the time)\n",
    "    - m for multiline\n",
    "    - s for single line (dotall)\n",
    "    - u for unicode\n",
    "    - y for sticky\n",
    "* modes of the regex\n",
    "  + standard: /re/ match re exactly once for the first match (find)\n",
    "  + global:   /re/g match re over and over again through the document (find_all)\n",
    "  + case insensitive: /re/i \n",
    "  + multiline: /re/m can regex match text that stretches across multiple line, or does text have to be on the same line\n",
    "  + grep in unix means g/re/p: global regular expression print"
   ]
  },
  {
   "cell_type": "markdown",
   "id": "d34db197",
   "metadata": {},
   "source": [
    "### Characters\n",
    "* literal \n",
    "* metacharacters\n",
    "* wildcard metacharacters\n",
    "* escaping metacharacters\n",
    "* other special characters"
   ]
  },
  {
   "cell_type": "markdown",
   "id": "7f355e0f",
   "metadata": {},
   "source": [
    "#### literal characters\n",
    "* simply match all \n",
    "  + /car/ matches \"car\"\n",
    "  + /car/ matches the first 3 letters of \"carnival\"\n",
    "  + case-sensitive by default\n",
    "\n",
    "* standard(non-global) matching\n",
    "  + the earliest (leftmost) match is always prefered. the engine works from left to right\n",
    "  + when the 1st match is found, it stops\n",
    "  \n",
    "* global matching\n",
    "  + all matches are found throughout the text\n",
    "  \n",
    "* matching\n",
    "  + backtrack it does. cat regex to match camel, when t doesn't match m, it goes back to compare a in camel to c\n",
    "  + regex are eager. they will always return the first match  "
   ]
  },
  {
   "cell_type": "markdown",
   "id": "fc300d8e",
   "metadata": {},
   "source": [
    "#### Metacharacters\n",
    "* characters with special meaning\n",
    "* transform literal characters into powerful experssions\n",
    "* only a few to learn\n",
    "  + `\\.*+-{}[]^$|?():!=`\n",
    "  + can have more than one meaning\n",
    "* most of the skills are about how to use these metacharacters in regex\n",
    "* regexr.com tool colors different metacharacter symbols with colors to help understand complex regex"
   ]
  },
  {
   "cell_type": "markdown",
   "id": "9bef23fe",
   "metadata": {},
   "source": [
    "#### wildcard metacharacter\n",
    "* matches anything single character except for a line break (.)\n",
    "* /h.t/ matches hat, hot, and hit, but not heat\n",
    "* broadest match possible\n",
    "* most common metacharacter\n",
    "* most common mistake\n",
    " + /9.00/ matches \"9.00\", \"9500\" and \"9-00\"\n",
    "* a good regex should match the text you want to target and only that text, nothing more "
   ]
  },
  {
   "cell_type": "markdown",
   "id": "772f2dc3",
   "metadata": {},
   "source": [
    "#### escaping metacharacters\n",
    "* escape the next character (\\)\n",
    "* escape means to treat the use of metacharacters as literal characters\n",
    "* match a literal period with /\\,/\n",
    "  + `/9\\.00/` matches \"9.00\", but not \"9500\" or \"9-00\"\n",
    "* escaping metacharacters only for metacharacters\n",
    "  + literal characters should never be escaped; may give them meaning\n",
    "  + quotation marks are not metacharacters; do not need to be escaped\n",
    "* escaping metacharacters, especially wild card is important!\n",
    "  + to match both `.txt` in \"his_export.txt her_export.txt\" should use `/h.._export\\.txt/g`  "
   ]
  },
  {
   "cell_type": "markdown",
   "id": "42e7213d",
   "metadata": {},
   "source": [
    "#### Other special characters\n",
    "* spaces\n",
    "* tabs (\\t): literal t is escaped as a tab\n",
    "* line returns (`\\r, \\n, \\r\\n`)\n",
    "  + `\\r` line return\n",
    "  + `\\n` new line\n",
    "  + which line returns is used depends on operating systems"
   ]
  },
  {
   "cell_type": "markdown",
   "id": "e7c7423e",
   "metadata": {},
   "source": [
    "### exercise: search in a document to check\n",
    "* how many times the word \"self\" appear (bot upper and lower cases)?\n",
    "* count himself, herself, itself, myself, yourself, thyself\n",
    "* use three literal characters and three wildcard characters, match: please, palace, parade"
   ]
  },
  {
   "cell_type": "markdown",
   "id": "c25b1878",
   "metadata": {},
   "source": [
    "### Character Sets\n",
    "* define a character set by `[ and ]` that begins and ends a character set\n",
    "* a character set \n",
    "  + can match any one of serveral characters\n",
    "  + it matches only one character\n",
    "  + order of characters in the set doesn't matter\n",
    "  + `/[aeiou]/` matches any one vowel\n",
    "  + `/gr[ea]y` matches \"grey\" and \"gray\"\n",
    "  + `/gr[ea]t/` doesn't match \"great\" because character sets only match one character in text\n",
    "  \n",
    "### Character Ranges\n",
    "* use - to indicate a range of characters\n",
    "* include all characters between two characters\n",
    "  + assume that characters have some sort of order to know what characters should go between two characters\n",
    "  + numbers\n",
    "  + letters\n",
    "  + - is only a metacharacter inside a character set. If outside of a character set, it is aliteral dash\n",
    "  + `[0-9], [A-Za-z], [a-dw-y]\n",
    "  + `[50-99]` will not find numbers from 50-99. range only represent one character\n",
    "    - the engine will read `[50-99]` as 5, 0-9, and 9, which is just 0-9\n",
    "    - it is not a number range, but a character range\n",
    "    \n",
    "### Negative Character Sets\n",
    "* ^ is going to negate a character set\n",
    "  + the character to match is NOT any one of several characters\n",
    "  + add ^ as the first character inside a character set\n",
    "  + `/[^aeiou]/` matches any one consonant (non-vowel)\n",
    "  + `/see[^mn]/` matches \"seek\" and \"sees\", but not \"seem\" or \"seen\"\n",
    "  + `/see[^mn]/` does not match \"see\", since negative character set still looks for a character\n",
    "  + `/see[^mn]/` does match \"see \" and \"see.\" because \" \" and \",\" are still characters\n",
    "  + `/[^a-zA-Z]/` negates all lower and upper case letters\n",
    "  \n",
    "### Metacharacters inside Character sets\n",
    "* most metacharacters inside character sets are already escaped and considered as literal characters\n",
    "* `/h[a.]t/` matches \"hat\" and \"h.t\", but not \"hot\" since . is a literal character\n",
    "  + exceptions that we need to escape: `] - ^ \\` because\n",
    "    - ] is the end of character set, if you need literal ], you need to escape it\n",
    "    - - defines character range as a metacharacter. you need to escape it to use it as a literal character\n",
    "    - ^ is used to negate the character set, you need to escape it to use it as a literal character\n",
    "    - \\ is used to escape the previous ], -, and ^, so you need to escape it to use it as a literal character\n",
    "* examples:\n",
    "  + `/var[[(][0-9][\\])]/` escape ] by `\\]`\n",
    "  + `/file[0\\-\\\\_]1/` escape - and \\ by `\\-` and `\\\\`\n",
    "  \n",
    "### Shorthand Character Sets\n",
    "* \\d means any one digit, is the same as `[0-9]`\n",
    "* \\w means word character, is the same as `[a-zA-Z0-9_]`\n",
    "* \\s means whitespace, is the same as `[ \\t\\r\\n]`\n",
    "* \\D means negative digit, is the same as `[^0-9]`\n",
    "* \\W means negative word character, is the same as `[^a-zA-Z0-9]`\n",
    "* \\S means negative whitespace, is the same as `[^ \\t\\r\\n]`\n",
    "* Caution: \\w includes underscore but not hyphen\n",
    "* examples:\n",
    "  + `/\\d\\d\\d\\d/` matches \"1984\", but not \"text\"\n",
    "  + `/\\w\\w\\w/` matches \"ABC\", \"123\", and \"1_A\"\n",
    "  + `/\\w\\s\\w\\w/` matches \"I am\", but not \"Am I\" by the position of space\n",
    "  + `/[\\w\\-]/` matches any word character or hyphen (useful). It combines word character with escaped literal character -\n",
    "  + `/[^d]/` is the same as both `/\\D/` and `/[^0-9]/`\n",
    "* caution: `/[^\\d\\s]/` is not the same as `[\\D\\S]`\n",
    "  + `/[^\\d\\s]/` means match a character that is not a digit, or not a whitespace, neither of them\n",
    "  + `[\\D\\S]` means match a character that is either not a digit or not a space character\n",
    "    - 1 is a digit, but not a space, so it will be matched\n",
    "    - a is not a digit, and not a space, so it will be matched    "
   ]
  },
  {
   "cell_type": "markdown",
   "id": "ac9e7db0",
   "metadata": {},
   "source": [
    "### Exercise\n",
    "* apply global regular expression to the text \"Self-Reliance\"\n",
    "* Match both \"lives\" and \"lived\"\n",
    "* Match \"virtue\" but not \"virtues\"\n",
    "* Match the numbers and periods on all numbered paragraphs\n",
    "* Find the 16-character word that starts with \"c\""
   ]
  },
  {
   "cell_type": "code",
   "execution_count": null,
   "id": "72a32334",
   "metadata": {},
   "outputs": [],
   "source": [
    "`/live[sd]/`\n",
    "`/virtue[^s]/`\n",
    "`/\\d\\./`\n",
    "`/c\\w{15}/`"
   ]
  },
  {
   "cell_type": "markdown",
   "id": "2a2562ed",
   "metadata": {},
   "source": [
    "### Repetition Metacharacters (regular repitition)\n",
    "* `*` preceding item, zero or more times\n",
    "* `+` preceding item, one or more times\n",
    "* `?` preceding item, zero or one time\n",
    "\n",
    "#### examples of repetition metacharacters\n",
    "* `/.+/` matches any string of characters except a line return\n",
    "*`/Good .+\\./` matches \"Good morning.\", \"Good day.\", \"Good evening.\", and \"Good night.\"\n",
    "  + pattern is Good + one space + anything at least once + .\n",
    "* `/\\d+/` matches \"90210\"\n",
    "* `/\\s[a-z]+ed\\s/` matches lower case letters after a whitespace ending in \"ed \"\n",
    "* `/apples*/` matches \"apple\", \"apples\", \"applesssss\"\n",
    "* `/apples+/` matches \"apples\", \"applessssss\", but not \"apple\"\n",
    "* `/apples?/` matches \"apple\", \"apples\", but not \"applessssss\"\n",
    "* `/\\d\\d\\d\\d*/` equals to `/\\d\\d\\d+/`\n",
    "* `/colou?r/` matches \"color\" and \"colour\""
   ]
  },
  {
   "cell_type": "markdown",
   "id": "1d5fe2d2",
   "metadata": {},
   "source": [
    "### Quantified Repetition\n",
    "* define exactly how many times to repeat a pattern (4 times, or 4, 5, or 6 times, but not other repeats)\n",
    "* {min, max}\n",
    "  + min and max are positive numbers\n",
    "  + min must always be included and can be zero\n",
    "  + max is optional\n",
    "* three syntax:\n",
    "  + \\d{4,8} matches numbers with four to eight digits\n",
    "  + \\d{4} matches numbers with exactly four digits (min is max)\n",
    "  + \\d{4,} matches numbers with four or more digits (max is infinite)\n",
    "* overlapping between quantified repetition and regular repetition \n",
    "  + \\d{0,} is equavalent to \\d*\n",
    "  + \\d{1,} is equavalent to \\d+\n",
    "* Examples:\n",
    "  + `/\\d{3}-\\d{3}-\\d{4}/` matches most US phone numbers\n",
    "  + `/A{1,2} bonds/` matches \"A bonds\" and \"AA bonds\", but not \"AAA bonds\"\n",
    "  "
   ]
  },
  {
   "cell_type": "markdown",
   "id": "7b137aee",
   "metadata": {},
   "source": [
    "### Greedy Expression\n",
    "* especially important when using reptition expression\n",
    "  + strings are of an indetermined length\n",
    "  + may match several different things, how engine make the choice by default\n",
    "* examples:\n",
    "  + for `/\\d+\\w+\\d+/` with text \"01_FY_07_report_99.xls\"\n",
    "    - 01_FY_07\n",
    "    - 01_FY_07_report_99\n",
    "  + for `/\".+\", \".+\"/` with text \"Milton\", \"Waddams\", \"Initech, Inc.\"\n",
    "    - (\"Milton\"), (\"Waddams\")\n",
    "    - (\"Milton\"), (\"Waddams\", \"Initech, Inc.\")\n",
    "    - (Milton\", \"Waddams\"), (\"Initech, Inc.\")\n",
    "* standard repetition quantifiers are greedy\n",
    "* expression tries to match the longest possible string\n",
    "  + if you have a `.+` sign, it will try and eat up as much of the possible string with that wildcard\n",
    "  + it still defers to achieving overall match\n",
    "  + example: `/.+\\.jpg/` matches \"filename.jpg\". It will not eat up `.jpg` by `.+`\n",
    "* being greedy means gives back as little as possible to the next part of match\n",
    "  + `/.*[0-9]+/` matches \"Page 266\"\n",
    "    - `.*` matches \"Page 26\"\n",
    "    - `[0-9]+` matches only \"6\"\n",
    "    - greedy means match as much as possible before giving control to the next expression part\n",
    "      + the engine first goes through \"Page 266\" and matches it to `.*`\n",
    "      + then when it goes to `[0-9]+`, it gives control to the second part, and goes back to match \"6\"\n",
    "  + `/\\d+\\w+\\d+/` to match \"01_FY_07_report_99.xls\"\n",
    "    - engine goes to \"01\" and matches `\\d+`\n",
    "    - engine then goes to `_FY_07_report_99` and matches `\\w+`\n",
    "    - engine goes to match `\\d+` and couldn't find matches, it goes back and matches \"9\"\n",
    "    - finally, the matches are the following:\n",
    "      + `\\d+` matches `01`\n",
    "      + `\\w`matches `_FY_07_report_9`\n",
    "      + `\\d+` matches \"9\"\n",
    "      + returns \"01_FY_07_report_99\"\n",
    "  + `/\".+\", \".+\"/` with text \"Milton\", \"Waddams\", \"Initech, Inc.\"\n",
    "    - returns (\"Milton\", \"Waddams\"), (\"Initech, Inc.\")"
   ]
  },
  {
   "cell_type": "markdown",
   "id": "d90888e2",
   "metadata": {},
   "source": [
    "### Lazy Expression\n",
    "* using ? to make preceding quantifier lazy\n",
    "* instead of using ? to define repeat times as 0 or 1, we use ? after the other repeat metacharacters\n",
    "  + `*?`\n",
    "  + `+?`\n",
    "  + `{min,max}?`\n",
    "  + `??`\n",
    "* it instructs quantifier to use a \"lazy strategy\" for making choices, means\n",
    "  + match as little as possible before giving control to the next expression part\n",
    "  + still defers to overall match\n",
    "  + not necessary faster or slower, just different strategies to return different results\n",
    "* examples\n",
    "  + `/.*?[0-9]+/` for \"Page 266\" should be \"Page \", and \"266\" for the two parts (returns \"Page 266\"\n",
    "  + `/.*?[0-9]+?/` for \"Page 266\" should be \"Page \", and \"2\" for the two parts (returns \"Page 2\")\n",
    "  + `/\\d+\\w+?\\d+/` to match \"01_FY_07_report_99.xls\" gives \"01_FY_07\"\n",
    "  + `/\".+\", \".+\"/` to match \"Milton\", \"Waddams\", \"Initech, Inc.\" returns \"Milton\", \"Waddams\""
   ]
  },
  {
   "cell_type": "markdown",
   "id": "d2fc2de8",
   "metadata": {},
   "source": [
    "### Challenge: Repeatition\n",
    "* apply global regular expressions to the text \"Self-Reliance\"\n",
    "* match: self, himself, herself, itself, myself, yourself, thyself\n",
    "* match both \"virtue\" and \"virtues\"\n",
    "* use quantified repetition to find the word that starts with \"T\" and has 12 letters\n",
    "* match all text inside quotation marks, but nothing that is not inside them\n",
    "\n",
    "#### Answers:\n",
    "* `/\\w{0,4}self/`\n",
    "* `/virtues?/`\n",
    "* `/T[a-zA-Z]{11}/`\n",
    "* `/\"(.|\\n)+?\"/` \n",
    "  + (at least once) just goes to the next quote, and stop, rather than go to the last quote\n",
    "  + to include line feed, we can not use character set with ., since in `[.]`, `.` is a literal character\n",
    "  + we use grouping and alternation, so it can be a wildcard except line return, or a line return (.|\\n)"
   ]
  },
  {
   "cell_type": "markdown",
   "id": "9ee350b4",
   "metadata": {},
   "source": [
    "### Grouping Metacharacters\n",
    "* Anything inside () is a group expression\n",
    "* group portions of the expression so we can use them in different ways:\n",
    "  + Apply repetition operators to a group\n",
    "  + create a group of alternation expressions\n",
    "  + captures group for use in matching and replacing\n",
    "* Examples of applying repetition operators to a group:\n",
    "  + define a group of (abc), and apply repetition operators\n",
    "    - `/(abc)+/` matches \"abc\" and \"abcabcabc\". the entire group is repeated (unlike a single character in characher set)\n",
    "    - `/(in)?dependent/` matches \"independent\" and \"dependent\"\n",
    "    - `/run(s)?/` the same as `/runs?/` but just more readable\n",
    "* Examples of capturing group for use in matching and replacing\n",
    "  + group the Regex parts and later on capture groups\n",
    "      - `/(\\d{3})-(\\d{3})-(\\d{4})/` matches a phone number \"555-666-7890\".\n",
    "      we can now access \"555\", \"666\" and \"7890\" by $1, $2 and $3"
   ]
  },
  {
   "cell_type": "markdown",
   "id": "e2b6cbdd",
   "metadata": {},
   "source": [
    "### Alternation Metacharacters\n",
    "* | is an OR operator\n",
    "* either match expression on the left or on the right\n",
    "* ordered, leftmost expression gets precedence\n",
    "* multiple choices can be daisy-chained\n",
    "* group alternation experssions to keep them distinct\n",
    "\n",
    "* Examples:\n",
    "  + `/apple|orange/` matches \"apple\" and \"orange\"\n",
    "  + `/abc|def|ghi|jkl/` matches \"abc\", \"def\", \"ghi\", and \"jkl\"\n",
    "  + `/apple(juice|sauce)/` is not the same as `/applejuice|sauce/`\n",
    "    - \"applejuice\" or \"applesauce\" for `/apple(juice|sauce)/`\n",
    "    - \"applejuice\" or \"sauce\" for `/applejuice|sauce/`\n",
    "  + `/w(ei|ie)rd/` matches \"weird\" and \"wierd\"\n",
    "  + `/(AA|BB|CC){4}/` matches \"AABBAACC\" and \"CCCCBBBB\". It doesn't matter which of AA, BB, CC, provided there appear 4 times"
   ]
  },
  {
   "cell_type": "markdown",
   "id": "da512cb1",
   "metadata": {},
   "source": [
    "### Efficiency when using alternation\n",
    "* engine is eager and greedy\n",
    "* result of being eager:\n",
    "  + `/(peanut|peanutbutter)/g` with \"peanutbutter\" returns peanut due to eager match\n",
    "  + `/(xyx|abc|def|ghi|jkl)/` match \"abcdefghijklmnopqrstuvwxyz\" will match abc\n",
    "    - engine will not start by regex, but start with the text/document and find first match\n",
    "    - engine will compare each content from document and find the patterns in regex\n",
    "      + put simplest(most efficient) expression first in regex, since engine matches from left to right\n",
    "      + `/\\w+_\\d{2,4}|\\d{4}_export|export_\\d{2}/` is not good, but `/export_\\d{2}|\\d{4}_export\\w+_\\d{2,4}/` is\n",
    "        - because export_\\d{2} is the most specific, and \\w+_\\d{2,4} is the most complex (most variety of chars and repeatitions\n",
    "* literal text and small character sets are more effiecient and should be put first in alteration groups            \n",
    "* result of being greedy (when repetition is used)\n",
    "  + `/peanut(butter)?/g` with \"peanutbutter\" returns peanutbutter due to greedy match (match as many as possible)\n",
    "  + `/peanut(butter)??/g` with \"peanutbutter\" returns peanut  "
   ]
  },
  {
   "cell_type": "markdown",
   "id": "45719bba",
   "metadata": {},
   "source": [
    "#### Exercise for efficiency using group alteranation\n",
    "* apply global regular expression to the text \"Self-Reliance\"\n",
    "* Match \"myself\", \"yourself\", \"thyself\", but not \"himself\", \"herself\", \"itself\"\n",
    "* Match \"good\", \"goodness\" and \"goods\" without typing \"good\" more than once\n",
    "* match \"do\" or \"does\" followed by \"no\", \"not\" or \"nothing\" even when it occurs at the start of a sentence"
   ]
  },
  {
   "cell_type": "markdown",
   "id": "dfae964a",
   "metadata": {},
   "source": [
    "`/(my|your|thy)+self/`\n",
    "`/good(ness|s)?/`\n",
    "`/[Dd]o(es)? (nothing|not|no}/` or `/[Dd]o(es)? no(t(hing)?)?/` or `/[Dd]o(es)? no(thing|t)?/`"
   ]
  },
  {
   "cell_type": "markdown",
   "id": "68a5e412",
   "metadata": {},
   "source": [
    "### Start and End Anchors\n",
    "* start and end anchors referce a position, not an actual character\n",
    "* it is zero-width\n",
    "* `^` start of string/line\n",
    "* `$` endo of string/line\n",
    "* `\\A` start of string, never end of line\n",
    "* `\\Z` endo of string, never end of line"
   ]
  },
  {
   "cell_type": "markdown",
   "id": "056ed47c",
   "metadata": {},
   "source": [
    "#### Examples\n",
    "* `/^apple/` or `/\\Aapple/`\n",
    "* `/apple$/` or `/apple\\Z/` \n",
    "* `/^apple$/` or `/\\Aapple\\Z/` \n"
   ]
  },
  {
   "cell_type": "markdown",
   "id": "5137bb93",
   "metadata": {},
   "source": [
    "#### modes of regex when using anchors\n",
    "* single-line mode\n",
    "  - default\n",
    "  - all four anchors do not match at line breaks\n",
    "* multi-line mode\n",
    "  - \\A and \\Z will not match at line break. can be used to match the entire file/string\n",
    "  - ^ and $ will match start and end of lines  "
   ]
  },
  {
   "cell_type": "code",
   "execution_count": 1,
   "id": "d9ab6a0a",
   "metadata": {},
   "outputs": [],
   "source": [
    "import re\n",
    "re.search(\"^regex$\", \"string\", re.MULTILINE)"
   ]
  },
  {
   "cell_type": "markdown",
   "id": "0ddd097e",
   "metadata": {},
   "source": [
    "### Word boundaries\n",
    "* reference a position, not an actual character\n",
    "* before the first word character in the string\n",
    "* afer the last word character in the string\n",
    "* between a word character and a non-word character\n",
    "* word characters: `[A-Za-z0-9_]`\n",
    "* any time we change from something in this character set to something that is not in this set, it's a word boundary\n",
    "#### Examples:\n",
    "* `/\\b\\w+\\b/` finds four matches in \"This is a test.\"\n",
    "  + \"This\" because it has a word boundary before T and a space, which is not a word character\n",
    "  + \"is\" because it has a space before and after it, which is not a word character\n",
    "  + \"a\" because it has a space before and after it, which is not a word character\n",
    "  + \"test\". it has a space and a . after it, which are not word characters\n",
    "* `/\\b\\w+\\b/` matches all of \"abc_123\", but only part of \"top-notch\"  \n",
    "* `/\\bNEW\\bYork\\b/` does not match \"NEW York\" because there is a work boundary between w and space, and another between space and York\n",
    "* `/\\bNEW\\b \\bYork\\b/` matches \"NEW York\"\n",
    "* `/\\B\\w+\\B/` finds two matches in \"This is a test\" (\"hi\" and \"es\")\n",
    "* find all letter 'e' that is at the end of the words (all 'e's followed by a word boundary)\n",
    "  + `/e\\b/`\n",
    "  + e can be followed by space, or :, or ? etc. when the word ends\n",
    "* find all letter 'a' that is standalone, may be separated from other letters by space, ?, :, ; etc.\n",
    "  + `/\\ba\\b/`\n",
    "* find word that ends with S\n",
    "  + `/\\b\\w+s\\b/` for \"We picked apples\"\n",
    "    - engine only look for the position that has \\b at the start, it will not back-track other positions\n",
    "    - these positions include \"icked\", once engine checks there is no \\b before them, it skips to the next character"
   ]
  },
  {
   "cell_type": "markdown",
   "id": "f6d8fc38",
   "metadata": {},
   "source": [
    "#### Exercise for efficiency using group alteranation\n",
    "* apply global regular expression to the text \"Self-Reliance\"\n",
    "* how many paragraphs start with \"I\" as in \"I read\"?\n",
    "* how many paragraphs end with a question mark?\n",
    "* match all words with 15 letters, including hyphenated words"
   ]
  },
  {
   "cell_type": "markdown",
   "id": "96b6fb8f",
   "metadata": {},
   "source": [
    "#### answers\n",
    "* `/^I\\b/`  (multi-line mode)\n",
    "* `/\\?$/`  (multi-line mode, need to use \\? to escape the quantifier of ? to literal character) \n",
    "* `/\\b[\\w\\-]{15}\\b/`"
   ]
  },
  {
   "cell_type": "markdown",
   "id": "28f1c8ca",
   "metadata": {},
   "source": [
    "### Python re module\n",
    "group in re module"
   ]
  },
  {
   "cell_type": "code",
   "execution_count": 4,
   "id": "d1fdf6dc",
   "metadata": {},
   "outputs": [
    {
     "data": {
      "text/plain": [
       "['John has 6 cats', 'Susan has 3 dogs', 'Mike has 8 fish']"
      ]
     },
     "execution_count": 4,
     "metadata": {},
     "output_type": "execute_result"
    }
   ],
   "source": [
    "import re\n",
    "string = \"John has 6 cats but I think my friend Susan has 3 dogs and Mike has 8 fish\"\n",
    "re.findall('[A-Za-z]+ \\w+ \\d+ \\w+', string)"
   ]
  },
  {
   "cell_type": "code",
   "execution_count": 5,
   "id": "99581740",
   "metadata": {},
   "outputs": [
    {
     "data": {
      "text/plain": [
       "['John', 'Susan', 'Mike']"
      ]
     },
     "execution_count": 5,
     "metadata": {},
     "output_type": "execute_result"
    }
   ],
   "source": [
    "#### when using group, re.findall only print out groups\n",
    "re.findall('([A-Za-z]+) \\w+ \\d+ \\w+', string)"
   ]
  },
  {
   "cell_type": "code",
   "execution_count": 6,
   "id": "5ac99d4c",
   "metadata": {},
   "outputs": [
    {
     "data": {
      "text/plain": [
       "[('John', '6', 'cats'), ('Susan', '3', 'dogs'), ('Mike', '8', 'fish')]"
      ]
     },
     "execution_count": 6,
     "metadata": {},
     "output_type": "execute_result"
    }
   ],
   "source": [
    "# each element in the group will be output as tuple elements if there are multiple groups\n",
    "re.findall('([A-Za-z]+) \\w+ (\\d+) (\\w+)', string)"
   ]
  },
  {
   "cell_type": "code",
   "execution_count": 7,
   "id": "cf8259ff",
   "metadata": {},
   "outputs": [
    {
     "data": {
      "text/plain": [
       "[('John', 'Susan', 'Mike'), ('6', '3', '8'), ('cats', 'dogs', 'fish')]"
      ]
     },
     "execution_count": 7,
     "metadata": {},
     "output_type": "execute_result"
    }
   ],
   "source": [
    "# use zip to re-organize the groups\n",
    "info = re.findall('([A-Za-z]+) \\w+ (\\d+) (\\w+)', string)\n",
    "list(zip(*info))"
   ]
  },
  {
   "cell_type": "code",
   "execution_count": 21,
   "id": "31150b9d",
   "metadata": {},
   "outputs": [
    {
     "data": {
      "text/plain": [
       "[('John has 6 cats', 'John', '6', 'cats'),\n",
       " ('Susan has 3 dogs', 'Susan', '3', 'dogs'),\n",
       " ('Mike has 8 fish', 'Mike', '8', 'fish')]"
      ]
     },
     "execution_count": 21,
     "metadata": {},
     "output_type": "execute_result"
    }
   ],
   "source": [
    "# we can also put all the regex sub-groups into a big group\n",
    "# we can then retrieve whatever instance/group combination we want\n",
    "data = re.findall('(([A-Za-z]+) \\w+ (\\d+) (\\w+))', string)\n",
    "data"
   ]
  },
  {
   "cell_type": "markdown",
   "id": "c7d03d1d",
   "metadata": {},
   "source": [
    "### using search in re module\n",
    "* search returns the first matched instance"
   ]
  },
  {
   "cell_type": "code",
   "execution_count": 8,
   "id": "ba28787f",
   "metadata": {},
   "outputs": [
    {
     "data": {
      "text/plain": [
       "<re.Match object; span=(0, 15), match='John has 6 cats'>"
      ]
     },
     "execution_count": 8,
     "metadata": {},
     "output_type": "execute_result"
    }
   ],
   "source": [
    "match = re.match('([A-Za-z]+) \\w+ (\\d+) (\\w+)', string)\n",
    "match"
   ]
  },
  {
   "cell_type": "code",
   "execution_count": 9,
   "id": "035f669f",
   "metadata": {},
   "outputs": [
    {
     "data": {
      "text/plain": [
       "'John has 6 cats'"
      ]
     },
     "execution_count": 9,
     "metadata": {},
     "output_type": "execute_result"
    }
   ],
   "source": [
    "# group(0) returns the entire matched instance\n",
    "match.group(0)"
   ]
  },
  {
   "cell_type": "code",
   "execution_count": 10,
   "id": "27331fa7",
   "metadata": {},
   "outputs": [
    {
     "data": {
      "text/plain": [
       "('John', '6', 'cats')"
      ]
     },
     "execution_count": 10,
     "metadata": {},
     "output_type": "execute_result"
    }
   ],
   "source": [
    "# groups() returns all the groups of the matched instance as a tuple\n",
    "match.groups()"
   ]
  },
  {
   "cell_type": "code",
   "execution_count": 11,
   "id": "0b02000c",
   "metadata": {},
   "outputs": [
    {
     "name": "stdout",
     "output_type": "stream",
     "text": [
      "John\n",
      "6\n",
      "cats\n"
     ]
    }
   ],
   "source": [
    "# we can get each group content\n",
    "print(match.group(1))\n",
    "print(match.group(2))\n",
    "print(match.group(3))"
   ]
  },
  {
   "cell_type": "code",
   "execution_count": 12,
   "id": "68b5f002",
   "metadata": {},
   "outputs": [
    {
     "data": {
      "text/plain": [
       "('John', 'cats')"
      ]
     },
     "execution_count": 12,
     "metadata": {},
     "output_type": "execute_result"
    }
   ],
   "source": [
    "match.group(1, 3)"
   ]
  },
  {
   "cell_type": "code",
   "execution_count": 14,
   "id": "88ce47c7",
   "metadata": {},
   "outputs": [
    {
     "data": {
      "text/plain": [
       "('cats', '6', 'John', 'John')"
      ]
     },
     "execution_count": 14,
     "metadata": {},
     "output_type": "execute_result"
    }
   ],
   "source": [
    "match.group(3, 2, 1, 1)"
   ]
  },
  {
   "cell_type": "code",
   "execution_count": 16,
   "id": "766f7cc1",
   "metadata": {},
   "outputs": [
    {
     "data": {
      "text/plain": [
       "(0, 15)"
      ]
     },
     "execution_count": 16,
     "metadata": {},
     "output_type": "execute_result"
    }
   ],
   "source": [
    "#### match.span() gives the start and end position of the match\n",
    "# if no arguments to span, it will default to group 0\n",
    "match.span()"
   ]
  },
  {
   "cell_type": "code",
   "execution_count": 18,
   "id": "7dabb27e",
   "metadata": {},
   "outputs": [
    {
     "data": {
      "text/plain": [
       "(0, 4)"
      ]
     },
     "execution_count": 18,
     "metadata": {},
     "output_type": "execute_result"
    }
   ],
   "source": [
    "# the start and end positions of group 1\n",
    "match.span(1)"
   ]
  },
  {
   "cell_type": "code",
   "execution_count": 19,
   "id": "7e0ae745",
   "metadata": {},
   "outputs": [
    {
     "data": {
      "text/plain": [
       "(9, 10)"
      ]
     },
     "execution_count": 19,
     "metadata": {},
     "output_type": "execute_result"
    }
   ],
   "source": [
    "# the start and end positions of group 2\n",
    "match.span(2)"
   ]
  },
  {
   "cell_type": "code",
   "execution_count": 22,
   "id": "84b5ed8b",
   "metadata": {},
   "outputs": [],
   "source": [
    "### use re.finditer\n",
    "it = re.finditer('([A-Za-z]+) \\w+ (\\d+) (\\w+)', string)"
   ]
  },
  {
   "cell_type": "code",
   "execution_count": 23,
   "id": "7b3445c9",
   "metadata": {},
   "outputs": [
    {
     "data": {
      "text/plain": [
       "'John has 6 cats'"
      ]
     },
     "execution_count": 23,
     "metadata": {},
     "output_type": "execute_result"
    }
   ],
   "source": [
    "# each time it is iterated, it will run search method and returns a match object\n",
    "next(it).group()"
   ]
  },
  {
   "cell_type": "code",
   "execution_count": 24,
   "id": "719d3cee",
   "metadata": {},
   "outputs": [
    {
     "data": {
      "text/plain": [
       "'3'"
      ]
     },
     "execution_count": 24,
     "metadata": {},
     "output_type": "execute_result"
    }
   ],
   "source": [
    "next(it).group(2)"
   ]
  },
  {
   "cell_type": "code",
   "execution_count": 26,
   "id": "5b58fd0c",
   "metadata": {},
   "outputs": [
    {
     "name": "stdout",
     "output_type": "stream",
     "text": [
      "('cats', 'John', '6')\n",
      "('dogs', 'Susan', '3')\n",
      "('fish', 'Mike', '8')\n"
     ]
    }
   ],
   "source": [
    "it = re.finditer('([A-Za-z]+) \\w+ (\\d+) (\\w+)', string)\n",
    "for element in it:\n",
    "    print(element.group(3, 1, 2))"
   ]
  },
  {
   "cell_type": "markdown",
   "id": "397f2562",
   "metadata": {},
   "source": [
    "#### group in re.search() overwrites so you only get the basic pattern\n",
    "* it consumes/matches all the possible text as greedy mode\n",
    "* the group only show you the basic pattern of the last match\n",
    "  + re.search() only returns the last match of the group pattern!"
   ]
  },
  {
   "cell_type": "code",
   "execution_count": 28,
   "id": "709f45a9",
   "metadata": {},
   "outputs": [
    {
     "data": {
      "text/plain": [
       "<re.Match object; span=(0, 10), match='ababababab'>"
      ]
     },
     "execution_count": 28,
     "metadata": {},
     "output_type": "execute_result"
    }
   ],
   "source": [
    "string = \"ababababab\"\n",
    "match = re.search('(ab)+', string)\n",
    "match"
   ]
  },
  {
   "cell_type": "code",
   "execution_count": 29,
   "id": "65f0dd0d",
   "metadata": {},
   "outputs": [
    {
     "data": {
      "text/plain": [
       "('ab',)"
      ]
     },
     "execution_count": 29,
     "metadata": {},
     "output_type": "execute_result"
    }
   ],
   "source": [
    "match.groups()"
   ]
  },
  {
   "cell_type": "code",
   "execution_count": 31,
   "id": "2288354c",
   "metadata": {},
   "outputs": [
    {
     "data": {
      "text/plain": [
       "('ab', 'ab')"
      ]
     },
     "execution_count": 31,
     "metadata": {},
     "output_type": "execute_result"
    }
   ],
   "source": [
    "# 1st (ab)+ consume all the character except the last 'ab' since its in greedy mode\n",
    "match = re.search('(ab)+(ab)+', string)\n",
    "match.groups()"
   ]
  },
  {
   "cell_type": "code",
   "execution_count": 33,
   "id": "728fd3c4",
   "metadata": {},
   "outputs": [
    {
     "data": {
      "text/plain": [
       "(8, 10)"
      ]
     },
     "execution_count": 33,
     "metadata": {},
     "output_type": "execute_result"
    }
   ],
   "source": [
    "# to confirm 1st (ab)+ consumes all the character except the last 'ab'\n",
    "# get the indices of the second group match\n",
    "match.span(2)"
   ]
  },
  {
   "cell_type": "markdown",
   "id": "0ddf7d48",
   "metadata": {},
   "source": [
    "### Non-captured group\n",
    "* when you want to use group to find/search a pattern, but do not want to output/save the group\n",
    "* syntax for non-capture groups: ?:\n",
    "* syntax for naming groups: ?p"
   ]
  },
  {
   "cell_type": "code",
   "execution_count": 43,
   "id": "fe25ba54",
   "metadata": {},
   "outputs": [
    {
     "data": {
      "text/plain": [
       "['4', '9']"
      ]
     },
     "execution_count": 43,
     "metadata": {},
     "output_type": "execute_result"
    }
   ],
   "source": [
    "string =\"1234 56789\"\n",
    "re.findall('(\\d)+', string)"
   ]
  },
  {
   "cell_type": "code",
   "execution_count": 49,
   "id": "29f183f4",
   "metadata": {},
   "outputs": [
    {
     "data": {
      "text/plain": [
       "['1234', '56789']"
      ]
     },
     "execution_count": 49,
     "metadata": {},
     "output_type": "execute_result"
    }
   ],
   "source": [
    "# re.findall returns the entire matched string since there is no group to output\n",
    "re.findall('(?:\\d)+', string)"
   ]
  },
  {
   "cell_type": "code",
   "execution_count": 50,
   "id": "170b2156",
   "metadata": {},
   "outputs": [
    {
     "data": {
      "text/plain": [
       "['1234', '56789']"
      ]
     },
     "execution_count": 50,
     "metadata": {},
     "output_type": "execute_result"
    }
   ],
   "source": [
    "# this is the same as non-group findall\n",
    "re.findall('\\d+', string)"
   ]
  },
  {
   "cell_type": "code",
   "execution_count": 47,
   "id": "3b24f45e",
   "metadata": {},
   "outputs": [
    {
     "data": {
      "text/plain": [
       "['9']"
      ]
     },
     "execution_count": 47,
     "metadata": {},
     "output_type": "execute_result"
    }
   ],
   "source": [
    "# if there is a capture group, since now we have a group, re.findall outputs the group\n",
    "re.findall('(?:\\d)+ (\\d)+', string)"
   ]
  },
  {
   "cell_type": "code",
   "execution_count": 61,
   "id": "bbb4744c",
   "metadata": {},
   "outputs": [],
   "source": [
    "string =\"123123 = Alex, 123123123 = Danny, 123123123123 = Mike, 456456 = rick, 1212 = John\""
   ]
  },
  {
   "cell_type": "code",
   "execution_count": 63,
   "id": "2aaf2eff",
   "metadata": {},
   "outputs": [
    {
     "data": {
      "text/plain": [
       "['Alex', 'Danny', 'Mike']"
      ]
     },
     "execution_count": 63,
     "metadata": {},
     "output_type": "execute_result"
    }
   ],
   "source": [
    "# we want to pull out all names whose id has 123 within it\n",
    "# the 1st group (?:\\d*123) is used to find the match\n",
    "# the 2nd group is what we want to output\n",
    "re.findall('(?:\\d*123)+ = (\\w+)', string)"
   ]
  },
  {
   "cell_type": "code",
   "execution_count": 65,
   "id": "642982fc",
   "metadata": {},
   "outputs": [
    {
     "data": {
      "text/plain": [
       "['1*1*1*1*2222', '1*1*3333']"
      ]
     },
     "execution_count": 65,
     "metadata": {},
     "output_type": "execute_result"
    }
   ],
   "source": [
    "string = \"1*1*1*1*2222 1*1*3333 2*1*2*1*222 1*222*3333 3*3*3*444\"\n",
    "# no group output, so the output will be the matched string\n",
    "re.findall('(?:1\\*){2,}\\d+', string)"
   ]
  },
  {
   "cell_type": "markdown",
   "id": "8158caf3",
   "metadata": {},
   "source": [
    "#### using re.search for non-capture group\n",
    "* re.search groups will output nothing"
   ]
  },
  {
   "cell_type": "code",
   "execution_count": 67,
   "id": "b60bdd5a",
   "metadata": {},
   "outputs": [
    {
     "data": {
      "text/plain": [
       "()"
      ]
     },
     "execution_count": 67,
     "metadata": {},
     "output_type": "execute_result"
    }
   ],
   "source": [
    "string =\"1234 56789\"\n",
    "match = re.search('(?:\\d)+', string)\n",
    "match.groups()"
   ]
  },
  {
   "cell_type": "markdown",
   "id": "0f1fef17",
   "metadata": {},
   "source": [
    "### Backreferencing makes reference to the captured group in the same regular expression\n",
    "* first define a group or groups\n",
    "* refer to the group by \\group_index\n",
    "* the reference will be automatically replaced by the matched group, with the corresponding group index"
   ]
  },
  {
   "cell_type": "code",
   "execution_count": 70,
   "id": "6f32ecb0",
   "metadata": {},
   "outputs": [
    {
     "data": {
      "text/plain": [
       "<re.Match object; span=(0, 11), match='Merry Merry'>"
      ]
     },
     "execution_count": 70,
     "metadata": {},
     "output_type": "execute_result"
    }
   ],
   "source": [
    "# here \\1 refers to the content of group 1 (\\w+)\n",
    "re.search(r'(\\w+) \\1', \"Merry Merry Christmas\")"
   ]
  },
  {
   "cell_type": "code",
   "execution_count": 71,
   "id": "1573e4ac",
   "metadata": {},
   "outputs": [
    {
     "data": {
      "text/plain": [
       "('Merry',)"
      ]
     },
     "execution_count": 71,
     "metadata": {},
     "output_type": "execute_result"
    }
   ],
   "source": [
    "# we can also check the group it matched is Merry, and it is the only group\n",
    "re.search(r'(\\w+) \\1', \"Merry Merry Christmas\").groups()"
   ]
  },
  {
   "cell_type": "code",
   "execution_count": 72,
   "id": "ced0723f",
   "metadata": {},
   "outputs": [
    {
     "data": {
      "text/plain": [
       "['Happy', 'Christmas']"
      ]
     },
     "execution_count": 72,
     "metadata": {},
     "output_type": "execute_result"
    }
   ],
   "source": [
    "re.findall(r'(\\w+) \\1', \"Happy Happy Holidays. Merry Christmas Christmas\")"
   ]
  },
  {
   "cell_type": "code",
   "execution_count": 73,
   "id": "eefadbc0",
   "metadata": {},
   "outputs": [
    {
     "data": {
      "text/plain": [
       "['Merry', 'Christmas', 'Merry']"
      ]
     },
     "execution_count": 73,
     "metadata": {},
     "output_type": "execute_result"
    }
   ],
   "source": [
    "re.findall(r'(\\w+) \\1', \"Merry Merry Christmas Christmas Merry Merry Christmas\")"
   ]
  },
  {
   "cell_type": "code",
   "execution_count": null,
   "id": "94b77605",
   "metadata": {},
   "outputs": [],
   "source": []
  }
 ],
 "metadata": {
  "kernelspec": {
   "display_name": "Python 3 (ipykernel)",
   "language": "python",
   "name": "python3"
  },
  "language_info": {
   "codemirror_mode": {
    "name": "ipython",
    "version": 3
   },
   "file_extension": ".py",
   "mimetype": "text/x-python",
   "name": "python",
   "nbconvert_exporter": "python",
   "pygments_lexer": "ipython3",
   "version": "3.8.10"
  }
 },
 "nbformat": 4,
 "nbformat_minor": 5
}
