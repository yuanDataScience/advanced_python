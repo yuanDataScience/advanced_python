{
 "cells": [
  {
   "cell_type": "markdown",
   "id": "1ee9f53b",
   "metadata": {},
   "source": [
    "### Modeling with UML\n",
    "This notebook is based on a [linkedin course](https://www.linkedin.com/learning/software-design-modeling-with-uml/)"
   ]
  },
  {
   "cell_type": "markdown",
   "id": "fa72d5b4",
   "metadata": {},
   "source": [
    "### Model\n",
    "* a partial abstract representation of a real-world system\n",
    "* an inexpensive way to analyze, communicate, test and document our understanding of the system\n",
    "* three types of models\n",
    "  + computational\n",
    "    + computer simulations representing time-varying behavior of a system\n",
    "  + analytical\n",
    "    + mathematical models of relationships among variables in a system\n",
    "  + nonanaytical/descriptive\n",
    "    + describe components and their relationships in a system (describe what you will build)\n",
    "* models of software\n",
    "  + data related \n",
    "    + relational, network, hierarchical models\n",
    "    + object-oriented data models\n",
    "  + applications that work on data\n",
    "    + UML models\n",
    "      + focus on logic and structure of application that uses that data\n",
    "      + a family of graphical notations to describe and design software sysems, especially those using an object-oriented approach\n",
    "      + based on standards controlled by Object Management Group (OMG)\n",
    "    + SysML models (Systems Modeling Language)\n",
    "      + similar to UML, little more general purpose. it is for system engineering, not for software engineering\n",
    "    + BPMN models (Busniess Process Modeling Notation)\n",
    "      + for modeling business processes and workflows\n",
    "      + targets business stakeholders who focus on domain knowledge and organizational systems"
   ]
  },
  {
   "cell_type": "markdown",
   "id": "8a11997e",
   "metadata": {},
   "source": [
    "### UML diagrams\n",
    "* has two categories:\n",
    "  + structure\n",
    "    + represents static view of the system and its components\n",
    "    + class diagram\n",
    "    + component diagram\n",
    "    + object diagram\n",
    "    + composite structure diagram\n",
    "    + package diagram\n",
    "    + deployment diagram\n",
    "   + behavior\n",
    "     + how system and its components behavior over time\n",
    "       + represent dynamic view of the system and its components\n",
    "     + use case diagram\n",
    "     + activity diagram\n",
    "     + state machine diagram\n",
    "     + interaction\n",
    "       + represents interaction\n",
    "         + among components of the system\n",
    "         + between system and external actors\n",
    "       + sequence diagram\n",
    "       + communication diagram\n",
    "       + timing diagram\n",
    "       + interaction overview diagram\n",
    "* important considerations\n",
    "  + model selectively\n",
    "    + you need not (and should not) draw all the models to develop a system\n",
    "    + UML diagram should start as rough sketches to get basic ideas before transferred to tools for long-term reference and updates\n",
    "  + model collaboratively\n",
    "    + use models to think, share, learn, and understand together with your team\n",
    "  + model smartly\n",
    "    + start rough and refine it as needed, making it as a long-term asset for the team"
   ]
  },
  {
   "cell_type": "markdown",
   "id": "5dbc7b05",
   "metadata": {},
   "source": [
    "### UML Tools\n",
    "* Computer-aided software engineering (CASE) tools help in various tasks throughout the software development life cycle\n",
    "* some key functions of CASE tools:\n",
    "  + modeling\n",
    "  + code generation\n",
    "  + reverse engineering\n",
    "  + analyzing code complexity\n",
    "  + calculating metrics\n",
    "* PlantUML\n",
    "  + An open-source tool to create UML diagram form a plain text language\n",
    "  + can be integrated with software such as IDEs, Maven build framework, Java documentation, and Microsoft Word\n",
    "  + online server at http://www.plantuml.com/plantuml"
   ]
  },
  {
   "cell_type": "markdown",
   "id": "2431a15f",
   "metadata": {},
   "source": [
    "### Use case diagram\n",
    "* precursor for use case specifications\n",
    "* capture high-level functionality of a system using notations for actors, use cases, and relationships among them\n",
    "* used as summary of all use cases in the system\n",
    "  + showing whcih use cases have been identified and documented in the detailed use case specifications\n",
    "* there are four elements in use case diagram\n",
    "  + use cases\n",
    "  + system for which the use case has been identified\n",
    "  + actor\n",
    "  + associations among all these elements\n",
    "* use case notation\n",
    "  + a bubble that carries use case title\n",
    "  + a use case title is a combination of a verb and a npun that captures what hte user wants to do with the system\n",
    "  + a use case may have an association with other actors as well as use cases\n",
    "  + how to define a use case notation\n",
    "    + a box define the system boundary, all use cases of the system will be in this box\n",
    "      + the box has a title\n",
    "    + the use case (bubble) inside the box has a name of verb + noun combination\n",
    "    + there might be one or more actor out of the system box interacting with the use case\n",
    "* actor\n",
    "  + represents a user's role with respect to the system\n",
    "  + for example, in a university calendar system, students and staff are roles (actors)\n",
    "  + a user may have more than one roles, for example, a staff member may also be an admin\n",
    "    + an admin may have some special use cases in the system\n",
    "  + an actor may be a human or another system that inferaces with your system\n",
    "  + is an external entity that participates in the use case \n",
    "  + depending on how they participate the use case, there are two types of actors\n",
    "    + primary actor: whose goal is fulfilled by the use case, and often is the one who triggers the use case\n",
    "    + seconday actor: involved in the use case\n",
    "      + often are external system (for example, an external database)\n",
    "      + secondary actor notations\n",
    "        + can have the same notation as the primary actor\n",
    "        + or a nonhuman notation such as a box\n",
    "        + or steretyped with << >>\n",
    "          steretype is used in UML diagrams to denote special types based on a classification other than what is provided by UML notations\n",
    "* association\n",
    "  + can be between actor and use case\n",
    "    + convention\n",
    "      + show primary actor on the left and secondary actor on the right of the system\n",
    "      + when there are many actors in complex diagrams, use arrows\n",
    "        + arrows go from primary actor to use case, and from use case to secondary actor\n",
    "  + can be between use cases\n",
    "    + include\n",
    "      + reusable parts of behavior across tow or more use case (login)\n",
    "      + dashed or dotted arrow starting from base and with head point to the reusable use case\n",
    "      + base use case depends on include use case indicated by arrow\n",
    "      + base use case is incomplete without reusable use case\n",
    "    + extend\n",
    "      + optional behavior added to use case\n",
    "      + keeps the base use case unchagned while adding more specifics or conditional changes\n",
    "        + example: users can view envent schedule, and have the option to use academic calendar to define start date\n",
    "      + base use case is independent of the extend use case\n",
    "    + generalization\n",
    "      + when one use case is a specialized form of another use case\n",
    "  + can be between actors\n",
    "    + generalization\n",
    "      + depict generalization - specialization or inheritance relationship between actors"
   ]
  },
  {
   "cell_type": "code",
   "execution_count": 4,
   "id": "b84b7916",
   "metadata": {},
   "outputs": [
    {
     "data": {
      "text/html": [
       "<img src=\"Diagrams/Use_Case/UML_UCD_primary_secondary_actors.png\"/>"
      ],
      "text/plain": [
       "<IPython.core.display.Image object>"
      ]
     },
     "execution_count": 4,
     "metadata": {},
     "output_type": "execute_result"
    }
   ],
   "source": [
    "from IPython.display import Image\n",
    "Image(url=\"Diagrams/Use_Case/UML_UCD_primary_secondary_actors.png\")"
   ]
  },
  {
   "cell_type": "code",
   "execution_count": 2,
   "id": "c51f1c8b",
   "metadata": {},
   "outputs": [
    {
     "data": {
      "text/html": [
       "<img src=\"Diagrams/Use_Case/UML_UCD_actor_generalization.png\"/>"
      ],
      "text/plain": [
       "<IPython.core.display.Image object>"
      ]
     },
     "execution_count": 2,
     "metadata": {},
     "output_type": "execute_result"
    }
   ],
   "source": [
    "from IPython.display import Image\n",
    "Image(url=\"Diagrams/Use_Case/UML_UCD_actor_generalization.png\")"
   ]
  },
  {
   "cell_type": "code",
   "execution_count": 3,
   "id": "d1b6c371",
   "metadata": {},
   "outputs": [
    {
     "data": {
      "text/html": [
       "<img src=\"Diagrams/Use_Case/UML_UCD_actor_usecase_generalization.png\"/>"
      ],
      "text/plain": [
       "<IPython.core.display.Image object>"
      ]
     },
     "execution_count": 3,
     "metadata": {},
     "output_type": "execute_result"
    }
   ],
   "source": [
    "from IPython.display import Image\n",
    "Image(url=\"Diagrams/Use_Case/UML_UCD_actor_usecase_generalization.png\")"
   ]
  },
  {
   "cell_type": "code",
   "execution_count": 5,
   "id": "7c81ac67",
   "metadata": {},
   "outputs": [
    {
     "data": {
      "text/html": [
       "<img src=\"Diagrams/Use_Case/UML_UCD_usecase_include.png\"/>"
      ],
      "text/plain": [
       "<IPython.core.display.Image object>"
      ]
     },
     "execution_count": 5,
     "metadata": {},
     "output_type": "execute_result"
    }
   ],
   "source": [
    "from IPython.display import Image\n",
    "Image(url=\"Diagrams/Use_Case/UML_UCD_usecase_include.png\")"
   ]
  },
  {
   "cell_type": "code",
   "execution_count": 6,
   "id": "9fc93e87",
   "metadata": {},
   "outputs": [
    {
     "data": {
      "text/html": [
       "<img src=\"Diagrams/Use_Case/UML_UCD_usecase_include_extend.png\"/>"
      ],
      "text/plain": [
       "<IPython.core.display.Image object>"
      ]
     },
     "execution_count": 6,
     "metadata": {},
     "output_type": "execute_result"
    }
   ],
   "source": [
    "from IPython.display import Image\n",
    "Image(url=\"Diagrams/Use_Case/UML_UCD_usecase_include_extend.png\")"
   ]
  },
  {
   "cell_type": "markdown",
   "id": "5c0dc4f8",
   "metadata": {},
   "source": [
    "### Activity Diagram\n",
    "* used for workflow and process modeling\n",
    "* similar to flow charts but with parallel behavior and multiple actors\n",
    "* powerful to capture parallel tracks in a process, and multiple actors in the process\n",
    "* often drawn by users, business analysts, and developers to capture their requirement understanding\n",
    "* key elements\n",
    "  + start and end nodes\n",
    "  + actions\n",
    "    + shown as rectangle\n",
    "  + flows\n",
    "    + shown as arrows of the sequence of actions\n",
    "  + fork \n",
    "    + one incoming flow forks into multiple outgoing flows\n",
    "  + join\n",
    "    + multiple incoming flows joins one outgoing flow\n",
    "    + outgoing flow starts only when all coming flows have come in\n",
    "  + decision and merge\n",
    "    + model conditional flows\n",
    "    + decision\n",
    "      + with one inflow and multiple garded mutually exclusinve outflows\n",
    "      + each outflow has a (condition) as its guard\n",
    "  + swimlanes\n",
    "    + model action \"doers\"\n",
    "    + track who is doing what actions\n",
    "    + each doer assinged to one swimlane\n",
    "    + two dimension swimlanes\n",
    "      + each dimension represent a specific category of actors\n",
    "  "
   ]
  },
  {
   "cell_type": "code",
   "execution_count": 11,
   "id": "9af543fd",
   "metadata": {},
   "outputs": [
    {
     "data": {
      "text/html": [
       "<img src=\"Diagrams/Activity/UML_AD_general.png\"/>"
      ],
      "text/plain": [
       "<IPython.core.display.Image object>"
      ]
     },
     "execution_count": 11,
     "metadata": {},
     "output_type": "execute_result"
    }
   ],
   "source": [
    "from IPython.display import Image\n",
    "Image(url=\"Diagrams/Activity/UML_AD_general.png\")"
   ]
  },
  {
   "cell_type": "code",
   "execution_count": 12,
   "id": "b9efc6c2",
   "metadata": {},
   "outputs": [
    {
     "data": {
      "text/html": [
       "<img src=\"Diagrams/Activity/UML_AD_start_end_action_flow.png\"/>"
      ],
      "text/plain": [
       "<IPython.core.display.Image object>"
      ]
     },
     "execution_count": 12,
     "metadata": {},
     "output_type": "execute_result"
    }
   ],
   "source": [
    "from IPython.display import Image\n",
    "Image(url=\"Diagrams/Activity/UML_AD_start_end_action_flow.png\")"
   ]
  },
  {
   "cell_type": "code",
   "execution_count": 8,
   "id": "6709b6d6",
   "metadata": {},
   "outputs": [
    {
     "data": {
      "text/html": [
       "<img src=\"Diagrams/Activity/UML_AD_decision.png\"/>"
      ],
      "text/plain": [
       "<IPython.core.display.Image object>"
      ]
     },
     "execution_count": 8,
     "metadata": {},
     "output_type": "execute_result"
    }
   ],
   "source": [
    "from IPython.display import Image\n",
    "Image(url=\"Diagrams/Activity/UML_AD_decision.png\")"
   ]
  },
  {
   "cell_type": "code",
   "execution_count": 9,
   "id": "097fd7c7",
   "metadata": {},
   "outputs": [
    {
     "data": {
      "text/html": [
       "<img src=\"Diagrams/Activity/UML_AD_fork_join.png\"/>"
      ],
      "text/plain": [
       "<IPython.core.display.Image object>"
      ]
     },
     "execution_count": 9,
     "metadata": {},
     "output_type": "execute_result"
    }
   ],
   "source": [
    "from IPython.display import Image\n",
    "Image(url=\"Diagrams/Activity/UML_AD_fork_join.png\")"
   ]
  },
  {
   "cell_type": "code",
   "execution_count": 10,
   "id": "325db25d",
   "metadata": {},
   "outputs": [
    {
     "data": {
      "text/html": [
       "<img src=\"Diagrams/Activity/UML_AD_swimlane.png\"/>"
      ],
      "text/plain": [
       "<IPython.core.display.Image object>"
      ]
     },
     "execution_count": 10,
     "metadata": {},
     "output_type": "execute_result"
    }
   ],
   "source": [
    "from IPython.display import Image\n",
    "Image(url=\"Diagrams/Activity/UML_AD_swimlane.png\")"
   ]
  },
  {
   "cell_type": "code",
   "execution_count": 13,
   "id": "583f2584",
   "metadata": {},
   "outputs": [
    {
     "data": {
      "text/html": [
       "<img src=\"Diagrams/Activity/UML_AD_vertical_swimlane.png\"/>"
      ],
      "text/plain": [
       "<IPython.core.display.Image object>"
      ]
     },
     "execution_count": 13,
     "metadata": {},
     "output_type": "execute_result"
    }
   ],
   "source": [
    "from IPython.display import Image\n",
    "Image(url=\"Diagrams/Activity/UML_AD_vertical_swimlane.png\")"
   ]
  },
  {
   "cell_type": "code",
   "execution_count": 7,
   "id": "94ee0171",
   "metadata": {},
   "outputs": [
    {
     "data": {
      "text/html": [
       "<img src=\"Diagrams/Activity/UML_AD_2d_swimlane.png\"/>"
      ],
      "text/plain": [
       "<IPython.core.display.Image object>"
      ]
     },
     "execution_count": 7,
     "metadata": {},
     "output_type": "execute_result"
    }
   ],
   "source": [
    "from IPython.display import Image\n",
    "Image(url=\"Diagrams/Activity/UML_AD_2d_swimlane.png\")"
   ]
  },
  {
   "cell_type": "markdown",
   "id": "07c7e892",
   "metadata": {},
   "source": [
    "### class diagram\n",
    "* model the type of objects and relationships among them\n",
    "* also represent the most granular, or the lowest level of abstraction such as classes and interfaces\n",
    "* one of the most commonly used UML diagrams\n",
    "* shows the static view of the system\n",
    "* draw by developers as a part of design activity\n",
    "* key elements of a class diagram\n",
    "  + classifiers\n",
    "    + type of entities in the system\n",
    "    + types\n",
    "      + concrete class\n",
    "      + active class\n",
    "      + abstract class\n",
    "      + interface\n",
    "      + enumeration\n",
    "      + generic class\n",
    "    + consists of three compartments\n",
    "      + name in the top compartment\n",
    "      + features \n",
    "        + structural and behavior characteristics of the entities\n",
    "        + structural and behavioral characteristics of a classifier\n",
    "        + structural\n",
    "          + properties or attributes\n",
    "        + behavior\n",
    "          + operations or methods  \n",
    "      + relationships\n",
    "        + how entities are related to each other\n",
    "        + dependency, association, or generalization\n",
    "* usually define class diagram from use case definition\n",
    "  + first, from use case specification, identify nouns that are poential entities for classifiers\n",
    "  + second, from use case specification, identify attributes\n",
    "  + third, whe analyzing multiple use case specifications, some attriubtes will merge\n",
    "  + next, find the verbs that define the relationship between entities\n",
    "    + these relationships model the behavioral features of the classifiers\n",
    "  + finally, use UML notation to create class diagram  "
   ]
  },
  {
   "cell_type": "markdown",
   "id": "3ef9dde4",
   "metadata": {},
   "source": [
    "### class diagram design: classifier\n",
    "* classifiers\n",
    "  + concrete class\n",
    "  + active class\n",
    "  + abstract class\n",
    "  + interface\n",
    "  + enumeration\n",
    "  + generic class\n",
    "* During the design process\n",
    "  + in the initial analysis, most classes start from concrete classes\n",
    "  + during design proceeds, the detailed class types will be defined, such as abstract class, interface etc.\n",
    "    + when you see some design patterns can be applied to improve the quality of software\n",
    "    + these design patterns will motivate usage of different class types\n",
    "* notations of different classes\n",
    "  + concerte class (regular fonts)\n",
    "  + abstract class (italicized or stereotyped)\n",
    "  + interface (stereotyped or lollipop)\n",
    "  + enumeration (stereotyped)\n",
    "  + generic (template parameterized)\n",
    "  + active class (sidebars) \n",
    "    + class runs automously on its own thread\n",
    "   \n",
    "### class diagram design: feature\n",
    "* features \n",
    "  + structural and behavioral characteristics of a classifier\n",
    "* example\n",
    "  +accountNumber:string [1] {id, readonly}\n",
    "* behavior features\n",
    "  + modifier {property-modifier}\n",
    "    + redefines: if the method is inherited and being overwritten\n",
    "    + query: it reads data from somewhere but does not alter the state of the system\n",
    "    + ordered/unordered and unique/nonunique: return values in a collection or an array\n",
    "  + inout means it will modify the input parameter and return it back to the caller\n",
    "  \n",
    "### class diagram: relationships\n",
    "* three types of relationship\n",
    "  + association\n",
    "    + association link\n",
    "      + when an instance of source class is related (using) the instance of a target class\n",
    "        + source has some attribute that refers to the target instance\n",
    "        + label on the arrow from source to target provides information about the association\n",
    "        + direction of arrow also defines that you can get target instance from source, but not the opposite\n",
    "        + bidirection association can use either double headed arrows or a link\n",
    "          + for bidirection association, the direction of the association is left to right, top to bottom by default\n",
    "      + aggregation\n",
    "        + source has one or more target instances, but target instances may belong to other source instances\n",
    "        + if the source instance is removed, target instances may still in the system and belong to other instances\n",
    "      + composition\n",
    "        + source have one or more target instances, and ownership of the target(s) is not shared with other sources\n",
    "        + if source instance is removed, target instances need to be removed\n",
    "    + association class\n",
    "      + helps decouple two mutually interdependent classes by creating a third class\n",
    "      + example: event and guest\n",
    "        + many to many relationship\n",
    "        + extra property and behavior attributes are involved in the association\n",
    "  + generalization\n",
    "    + inheritance relationship between two classifiers\n",
    "    + solid arrow with hollow head\n",
    "    + do not repeat attributes defined in parent class in child class\n",
    "  + dependency\n",
    "    + a supplier/client relationship between two classifiers/classes\n",
    "      + client depends on supplier for its specification and implementation (compile time dependency)\n",
    "      + if a class implement an interface, it is a client to the interface\n",
    "      + if the client has a method that returns the supplier type or contains a supplier type parameter\n",
    "      + a dotted arrow from client to supplier\n",
    "    + compile time dependency\n",
    "    + example: client depends on supplier    "
   ]
  },
  {
   "cell_type": "code",
   "execution_count": 21,
   "id": "d0390b88",
   "metadata": {},
   "outputs": [
    {
     "data": {
      "text/html": [
       "<img src=\"Diagrams/Class/UML_CD_general.png\"/>"
      ],
      "text/plain": [
       "<IPython.core.display.Image object>"
      ]
     },
     "execution_count": 21,
     "metadata": {},
     "output_type": "execute_result"
    }
   ],
   "source": [
    "from IPython.display import Image\n",
    "Image(url=\"Diagrams/Class/UML_CD_general.png\")"
   ]
  },
  {
   "cell_type": "code",
   "execution_count": 24,
   "id": "d0fa1f56",
   "metadata": {},
   "outputs": [
    {
     "data": {
      "text/html": [
       "<img src=\"Diagrams/Class/UML_CD_how_to_define_structure_features.png\"/>"
      ],
      "text/plain": [
       "<IPython.core.display.Image object>"
      ]
     },
     "execution_count": 24,
     "metadata": {},
     "output_type": "execute_result"
    }
   ],
   "source": [
    "from IPython.display import Image\n",
    "Image(url=\"Diagrams/Class/UML_CD_how_to_define_structure_features.png\")"
   ]
  },
  {
   "cell_type": "code",
   "execution_count": 23,
   "id": "a5335a99",
   "metadata": {},
   "outputs": [
    {
     "data": {
      "text/html": [
       "<img src=\"Diagrams/Class/UML_CD_how_to_define_behavior_features.png\"/>"
      ],
      "text/plain": [
       "<IPython.core.display.Image object>"
      ]
     },
     "execution_count": 23,
     "metadata": {},
     "output_type": "execute_result"
    }
   ],
   "source": [
    "from IPython.display import Image\n",
    "Image(url=\"Diagrams/Class/UML_CD_how_to_define_behavior_features.png\")"
   ]
  },
  {
   "cell_type": "code",
   "execution_count": 38,
   "id": "2098213c",
   "metadata": {},
   "outputs": [
    {
     "data": {
      "text/html": [
       "<img src=\"Diagrams/Class/UML_CD_property_features.png\"/>"
      ],
      "text/plain": [
       "<IPython.core.display.Image object>"
      ]
     },
     "execution_count": 38,
     "metadata": {},
     "output_type": "execute_result"
    }
   ],
   "source": [
    "from IPython.display import Image\n",
    "Image(url=\"Diagrams/Class/UML_CD_property_features.png\")"
   ]
  },
  {
   "cell_type": "code",
   "execution_count": 25,
   "id": "7d50761b",
   "metadata": {},
   "outputs": [
    {
     "data": {
      "text/html": [
       "<img src=\"Diagrams/Class/UML_CD_method_example.png\"/>"
      ],
      "text/plain": [
       "<IPython.core.display.Image object>"
      ]
     },
     "execution_count": 25,
     "metadata": {},
     "output_type": "execute_result"
    }
   ],
   "source": [
    "from IPython.display import Image\n",
    "Image(url=\"Diagrams/Class/UML_CD_method_example.png\")"
   ]
  },
  {
   "cell_type": "code",
   "execution_count": 27,
   "id": "8b6d7431",
   "metadata": {},
   "outputs": [
    {
     "data": {
      "text/html": [
       "<img src=\"Diagrams/Class/UML_CD_relationships.png\"/>"
      ],
      "text/plain": [
       "<IPython.core.display.Image object>"
      ]
     },
     "execution_count": 27,
     "metadata": {},
     "output_type": "execute_result"
    }
   ],
   "source": [
    "from IPython.display import Image\n",
    "Image(url=\"Diagrams/Class/UML_CD_relationships.png\")"
   ]
  },
  {
   "cell_type": "code",
   "execution_count": 33,
   "id": "319bad51",
   "metadata": {},
   "outputs": [
    {
     "data": {
      "text/html": [
       "<img src=\"Diagrams/Class/UML_CD_Association_link_one_direction.png\"/>"
      ],
      "text/plain": [
       "<IPython.core.display.Image object>"
      ]
     },
     "execution_count": 33,
     "metadata": {},
     "output_type": "execute_result"
    }
   ],
   "source": [
    "from IPython.display import Image\n",
    "Image(url=\"Diagrams/Class/UML_CD_Association_link_one_direction.png\")"
   ]
  },
  {
   "cell_type": "code",
   "execution_count": 18,
   "id": "b3b915fe",
   "metadata": {},
   "outputs": [
    {
     "data": {
      "text/html": [
       "<img src=\"Diagrams/Class/UML_CD_Association_link_one_direction_2.png\"/>"
      ],
      "text/plain": [
       "<IPython.core.display.Image object>"
      ]
     },
     "execution_count": 18,
     "metadata": {},
     "output_type": "execute_result"
    }
   ],
   "source": [
    "from IPython.display import Image\n",
    "Image(url=\"Diagrams/Class/UML_CD_Association_link_one_direction_2.png\")"
   ]
  },
  {
   "cell_type": "code",
   "execution_count": 17,
   "id": "2381afb0",
   "metadata": {},
   "outputs": [
    {
     "data": {
      "text/html": [
       "<img src=\"Diagrams/Class/UML_CD_Association_Link_one_bi_direction.png\"/>"
      ],
      "text/plain": [
       "<IPython.core.display.Image object>"
      ]
     },
     "execution_count": 17,
     "metadata": {},
     "output_type": "execute_result"
    }
   ],
   "source": [
    "from IPython.display import Image\n",
    "Image(url=\"Diagrams/Class/UML_CD_Association_Link_one_bi_direction.png\")"
   ]
  },
  {
   "cell_type": "code",
   "execution_count": 16,
   "id": "b523c082",
   "metadata": {},
   "outputs": [
    {
     "data": {
      "text/html": [
       "<img src=\"Diagrams/Class/UML_CD_association_class.png\"/>"
      ],
      "text/plain": [
       "<IPython.core.display.Image object>"
      ]
     },
     "execution_count": 16,
     "metadata": {},
     "output_type": "execute_result"
    }
   ],
   "source": [
    "from IPython.display import Image\n",
    "Image(url=\"Diagrams/Class/UML_CD_association_class.png\")"
   ]
  },
  {
   "cell_type": "code",
   "execution_count": 36,
   "id": "9e5c168f",
   "metadata": {},
   "outputs": [
    {
     "data": {
      "text/html": [
       "<img src=\"Diagrams/Class/UML_CD_Generalization_inheritance.png\"/>"
      ],
      "text/plain": [
       "<IPython.core.display.Image object>"
      ]
     },
     "execution_count": 36,
     "metadata": {},
     "output_type": "execute_result"
    }
   ],
   "source": [
    "from IPython.display import Image\n",
    "Image(url=\"Diagrams/Class/UML_CD_Generalization_inheritance.png\")"
   ]
  },
  {
   "cell_type": "code",
   "execution_count": 14,
   "id": "9037744d",
   "metadata": {},
   "outputs": [
    {
     "data": {
      "text/html": [
       "<img src=\"Diagrams/Class/UML_CD_aggregation_composition.png\"/>"
      ],
      "text/plain": [
       "<IPython.core.display.Image object>"
      ]
     },
     "execution_count": 14,
     "metadata": {},
     "output_type": "execute_result"
    }
   ],
   "source": [
    "from IPython.display import Image\n",
    "Image(url=\"Diagrams/Class/UML_CD_aggregation_composition.png\")"
   ]
  },
  {
   "cell_type": "code",
   "execution_count": 19,
   "id": "acb092d4",
   "metadata": {},
   "outputs": [
    {
     "data": {
      "text/html": [
       "<img src=\"Diagrams/Class/UML_CD_dependency.png\"/>"
      ],
      "text/plain": [
       "<IPython.core.display.Image object>"
      ]
     },
     "execution_count": 19,
     "metadata": {},
     "output_type": "execute_result"
    }
   ],
   "source": [
    "from IPython.display import Image\n",
    "Image(url=\"Diagrams/Class/UML_CD_dependency.png\")"
   ]
  },
  {
   "cell_type": "code",
   "execution_count": 20,
   "id": "b22d76b0",
   "metadata": {},
   "outputs": [
    {
     "data": {
      "text/html": [
       "<img src=\"Diagrams/Class/UML_CD_dependency_2.png\"/>"
      ],
      "text/plain": [
       "<IPython.core.display.Image object>"
      ]
     },
     "execution_count": 20,
     "metadata": {},
     "output_type": "execute_result"
    }
   ],
   "source": [
    "from IPython.display import Image\n",
    "Image(url=\"Diagrams/Class/UML_CD_dependency_2.png\")"
   ]
  },
  {
   "cell_type": "code",
   "execution_count": 28,
   "id": "dfeeb129",
   "metadata": {},
   "outputs": [
    {
     "data": {
      "text/html": [
       "<img src=\"Diagrams/Class/UML_CD_SD_General_iteration.png\"/>"
      ],
      "text/plain": [
       "<IPython.core.display.Image object>"
      ]
     },
     "execution_count": 28,
     "metadata": {},
     "output_type": "execute_result"
    }
   ],
   "source": [
    "from IPython.display import Image\n",
    "Image(url=\"Diagrams/Class/UML_CD_SD_General_iteration.png\")"
   ]
  },
  {
   "cell_type": "markdown",
   "id": "e4c2ce58",
   "metadata": {},
   "source": [
    "### How to generate class diagram from use case specification"
   ]
  },
  {
   "cell_type": "code",
   "execution_count": 29,
   "id": "eba0ad06",
   "metadata": {},
   "outputs": [
    {
     "data": {
      "text/html": [
       "<img src=\"Diagrams/Class/UML_CD_step1_get_UCD.png\"/>"
      ],
      "text/plain": [
       "<IPython.core.display.Image object>"
      ]
     },
     "execution_count": 29,
     "metadata": {},
     "output_type": "execute_result"
    }
   ],
   "source": [
    "from IPython.display import Image\n",
    "Image(url=\"Diagrams/Class/UML_CD_step1_get_UCD.png\")"
   ]
  },
  {
   "cell_type": "code",
   "execution_count": 30,
   "id": "c063feef",
   "metadata": {},
   "outputs": [
    {
     "data": {
      "text/html": [
       "<img src=\"Diagrams/Class/UML_CD_step2_from_noun_to_class.png\"/>"
      ],
      "text/plain": [
       "<IPython.core.display.Image object>"
      ]
     },
     "execution_count": 30,
     "metadata": {},
     "output_type": "execute_result"
    }
   ],
   "source": [
    "from IPython.display import Image\n",
    "Image(url=\"Diagrams/Class/UML_CD_step2_from_noun_to_class.png\")"
   ]
  },
  {
   "cell_type": "code",
   "execution_count": 31,
   "id": "205cc160",
   "metadata": {},
   "outputs": [
    {
     "data": {
      "text/html": [
       "<img src=\"Diagrams/Class/UML_CD_step3_from_noun_to_attribute.png\"/>"
      ],
      "text/plain": [
       "<IPython.core.display.Image object>"
      ]
     },
     "execution_count": 31,
     "metadata": {},
     "output_type": "execute_result"
    }
   ],
   "source": [
    "from IPython.display import Image\n",
    "Image(url=\"Diagrams/Class/UML_CD_step3_from_noun_to_attribute.png\")"
   ]
  },
  {
   "cell_type": "code",
   "execution_count": 32,
   "id": "df55ad5a",
   "metadata": {},
   "outputs": [
    {
     "data": {
      "text/html": [
       "<img src=\"Diagrams/Class/UML_CD_step4_from_verb_to_relation_feature.png\"/>"
      ],
      "text/plain": [
       "<IPython.core.display.Image object>"
      ]
     },
     "execution_count": 32,
     "metadata": {},
     "output_type": "execute_result"
    }
   ],
   "source": [
    "from IPython.display import Image\n",
    "Image(url=\"Diagrams/Class/UML_CD_step4_from_verb_to_relation_feature.png\")"
   ]
  },
  {
   "cell_type": "markdown",
   "id": "32dceb29",
   "metadata": {},
   "source": [
    "### Interaction Diagram\n",
    "* model dynamic behavior of a system, focus on interaction among the entities within a system\n",
    "  + sequence diagram\n",
    "    + need to know who the participants are and what interactions they have\n",
    "      + this requires iterative modeling\n",
    "    + most widely used interaction diagram\n",
    "    + capture the sequence of the interactions among entities and communication among classes\n",
    "      + by doing this, helps us to identify behavior that we need to implement in the code\n",
    "    + read in two dimension\n",
    "      + from top to bottom\n",
    "      + horizontally, from left to right, or from right to left defined by arrow directions\n",
    "    + elements include\n",
    "      + participants\n",
    "        + live objects in the system\n",
    "        + defined by name of object with an optional class name separated by a colon        \n",
    "      + lifeline\n",
    "        + goes from top to bottom showing the flow of time when object is alive\n",
    "        + all messages going to a lifeline mean a message to the paticipant attached to that lifeline\n",
    "          + messages that ask the participant to do something are shown with a solid arrow\n",
    "          + a participant's response to a message is shown as a dotted arrow          \n",
    "      + interaction messages\n",
    "      + activation or execution specification\n",
    "      + fragments\n",
    "      + example\n",
    "        + two participants: object A from class A and object B from class B\n",
    "        + the sequence is the following:\n",
    "          + object A receives a message from somewhere to start\n",
    "            + message from unkonwn entity is called as a found message\n",
    "            + message without any objects to response to them are lost messages\n",
    "            + here the start message is found by object A, which triggers this interaction\n",
    "          + object A send a message to object B to do something\n",
    "          + object B response with a value of type int \n",
    "            + an activation bar(optional) shows object B is alive in memory waiting for interaction to be completed\n",
    "            + can also be interpreted as object's method being on stackfor the duration of the activation bar\n",
    "    + iterative modeling\n",
    "      + first, we have requirements written down as use case specifications\n",
    "      + we then identify classes, attributes and relationships/associations\n",
    "        + this give us static modeling with class diagram\n",
    "      + from the verbs in use case, we get class methods\n",
    "      + when call these methods, we need to transfer messages, and define sequence diagram\n",
    "      + development of staic model with class diagrams and dynamic model with sequence diagrams goes back and forth\n",
    "      + iterations go until details of classes, attributes and methods required to write code and unit test cases are defined\n",
    "      + to identify methods in a class\n",
    "        + we never identify method in a class in isolation\n",
    "        + we look at other classes that interact with it to determine its method\n",
    "        + this technique indicates a truely agile approach in overall system development methodology\n",
    "        + modeling helps us \n",
    "          + not only in developing the system\n",
    "          + bring more clarity into the system requirements\n",
    "          + helps to keep our models aligned with requirements on one side and code on the other\n",
    "    + class diagram helps to define classes, attributes and associations\n",
    "    + sequence diagrams help to identify methods. How to do that?\n",
    "      + from the message to a participant, we can define methods:\n",
    "        + a start message to object A means object A is responsible for this message, so it is class A's method\n",
    "        + object A then send the dosomething message to object B\n",
    "        + dosomething message sent to object B translates to a method in class B, which returns an int\n",
    "        + it also tells us that class A and B are associated through this message exchange\n",
    "      + a message in a sequence diagram translates to a method in a class\n",
    "      + a message response translate to the method's return value\n",
    "      + whole interaction translates to an association between two classes\n",
    "  + fragments\n",
    "    + when you want to model some conditional exchange or repeatition of messages\n",
    "    + opt: option\n",
    "      + if statement without else. A send message to B, when condition is true, B send response to A\n",
    "    + alt: alteratives\n",
    "      + one or more alternative conditions, if the 1st condition is not true\n",
    "      + if statement with one or more else statement(s)\n",
    "    + loop\n",
    "      + a block of messages that continue to get passed as long as the condition is true\n",
    "      + example: A will ask B to increase count, and B will send count to A if count < 100         \n",
    "  + communication diagram\n",
    "    + similar to sequence diagram\n",
    "    + a variant of sequence diagram without a lifeline\n",
    "    + focus on links between objects\n",
    "    + sequence is shown by numbers in the messages\n",
    "    + sequence diagrams are easier to read, with better tool support\n",
    "    + easier draw and change than sequence diagram, but less well supported by tools, and sometimes hard to read\n",
    "    \n",
    "  + interaction overview diagram\n",
    "  + timeline diagram"
   ]
  },
  {
   "cell_type": "markdown",
   "id": "9ca5f29b",
   "metadata": {},
   "source": [
    "#### Questions\n",
    "* develop class and sequence diagrams in parallel interative\n",
    "  + so that the static structure is consistent with dynbamic bhavior of the system\n",
    "* you do not determine classes' exact type, e.g. concrete class, abstract class in the first round of analysis\n",
    "  + classifiers other than a regular class are ofen the results of applying design patterns\n",
    "    + therefore, the exact class types surface mostly during design time\n",
    "* from statments of use-case specification, verbs show the relationship between classes\n",
    "* from statements of use-case specification, find out whihc nouns are classifiers, and which are their attributes\n",
    "* swimlanes represent different actors involved in the activity workflow\n",
    "* the purpose of 'include' use case is to\n",
    "  + avoid repeating the same functionality across multiple use-cases, thereby removing inconsistencies"
   ]
  },
  {
   "cell_type": "code",
   "execution_count": 41,
   "id": "1055d388",
   "metadata": {},
   "outputs": [
    {
     "data": {
      "text/html": [
       "<img src=\"Diagrams/Sequence_Communication/UML_Interatction_Diagram.png\"/>"
      ],
      "text/plain": [
       "<IPython.core.display.Image object>"
      ]
     },
     "execution_count": 41,
     "metadata": {},
     "output_type": "execute_result"
    }
   ],
   "source": [
    "from IPython.display import Image\n",
    "Image(url=\"Diagrams/Sequence_Communication/UML_Interatction_Diagram.png\")"
   ]
  },
  {
   "cell_type": "code",
   "execution_count": 42,
   "id": "9818bb48",
   "metadata": {},
   "outputs": [
    {
     "data": {
      "text/html": [
       "<img src=\"Diagrams/Sequence_Communication/UML_SD_Key_Elements.png\"/>"
      ],
      "text/plain": [
       "<IPython.core.display.Image object>"
      ]
     },
     "execution_count": 42,
     "metadata": {},
     "output_type": "execute_result"
    }
   ],
   "source": [
    "from IPython.display import Image\n",
    "Image(url=\"Diagrams/Sequence_Communication/UML_SD_Key_Elements.png\")"
   ]
  },
  {
   "cell_type": "markdown",
   "id": "02c37e1b",
   "metadata": {},
   "source": [
    "#### How to define methods in class diagram from sequence diagram"
   ]
  },
  {
   "cell_type": "code",
   "execution_count": 43,
   "id": "27949133",
   "metadata": {},
   "outputs": [
    {
     "data": {
      "text/html": [
       "<img src=\"Diagrams/Sequence_Communication/UML_SD_from_SD_to_CD.png\"/>"
      ],
      "text/plain": [
       "<IPython.core.display.Image object>"
      ]
     },
     "execution_count": 43,
     "metadata": {},
     "output_type": "execute_result"
    }
   ],
   "source": [
    "from IPython.display import Image\n",
    "Image(url=\"Diagrams/Sequence_Communication/UML_SD_from_SD_to_CD.png\")"
   ]
  },
  {
   "cell_type": "markdown",
   "id": "19cc723e",
   "metadata": {},
   "source": [
    "#### Fragments"
   ]
  },
  {
   "cell_type": "code",
   "execution_count": 44,
   "id": "ce3776b0",
   "metadata": {},
   "outputs": [
    {
     "data": {
      "text/html": [
       "<img src=\"Diagrams/Sequence_Communication/UML_SD_Fragments_conditions_loop.png\"/>"
      ],
      "text/plain": [
       "<IPython.core.display.Image object>"
      ]
     },
     "execution_count": 44,
     "metadata": {},
     "output_type": "execute_result"
    }
   ],
   "source": [
    "from IPython.display import Image\n",
    "Image(url=\"Diagrams/Sequence_Communication/UML_SD_Fragments_conditions_loop.png\")"
   ]
  },
  {
   "cell_type": "markdown",
   "id": "cbcfb9bd",
   "metadata": {},
   "source": [
    "### Object Diagram\n",
    "* model example configurations of instances in a system\n",
    "* depicts snapshot of objects in a system at a point in time\n",
    "* instead of modeling classifiers, object diagrams represent their instances\n",
    "  + hence, object diagram is also known as instance diagram\n",
    "* very similar to class diagram with some differences\n",
    "* an object diagram consists of three components\n",
    "  + objects\n",
    "    + instances of a particular classifier\n",
    "    + can derive from class diagram, but \n",
    "      + object diagram use object name with optional class name separated by a colon\n",
    "      + in object diagram, the names are underlined to show it is an object diagram\n",
    "      + you can only show class name, but make sure use underline and put a colon before it\n",
    "        + usually you model an anonemous instance, such as an inner class instance\n",
    "    + can use partial or complete representation of instances\n",
    "  + attribute/slot  with their values\n",
    "    + attributes of the instance\n",
    "    + give the attribute values of the instance variables\n",
    "    + you don't need to show all the atrributes, just show the relavant attributes you are trying to model\n",
    "  + relationships among various objects alive at that snapshot in time  \n",
    "    + similar to class diagram\n",
    "      + have same notations and meanings in class diagrams, including\n",
    "        + association\n",
    "          + directed association\n",
    "          + bidirectional association\n",
    "          + aggregation\n",
    "          + composition\n",
    "        + generalization\n",
    "        "
   ]
  },
  {
   "cell_type": "code",
   "execution_count": 45,
   "id": "4744956e",
   "metadata": {},
   "outputs": [
    {
     "data": {
      "text/html": [
       "<img src=\"Diagrams/Object/UML_OD_general_notations.png\"/>"
      ],
      "text/plain": [
       "<IPython.core.display.Image object>"
      ]
     },
     "execution_count": 45,
     "metadata": {},
     "output_type": "execute_result"
    }
   ],
   "source": [
    "from IPython.display import Image\n",
    "Image(url=\"Diagrams/Object/UML_OD_general_notations.png\")"
   ]
  },
  {
   "cell_type": "code",
   "execution_count": 46,
   "id": "7a247146",
   "metadata": {},
   "outputs": [
    {
     "data": {
      "text/html": [
       "<img src=\"Diagrams/Object/UML_OD_example_CD.png\"/>"
      ],
      "text/plain": [
       "<IPython.core.display.Image object>"
      ]
     },
     "execution_count": 46,
     "metadata": {},
     "output_type": "execute_result"
    }
   ],
   "source": [
    "from IPython.display import Image\n",
    "Image(url=\"Diagrams/Object/UML_OD_example_CD.png\")"
   ]
  },
  {
   "cell_type": "code",
   "execution_count": 47,
   "id": "d349eb73",
   "metadata": {},
   "outputs": [
    {
     "data": {
      "text/html": [
       "<img src=\"Diagrams/Object/UML_OD_example_OD.png\"/>"
      ],
      "text/plain": [
       "<IPython.core.display.Image object>"
      ]
     },
     "execution_count": 47,
     "metadata": {},
     "output_type": "execute_result"
    }
   ],
   "source": [
    "from IPython.display import Image\n",
    "Image(url=\"Diagrams/Object/UML_OD_example_OD.png\")"
   ]
  },
  {
   "cell_type": "code",
   "execution_count": 48,
   "id": "6d38733f",
   "metadata": {},
   "outputs": [
    {
     "data": {
      "text/html": [
       "<img src=\"Diagrams/Object/UML_OD_from_CD_to_OD.png\"/>"
      ],
      "text/plain": [
       "<IPython.core.display.Image object>"
      ]
     },
     "execution_count": 48,
     "metadata": {},
     "output_type": "execute_result"
    }
   ],
   "source": [
    "from IPython.display import Image\n",
    "Image(url=\"Diagrams/Object/UML_OD_from_CD_to_OD.png\")"
   ]
  },
  {
   "cell_type": "markdown",
   "id": "2509a9a7",
   "metadata": {},
   "source": [
    "### State Machine Diagram\n",
    "* behavioral diagram that models different states and its transitions of an entity in a system\n",
    "* two types of state machine diagram\n",
    "  + behavioral: model event-driven behavior of an object\n",
    "  + protocol: model interaction sequences\n",
    "* key elements of state machine diagram\n",
    "  + states\n",
    "    + a state represent a single state of a single entity\n",
    "      + here entity means an object/instance of a class\n",
    "    + states are shown in rectangles with rounded corners\n",
    "      + states can be simple states. for example, as the lowest level being modeled\n",
    "      + states can be composite or super state which has several internal states and submachines\n",
    "        + here submachine is an entity modeled within a state diagram of a larger system\n",
    "          + one example is that a movie player is a submachine of a home theater\n",
    "    + apart from these states, there are nodes that represent start and end called pseudo nodes or states\n",
    "      + they do not represent real states, just a part to move in the flow\n",
    "    + notation consists of three compartments\n",
    "      + name\n",
    "      + label (internal behaviors and transitions), with gard/condition that need to be True for behavior to occur\n",
    "      + trigger that transition the state of object to other states within itself\n",
    "    + composite state\n",
    "      + to model hierarchy of states by nesting states within a higher abstraction of state\n",
    "      + just show the sub-state as simple states witin it, without its details\n",
    "      + this creates a hierarchical or layered representation of the system states\n",
    "  + transitions\n",
    "    + once you have several states identified, you can draw transitions from one to the other\n",
    "    + to model movement from one state to another, use the following notation:\n",
    "      + arrow from source to target \n",
    "      + label: trigger [guard]/activity (all of them are optional)\n",
    "        + a trigger is something happened outside of the object being modeled      \n",
    "  + regions\n",
    "    + model pattern processing in a state diagram\n",
    "    + regions are shown as fragments within a composite state\n",
    "    + if there are two regions in the state, then whatever shown in these regions will execute in parallel\n",
    "      + example: the in use state consists of two regions\n",
    "        + movie playing\n",
    "        + timer running\n",
    "        + these two regions run in parallel and go to pause and finished/stopped synchronously \n",
    "  + vertices\n",
    "        + an abstract term for nodes (both states and pseudostates) that are source or target of transitions  "
   ]
  },
  {
   "cell_type": "code",
   "execution_count": 50,
   "id": "f7b0d1b4",
   "metadata": {},
   "outputs": [
    {
     "data": {
      "text/html": [
       "<img src=\"Diagrams/State_Machine/UML_STD_general.png\"/>"
      ],
      "text/plain": [
       "<IPython.core.display.Image object>"
      ]
     },
     "execution_count": 50,
     "metadata": {},
     "output_type": "execute_result"
    }
   ],
   "source": [
    "from IPython.display import Image\n",
    "Image(url=\"Diagrams/State_Machine/UML_STD_general.png\")"
   ]
  },
  {
   "cell_type": "code",
   "execution_count": 51,
   "id": "379697c9",
   "metadata": {},
   "outputs": [
    {
     "data": {
      "text/html": [
       "<img src=\"Diagrams/State_Machine/UML_STD_object.png\"/>"
      ],
      "text/plain": [
       "<IPython.core.display.Image object>"
      ]
     },
     "execution_count": 51,
     "metadata": {},
     "output_type": "execute_result"
    }
   ],
   "source": [
    "from IPython.display import Image\n",
    "Image(url=\"Diagrams/State_Machine/UML_STD_object.png\")"
   ]
  },
  {
   "cell_type": "code",
   "execution_count": 54,
   "id": "8e105da7",
   "metadata": {},
   "outputs": [
    {
     "data": {
      "text/html": [
       "<img src=\"Diagrams/State_Machine/UML_STD_states.png\"/>"
      ],
      "text/plain": [
       "<IPython.core.display.Image object>"
      ]
     },
     "execution_count": 54,
     "metadata": {},
     "output_type": "execute_result"
    }
   ],
   "source": [
    "from IPython.display import Image\n",
    "Image(url=\"Diagrams/State_Machine/UML_STD_states.png\")"
   ]
  },
  {
   "cell_type": "code",
   "execution_count": 55,
   "id": "8209f78e",
   "metadata": {},
   "outputs": [
    {
     "data": {
      "text/html": [
       "<img src=\"Diagrams/State_Machine/UML_STD_transition.png\"/>"
      ],
      "text/plain": [
       "<IPython.core.display.Image object>"
      ]
     },
     "execution_count": 55,
     "metadata": {},
     "output_type": "execute_result"
    }
   ],
   "source": [
    "from IPython.display import Image\n",
    "Image(url=\"Diagrams/State_Machine/UML_STD_transition.png\")"
   ]
  },
  {
   "cell_type": "code",
   "execution_count": 53,
   "id": "f852d459",
   "metadata": {},
   "outputs": [
    {
     "data": {
      "text/html": [
       "<img src=\"Diagrams/State_Machine/UML_STD_vertices.png\"/>"
      ],
      "text/plain": [
       "<IPython.core.display.Image object>"
      ]
     },
     "execution_count": 53,
     "metadata": {},
     "output_type": "execute_result"
    }
   ],
   "source": [
    "from IPython.display import Image\n",
    "Image(url=\"Diagrams/State_Machine/UML_STD_vertices.png\")"
   ]
  },
  {
   "cell_type": "code",
   "execution_count": 52,
   "id": "27db0640",
   "metadata": {},
   "outputs": [
    {
     "data": {
      "text/html": [
       "<img src=\"Diagrams/State_Machine/UML_STD_regions.png\"/>"
      ],
      "text/plain": [
       "<IPython.core.display.Image object>"
      ]
     },
     "execution_count": 52,
     "metadata": {},
     "output_type": "execute_result"
    }
   ],
   "source": [
    "from IPython.display import Image\n",
    "Image(url=\"Diagrams/State_Machine/UML_STD_regions.png\")"
   ]
  },
  {
   "cell_type": "code",
   "execution_count": 49,
   "id": "a8cae56f",
   "metadata": {},
   "outputs": [
    {
     "data": {
      "text/html": [
       "<img src=\"Diagrams/State_Machine/UML_STD_composite_states_state_abstraction.png\"/>"
      ],
      "text/plain": [
       "<IPython.core.display.Image object>"
      ]
     },
     "execution_count": 49,
     "metadata": {},
     "output_type": "execute_result"
    }
   ],
   "source": [
    "from IPython.display import Image\n",
    "Image(url=\"Diagrams/State_Machine/UML_STD_composite_states_state_abstraction.png\")"
   ]
  },
  {
   "cell_type": "markdown",
   "id": "1064a86f",
   "metadata": {},
   "source": [
    "### Component Diagram\n",
    "* model systems in terms of autonomous, reusable modular units with interfaces \"wired\" together to form a system\n",
    "* only relavant when developing and using reusable components using a component based development (CBD) approach\n",
    "* similar to class diagram\n",
    "* three key components\n",
    "  + Components\n",
    "    + a self-contained unit that can be fitted in to a large system as a replaceable unit at design time or runtime\n",
    "    + has a stable interface specification\n",
    "      + any piece of software that meets that specification can play the role of that component\n",
    "    + example:\n",
    "      + digital order is the client and digitalitem is the supplier\n",
    "      + digital order implements ebillablility interface\n",
    "      + digital item component implements downloadable interface\n",
    "      + a piece of software can play the role of digital order component if they \n",
    "        + offer ebillable functionality and\n",
    "        + use downloadable functionality can \n",
    "    + notations\n",
    "      + a recctangle box    \n",
    "  + Interfaces\n",
    "    + define the component that tells us what the component can do\n",
    "    + example\n",
    "      + digitalorder provides ebillable functionality, and requires downloadable functionality implemented by its consumer\n",
    "      + components have two kinds of intefaces\n",
    "        + provided interfaces\n",
    "          + interfaces implemented by the component\n",
    "          + (lollipop)\n",
    "        + required interfaces\n",
    "          + socket\n",
    "          + interfaces that must be implemented by others to use the component\n",
    "  + Relationships\n",
    "    + lines connecting components indicating relationships among components\n",
    "      + can be modeled by lollipop or socket notation\n",
    "      + can also be explicitly modeled by showing all components as components"
   ]
  },
  {
   "cell_type": "code",
   "execution_count": 59,
   "id": "12a8d13d",
   "metadata": {},
   "outputs": [
    {
     "data": {
      "text/html": [
       "<img src=\"Diagrams/Component/UML_Component_general.png\"/>"
      ],
      "text/plain": [
       "<IPython.core.display.Image object>"
      ]
     },
     "execution_count": 59,
     "metadata": {},
     "output_type": "execute_result"
    }
   ],
   "source": [
    "from IPython.display import Image\n",
    "Image(url=\"Diagrams/Component/UML_Component_general.png\")"
   ]
  },
  {
   "cell_type": "code",
   "execution_count": 60,
   "id": "922fbf3f",
   "metadata": {},
   "outputs": [
    {
     "data": {
      "text/html": [
       "<img src=\"Diagrams/Component/UML_Component_Key_Elements.png\"/>"
      ],
      "text/plain": [
       "<IPython.core.display.Image object>"
      ]
     },
     "execution_count": 60,
     "metadata": {},
     "output_type": "execute_result"
    }
   ],
   "source": [
    "from IPython.display import Image\n",
    "Image(url=\"Diagrams/Component/UML_Component_Key_Elements.png\")"
   ]
  },
  {
   "cell_type": "code",
   "execution_count": 61,
   "id": "54819b71",
   "metadata": {},
   "outputs": [
    {
     "data": {
      "text/html": [
       "<img src=\"Diagrams/Component/UML_Component_notations.png\"/>"
      ],
      "text/plain": [
       "<IPython.core.display.Image object>"
      ]
     },
     "execution_count": 61,
     "metadata": {},
     "output_type": "execute_result"
    }
   ],
   "source": [
    "from IPython.display import Image\n",
    "Image(url=\"Diagrams/Component/UML_Component_notations.png\")"
   ]
  },
  {
   "cell_type": "code",
   "execution_count": 62,
   "id": "10164e00",
   "metadata": {},
   "outputs": [
    {
     "data": {
      "text/html": [
       "<img src=\"Diagrams/Component/UML_Components_two_way_show_relationships.png\"/>"
      ],
      "text/plain": [
       "<IPython.core.display.Image object>"
      ]
     },
     "execution_count": 62,
     "metadata": {},
     "output_type": "execute_result"
    }
   ],
   "source": [
    "from IPython.display import Image\n",
    "Image(url=\"Diagrams/Component/UML_Components_two_way_show_relationships.png\")"
   ]
  },
  {
   "cell_type": "code",
   "execution_count": 57,
   "id": "e0b91568",
   "metadata": {},
   "outputs": [
    {
     "data": {
      "text/html": [
       "<img src=\"Diagrams/Component/UML_Component_diagram_interfaces.png\"/>"
      ],
      "text/plain": [
       "<IPython.core.display.Image object>"
      ]
     },
     "execution_count": 57,
     "metadata": {},
     "output_type": "execute_result"
    }
   ],
   "source": [
    "from IPython.display import Image\n",
    "Image(url=\"Diagrams/Component/UML_Component_diagram_interfaces.png\")"
   ]
  },
  {
   "cell_type": "code",
   "execution_count": 58,
   "id": "3b66d981",
   "metadata": {},
   "outputs": [
    {
     "data": {
      "text/html": [
       "<img src=\"Diagrams/Component/UML_ComponentD_two_way_to_draw_interfaces.png\"/>"
      ],
      "text/plain": [
       "<IPython.core.display.Image object>"
      ]
     },
     "execution_count": 58,
     "metadata": {},
     "output_type": "execute_result"
    }
   ],
   "source": [
    "from IPython.display import Image\n",
    "Image(url=\"Diagrams/Component/UML_ComponentD_two_way_to_draw_interfaces.png\")"
   ]
  },
  {
   "cell_type": "markdown",
   "id": "de9dee8c",
   "metadata": {},
   "source": [
    "### Package Diagram\n",
    "* model the structure and organization of a large object-oriented system\n",
    "* useful when building complex system with hundreds of classes by package diagram to\n",
    "  + group hundreds of classes together\n",
    "  + create hierarchies\n",
    "  + show relationships across these groups and hierarchies\n",
    "  + you can have packages containing other packages\n",
    "  + abstract out the details of each class's relationships with other class\n",
    "    + focus on how big parts of the system fit together\n",
    "    + can show only package level details (how pacakges are related to each other)\n",
    "      + for example, there is a dependency relationship between two packages\n",
    "  + key elements\n",
    "    + package\n",
    "      + basically is a namespace\n",
    "        + helps to group related classifiers in a hierarchy\n",
    "        + provide a unique name for each of its members and avoid name confilcts in the entire system \n",
    "      + notation\n",
    "        + you can show all nesting of packages independently\n",
    "          + there is a big package, within which there is a smallpackage with which, Class1 and Class2\n",
    "        + or combine bigppackage and smallpakcage by fully qualified name, within which, show Class1, Class2\n",
    "        + or show the high level fully qualified name of package, and its member outside using ownership notation\n",
    "          + convenient to draw when you have many classes inside a package   \n",
    "    + relationship\n",
    "      + defines relationships among packages\n",
    "      + can use simple dependency arrow to show one package depends on the other\n",
    "      + or classify the relationship by stereotyping them\n",
    "        + commonly used relationships include merge and import\n",
    "          + merge\n",
    "            + contents of target package are combined into the source\n",
    "            + similar to generalization\n",
    "            + avoid cylic merge\n",
    "            + more conceptual rather than physical merge\n",
    "          + import\n",
    "            + model other forms of dependecies, such as generalization and association among elements across packages\n",
    "            + you can choose to either show or not show the details of the dependency\n"
   ]
  },
  {
   "cell_type": "code",
   "execution_count": 66,
   "id": "85cd2e77",
   "metadata": {},
   "outputs": [
    {
     "data": {
      "text/html": [
       "<img src=\"Diagrams/Package/UML_PD_Key_Elements.png\"/>"
      ],
      "text/plain": [
       "<IPython.core.display.Image object>"
      ]
     },
     "execution_count": 66,
     "metadata": {},
     "output_type": "execute_result"
    }
   ],
   "source": [
    "from IPython.display import Image\n",
    "Image(url=\"Diagrams/Package/UML_PD_Key_Elements.png\")"
   ]
  },
  {
   "cell_type": "code",
   "execution_count": 67,
   "id": "532959fc",
   "metadata": {},
   "outputs": [
    {
     "data": {
      "text/html": [
       "<img src=\"Diagrams/Package/UML_PD_highlevel_or_detailed.png\"/>"
      ],
      "text/plain": [
       "<IPython.core.display.Image object>"
      ]
     },
     "execution_count": 67,
     "metadata": {},
     "output_type": "execute_result"
    }
   ],
   "source": [
    "from IPython.display import Image\n",
    "Image(url=\"Diagrams/Package/UML_PD_highlevel_or_detailed.png\")"
   ]
  },
  {
   "cell_type": "code",
   "execution_count": 63,
   "id": "3a02440b",
   "metadata": {},
   "outputs": [
    {
     "data": {
      "text/html": [
       "<img src=\"Diagrams/Package/UML_PD_3_ways.png\"/>"
      ],
      "text/plain": [
       "<IPython.core.display.Image object>"
      ]
     },
     "execution_count": 63,
     "metadata": {},
     "output_type": "execute_result"
    }
   ],
   "source": [
    "from IPython.display import Image\n",
    "Image(url=\"Diagrams/Package/UML_PD_3_ways.png\")"
   ]
  },
  {
   "cell_type": "code",
   "execution_count": 68,
   "id": "2ef26b09",
   "metadata": {},
   "outputs": [
    {
     "data": {
      "text/html": [
       "<img src=\"Diagrams/Package/UML_PD_import.png\"/>"
      ],
      "text/plain": [
       "<IPython.core.display.Image object>"
      ]
     },
     "execution_count": 68,
     "metadata": {},
     "output_type": "execute_result"
    }
   ],
   "source": [
    "from IPython.display import Image\n",
    "Image(url=\"Diagrams/Package/UML_PD_import.png\")"
   ]
  },
  {
   "cell_type": "code",
   "execution_count": 69,
   "id": "fd47e168",
   "metadata": {},
   "outputs": [
    {
     "data": {
      "text/html": [
       "<img src=\"Diagrams/Package/UML_PD_merge.png\"/>"
      ],
      "text/plain": [
       "<IPython.core.display.Image object>"
      ]
     },
     "execution_count": 69,
     "metadata": {},
     "output_type": "execute_result"
    }
   ],
   "source": [
    "from IPython.display import Image\n",
    "Image(url=\"Diagrams/Package/UML_PD_merge.png\")"
   ]
  },
  {
   "cell_type": "code",
   "execution_count": 70,
   "id": "5f6a06a8",
   "metadata": {},
   "outputs": [
    {
     "data": {
      "text/html": [
       "<img src=\"Diagrams/Package/UML_PD_Low_level.png\"/>"
      ],
      "text/plain": [
       "<IPython.core.display.Image object>"
      ]
     },
     "execution_count": 70,
     "metadata": {},
     "output_type": "execute_result"
    }
   ],
   "source": [
    "from IPython.display import Image\n",
    "Image(url=\"Diagrams/Package/UML_PD_Low_level.png\")"
   ]
  },
  {
   "cell_type": "markdown",
   "id": "a232a4ac",
   "metadata": {},
   "source": [
    "### Deployment Diagram\n",
    "* how the software system will be laid out in the real world of devices, networks, db etc. runtime environments\n",
    "* used by architects and deployment teams to model runtime architecture of a system\n",
    "* captures where software and hardware components are located and how they are laid out\n",
    "* three key elements of the system\n",
    "  + nodes\n",
    "    + defines the deployment target that can host software (where the software can install)\n",
    "    + represent hardware and execution/run time environment the software is running    \n",
    "  + artifacts\n",
    "    + refers to what are deployed on the nodes\n",
    "    + examples are executables, JAR files, documents, HTML\n",
    "    + notation\n",
    "      + small rectangle with a document sign on the top right inside the box\n",
    "      + can also be outside of node with dependency defined with nodes\n",
    "      + when having many artifacts, just list artifact names inside nodes using text \n",
    "  + relationships\n",
    "    + two types of relationships between nodes and artifacts\n",
    "      + communication path\n",
    "        + two nodes talk to each other when software get executed\n",
    "        + bidirection communication path\n",
    "      + dependency\n",
    "        + between nodes and artifacts\n",
    "        + among artifacts"
   ]
  },
  {
   "cell_type": "code",
   "execution_count": 71,
   "id": "8c14de74",
   "metadata": {},
   "outputs": [
    {
     "data": {
      "text/html": [
       "<img src=\"Diagrams/Deployment/UML_DD_general.png\"/>"
      ],
      "text/plain": [
       "<IPython.core.display.Image object>"
      ]
     },
     "execution_count": 71,
     "metadata": {},
     "output_type": "execute_result"
    }
   ],
   "source": [
    "from IPython.display import Image\n",
    "Image(url=\"Diagrams/Deployment/UML_DD_general.png\")"
   ]
  },
  {
   "cell_type": "code",
   "execution_count": 72,
   "id": "67b42446",
   "metadata": {},
   "outputs": [
    {
     "data": {
      "text/html": [
       "<img src=\"Diagrams/Deployment/UML_DD_Key_Elements.png\"/>"
      ],
      "text/plain": [
       "<IPython.core.display.Image object>"
      ]
     },
     "execution_count": 72,
     "metadata": {},
     "output_type": "execute_result"
    }
   ],
   "source": [
    "from IPython.display import Image\n",
    "Image(url=\"Diagrams/Deployment/UML_DD_Key_Elements.png\")"
   ]
  },
  {
   "cell_type": "code",
   "execution_count": 73,
   "id": "ccd0dbef",
   "metadata": {},
   "outputs": [
    {
     "data": {
      "text/html": [
       "<img src=\"Diagrams/Deployment/UML_DD_Relationship_Communication.png\"/>"
      ],
      "text/plain": [
       "<IPython.core.display.Image object>"
      ]
     },
     "execution_count": 73,
     "metadata": {},
     "output_type": "execute_result"
    }
   ],
   "source": [
    "from IPython.display import Image\n",
    "Image(url=\"Diagrams/Deployment/UML_DD_Relationship_Communication.png\")"
   ]
  },
  {
   "cell_type": "markdown",
   "id": "361fc4a0",
   "metadata": {},
   "source": [
    "### Challenges\n",
    "* drawing object diagram discovers important information about objects that class diagram can not show\n",
    "  + in EventOrganizer and Request class, they are assoicated by eventOrganizerID and createdBy field\n",
    "  + Request and Event are associated by evenID\n",
    "  + Request, VenueCaretaker and ParkingManager are associated by parking Approvedid and venue Approvedid\n",
    "  + Request also has venueApprovalStatus and parkingApprovalStatus to complete the association\n",
    "* state diagram\n",
    "  + the objects whose states we want to model is event request, which has four states\n",
    "    + submit for approval\n",
    "      + in create box, there is an internal state that request is just created, but not submitted\n",
    "    + pending approval\n",
    "      + use regions to show two parallel process\n",
    "    + approved\n",
    "    + confirmed\n",
    "  "
   ]
  },
  {
   "cell_type": "markdown",
   "id": "a7ed6123",
   "metadata": {},
   "source": [
    "### Quiz\n",
    "* What is the purpose of deployment diagram\n",
    "  + model execution architecture of a system\n",
    "    + which hardware and execution environment will different parts of the software reside on\n",
    "  + It is a structural diagram\n",
    "    + gives a big-picture view of different parts of the hardware and software pieces for the system\n",
    "* Which of these is INCORRECT about package diagrams?\n",
    "  +  Package diagrams model interaction among packages\n",
    "    + Package diagrams are structural diagrams and do not show any behavioral interactions\n",
    "* what is true about package diagrams?\n",
    "  + Package diagrams show different layers and hierarchies in a system structure.\n",
    "  + Package diagrams model dependencies among packages.\n",
    "  + Package diagrams show different namespaces in a system\n",
    "* What is the most important aspect of a component that needs to be shown in a component diagram?\n",
    "  +  its provided and required interfaces\n",
    "    + A component diagram helps you see how different components use and offer functionalities to make the larger system work\n",
    "* What is modeled in a state diagram?\n",
    "  + any entity within a system, e.g. object or component, or the system itself, during its execution\n",
    "    + Only entities residing inside the system are modeled\n",
    "* What is the difference between object diagram and class diagram?\n",
    "  +  Object diagrams shows the state of objects in a system at a snapshot in time, whereas Class diagram shows the system's structure, which is maintained throughout the system's lifetime\n",
    "    + not all associations among objects may be shown among objects in an object diagram \n",
    "\n"
   ]
  },
  {
   "cell_type": "markdown",
   "id": "993ce8ab",
   "metadata": {},
   "source": [
    "### Interaction overview diagram\n",
    "* model the overview of control flow\n",
    "* it is a specialized activity diagram\n",
    "  + it shows interactions inside an action node using sequece diagram or communication diagram\n",
    "* notations\n",
    "  + almost the same as activity diagram\n",
    "    + include start, stop, decision, merge, fork and join and directional flow of arrows\n",
    "* difference beween activity diagram\n",
    "  + action node is replaced by three notations\n",
    "    + frame\n",
    "      + rectangle with a header at the top left indicating what action it represents\n",
    "        + in this diagram, header \"ref\" means an interaction\n",
    "        + the details of the interaction is not shwon, as it is an interaction use frame\n",
    "      + it then goes to another frame with title sd (sequence diagram) and DL verification\n",
    "        + within this frame, you can see interactions between two entities: Agent and DL scanner\n",
    "    + node\n",
    "      + interaction\n",
    "      + interaion use\n",
    "* easy to understand if you know the notations of activity and sequence diagrams      "
   ]
  },
  {
   "cell_type": "code",
   "execution_count": 74,
   "id": "5ada6c22",
   "metadata": {},
   "outputs": [
    {
     "data": {
      "text/html": [
       "<img src=\"Diagrams/Interaction_Overview/UML_IOD_general.png\"/>"
      ],
      "text/plain": [
       "<IPython.core.display.Image object>"
      ]
     },
     "execution_count": 74,
     "metadata": {},
     "output_type": "execute_result"
    }
   ],
   "source": [
    "from IPython.display import Image\n",
    "Image(url=\"Diagrams/Interaction_Overview/UML_IOD_general.png\")"
   ]
  },
  {
   "cell_type": "code",
   "execution_count": 75,
   "id": "431e837a",
   "metadata": {},
   "outputs": [
    {
     "data": {
      "text/html": [
       "<img src=\"Diagrams/Interaction_Overview/UML_IOD_Key_Elements.png\"/>"
      ],
      "text/plain": [
       "<IPython.core.display.Image object>"
      ]
     },
     "execution_count": 75,
     "metadata": {},
     "output_type": "execute_result"
    }
   ],
   "source": [
    "from IPython.display import Image\n",
    "Image(url=\"Diagrams/Interaction_Overview/UML_IOD_Key_Elements.png\")"
   ]
  },
  {
   "cell_type": "code",
   "execution_count": 76,
   "id": "740bc5e6",
   "metadata": {},
   "outputs": [
    {
     "data": {
      "text/html": [
       "<img src=\"Diagrams/Interaction_Overview/challenge_IOD.png\"/>"
      ],
      "text/plain": [
       "<IPython.core.display.Image object>"
      ]
     },
     "execution_count": 76,
     "metadata": {},
     "output_type": "execute_result"
    }
   ],
   "source": [
    "from IPython.display import Image\n",
    "Image(url=\"Diagrams/Interaction_Overview/challenge_IOD.png\")"
   ]
  },
  {
   "cell_type": "code",
   "execution_count": 77,
   "id": "46e2ac46",
   "metadata": {},
   "outputs": [
    {
     "data": {
      "text/html": [
       "<img src=\"Diagrams/Interaction_Overview/challenge_IOD_solution.png\"/>"
      ],
      "text/plain": [
       "<IPython.core.display.Image object>"
      ]
     },
     "execution_count": 77,
     "metadata": {},
     "output_type": "execute_result"
    }
   ],
   "source": [
    "from IPython.display import Image\n",
    "Image(url=\"Diagrams/Interaction_Overview/challenge_IOD_solution.png\")"
   ]
  },
  {
   "cell_type": "markdown",
   "id": "94d650b4",
   "metadata": {},
   "source": [
    "### Composite structure diagram\n",
    "* show decomposed internal structure of a classifier\n",
    "* It can also show a structure elements of the system such as\n",
    "  + class\n",
    "  + a component of an object\n",
    "* focus on how different elements come together when system is running\n",
    "* similar to component diagram, but shows what is inside these components\n",
    "* key elements\n",
    "  + clssifiers\n",
    "    + the element whose internal structure is modeled\n",
    "    + for example, a class or a component\n",
    "    + for layered structured system, you may have one component nested inside the other\n",
    "    + notations\n",
    "      + you can use component diagram\n",
    "      + or use a class diagram, but instead of using attributes, show the internal parts\n",
    "      + for both component and class diagrams, you can use lollipop and socket attached to ports\n",
    "        + they can be shown together, or separately, depending on needs\n",
    "  + parts\n",
    "    + internal elements of classifier being modeled\n",
    "    + are often composition elements\n",
    "      + parts are completely embeded in the classifier, not a shared element with other classifiers\n",
    "    + if it is an association relationship, show the box with a dashed outline, indicating a porous boundary\n",
    "    + there may be more than 1 part in classifier, can use number on its top left to show the quantity\n",
    "  + ports\n",
    "    + classifier's external connection ports\n",
    "    + notations\n",
    "      + small squares attached to the interfaces\n",
    "      + internally connect to through a dependency link with parts of the system\n",
    "  + interfaces\n",
    "  + connectors\n",
    "    + communication links among various parts of the system"
   ]
  },
  {
   "cell_type": "code",
   "execution_count": 79,
   "id": "e210b8c5",
   "metadata": {},
   "outputs": [
    {
     "data": {
      "text/html": [
       "<img src=\"Diagrams/Composite_Structure/UML_CSD_general.png\"/>"
      ],
      "text/plain": [
       "<IPython.core.display.Image object>"
      ]
     },
     "execution_count": 79,
     "metadata": {},
     "output_type": "execute_result"
    }
   ],
   "source": [
    "from IPython.display import Image\n",
    "Image(url=\"Diagrams/Composite_Structure/UML_CSD_general.png\")"
   ]
  },
  {
   "cell_type": "code",
   "execution_count": 80,
   "id": "6159961f",
   "metadata": {},
   "outputs": [
    {
     "data": {
      "text/html": [
       "<img src=\"Diagrams/Composite_Structure/UML_CSD_Key_Elements.png\"/>"
      ],
      "text/plain": [
       "<IPython.core.display.Image object>"
      ]
     },
     "execution_count": 80,
     "metadata": {},
     "output_type": "execute_result"
    }
   ],
   "source": [
    "from IPython.display import Image\n",
    "Image(url=\"Diagrams/Composite_Structure/UML_CSD_Key_Elements.png\")"
   ]
  },
  {
   "cell_type": "code",
   "execution_count": 78,
   "id": "dc9e7f17",
   "metadata": {},
   "outputs": [
    {
     "data": {
      "text/html": [
       "<img src=\"Diagrams/Composite_Structure/UML_CSD_connectors.png\"/>"
      ],
      "text/plain": [
       "<IPython.core.display.Image object>"
      ]
     },
     "execution_count": 78,
     "metadata": {},
     "output_type": "execute_result"
    }
   ],
   "source": [
    "from IPython.display import Image\n",
    "Image(url=\"Diagrams/Composite_Structure/UML_CSD_connectors.png\")"
   ]
  },
  {
   "cell_type": "code",
   "execution_count": 81,
   "id": "db952e42",
   "metadata": {},
   "outputs": [
    {
     "data": {
      "text/html": [
       "<img src=\"Diagrams/Composite_Structure/UML_CSD_nested_classifiers.png\"/>"
      ],
      "text/plain": [
       "<IPython.core.display.Image object>"
      ]
     },
     "execution_count": 81,
     "metadata": {},
     "output_type": "execute_result"
    }
   ],
   "source": [
    "from IPython.display import Image\n",
    "Image(url=\"Diagrams/Composite_Structure/UML_CSD_nested_classifiers.png\")"
   ]
  },
  {
   "cell_type": "markdown",
   "id": "8695cfd2",
   "metadata": {},
   "source": [
    "### Timing Diagram\n",
    "* a type of interaction diagram\n",
    "* model how the states of objects change over a period of time\n",
    "* the changes may be triggered by\n",
    "  + clock time\n",
    "  + message sent by another object\n",
    "* Example\n",
    "  + there are two objects in the diagram\n",
    "    + screen saver\n",
    "    + input sensor\n",
    "      + detect input from mouse or keyboard\n",
    "      + if it dose not sense any input for 2 mins, screen saver is activated\n",
    "        + later, when user press key board, a message is sent from input sensor to screensave to switch it off\n",
    "* key elements\n",
    "  + timeline\n",
    "    + a scale to mark clock time in any unit (often relative starting from zero)    \n",
    "  + frames\n",
    "    + represents the object whose lifeline is to be modeled\n",
    "  + lifelines\n",
    "    + represents how the state of object is chaning over time\n",
    "    + value lifeline\n",
    "      + used for screensaver to show its state (on and off)\n",
    "    + state lifeline\n",
    "      + used for input sensor (it has two values, active and waiting)\n",
    "  + messages\n",
    "    + model the interactions of the system\n",
    "    + in this example, you have one message, from input sensor to screensaver with label \"key pressed\""
   ]
  },
  {
   "cell_type": "markdown",
   "id": "5180cad7",
   "metadata": {},
   "source": [
    "### Quiz\n",
    "* What is the purpose of a composite structure diagram?\n",
    "  +  to model the internal structure of a classifier\n",
    "    + It is similar to a component diagram, but it shows the internal parts of a component\n",
    "* Which two UML diagrams are combined into an interaction overview diagram? \n",
    "  + activity and interaction diagram\n",
    "    + Interaction diagrams, usually sequence diagrams, show the internal interaction occurring within each activity   "
   ]
  },
  {
   "cell_type": "code",
   "execution_count": 82,
   "id": "ab41e1d6",
   "metadata": {},
   "outputs": [
    {
     "data": {
      "text/html": [
       "<img src=\"Diagrams/Timing/UML_TD_Key_Elements.png\"/>"
      ],
      "text/plain": [
       "<IPython.core.display.Image object>"
      ]
     },
     "execution_count": 82,
     "metadata": {},
     "output_type": "execute_result"
    }
   ],
   "source": [
    "from IPython.display import Image\n",
    "Image(url=\"Diagrams/Timing/UML_TD_Key_Elements.png\")"
   ]
  },
  {
   "cell_type": "code",
   "execution_count": 83,
   "id": "4769d3d2",
   "metadata": {},
   "outputs": [
    {
     "data": {
      "text/html": [
       "<img src=\"Diagrams/Timing/UML_TD_lifelines.png\"/>"
      ],
      "text/plain": [
       "<IPython.core.display.Image object>"
      ]
     },
     "execution_count": 83,
     "metadata": {},
     "output_type": "execute_result"
    }
   ],
   "source": [
    "from IPython.display import Image\n",
    "Image(url=\"Diagrams/Timing/UML_TD_lifelines.png\")"
   ]
  },
  {
   "cell_type": "code",
   "execution_count": 84,
   "id": "fef2150b",
   "metadata": {},
   "outputs": [
    {
     "data": {
      "text/html": [
       "<img src=\"Diagrams/Timing/UML_TD_message.png\"/>"
      ],
      "text/plain": [
       "<IPython.core.display.Image object>"
      ]
     },
     "execution_count": 84,
     "metadata": {},
     "output_type": "execute_result"
    }
   ],
   "source": [
    "from IPython.display import Image\n",
    "Image(url=\"Diagrams/Timing/UML_TD_message.png\")"
   ]
  },
  {
   "cell_type": "markdown",
   "id": "4b7ffeb2",
   "metadata": {},
   "source": [
    "### Challenge 1"
   ]
  },
  {
   "cell_type": "code",
   "execution_count": 85,
   "id": "b73fa435",
   "metadata": {},
   "outputs": [
    {
     "data": {
      "text/html": [
       "<img src=\"Diagrams/Challenge1/challenge_CD_SD.png\"/>"
      ],
      "text/plain": [
       "<IPython.core.display.Image object>"
      ]
     },
     "execution_count": 85,
     "metadata": {},
     "output_type": "execute_result"
    }
   ],
   "source": [
    "from IPython.display import Image\n",
    "Image(url=\"Diagrams/Challenge1/challenge_CD_SD.png\")"
   ]
  },
  {
   "cell_type": "code",
   "execution_count": 87,
   "id": "87955b40",
   "metadata": {},
   "outputs": [
    {
     "data": {
      "text/html": [
       "<img src=\"Diagrams/Challenge1/challenge_CD_SD_step1.png\"/>"
      ],
      "text/plain": [
       "<IPython.core.display.Image object>"
      ]
     },
     "execution_count": 87,
     "metadata": {},
     "output_type": "execute_result"
    }
   ],
   "source": [
    "from IPython.display import Image\n",
    "Image(url=\"Diagrams/Challenge1/challenge_CD_SD_step1.png\")"
   ]
  },
  {
   "cell_type": "code",
   "execution_count": 88,
   "id": "ea8bf2c3",
   "metadata": {},
   "outputs": [
    {
     "data": {
      "text/html": [
       "<img src=\"Diagrams/Challenge1/challenge_CD_SD_step2.png\"/>"
      ],
      "text/plain": [
       "<IPython.core.display.Image object>"
      ]
     },
     "execution_count": 88,
     "metadata": {},
     "output_type": "execute_result"
    }
   ],
   "source": [
    "from IPython.display import Image\n",
    "Image(url=\"Diagrams/Challenge1/challenge_CD_SD_step2.png\")"
   ]
  },
  {
   "cell_type": "code",
   "execution_count": 89,
   "id": "ebfac406",
   "metadata": {},
   "outputs": [
    {
     "data": {
      "text/html": [
       "<img src=\"Diagrams/Challenge1/challenge_CD_SD_step2_details.png\"/>"
      ],
      "text/plain": [
       "<IPython.core.display.Image object>"
      ]
     },
     "execution_count": 89,
     "metadata": {},
     "output_type": "execute_result"
    }
   ],
   "source": [
    "from IPython.display import Image\n",
    "Image(url=\"Diagrams/Challenge1/challenge_CD_SD_step2_details.png\")"
   ]
  },
  {
   "cell_type": "code",
   "execution_count": 90,
   "id": "7fab0eba",
   "metadata": {},
   "outputs": [
    {
     "data": {
      "text/html": [
       "<img src=\"Diagrams/Challenge1/challenge_CD_SD_step3.png\"/>"
      ],
      "text/plain": [
       "<IPython.core.display.Image object>"
      ]
     },
     "execution_count": 90,
     "metadata": {},
     "output_type": "execute_result"
    }
   ],
   "source": [
    "from IPython.display import Image\n",
    "Image(url=\"Diagrams/Challenge1/challenge_CD_SD_step3.png\")"
   ]
  },
  {
   "cell_type": "code",
   "execution_count": 91,
   "id": "11a87322",
   "metadata": {},
   "outputs": [
    {
     "data": {
      "text/html": [
       "<img src=\"Diagrams/Challenge1/challenge_CD_SD_step4_1.png\"/>"
      ],
      "text/plain": [
       "<IPython.core.display.Image object>"
      ]
     },
     "execution_count": 91,
     "metadata": {},
     "output_type": "execute_result"
    }
   ],
   "source": [
    "from IPython.display import Image\n",
    "Image(url=\"Diagrams/Challenge1/challenge_CD_SD_step4_1.png\")"
   ]
  },
  {
   "cell_type": "code",
   "execution_count": 92,
   "id": "07893fdc",
   "metadata": {},
   "outputs": [
    {
     "data": {
      "text/html": [
       "<img src=\"Diagrams/Challenge1/challenge_CD_SD_step4_2.png\"/>"
      ],
      "text/plain": [
       "<IPython.core.display.Image object>"
      ]
     },
     "execution_count": 92,
     "metadata": {},
     "output_type": "execute_result"
    }
   ],
   "source": [
    "from IPython.display import Image\n",
    "Image(url=\"Diagrams/Challenge1/challenge_CD_SD_step4_2.png\")"
   ]
  },
  {
   "cell_type": "markdown",
   "id": "88f2be79",
   "metadata": {},
   "source": [
    "### Challenge 2"
   ]
  },
  {
   "cell_type": "code",
   "execution_count": 93,
   "id": "8253061a",
   "metadata": {},
   "outputs": [
    {
     "data": {
      "text/html": [
       "<img src=\"Diagrams/Challenge2/challenge_OD_STD.png\"/>"
      ],
      "text/plain": [
       "<IPython.core.display.Image object>"
      ]
     },
     "execution_count": 93,
     "metadata": {},
     "output_type": "execute_result"
    }
   ],
   "source": [
    "from IPython.display import Image\n",
    "Image(url=\"Diagrams/Challenge2/challenge_OD_STD.png\")"
   ]
  },
  {
   "cell_type": "code",
   "execution_count": 94,
   "id": "041a5a78",
   "metadata": {},
   "outputs": [
    {
     "data": {
      "text/html": [
       "<img src=\"Diagrams/Challenge2/challenge_OD_STD_OD.png\"/>"
      ],
      "text/plain": [
       "<IPython.core.display.Image object>"
      ]
     },
     "execution_count": 94,
     "metadata": {},
     "output_type": "execute_result"
    }
   ],
   "source": [
    "from IPython.display import Image\n",
    "Image(url=\"Diagrams/Challenge2/challenge_OD_STD_OD.png\")"
   ]
  },
  {
   "cell_type": "code",
   "execution_count": 95,
   "id": "4c45e444",
   "metadata": {},
   "outputs": [
    {
     "data": {
      "text/html": [
       "<img src=\"Diagrams/Challenge2/challenge_OD_STD_STD.png\"/>"
      ],
      "text/plain": [
       "<IPython.core.display.Image object>"
      ]
     },
     "execution_count": 95,
     "metadata": {},
     "output_type": "execute_result"
    }
   ],
   "source": [
    "from IPython.display import Image\n",
    "Image(url=\"Diagrams/Challenge2/challenge_OD_STD_STD.png\")"
   ]
  },
  {
   "cell_type": "code",
   "execution_count": null,
   "id": "3151eece",
   "metadata": {},
   "outputs": [],
   "source": []
  }
 ],
 "metadata": {
  "kernelspec": {
   "display_name": "Python 3 (ipykernel)",
   "language": "python",
   "name": "python3"
  },
  "language_info": {
   "codemirror_mode": {
    "name": "ipython",
    "version": 3
   },
   "file_extension": ".py",
   "mimetype": "text/x-python",
   "name": "python",
   "nbconvert_exporter": "python",
   "pygments_lexer": "ipython3",
   "version": "3.10.4"
  }
 },
 "nbformat": 4,
 "nbformat_minor": 5
}
