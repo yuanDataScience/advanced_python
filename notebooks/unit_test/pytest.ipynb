{
 "cells": [
  {
   "cell_type": "markdown",
   "id": "e56e8d59",
   "metadata": {},
   "source": [
    "## Pytest\n",
    "* A useful referenc from [a blog](https://blogs.sap.com/2022/02/16/how-to-write-independent-unit-test-with-pytest-and-mock-techniques/)\n",
    "* A more in-depth [blog](https://medium.com/@manuktiwary/mocking-in-pytest-910cbef5a4a9)"
   ]
  },
  {
   "cell_type": "code",
   "execution_count": 1,
   "id": "83ce9a09",
   "metadata": {},
   "outputs": [
    {
     "name": "stdout",
     "output_type": "stream",
     "text": [
      "Defaulting to user installation because normal site-packages is not writeable\n",
      "Requirement already satisfied: pytest in c:\\users\\huangy07\\appdata\\roaming\\python\\python310\\site-packages (7.2.0)\n",
      "Requirement already satisfied: attrs>=19.2.0 in c:\\users\\huangy07\\appdata\\roaming\\python\\python310\\site-packages (from pytest) (21.4.0)\n",
      "Requirement already satisfied: iniconfig in c:\\users\\huangy07\\appdata\\roaming\\python\\python310\\site-packages (from pytest) (1.1.1)\n",
      "Requirement already satisfied: packaging in c:\\users\\huangy07\\appdata\\roaming\\python\\python310\\site-packages (from pytest) (23.1)\n",
      "Requirement already satisfied: pluggy<2.0,>=0.12 in c:\\users\\huangy07\\appdata\\roaming\\python\\python310\\site-packages (from pytest) (1.0.0)\n",
      "Requirement already satisfied: exceptiongroup>=1.0.0rc8 in c:\\users\\huangy07\\appdata\\roaming\\python\\python310\\site-packages (from pytest) (1.1.0)\n",
      "Requirement already satisfied: tomli>=1.0.0 in c:\\users\\huangy07\\appdata\\roaming\\python\\python310\\site-packages (from pytest) (2.0.1)\n",
      "Requirement already satisfied: colorama in c:\\users\\huangy07\\appdata\\roaming\\python\\python310\\site-packages (from pytest) (0.4.6)\n",
      "Defaulting to user installation because normal site-packages is not writeable\n",
      "Collecting pytest-mock\n",
      "  Downloading pytest_mock-3.11.1-py3-none-any.whl (9.6 kB)\n",
      "Requirement already satisfied: pytest>=5.0 in c:\\users\\huangy07\\appdata\\roaming\\python\\python310\\site-packages (from pytest-mock) (7.2.0)\n",
      "Requirement already satisfied: attrs>=19.2.0 in c:\\users\\huangy07\\appdata\\roaming\\python\\python310\\site-packages (from pytest>=5.0->pytest-mock) (21.4.0)\n",
      "Requirement already satisfied: iniconfig in c:\\users\\huangy07\\appdata\\roaming\\python\\python310\\site-packages (from pytest>=5.0->pytest-mock) (1.1.1)\n",
      "Requirement already satisfied: packaging in c:\\users\\huangy07\\appdata\\roaming\\python\\python310\\site-packages (from pytest>=5.0->pytest-mock) (23.1)\n",
      "Requirement already satisfied: pluggy<2.0,>=0.12 in c:\\users\\huangy07\\appdata\\roaming\\python\\python310\\site-packages (from pytest>=5.0->pytest-mock) (1.0.0)\n",
      "Requirement already satisfied: exceptiongroup>=1.0.0rc8 in c:\\users\\huangy07\\appdata\\roaming\\python\\python310\\site-packages (from pytest>=5.0->pytest-mock) (1.1.0)\n",
      "Requirement already satisfied: tomli>=1.0.0 in c:\\users\\huangy07\\appdata\\roaming\\python\\python310\\site-packages (from pytest>=5.0->pytest-mock) (2.0.1)\n",
      "Requirement already satisfied: colorama in c:\\users\\huangy07\\appdata\\roaming\\python\\python310\\site-packages (from pytest>=5.0->pytest-mock) (0.4.6)\n",
      "Installing collected packages: pytest-mock\n",
      "Successfully installed pytest-mock-3.11.1\n"
     ]
    }
   ],
   "source": [
    "!python -m pip install pytest\n",
    "!python -m pip install pytest-mock"
   ]
  },
  {
   "cell_type": "code",
   "execution_count": 4,
   "id": "f99c01fb",
   "metadata": {},
   "outputs": [
    {
     "name": "stdout",
     "output_type": "stream",
     "text": [
      "7.2.0\n"
     ]
    }
   ],
   "source": [
    "import pytest\n",
    "\n",
    "print(pytest.__version__)"
   ]
  },
  {
   "cell_type": "code",
   "execution_count": 5,
   "id": "c3166e64",
   "metadata": {},
   "outputs": [],
   "source": [
    "import pytest\n",
    "import requests\n",
    "from unittest.mock import Mock\n",
    "\n",
    "# define a fixture to return the request return value\n",
    "# this mocks the http requests to any url\n",
    "@pytest.fixture\n",
    "def mock_get(mocker):\n",
    "    mock = Mock()\n",
    "    mocker.patch('requests.get', return_value=mock)\n",
    "    return mock\n",
    "\n",
    "\n",
    "# call the fixture, and set the returned response values\n",
    "def test_get_request(mock_get):\n",
    "    mock_response = mock_get\n",
    "    mock_response.ok = True\n",
    "    mock_response.status_code = 200\n",
    "    mock_response.json.return_value = {'key': 'value'} \n",
    "    \n",
    "    # call the http request get method. since the function\n",
    "    # has been mocked, will return the set values in response\n",
    "    response = requests.get('http://example.com')\n",
    "    \n",
    "    assert response.status_code == 200\n",
    "    assert response.json() == {'key': 'value'}\n",
    "    \n",
    "# we can directly use mocker in the test function, unless the fixture\n",
    "# will be used in multiple test functions\n",
    "def test_request_by_mocker(mocker):\n",
    "    mock_response = mocker.patch('requests.get').return_value\n",
    "    mock_response.ok = True\n",
    "    mock_response.status_code = 200\n",
    "    mock_response.json.return_value = {'key': 'value'}\n",
    "    response = requests.get('http://example.com')\n",
    "    \n",
    "    assert response.status_code == 200\n",
    "    assert response.json() == {'key': 'value'}\n",
    "    \n",
    "    "
   ]
  },
  {
   "cell_type": "code",
   "execution_count": 22,
   "id": "afa5a693",
   "metadata": {},
   "outputs": [
    {
     "name": "stdout",
     "output_type": "stream",
     "text": [
      "============================= test session starts =============================\n",
      "platform win32 -- Python 3.10.4, pytest-7.2.0, pluggy-1.0.0\n",
      "rootdir: C:\\Users\\HuangY07\\Documents\\git_repo\\advanced_python\\notebooks\\unit_test\n",
      "plugins: anyio-3.6.2, mock-3.11.1\n",
      "collected 10 items\n",
      "\n",
      "test_calc.py ....                                                        [ 40%]\n",
      "test_employee.py ....                                                    [ 80%]\n",
      "test_fixtures.py ..                                                      [100%]\n",
      "\n",
      "============================= 10 passed in 0.33s ==============================\n"
     ]
    }
   ],
   "source": [
    "!pytest ."
   ]
  },
  {
   "cell_type": "code",
   "execution_count": null,
   "id": "d7696944",
   "metadata": {},
   "outputs": [],
   "source": []
  }
 ],
 "metadata": {
  "kernelspec": {
   "display_name": "Python 3 (ipykernel)",
   "language": "python",
   "name": "python3"
  },
  "language_info": {
   "codemirror_mode": {
    "name": "ipython",
    "version": 3
   },
   "file_extension": ".py",
   "mimetype": "text/x-python",
   "name": "python",
   "nbconvert_exporter": "python",
   "pygments_lexer": "ipython3",
   "version": "3.10.4"
  }
 },
 "nbformat": 4,
 "nbformat_minor": 5
}
